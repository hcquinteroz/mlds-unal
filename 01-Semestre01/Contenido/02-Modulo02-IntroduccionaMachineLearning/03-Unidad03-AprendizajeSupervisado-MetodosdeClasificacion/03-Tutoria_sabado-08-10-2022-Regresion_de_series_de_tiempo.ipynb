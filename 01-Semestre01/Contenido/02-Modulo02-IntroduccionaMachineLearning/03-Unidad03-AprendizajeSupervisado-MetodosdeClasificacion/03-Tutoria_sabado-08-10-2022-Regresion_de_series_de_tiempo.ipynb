{
  "nbformat": 4,
  "nbformat_minor": 0,
  "metadata": {
    "colab": {
      "provenance": []
    },
    "kernelspec": {
      "name": "python3",
      "display_name": "Python 3"
    },
    "language_info": {
      "name": "python"
    },
    "widgets": {
      "application/vnd.jupyter.widget-state+json": {
        "61b5bcf6aa0648fd85e3e64f92a924e6": {
          "model_module": "@jupyter-widgets/controls",
          "model_name": "VBoxModel",
          "model_module_version": "1.5.0",
          "state": {
            "_dom_classes": [
              "widget-interact"
            ],
            "_model_module": "@jupyter-widgets/controls",
            "_model_module_version": "1.5.0",
            "_model_name": "VBoxModel",
            "_view_count": null,
            "_view_module": "@jupyter-widgets/controls",
            "_view_module_version": "1.5.0",
            "_view_name": "VBoxView",
            "box_style": "",
            "children": [
              "IPY_MODEL_541293c7e0b04d2c87e22ff59c5254c9",
              "IPY_MODEL_f335ac8d83ac4005b61f79179c0019f2"
            ],
            "layout": "IPY_MODEL_88cf20e1fccb4e808457b11c8cdf50da"
          }
        },
        "541293c7e0b04d2c87e22ff59c5254c9": {
          "model_module": "@jupyter-widgets/controls",
          "model_name": "IntSliderModel",
          "model_module_version": "1.5.0",
          "state": {
            "_dom_classes": [],
            "_model_module": "@jupyter-widgets/controls",
            "_model_module_version": "1.5.0",
            "_model_name": "IntSliderModel",
            "_view_count": null,
            "_view_module": "@jupyter-widgets/controls",
            "_view_module_version": "1.5.0",
            "_view_name": "IntSliderView",
            "continuous_update": true,
            "description": "t0",
            "description_tooltip": null,
            "disabled": false,
            "layout": "IPY_MODEL_8840d9a6ec124e20917004745252aca1",
            "max": 599,
            "min": 0,
            "orientation": "horizontal",
            "readout": true,
            "readout_format": "d",
            "step": 1,
            "style": "IPY_MODEL_bcd0cf8f233743cab0b7ab9e020a32cc",
            "value": 340
          }
        },
        "f335ac8d83ac4005b61f79179c0019f2": {
          "model_module": "@jupyter-widgets/output",
          "model_name": "OutputModel",
          "model_module_version": "1.0.0",
          "state": {
            "_dom_classes": [],
            "_model_module": "@jupyter-widgets/output",
            "_model_module_version": "1.0.0",
            "_model_name": "OutputModel",
            "_view_count": null,
            "_view_module": "@jupyter-widgets/output",
            "_view_module_version": "1.0.0",
            "_view_name": "OutputView",
            "layout": "IPY_MODEL_f6377e5a589f472886a6ea7b426cc5d9",
            "msg_id": "",
            "outputs": [
              {
                "output_type": "display_data",
                "data": {
                  "text/plain": "<Figure size 432x288 with 1 Axes>",
                  "image/png": "iVBORw0KGgoAAAANSUhEUgAAAXwAAAD4CAYAAADvsV2wAAAABHNCSVQICAgIfAhkiAAAAAlwSFlzAAALEgAACxIB0t1+/AAAADh0RVh0U29mdHdhcmUAbWF0cGxvdGxpYiB2ZXJzaW9uMy4yLjIsIGh0dHA6Ly9tYXRwbG90bGliLm9yZy+WH4yJAAAgAElEQVR4nO2dd3wUdfrHP9/tqSQhhA4JndBC6CKIiAiiYFfsKOcB9vLz0PMsp96pJ+pZTg45y9lQwXYqgihIkd57NUBoCSGE1K3f3x8zszs7O7ub7O7szM5+368XL2a+Mzvz7GbmmWee71MIpRQMBoPB0D8GtQVgMBgMRnxgCp/BYDCSBKbwGQwGI0lgCp/BYDCSBKbwGQwGI0kwqS1AMHJzc2l+fr7aYjAYDEZCsXHjxtOU0hZy2zSr8PPz87Fhwwa1xWAwGIyEghByONg25tJhMBiMJIEpfAaDwUgSmMJnMBiMJEGzPnwGg6EPnE4nSktL0dDQoLYousJms6Fdu3Ywm82N/gxT+AwGQ1FKS0uRkZGB/Px8EELUFkcXUEpRUVGB0tJSFBQUNPpzzKXDYDAUpaGhAc2bN2fKPoYQQtC8efMmvzUxhc9gMBSHKfvYE8lvqluFX+9wY/7GUrDyzwwGg8GhW4X/0qI9eOSLrVix/7TaojAYDJUxGo0oKipCr1690K9fP8yaNQsejyfkZ0pKSvDJJ5/EScL4oFuFX1Hj4P6vtassCYPBUJuUlBRs2bIFO3fuxE8//YSFCxfimWeeCfkZpvATCKuJ+2oNztBPcQaDkVzk5eVhzpw5ePPNN0EpRUlJCUaMGIHi4mIUFxfjt99+AwDMnDkTK1asQFFREV599VU0NDRgypQp6NOnD/r374+lS5cCAHbu3InBgwejqKgIffv2xf79+9X8eiHRbVimzWwEANidbpUlYTAYAs/8byd2HT8X02MWtsnEU5f3atJnOnXqBLfbjbKyMuTl5eGnn36CzWbD/v37MXnyZGzYsAEvvPACXn75ZXz33XcAgFmzZoEQgu3bt2PPnj0YO3Ys9u3bh9mzZ+P+++/HTTfdBIfDAbdbuzpHtwpfsPDrmMJnMBghcDqduOeee7BlyxYYjUbs27dPdr+VK1fi3nvvBQD06NEDHTt2xL59+zBs2DA8//zzKC0txVVXXYWuXbvGU/wmoVuFL8TmVNU5VZWDwWD4aKolrhSHDh2C0WhEXl4ennnmGbRs2RJbt26Fx+OBzWZr0rFuvPFGDBkyBN9//z0uvfRS/Pvf/8bo0aMVkjw6dOvDr+ct+3MNTOEzGAwf5eXlmDZtGu655x4QQlBVVYXWrVvDYDDgww8/9LpkMjIyUF1d7f3ciBEj8PHHHwMA9u3bhyNHjqB79+44dOgQOnXqhPvuuw+TJk3Ctm3bVPlejUG3Fn6Dg/uj2V1s0pbBSHbq6+tRVFQEp9MJk8mEW265BQ899BAAYMaMGbj66qvx3//+F+PGjUNaWhoAoG/fvjAajejXrx9uv/12zJgxA9OnT0efPn1gMpnw/vvvw2q14vPPP8eHH34Is9mMVq1a4fHHH1fzq4aEaDUxaeDAgTSaBijTP9qIhTtOYkLf1njrxuIYSsZgMJrC7t270bNnT7XF0CVyvy0hZCOldKDc/rp36didHtTaXXhtyT443czaZzAYyUtMFD4h5F1CSBkhZEeQ7YQQ8joh5AAhZBshRHGTu87r0nHj5cV78dqS/fhu23GlT8tgMBiaJVYW/vsAxoXYPh5AV/7fXQDejtF5g9LAW/gOlwen+axbAyvgxGAwkpiYKHxK6XIAZ0LsMgnAfynHGgBZhJDWsTh3MOpFk7Z1dhcAINWi2zlqBoPBCEu8NGBbAEdF66X82AnxToSQu8C9AaBDhw5RnVDw4W85etY7JiRjMRgMRjKiKQ1IKZ1DKR1IKR3YokWLiI/zw/YTKK2sDxh3e7QZkcRgMBjxIF4K/xiA9qL1dvyYIsz4eJPsuIspfAYj6bjwwguxaNEiv7HXXnsN06dPb9Jxli1b5i2slqjES+F/C+BWPlpnKIAqSumJcB+KNS4WlslgJB2TJ0/GvHnz/MbmzZuHyZMnN+k4TOHzEEI+BbAaQHdCSCkh5E5CyDRCyDR+lx8AHAJwAMA7AGbE4rxNxcksfAYj6bjmmmvw/fffw+HgovVKSkpw/Phx1NfXY9iwYSguLsa1116LmpoaAEB+fj6eeuopFBcXo0+fPtizZw9KSkowe/ZsvPrqqygqKsKKFSvwv//9D0OGDEH//v0xZswYnDp1CgDw9NNP44477sCoUaPQqVMnvP76615ZrrjiCgwYMAC9evXCnDlz4v5bxGTSllIa8lFJuXTeu2NxrmhgFj6DoTILZwInt8f2mK36AONfCLo5JycHgwcPxsKFCzFp0iTMmzcPY8eOxfPPP48lS5YgLS0NL774Il555RU8+eSTAIDc3Fxs2rQJ//rXv/Dyyy9j7ty5mDZtGtLT0/HII48AACorK7FmzRoQQjB37ly89NJLmDVrFgBgz549WLp0Kaqrq9G9e3dMnz4dZrMZ7777LnJyclBfX49Bgwbh6quvRvPmzWP7e4QgqeIUmQ+fwUhOBLeOoPCvvPJKfP311xg+fDgAwOFwYNiwYd79r7rqKgDAgAED8OWXX8oes7S0FNdffz1OnDgBh8OBgoIC77YJEybAarXCarUiLy8Pp06dQrt27fD666/jq6++AgAcPXoU+/fvZwpfKVxupvAZDFUJYYkryaRJk/Dggw9i06ZNqKurQ3FxMS6++GJ8+umnsvtbrVYAXC9cl8slu8+9996Lhx56CBMnTsSyZcvw9NNPB3xefIxly5ZhyZIlWL16NVJTUzFq1Cg0NDTE7ks2Ak2FZcaaif3aYETXXO+6K0zTYgaDoU/S09Nx4YUX4o477sDkyZMxdOhQrFq1CgcOHAAA1NbWBm18IiAtl1xVVYW2bdsCAD744IOwMlRVVSE7OxupqanYs2cP1qxZE8U3igxdKnwLn2A1c3wPXNbXl9DrZBY+g5G0TJ48GVu3bsXkyZPRokULvP/++5g8eTL69u2LYcOGYc+ePSE/f/nll+Orr77yTto+/fTTuPbaazFgwADk5uaG/CwAjBs3Di6XCz179sTMmTMxdOjQWH21RqPL8sj9nlmMK/u3xdMTe+GbLcdw/7wtAIDHL+2Bu0Z2jqWYDAYjDKw8snKw8sjgCqcJZRTEBdOYhc9gMJIZ3Sl8SinsLg+sZmPANjZpy2AwkhndKXyhpaFg4YsrIrs9HrjcHny05rBuY/IPldewPr4MBkMW3Sv8NFFJZKeH4pN1R/DE1zvwwerDqsinNKNn/Yob/i0/+08pxVtLD6DsXHxDwRgMhjbQncJ3uT1om5WC7FQLAGBU9xZ4+vJC77bKWs76rarXnxXs4RPLdp04J7t989Gz+MeivXh0wbZ4isVgMDSC7hR+83QrVs0cjasHtAMAEEJw+/ACZNhMcLopKPTrx29wuUNur2ngEkhYb18GIznRncIPhslAdF8PX+jjGwyh7WOKzIQ2g6EJDh4EZswAMjMBg4H7f8YMbjwKjEYjioqK0Lt3b1x77bWoq6uL+Fi333475s+fDwCYOnUqdu3a1eRjXHrppTh79mz4HWNM8ih8o8Ev01Zv3W3nLD+Ix78MLEq1dE8ZztRyVQKFLmA2pvAZWmThQqBvX2DuXKC6GqCU+3/uXG584cKID52SkoItW7Zgx44dsFgsmD17tt/2YOUTwjF37lwUFhY2+XM//PADsrKyIjpnNCSNwjcbCOfS0amR/7cf9mDxrlN+Y+canJjy/nr88UMugc3u5B54zMJnaI6DB4FrrgHq6gCnZH7N6eTGr7kmaksfAEaMGIEDBw5g2bJlGDFiBCZOnIjCwkK43W783//9HwYNGoS+ffvi3//+NwAu2OGee+5B9+7dMWbMGJSVlXmPNWrUKAgJoj/++COKi4vRr18/XHTRRQCAmpoaTJkyBX369EHfvn2xYMECAFwJ5tOnTwMAXnnlFfTu3Ru9e/fGa6+9BoAr4dyzZ0/84Q9/QK9evTB27FjU1wd28WsqSVM8zWQ06DYUMxhCNM6h8loAzMJnaJhZswIVvRSnE3j1VeDNNyM+jcvlwsKFCzFu3DgAwKZNm7Bjxw4UFBRgzpw5aNasGdavXw+73Y7hw4dj7Nix2Lx5M/bu3Ytdu3bh1KlTKCwsxB133OF33PLycvzhD3/A8uXLUVBQgDNnzgAAnn32WTRr1gzbt3Nv35WVlX6f27hxI9577z2sXbsWlFIMGTIEF1xwAbKzs7F//358+umneOedd3DddddhwYIFuPnmmyP+7kASWfhWkwF2l0fHU7aBnDpnB+CrLeT14Vs4hf/76VqsPVShjnAMhpiPPmqcwv/ww4gOX19fj6KiIgwcOBAdOnTAnXfeCQAYPHiwt6zx4sWL8d///hdFRUUYMmQIKioqsH//fixfvhyTJ0+G0WhEmzZtMHr06IDjr1mzBiNHjvQeKycnBwCwZMkS3H23rxVIdna23+dWrlyJK6+8EmlpaUhPT8dVV12FFStWAAAKCgpQVFQEgCvTXFJSEtF3F5M0Fn6qxYiFO056XTpEb058GbaWcpNCgsL3Wvj8+oUvLwMAlLwwIf7CMRhi+G5TMdtPguDDl5KWluZdppTijTfewCWXXOK3zw8//BDROaNFWmI5Fi6dpLHwBaX3486TAACdB+zgcEUtXvpxLwBfEtrZOv3lHjB0Qnp6bPeLgEsuuQRvv/02nPybxr59+1BbW4uRI0fis88+g9vtxokTJ7B06dKAzw4dOhTLly/H77//DgBel87FF1+Mt956y7uf1KUzYsQIfP3116irq0NtbS2++uorjBgxQqmvmDwKXxqS6XDp25+/8TB3YVl4VxYArDrATRK59TpzzUhcbr4ZMJtD72M2A7fcopgIU6dORWFhIYqLi9G7d2/88Y9/hMvlwpVXXomuXbuisLAQt956q19nLIEWLVpgzpw5uOqqq9CvXz9cf/31AIAnnngClZWV6N27N/r16xfwsCguLsbtt9+OwYMHY8iQIZg6dSr69++v2HfUZXlkOSa9tQpbj/riXu8YXoAnL296OJVWyZ/5vd/6Xyf1wpPf7MSEPq2x8sBp/DZzNHo9tQgAMO2Czpg5vof3M8ylw1CSRpVHPniQC70MFR+fmgps2wZ0ZiXOBVh55CB4pBa+O3SSUqJTzWfVtm5mQ63dhSNnfDeSm3X+YmiNzp2B+fM5pS619M1mbnz+fKbsoyRpFH6yuXSqG1wwGwly0i1weSju/mSTd5vbA9SHycplMOLO+PGcBX/XXf6ZtnfdxY2PH6+2hAlP0kTpeGhyKfzyajvSrSZk2DhrSYjFBzgLX4jYAbi3H4MhCcKWZDjF5yq0zLSpLIm+oZSCNCY0rnNnLs4+ilj7ZCESd3zSWPgBCl/nSVjHztYh3WZChtX/mZ5qMeLY2Xr85esd3jFnErt4hvztZwz5289qi6FrbDYbKioqIlJQDHkopaioqIDN1jRDJWksfMGl88CYrnjjlwP4YftJ/LjjBMb1bh3mk4nJ8bMNyLCakR6g8E1YsrvMb8zpprAmzZXAiDft2rVDaWkpysvL1RZFV9hsNrRr165Jn0ma27wgNw0Hy2txzYB22FBSiZUHTmPaR5t0G6Fy5EwdBhfkBJRRMMm4bvRacqKixo4UixGplqS5zDWJ2Wz2ZqAy1CVp7oRXri/C2kNn0C47FXkZXAZbs5Qwcb8JghBfLyXDaoJdUiPfKKPw9ereGvDcEnRrmY7FD16gtigMhiZIGh9+ps2MiwtbAgD+chkXf9+9ZQYAYMp76zB3xSHVZIuWm+aulR1Pt5kwuCAHrUQTkgaZv7iem7vvOxVZKj6DoUeSRuGLyU6z4JJeLb1tDpfuLcdz3+9WWarYkJ3qe2tJ46N0fn7YZ+EePRNYjyMZO2C9/vP+oG9GDIZeSRqXjpSsFAv2njoVkKGaaEgjH3LTrbi4sCU+31Dq9deHK4fs1LGFH4xXftqntggMRtxJSgsfALLS9OG/d0kSykxGA3q0ygQAb2VQOb+9mD9+uAH/Wfm7IvJpDZfbgw9+K1FbDAZDFZJW4afpJHJD6n83GQgE/d7Yhu0Hy2vx7HdN78upZaSlNAS+3HQMT327M87SMBjaIGkVvlAuOdFxSZKmjAbizWhM5jwXuWSyOocLjy7YpoI0DIY20IfWiwCLUR9fXc7Cz0zh3l6yUy1+29IsydPaUC7yaN3vZ0J+ptbuwrkG1jOAoV/04deIAL1Y+FJL1mAgmNivLarqnLhhcAfv+KqZo5FqNqL/sz8FPVZVnROZKabG1TzROHKRR78dDN3O8bwXfkFVvVO3yXgMhj60XgTo2cI3GghuH17gF53TNisF2WkW6cf96PfXxfhs/VFF5Iw3cpFHc5YHz7Vwe6g3TJcBVNU7cbKqQW0xGDFGH1ovAvRi4UsVfriInHCs0UlTc7GFf6CsOmzhrmTKRSitDNFkhOeiWcsw9O+sqJze0IfWiwC9KHypSydahd883Rp+pwRArMDHvLIctWHq/z/1TXJE7vx24DTOf3Epvt16POR+p2sccZKIEU/0ofUiQC8unetmr/ZblyuO1hRywrh9EgWpS+eFhaEzqT/boA9XVjj2nKwGAGw6XIkDZTX4dR+rYJlMxETrEULGEUL2EkIOEEJmymy/nRBSTgjZwv+bGovzRoNeLPyKWn9LrKkW/pieeVF9XqtIXTQlp8O7MZIB4e9LKcWYV37Fbe+uC7k/q2GvL6LWeoQQI4C3AIwHUAhgMiFErjv4Z5TSIv7f3GjPGy16UPifrD0SMGaSq44mw5czzsOU4fl45foi9Guf5R3XSycwqcI3GRv/IJO2w9QTQmczdyMVuV0n1wODIxZabzCAA5TSQ5RSB4B5ACbF4LiKogeF//hX2wPGwlnobbNSAADFHbLx1OW9kGkz44ExXb3b9TJ5KXXpmGVceP07ZAWMAUCDU7/9fo18yG1jH2p1rPexroiF1msLQOwALeXHpFxNCNlGCJlPCGkvdyBCyF2EkA2EkA1Kd8fRiw9fSjiF//PDF2DHM5f4jVlFDz+9WvhGSW7Bf24biGGdmst+Vqzwv958DDuOVcVeQJUQLg+xwg/ltqlzuJQWiRFH4qX1/gcgn1LaF8BPAD6Q24lSOodSOpBSOrBFixaKCqQHC1/MWL7WfziFbzMbA9oeWk2+eH29NEORKvw6idV+Uc+WQRvgNIgeeg98tgWXvbEy9gKqhODSERv4dpcn6FtNPbPwdUUstN4xAGKLvR0/5oVSWkEptfOrcwEMiMF5o0LOwk+kCSrpjZjF18GPJEpHTxZ+WXUDftlzKiA/oZovmfD65P7Y8MQYAECLDPkQVDnll0jXRigM/JuOuLjcy4v2osdffpQtK8FcOvoiFgp/PYCuhJACQogFwA0AvhXvQAgRdwqfCED1biNylnAi1YWvqLX7rRNw38cQgcK3mfWj8Ce9uQp3vL8hoLXjOT6LtnmaBbl8rsHEfm1k3TpfbCjF76dr/cb0Mnkp9C8WT9rO5Utjn5GJvf/Hor26nsQOhdPtSfj7QUrUCp9S6gJwD4BF4BT555TSnYSQvxJCJvK73UcI2UkI2QrgPgC3R3veaJEz2GrsieOvrJDcnIKLOjIL3+fSSeRJ21q7Cyf4cgDVDb6/pcVowDl+XezKMxkNeOSSbgHHmf3rQVzy2nK/Mb0oPSf/PeS+z9l6J6rq/K38lQdOY/HOk3GRTW1cbo/f9X/Xfzeg8MkfE/qekBITRzal9AdKaTdKaWdK6fP82JOU0m/55ccopb0opf0opRdSSvfE4rzR0DY7BZf1be03dqg8cfqfnqmVV/iRxNFbxRY+f3GvLzmTcNEqP+7wKSaxwm+TZfNa+NJoHfHDTozD5fFz4+il769g4XtkLJ4r3lqFfn9dHDBeUevAjztOJNz10FQmvL4SXf+80Lu+dG85XB6KvXyymh7Q18xlEzAaCN68sdhv7EBZYij8k1UNeHeVtEMVp+ijtfAdLordJ87h2tmr8fKivdGIGXcaRG4cQeGv/NOFyLCZvS4Z6dyN2J0lRWwFS/sOJCqCtRrqjUVq0S/ccQLTPtqEt5YeUFQ2tdl7Sl6xS42rRCZpFb4cx88GNvjWInd9uAEr9nMNuIUa9z4Lv+l/Ur9JW7cHm45UAki8C90p8re+uoTrWWs2GvyUujQ6K5iFD/i3j9SNS8ctuHSC73PXhxv91jcfOQvANw+SLAj3RWVdYt0HoWAKX8S5hsTw4Z8V+VkzbFx0juB+iCS9wGoyYMrwfFhNBjhcbhw5w5UhaJedEr2wcURu0p1T+D6lbpUqfNHD4If7Rvht23i40ndsnSh8wTUl59IJhhCpk6uTwnqNJZMP261MMMMnFEzhi0iUbkfZqb74canP3hbCYg0GIQRPXd4Lg/Jz4HRTb2SCI8H81nI5BGYjQaqo05fUwhc/DKSF4+79dLN32Z1gv0UwBJdOJPH1OnnmNRohX6WyLjH0QmNgCl/EufrEsPDFjUz+eEEnAMDDY7vjDyMKMHVEp4iPazUZYHe5vf7u+gTLspSLpjAbDUi3+h6Q0gei2OKX+vPFUVu68eHz3yOSiLTaBLseIkV6HTGXjg4xGog3OUfr5PC9agfn5+DWYfkoeWECctOt+POEQqRE0bfWZjGi3uH2Wvj1CRaVEUzhZ9h8mcXS30c8iSu29gFfTsINxl9weM6NsRRVNQSXTiTzM7UJFLYcDfVON2Yu2ObNxUikcO1wMIXPk51qThgfvo1XWu/cOjCmx00xG9Hg9PgsfGdiWbVyPnyjgXgVvtFAAlw64v69Uv++wAvmubjQ+WsMJVUP4aFYVt309oV6zroVT8rXO9yYJ2r1aXdyIbqUUox46Rd88FuJd9tHaw7joc+2xFPUqGAKnycr1YLdJ87h0flb1RYlLC63B62b2dAsVb4WTKSkWoyoc7jg4MMbE82lEywrUmzhh0IPzduDseNYFQ5X1HofisL/2U24hvRs4YuLxEkfbA1ONy6a9Sv6Pr0YR8/U46lvfd3Rnvh6B77c7FdJRtMwhc8jXPifbyhVWZLwON20SfXdG0uK2Yh6p8iHnyAunWtn/4bvth0PmhEp+PD1EloZCZe9sRIX/GNZgHuiVbPGR2LpyYd//7zNmLviEK6bvRqHymv8lLx0QvvnPWU4dLoW1Tp44CW9wn90XHcAQMfmaSpL0jiOVNThq83HoMQcYoqFc+kIGZWJUCnR5fZgfUkl7vlkM5xuj2wFzPQwFv7zV/bGJ38YopSIqlHncGHL0bN+Y/+T9LJt08wGoHHlwmvt2r8eGss3W47jue93Y13JGcxavA92kfuy3pn4ij0YSa/wZ4zqgm1Pj0X3lhneMS1XRvzrd9zr5DEFksRS+EnLNYfOAEgMn23RX3/yLjvdFJkpJrwlyaDODKPwbxrSEed1zg17Lo9b+7+HmIc/34or3lqFE1XBr5XWWZzCb4x7UK+18Qnxj8KqdzTdmnIlSL2dpFf4AJBpMyMzxacUtOzKMCjoZ5ZGsAiW/gPzNiN/5veKnTcaBBeF0UDgcHsCMmsBoE1WbBLInE57+J00xKoDXDb2ruPngu7TPI1LppL2SJCj1u7G+H+uwOfrE7vhu9S1RwjxG3NE8GBvSJCqmkzh8wgZq4B/JquW2Hi4UlE/dIokLFF48H295bjc7prCaCBwujywSDJrAaB9dmqjj7Pw/hFBtzkdiaPwy841eKPOdoZQ+MLVJP3by1Fjd3GBDQu2AQA2H6mMKNpHLUpO16LG7goonW0g/hFe9gii0xLB/Qkwhe9FnLFapcGaIaWVdbj67d/w854yxc4htfC17tIRu94cLg8W7zola+E3JTehZ+tMfPqHoWiZGVhGYOcPsyMXNs6Ir5P9kqKAYmteaIQiZCOP6JorG57aLjsl4L648l+/YfxrK2Ims9KMenkZbnxnTYByNkgs/B8jKAedKJVEmcLnETtKqjUYjx+PLGCplVfd4MKE17V7QwcrpSB+WxOYfXMxFkw/r1HHHda5Od6YXBwwPmTPC00XUiXESl1a9js33ZepLTRC6d8hCyYDwR9Hdg54i5x6fgGuHSDbhhoVCVZnZltpVYD7hRBfBjLATeg2lURR+I0LUE4C+rRr5l3W4h8vgiKYTUbO1y12B1BKNRWrLvcabTYa0JqPPBEzrnfrgLFQyFn4iYS4OJrwN7SZDWhwerwVQrNTzV4LPyfNigN/uxSAf5VQAHjiskK8u1Jajjux8EgSq8RILfxI0PK8nxhm4fO0bpaC7+49HwBw67vr/JppJAviSCU5pIpAbWplFL7FZJC18JtKK5mHRiIh17Dlwzu50FNCgG/uHo5FD4z0PhjCRWWmWf3f/rQcySaH2IKXGnQGwiWmNQXp929IkKx0pvBFiCf7Pl57WEVJAolHxyWDgeDft3D95bu1TA/YrrVWb3KZwJE0gJEjVJ18TXLwIDBjBpCZCRgMcE+fEbBL33bNMKZnHl6+th/6tc9CXqbNWxdfHP1189AOAZ9Ntfg7AxItiU08KStV+Cv3n8Yz/9sl+7mxhS1lx6U9jpmFn4CIJ/fk3AJqIuevVoJLerVCyQsTMPX8wKqbWmvoLJcINKwz15T8P7cNxPtTBkV1fLkkLqrFqpkLFwJ9+wJz5wLV1QClcDs43/qbC1/17mY1GTH3tkHo3dbnvhQsfLHC/+vE3tj33Hi/U0gtfK297YVD3BznL9/s9Nt2vCp4pFG77FTceX5BwHiPv/yI8/7+s3c9UcqQMB++CJukwbWWiLeydcooNq0pfGkU0Vs3FuPSPq0AABf1lLfMmsLiB0fidI0dmOMbs9vrYUvRUFb2wYPANdcAdVzTGofBhPsn/h/S7dz64IMbQ33aa6mLo9QMBgKL5E0pTWLhJ5zCFxlMu08ED1OVQkFhDjKBJn5QaDWUWwpT+CLEFr7WMufi7U6RcyFJX2PVRloXpnur9JhOKrfMtAU0mKmvOacthT9rFuD0KZvNbbpjYffh3nVTmDcSIUrHEMYVliZJzHJq7FoIh9x8T2OgNDqCrxMAACAASURBVLDJkBzl1XacrGpAq2Y2uD0Ux8/Wo31O4/M/4oW2zFiVETfHkCu1qyZS63pMzzxFzyd3jcfLrdRYTp3zfxVXwu9ukvwO9bWNtw7jwkcf+Sn86ok5uNzwm3fd6HHD4goeOilc87YgpaEFUiW5DIlSI37j4TP4ZssxXPjyMr/xi4P45uVozLzQrJ/2Yejff0ZVvRMvL96LES8tVaT8SbQwhS9CbOVoTbmJLfz85qmYc0tsa+FLuXYgF3ctnsvQ2qTtqXMNfg8mqzn2lzPx+FuG9tqzWPPp31BVcSrm54qIGl+MPQUwIncnehlKvGNG6sGGN27G5jdukv34gxd3xX2ju+CK/m0DtrVuZkPXPG7yXmrhJ4LCd3sorn57Ne6fF1ivvrEKn1Ia9u1HTJ3DhWV7ywFosxcuU/hB0Norq7i/bKrF1KSLMBJsZiMu79cGJ0R+Sq358E9UNSAvw/dAkpZUiAU2o79iK9+9CkP3vohmb3SDy6mBGzrdF01VmZMJK3HhJM3xjhk9HmQ66pBtkn9jzbCZ8dDY7jDLzFmtfuwi/PTQBQASU+GHMlCyUy1Bt4mhaFrkl9tD/WL+tQZT+EHQmjUrVrbmMK/fsUJ6oWtN4ZdV25EnSpCKpIF7OKwpGdg12Jdh666r9C5vWfR+zM/XZG6+GTBz0URnWmUBAE74KXw3t/2WW6I6jTQLW8sK/7eDp1Hd4Ax5D2cFqQ467YLOfuseSmFsQtaj3eXxzotozUsAMIUfFC358P+39Th+3VfuXbco0PxEDulkldYUfr3D5Rc9YlbidyEEPS65C2tzJnKr1cf9tqnOww97FX5NLjeZfEqs8KmH2/7gg1GdRnotaLX7VWWtAze+sxZ3f7I55D0czDi48/wCzJ82zGvsUNo0C9/u9HgtfE1m7KstgNaYfXMxLEaDppTbvZ9u9mtcIe3LqhTSC/2+eZs1VRXQ7vLAajYgJ417PVeq7IPBaESPm18BAFjqfL57T0NNsI/Ej86dgfnzgdRUOLI591Y59cXZG1Js3PbOnYMdISJ+3VseficVEKzq3SfOhbTwzdLZeB6TgWBgfg6emtgLAOfSCec+FZfhsLvcXgufKfwEYFzv1hjSKUeTr2MCjSllGwukCvR0jQMr+RrrWsDu9MBqMuD7+87HJ1OV7ViV0YyzmotrfcXkPPVng+0eX8aPB7Ztg6c7lyBUBV/YKNm2jdseA8T9b7/YqM1WoH517UMYbeI5i9cn9/cuC61D2/KNYfKbp4a18Du38M2j2F0eb0izFsstMIUvg8Vo0JQPX1ruNy8zXlnAga/ETWl6rTR2lxtWkxGtm6XgvC7hO1ZFg8EY+JCl9U2rv6IonTuDdu0ANyWohc1vPFbMn36en3LUIoKSpzT4PJzFaPBr6TixXxvvson314/u0RIfTx2Cqed38nNnScNTAaBLnk/hbz161pu9rKW3YQGWeCWDxaQthZ9hM6NB1G0pN61xEQbRIlcfS0s1VOwuj2zt9nhhsGtD4R99pieO97wDhoYq1JJUUIXsuM4t0jWpxMQIb+aU0qA+fIvJ4LXwpV5Ak2geaDhvRIgVfrrVFJDhnZfhc+n8feEetODXtVhfh1n4MhgNBPtO1eBkiBobSlPncGFbKecykGb9OuI0oeyR0fhqp9R/uOYw5vPuBMGHHy/WFv7Zu+yiBhgd6idhUY8H7elxDNn1HIacXoAaomwWcLgH7MmqBhw9U6eoDKEQu3GCGW1Wk8E7wS8tmyDnvhErfLn6StKQVeG2YT78BEGoH/74V9tVk+HtZQcx8c1V2HSkEi43xdjClpgyPB8AMCg/Oy4yyOl2td98/vL1DjzyxVY4XB6cqXUoEooZDFOaL/rlDMmCyanupK3H7cbO377zG6s3BFY5jSXhJsaH/v1njHhpqaIyBGPTkUpc9sZKAJwzcu/Jatn9LCaDt1aWNLJL7vuJHwIDOgbee1KFf7qGextnCj9BOMe3clMz6E54HV2y6xScHg/yc9Pw1OW9sOkvF8ekMFhjkLXwVQxXFdcgn/L+OgDKZNcGw2DyWXe1hgwYPeomXq1f8Ap6L/GPr28wKmvhd8lLx30XdZXdpnb9qdeW7PcuU0rx8Bdbvetjerb0dvqymgzeN5XLRf77YIgt/JnjewRsz7TJe8brnW5M+3AjZvI9gLUAU/gy1PKlTrMamY2nBMLkkMtD4XJTr5WREyf/PSDvw3epWB74dI1Pwa46UAEAsMhMpioFMfl8tfUm9RU+PRPYhcppUtbCB4D7RnfxW/9s/RF8uakUJRXquXLCMSg/G788MgoAF2tvMxux7s8X4bkregPwn3iVIlj9E/q29tMJfxzZCXNvHYhR3fPw0tV9Az63bG85ftx5EvPWH43hN4kONmkrgxBOJeevixeCteR0e+DyUFXKNctZ+GompMnNqbjj2HnJaPLd7E5DClJc6k7aUmPgw99jUN4gkF6Lf1rAuT7Fk5dqI63sajUZkGkzo+SFCd4xcVmOBdPPQ9k5+Tk7r30vudQeu7Snd3liURs8KrHkxe1B/7lkP+4fI/9mFE+YhS/Ds/xTX82S+E6Pf2iXWeHaOXJozcJvcAX6ROvimPFJRC4dj9EKs8oWPlRS+IB8eGJZtV1mT3WQRtKEs1OapZjRNUiLT8GtT3mNv+LRC/HjAyP89pFOZktDqV9dsg91GmiSwhS+DLcM7YjsVLOqiROChS/ULGEWvnxBu7o4ToyZRC4dt8EKM1VZwRkD30A9xvhY2aGqTTamfny8aZ+dEvFnCXxlFgCgfU4qerTK9N+HEPztyj7edbnibFoo18IUfhBsZqNqs+wVNXa8s4Lzzwo1SxSpExMGQeETwpWcANSdtHXKhA3FMy7cYPYpU4/RCjN1wON2Y92C12BviL//msgofDk3jxK8eHVf/Oc2+RLdaTLWv5osmH5ek+rfR4r4HpVzB2uhXEtMFD4hZBwhZC8h5AAhZKbMdish5DN++1pCSH4szqskNrMRDSr9gf6+cI93WejUE6vm3E1B8N68dWMxBuVzIYlqunTkLPwJfVrH7fxGkUuHmmywwIlNP76LwdufwqZPnoqbHF4Z3IFt9SiJj7K1mY1Bo8WUTM6rrHXg+e93NSk8OC/DGlWdJa9LJ8zXEte4knN5qR3SDMRA4RNCjADeAjAeQCGAyYSQQsludwKopJR2AfAqgBejPa/SWE0G2FWy8MUXRq0GXDoG4ju/qi4dyQ3zyNhuGBMHy03AJLLwqdEKC3XAVcUVUzPUn0Fl+QnUPZWHPet+UlSOqjPl2L78G8Al41JSuYLntAs6K3qNPPv9Lryz4ncs3hnYgIYG0cjRFhsUflEqU2rE7zyie1SuN4NeLPzBAA5QSg9RSh0A5gGYJNlnEoAP+OX5AC4iSpU2jBFWFS18sYUkzPSr4dIRpCCEeM+vVqx1dYPTL+oB4BrBxBOjWOGbrLDACbi5iVtqMKNk889IJXY0LJulqBzHZl+JPr/cCkOdXMVKdW8ri5HA4fYEVb7RIrhZwynfWNJYTWUOo/A3H630Zs8fPVOHgc/9FPes5Fgo/LYAxIGmpfyY7D6UUheAKgDNpQcihNxFCNlACNlQXq5u+VWbyaCaD19ustTUhCYMsYJ6LXzinYhTq7TCbe+uw5tLD/iNpcTZV2yyiCZETTaYiRvUyYXyUaPZ+3tRhZVuO8chAMCQiq8DN6psRwlKTym3juBRNMh8z2D3a6YtNuHV4Z5h4sZEchVtH/xsKya+uQoA8MWGozhd48CXm47FRLbGoqlJW0rpHErpQErpwBYtWqgqi9VsVM2lI+cmN6kyacv9byC+miNq+SE3HQksRSwNfVMakygOX0jCEqxs4nGDIF6/TaDm2WYbIEgWJxnkUdr15xYZIVKEYmVtRH2Y9zw7LmrDQHBGhPtG4tDpcBngbpG7NJ7E4o45BqC9aL0dPya7DyHEBKAZgIoYnFsxbCaDatXu5JKJ1LDwHx7bDd1bZmBwQQ4MBgIDUTdKR0C41+PVF0BAauEDgLXuBCeTo1rkxlD2LiYy14d4srZP22YB2+OF4PpTqp+E0E3KaCB45IuteOgzX4Nyh8uDC7u3wLf3nu8di0U1Va8PP4yJL94armeu15iKs8aPhRZZD6ArIaSAEGIBcAOAbyX7fAvgNn75GgC/UKWcfDGiS146DpbX4mxd/JNr5H4aNZLAerVphkUPjkQG/0psMhrgVDFKR0CIWFKiaXnI84oUvsHCxXVnN3DeTJOzxvfOr7BbRe7oHsLPZxAD5k8fpuj5QyFMkCo11yO4Oz2UYv7GUny52WdbOt0U6TazX0hkPKcKxbettDeumDWHKvD2soMA4u+Bi1qN8D75ewAsArAbwOeU0p2EkL8SQibyu/0HQHNCyAEADwEICN3UGud3zYXbQ7H9WPzT5+X8n9JUcTUwG4gmLHyjWgrf7LParNlcOGhHD1eq2eSs9t7wSvvwiYxzgRLfBLbVZMSC6edhwfTzFJVDDsGHv/qQMi/wwq1xpjbQEHO4PLAYDX6Tp7HA69IJc+kLE8nDuzRHiwwr7hheILvfDXPWeJeNcdb4MQlzoJT+AOAHydiTouUGANfG4lzxQpjoUSPbVm6+SwuNJwwGgmOV9WqLAbPBgAZ44u7SMYuidPK6DACW+7alO0/DN8ugQkSVgfstKK9A5Mr4KkFuusWvqJ3w9nXPJ5vRJisFxR1iK4dg4R8/67sOD1fUomPzNNhdHkX6PQ/Oz0FehhX3BqkSKkC9c17cb5DViO5w0rmIzzccxfldctEmK/LM4JDnU+SoOkDw/akRqSMXpSOtDaIG1Q0u/LjzpCpuLjGC3zPeUTpGkwl11Io1XR9Gq3a+V3YXNaCz+3dg9zdxkSO0hR/fW3rJQxfgXzcVe9fF1vVn62JfJVK4N8T3wwX/WIaNh8/A4XIr0gGtWaoZ6/48BkXts0LuNyg/B0M75eAvl3FpSI0pMSHW9w1ONx6dvw3Xz1kdlbyhYAo/CFa+sYYarhSxS+fd27n09b7t1JuIkxLvMrjL98mH6Maz+YlA6jNlGHrTkyCiSfTtaZzPfEA13/hDhUAZ64AbcQ5paDd6alzPm5VqQcfmqd71xnScigbh3pAGVFz99mo43B5V8lUEUixGzLtrGLrxRdgakx0vtvCFkOejZ5R7i2blkYMghFXZZSo0Ko041n10j5bY/vRY78SpFjhcURvW2oklry7Z57cuTGrbLOraK3ZqhpU4YR1xL7BolWiLckrH5XQglQRm2Oa0747Mp48jU+YzSiO26itFb39V9YGlH6JFuDXkXJwNTp9L5+nLpcn+8acx7iXxM8Edh/kxZuEHQbAe7Sr48KUp2FpR9qtmjgYAHImzhS9Vn8JtYY1j8xM5fr9sHta0nIyeQy7BxkG+7FolJ23Xf/iE7LjbFXvl2ljElqzYWIm1wi+trMPWo9xMSbA5LaEhzu3DC3B7kEnTeHHDoA5h9zH6/XbK6xqm8IPgs/DVV/haoW1WCtIsRkUst1BIQ+tevLov8punIj1Ia7l40WPQGAydPhvEYIApVeRyUzDywlQV2OUKAKyp8rXc44HYwp8yPB8zRnXGRT3ycDbG18mIl5Z678dgZbGVmLSNlBSLEfeHmej9yzc7UVbdgJ92nYqLrmEunSAIhZDUcOmocc7Gkm4zeWv0xwup+ry0T2tcGscqmY3BKlb4Clr4VFLvfq+pBwwT/oGu7YLHfSuNOAs81WLCo+N64LEvt2FbjEOaxbEM9UGaiajpw5dDrmlPutX/Hrr0nytwusaBGwa1D9g31mjncagxDAYCi9GgjoXPT3b1bquGRzY06VYTqhvirPC1dQ/LYk2Pz6S6VOE7jTZ07T8yLucOhlwWeFaqBWfrHN7M2FgTLAteiSidaGjgXU/dWvp65qZb/e1sIax1y9HA8iGxRlu/jsawqlRAzeHyYEKf1pg/Lf6JM+HIsJlRHXcLX/sa35bum8RWwod//Pc92PDt7ACFTzVwC8tZ1e2yU+B0U7z960FFzhnUh68xhS8YjON7+95I06zyc0+na5TvoKatX0djWM0qWfguD3LSLHHPJG0MGTYTqhvi7cOP6+kiIjUjx7tsoLF/ILb5YAgGbvoTiLPWbzxeDU9CIRdvnt88DQDwj0V7FTlnMIWvUjHXoAgGY35uKh66uBuAQAtfQJzAphRM4YfAajKqFqWjNUtFIN1qQg1z6QSQnunLKCWe2P4+VBS9Ya33b/xBifrXiVwpg/zcNL91j4fiw9UlUWWM56b7SlsEm0eqjfPbZziEgINUi8mbl5AWROGLUcoVpv7VomE4C18Fl45b4wpfxZtKg/2xAXBZuAIG6sLvu9Zj3fxXYnLsulpf45cM+ymUw/dwqWsl31c2nsglGLXNSkG/9lnev9eqg6fxl2924q/f7Yz4PC0ybBjTsyX6tmuGc0GMDi2UIBHzxISemHYBF7XkaILCrw0yKR0t2tQqGsFqMsbdpePxUDjd1K9dmpbITDHHPyxT5BNPi3OXq6Yg1KQn1IWCz8dg8I5nYnLcc2d8Vn0L9ynUGrgQzN8N+Rhy87MxOUc0BCshMKpbC3goMHfFIe/E7t6T1RGfx+5yw2o2oGWmr95995b+4ahqtAINRfN0K2aO78FVmnVxVnswl44YpYwqbf06GsNmjv+krWAFhGugoBY5aRbUOdxxtaTEQSDxrp/TFAof/hH7TN1g9MT2gVh71ldaIhO1qDM1w/Hb1qLNo6thUDn5DAheglhQbM99v9s7VlYd+cSkw+WB1WjwU/KvXl/kXf7TuB6YMjw/4uMrjZBYFWzSVoxSkXDa1CoaIdVijHvRMuGNQqsWvuBH3Xm8CmdqHVh9sAILNpYqek6xhZ+Zoo2sYzlMZgscxtSYT9rWny3zW7ebMtCmoAesttQgn9AGqSLFNvkdriTwqXMNER/P7vLAajbgntFdvGMZouS76aM6azLQQWBcr1YAgAu65YXd99nvdikig3bfjzVAitmEM7XxLQdccpqLwtBaPLFAbjoXFnjN7NXo3TYTO45x/uWrB7SL6XkopXjgsy24fqB/Mso7t6rvsw6F05iKbMcJ77rH7Y7aCrdXn/Zbd1m0U0gvFFaZ4nZONwWltMmNSY6drUd5tR0Wo8FPqQtvwud1DmiRrTnO65KLkhcmwOX24OahHfDRmiNB9119UJl+AtrUKhoh1WLE7hPn4tZZ/khFHSa9xRXh0uqkbfN0Xxy4oOyVwO7y4Jstx3HLu+v82uUVSKI/tIaj4CK0pT6fu9vNWfubF3+Es6dPNulYG7+fixOH98LTUAMAWN36ZgDaiMxpDMECHo5XNc3K/3TdEQx/4RcAgX1lzQYDVv7pQvzntkGRiKgKJqMBz13RJ+Q+V/Rvq8i5E+PKUYlU3l98yWtcp4s6h0vROjffb/dZhlpV+DmiXp0ZjZh8ihRh0spsJN5wti+mqde6r7GktvSvneJ2OXH65FH0/+1uHJvT+B5ADXU1GLD+YbjevwLUxfu9LUK2pkZDlSQEax60/1S1XwvEH7afCAgEWLq3DI99uR0HyqoxW5S8VVnnv5/RSNAuO1XTcztN5f6LuuL5K3srcmzm0gmBEF8s+PELn1yEvu2a4dt7zg/1sYipE4ViVcQhCSMSxAXLxA2YY507IMRTW4wGOFwejOmZh0H5OWE+pT4Gk/8cg9vtgtPOvSHmOo7JfcSP4yV7ce7UYWS0aIu2ANJptVfhEwvns5dm22qBq4rbYmBH/7/PNQPayfqib39vPa4qbovWzWx4aymnzC/qkYf/3O6z0qe8tx4A8Nn6I3414yslrQ0bU3M+EbhpSAd8vJZz8Yzr3UrWHRYLmMIPgZw1v61UuR63Tr4e9uTBHTCpSJlXumhJFVlS4nutzuGCxWSR+URkCBa+xWRAvdOt6ck4MUaz/2/gcrlA+SSaxpRcaPP+YLQBsOuSeWgLoNqQCbg4Jddz3DSsq9iPbtc/H2uxo+aV64oCxpqlmHFxYUv8tOtUwLYvN/k//I4EcZt6qH8HOGkvW7k6PonGS9f0xXUD23sVvpIF4JjCD0G8k65cbq5P69+vCu3fUxPxZLK4M1eN3YUPfjuMCX1boUte9KV6hWxeh8uDwxV1CTEpBwBGs7/1vft//wR1O9AGQFNcMZmLHwAA1Bqbgbo5JZeRlYvB930UI0njQ6wt8Gmj/KuC6sHCv04SmGBU8CHGFH4I4p105fJQv1KzWkQcXSHOdjx+tgGvLtmHz9YfwW+PXRT1eYRMQ+EcWSmxe3tQEqPkLWfoode9y01Jlm9HuQlehzENcNvhoEZvc49EojF9XQH/8hkVIYqITezXxm/doAOFL0XJhxhT+CGIv8L3yNYlSQSEmzRWJUBq7P5vV1mp2o2/FyO18MXQCIoCEQDE7YATZiTGI8+fpiivR77Yipw0C+YsP6SgRNpHSaOPKfwQPDimG37ZU4aueenhd44BLjdttEWkNU7zvtVYZQhLi2BZE8SHbzKHejBFoPCpG8TtgIOYoe2AVHma4p6Yr3ACX6KgpA5ITHMyTvRp1wxjeubFLUTS5aEwJ6rC51PmbTGKLpAq/AaNFcUKRkgLP4LjEXhA3Ha4EtQ2a6yFnwg9D+KFkhPRTOGHQSigJi5XuvuEMglHLrdHc8WfGsvZutha+NLiUUUdsoLsqS1M5qY7Xn7fuRY7Vnwju83ocYJ4nHCSxHBpSTGK3BOdWgR/R6ERPQ71hVBORUmXTmJqlzhiMhIcKKvBmkO+VOfx/1yhyLlcHpqwUQdn+IQYJSz8T/4wJCFi8AHAHNLCl//bFnwxFr1/vlV2W0/nTgyqWgx3glr4wjd+YExX/PLwKL9tix/0tWYUQpKl5KbL/55fzjgPz12hTHJSvLj9vHzMHN/Du96zNRfdZlCwAURiXkVxREiAuvXddYqfy+XWfpQOwN2ob/5yAN9uPY7sVDMq65yKWvh5GdpLNAqGNA7fn8j/tu3p8Yg/qyaCGpdzi4rLHAdr75caJIO2uEM2ijtky25LFJ6e2Mtv/b0pg7HpcGWjyidHCrPwwyCkfLvi0DvN5fEoGoMbK7q1zMDgAs7ibsZXrxQSYmKRIehwefDpuqPe9RQN18CXYrYEfzi18ZzEvucGoepMufwOTydGUbSmQPmkKbnqr2JlHqwccDCFr0dy0iwYU9hS0XNoX7uojDSzT0lcHqpoll0s6d6Ke/3sxtcmr4xhlM7clf5heSkJEqEDhHbpGAhFN9c+7P11XhwlUhchOU8u3NhsNODRcd1Dfr5zC1+EXO+2mbEVLglJHNNJJeqCtBqLpMRrMBqcbry6ZB9OVjUkjEUzKD8HH08dgo7NU7F41ylvBcRYKGdp0a1E+U0ANKoUMqHx75OsFsKLcbBItxmjuqBDTiru+WSz7PbJgzvgyv5t0b1VBrLTEjETQVswCz8M700ZjExb4HMxlh6eD34rwb9/PYQ9J6tx/GzkDSLizfAuuWibleI3Fos55xYSn71WewNECqXJE5Ei1MERYsuFN9h5dw317nNZ3zZBI3jMRoIxhS3RPidVUd92sqCvO0kBitpn4f07BgeMC+3KYoF4gvJkFB2B1ED6lhOLuQ5pLkKs3qQ0QxMsfPtMrmS2gybOW44Y4dlm5P+GQox5c4m1niXqZDa0ky8iK1HDlLUK+zUbQZZMWz13DE18JWvsxxNC4Jev0BTO1jnw9rKDfBN37vf44wWd8MSEnrEUURPQJih8qy0VJ+/ciJq7tysokXJILXwhCk3q4hGvvz9lsNfi12qrz0SFvSM1glSZKJFYRu3Eu2aPUuRlWCP+XZ76die+2XIcvdpken+PGaO6eKOAdEUTXTqt2ncJv5NGES4H4SVNUODSSVwLH931xuT+fqWwEyFMOZFgj89GIDcR6Q6SKBIJ4hZ+iUymzez35rN0TxnqG1kSQWgyU+dwe5Nw9GDdybpiRBa+2xXbhudaI5iFL6VVJjdvIzzghb0SNRFRqyT+HRUH5NqnxdLC14tLx2ggXoW/71Q1pry/Hk98vcO7/XBFLY5UyDe6EJS7y+Px/h5abfPYFBqITJimSOE31NfEUZr4I7j4hOzRi3pycebSyKsnL++Fpy4vxIiuuX7jepu+UZvEv6PigJziYT78QASFv/ZQBd5b9TsA4PfTPoV2wT+WYeQ/lsp+VojecLo9cLo9MBBlqwYqyfqiv+E4yQMA2BGo8MVROvW11XGTSw0EC1/4Uz4zsRdWPHohslL9J23TrSZMGV7gnaBPnjim+MJ8+BESyygdvSh8k4HATSmun7PGO9bYuiBCNIbTReFwx7Y/brwZdMXdONRlIDB/rHwNHOpzc9VUnkJu4B66QbCLhOvAbDSgfU6qihIlN4l7V6mMi/nwvSy8fwQWPzgSRgMJ+F0a+0rutfB5l06iNoIRMBo5Re8mMt/D5cverqlIzBo5jYVSf5dOY5kyvAAAkCeqt8OInqgsfEJIDoDPAOQDKAFwHaW0UmY/NwAhruwIpXRiNOfVArGN0kmMWu/B6NmaS3k3GgiqG5x+2xobQy8o+J93l+GXPWXITU/wrEr+e3vA+apPogVagauhk3V0CfY+twi2q9+G/Wxgg289UZDLhVc2b+Lf85ahHXHL0I5KiJTURGtGzQTwM6W0K4Cf+XU56imlRfy/hFf2QGx9+OJjhaoZrnWMBoJT5/yrHsq54Z0ybzRCQs4ve8r81hMVj4d7iLuJEUdvXomU+1Z7t/Vw7kJ3116cWjwLrupAhb8pfWTAWKLyf5f0wId3Dkb/BK9sqReivasmAfiAX/4AwBVRHi9hiKUPX/zs+Gr68JgdN94YDQSnqv0zheVe5YUKpDuPV+GRL7Zi05FK/LqvzG8f6ZtCouFxcfJ7YET7Ln3QLKdF4D7mdAzZ+4+AcUdaW8XlixcWkwEjugZ+d4Y6RDtp25JSeoJfPgkg2Z/voAAADotJREFUWG1PGyFkAwAXgBcopV/L7UQIuQvAXQDQoUOHKEWLLa9dX4SvtxzDsr3ca7nbQ1FV70SK2Rj1BKM4aqNZgjTrlsNoMATkFMl5dM7WOVF2zo4Jr68EIN/LtDZBWhoGw2Di/o41luBTskPLPpMdpwYzto/+LzJatEW+EsIxkpawCp8QsgRAK5lNfxavUEopISSYn6MjpfQYIaQTgF8IIdsppQelO1FK5wCYAwADBw7UVGTWFf3bIs1q8ip8l4ei3zOLMaZnHubeNiiiY3o8FGfrnTEtxKYmckkychZ+vcONo5Xy8fh6Ib/HAKwt/DO6XXhLo/bfmjIYWfbj6OgpBQxG9Bk5SWEJGclIWIVPKR0TbBsh5BQhpDWl9AQhpDWAMrn9KKXH+P8PEUKWAegPIEDhax1xrXrB775kt+xXbhRzVx7C337Yk/gTlDyNjcSwu9wJP1EdDmIwYMh1jzZ6/35/+gnbXhgDNJQCBhYtzVCGaH343wK4jV++DUBAJ2ZCSDYhXLohISQXwHAAu6I8ryqIQwUf+1K+mNWBsmrsPdm4ZJoNJVxA0+ma+DVZURI5C18uSqfB6UGtXd8KPxKoEMJpSMzKmAztE63CfwHAxYSQ/QDG8OsghAwkhMzl9+kJYAMhZCuApeB8+Amv8A+UyafEj3llOS55bXmjjte1ZXr4nRKIXSfOBYy5ZSa37S53yBo7z0zshbWPXxRT2bTMPlM3AICH8IqeKXyGQkT17kgprQAQcGdSSjcAmMov/wagTzTn0Qqxbj8Yi/6vWkKuHaTdGajwq+qdIX347XNS/Bpc6xkHNaHVPT8CAAhfUIAY9eHiY2gP5ixsArHO/pSLR09k5NpBymURP/T5VgDcA9Qpk7Fs09mDMBT7rYXoldUcAGBy1wMADGk5oT7CYERMYme3xJlYK/xEL6kgRS7aSM7CF0i3mmTr3VsTqGl5tDhMPreemVf4ZqbwGQrBFH4TiLVLRy9F06RMH9XZu+wMkaCWajGhZWZgNUm99bAV2GYb6F0+By6j2pHa2jtm8XBZypZ0pvAZyqDPO0shwln4TW1OrTeXzgNjuqIgNw0XF/ry70IVmUu1GJGdGuivtunUwu8782dUgqs7lEb5OYyWvbzbLZSz8FMym8ddNkZywBR+Ewin8OuamB3qdOkk44rngTHdsPSRUX7hmW4PxexfD2Lj4TMBdXVSLEZkyrh0bGb9XpblJi6H0cjnKOZ08SXtWSln4ac2YwqfoQxs0rYJBHPpHCirRorFBLNIo1FKQ1aK3F5ahQadJh+JG5c0ON14YeEeAIFlFowGgvM6N8dPu/wLiOnVwgeAnKkLsG71N/BU/I708o3o1e9877Yzpjzkus4inSl8hkIwhd8ETEEs/DGvcHH3vzx8gXfM7vIEKK6V+0/j5v+sxds3FWP6x5uUE1RlxAq/gg/VNJDASV0Cru75rcPy0fnxH7zjevXhA0Buqw7IvfJe2W05U7/E5m2/on8mqyzJUAam8JtAuKbaYpeOnML/ZssxAMCCTcdkPz+4QB+TdXIZty0yrAGlk4U3IGkrQz1b+KHIbdUeua1uVlsMho7RrymlAKYwUTozRFa7XK0YIQRRrvTveZ2b4/M/DotSQm1glKllL1X2AGfhS/nu3vMTvtsVg6FV2J3VBMxGAx4c0w0f3TlEdvuRM77sUbn4c5/C9yUoFbXPwpTh+Xjx6r4xllY9jCHmLoZ38fmn5Xbr3baZEiIxGAwwl06TuX9MVwBc0lCNPTCzVMAuE2MvRKSUiZqElFbW4eu7E7fpiRzGEG9CKWbfJUdkbXwGg6EUTOFHSDj3ToMz0KUjfEZcHVMvlTLFhLLwUywi/7xot2WPjAr7mzIYjOhgCj9CwvVclUuqimUfXC0jnYQVkxIkxj4/N3F7+TIYiQLz4UeIJYw1KlcULFTWqZ6Qi9IRSBFF4DB7nsGIL0zhR4g5TKy4q5EW/ts3FcdMJq1gCKHwbSKXTiMbZDEYjBjBXDoREi500OH24PMNR3G6xo4Zo7oA4Prgipk/bRgG5usj9l5M4y18pvEZjHjCFH6EhFP4LjfFo/O3AYBX4Yu7P2WlmnWp7IHQPvxUZuEzGKrBXDoRMqxT6HoncpO2Ygtfz00+Qin8ZM2iZTC0AFP4EfLYpT1w94Wdg25/+IutAWNiH75VxxUhQ4VlistPGJiJz2DEFf1qHYUxGw0Y3iXXu56b7t/IQ6zYnG4PrvrXKqw6cNo7pucCYaEmbU9X+0osMH3PYMQX/WqdOCAuA9A+JyXofsfP1mPTkbPYdOSsd0xvDcyl/Gmc/BvQ5f3a4KVr9FNGgsFIJJjCj4JMmxlPXlYIAGifnRp0P7loFIuOLXyAa3PYrWWG39iKRy9Ev/ZZaJlpU0kqBiO50bfWiSNyzbgFah2BNXf07NIRkBaQEyKbhFaQoRrEMBiM2KN/raMwwjRsqMgUcXVMgWRQ+NKOXkLHMKH1L1P3DEZ80b/WURghPHOsqHG3lHP1gfXvg3XP0hPSAnJSNxYz8BmM+MISr6KksE0mSl6YEHKfanugwqdJUFanR6tMv3XBpSP8n25llx+DEU/0b2ZqgONnGwLG5Mon642R3Vpg1czR6NYyHYCvReR5nZvj/y7pjueu6K2meAxG0sFMrDjwj0V7A8bkJnL1SNusFHw8dSh2Hq/yxucbDAR3X9hFZckYjOSDWfgqURuiW5beaJFhxajueWqLwWAkPUzhq0StXf8uHQaDoS2YwleYAR2zZcfrksSlw2AwtAPz4atAu+wUzBzfQ20xGAxGksEsfAW4a2QnAMBDF3eTTS5a+afRuKxvm/gKxWAwkh5m4SvA45f2xOOX9gQALN9XrrI0DAaDwcEUfgx57oreWHOowm+MZZMyGAytwFw6MeTmoR3x5o3+Tcn/dmUf77LJQJCTZom3WAwGgwGAWfiK07VlBhY9MBLL95Xj1vM6ssbdDAZDNZjCjwPdW2Wge6uM8DsyGAyGgkTl0iGEXEsI2UkI8RBCBobYbxwhZC8h5AAhZGY052QwGAxGZETrw98B4CoAy4PtQAgxAngLwHgAhQAmE0IKozwvg8FgMJpIVC4dSuluIGznosEADlBKD/H7zgMwCcCuaM7NYDAYjKYRjyidtgCOitZL+bEACCF3EUI2EEI2lJez+HUGg8GIJWEtfELIEgCtZDb9mVL6TSyFoZTOATAHAAYOHJgELUIYDAYjfoRV+JTSMVGe4xiA9qL1dvwYg8FgMOJIPFw66wF0JYQUEEIsAG4A8G0czstgMBgMEdGGZV5JCCkFMAzA94SQRfx4G0LIDwBAKXUBuAfAIgC7AXxOKd0ZndgMBoPBaCqEarSbNiGkHMDhKA6RC+B0jMRRmkSSFUgseRNJViCx5E0kWYHEkjcaWTtSSlvIbdCswo8WQsgGSmnQZDAtkUiyAoklbyLJCiSWvIkkK5BY8iolKyuexmAwGEkCU/gMBoORJOhZ4c9RW4AmkEiyAoklbyLJCiSWvIkkK5BY8ioiq259+AwGg8HwR88WPoPBYDBEMIXPYDAYSYLuFL4Wa+8TQt4lhJQRQnaIxnIIIT8RQvbz/2fz44QQ8jov/zZCSHHwIysia3tCyFJCyC6+18H9GpfXRghZRwjZysv7DD9eQAhZy8v1GZ/lDUKIlV8/wG/Pj6e8vAxGQshmQsh3CSBrCSFkOyFkCyFkAz+m1WshixAynxCyhxCymxAyTMOydud/U+HfOULIA4rLSynVzT8ARgAHAXQCYAGwFUChBuQaCaAYwA7R2EsAZvLLMwG8yC9fCmAhAAJgKIC1cZa1NYBifjkDwD5wfQy0Ki8BkM4vmwGs5eX4HMAN/PhsANP55RkAZvPLNwD4TIXr4SEAnwD4jl/XsqwlAHIlY1q9Fj4AMJVftgDI0qqsErmNAE4C6Ki0vKp8QQV/uGEAFonWHwPwmNpy8bLkSxT+XgCt+eXWAPbyy/8GMFluP5Xk/gbAxYkgL4BUAJsADAGXpWiSXhfgSnwM45dN/H4kjjK2A/AzgNEAvuNvYE3Kyp9XTuFr7loA0AzA79LfR4uyysg+FsCqeMirN5dOo2vva4CWlNIT/PJJAC35Zc18B96F0B+c1axZeXkXyRYAZQB+AveWd5ZydZykMnnl5bdXAWgeR3FfA/AoAA+/3hzalRUAKIDFhJCNhJC7+DEtXgsFAMoBvMe7y+YSQtI0KquUGwB8yi8rKq/eFH5CQrlHtqbiYwkh6QAWAHiAUnpOvE1r8lJK3ZTSInDW82AAPVQWSRZCyGUAyiilG9WWpQmcTyktBtei9G5CyEjxRg1dCyZwbtO3KaX9AdSCc4l40ZCsXvj5mokAvpBuU0JevSn8RKq9f4oQ0hoA+P/L+HHVvwMhxAxO2X9MKf2SH9asvAKU0rMAloJzi2QRQoR+D2KZvPLy25sBqIiTiMMBTCSElACYB86t80+NygoAoJQe4/8vA/AVuAeqFq+FUgCllNK1/Pp8cA8ALcoqZjyATZTSU/y6ovLqTeEnUu39bwHcxi/fBs5XLozfys/KDwVQJXrFUxxCCAHwHwC7KaWvJIC8LQghWfxyCrj5ht3gFP81QeQVvsc1AH7hLSnFoZQ+RiltRynNB3dt/kIpvUmLsgIAISSNEJIhLIPzNe+ABq8FSulJAEcJId35oYvA9c3WnKwSJsPnzhHkUk5eNSYpFJ4AuRRcZMlBcG0YtSDTpwBOAHCCs0TuBOeL/RnAfgBLAOTw+xIAb/HybwcwMM6yng/uNXIbgC38v0s1LG9fAJt5eXcAeJIf7wRgHYAD4F6Xrfy4jV8/wG/vpNI1MQq+KB1NysrLtZX/t1O4nzR8LRQB2MBfC18DyNaqrLwMaeDe2JqJxhSVl5VWYDAYjCRBby4dBoPBYASBKXwGg8FIEpjCZzAYjCSBKXwGg8FIEpjCZzAYjCSBKXwGg8FIEpjCZzAYjCTh/wFuyIVrKB/INwAAAABJRU5ErkJggg==\n"
                },
                "metadata": {
                  "needs_background": "light"
                }
              }
            ]
          }
        },
        "88cf20e1fccb4e808457b11c8cdf50da": {
          "model_module": "@jupyter-widgets/base",
          "model_name": "LayoutModel",
          "model_module_version": "1.2.0",
          "state": {
            "_model_module": "@jupyter-widgets/base",
            "_model_module_version": "1.2.0",
            "_model_name": "LayoutModel",
            "_view_count": null,
            "_view_module": "@jupyter-widgets/base",
            "_view_module_version": "1.2.0",
            "_view_name": "LayoutView",
            "align_content": null,
            "align_items": null,
            "align_self": null,
            "border": null,
            "bottom": null,
            "display": null,
            "flex": null,
            "flex_flow": null,
            "grid_area": null,
            "grid_auto_columns": null,
            "grid_auto_flow": null,
            "grid_auto_rows": null,
            "grid_column": null,
            "grid_gap": null,
            "grid_row": null,
            "grid_template_areas": null,
            "grid_template_columns": null,
            "grid_template_rows": null,
            "height": null,
            "justify_content": null,
            "justify_items": null,
            "left": null,
            "margin": null,
            "max_height": null,
            "max_width": null,
            "min_height": null,
            "min_width": null,
            "object_fit": null,
            "object_position": null,
            "order": null,
            "overflow": null,
            "overflow_x": null,
            "overflow_y": null,
            "padding": null,
            "right": null,
            "top": null,
            "visibility": null,
            "width": null
          }
        },
        "8840d9a6ec124e20917004745252aca1": {
          "model_module": "@jupyter-widgets/base",
          "model_name": "LayoutModel",
          "model_module_version": "1.2.0",
          "state": {
            "_model_module": "@jupyter-widgets/base",
            "_model_module_version": "1.2.0",
            "_model_name": "LayoutModel",
            "_view_count": null,
            "_view_module": "@jupyter-widgets/base",
            "_view_module_version": "1.2.0",
            "_view_name": "LayoutView",
            "align_content": null,
            "align_items": null,
            "align_self": null,
            "border": null,
            "bottom": null,
            "display": null,
            "flex": null,
            "flex_flow": null,
            "grid_area": null,
            "grid_auto_columns": null,
            "grid_auto_flow": null,
            "grid_auto_rows": null,
            "grid_column": null,
            "grid_gap": null,
            "grid_row": null,
            "grid_template_areas": null,
            "grid_template_columns": null,
            "grid_template_rows": null,
            "height": null,
            "justify_content": null,
            "justify_items": null,
            "left": null,
            "margin": null,
            "max_height": null,
            "max_width": null,
            "min_height": null,
            "min_width": null,
            "object_fit": null,
            "object_position": null,
            "order": null,
            "overflow": null,
            "overflow_x": null,
            "overflow_y": null,
            "padding": null,
            "right": null,
            "top": null,
            "visibility": null,
            "width": null
          }
        },
        "bcd0cf8f233743cab0b7ab9e020a32cc": {
          "model_module": "@jupyter-widgets/controls",
          "model_name": "SliderStyleModel",
          "model_module_version": "1.5.0",
          "state": {
            "_model_module": "@jupyter-widgets/controls",
            "_model_module_version": "1.5.0",
            "_model_name": "SliderStyleModel",
            "_view_count": null,
            "_view_module": "@jupyter-widgets/base",
            "_view_module_version": "1.2.0",
            "_view_name": "StyleView",
            "description_width": "",
            "handle_color": null
          }
        },
        "f6377e5a589f472886a6ea7b426cc5d9": {
          "model_module": "@jupyter-widgets/base",
          "model_name": "LayoutModel",
          "model_module_version": "1.2.0",
          "state": {
            "_model_module": "@jupyter-widgets/base",
            "_model_module_version": "1.2.0",
            "_model_name": "LayoutModel",
            "_view_count": null,
            "_view_module": "@jupyter-widgets/base",
            "_view_module_version": "1.2.0",
            "_view_name": "LayoutView",
            "align_content": null,
            "align_items": null,
            "align_self": null,
            "border": null,
            "bottom": null,
            "display": null,
            "flex": null,
            "flex_flow": null,
            "grid_area": null,
            "grid_auto_columns": null,
            "grid_auto_flow": null,
            "grid_auto_rows": null,
            "grid_column": null,
            "grid_gap": null,
            "grid_row": null,
            "grid_template_areas": null,
            "grid_template_columns": null,
            "grid_template_rows": null,
            "height": null,
            "justify_content": null,
            "justify_items": null,
            "left": null,
            "margin": null,
            "max_height": null,
            "max_width": null,
            "min_height": null,
            "min_width": null,
            "object_fit": null,
            "object_position": null,
            "order": null,
            "overflow": null,
            "overflow_x": null,
            "overflow_y": null,
            "padding": null,
            "right": null,
            "top": null,
            "visibility": null,
            "width": null
          }
        }
      }
    }
  },
  "cells": [
    {
      "cell_type": "code",
      "execution_count": null,
      "metadata": {
        "id": "lJTvFaBGK6jf"
      },
      "outputs": [],
      "source": [
        "import numpy as np\n",
        "import pandas as pd\n",
        "import matplotlib.pyplot as plt\n",
        "from sklearn.linear_model import Ridge\n",
        "from sklearn.ensemble import BaggingRegressor\n",
        "from sklearn.model_selection import RandomizedSearchCV, TimeSeriesSplit\n",
        "from sklearn.metrics import r2_score, mean_squared_error, mean_absolute_error\n",
        "from ipywidgets import interact, IntSlider"
      ]
    },
    {
      "cell_type": "code",
      "source": [
        "def generate_data(n_samples, noise):\n",
        "    time = np.linspace(0, 10, n_samples)\n",
        "    position = np.exp(- 0.2 * time) * np.cos(4 * time)\n",
        "    noise_sample = np.random.normal(0, noise, size=(n_samples, ))\n",
        "    return position + noise_sample"
      ],
      "metadata": {
        "id": "hyuMbB0oL3ZD"
      },
      "execution_count": null,
      "outputs": []
    },
    {
      "cell_type": "code",
      "source": [
        "position = generate_data(1000, 0.1)"
      ],
      "metadata": {
        "id": "Lr8eqc3GPd3p"
      },
      "execution_count": null,
      "outputs": []
    },
    {
      "cell_type": "code",
      "source": [
        "fig, ax = plt.subplots()\n",
        "ax.plot(position)\n",
        "ax.set_xlabel(\"Tiempo\")\n",
        "ax.set_ylabel(\"Posicion\")"
      ],
      "metadata": {
        "colab": {
          "base_uri": "https://localhost:8080/",
          "height": 297
        },
        "id": "0MD1ejU3Ph-v",
        "outputId": "8d3071b6-eee6-4440-d8c0-0620057f63cf"
      },
      "execution_count": null,
      "outputs": [
        {
          "output_type": "execute_result",
          "data": {
            "text/plain": [
              "Text(0, 0.5, 'Posicion')"
            ]
          },
          "metadata": {},
          "execution_count": 20
        },
        {
          "output_type": "display_data",
          "data": {
            "text/plain": [
              "<Figure size 432x288 with 1 Axes>"
            ],
            "image/png": "[encoded data removed]"
          },
          "metadata": {
            "needs_background": "light"
          }
        }
      ]
    },
    {
      "cell_type": "code",
      "source": [
        "position.shape"
      ],
      "metadata": {
        "colab": {
          "base_uri": "https://localhost:8080/"
        },
        "id": "XhJnEzv1PlJX",
        "outputId": "af8bfeb6-5ed7-4947-c832-18dd3aabeac0"
      },
      "execution_count": null,
      "outputs": [
        {
          "output_type": "execute_result",
          "data": {
            "text/plain": [
              "(1000,)"
            ]
          },
          "metadata": {},
          "execution_count": 21
        }
      ]
    },
    {
      "cell_type": "code",
      "source": [
        "train_samples = int(position.size * 0.7)\n",
        "x_train, x_test = position[:train_samples], position[train_samples:]"
      ],
      "metadata": {
        "id": "O7NsOeIRQvGA"
      },
      "execution_count": null,
      "outputs": []
    },
    {
      "cell_type": "code",
      "source": [
        "x_train.shape"
      ],
      "metadata": {
        "colab": {
          "base_uri": "https://localhost:8080/"
        },
        "id": "Jqu6_di6RIOo",
        "outputId": "50506575-4f3d-4029-c8a5-17cb380199ed"
      },
      "execution_count": null,
      "outputs": [
        {
          "output_type": "execute_result",
          "data": {
            "text/plain": [
              "(700,)"
            ]
          },
          "metadata": {},
          "execution_count": 23
        }
      ]
    },
    {
      "cell_type": "code",
      "source": [
        "x_test.shape"
      ],
      "metadata": {
        "colab": {
          "base_uri": "https://localhost:8080/"
        },
        "id": "jJi7AHzWRJcf",
        "outputId": "dbc5f66a-2984-4b6c-8ab0-301de1d16032"
      },
      "execution_count": null,
      "outputs": [
        {
          "output_type": "execute_result",
          "data": {
            "text/plain": [
              "(300,)"
            ]
          },
          "metadata": {},
          "execution_count": 24
        }
      ]
    },
    {
      "cell_type": "code",
      "source": [
        "window_size = 100\n",
        "def show_window(t0):\n",
        "    fig, ax = plt.subplots()\n",
        "    ax.plot(x_train, label=\"Datos\")\n",
        "\n",
        "    window = np.arange(t0, t0 + window_size)\n",
        "    ax.plot(window, x_train[window], label=\"Ventana\")\n",
        "    ax.scatter(\n",
        "        [t0 + window_size],\n",
        "        [x_train[t0 + window_size]],\n",
        "        c=\"r\",\n",
        "        s=100,\n",
        "        label=\"Prediccion\"\n",
        "        )\n",
        "    ax.legend()"
      ],
      "metadata": {
        "id": "_cDg3KMKRKl_"
      },
      "execution_count": null,
      "outputs": []
    },
    {
      "cell_type": "code",
      "source": [
        "interact(\n",
        "    show_window,\n",
        "    t0=IntSlider(value=0, min=0, max=x_train.size - window_size - 1)\n",
        "    )"
      ],
      "metadata": {
        "colab": {
          "base_uri": "https://localhost:8080/",
          "height": 315,
          "referenced_widgets": [
            "61b5bcf6aa0648fd85e3e64f92a924e6",
            "541293c7e0b04d2c87e22ff59c5254c9",
            "f335ac8d83ac4005b61f79179c0019f2",
            "88cf20e1fccb4e808457b11c8cdf50da",
            "8840d9a6ec124e20917004745252aca1",
            "bcd0cf8f233743cab0b7ab9e020a32cc",
            "f6377e5a589f472886a6ea7b426cc5d9"
          ]
        },
        "id": "6xO0jO0dSpFR",
        "outputId": "4b6a5a79-3563-4faa-b77f-75e44bd975b3"
      },
      "execution_count": null,
      "outputs": [
        {
          "output_type": "display_data",
          "data": {
            "text/plain": [
              "interactive(children=(IntSlider(value=0, description='t0', max=599), Output()), _dom_classes=('widget-interact…"
            ],
            "application/vnd.jupyter.widget-view+json": {
              "version_major": 2,
              "version_minor": 0,
              "model_id": "61b5bcf6aa0648fd85e3e64f92a924e6"
            }
          },
          "metadata": {}
        },
        {
          "output_type": "execute_result",
          "data": {
            "text/plain": [
              "<function __main__.show_window(t0)>"
            ]
          },
          "metadata": {},
          "execution_count": 37
        }
      ]
    },
    {
      "cell_type": "code",
      "source": [
        "def get_windows(x, window_size=20):\n",
        "    X, y = [], []\n",
        "    for i in range(x.size - window_size - 1):\n",
        "        X.append(x[i: i + window_size].reshape(1, -1))\n",
        "        y.append(x[i + window_size])\n",
        "    return np.concatenate(X, axis=0), np.array(y)"
      ],
      "metadata": {
        "id": "KXU6dXNzS0sP"
      },
      "execution_count": null,
      "outputs": []
    },
    {
      "cell_type": "code",
      "source": [
        "X_train, y_train = get_windows(x_train)"
      ],
      "metadata": {
        "id": "CyVnHiKlT9DI"
      },
      "execution_count": null,
      "outputs": []
    },
    {
      "cell_type": "code",
      "source": [
        "X_train.shape"
      ],
      "metadata": {
        "colab": {
          "base_uri": "https://localhost:8080/"
        },
        "id": "aZSGqplVUA6f",
        "outputId": "a01f40c7-0c21-4dc2-8516-758944b9e519"
      },
      "execution_count": null,
      "outputs": [
        {
          "output_type": "execute_result",
          "data": {
            "text/plain": [
              "(679, 20)"
            ]
          },
          "metadata": {},
          "execution_count": 45
        }
      ]
    },
    {
      "cell_type": "code",
      "source": [
        "y_train.shape"
      ],
      "metadata": {
        "colab": {
          "base_uri": "https://localhost:8080/"
        },
        "id": "wIWYSZVxUCGe",
        "outputId": "c2e11808-3d25-4c18-9ff6-7b150327d8ef"
      },
      "execution_count": null,
      "outputs": [
        {
          "output_type": "execute_result",
          "data": {
            "text/plain": [
              "(679,)"
            ]
          },
          "metadata": {},
          "execution_count": 46
        }
      ]
    },
    {
      "cell_type": "code",
      "source": [
        "X_test, y_test = get_windows(x_test)"
      ],
      "metadata": {
        "id": "dFiD1PymUQqH"
      },
      "execution_count": null,
      "outputs": []
    },
    {
      "cell_type": "code",
      "source": [
        "X_test.shape"
      ],
      "metadata": {
        "colab": {
          "base_uri": "https://localhost:8080/"
        },
        "id": "VoE6DWIvUWUn",
        "outputId": "b39a32da-cf61-40c1-9b3c-f429d054e002"
      },
      "execution_count": null,
      "outputs": [
        {
          "output_type": "execute_result",
          "data": {
            "text/plain": [
              "(279, 20)"
            ]
          },
          "metadata": {},
          "execution_count": 48
        }
      ]
    },
    {
      "cell_type": "code",
      "source": [
        "y_test.shape"
      ],
      "metadata": {
        "colab": {
          "base_uri": "https://localhost:8080/"
        },
        "id": "q2xMQ6LUUYUX",
        "outputId": "e4f91176-cbb0-4c0a-d928-403e939b8c53"
      },
      "execution_count": null,
      "outputs": [
        {
          "output_type": "execute_result",
          "data": {
            "text/plain": [
              "(279,)"
            ]
          },
          "metadata": {},
          "execution_count": 49
        }
      ]
    },
    {
      "cell_type": "code",
      "source": [
        "BaggingRegressor?"
      ],
      "metadata": {
        "id": "k8rHS9lgUZVv"
      },
      "execution_count": null,
      "outputs": []
    },
    {
      "cell_type": "code",
      "source": [
        "estimator = BaggingRegressor(\n",
        "    base_estimator=Ridge(), \n",
        ")"
      ],
      "metadata": {
        "id": "aHPctdzLU36n"
      },
      "execution_count": null,
      "outputs": []
    },
    {
      "cell_type": "code",
      "source": [
        "param_grid = {\n",
        "    \"n_estimators\": np.arange(5, 10),\n",
        "    \"max_features\": np.linspace(0.5, 1, 6),\n",
        "    \"max_samples\": np.linspace(0.4, 0.8, 5)\n",
        "}"
      ],
      "metadata": {
        "id": "XwcPBBSwVcKH"
      },
      "execution_count": null,
      "outputs": []
    },
    {
      "cell_type": "code",
      "source": [
        "5 * 5 * 6"
      ],
      "metadata": {
        "colab": {
          "base_uri": "https://localhost:8080/"
        },
        "id": "cKiwbJWeWlQY",
        "outputId": "287d52f8-f0f2-4bde-e11b-9ad548a36d70"
      },
      "execution_count": null,
      "outputs": [
        {
          "output_type": "execute_result",
          "data": {
            "text/plain": [
              "150"
            ]
          },
          "metadata": {},
          "execution_count": 56
        }
      ]
    },
    {
      "cell_type": "code",
      "source": [
        "param_grid"
      ],
      "metadata": {
        "colab": {
          "base_uri": "https://localhost:8080/"
        },
        "id": "C8KkgY6jVy4X",
        "outputId": "8d6074ac-ec5a-4ecf-8506-bb933bfd04cf"
      },
      "execution_count": null,
      "outputs": [
        {
          "output_type": "execute_result",
          "data": {
            "text/plain": [
              "{'n_estimators': array([5, 6, 7, 8, 9]),\n",
              " 'max_features': array([0.5, 0.6, 0.7, 0.8, 0.9, 1. ]),\n",
              " 'max_samples': array([0.4, 0.5, 0.6, 0.7, 0.8])}"
            ]
          },
          "metadata": {},
          "execution_count": 53
        }
      ]
    },
    {
      "cell_type": "code",
      "source": [
        "RandomizedSearchCV?"
      ],
      "metadata": {
        "id": "YJzwiK5KWX5M"
      },
      "execution_count": null,
      "outputs": []
    },
    {
      "cell_type": "code",
      "source": [
        "rsearch = RandomizedSearchCV(\n",
        "    estimator = estimator,\n",
        "    param_distributions = param_grid,\n",
        "    cv = TimeSeriesSplit(n_splits=3, max_train_size=100),\n",
        "    n_iter = 20\n",
        ")"
      ],
      "metadata": {
        "id": "AEvy6UBZVzgH"
      },
      "execution_count": null,
      "outputs": []
    },
    {
      "cell_type": "code",
      "source": [
        "rsearch.fit(X_train, y_train)"
      ],
      "metadata": {
        "colab": {
          "base_uri": "https://localhost:8080/"
        },
        "id": "GugLaNaEW5uT",
        "outputId": "c6607da6-77c7-4a50-afcb-0ef4620f6ad8"
      },
      "execution_count": null,
      "outputs": [
        {
          "output_type": "execute_result",
          "data": {
            "text/plain": [
              "RandomizedSearchCV(cv=TimeSeriesSplit(gap=0, max_train_size=100, n_splits=3, test_size=None),\n",
              "                   estimator=BaggingRegressor(base_estimator=Ridge()),\n",
              "                   n_iter=20,\n",
              "                   param_distributions={'max_features': array([0.5, 0.6, 0.7, 0.8, 0.9, 1. ]),\n",
              "                                        'max_samples': array([0.4, 0.5, 0.6, 0.7, 0.8]),\n",
              "                                        'n_estimators': array([5, 6, 7, 8, 9])})"
            ]
          },
          "metadata": {},
          "execution_count": 58
        }
      ]
    },
    {
      "cell_type": "code",
      "source": [
        "pd.DataFrame(rsearch.cv_results_)"
      ],
      "metadata": {
        "colab": {
          "base_uri": "https://localhost:8080/",
          "height": 1000
        },
        "id": "2Yc1x0v9W8XO",
        "outputId": "250b8e12-f80b-406b-a84c-6b0169167be8"
      },
      "execution_count": null,
      "outputs": [
        {
          "output_type": "execute_result",
          "data": {
            "text/plain": [
              "    mean_fit_time  std_fit_time  mean_score_time  std_score_time  \\\n",
              "0        0.016327      0.007553         0.000976        0.000061   \n",
              "1        0.013022      0.000098         0.001000        0.000022   \n",
              "2        0.012739      0.000022         0.001082        0.000129   \n",
              "3        0.007371      0.000071         0.000793        0.000012   \n",
              "4        0.012889      0.000082         0.001055        0.000042   \n",
              "5        0.007392      0.000022         0.000761        0.000011   \n",
              "6        0.011248      0.002747         0.001193        0.000300   \n",
              "7        0.018871      0.001336         0.001641        0.000073   \n",
              "8        0.012033      0.000330         0.001324        0.000038   \n",
              "9        0.018808      0.005384         0.006448        0.007232   \n",
              "10       0.024047      0.006180         0.001444        0.000297   \n",
              "11       0.010121      0.000041         0.000893        0.000004   \n",
              "12       0.009635      0.001296         0.001213        0.000532   \n",
              "13       0.012776      0.000163         0.000993        0.000012   \n",
              "14       0.010838      0.000434         0.000933        0.000043   \n",
              "15       0.009237      0.000128         0.000893        0.000005   \n",
              "16       0.011971      0.000080         0.001035        0.000019   \n",
              "17       0.013741      0.000954         0.001547        0.000689   \n",
              "18       0.008905      0.000091         0.000823        0.000016   \n",
              "19       0.007428      0.000127         0.000798        0.000043   \n",
              "\n",
              "   param_n_estimators param_max_samples param_max_features  \\\n",
              "0                   7               0.4                0.6   \n",
              "1                   9               0.6                0.6   \n",
              "2                   9               0.6                1.0   \n",
              "3                   5               0.7                1.0   \n",
              "4                   9               0.7                0.5   \n",
              "5                   5               0.7                0.8   \n",
              "6                   5               0.6                1.0   \n",
              "7                   8               0.4                0.8   \n",
              "8                   5               0.5                0.7   \n",
              "9                   5               0.8                0.7   \n",
              "10                  8               0.7                0.7   \n",
              "11                  7               0.6                0.9   \n",
              "12                  6               0.7                0.6   \n",
              "13                  9               0.8                0.5   \n",
              "14                  7               0.8                1.0   \n",
              "15                  6               0.8                0.8   \n",
              "16                  8               0.5                0.5   \n",
              "17                  9               0.8                1.0   \n",
              "18                  6               0.4                0.7   \n",
              "19                  5               0.6                0.6   \n",
              "\n",
              "                                               params  split0_test_score  \\\n",
              "0   {'n_estimators': 7, 'max_samples': 0.4, 'max_f...           0.909453   \n",
              "1   {'n_estimators': 9, 'max_samples': 0.600000000...           0.901747   \n",
              "2   {'n_estimators': 9, 'max_samples': 0.600000000...           0.924377   \n",
              "3   {'n_estimators': 5, 'max_samples': 0.700000000...           0.924716   \n",
              "4   {'n_estimators': 9, 'max_samples': 0.700000000...           0.898004   \n",
              "5   {'n_estimators': 5, 'max_samples': 0.700000000...           0.918688   \n",
              "6   {'n_estimators': 5, 'max_samples': 0.600000000...           0.919799   \n",
              "7   {'n_estimators': 8, 'max_samples': 0.4, 'max_f...           0.886984   \n",
              "8   {'n_estimators': 5, 'max_samples': 0.5, 'max_f...           0.890892   \n",
              "9   {'n_estimators': 5, 'max_samples': 0.8, 'max_f...           0.914960   \n",
              "10  {'n_estimators': 8, 'max_samples': 0.700000000...           0.916352   \n",
              "11  {'n_estimators': 7, 'max_samples': 0.600000000...           0.917120   \n",
              "12  {'n_estimators': 6, 'max_samples': 0.700000000...           0.906957   \n",
              "13  {'n_estimators': 9, 'max_samples': 0.8, 'max_f...           0.903694   \n",
              "14  {'n_estimators': 7, 'max_samples': 0.8, 'max_f...           0.920502   \n",
              "15  {'n_estimators': 6, 'max_samples': 0.8, 'max_f...           0.919934   \n",
              "16  {'n_estimators': 8, 'max_samples': 0.5, 'max_f...           0.882209   \n",
              "17  {'n_estimators': 9, 'max_samples': 0.8, 'max_f...           0.924438   \n",
              "18  {'n_estimators': 6, 'max_samples': 0.4, 'max_f...           0.899724   \n",
              "19  {'n_estimators': 5, 'max_samples': 0.600000000...           0.911371   \n",
              "\n",
              "    split1_test_score  split2_test_score  mean_test_score  std_test_score  \\\n",
              "0            0.809934           0.790092         0.836493        0.052222   \n",
              "1            0.844219           0.795881         0.847282        0.043274   \n",
              "2            0.855571           0.814080         0.864676        0.045486   \n",
              "3            0.848726           0.810725         0.861389        0.047390   \n",
              "4            0.838714           0.799324         0.845347        0.040558   \n",
              "5            0.858642           0.806809         0.861380        0.045715   \n",
              "6            0.866967           0.809594         0.865453        0.045004   \n",
              "7            0.836436           0.801131         0.841517        0.035233   \n",
              "8            0.827849           0.803524         0.840755        0.036817   \n",
              "9            0.844274           0.811684         0.856973        0.043108   \n",
              "10           0.848354           0.800016         0.854907        0.047719   \n",
              "11           0.843831           0.808805         0.856585        0.045130   \n",
              "12           0.866463           0.814994         0.862804        0.037633   \n",
              "13           0.838928           0.803873         0.848832        0.041349   \n",
              "14           0.865124           0.812134         0.865920        0.044245   \n",
              "15           0.853655           0.812901         0.862163        0.044108   \n",
              "16           0.797869           0.804941         0.828339        0.038200   \n",
              "17           0.870734           0.809280         0.868151        0.047049   \n",
              "18           0.832309           0.800064         0.844032        0.041522   \n",
              "19           0.836300           0.801278         0.849650        0.045926   \n",
              "\n",
              "    rank_test_score  \n",
              "0                19  \n",
              "1                14  \n",
              "2                 4  \n",
              "3                 7  \n",
              "4                15  \n",
              "5                 8  \n",
              "6                 3  \n",
              "7                17  \n",
              "8                18  \n",
              "9                 9  \n",
              "10               11  \n",
              "11               10  \n",
              "12                5  \n",
              "13               13  \n",
              "14                2  \n",
              "15                6  \n",
              "16               20  \n",
              "17                1  \n",
              "18               16  \n",
              "19               12  "
            ],
            "text/html": [
              "\n",
              "  <div id=\"df-c2a26acc-6750-42c8-9035-5f6052ba9778\">\n",
              "    <div class=\"colab-df-container\">\n",
              "      <div>\n",
              "<style scoped>\n",
              "    .dataframe tbody tr th:only-of-type {\n",
              "        vertical-align: middle;\n",
              "    }\n",
              "\n",
              "    .dataframe tbody tr th {\n",
              "        vertical-align: top;\n",
              "    }\n",
              "\n",
              "    .dataframe thead th {\n",
              "        text-align: right;\n",
              "    }\n",
              "</style>\n",
              "<table border=\"1\" class=\"dataframe\">\n",
              "  <thead>\n",
              "    <tr style=\"text-align: right;\">\n",
              "      <th></th>\n",
              "      <th>mean_fit_time</th>\n",
              "      <th>std_fit_time</th>\n",
              "      <th>mean_score_time</th>\n",
              "      <th>std_score_time</th>\n",
              "      <th>param_n_estimators</th>\n",
              "      <th>param_max_samples</th>\n",
              "      <th>param_max_features</th>\n",
              "      <th>params</th>\n",
              "      <th>split0_test_score</th>\n",
              "      <th>split1_test_score</th>\n",
              "      <th>split2_test_score</th>\n",
              "      <th>mean_test_score</th>\n",
              "      <th>std_test_score</th>\n",
              "      <th>rank_test_score</th>\n",
              "    </tr>\n",
              "  </thead>\n",
              "  <tbody>\n",
              "    <tr>\n",
              "      <th>0</th>\n",
              "      <td>0.016327</td>\n",
              "      <td>0.007553</td>\n",
              "      <td>0.000976</td>\n",
              "      <td>0.000061</td>\n",
              "      <td>7</td>\n",
              "      <td>0.4</td>\n",
              "      <td>0.6</td>\n",
              "      <td>{'n_estimators': 7, 'max_samples': 0.4, 'max_f...</td>\n",
              "      <td>0.909453</td>\n",
              "      <td>0.809934</td>\n",
              "      <td>0.790092</td>\n",
              "      <td>0.836493</td>\n",
              "      <td>0.052222</td>\n",
              "      <td>19</td>\n",
              "    </tr>\n",
              "    <tr>\n",
              "      <th>1</th>\n",
              "      <td>0.013022</td>\n",
              "      <td>0.000098</td>\n",
              "      <td>0.001000</td>\n",
              "      <td>0.000022</td>\n",
              "      <td>9</td>\n",
              "      <td>0.6</td>\n",
              "      <td>0.6</td>\n",
              "      <td>{'n_estimators': 9, 'max_samples': 0.600000000...</td>\n",
              "      <td>0.901747</td>\n",
              "      <td>0.844219</td>\n",
              "      <td>0.795881</td>\n",
              "      <td>0.847282</td>\n",
              "      <td>0.043274</td>\n",
              "      <td>14</td>\n",
              "    </tr>\n",
              "    <tr>\n",
              "      <th>2</th>\n",
              "      <td>0.012739</td>\n",
              "      <td>0.000022</td>\n",
              "      <td>0.001082</td>\n",
              "      <td>0.000129</td>\n",
              "      <td>9</td>\n",
              "      <td>0.6</td>\n",
              "      <td>1.0</td>\n",
              "      <td>{'n_estimators': 9, 'max_samples': 0.600000000...</td>\n",
              "      <td>0.924377</td>\n",
              "      <td>0.855571</td>\n",
              "      <td>0.814080</td>\n",
              "      <td>0.864676</td>\n",
              "      <td>0.045486</td>\n",
              "      <td>4</td>\n",
              "    </tr>\n",
              "    <tr>\n",
              "      <th>3</th>\n",
              "      <td>0.007371</td>\n",
              "      <td>0.000071</td>\n",
              "      <td>0.000793</td>\n",
              "      <td>0.000012</td>\n",
              "      <td>5</td>\n",
              "      <td>0.7</td>\n",
              "      <td>1.0</td>\n",
              "      <td>{'n_estimators': 5, 'max_samples': 0.700000000...</td>\n",
              "      <td>0.924716</td>\n",
              "      <td>0.848726</td>\n",
              "      <td>0.810725</td>\n",
              "      <td>0.861389</td>\n",
              "      <td>0.047390</td>\n",
              "      <td>7</td>\n",
              "    </tr>\n",
              "    <tr>\n",
              "      <th>4</th>\n",
              "      <td>0.012889</td>\n",
              "      <td>0.000082</td>\n",
              "      <td>0.001055</td>\n",
              "      <td>0.000042</td>\n",
              "      <td>9</td>\n",
              "      <td>0.7</td>\n",
              "      <td>0.5</td>\n",
              "      <td>{'n_estimators': 9, 'max_samples': 0.700000000...</td>\n",
              "      <td>0.898004</td>\n",
              "      <td>0.838714</td>\n",
              "      <td>0.799324</td>\n",
              "      <td>0.845347</td>\n",
              "      <td>0.040558</td>\n",
              "      <td>15</td>\n",
              "    </tr>\n",
              "    <tr>\n",
              "      <th>5</th>\n",
              "      <td>0.007392</td>\n",
              "      <td>0.000022</td>\n",
              "      <td>0.000761</td>\n",
              "      <td>0.000011</td>\n",
              "      <td>5</td>\n",
              "      <td>0.7</td>\n",
              "      <td>0.8</td>\n",
              "      <td>{'n_estimators': 5, 'max_samples': 0.700000000...</td>\n",
              "      <td>0.918688</td>\n",
              "      <td>0.858642</td>\n",
              "      <td>0.806809</td>\n",
              "      <td>0.861380</td>\n",
              "      <td>0.045715</td>\n",
              "      <td>8</td>\n",
              "    </tr>\n",
              "    <tr>\n",
              "      <th>6</th>\n",
              "      <td>0.011248</td>\n",
              "      <td>0.002747</td>\n",
              "      <td>0.001193</td>\n",
              "      <td>0.000300</td>\n",
              "      <td>5</td>\n",
              "      <td>0.6</td>\n",
              "      <td>1.0</td>\n",
              "      <td>{'n_estimators': 5, 'max_samples': 0.600000000...</td>\n",
              "      <td>0.919799</td>\n",
              "      <td>0.866967</td>\n",
              "      <td>0.809594</td>\n",
              "      <td>0.865453</td>\n",
              "      <td>0.045004</td>\n",
              "      <td>3</td>\n",
              "    </tr>\n",
              "    <tr>\n",
              "      <th>7</th>\n",
              "      <td>0.018871</td>\n",
              "      <td>0.001336</td>\n",
              "      <td>0.001641</td>\n",
              "      <td>0.000073</td>\n",
              "      <td>8</td>\n",
              "      <td>0.4</td>\n",
              "      <td>0.8</td>\n",
              "      <td>{'n_estimators': 8, 'max_samples': 0.4, 'max_f...</td>\n",
              "      <td>0.886984</td>\n",
              "      <td>0.836436</td>\n",
              "      <td>0.801131</td>\n",
              "      <td>0.841517</td>\n",
              "      <td>0.035233</td>\n",
              "      <td>17</td>\n",
              "    </tr>\n",
              "    <tr>\n",
              "      <th>8</th>\n",
              "      <td>0.012033</td>\n",
              "      <td>0.000330</td>\n",
              "      <td>0.001324</td>\n",
              "      <td>0.000038</td>\n",
              "      <td>5</td>\n",
              "      <td>0.5</td>\n",
              "      <td>0.7</td>\n",
              "      <td>{'n_estimators': 5, 'max_samples': 0.5, 'max_f...</td>\n",
              "      <td>0.890892</td>\n",
              "      <td>0.827849</td>\n",
              "      <td>0.803524</td>\n",
              "      <td>0.840755</td>\n",
              "      <td>0.036817</td>\n",
              "      <td>18</td>\n",
              "    </tr>\n",
              "    <tr>\n",
              "      <th>9</th>\n",
              "      <td>0.018808</td>\n",
              "      <td>0.005384</td>\n",
              "      <td>0.006448</td>\n",
              "      <td>0.007232</td>\n",
              "      <td>5</td>\n",
              "      <td>0.8</td>\n",
              "      <td>0.7</td>\n",
              "      <td>{'n_estimators': 5, 'max_samples': 0.8, 'max_f...</td>\n",
              "      <td>0.914960</td>\n",
              "      <td>0.844274</td>\n",
              "      <td>0.811684</td>\n",
              "      <td>0.856973</td>\n",
              "      <td>0.043108</td>\n",
              "      <td>9</td>\n",
              "    </tr>\n",
              "    <tr>\n",
              "      <th>10</th>\n",
              "      <td>0.024047</td>\n",
              "      <td>0.006180</td>\n",
              "      <td>0.001444</td>\n",
              "      <td>0.000297</td>\n",
              "      <td>8</td>\n",
              "      <td>0.7</td>\n",
              "      <td>0.7</td>\n",
              "      <td>{'n_estimators': 8, 'max_samples': 0.700000000...</td>\n",
              "      <td>0.916352</td>\n",
              "      <td>0.848354</td>\n",
              "      <td>0.800016</td>\n",
              "      <td>0.854907</td>\n",
              "      <td>0.047719</td>\n",
              "      <td>11</td>\n",
              "    </tr>\n",
              "    <tr>\n",
              "      <th>11</th>\n",
              "      <td>0.010121</td>\n",
              "      <td>0.000041</td>\n",
              "      <td>0.000893</td>\n",
              "      <td>0.000004</td>\n",
              "      <td>7</td>\n",
              "      <td>0.6</td>\n",
              "      <td>0.9</td>\n",
              "      <td>{'n_estimators': 7, 'max_samples': 0.600000000...</td>\n",
              "      <td>0.917120</td>\n",
              "      <td>0.843831</td>\n",
              "      <td>0.808805</td>\n",
              "      <td>0.856585</td>\n",
              "      <td>0.045130</td>\n",
              "      <td>10</td>\n",
              "    </tr>\n",
              "    <tr>\n",
              "      <th>12</th>\n",
              "      <td>0.009635</td>\n",
              "      <td>0.001296</td>\n",
              "      <td>0.001213</td>\n",
              "      <td>0.000532</td>\n",
              "      <td>6</td>\n",
              "      <td>0.7</td>\n",
              "      <td>0.6</td>\n",
              "      <td>{'n_estimators': 6, 'max_samples': 0.700000000...</td>\n",
              "      <td>0.906957</td>\n",
              "      <td>0.866463</td>\n",
              "      <td>0.814994</td>\n",
              "      <td>0.862804</td>\n",
              "      <td>0.037633</td>\n",
              "      <td>5</td>\n",
              "    </tr>\n",
              "    <tr>\n",
              "      <th>13</th>\n",
              "      <td>0.012776</td>\n",
              "      <td>0.000163</td>\n",
              "      <td>0.000993</td>\n",
              "      <td>0.000012</td>\n",
              "      <td>9</td>\n",
              "      <td>0.8</td>\n",
              "      <td>0.5</td>\n",
              "      <td>{'n_estimators': 9, 'max_samples': 0.8, 'max_f...</td>\n",
              "      <td>0.903694</td>\n",
              "      <td>0.838928</td>\n",
              "      <td>0.803873</td>\n",
              "      <td>0.848832</td>\n",
              "      <td>0.041349</td>\n",
              "      <td>13</td>\n",
              "    </tr>\n",
              "    <tr>\n",
              "      <th>14</th>\n",
              "      <td>0.010838</td>\n",
              "      <td>0.000434</td>\n",
              "      <td>0.000933</td>\n",
              "      <td>0.000043</td>\n",
              "      <td>7</td>\n",
              "      <td>0.8</td>\n",
              "      <td>1.0</td>\n",
              "      <td>{'n_estimators': 7, 'max_samples': 0.8, 'max_f...</td>\n",
              "      <td>0.920502</td>\n",
              "      <td>0.865124</td>\n",
              "      <td>0.812134</td>\n",
              "      <td>0.865920</td>\n",
              "      <td>0.044245</td>\n",
              "      <td>2</td>\n",
              "    </tr>\n",
              "    <tr>\n",
              "      <th>15</th>\n",
              "      <td>0.009237</td>\n",
              "      <td>0.000128</td>\n",
              "      <td>0.000893</td>\n",
              "      <td>0.000005</td>\n",
              "      <td>6</td>\n",
              "      <td>0.8</td>\n",
              "      <td>0.8</td>\n",
              "      <td>{'n_estimators': 6, 'max_samples': 0.8, 'max_f...</td>\n",
              "      <td>0.919934</td>\n",
              "      <td>0.853655</td>\n",
              "      <td>0.812901</td>\n",
              "      <td>0.862163</td>\n",
              "      <td>0.044108</td>\n",
              "      <td>6</td>\n",
              "    </tr>\n",
              "    <tr>\n",
              "      <th>16</th>\n",
              "      <td>0.011971</td>\n",
              "      <td>0.000080</td>\n",
              "      <td>0.001035</td>\n",
              "      <td>0.000019</td>\n",
              "      <td>8</td>\n",
              "      <td>0.5</td>\n",
              "      <td>0.5</td>\n",
              "      <td>{'n_estimators': 8, 'max_samples': 0.5, 'max_f...</td>\n",
              "      <td>0.882209</td>\n",
              "      <td>0.797869</td>\n",
              "      <td>0.804941</td>\n",
              "      <td>0.828339</td>\n",
              "      <td>0.038200</td>\n",
              "      <td>20</td>\n",
              "    </tr>\n",
              "    <tr>\n",
              "      <th>17</th>\n",
              "      <td>0.013741</td>\n",
              "      <td>0.000954</td>\n",
              "      <td>0.001547</td>\n",
              "      <td>0.000689</td>\n",
              "      <td>9</td>\n",
              "      <td>0.8</td>\n",
              "      <td>1.0</td>\n",
              "      <td>{'n_estimators': 9, 'max_samples': 0.8, 'max_f...</td>\n",
              "      <td>0.924438</td>\n",
              "      <td>0.870734</td>\n",
              "      <td>0.809280</td>\n",
              "      <td>0.868151</td>\n",
              "      <td>0.047049</td>\n",
              "      <td>1</td>\n",
              "    </tr>\n",
              "    <tr>\n",
              "      <th>18</th>\n",
              "      <td>0.008905</td>\n",
              "      <td>0.000091</td>\n",
              "      <td>0.000823</td>\n",
              "      <td>0.000016</td>\n",
              "      <td>6</td>\n",
              "      <td>0.4</td>\n",
              "      <td>0.7</td>\n",
              "      <td>{'n_estimators': 6, 'max_samples': 0.4, 'max_f...</td>\n",
              "      <td>0.899724</td>\n",
              "      <td>0.832309</td>\n",
              "      <td>0.800064</td>\n",
              "      <td>0.844032</td>\n",
              "      <td>0.041522</td>\n",
              "      <td>16</td>\n",
              "    </tr>\n",
              "    <tr>\n",
              "      <th>19</th>\n",
              "      <td>0.007428</td>\n",
              "      <td>0.000127</td>\n",
              "      <td>0.000798</td>\n",
              "      <td>0.000043</td>\n",
              "      <td>5</td>\n",
              "      <td>0.6</td>\n",
              "      <td>0.6</td>\n",
              "      <td>{'n_estimators': 5, 'max_samples': 0.600000000...</td>\n",
              "      <td>0.911371</td>\n",
              "      <td>0.836300</td>\n",
              "      <td>0.801278</td>\n",
              "      <td>0.849650</td>\n",
              "      <td>0.045926</td>\n",
              "      <td>12</td>\n",
              "    </tr>\n",
              "  </tbody>\n",
              "</table>\n",
              "</div>\n",
              "      <button class=\"colab-df-convert\" onclick=\"convertToInteractive('df-c2a26acc-6750-42c8-9035-5f6052ba9778')\"\n",
              "              title=\"Convert this dataframe to an interactive table.\"\n",
              "              style=\"display:none;\">\n",
              "        \n",
              "  <svg xmlns=\"http://www.w3.org/2000/svg\" height=\"24px\"viewBox=\"0 0 24 24\"\n",
              "       width=\"24px\">\n",
              "    <path d=\"M0 0h24v24H0V0z\" fill=\"none\"/>\n",
              "    <path d=\"M18.56 5.44l.94 2.06.94-2.06 2.06-.94-2.06-.94-.94-2.06-.94 2.06-2.06.94zm-11 1L8.5 8.5l.94-2.06 2.06-.94-2.06-.94L8.5 2.5l-.94 2.06-2.06.94zm10 10l.94 2.06.94-2.06 2.06-.94-2.06-.94-.94-2.06-.94 2.06-2.06.94z\"/><path d=\"M17.41 7.96l-1.37-1.37c-.4-.4-.92-.59-1.43-.59-.52 0-1.04.2-1.43.59L10.3 9.45l-7.72 7.72c-.78.78-.78 2.05 0 2.83L4 21.41c.39.39.9.59 1.41.59.51 0 1.02-.2 1.41-.59l7.78-7.78 2.81-2.81c.8-.78.8-2.07 0-2.86zM5.41 20L4 18.59l7.72-7.72 1.47 1.35L5.41 20z\"/>\n",
              "  </svg>\n",
              "      </button>\n",
              "      \n",
              "  <style>\n",
              "    .colab-df-container {\n",
              "      display:flex;\n",
              "      flex-wrap:wrap;\n",
              "      gap: 12px;\n",
              "    }\n",
              "\n",
              "    .colab-df-convert {\n",
              "      background-color: #E8F0FE;\n",
              "      border: none;\n",
              "      border-radius: 50%;\n",
              "      cursor: pointer;\n",
              "      display: none;\n",
              "      fill: #1967D2;\n",
              "      height: 32px;\n",
              "      padding: 0 0 0 0;\n",
              "      width: 32px;\n",
              "    }\n",
              "\n",
              "    .colab-df-convert:hover {\n",
              "      background-color: #E2EBFA;\n",
              "      box-shadow: 0px 1px 2px rgba(60, 64, 67, 0.3), 0px 1px 3px 1px rgba(60, 64, 67, 0.15);\n",
              "      fill: #174EA6;\n",
              "    }\n",
              "\n",
              "    [theme=dark] .colab-df-convert {\n",
              "      background-color: #3B4455;\n",
              "      fill: #D2E3FC;\n",
              "    }\n",
              "\n",
              "    [theme=dark] .colab-df-convert:hover {\n",
              "      background-color: #434B5C;\n",
              "      box-shadow: 0px 1px 3px 1px rgba(0, 0, 0, 0.15);\n",
              "      filter: drop-shadow(0px 1px 2px rgba(0, 0, 0, 0.3));\n",
              "      fill: #FFFFFF;\n",
              "    }\n",
              "  </style>\n",
              "\n",
              "      <script>\n",
              "        const buttonEl =\n",
              "          document.querySelector('#df-c2a26acc-6750-42c8-9035-5f6052ba9778 button.colab-df-convert');\n",
              "        buttonEl.style.display =\n",
              "          google.colab.kernel.accessAllowed ? 'block' : 'none';\n",
              "\n",
              "        async function convertToInteractive(key) {\n",
              "          const element = document.querySelector('#df-c2a26acc-6750-42c8-9035-5f6052ba9778');\n",
              "          const dataTable =\n",
              "            await google.colab.kernel.invokeFunction('convertToInteractive',\n",
              "                                                     [key], {});\n",
              "          if (!dataTable) return;\n",
              "\n",
              "          const docLinkHtml = 'Like what you see? Visit the ' +\n",
              "            '<a target=\"_blank\" href=https://colab.research.google.com/notebooks/data_table.ipynb>data table notebook</a>'\n",
              "            + ' to learn more about interactive tables.';\n",
              "          element.innerHTML = '';\n",
              "          dataTable['output_type'] = 'display_data';\n",
              "          await google.colab.output.renderOutput(dataTable, element);\n",
              "          const docLink = document.createElement('div');\n",
              "          docLink.innerHTML = docLinkHtml;\n",
              "          element.appendChild(docLink);\n",
              "        }\n",
              "      </script>\n",
              "    </div>\n",
              "  </div>\n",
              "  "
            ]
          },
          "metadata": {},
          "execution_count": 60
        }
      ]
    },
    {
      "cell_type": "code",
      "source": [
        "best_model = rsearch.best_estimator_"
      ],
      "metadata": {
        "id": "k5UX4UJiXDwf"
      },
      "execution_count": null,
      "outputs": []
    },
    {
      "cell_type": "code",
      "source": [
        "best_model"
      ],
      "metadata": {
        "colab": {
          "base_uri": "https://localhost:8080/"
        },
        "id": "br5mSBomXNw3",
        "outputId": "caf87906-c5c1-413c-85a0-ad9fdc4f36a1"
      },
      "execution_count": null,
      "outputs": [
        {
          "output_type": "execute_result",
          "data": {
            "text/plain": [
              "BaggingRegressor(base_estimator=Ridge(), max_samples=0.8, n_estimators=9)"
            ]
          },
          "metadata": {},
          "execution_count": 62
        }
      ]
    },
    {
      "cell_type": "code",
      "source": [
        "y_pred = best_model.predict(X_test)"
      ],
      "metadata": {
        "id": "0k4JXPnwXOt2"
      },
      "execution_count": null,
      "outputs": []
    },
    {
      "cell_type": "code",
      "source": [
        "fig, ax = plt.subplots()\n",
        "ax.plot(y_test, label=\"Test\")\n",
        "ax.plot(y_pred, label=\"Pred\")\n",
        "ax.legend()"
      ],
      "metadata": {
        "colab": {
          "base_uri": "https://localhost:8080/",
          "height": 283
        },
        "id": "5zVeaJMDXdLX",
        "outputId": "d4f682da-f9c9-48c0-a839-428d7ecbca9a"
      },
      "execution_count": null,
      "outputs": [
        {
          "output_type": "execute_result",
          "data": {
            "text/plain": [
              "<matplotlib.legend.Legend at 0x7f2b1c752cd0>"
            ]
          },
          "metadata": {},
          "execution_count": 66
        },
        {
          "output_type": "display_data",
          "data": {
            "text/plain": [
              "<Figure size 432x288 with 1 Axes>"
            ],
            "image/png": "[encoded data removed]"
          },
          "metadata": {
            "needs_background": "light"
          }
        }
      ]
    },
    {
      "cell_type": "code",
      "source": [
        "r2_score(y_test, y_pred)"
      ],
      "metadata": {
        "colab": {
          "base_uri": "https://localhost:8080/"
        },
        "id": "wN2ECzFAXk9-",
        "outputId": "46d085b0-c410-4466-f481-ba223df35212"
      },
      "execution_count": null,
      "outputs": [
        {
          "output_type": "execute_result",
          "data": {
            "text/plain": [
              "0.5312831669028574"
            ]
          },
          "metadata": {},
          "execution_count": 67
        }
      ]
    },
    {
      "cell_type": "code",
      "source": [
        "r2_score(y_test, np.ones_like(y_test) * y_test.mean())"
      ],
      "metadata": {
        "colab": {
          "base_uri": "https://localhost:8080/"
        },
        "id": "rB7dI4Q5X5Ew",
        "outputId": "7096e20a-97e9-41a2-993e-461ab6b52824"
      },
      "execution_count": null,
      "outputs": [
        {
          "output_type": "execute_result",
          "data": {
            "text/plain": [
              "0.0"
            ]
          },
          "metadata": {},
          "execution_count": 68
        }
      ]
    },
    {
      "cell_type": "code",
      "source": [
        "mean_squared_error(y_test, y_pred)"
      ],
      "metadata": {
        "colab": {
          "base_uri": "https://localhost:8080/"
        },
        "id": "5gnSy_xrYEyH",
        "outputId": "f8350256-4000-4144-b35a-3cd195bab066"
      },
      "execution_count": null,
      "outputs": [
        {
          "output_type": "execute_result",
          "data": {
            "text/plain": [
              "0.012612985219442369"
            ]
          },
          "metadata": {},
          "execution_count": 69
        }
      ]
    },
    {
      "cell_type": "code",
      "source": [
        "mean_absolute_error(y_test, y_pred)"
      ],
      "metadata": {
        "colab": {
          "base_uri": "https://localhost:8080/"
        },
        "id": "BUTHgWCGYW2_",
        "outputId": "2de90e25-00c1-456f-8b14-75a8ab9a35d0"
      },
      "execution_count": null,
      "outputs": [
        {
          "output_type": "execute_result",
          "data": {
            "text/plain": [
              "0.09142416853540264"
            ]
          },
          "metadata": {},
          "execution_count": 70
        }
      ]
    },
    {
      "cell_type": "code",
      "source": [
        "window = X_test[-1].reshape(1, -1)"
      ],
      "metadata": {
        "id": "TWtbo7MSYzn2"
      },
      "execution_count": null,
      "outputs": []
    },
    {
      "cell_type": "code",
      "source": [
        "window.shape"
      ],
      "metadata": {
        "colab": {
          "base_uri": "https://localhost:8080/"
        },
        "id": "zqQ0XJRVY9Eo",
        "outputId": "f886dc37-85cb-413e-cc0a-a6f74fdec374"
      },
      "execution_count": null,
      "outputs": [
        {
          "output_type": "execute_result",
          "data": {
            "text/plain": [
              "(1, 20)"
            ]
          },
          "metadata": {},
          "execution_count": 72
        }
      ]
    },
    {
      "cell_type": "code",
      "source": [
        "window"
      ],
      "metadata": {
        "colab": {
          "base_uri": "https://localhost:8080/"
        },
        "id": "_TbsbxJbZFNp",
        "outputId": "7db2909e-68d5-41a0-f6ae-556de55cd754"
      },
      "execution_count": null,
      "outputs": [
        {
          "output_type": "execute_result",
          "data": {
            "text/plain": [
              "array([[ 0.02139514, -0.01378692,  0.04137116,  0.18046408,  0.03718398,\n",
              "        -0.11213274, -0.01357724, -0.04724246, -0.1134801 , -0.04546678,\n",
              "         0.03805836, -0.05264633, -0.13151949, -0.11006885, -0.09631116,\n",
              "        -0.04813705, -0.16230297, -0.17620876, -0.03133307, -0.13370206]])"
            ]
          },
          "metadata": {},
          "execution_count": 73
        }
      ]
    },
    {
      "cell_type": "code",
      "source": [
        "np.roll(window, (0, -1))"
      ],
      "metadata": {
        "colab": {
          "base_uri": "https://localhost:8080/"
        },
        "id": "z9VXSXDKZIQD",
        "outputId": "1f4100f5-05f4-48d2-8c0b-de6f80c1f09f"
      },
      "execution_count": null,
      "outputs": [
        {
          "output_type": "execute_result",
          "data": {
            "text/plain": [
              "array([[-0.01378692,  0.04137116,  0.18046408,  0.03718398, -0.11213274,\n",
              "        -0.01357724, -0.04724246, -0.1134801 , -0.04546678,  0.03805836,\n",
              "        -0.05264633, -0.13151949, -0.11006885, -0.09631116, -0.04813705,\n",
              "        -0.16230297, -0.17620876, -0.03133307, -0.13370206,  0.02139514]])"
            ]
          },
          "metadata": {},
          "execution_count": 74
        }
      ]
    },
    {
      "cell_type": "code",
      "source": [
        "def forecasting(model, window_0, n_iters):\n",
        "    predict = []\n",
        "    window = window_0.copy()\n",
        "    for _ in range(n_iters):\n",
        "        pred = model.predict(window)\n",
        "        window = np.roll(window, (0, -1))\n",
        "        window[0, -1] = pred\n",
        "        predict.append(pred)\n",
        "    return np.array(predict)"
      ],
      "metadata": {
        "id": "nd4g4KCZYbwn"
      },
      "execution_count": null,
      "outputs": []
    },
    {
      "cell_type": "code",
      "source": [
        "y_test.size"
      ],
      "metadata": {
        "colab": {
          "base_uri": "https://localhost:8080/"
        },
        "id": "n0yOhP00Z-5o",
        "outputId": "ea007f22-7943-4fda-ef41-ad4890158be6"
      },
      "execution_count": null,
      "outputs": [
        {
          "output_type": "execute_result",
          "data": {
            "text/plain": [
              "279"
            ]
          },
          "metadata": {},
          "execution_count": 76
        }
      ]
    },
    {
      "cell_type": "code",
      "source": [
        "y_forecast = forecasting(best_model, window, 279)"
      ],
      "metadata": {
        "id": "h_dRBGuzZ27f"
      },
      "execution_count": null,
      "outputs": []
    },
    {
      "cell_type": "code",
      "source": [
        "fig, ax = plt.subplots()\n",
        "ax.plot(y_test, label=\"Test\")\n",
        "ax.plot(y_forecast, label=\"Forecast\")\n",
        "ax.legend()"
      ],
      "metadata": {
        "colab": {
          "base_uri": "https://localhost:8080/",
          "height": 283
        },
        "id": "-9FbvBZyaBFH",
        "outputId": "ee79a16e-7320-42f1-c7ef-c769f863ff80"
      },
      "execution_count": null,
      "outputs": [
        {
          "output_type": "execute_result",
          "data": {
            "text/plain": [
              "<matplotlib.legend.Legend at 0x7f2b19781110>"
            ]
          },
          "metadata": {},
          "execution_count": 80
        },
        {
          "output_type": "display_data",
          "data": {
            "text/plain": [
              "<Figure size 432x288 with 1 Axes>"
            ],
            "image/png": "[encoded data removed]"
          },
          "metadata": {
            "needs_background": "light"
          }
        }
      ]
    },
    {
      "cell_type": "code",
      "source": [],
      "metadata": {
        "id": "VNMLeCYaaL02"
      },
      "execution_count": null,
      "outputs": []
    }
  ]
}