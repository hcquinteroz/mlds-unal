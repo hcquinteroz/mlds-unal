{
  "nbformat": 4,
  "nbformat_minor": 0,
  "metadata": {
    "colab": {
      "provenance": [],
      "collapsed_sections": []
    },
    "kernelspec": {
      "name": "python3",
      "display_name": "Python 3"
    }
  },
  "cells": [
    {
      "cell_type": "markdown",
      "metadata": {
        "id": "fb9pUStUq6xf"
      },
      "source": [
        "<img src = \"https://drive.google.com/uc?export=view&id=1X3dvBPrNx6LbvsOJsYoZDOiUUwpYl-2v\" alt = \"Encabezado MLDS\" width = \"100%\">  </img>"
      ]
    },
    {
      "cell_type": "markdown",
      "metadata": {
        "id": "AFWB01JlB2Mm"
      },
      "source": [
        "#**Pipelines de ejecución**\n",
        "---\n",
        "\n",
        "Los proyectos de aprendizaje automático muchas veces involucran múltiples etapas y transformaciones en los datos de entrada para poder conseguir el resultado apropiado. Este proceso se puede simplificar de manera sistemática con la ayuda de objetos especiales que controlan la cadena de entradas y salidas de datos."
      ]
    },
    {
      "cell_type": "markdown",
      "metadata": {
        "id": "i0sRGgMB2FUF"
      },
      "source": [
        "# **1. Dependencias**\n",
        "---\n",
        "Importamos las librerías necesarias y definimos algunas funciones básicas de visualización que vamos a usar en algunos ejemplos. \n"
      ]
    },
    {
      "cell_type": "markdown",
      "metadata": {
        "id": "KLmUe5cmjYoJ"
      },
      "source": [
        "### **1.1. Dependencias**\n",
        "---\n",
        "Para la construcción de modelos y ejecución de procedimientos metodológicos de aprendizaje automático, utilizaremos la librería _Scikit-learn_ (**`sklearn`**) y varias de sus funciones y conjuntos de datos."
      ]
    },
    {
      "cell_type": "code",
      "metadata": {
        "id": "1A1bWvdAsW_B",
        "colab": {
          "base_uri": "https://localhost:8080/"
        },
        "outputId": "623ea45b-0ffc-44d9-d62d-5626f5dd3246"
      },
      "source": [
        "# Actualizamos scikit-learn a la última versión\n",
        "!pip install -U scikit-learn \n",
        "\n",
        "# Importamos scikit-learn \n",
        "import sklearn"
      ],
      "execution_count": 1,
      "outputs": [
        {
          "output_type": "stream",
          "name": "stdout",
          "text": [
            "Looking in indexes: https://pypi.org/simple, https://us-python.pkg.dev/colab-wheels/public/simple/\n",
            "Requirement already satisfied: scikit-learn in /usr/local/lib/python3.7/dist-packages (1.0.2)\n",
            "Requirement already satisfied: threadpoolctl>=2.0.0 in /usr/local/lib/python3.7/dist-packages (from scikit-learn) (3.1.0)\n",
            "Requirement already satisfied: scipy>=1.1.0 in /usr/local/lib/python3.7/dist-packages (from scikit-learn) (1.7.3)\n",
            "Requirement already satisfied: joblib>=0.11 in /usr/local/lib/python3.7/dist-packages (from scikit-learn) (1.2.0)\n",
            "Requirement already satisfied: numpy>=1.14.6 in /usr/local/lib/python3.7/dist-packages (from scikit-learn) (1.21.6)\n"
          ]
        }
      ]
    },
    {
      "cell_type": "markdown",
      "metadata": {
        "id": "h0jic_vwJv9c"
      },
      "source": [
        "Importamos además algunas librerías básicas y configuraciones de *Python*."
      ]
    },
    {
      "cell_type": "code",
      "metadata": {
        "id": "H5lk0elTiFy_"
      },
      "source": [
        "# Librerías básicas NumPy, Pandas, Matplotlib y Seaborn.\n",
        "import numpy as np\n",
        "import pandas as pd\n",
        "import matplotlib as mpl\n",
        "from matplotlib import pyplot as plt\n",
        "import seaborn as sns\n",
        "import plotly\n",
        "import plotly.express as px"
      ],
      "execution_count": 2,
      "outputs": []
    },
    {
      "cell_type": "code",
      "metadata": {
        "id": "Nmx-RGqF8Hls"
      },
      "source": [
        "# Configuraciones para las librerías y módulos usados.\n",
        "\n",
        "# Ignoramos las advertencias o warnings.\n",
        "import warnings\n",
        "warnings.simplefilter(action='ignore')\n",
        "\n",
        "# Configuramos el formato por defecto de la \n",
        "# librería de visualización Matplotlib.\n",
        "%matplotlib inline\n",
        "%config InlineBackend.figure_format = 'retina'\n",
        "mpl.rcParams['figure.dpi'] = 105\n",
        "mpl.rcParams['figure.figsize'] = (9, 7)\n",
        "sns.set_theme()"
      ],
      "execution_count": 3,
      "outputs": []
    },
    {
      "cell_type": "code",
      "metadata": {
        "id": "jUMP_2CPqwRY",
        "colab": {
          "base_uri": "https://localhost:8080/"
        },
        "outputId": "8b749c9f-e8db-4096-b37a-782b55516b1e"
      },
      "source": [
        "# Versiones de las librerías usadas.\n",
        "\n",
        "!python --version\n",
        "print('NumPy', np.__version__)\n",
        "print('Pandas', pd.__version__)\n",
        "print('Matplotlib', mpl.__version__)\n",
        "print('Seaborn', sns.__version__)\n",
        "print('Plotly', plotly.__version__)\n",
        "print('Scikit-learn', sklearn.__version__)"
      ],
      "execution_count": 4,
      "outputs": [
        {
          "output_type": "stream",
          "name": "stdout",
          "text": [
            "Python 3.7.15\n",
            "NumPy 1.21.6\n",
            "Pandas 1.3.5\n",
            "Matplotlib 3.2.2\n",
            "Seaborn 0.11.2\n",
            "Plotly 5.5.0\n",
            "Scikit-learn 1.0.2\n"
          ]
        }
      ]
    },
    {
      "cell_type": "markdown",
      "metadata": {
        "id": "dxNzX3sfq3gZ"
      },
      "source": [
        "Esta actividad se realizó con las siguientes versiones:\n",
        "*  *Python*: 3.7.10\n",
        "*  *NumPy*:  1.19.5\n",
        "*  *Pandas*: 1.1.5\n",
        "*  *Matplotlib*:  3.2.2\n",
        "*  *Seaborn*:  0.11.1\n",
        "*  *Plotly*: 4.4.1\n",
        "*  *Scikit-learn*: 0.24.1"
      ]
    },
    {
      "cell_type": "markdown",
      "metadata": {
        "id": "tUdUDM9cjv1A"
      },
      "source": [
        "### **1.2. Funciones de utilidad y visualización**\n",
        "---\n",
        "\n",
        "Para ilustrar los ejemplos discutidos en este material utilizaremos algunas funciones que permiten visualizar de manera general los datos, junto a las funciones de predicción obtenidas con cada modelo.\n",
        "\n",
        "> **Nota**: *Matplotlib*, *Seaborn* y *Plotly* se encuentran por fuera del alcance de este módulo. No es necesario que entienda estas funciones en detalle para sacar partido del resto del contenido puesto a su disposición. Usted decide si leer o no estas funciones en profundidad. Si decide omitir esta sección, continúe directamente con la siguiente sección, en donde se discutirán los conjuntos de datos que vamos a utilizar."
      ]
    },
    {
      "cell_type": "code",
      "metadata": {
        "id": "kfUTJk8WiQur"
      },
      "source": [
        "# Gráfica de la varianza explicada acumulada.\n",
        "\n",
        "def cumulative_explained_variance_plot(expl_variance):\n",
        "\n",
        "  cum_var_exp = np.cumsum(expl_variance)\n",
        "\n",
        "  plt.figure(dpi = 105, figsize = (10, 6))\n",
        "  plt.title('Curva acumulativa de la varianza explicada VS número de componentes principales')\n",
        "  plt.xlabel('Número de componentes principales')\n",
        "  plt.ylabel('Varianza explicada acumulativa')  \n",
        "\n",
        "  nc = np.arange(1, expl_variance.shape[0] + 1)\n",
        "\n",
        "  plt.plot(nc, cum_var_exp, '--r')\n",
        "  plt.plot(nc, cum_var_exp, 'c*', ms = 5)   \n",
        "  plt.show()"
      ],
      "execution_count": 5,
      "outputs": []
    },
    {
      "cell_type": "code",
      "metadata": {
        "id": "m0PgSqS6tVxE"
      },
      "source": [
        "# Gráfica para observar la distribución en clusters de las compañías.\n",
        "\n",
        "def plot_company_distribution(X, y, text):\n",
        "  # Nuevo DataFrame con las dos componentes principales y el cluster obtenido. \n",
        "  \n",
        "  stock_pca = pd.DataFrame(\n",
        "      {'x': X[:,0],\n",
        "      'y': X[:,1],\n",
        "      'cluster': pd.Series(y + 1, dtype = 'string'),\n",
        "      'name': text}\n",
        "  )  \n",
        "  stock_pca = stock_pca.sort_values(by = 'cluster')\n",
        "  # Usamos Plotly para graficar los clusters.\n",
        "\n",
        "  fig = px.scatter(stock_pca, x=\"x\", y=\"y\", text=\"name\", color = 'cluster', size = np.full(len(stock_pca), 100))\n",
        "  fig.update_traces(textposition='top center')\n",
        "  fig.update_layout(\n",
        "      height = 800,\n",
        "      title_text = 'Agrupamiento de compañías por movimientos en la bolsa', \n",
        "      dragmode = 'pan',\n",
        "      font = dict(size = 16)\n",
        "  )\n",
        "  fig.show(config = dict({'scrollZoom': True}))"
      ],
      "execution_count": 6,
      "outputs": []
    },
    {
      "cell_type": "markdown",
      "metadata": {
        "id": "RURwOVpHIb2P"
      },
      "source": [
        "# **2. Conjuntos de datos**\n",
        "---\n",
        "\n",
        "Para los ejemplos desarrollados en el transcurso del material, se usarán datos de  *Scikit-Learn* de carácter real (usando *Loaders* y otras fuentes) y sintético (usando *Generators*)."
      ]
    },
    {
      "cell_type": "markdown",
      "metadata": {
        "id": "e4Dz13sPPsTJ"
      },
      "source": [
        "#### **2.1. Movimientos de la bolsa de valores**\n",
        "---\n",
        "\n",
        "\n",
        "Este *dataset* contiene información simplificada de los movimientos financieros en la bolsa de valores de $60$ compañías entre 2010 y 2013. \n",
        "\n",
        "> **Nota:** Estos [datos](https://github.com/wblakecannon/DataCamp/blob/master/19-unsupervised-learning-in-python/data/company-stock-movements-2010-2015-incl.csv) fueron obtenidos del curso [*Unsupervised Learning in Python*](https://www.datacamp.com/courses/unsupervised-learning-in-python) de *DataCamp*."
      ]
    },
    {
      "cell_type": "code",
      "metadata": {
        "id": "wTdDu3kSQpeN",
        "colab": {
          "base_uri": "https://localhost:8080/"
        },
        "outputId": "6a99d0a7-0415-48d8-c583-1d4a7a5a8d3f"
      },
      "source": [
        "# Descargamos el archivo.\n",
        "!wget --no-check-certificate 'https://docs.google.com/uc?export=download&id=1brlIo5DUUkwxDo9jkesB8f7_ZaWmd7fv' -O stock_market.csv.gz"
      ],
      "execution_count": 7,
      "outputs": [
        {
          "output_type": "stream",
          "name": "stdout",
          "text": [
            "--2022-10-24 20:45:18--  https://docs.google.com/uc?export=download&id=1brlIo5DUUkwxDo9jkesB8f7_ZaWmd7fv\n",
            "Resolving docs.google.com (docs.google.com)... 74.125.70.139, 74.125.70.101, 74.125.70.138, ...\n",
            "Connecting to docs.google.com (docs.google.com)|74.125.70.139|:443... connected.\n",
            "HTTP request sent, awaiting response... 303 See Other\n",
            "Location: https://doc-08-9g-docs.googleusercontent.com/docs/securesc/ha0ro937gcuc7l7deffksulhg5h7mbp1/8jmd88rilu5bfhjojvfdibk41lbsh3hc/1666644300000/02328183321780228711/*/1brlIo5DUUkwxDo9jkesB8f7_ZaWmd7fv?e=download&uuid=b1d507c2-d719-40b4-9064-1a748facdbd6 [following]\n",
            "Warning: wildcards not supported in HTTP.\n",
            "--2022-10-24 20:45:19--  https://doc-08-9g-docs.googleusercontent.com/docs/securesc/ha0ro937gcuc7l7deffksulhg5h7mbp1/8jmd88rilu5bfhjojvfdibk41lbsh3hc/1666644300000/02328183321780228711/*/1brlIo5DUUkwxDo9jkesB8f7_ZaWmd7fv?e=download&uuid=b1d507c2-d719-40b4-9064-1a748facdbd6\n",
            "Resolving doc-08-9g-docs.googleusercontent.com (doc-08-9g-docs.googleusercontent.com)... 74.125.70.132, 2607:f8b0:4001:c02::84\n",
            "Connecting to doc-08-9g-docs.googleusercontent.com (doc-08-9g-docs.googleusercontent.com)|74.125.70.132|:443... connected.\n",
            "HTTP request sent, awaiting response... 200 OK\n",
            "Length: 198864 (194K) [application/x-gzip]\n",
            "Saving to: ‘stock_market.csv.gz’\n",
            "\n",
            "stock_market.csv.gz 100%[===================>] 194.20K  --.-KB/s    in 0.002s  \n",
            "\n",
            "2022-10-24 20:45:19 (91.3 MB/s) - ‘stock_market.csv.gz’ saved [198864/198864]\n",
            "\n"
          ]
        }
      ]
    },
    {
      "cell_type": "code",
      "metadata": {
        "id": "OQYelPCAQq9z",
        "colab": {
          "base_uri": "https://localhost:8080/",
          "height": 317
        },
        "outputId": "4c3bcda4-3b61-4b5f-e4ab-02dafe8527ee"
      },
      "source": [
        "# Cargamos los datos en un DataFrame\n",
        "stock_df = pd.read_csv(\"stock_market.csv.gz\", index_col=0)\n",
        "\n",
        "stock_df.head()"
      ],
      "execution_count": 8,
      "outputs": [
        {
          "output_type": "execute_result",
          "data": {
            "text/plain": [
              "                  2010-01-04  2010-01-05  2010-01-06  2010-01-07  2010-01-08  \\\n",
              "Apple               0.580000   -0.220005   -3.409998   -1.170000    1.680011   \n",
              "AIG                -0.640002   -0.650000   -0.210001   -0.420000    0.710001   \n",
              "Amazon             -2.350006    1.260009   -2.350006   -2.009995    2.960006   \n",
              "American express    0.109997    0.000000    0.260002    0.720002    0.190003   \n",
              "Boeing              0.459999    1.770000    1.549999    2.690003    0.059997   \n",
              "\n",
              "                  2010-01-11  2010-01-12  2010-01-13  2010-01-14  2010-01-15  \\\n",
              "Apple              -2.689994   -1.469994    2.779997   -0.680003   -4.999995   \n",
              "AIG                -0.200001   -1.130001    0.069999   -0.119999   -0.500000   \n",
              "Amazon             -2.309997   -1.640007    1.209999   -1.790001   -2.039994   \n",
              "American express   -0.270001    0.750000    0.300004    0.639999   -0.130001   \n",
              "Boeing             -1.080002    0.360000    0.549999    0.530002   -0.709999   \n",
              "\n",
              "                  ...  2013-10-16  2013-10-17  2013-10-18  2013-10-21  \\\n",
              "Apple             ...    0.320008    4.519997    2.899987    9.590019   \n",
              "AIG               ...    0.919998    0.709999    0.119999   -0.480000   \n",
              "Amazon            ...    2.109985    3.699982    9.570008   -3.450013   \n",
              "American express  ...    0.680001    2.290001    0.409996   -0.069999   \n",
              "Boeing            ...    1.559997    2.480003    0.019997   -1.220001   \n",
              "\n",
              "                  2013-10-22  2013-10-23  2013-10-24  2013-10-25  2013-10-28  \\\n",
              "Apple              -6.540016    5.959976    6.910011   -5.359962    0.840019   \n",
              "AIG                 0.010002   -0.279998   -0.190003   -0.040001   -0.400002   \n",
              "Amazon              4.820008   -4.079986    2.579986    4.790009   -1.760009   \n",
              "American express    0.100006    0.069999    0.130005    1.849999    0.040001   \n",
              "Boeing              0.480003    3.020004   -0.029999    1.940002    1.130005   \n",
              "\n",
              "                  2013-10-29  \n",
              "Apple             -19.589981  \n",
              "AIG                 0.660000  \n",
              "Amazon              3.740021  \n",
              "American express    0.540001  \n",
              "Boeing              0.309998  \n",
              "\n",
              "[5 rows x 963 columns]"
            ],
            "text/html": [
              "\n",
              "  <div id=\"df-76eca407-9c94-4bce-a127-94f6a013876b\">\n",
              "    <div class=\"colab-df-container\">\n",
              "      <div>\n",
              "<style scoped>\n",
              "    .dataframe tbody tr th:only-of-type {\n",
              "        vertical-align: middle;\n",
              "    }\n",
              "\n",
              "    .dataframe tbody tr th {\n",
              "        vertical-align: top;\n",
              "    }\n",
              "\n",
              "    .dataframe thead th {\n",
              "        text-align: right;\n",
              "    }\n",
              "</style>\n",
              "<table border=\"1\" class=\"dataframe\">\n",
              "  <thead>\n",
              "    <tr style=\"text-align: right;\">\n",
              "      <th></th>\n",
              "      <th>2010-01-04</th>\n",
              "      <th>2010-01-05</th>\n",
              "      <th>2010-01-06</th>\n",
              "      <th>2010-01-07</th>\n",
              "      <th>2010-01-08</th>\n",
              "      <th>2010-01-11</th>\n",
              "      <th>2010-01-12</th>\n",
              "      <th>2010-01-13</th>\n",
              "      <th>2010-01-14</th>\n",
              "      <th>2010-01-15</th>\n",
              "      <th>...</th>\n",
              "      <th>2013-10-16</th>\n",
              "      <th>2013-10-17</th>\n",
              "      <th>2013-10-18</th>\n",
              "      <th>2013-10-21</th>\n",
              "      <th>2013-10-22</th>\n",
              "      <th>2013-10-23</th>\n",
              "      <th>2013-10-24</th>\n",
              "      <th>2013-10-25</th>\n",
              "      <th>2013-10-28</th>\n",
              "      <th>2013-10-29</th>\n",
              "    </tr>\n",
              "  </thead>\n",
              "  <tbody>\n",
              "    <tr>\n",
              "      <th>Apple</th>\n",
              "      <td>0.580000</td>\n",
              "      <td>-0.220005</td>\n",
              "      <td>-3.409998</td>\n",
              "      <td>-1.170000</td>\n",
              "      <td>1.680011</td>\n",
              "      <td>-2.689994</td>\n",
              "      <td>-1.469994</td>\n",
              "      <td>2.779997</td>\n",
              "      <td>-0.680003</td>\n",
              "      <td>-4.999995</td>\n",
              "      <td>...</td>\n",
              "      <td>0.320008</td>\n",
              "      <td>4.519997</td>\n",
              "      <td>2.899987</td>\n",
              "      <td>9.590019</td>\n",
              "      <td>-6.540016</td>\n",
              "      <td>5.959976</td>\n",
              "      <td>6.910011</td>\n",
              "      <td>-5.359962</td>\n",
              "      <td>0.840019</td>\n",
              "      <td>-19.589981</td>\n",
              "    </tr>\n",
              "    <tr>\n",
              "      <th>AIG</th>\n",
              "      <td>-0.640002</td>\n",
              "      <td>-0.650000</td>\n",
              "      <td>-0.210001</td>\n",
              "      <td>-0.420000</td>\n",
              "      <td>0.710001</td>\n",
              "      <td>-0.200001</td>\n",
              "      <td>-1.130001</td>\n",
              "      <td>0.069999</td>\n",
              "      <td>-0.119999</td>\n",
              "      <td>-0.500000</td>\n",
              "      <td>...</td>\n",
              "      <td>0.919998</td>\n",
              "      <td>0.709999</td>\n",
              "      <td>0.119999</td>\n",
              "      <td>-0.480000</td>\n",
              "      <td>0.010002</td>\n",
              "      <td>-0.279998</td>\n",
              "      <td>-0.190003</td>\n",
              "      <td>-0.040001</td>\n",
              "      <td>-0.400002</td>\n",
              "      <td>0.660000</td>\n",
              "    </tr>\n",
              "    <tr>\n",
              "      <th>Amazon</th>\n",
              "      <td>-2.350006</td>\n",
              "      <td>1.260009</td>\n",
              "      <td>-2.350006</td>\n",
              "      <td>-2.009995</td>\n",
              "      <td>2.960006</td>\n",
              "      <td>-2.309997</td>\n",
              "      <td>-1.640007</td>\n",
              "      <td>1.209999</td>\n",
              "      <td>-1.790001</td>\n",
              "      <td>-2.039994</td>\n",
              "      <td>...</td>\n",
              "      <td>2.109985</td>\n",
              "      <td>3.699982</td>\n",
              "      <td>9.570008</td>\n",
              "      <td>-3.450013</td>\n",
              "      <td>4.820008</td>\n",
              "      <td>-4.079986</td>\n",
              "      <td>2.579986</td>\n",
              "      <td>4.790009</td>\n",
              "      <td>-1.760009</td>\n",
              "      <td>3.740021</td>\n",
              "    </tr>\n",
              "    <tr>\n",
              "      <th>American express</th>\n",
              "      <td>0.109997</td>\n",
              "      <td>0.000000</td>\n",
              "      <td>0.260002</td>\n",
              "      <td>0.720002</td>\n",
              "      <td>0.190003</td>\n",
              "      <td>-0.270001</td>\n",
              "      <td>0.750000</td>\n",
              "      <td>0.300004</td>\n",
              "      <td>0.639999</td>\n",
              "      <td>-0.130001</td>\n",
              "      <td>...</td>\n",
              "      <td>0.680001</td>\n",
              "      <td>2.290001</td>\n",
              "      <td>0.409996</td>\n",
              "      <td>-0.069999</td>\n",
              "      <td>0.100006</td>\n",
              "      <td>0.069999</td>\n",
              "      <td>0.130005</td>\n",
              "      <td>1.849999</td>\n",
              "      <td>0.040001</td>\n",
              "      <td>0.540001</td>\n",
              "    </tr>\n",
              "    <tr>\n",
              "      <th>Boeing</th>\n",
              "      <td>0.459999</td>\n",
              "      <td>1.770000</td>\n",
              "      <td>1.549999</td>\n",
              "      <td>2.690003</td>\n",
              "      <td>0.059997</td>\n",
              "      <td>-1.080002</td>\n",
              "      <td>0.360000</td>\n",
              "      <td>0.549999</td>\n",
              "      <td>0.530002</td>\n",
              "      <td>-0.709999</td>\n",
              "      <td>...</td>\n",
              "      <td>1.559997</td>\n",
              "      <td>2.480003</td>\n",
              "      <td>0.019997</td>\n",
              "      <td>-1.220001</td>\n",
              "      <td>0.480003</td>\n",
              "      <td>3.020004</td>\n",
              "      <td>-0.029999</td>\n",
              "      <td>1.940002</td>\n",
              "      <td>1.130005</td>\n",
              "      <td>0.309998</td>\n",
              "    </tr>\n",
              "  </tbody>\n",
              "</table>\n",
              "<p>5 rows × 963 columns</p>\n",
              "</div>\n",
              "      <button class=\"colab-df-convert\" onclick=\"convertToInteractive('df-76eca407-9c94-4bce-a127-94f6a013876b')\"\n",
              "              title=\"Convert this dataframe to an interactive table.\"\n",
              "              style=\"display:none;\">\n",
              "        \n",
              "  <svg xmlns=\"http://www.w3.org/2000/svg\" height=\"24px\"viewBox=\"0 0 24 24\"\n",
              "       width=\"24px\">\n",
              "    <path d=\"M0 0h24v24H0V0z\" fill=\"none\"/>\n",
              "    <path d=\"M18.56 5.44l.94 2.06.94-2.06 2.06-.94-2.06-.94-.94-2.06-.94 2.06-2.06.94zm-11 1L8.5 8.5l.94-2.06 2.06-.94-2.06-.94L8.5 2.5l-.94 2.06-2.06.94zm10 10l.94 2.06.94-2.06 2.06-.94-2.06-.94-.94-2.06-.94 2.06-2.06.94z\"/><path d=\"M17.41 7.96l-1.37-1.37c-.4-.4-.92-.59-1.43-.59-.52 0-1.04.2-1.43.59L10.3 9.45l-7.72 7.72c-.78.78-.78 2.05 0 2.83L4 21.41c.39.39.9.59 1.41.59.51 0 1.02-.2 1.41-.59l7.78-7.78 2.81-2.81c.8-.78.8-2.07 0-2.86zM5.41 20L4 18.59l7.72-7.72 1.47 1.35L5.41 20z\"/>\n",
              "  </svg>\n",
              "      </button>\n",
              "      \n",
              "  <style>\n",
              "    .colab-df-container {\n",
              "      display:flex;\n",
              "      flex-wrap:wrap;\n",
              "      gap: 12px;\n",
              "    }\n",
              "\n",
              "    .colab-df-convert {\n",
              "      background-color: #E8F0FE;\n",
              "      border: none;\n",
              "      border-radius: 50%;\n",
              "      cursor: pointer;\n",
              "      display: none;\n",
              "      fill: #1967D2;\n",
              "      height: 32px;\n",
              "      padding: 0 0 0 0;\n",
              "      width: 32px;\n",
              "    }\n",
              "\n",
              "    .colab-df-convert:hover {\n",
              "      background-color: #E2EBFA;\n",
              "      box-shadow: 0px 1px 2px rgba(60, 64, 67, 0.3), 0px 1px 3px 1px rgba(60, 64, 67, 0.15);\n",
              "      fill: #174EA6;\n",
              "    }\n",
              "\n",
              "    [theme=dark] .colab-df-convert {\n",
              "      background-color: #3B4455;\n",
              "      fill: #D2E3FC;\n",
              "    }\n",
              "\n",
              "    [theme=dark] .colab-df-convert:hover {\n",
              "      background-color: #434B5C;\n",
              "      box-shadow: 0px 1px 3px 1px rgba(0, 0, 0, 0.15);\n",
              "      filter: drop-shadow(0px 1px 2px rgba(0, 0, 0, 0.3));\n",
              "      fill: #FFFFFF;\n",
              "    }\n",
              "  </style>\n",
              "\n",
              "      <script>\n",
              "        const buttonEl =\n",
              "          document.querySelector('#df-76eca407-9c94-4bce-a127-94f6a013876b button.colab-df-convert');\n",
              "        buttonEl.style.display =\n",
              "          google.colab.kernel.accessAllowed ? 'block' : 'none';\n",
              "\n",
              "        async function convertToInteractive(key) {\n",
              "          const element = document.querySelector('#df-76eca407-9c94-4bce-a127-94f6a013876b');\n",
              "          const dataTable =\n",
              "            await google.colab.kernel.invokeFunction('convertToInteractive',\n",
              "                                                     [key], {});\n",
              "          if (!dataTable) return;\n",
              "\n",
              "          const docLinkHtml = 'Like what you see? Visit the ' +\n",
              "            '<a target=\"_blank\" href=https://colab.research.google.com/notebooks/data_table.ipynb>data table notebook</a>'\n",
              "            + ' to learn more about interactive tables.';\n",
              "          element.innerHTML = '';\n",
              "          dataTable['output_type'] = 'display_data';\n",
              "          await google.colab.output.renderOutput(dataTable, element);\n",
              "          const docLink = document.createElement('div');\n",
              "          docLink.innerHTML = docLinkHtml;\n",
              "          element.appendChild(docLink);\n",
              "        }\n",
              "      </script>\n",
              "    </div>\n",
              "  </div>\n",
              "  "
            ]
          },
          "metadata": {},
          "execution_count": 8
        }
      ]
    },
    {
      "cell_type": "markdown",
      "metadata": {
        "id": "OKoV8bA800jr"
      },
      "source": [
        "Cada característica corresponde a un día y contiene el cambio en el valor de las acciones de cada compañía. Este es un conjunto de datos de gran dimensionalidad, con un total de $963$ días considerados como características, y $60$ compañías como sus observaciones."
      ]
    },
    {
      "cell_type": "code",
      "metadata": {
        "id": "jm9_9dUOTssM",
        "colab": {
          "base_uri": "https://localhost:8080/"
        },
        "outputId": "417ec751-7cf9-4dfd-fc96-6524d2996605"
      },
      "source": [
        "# Compañías consideradas en este conjunto de datos.\n",
        "stock_df.index"
      ],
      "execution_count": 9,
      "outputs": [
        {
          "output_type": "execute_result",
          "data": {
            "text/plain": [
              "Index(['Apple', 'AIG', 'Amazon', 'American express', 'Boeing',\n",
              "       'Bank of America', 'British American Tobacco', 'Canon', 'Caterpillar',\n",
              "       'Colgate-Palmolive', 'ConocoPhillips', 'Cisco', 'Chevron',\n",
              "       'DuPont de Nemours', 'Dell', 'Ford', 'General Electrics',\n",
              "       'Google/Alphabet', 'Goldman Sachs', 'GlaxoSmithKline', 'Home Depot',\n",
              "       'Honda', 'HP', 'IBM', 'Intel', 'Johnson & Johnson', 'JPMorgan Chase',\n",
              "       'Kimberly-Clark', 'Coca Cola', 'Lookheed Martin', 'MasterCard',\n",
              "       'McDonalds', '3M', 'Microsoft', 'Mitsubishi', 'Navistar',\n",
              "       'Northrop Grumman', 'Novartis', 'Pepsi', 'Pfizer', 'Procter Gamble',\n",
              "       'Philip Morris', 'Royal Dutch Shell', 'SAP', 'Schlumberger', 'Sony',\n",
              "       'Sanofi-Aventis', 'Symantec', 'Toyota', 'Total',\n",
              "       'Taiwan Semiconductor Manufacturing', 'Texas instruments', 'Unilever',\n",
              "       'Valero Energy', 'Walgreen', 'Wells Fargo', 'Wal-Mart', 'Exxon',\n",
              "       'Xerox', 'Yahoo'],\n",
              "      dtype='object')"
            ]
          },
          "metadata": {},
          "execution_count": 9
        }
      ]
    },
    {
      "cell_type": "markdown",
      "metadata": {
        "id": "qCMzDMiqixgw"
      },
      "source": [
        "#### **2.2. Noticias de distintas temáticas *20 news***\n",
        "---\n",
        "\n",
        "**20_newsgroups** es un conjunto de datos con publicaciones de cerca de $18000$ grupos de noticias en $20$ temas de discusión distintos. Es un ejemplo muy popular de la aplicación de modelos de clasificación y agrupamiento en texto. En esta ocasión usaremos el método de *Scikit-Learn* **` sklearn.datasets.fetch_20newsgroups`** para cargar los conjuntos de entrenamiento y prueba."
      ]
    },
    {
      "cell_type": "code",
      "metadata": {
        "id": "tGNPJLa1oTi-",
        "colab": {
          "base_uri": "https://localhost:8080/"
        },
        "outputId": "dacfce7f-a679-4aa1-f2b1-8f8572fa2e91"
      },
      "source": [
        "# Cargamos el dataset\n",
        "from sklearn.datasets import fetch_20newsgroups\n",
        "data_20_news = fetch_20newsgroups()\n",
        "\n",
        "# Temas disponibles en el dataset.\n",
        "topics = data_20_news.target_names\n",
        "\n",
        "topics"
      ],
      "execution_count": 10,
      "outputs": [
        {
          "output_type": "execute_result",
          "data": {
            "text/plain": [
              "['alt.atheism',\n",
              " 'comp.graphics',\n",
              " 'comp.os.ms-windows.misc',\n",
              " 'comp.sys.ibm.pc.hardware',\n",
              " 'comp.sys.mac.hardware',\n",
              " 'comp.windows.x',\n",
              " 'misc.forsale',\n",
              " 'rec.autos',\n",
              " 'rec.motorcycles',\n",
              " 'rec.sport.baseball',\n",
              " 'rec.sport.hockey',\n",
              " 'sci.crypt',\n",
              " 'sci.electronics',\n",
              " 'sci.med',\n",
              " 'sci.space',\n",
              " 'soc.religion.christian',\n",
              " 'talk.politics.guns',\n",
              " 'talk.politics.mideast',\n",
              " 'talk.politics.misc',\n",
              " 'talk.religion.misc']"
            ]
          },
          "metadata": {},
          "execution_count": 10
        }
      ]
    },
    {
      "cell_type": "code",
      "metadata": {
        "id": "kgfQW0o7ppoD",
        "colab": {
          "base_uri": "https://localhost:8080/"
        },
        "outputId": "4d1607bf-4c17-4498-eb91-b528f98854ba"
      },
      "source": [
        "# Primer post del conjunto de datos\n",
        "print(data_20_news.data[0])"
      ],
      "execution_count": 11,
      "outputs": [
        {
          "output_type": "stream",
          "name": "stdout",
          "text": [
            "From: lerxst@wam.umd.edu (where's my thing)\n",
            "Subject: WHAT car is this!?\n",
            "Nntp-Posting-Host: rac3.wam.umd.edu\n",
            "Organization: University of Maryland, College Park\n",
            "Lines: 15\n",
            "\n",
            " I was wondering if anyone out there could enlighten me on this car I saw\n",
            "the other day. It was a 2-door sports car, looked to be from the late 60s/\n",
            "early 70s. It was called a Bricklin. The doors were really small. In addition,\n",
            "the front bumper was separate from the rest of the body. This is \n",
            "all I know. If anyone can tellme a model name, engine specs, years\n",
            "of production, where this car is made, history, or whatever info you\n",
            "have on this funky looking car, please e-mail.\n",
            "\n",
            "Thanks,\n",
            "- IL\n",
            "   ---- brought to you by your neighborhood Lerxst ----\n",
            "\n",
            "\n",
            "\n",
            "\n",
            "\n"
          ]
        }
      ]
    },
    {
      "cell_type": "code",
      "metadata": {
        "id": "G3FEe9yNs5wL",
        "colab": {
          "base_uri": "https://localhost:8080/"
        },
        "outputId": "b3da3935-253c-4542-f0a9-912631e338af"
      },
      "source": [
        "# Tema del post anterior\n",
        "\n",
        "print(f\"Tema: {topics[data_20_news.target[0]]}\")"
      ],
      "execution_count": 12,
      "outputs": [
        {
          "output_type": "stream",
          "name": "stdout",
          "text": [
            "Tema: rec.autos\n"
          ]
        }
      ]
    },
    {
      "cell_type": "markdown",
      "metadata": {
        "id": "f2kNm_4X437x"
      },
      "source": [
        "# **3. Pipelines de ejecución**\n",
        "---\n",
        "Inicialmente plantearemos un ejemplo de tarea de aprendizaje automático que involucra el uso de distintas etapas de datos.\n",
        "\n",
        "Para esto vamos a utilizar el conjunto de datos de movimientos en la bolsa y queremos obtener una visualización de las compañías que tienen un comportamiento en la bolsa similar en los mismos periodos de tiempo. Esta tarea cae en la clasificación de **agrupamiento** pues no conocemos datos de ejemplo que permitan realizar un aprendizaje supervisado y únicamente nos interesa conocer su distribución en grupos distintos.\n",
        "\n",
        "Empecemos por cargar el conjunto de datos:"
      ]
    },
    {
      "cell_type": "code",
      "metadata": {
        "id": "o1BK5cr4nJFR",
        "colab": {
          "base_uri": "https://localhost:8080/",
          "height": 317
        },
        "outputId": "b342e8f1-3943-4a6e-d764-48124a39684c"
      },
      "source": [
        "stock_df = pd.read_csv(\"stock_market.csv.gz\", index_col=0)\n",
        "stock_df.head()"
      ],
      "execution_count": 13,
      "outputs": [
        {
          "output_type": "execute_result",
          "data": {
            "text/plain": [
              "                  2010-01-04  2010-01-05  2010-01-06  2010-01-07  2010-01-08  \\\n",
              "Apple               0.580000   -0.220005   -3.409998   -1.170000    1.680011   \n",
              "AIG                -0.640002   -0.650000   -0.210001   -0.420000    0.710001   \n",
              "Amazon             -2.350006    1.260009   -2.350006   -2.009995    2.960006   \n",
              "American express    0.109997    0.000000    0.260002    0.720002    0.190003   \n",
              "Boeing              0.459999    1.770000    1.549999    2.690003    0.059997   \n",
              "\n",
              "                  2010-01-11  2010-01-12  2010-01-13  2010-01-14  2010-01-15  \\\n",
              "Apple              -2.689994   -1.469994    2.779997   -0.680003   -4.999995   \n",
              "AIG                -0.200001   -1.130001    0.069999   -0.119999   -0.500000   \n",
              "Amazon             -2.309997   -1.640007    1.209999   -1.790001   -2.039994   \n",
              "American express   -0.270001    0.750000    0.300004    0.639999   -0.130001   \n",
              "Boeing             -1.080002    0.360000    0.549999    0.530002   -0.709999   \n",
              "\n",
              "                  ...  2013-10-16  2013-10-17  2013-10-18  2013-10-21  \\\n",
              "Apple             ...    0.320008    4.519997    2.899987    9.590019   \n",
              "AIG               ...    0.919998    0.709999    0.119999   -0.480000   \n",
              "Amazon            ...    2.109985    3.699982    9.570008   -3.450013   \n",
              "American express  ...    0.680001    2.290001    0.409996   -0.069999   \n",
              "Boeing            ...    1.559997    2.480003    0.019997   -1.220001   \n",
              "\n",
              "                  2013-10-22  2013-10-23  2013-10-24  2013-10-25  2013-10-28  \\\n",
              "Apple              -6.540016    5.959976    6.910011   -5.359962    0.840019   \n",
              "AIG                 0.010002   -0.279998   -0.190003   -0.040001   -0.400002   \n",
              "Amazon              4.820008   -4.079986    2.579986    4.790009   -1.760009   \n",
              "American express    0.100006    0.069999    0.130005    1.849999    0.040001   \n",
              "Boeing              0.480003    3.020004   -0.029999    1.940002    1.130005   \n",
              "\n",
              "                  2013-10-29  \n",
              "Apple             -19.589981  \n",
              "AIG                 0.660000  \n",
              "Amazon              3.740021  \n",
              "American express    0.540001  \n",
              "Boeing              0.309998  \n",
              "\n",
              "[5 rows x 963 columns]"
            ],
            "text/html": [
              "\n",
              "  <div id=\"df-07f5ed09-2228-48df-a2df-b8c673ab6510\">\n",
              "    <div class=\"colab-df-container\">\n",
              "      <div>\n",
              "<style scoped>\n",
              "    .dataframe tbody tr th:only-of-type {\n",
              "        vertical-align: middle;\n",
              "    }\n",
              "\n",
              "    .dataframe tbody tr th {\n",
              "        vertical-align: top;\n",
              "    }\n",
              "\n",
              "    .dataframe thead th {\n",
              "        text-align: right;\n",
              "    }\n",
              "</style>\n",
              "<table border=\"1\" class=\"dataframe\">\n",
              "  <thead>\n",
              "    <tr style=\"text-align: right;\">\n",
              "      <th></th>\n",
              "      <th>2010-01-04</th>\n",
              "      <th>2010-01-05</th>\n",
              "      <th>2010-01-06</th>\n",
              "      <th>2010-01-07</th>\n",
              "      <th>2010-01-08</th>\n",
              "      <th>2010-01-11</th>\n",
              "      <th>2010-01-12</th>\n",
              "      <th>2010-01-13</th>\n",
              "      <th>2010-01-14</th>\n",
              "      <th>2010-01-15</th>\n",
              "      <th>...</th>\n",
              "      <th>2013-10-16</th>\n",
              "      <th>2013-10-17</th>\n",
              "      <th>2013-10-18</th>\n",
              "      <th>2013-10-21</th>\n",
              "      <th>2013-10-22</th>\n",
              "      <th>2013-10-23</th>\n",
              "      <th>2013-10-24</th>\n",
              "      <th>2013-10-25</th>\n",
              "      <th>2013-10-28</th>\n",
              "      <th>2013-10-29</th>\n",
              "    </tr>\n",
              "  </thead>\n",
              "  <tbody>\n",
              "    <tr>\n",
              "      <th>Apple</th>\n",
              "      <td>0.580000</td>\n",
              "      <td>-0.220005</td>\n",
              "      <td>-3.409998</td>\n",
              "      <td>-1.170000</td>\n",
              "      <td>1.680011</td>\n",
              "      <td>-2.689994</td>\n",
              "      <td>-1.469994</td>\n",
              "      <td>2.779997</td>\n",
              "      <td>-0.680003</td>\n",
              "      <td>-4.999995</td>\n",
              "      <td>...</td>\n",
              "      <td>0.320008</td>\n",
              "      <td>4.519997</td>\n",
              "      <td>2.899987</td>\n",
              "      <td>9.590019</td>\n",
              "      <td>-6.540016</td>\n",
              "      <td>5.959976</td>\n",
              "      <td>6.910011</td>\n",
              "      <td>-5.359962</td>\n",
              "      <td>0.840019</td>\n",
              "      <td>-19.589981</td>\n",
              "    </tr>\n",
              "    <tr>\n",
              "      <th>AIG</th>\n",
              "      <td>-0.640002</td>\n",
              "      <td>-0.650000</td>\n",
              "      <td>-0.210001</td>\n",
              "      <td>-0.420000</td>\n",
              "      <td>0.710001</td>\n",
              "      <td>-0.200001</td>\n",
              "      <td>-1.130001</td>\n",
              "      <td>0.069999</td>\n",
              "      <td>-0.119999</td>\n",
              "      <td>-0.500000</td>\n",
              "      <td>...</td>\n",
              "      <td>0.919998</td>\n",
              "      <td>0.709999</td>\n",
              "      <td>0.119999</td>\n",
              "      <td>-0.480000</td>\n",
              "      <td>0.010002</td>\n",
              "      <td>-0.279998</td>\n",
              "      <td>-0.190003</td>\n",
              "      <td>-0.040001</td>\n",
              "      <td>-0.400002</td>\n",
              "      <td>0.660000</td>\n",
              "    </tr>\n",
              "    <tr>\n",
              "      <th>Amazon</th>\n",
              "      <td>-2.350006</td>\n",
              "      <td>1.260009</td>\n",
              "      <td>-2.350006</td>\n",
              "      <td>-2.009995</td>\n",
              "      <td>2.960006</td>\n",
              "      <td>-2.309997</td>\n",
              "      <td>-1.640007</td>\n",
              "      <td>1.209999</td>\n",
              "      <td>-1.790001</td>\n",
              "      <td>-2.039994</td>\n",
              "      <td>...</td>\n",
              "      <td>2.109985</td>\n",
              "      <td>3.699982</td>\n",
              "      <td>9.570008</td>\n",
              "      <td>-3.450013</td>\n",
              "      <td>4.820008</td>\n",
              "      <td>-4.079986</td>\n",
              "      <td>2.579986</td>\n",
              "      <td>4.790009</td>\n",
              "      <td>-1.760009</td>\n",
              "      <td>3.740021</td>\n",
              "    </tr>\n",
              "    <tr>\n",
              "      <th>American express</th>\n",
              "      <td>0.109997</td>\n",
              "      <td>0.000000</td>\n",
              "      <td>0.260002</td>\n",
              "      <td>0.720002</td>\n",
              "      <td>0.190003</td>\n",
              "      <td>-0.270001</td>\n",
              "      <td>0.750000</td>\n",
              "      <td>0.300004</td>\n",
              "      <td>0.639999</td>\n",
              "      <td>-0.130001</td>\n",
              "      <td>...</td>\n",
              "      <td>0.680001</td>\n",
              "      <td>2.290001</td>\n",
              "      <td>0.409996</td>\n",
              "      <td>-0.069999</td>\n",
              "      <td>0.100006</td>\n",
              "      <td>0.069999</td>\n",
              "      <td>0.130005</td>\n",
              "      <td>1.849999</td>\n",
              "      <td>0.040001</td>\n",
              "      <td>0.540001</td>\n",
              "    </tr>\n",
              "    <tr>\n",
              "      <th>Boeing</th>\n",
              "      <td>0.459999</td>\n",
              "      <td>1.770000</td>\n",
              "      <td>1.549999</td>\n",
              "      <td>2.690003</td>\n",
              "      <td>0.059997</td>\n",
              "      <td>-1.080002</td>\n",
              "      <td>0.360000</td>\n",
              "      <td>0.549999</td>\n",
              "      <td>0.530002</td>\n",
              "      <td>-0.709999</td>\n",
              "      <td>...</td>\n",
              "      <td>1.559997</td>\n",
              "      <td>2.480003</td>\n",
              "      <td>0.019997</td>\n",
              "      <td>-1.220001</td>\n",
              "      <td>0.480003</td>\n",
              "      <td>3.020004</td>\n",
              "      <td>-0.029999</td>\n",
              "      <td>1.940002</td>\n",
              "      <td>1.130005</td>\n",
              "      <td>0.309998</td>\n",
              "    </tr>\n",
              "  </tbody>\n",
              "</table>\n",
              "<p>5 rows × 963 columns</p>\n",
              "</div>\n",
              "      <button class=\"colab-df-convert\" onclick=\"convertToInteractive('df-07f5ed09-2228-48df-a2df-b8c673ab6510')\"\n",
              "              title=\"Convert this dataframe to an interactive table.\"\n",
              "              style=\"display:none;\">\n",
              "        \n",
              "  <svg xmlns=\"http://www.w3.org/2000/svg\" height=\"24px\"viewBox=\"0 0 24 24\"\n",
              "       width=\"24px\">\n",
              "    <path d=\"M0 0h24v24H0V0z\" fill=\"none\"/>\n",
              "    <path d=\"M18.56 5.44l.94 2.06.94-2.06 2.06-.94-2.06-.94-.94-2.06-.94 2.06-2.06.94zm-11 1L8.5 8.5l.94-2.06 2.06-.94-2.06-.94L8.5 2.5l-.94 2.06-2.06.94zm10 10l.94 2.06.94-2.06 2.06-.94-2.06-.94-.94-2.06-.94 2.06-2.06.94z\"/><path d=\"M17.41 7.96l-1.37-1.37c-.4-.4-.92-.59-1.43-.59-.52 0-1.04.2-1.43.59L10.3 9.45l-7.72 7.72c-.78.78-.78 2.05 0 2.83L4 21.41c.39.39.9.59 1.41.59.51 0 1.02-.2 1.41-.59l7.78-7.78 2.81-2.81c.8-.78.8-2.07 0-2.86zM5.41 20L4 18.59l7.72-7.72 1.47 1.35L5.41 20z\"/>\n",
              "  </svg>\n",
              "      </button>\n",
              "      \n",
              "  <style>\n",
              "    .colab-df-container {\n",
              "      display:flex;\n",
              "      flex-wrap:wrap;\n",
              "      gap: 12px;\n",
              "    }\n",
              "\n",
              "    .colab-df-convert {\n",
              "      background-color: #E8F0FE;\n",
              "      border: none;\n",
              "      border-radius: 50%;\n",
              "      cursor: pointer;\n",
              "      display: none;\n",
              "      fill: #1967D2;\n",
              "      height: 32px;\n",
              "      padding: 0 0 0 0;\n",
              "      width: 32px;\n",
              "    }\n",
              "\n",
              "    .colab-df-convert:hover {\n",
              "      background-color: #E2EBFA;\n",
              "      box-shadow: 0px 1px 2px rgba(60, 64, 67, 0.3), 0px 1px 3px 1px rgba(60, 64, 67, 0.15);\n",
              "      fill: #174EA6;\n",
              "    }\n",
              "\n",
              "    [theme=dark] .colab-df-convert {\n",
              "      background-color: #3B4455;\n",
              "      fill: #D2E3FC;\n",
              "    }\n",
              "\n",
              "    [theme=dark] .colab-df-convert:hover {\n",
              "      background-color: #434B5C;\n",
              "      box-shadow: 0px 1px 3px 1px rgba(0, 0, 0, 0.15);\n",
              "      filter: drop-shadow(0px 1px 2px rgba(0, 0, 0, 0.3));\n",
              "      fill: #FFFFFF;\n",
              "    }\n",
              "  </style>\n",
              "\n",
              "      <script>\n",
              "        const buttonEl =\n",
              "          document.querySelector('#df-07f5ed09-2228-48df-a2df-b8c673ab6510 button.colab-df-convert');\n",
              "        buttonEl.style.display =\n",
              "          google.colab.kernel.accessAllowed ? 'block' : 'none';\n",
              "\n",
              "        async function convertToInteractive(key) {\n",
              "          const element = document.querySelector('#df-07f5ed09-2228-48df-a2df-b8c673ab6510');\n",
              "          const dataTable =\n",
              "            await google.colab.kernel.invokeFunction('convertToInteractive',\n",
              "                                                     [key], {});\n",
              "          if (!dataTable) return;\n",
              "\n",
              "          const docLinkHtml = 'Like what you see? Visit the ' +\n",
              "            '<a target=\"_blank\" href=https://colab.research.google.com/notebooks/data_table.ipynb>data table notebook</a>'\n",
              "            + ' to learn more about interactive tables.';\n",
              "          element.innerHTML = '';\n",
              "          dataTable['output_type'] = 'display_data';\n",
              "          await google.colab.output.renderOutput(dataTable, element);\n",
              "          const docLink = document.createElement('div');\n",
              "          docLink.innerHTML = docLinkHtml;\n",
              "          element.appendChild(docLink);\n",
              "        }\n",
              "      </script>\n",
              "    </div>\n",
              "  </div>\n",
              "  "
            ]
          },
          "metadata": {},
          "execution_count": 13
        }
      ]
    },
    {
      "cell_type": "markdown",
      "metadata": {
        "id": "outpZk1c8TME"
      },
      "source": [
        "## **3.1. Metodología tradicional**\n",
        "---\n",
        "\n",
        "Inicialmente, vamos a abordar este problema de una manera secuencial y guiada, utilizando las funciones y métodos discutidos en el transcurso del módulo."
      ]
    },
    {
      "cell_type": "markdown",
      "metadata": {
        "id": "giwxlXEZ8osU"
      },
      "source": [
        "### **3.1.1. Preprocesamiento**\n",
        "---\n",
        "En este caso, consideraremos que dos compañías tienen un comportamiento similar en el mercado únicamente distinguiendo entre **ganancias** y **pérdidas**, sin importar su magnitud. Por ejemplo, $2$ empresas de tecnología pueden tener pérdidas en los mismos momentos de acuerdo con las noticias que rodean su industria. Para esto, vamos a convertir todos los valores en $1$ si son positivos (ganancias) y -1 en otro caso (pérdidas). Este es el equivalente de utilizar el **signo** de cada movimiento. Para esto, usaremos la función **`np.sign`**:"
      ]
    },
    {
      "cell_type": "code",
      "metadata": {
        "id": "08_l0G_wDlpa",
        "colab": {
          "base_uri": "https://localhost:8080/",
          "height": 317
        },
        "outputId": "f9d0d93d-afaf-449f-e1f5-0927f3cdb216"
      },
      "source": [
        "# Función para convertir los datos en 1 o -1.\n",
        "stock_sign = np.sign(stock_df)\n",
        "\n",
        "stock_sign.head()"
      ],
      "execution_count": 14,
      "outputs": [
        {
          "output_type": "execute_result",
          "data": {
            "text/plain": [
              "                  2010-01-04  2010-01-05  2010-01-06  2010-01-07  2010-01-08  \\\n",
              "Apple                    1.0        -1.0        -1.0        -1.0         1.0   \n",
              "AIG                     -1.0        -1.0        -1.0        -1.0         1.0   \n",
              "Amazon                  -1.0         1.0        -1.0        -1.0         1.0   \n",
              "American express         1.0         0.0         1.0         1.0         1.0   \n",
              "Boeing                   1.0         1.0         1.0         1.0         1.0   \n",
              "\n",
              "                  2010-01-11  2010-01-12  2010-01-13  2010-01-14  2010-01-15  \\\n",
              "Apple                   -1.0        -1.0         1.0        -1.0        -1.0   \n",
              "AIG                     -1.0        -1.0         1.0        -1.0        -1.0   \n",
              "Amazon                  -1.0        -1.0         1.0        -1.0        -1.0   \n",
              "American express        -1.0         1.0         1.0         1.0        -1.0   \n",
              "Boeing                  -1.0         1.0         1.0         1.0        -1.0   \n",
              "\n",
              "                  ...  2013-10-16  2013-10-17  2013-10-18  2013-10-21  \\\n",
              "Apple             ...         1.0         1.0         1.0         1.0   \n",
              "AIG               ...         1.0         1.0         1.0        -1.0   \n",
              "Amazon            ...         1.0         1.0         1.0        -1.0   \n",
              "American express  ...         1.0         1.0         1.0        -1.0   \n",
              "Boeing            ...         1.0         1.0         1.0        -1.0   \n",
              "\n",
              "                  2013-10-22  2013-10-23  2013-10-24  2013-10-25  2013-10-28  \\\n",
              "Apple                   -1.0         1.0         1.0        -1.0         1.0   \n",
              "AIG                      1.0        -1.0        -1.0        -1.0        -1.0   \n",
              "Amazon                   1.0        -1.0         1.0         1.0        -1.0   \n",
              "American express         1.0         1.0         1.0         1.0         1.0   \n",
              "Boeing                   1.0         1.0        -1.0         1.0         1.0   \n",
              "\n",
              "                  2013-10-29  \n",
              "Apple                   -1.0  \n",
              "AIG                      1.0  \n",
              "Amazon                   1.0  \n",
              "American express         1.0  \n",
              "Boeing                   1.0  \n",
              "\n",
              "[5 rows x 963 columns]"
            ],
            "text/html": [
              "\n",
              "  <div id=\"df-c70e79d2-20e1-48d1-8079-2595cedd4dd8\">\n",
              "    <div class=\"colab-df-container\">\n",
              "      <div>\n",
              "<style scoped>\n",
              "    .dataframe tbody tr th:only-of-type {\n",
              "        vertical-align: middle;\n",
              "    }\n",
              "\n",
              "    .dataframe tbody tr th {\n",
              "        vertical-align: top;\n",
              "    }\n",
              "\n",
              "    .dataframe thead th {\n",
              "        text-align: right;\n",
              "    }\n",
              "</style>\n",
              "<table border=\"1\" class=\"dataframe\">\n",
              "  <thead>\n",
              "    <tr style=\"text-align: right;\">\n",
              "      <th></th>\n",
              "      <th>2010-01-04</th>\n",
              "      <th>2010-01-05</th>\n",
              "      <th>2010-01-06</th>\n",
              "      <th>2010-01-07</th>\n",
              "      <th>2010-01-08</th>\n",
              "      <th>2010-01-11</th>\n",
              "      <th>2010-01-12</th>\n",
              "      <th>2010-01-13</th>\n",
              "      <th>2010-01-14</th>\n",
              "      <th>2010-01-15</th>\n",
              "      <th>...</th>\n",
              "      <th>2013-10-16</th>\n",
              "      <th>2013-10-17</th>\n",
              "      <th>2013-10-18</th>\n",
              "      <th>2013-10-21</th>\n",
              "      <th>2013-10-22</th>\n",
              "      <th>2013-10-23</th>\n",
              "      <th>2013-10-24</th>\n",
              "      <th>2013-10-25</th>\n",
              "      <th>2013-10-28</th>\n",
              "      <th>2013-10-29</th>\n",
              "    </tr>\n",
              "  </thead>\n",
              "  <tbody>\n",
              "    <tr>\n",
              "      <th>Apple</th>\n",
              "      <td>1.0</td>\n",
              "      <td>-1.0</td>\n",
              "      <td>-1.0</td>\n",
              "      <td>-1.0</td>\n",
              "      <td>1.0</td>\n",
              "      <td>-1.0</td>\n",
              "      <td>-1.0</td>\n",
              "      <td>1.0</td>\n",
              "      <td>-1.0</td>\n",
              "      <td>-1.0</td>\n",
              "      <td>...</td>\n",
              "      <td>1.0</td>\n",
              "      <td>1.0</td>\n",
              "      <td>1.0</td>\n",
              "      <td>1.0</td>\n",
              "      <td>-1.0</td>\n",
              "      <td>1.0</td>\n",
              "      <td>1.0</td>\n",
              "      <td>-1.0</td>\n",
              "      <td>1.0</td>\n",
              "      <td>-1.0</td>\n",
              "    </tr>\n",
              "    <tr>\n",
              "      <th>AIG</th>\n",
              "      <td>-1.0</td>\n",
              "      <td>-1.0</td>\n",
              "      <td>-1.0</td>\n",
              "      <td>-1.0</td>\n",
              "      <td>1.0</td>\n",
              "      <td>-1.0</td>\n",
              "      <td>-1.0</td>\n",
              "      <td>1.0</td>\n",
              "      <td>-1.0</td>\n",
              "      <td>-1.0</td>\n",
              "      <td>...</td>\n",
              "      <td>1.0</td>\n",
              "      <td>1.0</td>\n",
              "      <td>1.0</td>\n",
              "      <td>-1.0</td>\n",
              "      <td>1.0</td>\n",
              "      <td>-1.0</td>\n",
              "      <td>-1.0</td>\n",
              "      <td>-1.0</td>\n",
              "      <td>-1.0</td>\n",
              "      <td>1.0</td>\n",
              "    </tr>\n",
              "    <tr>\n",
              "      <th>Amazon</th>\n",
              "      <td>-1.0</td>\n",
              "      <td>1.0</td>\n",
              "      <td>-1.0</td>\n",
              "      <td>-1.0</td>\n",
              "      <td>1.0</td>\n",
              "      <td>-1.0</td>\n",
              "      <td>-1.0</td>\n",
              "      <td>1.0</td>\n",
              "      <td>-1.0</td>\n",
              "      <td>-1.0</td>\n",
              "      <td>...</td>\n",
              "      <td>1.0</td>\n",
              "      <td>1.0</td>\n",
              "      <td>1.0</td>\n",
              "      <td>-1.0</td>\n",
              "      <td>1.0</td>\n",
              "      <td>-1.0</td>\n",
              "      <td>1.0</td>\n",
              "      <td>1.0</td>\n",
              "      <td>-1.0</td>\n",
              "      <td>1.0</td>\n",
              "    </tr>\n",
              "    <tr>\n",
              "      <th>American express</th>\n",
              "      <td>1.0</td>\n",
              "      <td>0.0</td>\n",
              "      <td>1.0</td>\n",
              "      <td>1.0</td>\n",
              "      <td>1.0</td>\n",
              "      <td>-1.0</td>\n",
              "      <td>1.0</td>\n",
              "      <td>1.0</td>\n",
              "      <td>1.0</td>\n",
              "      <td>-1.0</td>\n",
              "      <td>...</td>\n",
              "      <td>1.0</td>\n",
              "      <td>1.0</td>\n",
              "      <td>1.0</td>\n",
              "      <td>-1.0</td>\n",
              "      <td>1.0</td>\n",
              "      <td>1.0</td>\n",
              "      <td>1.0</td>\n",
              "      <td>1.0</td>\n",
              "      <td>1.0</td>\n",
              "      <td>1.0</td>\n",
              "    </tr>\n",
              "    <tr>\n",
              "      <th>Boeing</th>\n",
              "      <td>1.0</td>\n",
              "      <td>1.0</td>\n",
              "      <td>1.0</td>\n",
              "      <td>1.0</td>\n",
              "      <td>1.0</td>\n",
              "      <td>-1.0</td>\n",
              "      <td>1.0</td>\n",
              "      <td>1.0</td>\n",
              "      <td>1.0</td>\n",
              "      <td>-1.0</td>\n",
              "      <td>...</td>\n",
              "      <td>1.0</td>\n",
              "      <td>1.0</td>\n",
              "      <td>1.0</td>\n",
              "      <td>-1.0</td>\n",
              "      <td>1.0</td>\n",
              "      <td>1.0</td>\n",
              "      <td>-1.0</td>\n",
              "      <td>1.0</td>\n",
              "      <td>1.0</td>\n",
              "      <td>1.0</td>\n",
              "    </tr>\n",
              "  </tbody>\n",
              "</table>\n",
              "<p>5 rows × 963 columns</p>\n",
              "</div>\n",
              "      <button class=\"colab-df-convert\" onclick=\"convertToInteractive('df-c70e79d2-20e1-48d1-8079-2595cedd4dd8')\"\n",
              "              title=\"Convert this dataframe to an interactive table.\"\n",
              "              style=\"display:none;\">\n",
              "        \n",
              "  <svg xmlns=\"http://www.w3.org/2000/svg\" height=\"24px\"viewBox=\"0 0 24 24\"\n",
              "       width=\"24px\">\n",
              "    <path d=\"M0 0h24v24H0V0z\" fill=\"none\"/>\n",
              "    <path d=\"M18.56 5.44l.94 2.06.94-2.06 2.06-.94-2.06-.94-.94-2.06-.94 2.06-2.06.94zm-11 1L8.5 8.5l.94-2.06 2.06-.94-2.06-.94L8.5 2.5l-.94 2.06-2.06.94zm10 10l.94 2.06.94-2.06 2.06-.94-2.06-.94-.94-2.06-.94 2.06-2.06.94z\"/><path d=\"M17.41 7.96l-1.37-1.37c-.4-.4-.92-.59-1.43-.59-.52 0-1.04.2-1.43.59L10.3 9.45l-7.72 7.72c-.78.78-.78 2.05 0 2.83L4 21.41c.39.39.9.59 1.41.59.51 0 1.02-.2 1.41-.59l7.78-7.78 2.81-2.81c.8-.78.8-2.07 0-2.86zM5.41 20L4 18.59l7.72-7.72 1.47 1.35L5.41 20z\"/>\n",
              "  </svg>\n",
              "      </button>\n",
              "      \n",
              "  <style>\n",
              "    .colab-df-container {\n",
              "      display:flex;\n",
              "      flex-wrap:wrap;\n",
              "      gap: 12px;\n",
              "    }\n",
              "\n",
              "    .colab-df-convert {\n",
              "      background-color: #E8F0FE;\n",
              "      border: none;\n",
              "      border-radius: 50%;\n",
              "      cursor: pointer;\n",
              "      display: none;\n",
              "      fill: #1967D2;\n",
              "      height: 32px;\n",
              "      padding: 0 0 0 0;\n",
              "      width: 32px;\n",
              "    }\n",
              "\n",
              "    .colab-df-convert:hover {\n",
              "      background-color: #E2EBFA;\n",
              "      box-shadow: 0px 1px 2px rgba(60, 64, 67, 0.3), 0px 1px 3px 1px rgba(60, 64, 67, 0.15);\n",
              "      fill: #174EA6;\n",
              "    }\n",
              "\n",
              "    [theme=dark] .colab-df-convert {\n",
              "      background-color: #3B4455;\n",
              "      fill: #D2E3FC;\n",
              "    }\n",
              "\n",
              "    [theme=dark] .colab-df-convert:hover {\n",
              "      background-color: #434B5C;\n",
              "      box-shadow: 0px 1px 3px 1px rgba(0, 0, 0, 0.15);\n",
              "      filter: drop-shadow(0px 1px 2px rgba(0, 0, 0, 0.3));\n",
              "      fill: #FFFFFF;\n",
              "    }\n",
              "  </style>\n",
              "\n",
              "      <script>\n",
              "        const buttonEl =\n",
              "          document.querySelector('#df-c70e79d2-20e1-48d1-8079-2595cedd4dd8 button.colab-df-convert');\n",
              "        buttonEl.style.display =\n",
              "          google.colab.kernel.accessAllowed ? 'block' : 'none';\n",
              "\n",
              "        async function convertToInteractive(key) {\n",
              "          const element = document.querySelector('#df-c70e79d2-20e1-48d1-8079-2595cedd4dd8');\n",
              "          const dataTable =\n",
              "            await google.colab.kernel.invokeFunction('convertToInteractive',\n",
              "                                                     [key], {});\n",
              "          if (!dataTable) return;\n",
              "\n",
              "          const docLinkHtml = 'Like what you see? Visit the ' +\n",
              "            '<a target=\"_blank\" href=https://colab.research.google.com/notebooks/data_table.ipynb>data table notebook</a>'\n",
              "            + ' to learn more about interactive tables.';\n",
              "          element.innerHTML = '';\n",
              "          dataTable['output_type'] = 'display_data';\n",
              "          await google.colab.output.renderOutput(dataTable, element);\n",
              "          const docLink = document.createElement('div');\n",
              "          docLink.innerHTML = docLinkHtml;\n",
              "          element.appendChild(docLink);\n",
              "        }\n",
              "      </script>\n",
              "    </div>\n",
              "  </div>\n",
              "  "
            ]
          },
          "metadata": {},
          "execution_count": 14
        }
      ]
    },
    {
      "cell_type": "markdown",
      "metadata": {
        "id": "_PSnPXgBnk42"
      },
      "source": [
        "Note que es posible que las acciones no hayan cambiado y en tal caso el valor contenido en el _dataset_ es de $0$ (no tiene signo)."
      ]
    },
    {
      "cell_type": "markdown",
      "metadata": {
        "id": "lyAsV08W8xOK"
      },
      "source": [
        "### **3.1.2. Reducción de dimensionalidad con `PCA`**\n",
        "---\n",
        "El *dataset* tiene $963$ características, correspondientes a los movimientos de un día en la bolsa. Vamos a graficar la curva acumulativa de la varianza explicada versus el número de componentes principales.\n",
        "¿Cuántos componentes son suficientes para presentar el $70\\%$, $80\\%$ o $90\\%$ de la varianza de los datos?"
      ]
    },
    {
      "cell_type": "code",
      "metadata": {
        "id": "vmpAEdYGIui8",
        "colab": {
          "base_uri": "https://localhost:8080/",
          "height": 589
        },
        "outputId": "f29821a4-b91c-4a91-a228-eebb14f54499"
      },
      "source": [
        "# Algoritmo de análisis de componentes principales PCA.\n",
        "from sklearn.decomposition import PCA\n",
        "\n",
        "pca = PCA(n_components=None) # Se calculan y almacenan todos los componentes.\n",
        "\n",
        "pca.fit_transform(stock_sign)\n",
        "varianza_expl = pca.explained_variance_ratio_\n",
        "\n",
        "cumulative_explained_variance_plot(varianza_expl)"
      ],
      "execution_count": 15,
      "outputs": [
        {
          "output_type": "display_data",
          "data": {
            "text/plain": [
              "<Figure size 1050x630 with 1 Axes>"
            ],
            "image/png": "[encoded data removed]"
          },
          "metadata": {
            "image/png": {
              "width": 896,
              "height": 572
            }
          }
        }
      ]
    },
    {
      "cell_type": "markdown",
      "metadata": {
        "id": "7JJxJJGg0C26"
      },
      "source": [
        "Como queremos visualizar la distribución de las compañías en los *cluster* optamos por quedarnos con únicamente $2$ componentes, uno para el eje $x$ y otro para el eje $y$."
      ]
    },
    {
      "cell_type": "code",
      "metadata": {
        "id": "wR0LplOFB2O6",
        "colab": {
          "base_uri": "https://localhost:8080/"
        },
        "outputId": "274ebbbe-320c-44ff-b80d-6152c74c1ce3"
      },
      "source": [
        "pca = PCA(n_components=2)\n",
        "\n",
        "stock_pca = pca.fit_transform(stock_sign)\n",
        "\n",
        "stock_pca[:5]"
      ],
      "execution_count": 16,
      "outputs": [
        {
          "output_type": "execute_result",
          "data": {
            "text/plain": [
              "array([[-3.07185363, -8.05328197],\n",
              "       [-5.12194515, -3.06749837],\n",
              "       [-1.6596603 , -6.64679529],\n",
              "       [-4.26183533, -1.39506209],\n",
              "       [ 1.75875782, -0.483582  ]])"
            ]
          },
          "metadata": {},
          "execution_count": 16
        }
      ]
    },
    {
      "cell_type": "markdown",
      "metadata": {
        "id": "vWifdDEyZ3G_"
      },
      "source": [
        "Observe que, si bien _PCA_ admite usar como entrada un objeto *DataFrame* de *Pandas*, la salida es un arreglo de *NumPy*, perdiendo los nombres de las columnas."
      ]
    },
    {
      "cell_type": "markdown",
      "metadata": {
        "id": "4MknaLM784Q7"
      },
      "source": [
        "### **3.1.3. Agrupamiento con el algoritmo $k$-_means_**\n",
        "---\n",
        "Ahora, usaremos el método **`KMeans`** con $7$ clusters y visualizaremos los clusters en el plano de $2$ dimensiones dado por las componentes principales obtenidas con **`PCA`**."
      ]
    },
    {
      "cell_type": "code",
      "metadata": {
        "id": "yWMkWAI2J-GP",
        "colab": {
          "base_uri": "https://localhost:8080/"
        },
        "outputId": "7f729424-2fd5-4068-d018-df49bc3ec6a8"
      },
      "source": [
        "# Algoritmo de agrupamiento K-means\n",
        "\n",
        "from sklearn.cluster import KMeans\n",
        "n_clusters = 7\n",
        "\n",
        "y = KMeans(n_clusters = n_clusters).fit_predict(stock_pca)\n",
        "\n",
        "y"
      ],
      "execution_count": 17,
      "outputs": [
        {
          "output_type": "execute_result",
          "data": {
            "text/plain": [
              "array([4, 1, 4, 1, 5, 1, 0, 3, 3, 6, 3, 4, 0, 3, 4, 1, 3, 4, 1, 0, 5, 3,\n",
              "       4, 5, 4, 2, 1, 6, 6, 5, 4, 2, 3, 4, 3, 1, 5, 0, 6, 2, 6, 2, 0, 3,\n",
              "       3, 3, 0, 4, 3, 0, 4, 4, 0, 1, 5, 1, 6, 0, 1, 4], dtype=int32)"
            ]
          },
          "metadata": {},
          "execution_count": 17
        }
      ]
    },
    {
      "cell_type": "markdown",
      "metadata": {
        "id": "rFTsTFBb1LhG"
      },
      "source": [
        "Ya tenemos los datos resumidos en dos características y la etiqueta correspondiente al *cluster* al que corresponde cada compañía. Podemos usar esta información para visualizar los resultados."
      ]
    },
    {
      "cell_type": "code",
      "metadata": {
        "id": "N5G_IINe1LAm",
        "colab": {
          "base_uri": "https://localhost:8080/",
          "height": 817
        },
        "outputId": "2c7e177c-dfb3-4e2a-93a8-9e2f1979d485"
      },
      "source": [
        "plot_company_distribution(stock_pca, y, stock_df.index)"
      ],
      "execution_count": 18,
      "outputs": [
        {
          "output_type": "display_data",
          "data": {
            "text/html": [
              "<html>\n",
              "<head><meta charset=\"utf-8\" /></head>\n",
              "<body>\n",
              "    <div>            <script src=\"https://cdnjs.cloudflare.com/ajax/libs/mathjax/2.7.5/MathJax.js?config=TeX-AMS-MML_SVG\"></script><script type=\"text/javascript\">if (window.MathJax) {MathJax.Hub.Config({SVG: {font: \"STIX-Web\"}});}</script>                <script type=\"text/javascript\">window.PlotlyConfig = {MathJaxConfig: 'local'};</script>\n",
              "        <script src=\"https://cdn.plot.ly/plotly-2.8.3.min.js\"></script>                <div id=\"ebe5a5f9-3a7c-4db8-8cc1-dba894c59b89\" class=\"plotly-graph-div\" style=\"height:800px; width:100%;\"></div>            <script type=\"text/javascript\">                                    window.PLOTLYENV=window.PLOTLYENV || {};                                    if (document.getElementById(\"ebe5a5f9-3a7c-4db8-8cc1-dba894c59b89\")) {                    Plotly.newPlot(                        \"ebe5a5f9-3a7c-4db8-8cc1-dba894c59b89\",                        [{\"hovertemplate\":\"cluster=1<br>x=%{x}<br>y=%{y}<br>size=%{marker.size}<br>name=%{text}<extra></extra>\",\"legendgroup\":\"1\",\"marker\":{\"color\":\"#636efa\",\"size\":[100,100,100,100,100,100,100,100,100],\"sizemode\":\"area\",\"sizeref\":0.25,\"symbol\":\"circle\"},\"mode\":\"markers+text\",\"name\":\"1\",\"orientation\":\"v\",\"showlegend\":true,\"text\":[\"GlaxoSmithKline\",\"Novartis\",\"Chevron\",\"Unilever\",\"Total\",\"British American Tobacco\",\"Royal Dutch Shell\",\"Exxon\",\"Sanofi-Aventis\"],\"x\":[5.292548235113944,3.625185697883599,0.02486127354169734,2.536697344996077,-1.601509064502767,4.310628863023073,-0.4582674797112083,2.0386620414954506,1.9375605724128449],\"xaxis\":\"x\",\"y\":[6.371320940790063,7.587644214062653,10.134116414058315,8.93749951795822,10.968405925798809,8.266268109225367,11.861744204372407,8.979761826960281,9.2897219579244],\"yaxis\":\"y\",\"type\":\"scatter\",\"textposition\":\"top center\"},{\"hovertemplate\":\"cluster=2<br>x=%{x}<br>y=%{y}<br>size=%{marker.size}<br>name=%{text}<extra></extra>\",\"legendgroup\":\"2\",\"marker\":{\"color\":\"#EF553B\",\"size\":[100,100,100,100,100,100,100,100,100,100],\"sizemode\":\"area\",\"sizeref\":0.25,\"symbol\":\"circle\"},\"mode\":\"markers+text\",\"name\":\"2\",\"orientation\":\"v\",\"showlegend\":true,\"text\":[\"Navistar\",\"Valero Energy\",\"Wells Fargo\",\"American express\",\"Xerox\",\"Ford\",\"JPMorgan Chase\",\"Goldman Sachs\",\"AIG\",\"Bank of America\"],\"x\":[-7.311620533105319,-6.164887772767409,-9.069142954438508,-4.261835331931263,-4.595869908360968,-6.550077997026574,-9.017771226220125,-9.262521411474282,-5.121945146876929,-9.759337028045199],\"xaxis\":\"x\",\"y\":[-1.6024054191046078,1.2032050015340123,0.38104925634577963,-1.3950620914047747,-2.52143768797039,-3.14983436006943,1.9347041983225097,0.5583657047278165,-3.067498371386193,1.000976390617173],\"yaxis\":\"y\",\"type\":\"scatter\",\"textposition\":\"top center\"},{\"hovertemplate\":\"cluster=3<br>x=%{x}<br>y=%{y}<br>size=%{marker.size}<br>name=%{text}<extra></extra>\",\"legendgroup\":\"3\",\"marker\":{\"color\":\"#00cc96\",\"size\":[100,100,100,100],\"sizemode\":\"area\",\"sizeref\":0.25,\"symbol\":\"circle\"},\"mode\":\"markers+text\",\"name\":\"3\",\"orientation\":\"v\",\"showlegend\":true,\"text\":[\"Philip Morris\",\"McDonalds\",\"Johnson & Johnson\",\"Pfizer\"],\"x\":[7.564153383000074,7.735868542274321,7.779493867020151,8.217479678796042],\"xaxis\":\"x\",\"y\":[-1.6278436398255922,-5.283522871217371,0.7532300075537448,3.6177286300992866],\"yaxis\":\"y\",\"type\":\"scatter\",\"textposition\":\"top center\"},{\"hovertemplate\":\"cluster=4<br>x=%{x}<br>y=%{y}<br>size=%{marker.size}<br>name=%{text}<extra></extra>\",\"legendgroup\":\"4\",\"marker\":{\"color\":\"#ab63fa\",\"size\":[100,100,100,100,100,100,100,100,100,100,100,100],\"sizemode\":\"area\",\"sizeref\":0.25,\"symbol\":\"circle\"},\"mode\":\"markers+text\",\"name\":\"4\",\"orientation\":\"v\",\"showlegend\":true,\"text\":[\"Honda\",\"General Electrics\",\"Sony\",\"Schlumberger\",\"SAP\",\"DuPont de Nemours\",\"3M\",\"ConocoPhillips\",\"Mitsubishi\",\"Caterpillar\",\"Canon\",\"Toyota\"],\"x\":[-5.468832859788562,-2.193448680510263,-4.9302593223941615,-4.925185577195458,-3.448190961619712,-3.3818935061439115,0.8295320926864141,-1.8148581853037717,-4.646485138499252,-6.717934995632371,-2.837813758353116,-4.44775642263422],\"xaxis\":\"x\",\"y\":[5.339078189505284,1.034244048834328,2.47372996415078,5.582520546744911,4.899561974148142,2.865415942783516,2.9638802424615123,6.040977426878543,1.2912182253835578,3.5941478033791627,2.318676424585353,2.169654675775557],\"yaxis\":\"y\",\"type\":\"scatter\",\"textposition\":\"top center\"},{\"hovertemplate\":\"cluster=5<br>x=%{x}<br>y=%{y}<br>size=%{marker.size}<br>name=%{text}<extra></extra>\",\"legendgroup\":\"5\",\"marker\":{\"color\":\"#FFA15A\",\"size\":[100,100,100,100,100,100,100,100,100,100,100,100,100],\"sizemode\":\"area\",\"sizeref\":0.25,\"symbol\":\"circle\"},\"mode\":\"markers+text\",\"name\":\"5\",\"orientation\":\"v\",\"showlegend\":true,\"text\":[\"Symantec\",\"Taiwan Semiconductor Manufacturing\",\"Texas instruments\",\"Apple\",\"Yahoo\",\"Amazon\",\"Microsoft\",\"MasterCard\",\"Intel\",\"Cisco\",\"HP\",\"Dell\",\"Google/Alphabet\"],\"x\":[-2.86877772556805,-3.837041853179307,-3.7672566497371305,-3.0718536328209103,-1.3686095775335394,-1.6596603034540847,-1.6010254678932654,-0.807792117620781,-1.0226502135412576,-2.0524866758212204,-4.039930331055462,-3.8095572282458168,-2.3765416919543085],\"xaxis\":\"x\",\"y\":[-7.723639828320999,-7.403904321413139,-6.468403830585332,-8.053281968171753,-6.580902304412873,-6.646795287833992,-7.1877443738573366,-5.501735040710624,-6.710999892142886,-4.93615667524526,-4.57582068446144,-6.167502244811089,-8.865249789433754],\"yaxis\":\"y\",\"type\":\"scatter\",\"textposition\":\"top center\"},{\"hovertemplate\":\"cluster=6<br>x=%{x}<br>y=%{y}<br>size=%{marker.size}<br>name=%{text}<extra></extra>\",\"legendgroup\":\"6\",\"marker\":{\"color\":\"#19d3f3\",\"size\":[100,100,100,100,100,100],\"sizemode\":\"area\",\"sizeref\":0.25,\"symbol\":\"circle\"},\"mode\":\"markers+text\",\"name\":\"6\",\"orientation\":\"v\",\"showlegend\":true,\"text\":[\"Home Depot\",\"Boeing\",\"Walgreen\",\"Lookheed Martin\",\"IBM\",\"Northrop Grumman\"],\"x\":[3.6720590691520747,1.7587578166478146,3.070702347616553,4.067223722902856,0.5764420313582422,2.360656129439709],\"xaxis\":\"x\",\"y\":[-2.899449434936708,-0.48358200021112896,-2.0575358405344204,-4.80158454979989,-3.8818634500573275,-1.7930211522363533],\"yaxis\":\"y\",\"type\":\"scatter\",\"textposition\":\"top center\"},{\"hovertemplate\":\"cluster=7<br>x=%{x}<br>y=%{y}<br>size=%{marker.size}<br>name=%{text}<extra></extra>\",\"legendgroup\":\"7\",\"marker\":{\"color\":\"#FF6692\",\"size\":[100,100,100,100,100,100],\"sizemode\":\"area\",\"sizeref\":0.25,\"symbol\":\"circle\"},\"mode\":\"markers+text\",\"name\":\"7\",\"orientation\":\"v\",\"showlegend\":true,\"text\":[\"Colgate-Palmolive\",\"Kimberly-Clark\",\"Coca Cola\",\"Wal-Mart\",\"Pepsi\",\"Procter Gamble\"],\"x\":[15.490035683746221,15.09005937556992,13.424129267158401,12.238890962069572,13.70219881937356,12.926801913681857],\"xaxis\":\"x\",\"y\":[-3.3854754101869435,-2.269853357674749,-1.943439919069071,-1.2855410362903679,-1.0479049802357394,-1.0998559513699493],\"yaxis\":\"y\",\"type\":\"scatter\",\"textposition\":\"top center\"}],                        {\"template\":{\"data\":{\"bar\":[{\"error_x\":{\"color\":\"#2a3f5f\"},\"error_y\":{\"color\":\"#2a3f5f\"},\"marker\":{\"line\":{\"color\":\"#E5ECF6\",\"width\":0.5},\"pattern\":{\"fillmode\":\"overlay\",\"size\":10,\"solidity\":0.2}},\"type\":\"bar\"}],\"barpolar\":[{\"marker\":{\"line\":{\"color\":\"#E5ECF6\",\"width\":0.5},\"pattern\":{\"fillmode\":\"overlay\",\"size\":10,\"solidity\":0.2}},\"type\":\"barpolar\"}],\"carpet\":[{\"aaxis\":{\"endlinecolor\":\"#2a3f5f\",\"gridcolor\":\"white\",\"linecolor\":\"white\",\"minorgridcolor\":\"white\",\"startlinecolor\":\"#2a3f5f\"},\"baxis\":{\"endlinecolor\":\"#2a3f5f\",\"gridcolor\":\"white\",\"linecolor\":\"white\",\"minorgridcolor\":\"white\",\"startlinecolor\":\"#2a3f5f\"},\"type\":\"carpet\"}],\"choropleth\":[{\"colorbar\":{\"outlinewidth\":0,\"ticks\":\"\"},\"type\":\"choropleth\"}],\"contour\":[{\"colorbar\":{\"outlinewidth\":0,\"ticks\":\"\"},\"colorscale\":[[0.0,\"#0d0887\"],[0.1111111111111111,\"#46039f\"],[0.2222222222222222,\"#7201a8\"],[0.3333333333333333,\"#9c179e\"],[0.4444444444444444,\"#bd3786\"],[0.5555555555555556,\"#d8576b\"],[0.6666666666666666,\"#ed7953\"],[0.7777777777777778,\"#fb9f3a\"],[0.8888888888888888,\"#fdca26\"],[1.0,\"#f0f921\"]],\"type\":\"contour\"}],\"contourcarpet\":[{\"colorbar\":{\"outlinewidth\":0,\"ticks\":\"\"},\"type\":\"contourcarpet\"}],\"heatmap\":[{\"colorbar\":{\"outlinewidth\":0,\"ticks\":\"\"},\"colorscale\":[[0.0,\"#0d0887\"],[0.1111111111111111,\"#46039f\"],[0.2222222222222222,\"#7201a8\"],[0.3333333333333333,\"#9c179e\"],[0.4444444444444444,\"#bd3786\"],[0.5555555555555556,\"#d8576b\"],[0.6666666666666666,\"#ed7953\"],[0.7777777777777778,\"#fb9f3a\"],[0.8888888888888888,\"#fdca26\"],[1.0,\"#f0f921\"]],\"type\":\"heatmap\"}],\"heatmapgl\":[{\"colorbar\":{\"outlinewidth\":0,\"ticks\":\"\"},\"colorscale\":[[0.0,\"#0d0887\"],[0.1111111111111111,\"#46039f\"],[0.2222222222222222,\"#7201a8\"],[0.3333333333333333,\"#9c179e\"],[0.4444444444444444,\"#bd3786\"],[0.5555555555555556,\"#d8576b\"],[0.6666666666666666,\"#ed7953\"],[0.7777777777777778,\"#fb9f3a\"],[0.8888888888888888,\"#fdca26\"],[1.0,\"#f0f921\"]],\"type\":\"heatmapgl\"}],\"histogram\":[{\"marker\":{\"pattern\":{\"fillmode\":\"overlay\",\"size\":10,\"solidity\":0.2}},\"type\":\"histogram\"}],\"histogram2d\":[{\"colorbar\":{\"outlinewidth\":0,\"ticks\":\"\"},\"colorscale\":[[0.0,\"#0d0887\"],[0.1111111111111111,\"#46039f\"],[0.2222222222222222,\"#7201a8\"],[0.3333333333333333,\"#9c179e\"],[0.4444444444444444,\"#bd3786\"],[0.5555555555555556,\"#d8576b\"],[0.6666666666666666,\"#ed7953\"],[0.7777777777777778,\"#fb9f3a\"],[0.8888888888888888,\"#fdca26\"],[1.0,\"#f0f921\"]],\"type\":\"histogram2d\"}],\"histogram2dcontour\":[{\"colorbar\":{\"outlinewidth\":0,\"ticks\":\"\"},\"colorscale\":[[0.0,\"#0d0887\"],[0.1111111111111111,\"#46039f\"],[0.2222222222222222,\"#7201a8\"],[0.3333333333333333,\"#9c179e\"],[0.4444444444444444,\"#bd3786\"],[0.5555555555555556,\"#d8576b\"],[0.6666666666666666,\"#ed7953\"],[0.7777777777777778,\"#fb9f3a\"],[0.8888888888888888,\"#fdca26\"],[1.0,\"#f0f921\"]],\"type\":\"histogram2dcontour\"}],\"mesh3d\":[{\"colorbar\":{\"outlinewidth\":0,\"ticks\":\"\"},\"type\":\"mesh3d\"}],\"parcoords\":[{\"line\":{\"colorbar\":{\"outlinewidth\":0,\"ticks\":\"\"}},\"type\":\"parcoords\"}],\"pie\":[{\"automargin\":true,\"type\":\"pie\"}],\"scatter\":[{\"marker\":{\"colorbar\":{\"outlinewidth\":0,\"ticks\":\"\"}},\"type\":\"scatter\"}],\"scatter3d\":[{\"line\":{\"colorbar\":{\"outlinewidth\":0,\"ticks\":\"\"}},\"marker\":{\"colorbar\":{\"outlinewidth\":0,\"ticks\":\"\"}},\"type\":\"scatter3d\"}],\"scattercarpet\":[{\"marker\":{\"colorbar\":{\"outlinewidth\":0,\"ticks\":\"\"}},\"type\":\"scattercarpet\"}],\"scattergeo\":[{\"marker\":{\"colorbar\":{\"outlinewidth\":0,\"ticks\":\"\"}},\"type\":\"scattergeo\"}],\"scattergl\":[{\"marker\":{\"colorbar\":{\"outlinewidth\":0,\"ticks\":\"\"}},\"type\":\"scattergl\"}],\"scattermapbox\":[{\"marker\":{\"colorbar\":{\"outlinewidth\":0,\"ticks\":\"\"}},\"type\":\"scattermapbox\"}],\"scatterpolar\":[{\"marker\":{\"colorbar\":{\"outlinewidth\":0,\"ticks\":\"\"}},\"type\":\"scatterpolar\"}],\"scatterpolargl\":[{\"marker\":{\"colorbar\":{\"outlinewidth\":0,\"ticks\":\"\"}},\"type\":\"scatterpolargl\"}],\"scatterternary\":[{\"marker\":{\"colorbar\":{\"outlinewidth\":0,\"ticks\":\"\"}},\"type\":\"scatterternary\"}],\"surface\":[{\"colorbar\":{\"outlinewidth\":0,\"ticks\":\"\"},\"colorscale\":[[0.0,\"#0d0887\"],[0.1111111111111111,\"#46039f\"],[0.2222222222222222,\"#7201a8\"],[0.3333333333333333,\"#9c179e\"],[0.4444444444444444,\"#bd3786\"],[0.5555555555555556,\"#d8576b\"],[0.6666666666666666,\"#ed7953\"],[0.7777777777777778,\"#fb9f3a\"],[0.8888888888888888,\"#fdca26\"],[1.0,\"#f0f921\"]],\"type\":\"surface\"}],\"table\":[{\"cells\":{\"fill\":{\"color\":\"#EBF0F8\"},\"line\":{\"color\":\"white\"}},\"header\":{\"fill\":{\"color\":\"#C8D4E3\"},\"line\":{\"color\":\"white\"}},\"type\":\"table\"}]},\"layout\":{\"annotationdefaults\":{\"arrowcolor\":\"#2a3f5f\",\"arrowhead\":0,\"arrowwidth\":1},\"autotypenumbers\":\"strict\",\"coloraxis\":{\"colorbar\":{\"outlinewidth\":0,\"ticks\":\"\"}},\"colorscale\":{\"diverging\":[[0,\"#8e0152\"],[0.1,\"#c51b7d\"],[0.2,\"#de77ae\"],[0.3,\"#f1b6da\"],[0.4,\"#fde0ef\"],[0.5,\"#f7f7f7\"],[0.6,\"#e6f5d0\"],[0.7,\"#b8e186\"],[0.8,\"#7fbc41\"],[0.9,\"#4d9221\"],[1,\"#276419\"]],\"sequential\":[[0.0,\"#0d0887\"],[0.1111111111111111,\"#46039f\"],[0.2222222222222222,\"#7201a8\"],[0.3333333333333333,\"#9c179e\"],[0.4444444444444444,\"#bd3786\"],[0.5555555555555556,\"#d8576b\"],[0.6666666666666666,\"#ed7953\"],[0.7777777777777778,\"#fb9f3a\"],[0.8888888888888888,\"#fdca26\"],[1.0,\"#f0f921\"]],\"sequentialminus\":[[0.0,\"#0d0887\"],[0.1111111111111111,\"#46039f\"],[0.2222222222222222,\"#7201a8\"],[0.3333333333333333,\"#9c179e\"],[0.4444444444444444,\"#bd3786\"],[0.5555555555555556,\"#d8576b\"],[0.6666666666666666,\"#ed7953\"],[0.7777777777777778,\"#fb9f3a\"],[0.8888888888888888,\"#fdca26\"],[1.0,\"#f0f921\"]]},\"colorway\":[\"#636efa\",\"#EF553B\",\"#00cc96\",\"#ab63fa\",\"#FFA15A\",\"#19d3f3\",\"#FF6692\",\"#B6E880\",\"#FF97FF\",\"#FECB52\"],\"font\":{\"color\":\"#2a3f5f\"},\"geo\":{\"bgcolor\":\"white\",\"lakecolor\":\"white\",\"landcolor\":\"#E5ECF6\",\"showlakes\":true,\"showland\":true,\"subunitcolor\":\"white\"},\"hoverlabel\":{\"align\":\"left\"},\"hovermode\":\"closest\",\"mapbox\":{\"style\":\"light\"},\"paper_bgcolor\":\"white\",\"plot_bgcolor\":\"#E5ECF6\",\"polar\":{\"angularaxis\":{\"gridcolor\":\"white\",\"linecolor\":\"white\",\"ticks\":\"\"},\"bgcolor\":\"#E5ECF6\",\"radialaxis\":{\"gridcolor\":\"white\",\"linecolor\":\"white\",\"ticks\":\"\"}},\"scene\":{\"xaxis\":{\"backgroundcolor\":\"#E5ECF6\",\"gridcolor\":\"white\",\"gridwidth\":2,\"linecolor\":\"white\",\"showbackground\":true,\"ticks\":\"\",\"zerolinecolor\":\"white\"},\"yaxis\":{\"backgroundcolor\":\"#E5ECF6\",\"gridcolor\":\"white\",\"gridwidth\":2,\"linecolor\":\"white\",\"showbackground\":true,\"ticks\":\"\",\"zerolinecolor\":\"white\"},\"zaxis\":{\"backgroundcolor\":\"#E5ECF6\",\"gridcolor\":\"white\",\"gridwidth\":2,\"linecolor\":\"white\",\"showbackground\":true,\"ticks\":\"\",\"zerolinecolor\":\"white\"}},\"shapedefaults\":{\"line\":{\"color\":\"#2a3f5f\"}},\"ternary\":{\"aaxis\":{\"gridcolor\":\"white\",\"linecolor\":\"white\",\"ticks\":\"\"},\"baxis\":{\"gridcolor\":\"white\",\"linecolor\":\"white\",\"ticks\":\"\"},\"bgcolor\":\"#E5ECF6\",\"caxis\":{\"gridcolor\":\"white\",\"linecolor\":\"white\",\"ticks\":\"\"}},\"title\":{\"x\":0.05},\"xaxis\":{\"automargin\":true,\"gridcolor\":\"white\",\"linecolor\":\"white\",\"ticks\":\"\",\"title\":{\"standoff\":15},\"zerolinecolor\":\"white\",\"zerolinewidth\":2},\"yaxis\":{\"automargin\":true,\"gridcolor\":\"white\",\"linecolor\":\"white\",\"ticks\":\"\",\"title\":{\"standoff\":15},\"zerolinecolor\":\"white\",\"zerolinewidth\":2}}},\"xaxis\":{\"anchor\":\"y\",\"domain\":[0.0,1.0],\"title\":{\"text\":\"x\"}},\"yaxis\":{\"anchor\":\"x\",\"domain\":[0.0,1.0],\"title\":{\"text\":\"y\"}},\"legend\":{\"title\":{\"text\":\"cluster\"},\"tracegroupgap\":0,\"itemsizing\":\"constant\"},\"margin\":{\"t\":60},\"title\":{\"text\":\"Agrupamiento de compa\\u00f1\\u00edas por movimientos en la bolsa\"},\"font\":{\"size\":16},\"height\":800,\"dragmode\":\"pan\"},                        {\"scrollZoom\": true, \"responsive\": true}                    ).then(function(){\n",
              "                            \n",
              "var gd = document.getElementById('ebe5a5f9-3a7c-4db8-8cc1-dba894c59b89');\n",
              "var x = new MutationObserver(function (mutations, observer) {{\n",
              "        var display = window.getComputedStyle(gd).display;\n",
              "        if (!display || display === 'none') {{\n",
              "            console.log([gd, 'removed!']);\n",
              "            Plotly.purge(gd);\n",
              "            observer.disconnect();\n",
              "        }}\n",
              "}});\n",
              "\n",
              "// Listen for the removal of the full notebook cells\n",
              "var notebookContainer = gd.closest('#notebook-container');\n",
              "if (notebookContainer) {{\n",
              "    x.observe(notebookContainer, {childList: true});\n",
              "}}\n",
              "\n",
              "// Listen for the clearing of the current output cell\n",
              "var outputEl = gd.closest('.output');\n",
              "if (outputEl) {{\n",
              "    x.observe(outputEl, {childList: true});\n",
              "}}\n",
              "\n",
              "                        })                };                            </script>        </div>\n",
              "</body>\n",
              "</html>"
            ]
          },
          "metadata": {}
        }
      ]
    },
    {
      "cell_type": "markdown",
      "metadata": {
        "id": "x-sxbcd11olL"
      },
      "source": [
        "Tal como se pensaba, las compañías del mismo sector de la economía (petroleras, tecnológicas, bancarias, etc) tienden a tener movimientos similares.\n",
        "\n",
        "Mirando en retrospectiva, realizamos $3$ transformaciones significativas en nuestros datos:\n",
        "\n",
        "1. Transformación específica del dominio convirtiendo los valores en $-1$, $0$ y $1$ con **`np.sign`**. (De **`stock_df`** a  **`stock_sign`**)\n",
        "2. Reducción de la dimensionalidad con _PCA_. (De **`stock_sign`** a **`stock_pca`**)\n",
        "3. Agrupamiento con el algoritmo $k$-_means_. (De **`stock_pca`** a **`y`**)\n",
        "\n",
        "En este ejemplo no es grave la cantidad de código escrito y ejecutado, pero se puede encontrar casos de estudio en los que no sea tan conveniente controlar el proceso con múltiples variables para cada caso, o donde se necesite realizar una validación cruzada y obtener la mejor configuración de parámetros. \n",
        "Para combatir este problema surgen los **_Pipelines_**."
      ]
    },
    {
      "cell_type": "markdown",
      "metadata": {
        "id": "YWAn5t053t7g"
      },
      "source": [
        "## **3.2. Objetos `Pipeline`**\n",
        "---\n",
        "Los *pipelines* encadenan múltiples procesos en uno solo. Por ejemplo, transformaciones de los datos, reducción de la dimensionalidad  y entrenamiento de modelos supervisados y no supervisados. De esta manera, es posible automatizar una secuencia de transformaciones que pueden ser usados tanto en entrenamiento como en evaluación con datos en crudo. \n",
        "\n",
        "En la siguiente imagen puede ver de manera gráfica el concepto, con una anotación de las transformaciones y métodos encapsulados en el proceso:\n"
      ]
    },
    {
      "cell_type": "markdown",
      "metadata": {
        "id": "luUfrTCYLhYp"
      },
      "source": [
        "![pipeline.png](data:image/png;base64,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)"
      ]
    },
    {
      "cell_type": "markdown",
      "metadata": {
        "id": "-R4pnbS5Lg8U"
      },
      "source": [
        "*Scikit-Learn* implementa esto con la clase **`Pipeline`**. Usar *pipelines* ofrece varias ventajas:\n",
        "\n",
        "* **Conveniencia y encapsulación:** solo debes llamar **`fit`** y **`predict`** una vez en tus datos para ajustar una secuencia completa de estimadores.\n",
        "\n",
        "* **Búsqueda de hiperparámetros conjunta:** podrá hacer búsqueda de los hiperparámetros de las transformaciones y modelo al mismo tiempo.\n",
        "\n",
        "* **Seguridad:** los _pipelines_ ayudan a evitar que se filtre información de los datos de prueba al modelo entrenado. Los mismos ejemplos son usados para entrenar las transformaciones y los modelos.\n",
        "\n",
        "El constructor **`Pipeline`** recibe como argumento una lista de estimadores, como modelos de clasificación o algoritmos de transformación, junto a un nombre que sirve como indicador para la configuración posterior de cada uno."
      ]
    },
    {
      "cell_type": "markdown",
      "metadata": {
        "id": "ci6UDPQ79C3v"
      },
      "source": [
        "### **3.2.1. Estimador con función usando `FunctionTransformer`**\n",
        "---\n",
        "*Scikit-Learn* ofrece una variedad de estos [estimadores](https://scikit-learn.org/stable/tutorial/machine_learning_map/index.html). Sin ir más lejos, todos los algoritmos de clasificación, regresión y agrupamiento vistos en el curso son estimadores y pueden incluirse en un *pipeline* de ejecución.\n",
        "\n",
        "Sin embargo, estos últimos suelen ubicarse al final para generar una predicción de aprendizaje automático. Otra clase de estimadores importantes son los de [transformación](https://scikit-learn.org/stable/data_transforms.html) y preprocesamiento de datos. \n",
        "\n",
        "Por ejemplo, con el estimador transformador **`FunctionTransformer`** podemos realizar una operación de transformación a partir de una función (incluso una definida por nosotros)."
      ]
    },
    {
      "cell_type": "code",
      "metadata": {
        "id": "OjHI9paJ6Vkm",
        "colab": {
          "base_uri": "https://localhost:8080/",
          "height": 317
        },
        "outputId": "ba44c398-26a2-4c1e-9b2e-6dafda9ba450"
      },
      "source": [
        "from sklearn.preprocessing import FunctionTransformer\n",
        "\n",
        "transformer = FunctionTransformer(func = np.sign) # Usamos la función np.sign\n",
        "\n",
        "transformer.transform(stock_df).head()"
      ],
      "execution_count": 19,
      "outputs": [
        {
          "output_type": "execute_result",
          "data": {
            "text/plain": [
              "                  2010-01-04  2010-01-05  2010-01-06  2010-01-07  2010-01-08  \\\n",
              "Apple                    1.0        -1.0        -1.0        -1.0         1.0   \n",
              "AIG                     -1.0        -1.0        -1.0        -1.0         1.0   \n",
              "Amazon                  -1.0         1.0        -1.0        -1.0         1.0   \n",
              "American express         1.0         0.0         1.0         1.0         1.0   \n",
              "Boeing                   1.0         1.0         1.0         1.0         1.0   \n",
              "\n",
              "                  2010-01-11  2010-01-12  2010-01-13  2010-01-14  2010-01-15  \\\n",
              "Apple                   -1.0        -1.0         1.0        -1.0        -1.0   \n",
              "AIG                     -1.0        -1.0         1.0        -1.0        -1.0   \n",
              "Amazon                  -1.0        -1.0         1.0        -1.0        -1.0   \n",
              "American express        -1.0         1.0         1.0         1.0        -1.0   \n",
              "Boeing                  -1.0         1.0         1.0         1.0        -1.0   \n",
              "\n",
              "                  ...  2013-10-16  2013-10-17  2013-10-18  2013-10-21  \\\n",
              "Apple             ...         1.0         1.0         1.0         1.0   \n",
              "AIG               ...         1.0         1.0         1.0        -1.0   \n",
              "Amazon            ...         1.0         1.0         1.0        -1.0   \n",
              "American express  ...         1.0         1.0         1.0        -1.0   \n",
              "Boeing            ...         1.0         1.0         1.0        -1.0   \n",
              "\n",
              "                  2013-10-22  2013-10-23  2013-10-24  2013-10-25  2013-10-28  \\\n",
              "Apple                   -1.0         1.0         1.0        -1.0         1.0   \n",
              "AIG                      1.0        -1.0        -1.0        -1.0        -1.0   \n",
              "Amazon                   1.0        -1.0         1.0         1.0        -1.0   \n",
              "American express         1.0         1.0         1.0         1.0         1.0   \n",
              "Boeing                   1.0         1.0        -1.0         1.0         1.0   \n",
              "\n",
              "                  2013-10-29  \n",
              "Apple                   -1.0  \n",
              "AIG                      1.0  \n",
              "Amazon                   1.0  \n",
              "American express         1.0  \n",
              "Boeing                   1.0  \n",
              "\n",
              "[5 rows x 963 columns]"
            ],
            "text/html": [
              "\n",
              "  <div id=\"df-668417f4-bcfd-472e-822e-6fa54d233821\">\n",
              "    <div class=\"colab-df-container\">\n",
              "      <div>\n",
              "<style scoped>\n",
              "    .dataframe tbody tr th:only-of-type {\n",
              "        vertical-align: middle;\n",
              "    }\n",
              "\n",
              "    .dataframe tbody tr th {\n",
              "        vertical-align: top;\n",
              "    }\n",
              "\n",
              "    .dataframe thead th {\n",
              "        text-align: right;\n",
              "    }\n",
              "</style>\n",
              "<table border=\"1\" class=\"dataframe\">\n",
              "  <thead>\n",
              "    <tr style=\"text-align: right;\">\n",
              "      <th></th>\n",
              "      <th>2010-01-04</th>\n",
              "      <th>2010-01-05</th>\n",
              "      <th>2010-01-06</th>\n",
              "      <th>2010-01-07</th>\n",
              "      <th>2010-01-08</th>\n",
              "      <th>2010-01-11</th>\n",
              "      <th>2010-01-12</th>\n",
              "      <th>2010-01-13</th>\n",
              "      <th>2010-01-14</th>\n",
              "      <th>2010-01-15</th>\n",
              "      <th>...</th>\n",
              "      <th>2013-10-16</th>\n",
              "      <th>2013-10-17</th>\n",
              "      <th>2013-10-18</th>\n",
              "      <th>2013-10-21</th>\n",
              "      <th>2013-10-22</th>\n",
              "      <th>2013-10-23</th>\n",
              "      <th>2013-10-24</th>\n",
              "      <th>2013-10-25</th>\n",
              "      <th>2013-10-28</th>\n",
              "      <th>2013-10-29</th>\n",
              "    </tr>\n",
              "  </thead>\n",
              "  <tbody>\n",
              "    <tr>\n",
              "      <th>Apple</th>\n",
              "      <td>1.0</td>\n",
              "      <td>-1.0</td>\n",
              "      <td>-1.0</td>\n",
              "      <td>-1.0</td>\n",
              "      <td>1.0</td>\n",
              "      <td>-1.0</td>\n",
              "      <td>-1.0</td>\n",
              "      <td>1.0</td>\n",
              "      <td>-1.0</td>\n",
              "      <td>-1.0</td>\n",
              "      <td>...</td>\n",
              "      <td>1.0</td>\n",
              "      <td>1.0</td>\n",
              "      <td>1.0</td>\n",
              "      <td>1.0</td>\n",
              "      <td>-1.0</td>\n",
              "      <td>1.0</td>\n",
              "      <td>1.0</td>\n",
              "      <td>-1.0</td>\n",
              "      <td>1.0</td>\n",
              "      <td>-1.0</td>\n",
              "    </tr>\n",
              "    <tr>\n",
              "      <th>AIG</th>\n",
              "      <td>-1.0</td>\n",
              "      <td>-1.0</td>\n",
              "      <td>-1.0</td>\n",
              "      <td>-1.0</td>\n",
              "      <td>1.0</td>\n",
              "      <td>-1.0</td>\n",
              "      <td>-1.0</td>\n",
              "      <td>1.0</td>\n",
              "      <td>-1.0</td>\n",
              "      <td>-1.0</td>\n",
              "      <td>...</td>\n",
              "      <td>1.0</td>\n",
              "      <td>1.0</td>\n",
              "      <td>1.0</td>\n",
              "      <td>-1.0</td>\n",
              "      <td>1.0</td>\n",
              "      <td>-1.0</td>\n",
              "      <td>-1.0</td>\n",
              "      <td>-1.0</td>\n",
              "      <td>-1.0</td>\n",
              "      <td>1.0</td>\n",
              "    </tr>\n",
              "    <tr>\n",
              "      <th>Amazon</th>\n",
              "      <td>-1.0</td>\n",
              "      <td>1.0</td>\n",
              "      <td>-1.0</td>\n",
              "      <td>-1.0</td>\n",
              "      <td>1.0</td>\n",
              "      <td>-1.0</td>\n",
              "      <td>-1.0</td>\n",
              "      <td>1.0</td>\n",
              "      <td>-1.0</td>\n",
              "      <td>-1.0</td>\n",
              "      <td>...</td>\n",
              "      <td>1.0</td>\n",
              "      <td>1.0</td>\n",
              "      <td>1.0</td>\n",
              "      <td>-1.0</td>\n",
              "      <td>1.0</td>\n",
              "      <td>-1.0</td>\n",
              "      <td>1.0</td>\n",
              "      <td>1.0</td>\n",
              "      <td>-1.0</td>\n",
              "      <td>1.0</td>\n",
              "    </tr>\n",
              "    <tr>\n",
              "      <th>American express</th>\n",
              "      <td>1.0</td>\n",
              "      <td>0.0</td>\n",
              "      <td>1.0</td>\n",
              "      <td>1.0</td>\n",
              "      <td>1.0</td>\n",
              "      <td>-1.0</td>\n",
              "      <td>1.0</td>\n",
              "      <td>1.0</td>\n",
              "      <td>1.0</td>\n",
              "      <td>-1.0</td>\n",
              "      <td>...</td>\n",
              "      <td>1.0</td>\n",
              "      <td>1.0</td>\n",
              "      <td>1.0</td>\n",
              "      <td>-1.0</td>\n",
              "      <td>1.0</td>\n",
              "      <td>1.0</td>\n",
              "      <td>1.0</td>\n",
              "      <td>1.0</td>\n",
              "      <td>1.0</td>\n",
              "      <td>1.0</td>\n",
              "    </tr>\n",
              "    <tr>\n",
              "      <th>Boeing</th>\n",
              "      <td>1.0</td>\n",
              "      <td>1.0</td>\n",
              "      <td>1.0</td>\n",
              "      <td>1.0</td>\n",
              "      <td>1.0</td>\n",
              "      <td>-1.0</td>\n",
              "      <td>1.0</td>\n",
              "      <td>1.0</td>\n",
              "      <td>1.0</td>\n",
              "      <td>-1.0</td>\n",
              "      <td>...</td>\n",
              "      <td>1.0</td>\n",
              "      <td>1.0</td>\n",
              "      <td>1.0</td>\n",
              "      <td>-1.0</td>\n",
              "      <td>1.0</td>\n",
              "      <td>1.0</td>\n",
              "      <td>-1.0</td>\n",
              "      <td>1.0</td>\n",
              "      <td>1.0</td>\n",
              "      <td>1.0</td>\n",
              "    </tr>\n",
              "  </tbody>\n",
              "</table>\n",
              "<p>5 rows × 963 columns</p>\n",
              "</div>\n",
              "      <button class=\"colab-df-convert\" onclick=\"convertToInteractive('df-668417f4-bcfd-472e-822e-6fa54d233821')\"\n",
              "              title=\"Convert this dataframe to an interactive table.\"\n",
              "              style=\"display:none;\">\n",
              "        \n",
              "  <svg xmlns=\"http://www.w3.org/2000/svg\" height=\"24px\"viewBox=\"0 0 24 24\"\n",
              "       width=\"24px\">\n",
              "    <path d=\"M0 0h24v24H0V0z\" fill=\"none\"/>\n",
              "    <path d=\"M18.56 5.44l.94 2.06.94-2.06 2.06-.94-2.06-.94-.94-2.06-.94 2.06-2.06.94zm-11 1L8.5 8.5l.94-2.06 2.06-.94-2.06-.94L8.5 2.5l-.94 2.06-2.06.94zm10 10l.94 2.06.94-2.06 2.06-.94-2.06-.94-.94-2.06-.94 2.06-2.06.94z\"/><path d=\"M17.41 7.96l-1.37-1.37c-.4-.4-.92-.59-1.43-.59-.52 0-1.04.2-1.43.59L10.3 9.45l-7.72 7.72c-.78.78-.78 2.05 0 2.83L4 21.41c.39.39.9.59 1.41.59.51 0 1.02-.2 1.41-.59l7.78-7.78 2.81-2.81c.8-.78.8-2.07 0-2.86zM5.41 20L4 18.59l7.72-7.72 1.47 1.35L5.41 20z\"/>\n",
              "  </svg>\n",
              "      </button>\n",
              "      \n",
              "  <style>\n",
              "    .colab-df-container {\n",
              "      display:flex;\n",
              "      flex-wrap:wrap;\n",
              "      gap: 12px;\n",
              "    }\n",
              "\n",
              "    .colab-df-convert {\n",
              "      background-color: #E8F0FE;\n",
              "      border: none;\n",
              "      border-radius: 50%;\n",
              "      cursor: pointer;\n",
              "      display: none;\n",
              "      fill: #1967D2;\n",
              "      height: 32px;\n",
              "      padding: 0 0 0 0;\n",
              "      width: 32px;\n",
              "    }\n",
              "\n",
              "    .colab-df-convert:hover {\n",
              "      background-color: #E2EBFA;\n",
              "      box-shadow: 0px 1px 2px rgba(60, 64, 67, 0.3), 0px 1px 3px 1px rgba(60, 64, 67, 0.15);\n",
              "      fill: #174EA6;\n",
              "    }\n",
              "\n",
              "    [theme=dark] .colab-df-convert {\n",
              "      background-color: #3B4455;\n",
              "      fill: #D2E3FC;\n",
              "    }\n",
              "\n",
              "    [theme=dark] .colab-df-convert:hover {\n",
              "      background-color: #434B5C;\n",
              "      box-shadow: 0px 1px 3px 1px rgba(0, 0, 0, 0.15);\n",
              "      filter: drop-shadow(0px 1px 2px rgba(0, 0, 0, 0.3));\n",
              "      fill: #FFFFFF;\n",
              "    }\n",
              "  </style>\n",
              "\n",
              "      <script>\n",
              "        const buttonEl =\n",
              "          document.querySelector('#df-668417f4-bcfd-472e-822e-6fa54d233821 button.colab-df-convert');\n",
              "        buttonEl.style.display =\n",
              "          google.colab.kernel.accessAllowed ? 'block' : 'none';\n",
              "\n",
              "        async function convertToInteractive(key) {\n",
              "          const element = document.querySelector('#df-668417f4-bcfd-472e-822e-6fa54d233821');\n",
              "          const dataTable =\n",
              "            await google.colab.kernel.invokeFunction('convertToInteractive',\n",
              "                                                     [key], {});\n",
              "          if (!dataTable) return;\n",
              "\n",
              "          const docLinkHtml = 'Like what you see? Visit the ' +\n",
              "            '<a target=\"_blank\" href=https://colab.research.google.com/notebooks/data_table.ipynb>data table notebook</a>'\n",
              "            + ' to learn more about interactive tables.';\n",
              "          element.innerHTML = '';\n",
              "          dataTable['output_type'] = 'display_data';\n",
              "          await google.colab.output.renderOutput(dataTable, element);\n",
              "          const docLink = document.createElement('div');\n",
              "          docLink.innerHTML = docLinkHtml;\n",
              "          element.appendChild(docLink);\n",
              "        }\n",
              "      </script>\n",
              "    </div>\n",
              "  </div>\n",
              "  "
            ]
          },
          "metadata": {},
          "execution_count": 19
        }
      ]
    },
    {
      "cell_type": "markdown",
      "metadata": {
        "id": "JA9vAD-7qSpB"
      },
      "source": [
        "De esta manera podríamos obtener el mismo resultado que al ejecutar la función sobre nuestro conjunto de datos."
      ]
    },
    {
      "cell_type": "markdown",
      "metadata": {
        "id": "Eyak7UHh9Pzq"
      },
      "source": [
        "### **3.2.2. Declaración de *Pipelines***\n",
        "---\n",
        "En esta sección vamos a construir un *pipeline* con los siguientes $3$ pasos:\n",
        "\n",
        "1. **`FunctionTransformer`** con la función **`np.sign`**\n",
        "2. **`PCA`** con $2$ componentes.\n",
        "3. **`KMeans`** con $7$ *clusters*.\n",
        "\n",
        "Para usarlos en un *pipeline* se debe crear una lista de tuplas de la siguiente manera:\n"
      ]
    },
    {
      "cell_type": "code",
      "metadata": {
        "id": "sweUQruVuZsX"
      },
      "source": [
        "# Estimadores por defecto a usar en el pipeline.\n",
        "\n",
        "estimators = [('transform', FunctionTransformer(np.sign)),\n",
        "              ('pca', PCA(n_components = 2)),\n",
        "              ('kmeans', KMeans(n_clusters = 7))]"
      ],
      "execution_count": 20,
      "outputs": []
    },
    {
      "cell_type": "markdown",
      "metadata": {
        "id": "RXvBS0bH7MwQ"
      },
      "source": [
        "Ahora, pasamos la lista como argumento de la función **`Pipeline`**."
      ]
    },
    {
      "cell_type": "code",
      "metadata": {
        "id": "RGsQW9_m4uPJ",
        "colab": {
          "base_uri": "https://localhost:8080/"
        },
        "outputId": "9c7dc2c0-aa46-47d4-f7b2-242f1966ce3c"
      },
      "source": [
        "# Módulo de creación y ejecución de Pipelines.\n",
        "from sklearn.pipeline import Pipeline\n",
        "\n",
        "pipe = Pipeline(estimators)\n",
        "\n",
        "pipe"
      ],
      "execution_count": 21,
      "outputs": [
        {
          "output_type": "execute_result",
          "data": {
            "text/plain": [
              "Pipeline(steps=[('transform', FunctionTransformer(func=<ufunc 'sign'>)),\n",
              "                ('pca', PCA(n_components=2)),\n",
              "                ('kmeans', KMeans(n_clusters=7))])"
            ]
          },
          "metadata": {},
          "execution_count": 21
        }
      ]
    },
    {
      "cell_type": "markdown",
      "metadata": {
        "id": "2iPJwdHK7aAU"
      },
      "source": [
        "Ahora, podemos realizar operaciones como **`fit`** y **`predict`** directamente en el *pipeline* ingresando los argumentos del primer estimador de la lista."
      ]
    },
    {
      "cell_type": "code",
      "metadata": {
        "id": "nFjPxbN-aMNj",
        "colab": {
          "base_uri": "https://localhost:8080/"
        },
        "outputId": "05f9f21f-27db-41ee-b99d-283c1142e778"
      },
      "source": [
        "y = pipe.fit_predict(stock_df) # Usamos el DataFrame original\n",
        "\n",
        "y"
      ],
      "execution_count": 22,
      "outputs": [
        {
          "output_type": "execute_result",
          "data": {
            "text/plain": [
              "array([1, 6, 1, 6, 5, 6, 0, 3, 3, 4, 3, 1, 0, 3, 1, 6, 3, 1, 6, 0, 5, 3,\n",
              "       1, 5, 1, 2, 6, 4, 4, 5, 1, 2, 3, 1, 3, 6, 5, 0, 4, 2, 4, 2, 0, 3,\n",
              "       3, 3, 0, 1, 3, 0, 1, 1, 0, 6, 5, 6, 4, 0, 6, 1], dtype=int32)"
            ]
          },
          "metadata": {},
          "execution_count": 22
        }
      ]
    },
    {
      "cell_type": "markdown",
      "metadata": {
        "id": "SBIURhDef0by"
      },
      "source": [
        "Para la visualización original también utilizábamos los datos intermedios obtenidos por PCA para representar las posiciones en $x$ y en $y$ de la gráfica. Para esto, *Scikit-Learn* permite utilizar *slicing* en los objetos *Pipeline*, como se haría con un arreglo o una lista. El resultado es otro *pipeline* con únicamente los estimadores ubicados en los índices o rangos de índices indicados.\n",
        "\n",
        "A continuación, utilicemos un sub-pipeline de los dos primeros estimadores (**`FunctionTransformer`** y **`PCA`**)"
      ]
    },
    {
      "cell_type": "code",
      "metadata": {
        "id": "xfJ218b-lWgN",
        "colab": {
          "base_uri": "https://localhost:8080/"
        },
        "outputId": "5b57f279-653e-40ca-ac1e-20b948084907"
      },
      "source": [
        "# Indexar pasos de un Pipeline es tan sencillo como indexar una lista.\n",
        "subpipe = pipe[:2]\n",
        "\n",
        "subpipe"
      ],
      "execution_count": 23,
      "outputs": [
        {
          "output_type": "execute_result",
          "data": {
            "text/plain": [
              "Pipeline(steps=[('transform', FunctionTransformer(func=<ufunc 'sign'>)),\n",
              "                ('pca', PCA(n_components=2))])"
            ]
          },
          "metadata": {},
          "execution_count": 23
        }
      ]
    },
    {
      "cell_type": "markdown",
      "metadata": {
        "id": "rsxJP4ltlav5"
      },
      "source": [
        "Calculemos nuevamente los datos obtenidos hasta el paso de PCA. En este caso no es necesario hacer el entrenamiento de nuevo, por lo que en vez de utilizar **`fit_transform`** podemos usar simplemente el método **`transform`** y obtener el mismo resultado sin necesidad de realizar todo el proceso."
      ]
    },
    {
      "cell_type": "code",
      "metadata": {
        "id": "kBqKvSsOg0XA",
        "colab": {
          "base_uri": "https://localhost:8080/"
        },
        "outputId": "e8a744c4-6774-46f1-916f-bf320e839e73"
      },
      "source": [
        "pca_xy = subpipe.transform(stock_df)\n",
        "\n",
        "pca_xy.shape"
      ],
      "execution_count": 24,
      "outputs": [
        {
          "output_type": "execute_result",
          "data": {
            "text/plain": [
              "(60, 2)"
            ]
          },
          "metadata": {},
          "execution_count": 24
        }
      ]
    },
    {
      "cell_type": "markdown",
      "metadata": {
        "id": "phA12wp-lj6e"
      },
      "source": [
        "Finalmente, podemos usar los datos obtenidos con los *pipelines* de ejecución en la visualización."
      ]
    },
    {
      "cell_type": "code",
      "metadata": {
        "id": "t2ZNUUeM7tT3",
        "colab": {
          "base_uri": "https://localhost:8080/",
          "height": 817
        },
        "outputId": "cefb3d4e-a8cf-49c8-d658-7eefff66a453"
      },
      "source": [
        "plot_company_distribution(pca_xy, y, stock_df.index)"
      ],
      "execution_count": 25,
      "outputs": [
        {
          "output_type": "display_data",
          "data": {
            "text/html": [
              "<html>\n",
              "<head><meta charset=\"utf-8\" /></head>\n",
              "<body>\n",
              "    <div>            <script src=\"https://cdnjs.cloudflare.com/ajax/libs/mathjax/2.7.5/MathJax.js?config=TeX-AMS-MML_SVG\"></script><script type=\"text/javascript\">if (window.MathJax) {MathJax.Hub.Config({SVG: {font: \"STIX-Web\"}});}</script>                <script type=\"text/javascript\">window.PlotlyConfig = {MathJaxConfig: 'local'};</script>\n",
              "        <script src=\"https://cdn.plot.ly/plotly-2.8.3.min.js\"></script>                <div id=\"b357d822-2163-48e7-8e3b-90612f881387\" class=\"plotly-graph-div\" style=\"height:800px; width:100%;\"></div>            <script type=\"text/javascript\">                                    window.PLOTLYENV=window.PLOTLYENV || {};                                    if (document.getElementById(\"b357d822-2163-48e7-8e3b-90612f881387\")) {                    Plotly.newPlot(                        \"b357d822-2163-48e7-8e3b-90612f881387\",                        [{\"hovertemplate\":\"cluster=1<br>x=%{x}<br>y=%{y}<br>size=%{marker.size}<br>name=%{text}<extra></extra>\",\"legendgroup\":\"1\",\"marker\":{\"color\":\"#636efa\",\"size\":[100,100,100,100,100,100,100,100,100],\"sizemode\":\"area\",\"sizeref\":0.25,\"symbol\":\"circle\"},\"mode\":\"markers+text\",\"name\":\"1\",\"orientation\":\"v\",\"showlegend\":true,\"text\":[\"Sanofi-Aventis\",\"Chevron\",\"Novartis\",\"Royal Dutch Shell\",\"British American Tobacco\",\"GlaxoSmithKline\",\"Unilever\",\"Exxon\",\"Total\"],\"x\":[1.9378382192426082,0.02441568485447576,3.623301950645046,-0.45771258791347214,4.30780345986063,5.293024764359032,2.5375263784177116,2.040453112344516,-1.6007193905750459],\"xaxis\":\"x\",\"y\":[9.298937164019609,10.146785156511184,7.552516374712245,11.851459952503909,8.20988849740801,6.364386802903113,8.913593636083437,8.998842830255525,10.964181930096185],\"yaxis\":\"y\",\"type\":\"scatter\",\"textposition\":\"top center\"},{\"hovertemplate\":\"cluster=2<br>x=%{x}<br>y=%{y}<br>size=%{marker.size}<br>name=%{text}<extra></extra>\",\"legendgroup\":\"2\",\"marker\":{\"color\":\"#EF553B\",\"size\":[100,100,100,100,100,100,100,100,100,100,100,100,100],\"sizemode\":\"area\",\"sizeref\":0.25,\"symbol\":\"circle\"},\"mode\":\"markers+text\",\"name\":\"2\",\"orientation\":\"v\",\"showlegend\":true,\"text\":[\"Taiwan Semiconductor Manufacturing\",\"Symantec\",\"HP\",\"Texas instruments\",\"Microsoft\",\"MasterCard\",\"Intel\",\"Apple\",\"Yahoo\",\"Google/Alphabet\",\"Amazon\",\"Dell\",\"Cisco\"],\"x\":[-3.840302948584173,-2.8688975991504435,-4.0463237765895945,-3.7659663414984763,-1.5992305598423342,-0.8099804665772881,-1.0202852496027806,-3.0689368602517906,-1.3708838232413982,-2.375073269212771,-1.656769904018481,-3.8152186580697625,-2.0529773981386628],\"xaxis\":\"x\",\"y\":[-7.528299707251205,-7.74260664022448,-4.564162950244488,-6.510064740689717,-7.15687537262604,-5.5081309746541525,-6.732569939529347,-7.978474921094353,-6.624923535636091,-8.82025982642118,-6.620616547633566,-6.170260387491103,-4.924064320160434],\"yaxis\":\"y\",\"type\":\"scatter\",\"textposition\":\"top center\"},{\"hovertemplate\":\"cluster=3<br>x=%{x}<br>y=%{y}<br>size=%{marker.size}<br>name=%{text}<extra></extra>\",\"legendgroup\":\"3\",\"marker\":{\"color\":\"#00cc96\",\"size\":[100,100,100,100],\"sizemode\":\"area\",\"sizeref\":0.25,\"symbol\":\"circle\"},\"mode\":\"markers+text\",\"name\":\"3\",\"orientation\":\"v\",\"showlegend\":true,\"text\":[\"McDonalds\",\"Philip Morris\",\"Pfizer\",\"Johnson & Johnson\"],\"x\":[7.738249785979601,7.563757368654967,8.216097150181271,7.780762340493805],\"xaxis\":\"x\",\"y\":[-5.307764020548239,-1.700927365899211,3.6221112820032517,0.7612812975015832],\"yaxis\":\"y\",\"type\":\"scatter\",\"textposition\":\"top center\"},{\"hovertemplate\":\"cluster=4<br>x=%{x}<br>y=%{y}<br>size=%{marker.size}<br>name=%{text}<extra></extra>\",\"legendgroup\":\"4\",\"marker\":{\"color\":\"#ab63fa\",\"size\":[100,100,100,100,100,100,100,100,100,100,100,100],\"sizemode\":\"area\",\"sizeref\":0.25,\"symbol\":\"circle\"},\"mode\":\"markers+text\",\"name\":\"4\",\"orientation\":\"v\",\"showlegend\":true,\"text\":[\"SAP\",\"ConocoPhillips\",\"Caterpillar\",\"Canon\",\"Mitsubishi\",\"3M\",\"Sony\",\"DuPont de Nemours\",\"Toyota\",\"Honda\",\"General Electrics\",\"Schlumberger\"],\"x\":[-3.446414635136446,-1.8126321585237195,-6.716731758703961,-2.8380032384821305,-4.648307813749653,0.8308723516213952,-4.929369811189096,-3.383950562564716,-4.448151232848229,-5.46962135646172,-2.192443828762693,-4.92679936151768],\"xaxis\":\"x\",\"y\":[4.90355105204951,6.066057324136882,3.5945302163549107,2.348791703126187,1.2969057267073871,2.9730888221467486,2.525169035695613,2.851361275752916,2.2010748070748045,5.37401189220172,1.0494430045081922,5.559127566968816],\"yaxis\":\"y\",\"type\":\"scatter\",\"textposition\":\"top center\"},{\"hovertemplate\":\"cluster=5<br>x=%{x}<br>y=%{y}<br>size=%{marker.size}<br>name=%{text}<extra></extra>\",\"legendgroup\":\"5\",\"marker\":{\"color\":\"#FFA15A\",\"size\":[100,100,100,100,100,100],\"sizemode\":\"area\",\"sizeref\":0.25,\"symbol\":\"circle\"},\"mode\":\"markers+text\",\"name\":\"5\",\"orientation\":\"v\",\"showlegend\":true,\"text\":[\"Coca Cola\",\"Kimberly-Clark\",\"Procter Gamble\",\"Wal-Mart\",\"Colgate-Palmolive\",\"Pepsi\"],\"x\":[13.426459575018328,15.086624201589363,12.926289507466802,12.23793569911558,15.486192228519817,13.703688779730786],\"xaxis\":\"x\",\"y\":[-1.9199391406379869,-2.294733244231195,-1.0397808635588601,-1.3272652410886734,-3.3897769352202616,-1.0071124083262157],\"yaxis\":\"y\",\"type\":\"scatter\",\"textposition\":\"top center\"},{\"hovertemplate\":\"cluster=6<br>x=%{x}<br>y=%{y}<br>size=%{marker.size}<br>name=%{text}<extra></extra>\",\"legendgroup\":\"6\",\"marker\":{\"color\":\"#19d3f3\",\"size\":[100,100,100,100,100,100],\"sizemode\":\"area\",\"sizeref\":0.25,\"symbol\":\"circle\"},\"mode\":\"markers+text\",\"name\":\"6\",\"orientation\":\"v\",\"showlegend\":true,\"text\":[\"Boeing\",\"Walgreen\",\"Lookheed Martin\",\"IBM\",\"Home Depot\",\"Northrop Grumman\"],\"x\":[1.7581908119817622,3.076281502280577,4.067010189185385,0.5799642554255638,3.6739224778691235,2.3612374776293],\"xaxis\":\"x\",\"y\":[-0.49338905931965676,-1.9909501762245194,-4.815517885823082,-3.848279528068002,-2.8855707201726406,-1.7915617500969474],\"yaxis\":\"y\",\"type\":\"scatter\",\"textposition\":\"top center\"},{\"hovertemplate\":\"cluster=7<br>x=%{x}<br>y=%{y}<br>size=%{marker.size}<br>name=%{text}<extra></extra>\",\"legendgroup\":\"7\",\"marker\":{\"color\":\"#FF6692\",\"size\":[100,100,100,100,100,100,100,100,100,100],\"sizemode\":\"area\",\"sizeref\":0.25,\"symbol\":\"circle\"},\"mode\":\"markers+text\",\"name\":\"7\",\"orientation\":\"v\",\"showlegend\":true,\"text\":[\"Navistar\",\"Xerox\",\"Bank of America\",\"JPMorgan Chase\",\"American express\",\"Valero Energy\",\"Ford\",\"Wells Fargo\",\"AIG\",\"Goldman Sachs\"],\"x\":[-7.312461931638598,-4.597619342925261,-9.760811040450058,-9.017714209432302,-4.259323728945922,-6.169028225093464,-6.5494710950065365,-9.06691507653135,-5.121560345417259,-9.261289685820174],\"xaxis\":\"x\",\"y\":[-1.611193490670328,-2.509462153941502,0.9819864360265403,1.9326741628031319,-1.3931656579152234,1.1369321788859001,-3.1175973026087798,0.39229261359849166,-3.1086275590305785,0.5629416250022403],\"yaxis\":\"y\",\"type\":\"scatter\",\"textposition\":\"top center\"}],                        {\"template\":{\"data\":{\"bar\":[{\"error_x\":{\"color\":\"#2a3f5f\"},\"error_y\":{\"color\":\"#2a3f5f\"},\"marker\":{\"line\":{\"color\":\"#E5ECF6\",\"width\":0.5},\"pattern\":{\"fillmode\":\"overlay\",\"size\":10,\"solidity\":0.2}},\"type\":\"bar\"}],\"barpolar\":[{\"marker\":{\"line\":{\"color\":\"#E5ECF6\",\"width\":0.5},\"pattern\":{\"fillmode\":\"overlay\",\"size\":10,\"solidity\":0.2}},\"type\":\"barpolar\"}],\"carpet\":[{\"aaxis\":{\"endlinecolor\":\"#2a3f5f\",\"gridcolor\":\"white\",\"linecolor\":\"white\",\"minorgridcolor\":\"white\",\"startlinecolor\":\"#2a3f5f\"},\"baxis\":{\"endlinecolor\":\"#2a3f5f\",\"gridcolor\":\"white\",\"linecolor\":\"white\",\"minorgridcolor\":\"white\",\"startlinecolor\":\"#2a3f5f\"},\"type\":\"carpet\"}],\"choropleth\":[{\"colorbar\":{\"outlinewidth\":0,\"ticks\":\"\"},\"type\":\"choropleth\"}],\"contour\":[{\"colorbar\":{\"outlinewidth\":0,\"ticks\":\"\"},\"colorscale\":[[0.0,\"#0d0887\"],[0.1111111111111111,\"#46039f\"],[0.2222222222222222,\"#7201a8\"],[0.3333333333333333,\"#9c179e\"],[0.4444444444444444,\"#bd3786\"],[0.5555555555555556,\"#d8576b\"],[0.6666666666666666,\"#ed7953\"],[0.7777777777777778,\"#fb9f3a\"],[0.8888888888888888,\"#fdca26\"],[1.0,\"#f0f921\"]],\"type\":\"contour\"}],\"contourcarpet\":[{\"colorbar\":{\"outlinewidth\":0,\"ticks\":\"\"},\"type\":\"contourcarpet\"}],\"heatmap\":[{\"colorbar\":{\"outlinewidth\":0,\"ticks\":\"\"},\"colorscale\":[[0.0,\"#0d0887\"],[0.1111111111111111,\"#46039f\"],[0.2222222222222222,\"#7201a8\"],[0.3333333333333333,\"#9c179e\"],[0.4444444444444444,\"#bd3786\"],[0.5555555555555556,\"#d8576b\"],[0.6666666666666666,\"#ed7953\"],[0.7777777777777778,\"#fb9f3a\"],[0.8888888888888888,\"#fdca26\"],[1.0,\"#f0f921\"]],\"type\":\"heatmap\"}],\"heatmapgl\":[{\"colorbar\":{\"outlinewidth\":0,\"ticks\":\"\"},\"colorscale\":[[0.0,\"#0d0887\"],[0.1111111111111111,\"#46039f\"],[0.2222222222222222,\"#7201a8\"],[0.3333333333333333,\"#9c179e\"],[0.4444444444444444,\"#bd3786\"],[0.5555555555555556,\"#d8576b\"],[0.6666666666666666,\"#ed7953\"],[0.7777777777777778,\"#fb9f3a\"],[0.8888888888888888,\"#fdca26\"],[1.0,\"#f0f921\"]],\"type\":\"heatmapgl\"}],\"histogram\":[{\"marker\":{\"pattern\":{\"fillmode\":\"overlay\",\"size\":10,\"solidity\":0.2}},\"type\":\"histogram\"}],\"histogram2d\":[{\"colorbar\":{\"outlinewidth\":0,\"ticks\":\"\"},\"colorscale\":[[0.0,\"#0d0887\"],[0.1111111111111111,\"#46039f\"],[0.2222222222222222,\"#7201a8\"],[0.3333333333333333,\"#9c179e\"],[0.4444444444444444,\"#bd3786\"],[0.5555555555555556,\"#d8576b\"],[0.6666666666666666,\"#ed7953\"],[0.7777777777777778,\"#fb9f3a\"],[0.8888888888888888,\"#fdca26\"],[1.0,\"#f0f921\"]],\"type\":\"histogram2d\"}],\"histogram2dcontour\":[{\"colorbar\":{\"outlinewidth\":0,\"ticks\":\"\"},\"colorscale\":[[0.0,\"#0d0887\"],[0.1111111111111111,\"#46039f\"],[0.2222222222222222,\"#7201a8\"],[0.3333333333333333,\"#9c179e\"],[0.4444444444444444,\"#bd3786\"],[0.5555555555555556,\"#d8576b\"],[0.6666666666666666,\"#ed7953\"],[0.7777777777777778,\"#fb9f3a\"],[0.8888888888888888,\"#fdca26\"],[1.0,\"#f0f921\"]],\"type\":\"histogram2dcontour\"}],\"mesh3d\":[{\"colorbar\":{\"outlinewidth\":0,\"ticks\":\"\"},\"type\":\"mesh3d\"}],\"parcoords\":[{\"line\":{\"colorbar\":{\"outlinewidth\":0,\"ticks\":\"\"}},\"type\":\"parcoords\"}],\"pie\":[{\"automargin\":true,\"type\":\"pie\"}],\"scatter\":[{\"marker\":{\"colorbar\":{\"outlinewidth\":0,\"ticks\":\"\"}},\"type\":\"scatter\"}],\"scatter3d\":[{\"line\":{\"colorbar\":{\"outlinewidth\":0,\"ticks\":\"\"}},\"marker\":{\"colorbar\":{\"outlinewidth\":0,\"ticks\":\"\"}},\"type\":\"scatter3d\"}],\"scattercarpet\":[{\"marker\":{\"colorbar\":{\"outlinewidth\":0,\"ticks\":\"\"}},\"type\":\"scattercarpet\"}],\"scattergeo\":[{\"marker\":{\"colorbar\":{\"outlinewidth\":0,\"ticks\":\"\"}},\"type\":\"scattergeo\"}],\"scattergl\":[{\"marker\":{\"colorbar\":{\"outlinewidth\":0,\"ticks\":\"\"}},\"type\":\"scattergl\"}],\"scattermapbox\":[{\"marker\":{\"colorbar\":{\"outlinewidth\":0,\"ticks\":\"\"}},\"type\":\"scattermapbox\"}],\"scatterpolar\":[{\"marker\":{\"colorbar\":{\"outlinewidth\":0,\"ticks\":\"\"}},\"type\":\"scatterpolar\"}],\"scatterpolargl\":[{\"marker\":{\"colorbar\":{\"outlinewidth\":0,\"ticks\":\"\"}},\"type\":\"scatterpolargl\"}],\"scatterternary\":[{\"marker\":{\"colorbar\":{\"outlinewidth\":0,\"ticks\":\"\"}},\"type\":\"scatterternary\"}],\"surface\":[{\"colorbar\":{\"outlinewidth\":0,\"ticks\":\"\"},\"colorscale\":[[0.0,\"#0d0887\"],[0.1111111111111111,\"#46039f\"],[0.2222222222222222,\"#7201a8\"],[0.3333333333333333,\"#9c179e\"],[0.4444444444444444,\"#bd3786\"],[0.5555555555555556,\"#d8576b\"],[0.6666666666666666,\"#ed7953\"],[0.7777777777777778,\"#fb9f3a\"],[0.8888888888888888,\"#fdca26\"],[1.0,\"#f0f921\"]],\"type\":\"surface\"}],\"table\":[{\"cells\":{\"fill\":{\"color\":\"#EBF0F8\"},\"line\":{\"color\":\"white\"}},\"header\":{\"fill\":{\"color\":\"#C8D4E3\"},\"line\":{\"color\":\"white\"}},\"type\":\"table\"}]},\"layout\":{\"annotationdefaults\":{\"arrowcolor\":\"#2a3f5f\",\"arrowhead\":0,\"arrowwidth\":1},\"autotypenumbers\":\"strict\",\"coloraxis\":{\"colorbar\":{\"outlinewidth\":0,\"ticks\":\"\"}},\"colorscale\":{\"diverging\":[[0,\"#8e0152\"],[0.1,\"#c51b7d\"],[0.2,\"#de77ae\"],[0.3,\"#f1b6da\"],[0.4,\"#fde0ef\"],[0.5,\"#f7f7f7\"],[0.6,\"#e6f5d0\"],[0.7,\"#b8e186\"],[0.8,\"#7fbc41\"],[0.9,\"#4d9221\"],[1,\"#276419\"]],\"sequential\":[[0.0,\"#0d0887\"],[0.1111111111111111,\"#46039f\"],[0.2222222222222222,\"#7201a8\"],[0.3333333333333333,\"#9c179e\"],[0.4444444444444444,\"#bd3786\"],[0.5555555555555556,\"#d8576b\"],[0.6666666666666666,\"#ed7953\"],[0.7777777777777778,\"#fb9f3a\"],[0.8888888888888888,\"#fdca26\"],[1.0,\"#f0f921\"]],\"sequentialminus\":[[0.0,\"#0d0887\"],[0.1111111111111111,\"#46039f\"],[0.2222222222222222,\"#7201a8\"],[0.3333333333333333,\"#9c179e\"],[0.4444444444444444,\"#bd3786\"],[0.5555555555555556,\"#d8576b\"],[0.6666666666666666,\"#ed7953\"],[0.7777777777777778,\"#fb9f3a\"],[0.8888888888888888,\"#fdca26\"],[1.0,\"#f0f921\"]]},\"colorway\":[\"#636efa\",\"#EF553B\",\"#00cc96\",\"#ab63fa\",\"#FFA15A\",\"#19d3f3\",\"#FF6692\",\"#B6E880\",\"#FF97FF\",\"#FECB52\"],\"font\":{\"color\":\"#2a3f5f\"},\"geo\":{\"bgcolor\":\"white\",\"lakecolor\":\"white\",\"landcolor\":\"#E5ECF6\",\"showlakes\":true,\"showland\":true,\"subunitcolor\":\"white\"},\"hoverlabel\":{\"align\":\"left\"},\"hovermode\":\"closest\",\"mapbox\":{\"style\":\"light\"},\"paper_bgcolor\":\"white\",\"plot_bgcolor\":\"#E5ECF6\",\"polar\":{\"angularaxis\":{\"gridcolor\":\"white\",\"linecolor\":\"white\",\"ticks\":\"\"},\"bgcolor\":\"#E5ECF6\",\"radialaxis\":{\"gridcolor\":\"white\",\"linecolor\":\"white\",\"ticks\":\"\"}},\"scene\":{\"xaxis\":{\"backgroundcolor\":\"#E5ECF6\",\"gridcolor\":\"white\",\"gridwidth\":2,\"linecolor\":\"white\",\"showbackground\":true,\"ticks\":\"\",\"zerolinecolor\":\"white\"},\"yaxis\":{\"backgroundcolor\":\"#E5ECF6\",\"gridcolor\":\"white\",\"gridwidth\":2,\"linecolor\":\"white\",\"showbackground\":true,\"ticks\":\"\",\"zerolinecolor\":\"white\"},\"zaxis\":{\"backgroundcolor\":\"#E5ECF6\",\"gridcolor\":\"white\",\"gridwidth\":2,\"linecolor\":\"white\",\"showbackground\":true,\"ticks\":\"\",\"zerolinecolor\":\"white\"}},\"shapedefaults\":{\"line\":{\"color\":\"#2a3f5f\"}},\"ternary\":{\"aaxis\":{\"gridcolor\":\"white\",\"linecolor\":\"white\",\"ticks\":\"\"},\"baxis\":{\"gridcolor\":\"white\",\"linecolor\":\"white\",\"ticks\":\"\"},\"bgcolor\":\"#E5ECF6\",\"caxis\":{\"gridcolor\":\"white\",\"linecolor\":\"white\",\"ticks\":\"\"}},\"title\":{\"x\":0.05},\"xaxis\":{\"automargin\":true,\"gridcolor\":\"white\",\"linecolor\":\"white\",\"ticks\":\"\",\"title\":{\"standoff\":15},\"zerolinecolor\":\"white\",\"zerolinewidth\":2},\"yaxis\":{\"automargin\":true,\"gridcolor\":\"white\",\"linecolor\":\"white\",\"ticks\":\"\",\"title\":{\"standoff\":15},\"zerolinecolor\":\"white\",\"zerolinewidth\":2}}},\"xaxis\":{\"anchor\":\"y\",\"domain\":[0.0,1.0],\"title\":{\"text\":\"x\"}},\"yaxis\":{\"anchor\":\"x\",\"domain\":[0.0,1.0],\"title\":{\"text\":\"y\"}},\"legend\":{\"title\":{\"text\":\"cluster\"},\"tracegroupgap\":0,\"itemsizing\":\"constant\"},\"margin\":{\"t\":60},\"title\":{\"text\":\"Agrupamiento de compa\\u00f1\\u00edas por movimientos en la bolsa\"},\"font\":{\"size\":16},\"height\":800,\"dragmode\":\"pan\"},                        {\"scrollZoom\": true, \"responsive\": true}                    ).then(function(){\n",
              "                            \n",
              "var gd = document.getElementById('b357d822-2163-48e7-8e3b-90612f881387');\n",
              "var x = new MutationObserver(function (mutations, observer) {{\n",
              "        var display = window.getComputedStyle(gd).display;\n",
              "        if (!display || display === 'none') {{\n",
              "            console.log([gd, 'removed!']);\n",
              "            Plotly.purge(gd);\n",
              "            observer.disconnect();\n",
              "        }}\n",
              "}});\n",
              "\n",
              "// Listen for the removal of the full notebook cells\n",
              "var notebookContainer = gd.closest('#notebook-container');\n",
              "if (notebookContainer) {{\n",
              "    x.observe(notebookContainer, {childList: true});\n",
              "}}\n",
              "\n",
              "// Listen for the clearing of the current output cell\n",
              "var outputEl = gd.closest('.output');\n",
              "if (outputEl) {{\n",
              "    x.observe(outputEl, {childList: true});\n",
              "}}\n",
              "\n",
              "                        })                };                            </script>        </div>\n",
              "</body>\n",
              "</html>"
            ]
          },
          "metadata": {}
        }
      ]
    },
    {
      "cell_type": "markdown",
      "metadata": {
        "id": "3E_T90T-71c_"
      },
      "source": [
        "Como se puede observar, obtenemos la misma clasificación de *clusters* que al realizar el proceso de forma manual.\n",
        "\n",
        "Los objetos *pipeline* ofrecen otras funciones para controlar la configuración de los estimadores internos. Por ejemplo, con el método **`set_params`** podemos reasignar alguno de los hiperparámetros de sus estimadores. Para hacer esto, el nombre de los argumentos sigue el siguiente formato:\n",
        "\n",
        "> **`[estimator_id]__[parámetro]`**\n",
        "\n",
        "\n",
        "\n",
        "Tenga en cuenta que el **`estimator_id`** es el primer valor de la tupla usada como argumento en la creación del *pipeline* (en este caso las *id* son **`'transform'`**, **`'pca'`** y **`'kmeans'`**). \n",
        "\n",
        "> **Nota:** el separador del estimador y su parámetro está conformado por dos barras al piso.\n",
        "\n",
        "\n",
        "Cambiemos el número de *clusters* de *K-means*:"
      ]
    },
    {
      "cell_type": "code",
      "metadata": {
        "id": "6f7yd0PFZMtA",
        "colab": {
          "base_uri": "https://localhost:8080/",
          "height": 817
        },
        "outputId": "4ddab1d2-572d-45e1-f30f-9d64ee6df9c0"
      },
      "source": [
        "pipe.set_params(kmeans__n_clusters = 5)\n",
        "y = pipe.fit_predict(stock_df)\n",
        "\n",
        "plot_company_distribution(pca_xy, y, stock_df.index)"
      ],
      "execution_count": 26,
      "outputs": [
        {
          "output_type": "display_data",
          "data": {
            "text/html": [
              "<html>\n",
              "<head><meta charset=\"utf-8\" /></head>\n",
              "<body>\n",
              "    <div>            <script src=\"https://cdnjs.cloudflare.com/ajax/libs/mathjax/2.7.5/MathJax.js?config=TeX-AMS-MML_SVG\"></script><script type=\"text/javascript\">if (window.MathJax) {MathJax.Hub.Config({SVG: {font: \"STIX-Web\"}});}</script>                <script type=\"text/javascript\">window.PlotlyConfig = {MathJaxConfig: 'local'};</script>\n",
              "        <script src=\"https://cdn.plot.ly/plotly-2.8.3.min.js\"></script>                <div id=\"aff8c6f2-df43-46f5-868c-e42c4f0b4e35\" class=\"plotly-graph-div\" style=\"height:800px; width:100%;\"></div>            <script type=\"text/javascript\">                                    window.PLOTLYENV=window.PLOTLYENV || {};                                    if (document.getElementById(\"aff8c6f2-df43-46f5-868c-e42c4f0b4e35\")) {                    Plotly.newPlot(                        \"aff8c6f2-df43-46f5-868c-e42c4f0b4e35\",                        [{\"hovertemplate\":\"cluster=1<br>x=%{x}<br>y=%{y}<br>size=%{marker.size}<br>name=%{text}<extra></extra>\",\"legendgroup\":\"1\",\"marker\":{\"color\":\"#636efa\",\"size\":[100,100,100,100,100,100,100,100,100,100,100],\"sizemode\":\"area\",\"sizeref\":0.25,\"symbol\":\"circle\"},\"mode\":\"markers+text\",\"name\":\"1\",\"orientation\":\"v\",\"showlegend\":true,\"text\":[\"Royal Dutch Shell\",\"3M\",\"Chevron\",\"Novartis\",\"ConocoPhillips\",\"Sanofi-Aventis\",\"GlaxoSmithKline\",\"Total\",\"Unilever\",\"Exxon\",\"British American Tobacco\"],\"x\":[-0.45771258791347214,0.8308723516213952,0.02441568485447576,3.623301950645046,-1.8126321585237195,1.9378382192426082,5.293024764359032,-1.6007193905750459,2.5375263784177116,2.040453112344516,4.30780345986063],\"xaxis\":\"x\",\"y\":[11.851459952503909,2.9730888221467486,10.146785156511184,7.552516374712245,6.066057324136882,9.298937164019609,6.364386802903113,10.964181930096185,8.913593636083437,8.998842830255525,8.20988849740801],\"yaxis\":\"y\",\"type\":\"scatter\",\"textposition\":\"top center\"},{\"hovertemplate\":\"cluster=2<br>x=%{x}<br>y=%{y}<br>size=%{marker.size}<br>name=%{text}<extra></extra>\",\"legendgroup\":\"2\",\"marker\":{\"color\":\"#EF553B\",\"size\":[100,100,100,100,100,100,100,100,100,100,100,100,100,100,100,100],\"sizemode\":\"area\",\"sizeref\":0.25,\"symbol\":\"circle\"},\"mode\":\"markers+text\",\"name\":\"2\",\"orientation\":\"v\",\"showlegend\":true,\"text\":[\"Symantec\",\"HP\",\"Taiwan Semiconductor Manufacturing\",\"Texas instruments\",\"Microsoft\",\"MasterCard\",\"Xerox\",\"Intel\",\"Apple\",\"Yahoo\",\"AIG\",\"Google/Alphabet\",\"Cisco\",\"Dell\",\"Ford\",\"Amazon\"],\"x\":[-2.8688975991504435,-4.0463237765895945,-3.840302948584173,-3.7659663414984763,-1.5992305598423342,-0.8099804665772881,-4.597619342925261,-1.0202852496027806,-3.0689368602517906,-1.3708838232413982,-5.121560345417259,-2.375073269212771,-2.0529773981386628,-3.8152186580697625,-6.5494710950065365,-1.656769904018481],\"xaxis\":\"x\",\"y\":[-7.74260664022448,-4.564162950244488,-7.528299707251205,-6.510064740689717,-7.15687537262604,-5.5081309746541525,-2.509462153941502,-6.732569939529347,-7.978474921094353,-6.624923535636091,-3.1086275590305785,-8.82025982642118,-4.924064320160434,-6.170260387491103,-3.1175973026087798,-6.620616547633566],\"yaxis\":\"y\",\"type\":\"scatter\",\"textposition\":\"top center\"},{\"hovertemplate\":\"cluster=3<br>x=%{x}<br>y=%{y}<br>size=%{marker.size}<br>name=%{text}<extra></extra>\",\"legendgroup\":\"3\",\"marker\":{\"color\":\"#00cc96\",\"size\":[100,100,100,100,100,100,100],\"sizemode\":\"area\",\"sizeref\":0.25,\"symbol\":\"circle\"},\"mode\":\"markers+text\",\"name\":\"3\",\"orientation\":\"v\",\"showlegend\":true,\"text\":[\"Procter Gamble\",\"Pfizer\",\"Pepsi\",\"Colgate-Palmolive\",\"Kimberly-Clark\",\"Wal-Mart\",\"Coca Cola\"],\"x\":[12.926289507466802,8.216097150181271,13.703688779730786,15.486192228519817,15.086624201589363,12.23793569911558,13.426459575018328],\"xaxis\":\"x\",\"y\":[-1.0397808635588601,3.6221112820032517,-1.0071124083262157,-3.3897769352202616,-2.294733244231195,-1.3272652410886734,-1.9199391406379869],\"yaxis\":\"y\",\"type\":\"scatter\",\"textposition\":\"top center\"},{\"hovertemplate\":\"cluster=4<br>x=%{x}<br>y=%{y}<br>size=%{marker.size}<br>name=%{text}<extra></extra>\",\"legendgroup\":\"4\",\"marker\":{\"color\":\"#ab63fa\",\"size\":[100,100,100,100,100,100,100,100,100,100,100,100,100,100,100,100,100],\"sizemode\":\"area\",\"sizeref\":0.25,\"symbol\":\"circle\"},\"mode\":\"markers+text\",\"name\":\"4\",\"orientation\":\"v\",\"showlegend\":true,\"text\":[\"Schlumberger\",\"Bank of America\",\"Toyota\",\"Canon\",\"Caterpillar\",\"Valero Energy\",\"Wells Fargo\",\"Sony\",\"American express\",\"Honda\",\"Navistar\",\"Mitsubishi\",\"DuPont de Nemours\",\"General Electrics\",\"JPMorgan Chase\",\"Goldman Sachs\",\"SAP\"],\"x\":[-4.92679936151768,-9.760811040450058,-4.448151232848229,-2.8380032384821305,-6.716731758703961,-6.169028225093464,-9.06691507653135,-4.929369811189096,-4.259323728945922,-5.46962135646172,-7.312461931638598,-4.648307813749653,-3.383950562564716,-2.192443828762693,-9.017714209432302,-9.261289685820174,-3.446414635136446],\"xaxis\":\"x\",\"y\":[5.559127566968816,0.9819864360265403,2.2010748070748045,2.348791703126187,3.5945302163549107,1.1369321788859001,0.39229261359849166,2.525169035695613,-1.3931656579152234,5.37401189220172,-1.611193490670328,1.2969057267073871,2.851361275752916,1.0494430045081922,1.9326741628031319,0.5629416250022403,4.90355105204951],\"yaxis\":\"y\",\"type\":\"scatter\",\"textposition\":\"top center\"},{\"hovertemplate\":\"cluster=5<br>x=%{x}<br>y=%{y}<br>size=%{marker.size}<br>name=%{text}<extra></extra>\",\"legendgroup\":\"5\",\"marker\":{\"color\":\"#FFA15A\",\"size\":[100,100,100,100,100,100,100,100,100],\"sizemode\":\"area\",\"sizeref\":0.25,\"symbol\":\"circle\"},\"mode\":\"markers+text\",\"name\":\"5\",\"orientation\":\"v\",\"showlegend\":true,\"text\":[\"Philip Morris\",\"Home Depot\",\"Northrop Grumman\",\"Boeing\",\"McDonalds\",\"Walgreen\",\"Johnson & Johnson\",\"IBM\",\"Lookheed Martin\"],\"x\":[7.563757368654967,3.6739224778691235,2.3612374776293,1.7581908119817622,7.738249785979601,3.076281502280577,7.780762340493805,0.5799642554255638,4.067010189185385],\"xaxis\":\"x\",\"y\":[-1.700927365899211,-2.8855707201726406,-1.7915617500969474,-0.49338905931965676,-5.307764020548239,-1.9909501762245194,0.7612812975015832,-3.848279528068002,-4.815517885823082],\"yaxis\":\"y\",\"type\":\"scatter\",\"textposition\":\"top center\"}],                        {\"template\":{\"data\":{\"bar\":[{\"error_x\":{\"color\":\"#2a3f5f\"},\"error_y\":{\"color\":\"#2a3f5f\"},\"marker\":{\"line\":{\"color\":\"#E5ECF6\",\"width\":0.5},\"pattern\":{\"fillmode\":\"overlay\",\"size\":10,\"solidity\":0.2}},\"type\":\"bar\"}],\"barpolar\":[{\"marker\":{\"line\":{\"color\":\"#E5ECF6\",\"width\":0.5},\"pattern\":{\"fillmode\":\"overlay\",\"size\":10,\"solidity\":0.2}},\"type\":\"barpolar\"}],\"carpet\":[{\"aaxis\":{\"endlinecolor\":\"#2a3f5f\",\"gridcolor\":\"white\",\"linecolor\":\"white\",\"minorgridcolor\":\"white\",\"startlinecolor\":\"#2a3f5f\"},\"baxis\":{\"endlinecolor\":\"#2a3f5f\",\"gridcolor\":\"white\",\"linecolor\":\"white\",\"minorgridcolor\":\"white\",\"startlinecolor\":\"#2a3f5f\"},\"type\":\"carpet\"}],\"choropleth\":[{\"colorbar\":{\"outlinewidth\":0,\"ticks\":\"\"},\"type\":\"choropleth\"}],\"contour\":[{\"colorbar\":{\"outlinewidth\":0,\"ticks\":\"\"},\"colorscale\":[[0.0,\"#0d0887\"],[0.1111111111111111,\"#46039f\"],[0.2222222222222222,\"#7201a8\"],[0.3333333333333333,\"#9c179e\"],[0.4444444444444444,\"#bd3786\"],[0.5555555555555556,\"#d8576b\"],[0.6666666666666666,\"#ed7953\"],[0.7777777777777778,\"#fb9f3a\"],[0.8888888888888888,\"#fdca26\"],[1.0,\"#f0f921\"]],\"type\":\"contour\"}],\"contourcarpet\":[{\"colorbar\":{\"outlinewidth\":0,\"ticks\":\"\"},\"type\":\"contourcarpet\"}],\"heatmap\":[{\"colorbar\":{\"outlinewidth\":0,\"ticks\":\"\"},\"colorscale\":[[0.0,\"#0d0887\"],[0.1111111111111111,\"#46039f\"],[0.2222222222222222,\"#7201a8\"],[0.3333333333333333,\"#9c179e\"],[0.4444444444444444,\"#bd3786\"],[0.5555555555555556,\"#d8576b\"],[0.6666666666666666,\"#ed7953\"],[0.7777777777777778,\"#fb9f3a\"],[0.8888888888888888,\"#fdca26\"],[1.0,\"#f0f921\"]],\"type\":\"heatmap\"}],\"heatmapgl\":[{\"colorbar\":{\"outlinewidth\":0,\"ticks\":\"\"},\"colorscale\":[[0.0,\"#0d0887\"],[0.1111111111111111,\"#46039f\"],[0.2222222222222222,\"#7201a8\"],[0.3333333333333333,\"#9c179e\"],[0.4444444444444444,\"#bd3786\"],[0.5555555555555556,\"#d8576b\"],[0.6666666666666666,\"#ed7953\"],[0.7777777777777778,\"#fb9f3a\"],[0.8888888888888888,\"#fdca26\"],[1.0,\"#f0f921\"]],\"type\":\"heatmapgl\"}],\"histogram\":[{\"marker\":{\"pattern\":{\"fillmode\":\"overlay\",\"size\":10,\"solidity\":0.2}},\"type\":\"histogram\"}],\"histogram2d\":[{\"colorbar\":{\"outlinewidth\":0,\"ticks\":\"\"},\"colorscale\":[[0.0,\"#0d0887\"],[0.1111111111111111,\"#46039f\"],[0.2222222222222222,\"#7201a8\"],[0.3333333333333333,\"#9c179e\"],[0.4444444444444444,\"#bd3786\"],[0.5555555555555556,\"#d8576b\"],[0.6666666666666666,\"#ed7953\"],[0.7777777777777778,\"#fb9f3a\"],[0.8888888888888888,\"#fdca26\"],[1.0,\"#f0f921\"]],\"type\":\"histogram2d\"}],\"histogram2dcontour\":[{\"colorbar\":{\"outlinewidth\":0,\"ticks\":\"\"},\"colorscale\":[[0.0,\"#0d0887\"],[0.1111111111111111,\"#46039f\"],[0.2222222222222222,\"#7201a8\"],[0.3333333333333333,\"#9c179e\"],[0.4444444444444444,\"#bd3786\"],[0.5555555555555556,\"#d8576b\"],[0.6666666666666666,\"#ed7953\"],[0.7777777777777778,\"#fb9f3a\"],[0.8888888888888888,\"#fdca26\"],[1.0,\"#f0f921\"]],\"type\":\"histogram2dcontour\"}],\"mesh3d\":[{\"colorbar\":{\"outlinewidth\":0,\"ticks\":\"\"},\"type\":\"mesh3d\"}],\"parcoords\":[{\"line\":{\"colorbar\":{\"outlinewidth\":0,\"ticks\":\"\"}},\"type\":\"parcoords\"}],\"pie\":[{\"automargin\":true,\"type\":\"pie\"}],\"scatter\":[{\"marker\":{\"colorbar\":{\"outlinewidth\":0,\"ticks\":\"\"}},\"type\":\"scatter\"}],\"scatter3d\":[{\"line\":{\"colorbar\":{\"outlinewidth\":0,\"ticks\":\"\"}},\"marker\":{\"colorbar\":{\"outlinewidth\":0,\"ticks\":\"\"}},\"type\":\"scatter3d\"}],\"scattercarpet\":[{\"marker\":{\"colorbar\":{\"outlinewidth\":0,\"ticks\":\"\"}},\"type\":\"scattercarpet\"}],\"scattergeo\":[{\"marker\":{\"colorbar\":{\"outlinewidth\":0,\"ticks\":\"\"}},\"type\":\"scattergeo\"}],\"scattergl\":[{\"marker\":{\"colorbar\":{\"outlinewidth\":0,\"ticks\":\"\"}},\"type\":\"scattergl\"}],\"scattermapbox\":[{\"marker\":{\"colorbar\":{\"outlinewidth\":0,\"ticks\":\"\"}},\"type\":\"scattermapbox\"}],\"scatterpolar\":[{\"marker\":{\"colorbar\":{\"outlinewidth\":0,\"ticks\":\"\"}},\"type\":\"scatterpolar\"}],\"scatterpolargl\":[{\"marker\":{\"colorbar\":{\"outlinewidth\":0,\"ticks\":\"\"}},\"type\":\"scatterpolargl\"}],\"scatterternary\":[{\"marker\":{\"colorbar\":{\"outlinewidth\":0,\"ticks\":\"\"}},\"type\":\"scatterternary\"}],\"surface\":[{\"colorbar\":{\"outlinewidth\":0,\"ticks\":\"\"},\"colorscale\":[[0.0,\"#0d0887\"],[0.1111111111111111,\"#46039f\"],[0.2222222222222222,\"#7201a8\"],[0.3333333333333333,\"#9c179e\"],[0.4444444444444444,\"#bd3786\"],[0.5555555555555556,\"#d8576b\"],[0.6666666666666666,\"#ed7953\"],[0.7777777777777778,\"#fb9f3a\"],[0.8888888888888888,\"#fdca26\"],[1.0,\"#f0f921\"]],\"type\":\"surface\"}],\"table\":[{\"cells\":{\"fill\":{\"color\":\"#EBF0F8\"},\"line\":{\"color\":\"white\"}},\"header\":{\"fill\":{\"color\":\"#C8D4E3\"},\"line\":{\"color\":\"white\"}},\"type\":\"table\"}]},\"layout\":{\"annotationdefaults\":{\"arrowcolor\":\"#2a3f5f\",\"arrowhead\":0,\"arrowwidth\":1},\"autotypenumbers\":\"strict\",\"coloraxis\":{\"colorbar\":{\"outlinewidth\":0,\"ticks\":\"\"}},\"colorscale\":{\"diverging\":[[0,\"#8e0152\"],[0.1,\"#c51b7d\"],[0.2,\"#de77ae\"],[0.3,\"#f1b6da\"],[0.4,\"#fde0ef\"],[0.5,\"#f7f7f7\"],[0.6,\"#e6f5d0\"],[0.7,\"#b8e186\"],[0.8,\"#7fbc41\"],[0.9,\"#4d9221\"],[1,\"#276419\"]],\"sequential\":[[0.0,\"#0d0887\"],[0.1111111111111111,\"#46039f\"],[0.2222222222222222,\"#7201a8\"],[0.3333333333333333,\"#9c179e\"],[0.4444444444444444,\"#bd3786\"],[0.5555555555555556,\"#d8576b\"],[0.6666666666666666,\"#ed7953\"],[0.7777777777777778,\"#fb9f3a\"],[0.8888888888888888,\"#fdca26\"],[1.0,\"#f0f921\"]],\"sequentialminus\":[[0.0,\"#0d0887\"],[0.1111111111111111,\"#46039f\"],[0.2222222222222222,\"#7201a8\"],[0.3333333333333333,\"#9c179e\"],[0.4444444444444444,\"#bd3786\"],[0.5555555555555556,\"#d8576b\"],[0.6666666666666666,\"#ed7953\"],[0.7777777777777778,\"#fb9f3a\"],[0.8888888888888888,\"#fdca26\"],[1.0,\"#f0f921\"]]},\"colorway\":[\"#636efa\",\"#EF553B\",\"#00cc96\",\"#ab63fa\",\"#FFA15A\",\"#19d3f3\",\"#FF6692\",\"#B6E880\",\"#FF97FF\",\"#FECB52\"],\"font\":{\"color\":\"#2a3f5f\"},\"geo\":{\"bgcolor\":\"white\",\"lakecolor\":\"white\",\"landcolor\":\"#E5ECF6\",\"showlakes\":true,\"showland\":true,\"subunitcolor\":\"white\"},\"hoverlabel\":{\"align\":\"left\"},\"hovermode\":\"closest\",\"mapbox\":{\"style\":\"light\"},\"paper_bgcolor\":\"white\",\"plot_bgcolor\":\"#E5ECF6\",\"polar\":{\"angularaxis\":{\"gridcolor\":\"white\",\"linecolor\":\"white\",\"ticks\":\"\"},\"bgcolor\":\"#E5ECF6\",\"radialaxis\":{\"gridcolor\":\"white\",\"linecolor\":\"white\",\"ticks\":\"\"}},\"scene\":{\"xaxis\":{\"backgroundcolor\":\"#E5ECF6\",\"gridcolor\":\"white\",\"gridwidth\":2,\"linecolor\":\"white\",\"showbackground\":true,\"ticks\":\"\",\"zerolinecolor\":\"white\"},\"yaxis\":{\"backgroundcolor\":\"#E5ECF6\",\"gridcolor\":\"white\",\"gridwidth\":2,\"linecolor\":\"white\",\"showbackground\":true,\"ticks\":\"\",\"zerolinecolor\":\"white\"},\"zaxis\":{\"backgroundcolor\":\"#E5ECF6\",\"gridcolor\":\"white\",\"gridwidth\":2,\"linecolor\":\"white\",\"showbackground\":true,\"ticks\":\"\",\"zerolinecolor\":\"white\"}},\"shapedefaults\":{\"line\":{\"color\":\"#2a3f5f\"}},\"ternary\":{\"aaxis\":{\"gridcolor\":\"white\",\"linecolor\":\"white\",\"ticks\":\"\"},\"baxis\":{\"gridcolor\":\"white\",\"linecolor\":\"white\",\"ticks\":\"\"},\"bgcolor\":\"#E5ECF6\",\"caxis\":{\"gridcolor\":\"white\",\"linecolor\":\"white\",\"ticks\":\"\"}},\"title\":{\"x\":0.05},\"xaxis\":{\"automargin\":true,\"gridcolor\":\"white\",\"linecolor\":\"white\",\"ticks\":\"\",\"title\":{\"standoff\":15},\"zerolinecolor\":\"white\",\"zerolinewidth\":2},\"yaxis\":{\"automargin\":true,\"gridcolor\":\"white\",\"linecolor\":\"white\",\"ticks\":\"\",\"title\":{\"standoff\":15},\"zerolinecolor\":\"white\",\"zerolinewidth\":2}}},\"xaxis\":{\"anchor\":\"y\",\"domain\":[0.0,1.0],\"title\":{\"text\":\"x\"}},\"yaxis\":{\"anchor\":\"x\",\"domain\":[0.0,1.0],\"title\":{\"text\":\"y\"}},\"legend\":{\"title\":{\"text\":\"cluster\"},\"tracegroupgap\":0,\"itemsizing\":\"constant\"},\"margin\":{\"t\":60},\"title\":{\"text\":\"Agrupamiento de compa\\u00f1\\u00edas por movimientos en la bolsa\"},\"font\":{\"size\":16},\"height\":800,\"dragmode\":\"pan\"},                        {\"scrollZoom\": true, \"responsive\": true}                    ).then(function(){\n",
              "                            \n",
              "var gd = document.getElementById('aff8c6f2-df43-46f5-868c-e42c4f0b4e35');\n",
              "var x = new MutationObserver(function (mutations, observer) {{\n",
              "        var display = window.getComputedStyle(gd).display;\n",
              "        if (!display || display === 'none') {{\n",
              "            console.log([gd, 'removed!']);\n",
              "            Plotly.purge(gd);\n",
              "            observer.disconnect();\n",
              "        }}\n",
              "}});\n",
              "\n",
              "// Listen for the removal of the full notebook cells\n",
              "var notebookContainer = gd.closest('#notebook-container');\n",
              "if (notebookContainer) {{\n",
              "    x.observe(notebookContainer, {childList: true});\n",
              "}}\n",
              "\n",
              "// Listen for the clearing of the current output cell\n",
              "var outputEl = gd.closest('.output');\n",
              "if (outputEl) {{\n",
              "    x.observe(outputEl, {childList: true});\n",
              "}}\n",
              "\n",
              "                        })                };                            </script>        </div>\n",
              "</body>\n",
              "</html>"
            ]
          },
          "metadata": {}
        }
      ]
    },
    {
      "cell_type": "markdown",
      "metadata": {
        "id": "1UYePF8ybHlp"
      },
      "source": [
        "## **3.3. Validación cruzada de *pipelines***\n",
        "---\n",
        "\n",
        "Una de las utilidades principales del uso de *pipelines* en procesos de aprendizaje automático es la posibilidad de realizar validación cruzada en varios estimadores de manera directa en un solo llamado de funciones como **`GridSearchCV`**.\n",
        "\n",
        "Para este ejemplo usaremos el *dataset* de noticias ***20newsgroups***. Nuestro objetivo es diferenciar el tema de los textos de distintas publicaciones de distintos grupos de noticias destinados a varias temáticas. En particular, vamos a construir un modelo para distinguir entre publicaciones en grupos de noticias religiosas y de ateísmo."
      ]
    },
    {
      "cell_type": "code",
      "metadata": {
        "id": "icn2se7ZbWXV"
      },
      "source": [
        "# Cargamos solo posts de estas dos categorías.\n",
        "categories = ['alt.atheism', 'talk.religion.misc']"
      ],
      "execution_count": 27,
      "outputs": []
    },
    {
      "cell_type": "code",
      "metadata": {
        "id": "40690U0RbYhO",
        "colab": {
          "base_uri": "https://localhost:8080/"
        },
        "outputId": "8785ad8a-a9cb-480a-b2ab-7e3822d89070"
      },
      "source": [
        "# Cargamos los datos de entrenamiento de texto de estas 2 categorías.\n",
        "text_data = fetch_20newsgroups(subset ='train', \n",
        "                          categories = categories)\n",
        "\n",
        "print(f\"{len(text_data.filenames)} documentos y {len(text_data.target_names)} categorías.\")"
      ],
      "execution_count": 28,
      "outputs": [
        {
          "output_type": "stream",
          "name": "stdout",
          "text": [
            "857 documentos y 2 categorías.\n"
          ]
        }
      ]
    },
    {
      "cell_type": "markdown",
      "metadata": {
        "id": "-guUHcmPsO0k"
      },
      "source": [
        "Obtenemos la matriz de datos **`X`** y su vector de etiquetas **`y`** de los documentos cargados."
      ]
    },
    {
      "cell_type": "code",
      "metadata": {
        "id": "zgPMyT55Bl7Q"
      },
      "source": [
        "# Cargamos los datos en formato X, y \n",
        "X_train = text_data.data\n",
        "y_train = text_data.target"
      ],
      "execution_count": 29,
      "outputs": []
    },
    {
      "cell_type": "markdown",
      "metadata": {
        "id": "Zw1JOQJascix"
      },
      "source": [
        "Ahora, repetimos el proceso para obtener la partición de prueba en el formato adecuado:"
      ]
    },
    {
      "cell_type": "code",
      "metadata": {
        "id": "Sr0WxzS2M4Bw",
        "colab": {
          "base_uri": "https://localhost:8080/"
        },
        "outputId": "626f25f1-ac6f-4151-8711-bbc033946738"
      },
      "source": [
        "# Realizamos el mismo proceso para los datos de prueba.\n",
        "text_data_test = fetch_20newsgroups(subset ='test', categories = categories)\n",
        "\n",
        "print(f\"{len(text_data_test.filenames)} documentos y {len(text_data_test.target_names)} categorías.\")\n",
        "\n",
        "X_test = text_data_test.data\n",
        "y_test = text_data_test.target"
      ],
      "execution_count": 30,
      "outputs": [
        {
          "output_type": "stream",
          "name": "stdout",
          "text": [
            "570 documentos y 2 categorías.\n"
          ]
        }
      ]
    },
    {
      "cell_type": "markdown",
      "metadata": {
        "id": "vx2vaXr55wpo"
      },
      "source": [
        "### **3.3.1. Conteo de tokens con `CountVectorizer`**\n",
        "---\n",
        "Al realizar una inspección inicial podemos notar que la matriz $X$ está compuesta por observaciones con una única característica de texto.:"
      ]
    },
    {
      "cell_type": "code",
      "metadata": {
        "id": "ZZCXvdmYs0t_",
        "colab": {
          "base_uri": "https://localhost:8080/"
        },
        "outputId": "0bb903fc-528e-4b72-ecdd-e46d76354759"
      },
      "source": [
        "# Primer elemento de la lista obtenida.\n",
        "print(X_train[0])"
      ],
      "execution_count": 31,
      "outputs": [
        {
          "output_type": "stream",
          "name": "stdout",
          "text": [
            "From: mangoe@cs.umd.edu (Charley Wingate)\n",
            "Subject: Benediktine Metaphysics\n",
            "Lines: 24\n",
            "\n",
            "Benedikt Rosenau writes, with great authority:\n",
            "\n",
            ">     IF IT IS CONTRADICTORY IT CANNOT EXIST.\n",
            "\n",
            "\"Contradictory\" is a property of language.  If I correct this to\n",
            "\n",
            "\n",
            "      THINGS DEFINED BY CONTRADICTORY LANGUAGE DO NOT EXIST\n",
            "\n",
            "I will object to definitions as reality.  If you then amend it to\n",
            "\n",
            "      THINGS DESCRIBED BY CONTRADICTORY LANGUAGE DO NOT EXIST\n",
            "\n",
            "then we've come to something which is plainly false.  Failures in\n",
            "description are merely failures in description.\n",
            "\n",
            "(I'm not an objectivist, remember.)\n",
            "\n",
            "\n",
            "-- \n",
            "C. Wingate        + \"The peace of God, it is no peace,\n",
            "                  +    but strife closed in the sod.\n",
            "mangoe@cs.umd.edu +  Yet, brothers, pray for but one thing:\n",
            "tove!mangoe       +    the marv'lous peace of God.\"\n",
            "\n"
          ]
        }
      ]
    },
    {
      "cell_type": "markdown",
      "metadata": {
        "id": "x76B_NqTsuoU"
      },
      "source": [
        "Para aplicar algoritmos de aprendizaje de máquina es necesario obtener datos numéricos de cada secuencia de palabras. Es decir, cada documento debería ser representado como un vector numérico. En este caso, cada valor en este vector corresponde a la frecuencia de una palabra de un vocabulario dado en el texto. \n",
        "\n",
        "Para esto, usaremos dos estimadores usados comunmente en la extracción de características de documentos de texto.\n",
        "\n",
        "El primero es el estimador [**`CountVectorizer`**](https://scikit-learn.org/stable/modules/generated/sklearn.feature_extraction.text.CountVectorizer.html#sklearn.feature_extraction.text.CountVectorizer), que genera una matriz con la cantidad de veces que aparece cada palabra o *token* del vocabulario en un documento.\n",
        "\n",
        "> **Nota:** Por defecto los *tokens* son palabras. Sin embargo, es posible configurar el estimador para utilizar otro tipo de *token*, como por ejemplo caracteres. Esto se puede realizar con el parámetro **`analyzer`**."
      ]
    },
    {
      "cell_type": "code",
      "metadata": {
        "id": "-B5AxNukGLbn"
      },
      "source": [
        "# Módulo de extracción de características de texto.\n",
        "from sklearn.feature_extraction.text import CountVectorizer\n",
        "\n",
        "vectorizer = CountVectorizer(\n",
        "      max_df = 0.5,            # Los tokens con proporción de aparición mayor que 'max_df' son ignorados.\n",
        "      analyzer = 'word',       # Los tokens corresponderán a palabras (este es el valor por defecto).\n",
        "      ngram_range = (1, 1),    # Limite inferior y superior de tokens por n-grama.\n",
        "      max_features = 5000      # Tamaño máximo del vocabulario.\n",
        ")"
      ],
      "execution_count": 33,
      "outputs": []
    },
    {
      "cell_type": "markdown",
      "metadata": {
        "id": "VHgrZgAIGh0T"
      },
      "source": [
        "El argumento **`ngram_range`** recibe los límites de la longitud de los $n$-gramas considerados. Un $n$-grama es una secuencia de términos de tamaño **n**. Por ejemplo, **`\"hola cómo estás\"`** es un documento del que se pueden extraer los siguientes n-gramas:\n",
        "\n",
        "* $n$-gramas de tamaño $1$ (**unigramas**): \n",
        "```python\n",
        "['hola', \n",
        "'cómo', \n",
        "'estás']\n",
        "```\n",
        "* $n$-gramas de tamaño $2$(**bigramas**): \n",
        "```python\n",
        "['hola cómo', \n",
        "'cómo estás']\n",
        "```\n",
        "* $n$-gramas de tamaño $3$ (**trigramas**): \n",
        "```python\n",
        "['hola cómo estás']\n",
        "```\n",
        "\n",
        "De esta manera un **`ngram_range`** con valor **`(2, 3)`** permite la identificación de tanto bigramas como trigramas. Realicemos la transformación con **`fit_transform`**:"
      ]
    },
    {
      "cell_type": "code",
      "metadata": {
        "id": "grB_NQPtIfId",
        "colab": {
          "base_uri": "https://localhost:8080/"
        },
        "outputId": "fa3fba22-e892-4d43-e773-32c542a37e62"
      },
      "source": [
        "vector_text = vectorizer.fit_transform(X_train)\n",
        "\n",
        "vector_text.shape"
      ],
      "execution_count": 34,
      "outputs": [
        {
          "output_type": "execute_result",
          "data": {
            "text/plain": [
              "(857, 5000)"
            ]
          },
          "metadata": {},
          "execution_count": 34
        }
      ]
    },
    {
      "cell_type": "markdown",
      "metadata": {
        "id": "AynscewK3IOy"
      },
      "source": [
        "El dato obtenido en la vectorización no es un arreglo de *NumPy* normal. En su lugar, se obtiene una implementación de un arreglo *sparse* o disperso que consiste mayoritariamente en valores en $0$, y que solo almacena información de la ubicación de elementos distintos a $0$.\n",
        "\n",
        "Si imprimimos la primera instancia de este arreglo disperso obtenemos:"
      ]
    },
    {
      "cell_type": "code",
      "metadata": {
        "id": "J0k4uMyl0byJ",
        "colab": {
          "base_uri": "https://localhost:8080/"
        },
        "outputId": "822feaf3-dade-4f85-b08f-e607e274cbf1"
      },
      "source": [
        "print(vector_text[0])"
      ],
      "execution_count": 35,
      "outputs": [
        {
          "output_type": "stream",
          "name": "stdout",
          "text": [
            "  (0, 2766)\t3\n",
            "  (0, 1167)\t2\n",
            "  (0, 4654)\t2\n",
            "  (0, 854)\t1\n",
            "  (0, 4912)\t2\n",
            "  (0, 2879)\t1\n",
            "  (0, 51)\t1\n",
            "  (0, 591)\t1\n",
            "  (0, 3896)\t1\n",
            "  (0, 2005)\t1\n",
            "  (0, 491)\t1\n",
            "  (0, 1076)\t4\n",
            "  (0, 782)\t1\n",
            "  (0, 1663)\t3\n",
            "  (0, 3571)\t1\n",
            "  (0, 2572)\t3\n",
            "  (0, 1103)\t1\n",
            "  (0, 4496)\t2\n",
            "  (0, 1265)\t1\n",
            "  (0, 1424)\t2\n",
            "  (0, 4906)\t1\n",
            "  (0, 3138)\t1\n",
            "  (0, 1271)\t1\n",
            "  (0, 3695)\t1\n",
            "  (0, 4479)\t2\n",
            "  (0, 1311)\t1\n",
            "  (0, 4860)\t1\n",
            "  (0, 4760)\t1\n",
            "  (0, 955)\t1\n",
            "  (0, 4187)\t1\n",
            "  (0, 4886)\t1\n",
            "  (0, 1736)\t1\n",
            "  (0, 1722)\t2\n",
            "  (0, 1314)\t2\n",
            "  (0, 2863)\t1\n",
            "  (0, 3143)\t1\n",
            "  (0, 3780)\t1\n",
            "  (0, 3318)\t3\n",
            "  (0, 1974)\t2\n",
            "  (0, 3092)\t1\n",
            "  (0, 4301)\t1\n",
            "  (0, 928)\t1\n",
            "  (0, 4173)\t1\n",
            "  (0, 4980)\t1\n",
            "  (0, 718)\t1\n",
            "  (0, 3472)\t1\n",
            "  (0, 4495)\t1\n",
            "  (0, 4562)\t1\n",
            "  (0, 2783)\t1\n",
            "  (0, 2711)\t1\n"
          ]
        }
      ]
    },
    {
      "cell_type": "markdown",
      "metadata": {
        "id": "VN71cLYl32Wp"
      },
      "source": [
        "La primera tupla representa la posición en la matriz en la que está ubicado el valor escrito a continuación. En este caso, estos números corresponden a la cantidad de apariciones del *token* en el documento.\n",
        "\n",
        "Con el método **`get_feature_names`** de un vectorizador ajustado podemos obtener el nombre del token al que corresponde cada característica obtenida:"
      ]
    },
    {
      "cell_type": "code",
      "metadata": {
        "id": "w1dvPvpp07_M",
        "colab": {
          "base_uri": "https://localhost:8080/"
        },
        "outputId": "ddb8f506-610c-4c35-f823-66d396fec9b0"
      },
      "source": [
        "feature_names = vectorizer.get_feature_names()\n",
        "\n",
        "for ind in vector_text[0].indices:  \n",
        "  print(f'El token \"{feature_names[ind]}\" aparece {vector_text[0, ind]} {\"vez\" if vector_text[0, ind]==1 else \"veces\"}.')  "
      ],
      "execution_count": 36,
      "outputs": [
        {
          "output_type": "stream",
          "name": "stdout",
          "text": [
            "El token \"mangoe\" aparece 3 veces.\n",
            "El token \"cs\" aparece 2 veces.\n",
            "El token \"umd\" aparece 2 veces.\n",
            "El token \"charley\" aparece 1 vez.\n",
            "El token \"wingate\" aparece 2 veces.\n",
            "El token \"metaphysics\" aparece 1 vez.\n",
            "El token \"24\" aparece 1 vez.\n",
            "El token \"benedikt\" aparece 1 vez.\n",
            "El token \"rosenau\" aparece 1 vez.\n",
            "El token \"great\" aparece 1 vez.\n",
            "El token \"authority\" aparece 1 vez.\n",
            "El token \"contradictory\" aparece 4 veces.\n",
            "El token \"cannot\" aparece 1 vez.\n",
            "El token \"exist\" aparece 3 veces.\n",
            "El token \"property\" aparece 1 vez.\n",
            "El token \"language\" aparece 3 veces.\n",
            "El token \"correct\" aparece 1 vez.\n",
            "El token \"things\" aparece 2 veces.\n",
            "El token \"defined\" aparece 1 vez.\n",
            "El token \"do\" aparece 2 veces.\n",
            "El token \"will\" aparece 1 vez.\n",
            "El token \"object\" aparece 1 vez.\n",
            "El token \"definitions\" aparece 1 vez.\n",
            "El token \"reality\" aparece 1 vez.\n",
            "El token \"then\" aparece 2 veces.\n",
            "El token \"described\" aparece 1 vez.\n",
            "El token \"we\" aparece 1 vez.\n",
            "El token \"ve\" aparece 1 vez.\n",
            "El token \"come\" aparece 1 vez.\n",
            "El token \"something\" aparece 1 vez.\n",
            "El token \"which\" aparece 1 vez.\n",
            "El token \"false\" aparece 1 vez.\n",
            "El token \"failures\" aparece 2 veces.\n",
            "El token \"description\" aparece 2 veces.\n",
            "El token \"merely\" aparece 1 vez.\n",
            "El token \"objectivist\" aparece 1 vez.\n",
            "El token \"remember\" aparece 1 vez.\n",
            "El token \"peace\" aparece 3 veces.\n",
            "El token \"god\" aparece 2 veces.\n",
            "El token \"no\" aparece 1 vez.\n",
            "El token \"strife\" aparece 1 vez.\n",
            "El token \"closed\" aparece 1 vez.\n",
            "El token \"sod\" aparece 1 vez.\n",
            "El token \"yet\" aparece 1 vez.\n",
            "El token \"brothers\" aparece 1 vez.\n",
            "El token \"pray\" aparece 1 vez.\n",
            "El token \"thing\" aparece 1 vez.\n",
            "El token \"tove\" aparece 1 vez.\n",
            "El token \"marv\" aparece 1 vez.\n",
            "El token \"lous\" aparece 1 vez.\n"
          ]
        }
      ]
    },
    {
      "cell_type": "markdown",
      "metadata": {
        "id": "bZYBXkG05SKC"
      },
      "source": [
        "Como podemos ver, la palabra con mayor cantidad de apariciones en el primer documento es **`\"CONTRADICTORY\"`**. \n",
        "\n",
        "Observemos el texto original:"
      ]
    },
    {
      "cell_type": "code",
      "metadata": {
        "id": "Ds32dlSFzaWz",
        "colab": {
          "base_uri": "https://localhost:8080/"
        },
        "outputId": "4a5cdd27-cf57-4127-e3c8-f03dafaea603"
      },
      "source": [
        "print(X_train[0])"
      ],
      "execution_count": 37,
      "outputs": [
        {
          "output_type": "stream",
          "name": "stdout",
          "text": [
            "From: mangoe@cs.umd.edu (Charley Wingate)\n",
            "Subject: Benediktine Metaphysics\n",
            "Lines: 24\n",
            "\n",
            "Benedikt Rosenau writes, with great authority:\n",
            "\n",
            ">     IF IT IS CONTRADICTORY IT CANNOT EXIST.\n",
            "\n",
            "\"Contradictory\" is a property of language.  If I correct this to\n",
            "\n",
            "\n",
            "      THINGS DEFINED BY CONTRADICTORY LANGUAGE DO NOT EXIST\n",
            "\n",
            "I will object to definitions as reality.  If you then amend it to\n",
            "\n",
            "      THINGS DESCRIBED BY CONTRADICTORY LANGUAGE DO NOT EXIST\n",
            "\n",
            "then we've come to something which is plainly false.  Failures in\n",
            "description are merely failures in description.\n",
            "\n",
            "(I'm not an objectivist, remember.)\n",
            "\n",
            "\n",
            "-- \n",
            "C. Wingate        + \"The peace of God, it is no peace,\n",
            "                  +    but strife closed in the sod.\n",
            "mangoe@cs.umd.edu +  Yet, brothers, pray for but one thing:\n",
            "tove!mangoe       +    the marv'lous peace of God.\"\n",
            "\n"
          ]
        }
      ]
    },
    {
      "cell_type": "markdown",
      "metadata": {
        "id": "WoIsyXa39rJI"
      },
      "source": [
        "### **3.3.2. Análisis de frecuencias con `TfidfTransformer`**\n",
        "---\n",
        "El segundo estimador es **`TfidfTransformer`**, que realiza una transformación a partir de un análisis de frecuencia de aparición de los términos para reducir el impacto de *tokens* con mucha frecuencia, como signos de puntuación o separadores, conocida como [**tf-idf**](https://en.wikipedia.org/wiki/Tf%E2%80%93idf).\n",
        "\n",
        "\n",
        "> **Nota:** Existe también la función **`TfidfVectorizer`** que realiza las dos transformaciones, una detrás de la otra. En esta ocasión usaremos los estimadores por separado para controlar los parámetros de cada uno en validación cruzada.\n",
        "\n",
        "\n",
        "Antes de explicar **tf-idf** definimos los siguientes conceptos:\n",
        "\n",
        "- término ($t$): en nuestro caso hace referencia a las palabras o _tokens_ que están presentes en un documento. (en otros casos se podría hacer referencia a caracteres o n-gramas).\n",
        "- documento ($d$): una secuencia de términos.\n",
        "- corpus ($D$): una colección o conjunto de documentos.\n",
        "\n",
        "#### **Frecuencia de termino**\n",
        "***\n",
        "\n",
        "$\\text{tf}(t, d):$ El *term frequency* es la frecuencia normalizada del término $t$ en el documento $d$.\n",
        "\n",
        "Se calcula de la siguiente manera:\n",
        "\n",
        "$$\\text{tf}(t, d) = \\frac{\\text{conteo}(t, d)}{ \\text{Longitud de } d}$$\n",
        "\n",
        "Donde:\n",
        "- $\\text{conteo}(t, d)$ es el número de veces que aparece el término $t$ en el documento $d$.\n",
        "\n",
        "(Se toma la frecuencia del término $t$ en el documento $d$ y se divide sobre la suma de frecuencias de todos los términos presentes en $d$.)\n",
        "\n",
        "#### **Frecuencia inversa de documento**\n",
        "***\n",
        "\n",
        "$\\text{idf}(t, D):$ El *inverse document frequency* es una medida de cuanta información provee un término, es decir, si un término es común en un corpus o si raramente aparece en los documentos. \n",
        "\n",
        "Es la fracción en escala logarítmica del número total de documentos sobre el número de documentos que contienen el término:\n",
        "\n",
        "$$\\text{idf}(t, D) = \\log\\left(\\frac{N}{\\text{conteo}(t, D)}\\right)$$\n",
        "\n",
        "Donde:\n",
        "- $N$ es el número de documentos en el corpus $D$.\n",
        "- $\\text{conteo}(t, D)$ es el número de documentos donde aparece el término t.\n",
        "\n",
        "#### **Análisis tf-idf**\n",
        "***\n",
        "\n",
        "El $\\text{tf-idf}(t, d, D)$ de un término se calcula de la siguiente manera:\n",
        "\n",
        "$$\\text{tf-idf}(t, d, D) = \\text{tf}(t, d)\\times \\text{idf}(t, D)$$\n",
        "\n",
        "Un valor de $\\text{tf-idf}$ alto indica un término de alta frecuencia en un documento y con baja frecuencia en el _corpus_. De esta manera, los términos demasiado frecuentes en el _corpus_ tienen un peso menor.\n",
        "\n",
        "\n",
        "A continuación, usamos **`TfidfTransformer`** para aplicar la implementación de *Scikit-Learn* de **tf-idf**:"
      ]
    },
    {
      "cell_type": "code",
      "metadata": {
        "id": "2YSuG_ssIjBg",
        "colab": {
          "base_uri": "https://localhost:8080/"
        },
        "outputId": "ead2d03d-df22-49f8-86da-defb4a1a05de"
      },
      "source": [
        "# Módulo de extracción de características de texto.\n",
        "from sklearn.feature_extraction.text import TfidfTransformer\n",
        "\n",
        "transformer = TfidfTransformer(\n",
        "    use_idf = True  # Evaluar o no un recálculo del peso de cada token\n",
        "                    # con un análisis de frecuencia inversa.     \n",
        ")\n",
        "transformed_text = transformer.fit_transform(vector_text)\n",
        "\n",
        "transformed_text.shape"
      ],
      "execution_count": 39,
      "outputs": [
        {
          "output_type": "execute_result",
          "data": {
            "text/plain": [
              "(857, 5000)"
            ]
          },
          "metadata": {},
          "execution_count": 39
        }
      ]
    },
    {
      "cell_type": "markdown",
      "metadata": {
        "id": "tx_JIwjxwQhD"
      },
      "source": [
        "Ahora veamos el valor obtenido en la transformación para cada _token_:"
      ]
    },
    {
      "cell_type": "code",
      "metadata": {
        "id": "MJVpyg6t-fhr",
        "colab": {
          "base_uri": "https://localhost:8080/"
        },
        "outputId": "f6092794-d81b-43fc-aec0-0e7bce44a200"
      },
      "source": [
        "for ind in transformed_text[0].indices:  \n",
        "  print(f'El token \"{feature_names[ind]}\" tiene un valor de tf-idf de: {transformed_text[0, ind]:5f}.') "
      ],
      "execution_count": 40,
      "outputs": [
        {
          "output_type": "stream",
          "name": "stdout",
          "text": [
            "El token \"yet\" tiene un valor de tf-idf de: 0.066565.\n",
            "El token \"wingate\" tiene un valor de tf-idf de: 0.192767.\n",
            "El token \"will\" tiene un valor de tf-idf de: 0.046972.\n",
            "El token \"which\" tiene un valor de tf-idf de: 0.044033.\n",
            "El token \"we\" tiene un valor de tf-idf de: 0.040011.\n",
            "El token \"ve\" tiene un valor de tf-idf de: 0.060770.\n",
            "El token \"umd\" tiene un valor de tf-idf de: 0.181395.\n",
            "El token \"tove\" tiene un valor de tf-idf de: 0.117556.\n",
            "El token \"things\" tiene un valor de tf-idf de: 0.118716.\n",
            "El token \"thing\" tiene un valor de tf-idf de: 0.061815.\n",
            "El token \"then\" tiene un valor de tf-idf de: 0.093011.\n",
            "El token \"strife\" tiene un valor de tf-idf de: 0.114117.\n",
            "El token \"something\" tiene un valor de tf-idf de: 0.056534.\n",
            "El token \"sod\" tiene un valor de tf-idf de: 0.117556.\n",
            "El token \"rosenau\" tiene un valor de tf-idf de: 0.089084.\n",
            "El token \"remember\" tiene un valor de tf-idf de: 0.081653.\n",
            "El token \"reality\" tiene un valor de tf-idf de: 0.091262.\n",
            "El token \"property\" tiene un valor de tf-idf de: 0.117556.\n",
            "El token \"pray\" tiene un valor de tf-idf de: 0.100307.\n",
            "El token \"peace\" tiene un valor de tf-idf de: 0.281029.\n",
            "El token \"objectivist\" tiene un valor de tf-idf de: 0.126601.\n",
            "El token \"object\" tiene un valor de tf-idf de: 0.105072.\n",
            "El token \"no\" tiene un valor de tf-idf de: 0.039897.\n",
            "El token \"metaphysics\" tiene un valor de tf-idf de: 0.123973.\n",
            "El token \"merely\" tiene un valor de tf-idf de: 0.090698.\n",
            "El token \"marv\" tiene un valor de tf-idf de: 0.117556.\n",
            "El token \"mangoe\" tiene un valor de tf-idf de: 0.295963.\n",
            "El token \"lous\" tiene un valor de tf-idf de: 0.117556.\n",
            "El token \"language\" tiene un valor de tf-idf de: 0.284967.\n",
            "El token \"great\" tiene un valor de tf-idf de: 0.072857.\n",
            "El token \"god\" tiene un valor de tf-idf de: 0.089322.\n",
            "El token \"false\" tiene un valor de tf-idf de: 0.084420.\n",
            "El token \"failures\" tiene un valor de tf-idf de: 0.266037.\n",
            "El token \"exist\" tiene un valor de tf-idf de: 0.224874.\n",
            "El token \"do\" tiene un valor de tf-idf de: 0.075645.\n",
            "El token \"description\" tiene un valor de tf-idf de: 0.206085.\n",
            "El token \"described\" tiene un valor de tf-idf de: 0.099466.\n",
            "El token \"definitions\" tiene un valor de tf-idf de: 0.106160.\n",
            "El token \"defined\" tiene un valor de tf-idf de: 0.089084.\n",
            "El token \"cs\" tiene un valor de tf-idf de: 0.131278.\n",
            "El token \"correct\" tiene un valor de tf-idf de: 0.083594.\n",
            "El token \"contradictory\" tiene un valor de tf-idf de: 0.408372.\n",
            "El token \"come\" tiene un valor de tf-idf de: 0.064750.\n",
            "El token \"closed\" tiene un valor de tf-idf de: 0.101182.\n",
            "El token \"charley\" tiene un valor de tf-idf de: 0.096384.\n",
            "El token \"cannot\" tiene un valor de tf-idf de: 0.066755.\n",
            "El token \"brothers\" tiene un valor de tf-idf de: 0.102093.\n",
            "El token \"benedikt\" tiene un valor de tf-idf de: 0.087580.\n",
            "El token \"authority\" tiene un valor de tf-idf de: 0.086170.\n",
            "El token \"24\" tiene un valor de tf-idf de: 0.086170.\n"
          ]
        }
      ]
    },
    {
      "cell_type": "markdown",
      "metadata": {
        "id": "Pj_kBs236nLq"
      },
      "source": [
        "### **3.3.3. Clasificación con `RandomForestClassifier`**\n",
        "---\n",
        "Ahora tenemos un *dataset* con $5000$ características numéricas, adecuado para utilizarlo en un proceso de clasificación. En este caso utilizaremos un clasificador de bosques aleatorios con el método **`RandomForestClassifier`**."
      ]
    },
    {
      "cell_type": "code",
      "metadata": {
        "id": "wQAXu5GpDN9w",
        "colab": {
          "base_uri": "https://localhost:8080/"
        },
        "outputId": "e003a48c-5012-408f-8f74-5c725636687f"
      },
      "source": [
        "# Módulo de construcción de modelos compuestos.\n",
        "from sklearn.ensemble import RandomForestClassifier\n",
        "clf = RandomForestClassifier(    \n",
        "        n_estimators = 50,    # Número de árboles de decisión del árbol.\n",
        "        max_features =  0.5   # Proporción máxima de características a considerar.\n",
        ")\n",
        "\n",
        "clf.fit(transformed_text, y_train)"
      ],
      "execution_count": 41,
      "outputs": [
        {
          "output_type": "execute_result",
          "data": {
            "text/plain": [
              "RandomForestClassifier(max_features=0.5, n_estimators=50)"
            ]
          },
          "metadata": {},
          "execution_count": 41
        }
      ]
    },
    {
      "cell_type": "markdown",
      "metadata": {
        "id": "D4C7n90B6vrJ"
      },
      "source": [
        "El clasificador de bosques aleatorios consiste en una colección de árboles de decisión entrenados en muestras distintas que realizan una \"votación\" para elegir la clasificación más favorable. La cantidad de árboles que se entrenan se define con el parámetro **`n_estimators`**, y se pueden configurar los parámetros de estos árboles, como por ejemplo la cantidad máxima de características a considerar con **`max_features`**."
      ]
    },
    {
      "cell_type": "markdown",
      "metadata": {
        "id": "3Yi3YELw8ETq"
      },
      "source": [
        "### **3.3.4. _Grid Search_ en *Pipelines***\n",
        "---\n",
        "Ahora, si quisiéramos usar los datos de evaluación para evaluar el rendimiento de nuestro modelo tendríamos que volver a realizar los mismos pasos de preprocesamiento y extracción de características del *dataset* de evaluación.\n",
        "\n"
      ]
    },
    {
      "cell_type": "code",
      "metadata": {
        "id": "uwzOZIZnPEB3",
        "colab": {
          "base_uri": "https://localhost:8080/"
        },
        "outputId": "53519d5d-997d-4295-8570-a829e8350d04"
      },
      "source": [
        "vector_text_test = vectorizer.fit_transform(X_test)\n",
        "transformed_text_test = transformer.fit_transform(vector_text_test)\n",
        "\n",
        "clf.score(transformed_text_test, y_test)"
      ],
      "execution_count": 42,
      "outputs": [
        {
          "output_type": "execute_result",
          "data": {
            "text/plain": [
              "0.5631578947368421"
            ]
          },
          "metadata": {},
          "execution_count": 42
        }
      ]
    },
    {
      "cell_type": "markdown",
      "metadata": {
        "id": "g9O2D9nfPDNe"
      },
      "source": [
        "En vez de eso, podemos realizar el proceso con la ayuda de *pipelines* y ejecutar una validación cruzada con **`GridSearchCV`**. Primero, creemos nuestro *pipeline*."
      ]
    },
    {
      "cell_type": "code",
      "metadata": {
        "id": "jBFz7OMubaYE"
      },
      "source": [
        "# Pipeline con los tres estimadores a utilizar.\n",
        "pipeline = Pipeline([\n",
        "    ('vect', CountVectorizer()),\n",
        "    ('tfidf', TfidfTransformer()),\n",
        "    ('clf', RandomForestClassifier())\n",
        "])"
      ],
      "execution_count": 43,
      "outputs": []
    },
    {
      "cell_type": "markdown",
      "metadata": {
        "id": "LyR3s323OIyV"
      },
      "source": [
        "Ahora, al definir los hiperparámetros a explorar en la validación cruzada, debemos tener en cuenta la regla de nombrado de parámetros en *pipelines* usando la ID del estimador y el nombre del parámetro."
      ]
    },
    {
      "cell_type": "code",
      "metadata": {
        "id": "2endCMLGbcUM"
      },
      "source": [
        "parameters = {      \n",
        "    'vect__max_features': (1000, 2000),      # Tamaño máximo del vocabulario (1000 y 2000).\n",
        "    'vect__ngram_range': ((1, 1), (1, 2)),   # Unigramas y unigramas + bigramas.\n",
        "    'tfidf__use_idf': (True, False),         # Usar o no frecuencia inversa del documento.\n",
        "    'clf__n_estimators': [50, 100],          # Número de árboles del Random Forest (50 y 100).\n",
        "    'clf__max_features': [0.1, 0.3]          # Porcentaje de características del Random Forest (10% y 30%).\n",
        "}"
      ],
      "execution_count": 44,
      "outputs": []
    },
    {
      "cell_type": "markdown",
      "metadata": {
        "id": "fmdwkPVnQSkF"
      },
      "source": [
        "Declaramos **`GridSearchCV`** como lo haríamos con otros modelos."
      ]
    },
    {
      "cell_type": "code",
      "metadata": {
        "id": "eov8nJfkbfY2"
      },
      "source": [
        "from sklearn.model_selection import GridSearchCV\n",
        "\n",
        "grid_search = GridSearchCV(pipeline,   # En este caso el modelo entregado a GridSearch es un objeto PipeLine.\n",
        "                           parameters, \n",
        "                           cv=3,       # Usamos 3 pliegues de validación cruzada por configuración.\n",
        "                           verbose=3)  # Indicamos un valor positivo de 'verbose' para ver la salida \n",
        "                                       # de ejecución y evaluación en cada entrenamiento.\n",
        "                           "
      ],
      "execution_count": 45,
      "outputs": []
    },
    {
      "cell_type": "markdown",
      "metadata": {
        "id": "gHLUvwjlQXuY"
      },
      "source": [
        "Finalmente, ejecutamos la búsqueda de los mejores hiperparámetros.\n",
        "\n",
        "> **Nota:** Este proceso puede tardar bastante. Si lo desea, le recomendamos comentar o descomentar algunos de los parámetros en la celda en que se definen para agilizar el proceso. Explorar todos los hiperparámetros puede durar cerca de tres minutos."
      ]
    },
    {
      "cell_type": "code",
      "metadata": {
        "id": "SAJTcf7nPcv7",
        "colab": {
          "base_uri": "https://localhost:8080/"
        },
        "outputId": "029e30c0-2e66-4dea-a356-c4f02199e81b"
      },
      "source": [
        "grid_search.fit(text_data.data, text_data.target)"
      ],
      "execution_count": 46,
      "outputs": [
        {
          "output_type": "stream",
          "name": "stdout",
          "text": [
            "Fitting 3 folds for each of 32 candidates, totalling 96 fits\n",
            "[CV 1/3] END clf__max_features=0.1, clf__n_estimators=50, tfidf__use_idf=True, vect__max_features=1000, vect__ngram_range=(1, 1);, score=0.906 total time=   0.8s\n",
            "[CV 2/3] END clf__max_features=0.1, clf__n_estimators=50, tfidf__use_idf=True, vect__max_features=1000, vect__ngram_range=(1, 1);, score=0.902 total time=   0.8s\n",
            "[CV 3/3] END clf__max_features=0.1, clf__n_estimators=50, tfidf__use_idf=True, vect__max_features=1000, vect__ngram_range=(1, 1);, score=0.888 total time=   0.7s\n",
            "[CV 1/3] END clf__max_features=0.1, clf__n_estimators=50, tfidf__use_idf=True, vect__max_features=1000, vect__ngram_range=(1, 2);, score=0.867 total time=   1.5s\n",
            "[CV 2/3] END clf__max_features=0.1, clf__n_estimators=50, tfidf__use_idf=True, vect__max_features=1000, vect__ngram_range=(1, 2);, score=0.878 total time=   1.5s\n",
            "[CV 3/3] END clf__max_features=0.1, clf__n_estimators=50, tfidf__use_idf=True, vect__max_features=1000, vect__ngram_range=(1, 2);, score=0.867 total time=   1.5s\n",
            "[CV 1/3] END clf__max_features=0.1, clf__n_estimators=50, tfidf__use_idf=True, vect__max_features=2000, vect__ngram_range=(1, 1);, score=0.909 total time=   0.9s\n",
            "[CV 2/3] END clf__max_features=0.1, clf__n_estimators=50, tfidf__use_idf=True, vect__max_features=2000, vect__ngram_range=(1, 1);, score=0.934 total time=   0.8s\n",
            "[CV 3/3] END clf__max_features=0.1, clf__n_estimators=50, tfidf__use_idf=True, vect__max_features=2000, vect__ngram_range=(1, 1);, score=0.923 total time=   0.8s\n",
            "[CV 1/3] END clf__max_features=0.1, clf__n_estimators=50, tfidf__use_idf=True, vect__max_features=2000, vect__ngram_range=(1, 2);, score=0.888 total time=   1.6s\n",
            "[CV 2/3] END clf__max_features=0.1, clf__n_estimators=50, tfidf__use_idf=True, vect__max_features=2000, vect__ngram_range=(1, 2);, score=0.927 total time=   1.6s\n",
            "[CV 3/3] END clf__max_features=0.1, clf__n_estimators=50, tfidf__use_idf=True, vect__max_features=2000, vect__ngram_range=(1, 2);, score=0.905 total time=   1.5s\n",
            "[CV 1/3] END clf__max_features=0.1, clf__n_estimators=50, tfidf__use_idf=False, vect__max_features=1000, vect__ngram_range=(1, 1);, score=0.885 total time=   0.7s\n",
            "[CV 2/3] END clf__max_features=0.1, clf__n_estimators=50, tfidf__use_idf=False, vect__max_features=1000, vect__ngram_range=(1, 1);, score=0.920 total time=   0.7s\n",
            "[CV 3/3] END clf__max_features=0.1, clf__n_estimators=50, tfidf__use_idf=False, vect__max_features=1000, vect__ngram_range=(1, 1);, score=0.888 total time=   0.7s\n",
            "[CV 1/3] END clf__max_features=0.1, clf__n_estimators=50, tfidf__use_idf=False, vect__max_features=1000, vect__ngram_range=(1, 2);, score=0.860 total time=   1.5s\n",
            "[CV 2/3] END clf__max_features=0.1, clf__n_estimators=50, tfidf__use_idf=False, vect__max_features=1000, vect__ngram_range=(1, 2);, score=0.885 total time=   1.5s\n",
            "[CV 3/3] END clf__max_features=0.1, clf__n_estimators=50, tfidf__use_idf=False, vect__max_features=1000, vect__ngram_range=(1, 2);, score=0.881 total time=   1.4s\n",
            "[CV 1/3] END clf__max_features=0.1, clf__n_estimators=50, tfidf__use_idf=False, vect__max_features=2000, vect__ngram_range=(1, 1);, score=0.892 total time=   0.9s\n",
            "[CV 2/3] END clf__max_features=0.1, clf__n_estimators=50, tfidf__use_idf=False, vect__max_features=2000, vect__ngram_range=(1, 1);, score=0.892 total time=   0.8s\n",
            "[CV 3/3] END clf__max_features=0.1, clf__n_estimators=50, tfidf__use_idf=False, vect__max_features=2000, vect__ngram_range=(1, 1);, score=0.895 total time=   0.8s\n",
            "[CV 1/3] END clf__max_features=0.1, clf__n_estimators=50, tfidf__use_idf=False, vect__max_features=2000, vect__ngram_range=(1, 2);, score=0.906 total time=   1.7s\n",
            "[CV 2/3] END clf__max_features=0.1, clf__n_estimators=50, tfidf__use_idf=False, vect__max_features=2000, vect__ngram_range=(1, 2);, score=0.916 total time=   1.7s\n",
            "[CV 3/3] END clf__max_features=0.1, clf__n_estimators=50, tfidf__use_idf=False, vect__max_features=2000, vect__ngram_range=(1, 2);, score=0.919 total time=   1.6s\n",
            "[CV 1/3] END clf__max_features=0.1, clf__n_estimators=100, tfidf__use_idf=True, vect__max_features=1000, vect__ngram_range=(1, 1);, score=0.906 total time=   1.3s\n",
            "[CV 2/3] END clf__max_features=0.1, clf__n_estimators=100, tfidf__use_idf=True, vect__max_features=1000, vect__ngram_range=(1, 1);, score=0.923 total time=   1.2s\n",
            "[CV 3/3] END clf__max_features=0.1, clf__n_estimators=100, tfidf__use_idf=True, vect__max_features=1000, vect__ngram_range=(1, 1);, score=0.902 total time=   1.2s\n",
            "[CV 1/3] END clf__max_features=0.1, clf__n_estimators=100, tfidf__use_idf=True, vect__max_features=1000, vect__ngram_range=(1, 2);, score=0.864 total time=   2.0s\n",
            "[CV 2/3] END clf__max_features=0.1, clf__n_estimators=100, tfidf__use_idf=True, vect__max_features=1000, vect__ngram_range=(1, 2);, score=0.878 total time=   2.0s\n",
            "[CV 3/3] END clf__max_features=0.1, clf__n_estimators=100, tfidf__use_idf=True, vect__max_features=1000, vect__ngram_range=(1, 2);, score=0.874 total time=   1.9s\n",
            "[CV 1/3] END clf__max_features=0.1, clf__n_estimators=100, tfidf__use_idf=True, vect__max_features=2000, vect__ngram_range=(1, 1);, score=0.906 total time=   1.4s\n",
            "[CV 2/3] END clf__max_features=0.1, clf__n_estimators=100, tfidf__use_idf=True, vect__max_features=2000, vect__ngram_range=(1, 1);, score=0.934 total time=   1.4s\n",
            "[CV 3/3] END clf__max_features=0.1, clf__n_estimators=100, tfidf__use_idf=True, vect__max_features=2000, vect__ngram_range=(1, 1);, score=0.912 total time=   1.3s\n",
            "[CV 1/3] END clf__max_features=0.1, clf__n_estimators=100, tfidf__use_idf=True, vect__max_features=2000, vect__ngram_range=(1, 2);, score=0.899 total time=   2.3s\n",
            "[CV 2/3] END clf__max_features=0.1, clf__n_estimators=100, tfidf__use_idf=True, vect__max_features=2000, vect__ngram_range=(1, 2);, score=0.920 total time=   2.2s\n",
            "[CV 3/3] END clf__max_features=0.1, clf__n_estimators=100, tfidf__use_idf=True, vect__max_features=2000, vect__ngram_range=(1, 2);, score=0.919 total time=   2.2s\n",
            "[CV 1/3] END clf__max_features=0.1, clf__n_estimators=100, tfidf__use_idf=False, vect__max_features=1000, vect__ngram_range=(1, 1);, score=0.892 total time=   1.2s\n",
            "[CV 2/3] END clf__max_features=0.1, clf__n_estimators=100, tfidf__use_idf=False, vect__max_features=1000, vect__ngram_range=(1, 1);, score=0.906 total time=   1.3s\n",
            "[CV 3/3] END clf__max_features=0.1, clf__n_estimators=100, tfidf__use_idf=False, vect__max_features=1000, vect__ngram_range=(1, 1);, score=0.905 total time=   1.2s\n",
            "[CV 1/3] END clf__max_features=0.1, clf__n_estimators=100, tfidf__use_idf=False, vect__max_features=1000, vect__ngram_range=(1, 2);, score=0.878 total time=   2.0s\n",
            "[CV 2/3] END clf__max_features=0.1, clf__n_estimators=100, tfidf__use_idf=False, vect__max_features=1000, vect__ngram_range=(1, 2);, score=0.881 total time=   1.9s\n",
            "[CV 3/3] END clf__max_features=0.1, clf__n_estimators=100, tfidf__use_idf=False, vect__max_features=1000, vect__ngram_range=(1, 2);, score=0.891 total time=   1.9s\n",
            "[CV 1/3] END clf__max_features=0.1, clf__n_estimators=100, tfidf__use_idf=False, vect__max_features=2000, vect__ngram_range=(1, 1);, score=0.913 total time=   1.4s\n",
            "[CV 2/3] END clf__max_features=0.1, clf__n_estimators=100, tfidf__use_idf=False, vect__max_features=2000, vect__ngram_range=(1, 1);, score=0.937 total time=   1.4s\n",
            "[CV 3/3] END clf__max_features=0.1, clf__n_estimators=100, tfidf__use_idf=False, vect__max_features=2000, vect__ngram_range=(1, 1);, score=0.912 total time=   1.4s\n",
            "[CV 1/3] END clf__max_features=0.1, clf__n_estimators=100, tfidf__use_idf=False, vect__max_features=2000, vect__ngram_range=(1, 2);, score=0.902 total time=   2.3s\n",
            "[CV 2/3] END clf__max_features=0.1, clf__n_estimators=100, tfidf__use_idf=False, vect__max_features=2000, vect__ngram_range=(1, 2);, score=0.923 total time=   2.3s\n",
            "[CV 3/3] END clf__max_features=0.1, clf__n_estimators=100, tfidf__use_idf=False, vect__max_features=2000, vect__ngram_range=(1, 2);, score=0.909 total time=   2.2s\n",
            "[CV 1/3] END clf__max_features=0.3, clf__n_estimators=50, tfidf__use_idf=True, vect__max_features=1000, vect__ngram_range=(1, 1);, score=0.888 total time=   1.3s\n",
            "[CV 2/3] END clf__max_features=0.3, clf__n_estimators=50, tfidf__use_idf=True, vect__max_features=1000, vect__ngram_range=(1, 1);, score=0.906 total time=   1.3s\n",
            "[CV 3/3] END clf__max_features=0.3, clf__n_estimators=50, tfidf__use_idf=True, vect__max_features=1000, vect__ngram_range=(1, 1);, score=0.867 total time=   1.3s\n",
            "[CV 1/3] END clf__max_features=0.3, clf__n_estimators=50, tfidf__use_idf=True, vect__max_features=1000, vect__ngram_range=(1, 2);, score=0.860 total time=   2.2s\n",
            "[CV 2/3] END clf__max_features=0.3, clf__n_estimators=50, tfidf__use_idf=True, vect__max_features=1000, vect__ngram_range=(1, 2);, score=0.902 total time=   2.3s\n",
            "[CV 3/3] END clf__max_features=0.3, clf__n_estimators=50, tfidf__use_idf=True, vect__max_features=1000, vect__ngram_range=(1, 2);, score=0.842 total time=   2.8s\n",
            "[CV 1/3] END clf__max_features=0.3, clf__n_estimators=50, tfidf__use_idf=True, vect__max_features=2000, vect__ngram_range=(1, 1);, score=0.902 total time=   1.5s\n",
            "[CV 2/3] END clf__max_features=0.3, clf__n_estimators=50, tfidf__use_idf=True, vect__max_features=2000, vect__ngram_range=(1, 1);, score=0.930 total time=   1.5s\n",
            "[CV 3/3] END clf__max_features=0.3, clf__n_estimators=50, tfidf__use_idf=True, vect__max_features=2000, vect__ngram_range=(1, 1);, score=0.870 total time=   1.5s\n",
            "[CV 1/3] END clf__max_features=0.3, clf__n_estimators=50, tfidf__use_idf=True, vect__max_features=2000, vect__ngram_range=(1, 2);, score=0.899 total time=   2.6s\n",
            "[CV 2/3] END clf__max_features=0.3, clf__n_estimators=50, tfidf__use_idf=True, vect__max_features=2000, vect__ngram_range=(1, 2);, score=0.913 total time=   2.5s\n",
            "[CV 3/3] END clf__max_features=0.3, clf__n_estimators=50, tfidf__use_idf=True, vect__max_features=2000, vect__ngram_range=(1, 2);, score=0.888 total time=   2.5s\n",
            "[CV 1/3] END clf__max_features=0.3, clf__n_estimators=50, tfidf__use_idf=False, vect__max_features=1000, vect__ngram_range=(1, 1);, score=0.895 total time=   1.3s\n",
            "[CV 2/3] END clf__max_features=0.3, clf__n_estimators=50, tfidf__use_idf=False, vect__max_features=1000, vect__ngram_range=(1, 1);, score=0.923 total time=   1.4s\n",
            "[CV 3/3] END clf__max_features=0.3, clf__n_estimators=50, tfidf__use_idf=False, vect__max_features=1000, vect__ngram_range=(1, 1);, score=0.874 total time=   1.3s\n",
            "[CV 1/3] END clf__max_features=0.3, clf__n_estimators=50, tfidf__use_idf=False, vect__max_features=1000, vect__ngram_range=(1, 2);, score=0.874 total time=   2.2s\n",
            "[CV 2/3] END clf__max_features=0.3, clf__n_estimators=50, tfidf__use_idf=False, vect__max_features=1000, vect__ngram_range=(1, 2);, score=0.885 total time=   2.2s\n",
            "[CV 3/3] END clf__max_features=0.3, clf__n_estimators=50, tfidf__use_idf=False, vect__max_features=1000, vect__ngram_range=(1, 2);, score=0.832 total time=   2.1s\n",
            "[CV 1/3] END clf__max_features=0.3, clf__n_estimators=50, tfidf__use_idf=False, vect__max_features=2000, vect__ngram_range=(1, 1);, score=0.885 total time=   1.5s\n",
            "[CV 2/3] END clf__max_features=0.3, clf__n_estimators=50, tfidf__use_idf=False, vect__max_features=2000, vect__ngram_range=(1, 1);, score=0.923 total time=   1.5s\n",
            "[CV 3/3] END clf__max_features=0.3, clf__n_estimators=50, tfidf__use_idf=False, vect__max_features=2000, vect__ngram_range=(1, 1);, score=0.881 total time=   1.5s\n",
            "[CV 1/3] END clf__max_features=0.3, clf__n_estimators=50, tfidf__use_idf=False, vect__max_features=2000, vect__ngram_range=(1, 2);, score=0.892 total time=   2.5s\n",
            "[CV 2/3] END clf__max_features=0.3, clf__n_estimators=50, tfidf__use_idf=False, vect__max_features=2000, vect__ngram_range=(1, 2);, score=0.941 total time=   2.5s\n",
            "[CV 3/3] END clf__max_features=0.3, clf__n_estimators=50, tfidf__use_idf=False, vect__max_features=2000, vect__ngram_range=(1, 2);, score=0.891 total time=   2.4s\n",
            "[CV 1/3] END clf__max_features=0.3, clf__n_estimators=100, tfidf__use_idf=True, vect__max_features=1000, vect__ngram_range=(1, 1);, score=0.892 total time=   2.3s\n",
            "[CV 2/3] END clf__max_features=0.3, clf__n_estimators=100, tfidf__use_idf=True, vect__max_features=1000, vect__ngram_range=(1, 1);, score=0.923 total time=   2.4s\n",
            "[CV 3/3] END clf__max_features=0.3, clf__n_estimators=100, tfidf__use_idf=True, vect__max_features=1000, vect__ngram_range=(1, 1);, score=0.877 total time=   2.3s\n",
            "[CV 1/3] END clf__max_features=0.3, clf__n_estimators=100, tfidf__use_idf=True, vect__max_features=1000, vect__ngram_range=(1, 2);, score=0.860 total time=   3.4s\n",
            "[CV 2/3] END clf__max_features=0.3, clf__n_estimators=100, tfidf__use_idf=True, vect__max_features=1000, vect__ngram_range=(1, 2);, score=0.885 total time=   3.3s\n",
            "[CV 3/3] END clf__max_features=0.3, clf__n_estimators=100, tfidf__use_idf=True, vect__max_features=1000, vect__ngram_range=(1, 2);, score=0.870 total time=   3.2s\n",
            "[CV 1/3] END clf__max_features=0.3, clf__n_estimators=100, tfidf__use_idf=True, vect__max_features=2000, vect__ngram_range=(1, 1);, score=0.902 total time=   2.8s\n",
            "[CV 2/3] END clf__max_features=0.3, clf__n_estimators=100, tfidf__use_idf=True, vect__max_features=2000, vect__ngram_range=(1, 1);, score=0.920 total time=   2.8s\n",
            "[CV 3/3] END clf__max_features=0.3, clf__n_estimators=100, tfidf__use_idf=True, vect__max_features=2000, vect__ngram_range=(1, 1);, score=0.870 total time=   2.8s\n",
            "[CV 1/3] END clf__max_features=0.3, clf__n_estimators=100, tfidf__use_idf=True, vect__max_features=2000, vect__ngram_range=(1, 2);, score=0.888 total time=   4.2s\n",
            "[CV 2/3] END clf__max_features=0.3, clf__n_estimators=100, tfidf__use_idf=True, vect__max_features=2000, vect__ngram_range=(1, 2);, score=0.916 total time=   3.9s\n",
            "[CV 3/3] END clf__max_features=0.3, clf__n_estimators=100, tfidf__use_idf=True, vect__max_features=2000, vect__ngram_range=(1, 2);, score=0.888 total time=   3.9s\n",
            "[CV 1/3] END clf__max_features=0.3, clf__n_estimators=100, tfidf__use_idf=False, vect__max_features=1000, vect__ngram_range=(1, 1);, score=0.885 total time=   2.3s\n",
            "[CV 2/3] END clf__max_features=0.3, clf__n_estimators=100, tfidf__use_idf=False, vect__max_features=1000, vect__ngram_range=(1, 1);, score=0.909 total time=   2.4s\n",
            "[CV 3/3] END clf__max_features=0.3, clf__n_estimators=100, tfidf__use_idf=False, vect__max_features=1000, vect__ngram_range=(1, 1);, score=0.863 total time=   2.2s\n",
            "[CV 1/3] END clf__max_features=0.3, clf__n_estimators=100, tfidf__use_idf=False, vect__max_features=1000, vect__ngram_range=(1, 2);, score=0.860 total time=   3.4s\n",
            "[CV 2/3] END clf__max_features=0.3, clf__n_estimators=100, tfidf__use_idf=False, vect__max_features=1000, vect__ngram_range=(1, 2);, score=0.899 total time=   3.2s\n",
            "[CV 3/3] END clf__max_features=0.3, clf__n_estimators=100, tfidf__use_idf=False, vect__max_features=1000, vect__ngram_range=(1, 2);, score=0.853 total time=   3.1s\n",
            "[CV 1/3] END clf__max_features=0.3, clf__n_estimators=100, tfidf__use_idf=False, vect__max_features=2000, vect__ngram_range=(1, 1);, score=0.899 total time=   2.8s\n",
            "[CV 2/3] END clf__max_features=0.3, clf__n_estimators=100, tfidf__use_idf=False, vect__max_features=2000, vect__ngram_range=(1, 1);, score=0.913 total time=   2.7s\n",
            "[CV 3/3] END clf__max_features=0.3, clf__n_estimators=100, tfidf__use_idf=False, vect__max_features=2000, vect__ngram_range=(1, 1);, score=0.891 total time=   2.6s\n",
            "[CV 1/3] END clf__max_features=0.3, clf__n_estimators=100, tfidf__use_idf=False, vect__max_features=2000, vect__ngram_range=(1, 2);, score=0.899 total time=   3.9s\n",
            "[CV 2/3] END clf__max_features=0.3, clf__n_estimators=100, tfidf__use_idf=False, vect__max_features=2000, vect__ngram_range=(1, 2);, score=0.913 total time=   3.9s\n",
            "[CV 3/3] END clf__max_features=0.3, clf__n_estimators=100, tfidf__use_idf=False, vect__max_features=2000, vect__ngram_range=(1, 2);, score=0.895 total time=   3.9s\n"
          ]
        },
        {
          "output_type": "execute_result",
          "data": {
            "text/plain": [
              "GridSearchCV(cv=3,\n",
              "             estimator=Pipeline(steps=[('vect', CountVectorizer()),\n",
              "                                       ('tfidf', TfidfTransformer()),\n",
              "                                       ('clf', RandomForestClassifier())]),\n",
              "             param_grid={'clf__max_features': [0.1, 0.3],\n",
              "                         'clf__n_estimators': [50, 100],\n",
              "                         'tfidf__use_idf': (True, False),\n",
              "                         'vect__max_features': (1000, 2000),\n",
              "                         'vect__ngram_range': ((1, 1), (1, 2))},\n",
              "             verbose=3)"
            ]
          },
          "metadata": {},
          "execution_count": 46
        }
      ]
    },
    {
      "cell_type": "markdown",
      "metadata": {
        "id": "q75IM9ZCxPAw"
      },
      "source": [
        "Finalmente, evaluamos el desempeño del mejor clasificador en validación:"
      ]
    },
    {
      "cell_type": "code",
      "metadata": {
        "id": "lL43QKefTXe8",
        "colab": {
          "base_uri": "https://localhost:8080/"
        },
        "outputId": "4a36d256-fe09-4567-d05f-d5700157a19c"
      },
      "source": [
        "print(f\"Mejor score: {grid_search.best_score_}\")\n",
        "print(\"Mejor configuración de parámetros:\")\n",
        "\n",
        "best_parameters = grid_search.best_params_\n",
        "for param in sorted(parameters.keys()):\n",
        "    print(f\"\\t{param}: {best_parameters[param]}\")"
      ],
      "execution_count": 47,
      "outputs": [
        {
          "output_type": "stream",
          "name": "stdout",
          "text": [
            "Mejor score: 0.9218214534004007\n",
            "Mejor configuración de parámetros:\n",
            "\tclf__max_features: 0.1\n",
            "\tclf__n_estimators: 50\n",
            "\ttfidf__use_idf: True\n",
            "\tvect__max_features: 2000\n",
            "\tvect__ngram_range: (1, 1)\n"
          ]
        }
      ]
    },
    {
      "cell_type": "markdown",
      "metadata": {
        "id": "bN3x9-FIxVy3"
      },
      "source": [
        "Y utilizamos el método **`score`** del objeto **`GridSearchCV`** entrenado con los datos iniciales **`X_test`** y **`y_test`**. Note que estos datos tampoco están preprocesados, y podemos entregarlos de esta manera gracias a la definición de un _pipeline_ de preprocesamiento y modelado adecuado."
      ]
    },
    {
      "cell_type": "code",
      "metadata": {
        "id": "IDE4P3WEjHOa",
        "colab": {
          "base_uri": "https://localhost:8080/"
        },
        "outputId": "68e4f200-0c94-46ca-c753-43879c2a3180"
      },
      "source": [
        "# Evaluamos con los datos de prueba.\n",
        "grid_search.score(X_test, y_test)"
      ],
      "execution_count": 48,
      "outputs": [
        {
          "output_type": "execute_result",
          "data": {
            "text/plain": [
              "0.7912280701754386"
            ]
          },
          "metadata": {},
          "execution_count": 48
        }
      ]
    },
    {
      "cell_type": "markdown",
      "metadata": {
        "id": "4r5hSQAz6d-g"
      },
      "source": [
        "## **Recursos adicionales**\n",
        "---\n",
        "\n",
        "Los siguientes enlaces corresponden a sitios en donde encontrará información muy útil para profundizar en el conocimiento de las funcionalidades de la librería *Scikit-learn* en el desarrollo y evaluación de _pipelines_ de ejecución y extracción de características y modelado de problemas de análisis de texto, además de material de apoyo teórico para reforzar estos conceptos:\n",
        "\n",
        "* [*Scikit-Learn* - Pipelines and composite estimators](https://scikit-learn.org/stable/modules/compose.html)\n",
        "* [A Simple Example of Pipeline in Machine Learning with Scikit-learn - Saptashwa Bhattacharyya](https://towardsdatascience.com/a-simple-example-of-pipeline-in-machine-learning-with-scikit-learn-e726ffbb6976\n",
        ")\n",
        "* [A Simple Guide to Scikit-learn Pipelines - Rebecca Vickery](https://medium.com/vickdata/a-simple-guide-to-scikit-learn-pipelines-4ac0d974bdcf)\n",
        "* [Automate Machine Learning Workflows with Pipelines in Python and scikit-learn - Machine Learning Mastery\n",
        "](https://machinelearningmastery.com/automate-machine-learning-workflows-pipelines-python-scikit-learn/)\n",
        "*[Optimizing sklearn pipelines - iaml](https://iaml.it/blog/optimizing-sklearn-pipelines)"
      ]
    },
    {
      "cell_type": "markdown",
      "metadata": {
        "id": "O6dwABE_Zg44"
      },
      "source": [
        "## **Créditos**\n",
        "---\n",
        "\n",
        "* **Profesor:** [Fabio Augusto Gonzalez](https://dis.unal.edu.co/~fgonza/)\n",
        "* **Asistentes docentes:** \n",
        "  * Miguel Angel Ortiz Marín\n",
        "  * Alberto Nicolai Romero Martínez\n",
        "\n",
        "**Universidad Nacional de Colombia** - *Facultad de Ingeniería*"
      ]
    }
  ]
}