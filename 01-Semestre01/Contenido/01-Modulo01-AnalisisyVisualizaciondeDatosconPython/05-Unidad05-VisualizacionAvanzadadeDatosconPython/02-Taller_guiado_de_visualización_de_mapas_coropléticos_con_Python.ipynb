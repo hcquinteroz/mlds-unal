{
  "nbformat": 4,
  "nbformat_minor": 0,
  "metadata": {
    "colab": {
      "provenance": [],
      "collapsed_sections": []
    },
    "kernelspec": {
      "name": "python3",
      "display_name": "Python 3"
    }
  },
  "cells": [
    {
      "cell_type": "markdown",
      "metadata": {
        "id": "fb9pUStUq6xf"
      },
      "source": [
        "<img src = \"https://drive.google.com/uc?export=view&id=1FSCcyEY8_AsxSOTiv88txhmxbUwfLw_P\" alt = \"Encabezado MLDS\" width = \"100%\">  </img>"
      ]
    },
    {
      "cell_type": "markdown",
      "metadata": {
        "id": "T8-xVs18vu6p"
      },
      "source": [
        "# **Visualización de mapas coropléticos con *Plotly* y *Folium*** \n",
        "---\n",
        "\n",
        "<img src=\"https://images.prismic.io/plotly-marketing-website/bd1f702a-b623-48ab-a459-3ee92a7499b4_logo-plotly.svg?auto=compress,format\" alt=\"scipy\" width=\"50%\">\n",
        "<img src=\"https://leafletjs.com/docs/images/logo.png\" alt=\"statsmodels\" width=\"45%\">\n",
        "\n",
        "En este último taller guiado discutiremos dos librerías que permiten construir visualizaciones de datos espaciales y, en particular, visualizaciones de **mapas coropléticos** en *Python*. La particularidad que tienen las herramientas que revisaremos aquí es que permiten construir **mapas  interactivos**:\n",
        "\n",
        "1. Se discutirá nuevamente **[*Plotly*](https://plot.ly/python/reference/#choropleth)** y sus funcionalidades especializadas en datos geoespaciales. \n",
        "2. Se presentará **[*Folium*](https://python-visualization.github.io/folium/)**, una librería de *Python* que permite usar las funcionalidades de **[*Leaflet.js*](https://leafletjs.com/)**, una librería de *JavaScript* especializada en la construcción de mapas interactivos."
      ]
    },
    {
      "cell_type": "markdown",
      "metadata": {
        "id": "up4qcHxFtcFf"
      },
      "source": [
        "# **0. Datos utilizados**\n",
        "---\n",
        "En este material utilizaremos varios *dataset* externos para construir las visualizaciones de ejemplo. Para cargar estos datos de una manera rápida y sin interactuar con el gestor de archivos de *Google Colab* le recomendamos simplemente ejecutar los siguientes comandos para realizar la descarga. Estos comandos solo sirven con **Google Colaboratory**, o en su defecto, en local si está trabajando en un sistema operativo *Linux*.\n",
        "\n",
        "**Ejecute la siguiente celda sin modificarla y compruebe que se hayan descargado los archivos:**"
      ]
    },
    {
      "cell_type": "code",
      "metadata": {
        "id": "HusmGVYp-WcA"
      },
      "source": [
        "# Descargar los archivos utilizados en este material.\n",
        "!pip install gdown\n",
        "#Ejecute esta celda para cargar en el entorno los archivos utilizados en el transcurso de este taller.\n",
        "!wget -q --no-check-certificate 'https://docs.google.com/uc?export=download&id=1qv93EbbIvgleCU9k9UKDdfiTD8ijby1Z' -O 2011_US_AGRI_Exports\n",
        "!wget -q --no-check-certificate 'https://docs.google.com/uc?export=download&id=1Zu_cyyUoEUFTfn5exQ-rz1IaVyhoH9Ws' -O 2014_World_GDP\n",
        "!wget -q --no-check-certificate 'https://docs.google.com/uc?export=download&id=18HnuITDegAYw5eaUsx969HgBa-v96Zvv' -O Movilidad_bogota_2015.csv\n",
        "# Mapa de Colombia\n",
        "!gdown https://drive.google.com/uc?id=1wMwLcKZ0v18Dwse0Ln1-GTimFHpgSlir \n",
        "\n",
        "!ls"
      ],
      "execution_count": null,
      "outputs": []
    },
    {
      "cell_type": "markdown",
      "metadata": {
        "id": "Xj0cvSz_NmaW"
      },
      "source": [
        "# **1. Mapas coropléticos interactivos con *Plotly***\n",
        "---\n",
        "Como se explicó en el taller de *GeoPandas*, un **mapa coroplético** es un mapa en el cual las regiones se dibujan con diferentes tonos de color que van de acuerdo a cierta estadística representativa, como por ejemplo su población, rangos de ingreso, etc. En *Plotly* se pueden crear **mapas coropléticos interactivos** con gran facilidad. Además, se pueden **exportar a archivos HTML**, manteniendo su interactividad. \n",
        "\n",
        "A continuación, estudiaremos diferentes formas de hacerlo."
      ]
    },
    {
      "cell_type": "markdown",
      "metadata": {
        "id": "8pAAQ5TeGnIM"
      },
      "source": [
        "## **1.1. Importar y configurar *Plotly***\n",
        "---\n",
        "\n",
        "Es necesario instalar *Plotly* y *GeoPandas*:"
      ]
    },
    {
      "cell_type": "code",
      "metadata": {
        "id": "nnIIloq6J-1k"
      },
      "source": [
        "!pip install -U plotly        # Instalamos Plotly (trabajaremos con la versión más reciente).\n",
        "!pip install -U geopandas     # Instalamos GeoPandas (importante para cargar las formas de los mapas de ejemplo)."
      ],
      "execution_count": null,
      "outputs": []
    },
    {
      "cell_type": "markdown",
      "metadata": {
        "id": "mEYaHrXun4lk"
      },
      "source": [
        "Importamos las librerías básicas de análisis y visualización de datos:"
      ]
    },
    {
      "cell_type": "code",
      "metadata": {
        "id": "wtRwvAm3J8GH"
      },
      "source": [
        "import pandas as pd\n",
        "import numpy as np\n",
        "import geopandas as gpd\n",
        "\n",
        "import matplotlib as mpl\n",
        "import matplotlib.pyplot as plt\n",
        "%matplotlib inline\n",
        "plt.rcParams['figure.dpi'] = 110   "
      ],
      "execution_count": null,
      "outputs": []
    },
    {
      "cell_type": "markdown",
      "metadata": {
        "id": "enMHN5Beo0M1"
      },
      "source": [
        "Importamos *Plotly* y las utilidades principales usadas en este material. "
      ]
    },
    {
      "cell_type": "code",
      "metadata": {
        "id": "h1bBYhwQrucV"
      },
      "source": [
        "import plotly\n",
        "import plotly.graph_objs as go \n",
        "import plotly.express as px\n",
        "\n",
        "import json"
      ],
      "execution_count": null,
      "outputs": []
    },
    {
      "cell_type": "markdown",
      "metadata": {
        "id": "JNoRodkYZWJU"
      },
      "source": [
        "Para conocer las versiones de todas las librerías ejecute la siguiente celda:\n"
      ]
    },
    {
      "cell_type": "code",
      "metadata": {
        "id": "jUMP_2CPqwRY"
      },
      "source": [
        "# Versiones de Python y demás librerías utilizadas.\n",
        "!python --version\n",
        "\n",
        "print('NumPy', np.__version__)\n",
        "print('Pandas', pd.__version__)\n",
        "print('Matplotlib', mpl.__version__)\n",
        "print('GeoPandas', gpd.__version__)\n",
        "print('Plotly', plotly.__version__)"
      ],
      "execution_count": null,
      "outputs": []
    },
    {
      "cell_type": "markdown",
      "metadata": {
        "id": "dxNzX3sfq3gZ"
      },
      "source": [
        "Este material se realizó con las siguientes versiones:\n",
        "* *Python*: 3.7.10\n",
        "* *NumPy*:  1.19.5\n",
        "* *Pandas*:  1.1.5\n",
        "* *Matplotlib*:  3.2.2\n",
        "* *GeoPandas*: 0.9.0\n",
        "* *Plotly*: 4.14.3"
      ]
    },
    {
      "cell_type": "markdown",
      "metadata": {
        "id": "YYi2OMrxkd2b"
      },
      "source": [
        "## **1.2 Mapas predefinidos**\n",
        "---\n",
        "*Plotly* cuenta con una selección de datos geográficos disponibles para la construcción de visualizaciones. Para generar los objetos necesarios para renderizar el mapa deseado tenemos que comenzar a construir una traza de tipo **`go.Choropleth`** con la información relevante. Algunos de los argumentos más importantes de este constructor son:\n",
        "\n",
        "* **`locationmode`** = Modo de ubicación. Puede ser uno de los siguientes: **`'ISO-3', 'USA-states', 'country names', 'geojson-id'`**. Vienen predefinidos en *Plotly*.\n",
        "* **`locations = <Lista de ubicaciones>`**: Con este argumento se declaran las ubicaciones que se desean considerar de la ubicación general. Depende de lo que se haya seleccionado en **`locationmode`**.\n",
        "\n",
        "* **`colorscale = <colores>`**: Para definir los colores a usar en la visualización podemos optar por varias opciones:\n",
        "  * Usar una cadena de texto predefinida con el nombre de un *colormap* de *Plotly*. Por ejemplo, cadenas como **`'viridis', 'spectral', 'blues' 'rainbow'`**, entre [otras](https://plotly.com/python/builtin-colorscales/).\n",
        "  * Crear una escala de colores [personalizada](https://plot.ly/python/heatmap-and-contour-colorscales/).\n",
        "\n",
        "* **`text = <Lista de etiquetas>`**: Arreglo con el texto para mostrar en cada punto.\n",
        "* **`z = <Lista de valores z>`**: Arreglo con los valores a representar en el mapa coroplético. Es decir, la profundidad percibida del área definida en el argumento **`locations`**.\n",
        "\n",
        "Por ejemplo:"
      ]
    },
    {
      "cell_type": "code",
      "metadata": {
        "id": "9Y8aI2Hevu7I"
      },
      "source": [
        "# Creamos una traza de tipo Choropleth.\n",
        "\n",
        "choropleth = go.Choropleth(locationmode = 'ISO-3',                                    # Modo de ubicación. ISO-3 es el valor predefinido en Plotly.\n",
        "                           locations = ['COL','CHL','PER','BRA','ARG', 'VEN'],        # Lista de ubicaciones como códigos de países. \n",
        "                           colorscale= 'ylgnbu',                                      # Escala de color a usar.   \n",
        "                           text= ['Colombia','Chile','Perú',                          # Texto mostrado al pasar el mouse por encima.   \n",
        "                                 'Brasil', 'Argentina', 'Venezuela'],             \n",
        "                           z=[30, 50, 21, 40],                                        # Valor o magnitud representada.\n",
        "                            colorbar = {'title': 'Escala de magnitud representada'})  # Configuración de la barra de color.\n",
        "\n",
        "# Creamos el atributo data de la figura de Plotly con el contenido de la traza.\n",
        "data = [choropleth]"
      ],
      "execution_count": null,
      "outputs": []
    },
    {
      "cell_type": "markdown",
      "metadata": {
        "id": "4US0pkl1nz4G"
      },
      "source": [
        "Una vez definido el diccionario de configuración, se configura el  objeto con los aspectos de estructura y forma del mapa (**`layout`**). En él, se define el argumento **`geo`**, que define los parámetros usados en la construcción de visualizaciones geográficas. Algunos de estos son:\n",
        "\n",
        "* **`scope`**: Define el alcance geográfico de la visualización generada. Puede ser uno de los siguientes: \n",
        "  > **`'world', 'usa', 'europe', 'asia', 'africa', 'north america', 'south america'`**.\n",
        "\n",
        "* **`projection`**: La proyección cartográfica usada en la generación de la gráfica. Este es a su vez otro diccionario y su tipo puede ser definido por el argumento **`type`**. Además, se puede definir la escala o *zoom* inicial de la figura con su argumento **`scale`**.\n",
        "\n",
        "* **`center`**: Centro por defecto de la visualización. Este argumento es un diccionario que acepta los argumentos **`lat`** y **`lon`** para definir los valores de latitud y longitud.\n",
        "\n",
        "* Otros argumentos de configuración y visibilidad de elementos geográficos, como los siguientes:\n",
        "  * Visibilidad, color y grosor de las líneas costeras (**`showcoastlines, coastlinecolor, coastlinewidth`**).\n",
        "  * Visibilidad, color y grosor de los ríos (**`showrivers, rivercolor, riverwidth`**).\n",
        "  * Visibilidad, color y grosor de las líneas de división de países (**`showcountries, countrycolor, countrywidth`**).\n",
        "  * Visibilidad y color del territorio (**`showland, landcolor`**).\n",
        "  * Visibilidad y color del oceano (**`showocean, oceancolor`**).\n",
        "  * Visibilidad y color de los lagos (**`showlakes, lakecolor`**).\n",
        "\n",
        "  Para conocer en detalle más argumentos de utilidad consulte la siguiente [página](https://plotly.com/python/reference/layout/geo/) de la documentación oficial.\n",
        "\n",
        "En este caso usaremos el mapa predefinido en *Plotly* para América del sur. Así:\n"
      ]
    },
    {
      "cell_type": "code",
      "metadata": {
        "id": "VKEHL6nHvu7K"
      },
      "source": [
        "layout = go.Layout(geo = {'scope':'south america',                                 # Alcance geográfico. En este caso representamos unicamente a américa del sur.\n",
        "                     'projection': dict(type = 'equirectangular', scale = 1),   # Tipo y escala de la proyección.\n",
        "                     'center': dict(lat = 4.6097, lon = -74.0817),            # Coordenadas del centro. En este caso usamos la latitud y longitud de Bogotá.\n",
        "                     'showocean': True, 'countrycolor': 'red'                 # Configuraciones de estilo adicionales.                \n",
        "              },\n",
        "                width = 1200, height = 600,                                    # Argumentos generales del layout.   \n",
        "              )"
      ],
      "execution_count": null,
      "outputs": []
    },
    {
      "cell_type": "markdown",
      "metadata": {
        "id": "VoIJ8FpZyB7d"
      },
      "source": [
        "Finalmente, se construye la figura pasando como parámetros los dos diccionarios creados anteriormente, y visualizamos el mapa:"
      ]
    },
    {
      "cell_type": "code",
      "metadata": {
        "id": "7z8rcH9Fvu7M"
      },
      "source": [
        "mapa = go.Figure(data=data, layout=layout)\n",
        "\n",
        "mapa.show()"
      ],
      "execution_count": null,
      "outputs": []
    },
    {
      "cell_type": "markdown",
      "metadata": {
        "id": "4LlQUkrJpEX8"
      },
      "source": [
        "Nótese la **interactividad** del mapa coroplético. Puede usar el cursor y el *scroll* para interactuar con el mapa. \n"
      ]
    },
    {
      "cell_type": "markdown",
      "metadata": {
        "id": "c7XYXRtcd9Si"
      },
      "source": [
        "\n",
        "\n",
        "Adicionalmente, las gráficas generadas dentro del *notebook* también se pueden exportar a una **página html** con el método **`write_html`**. Esto facilita enormemente la portabilidad de las visualizaciones que construya sin perder la interactividad. Una vez exporte sus visualizaciones a **HTML** podrá abrirlas en un navegador web, sin depender de Google Colaboratory ni de Python. \n",
        "\n",
        "Para exportar:"
      ]
    },
    {
      "cell_type": "code",
      "metadata": {
        "id": "q_xEQqxJrudQ"
      },
      "source": [
        "# Generamos el archivo HTML con el mapa creado.\n",
        "mapa.write_html('sur_america.html')"
      ],
      "execution_count": null,
      "outputs": []
    },
    {
      "cell_type": "markdown",
      "metadata": {
        "id": "ZX5BNbYVqSM3"
      },
      "source": [
        "Esto crea el archivo **`sur_america.html`** en el sistema de archivos. Lo invitamos a que descargue este archivo y, posteriormente, lo abra con su navegador para ver la versión web de la visualización generada."
      ]
    },
    {
      "cell_type": "markdown",
      "metadata": {
        "id": "LEbVhCmCvu7S"
      },
      "source": [
        "**Estados Unidos**\n",
        "***\n",
        "\n",
        "Para hacer otro ejemplo, usaremos datos reales de los estados de Estados Unidos para generar un mapa coroplético con la información de las [exportaciones agrícolas del año 2011](https://www.kaggle.com/prakashkumar27/2011-us-agricultural-exports-by-states) de *Kaggle*, preparado para realizar este tipo de visualizaciones.\n",
        "\n",
        "Verifique que esté cargado el archivo **`'2011_US_AGRI_Exports'`.** De lo contrario, vaya a la Sección **0. Datos utilizados** y ejecute la celda para cargar los archivos.\n"
      ]
    },
    {
      "cell_type": "code",
      "metadata": {
        "id": "0Txbx3uqI7Kr"
      },
      "source": [
        "!ls "
      ],
      "execution_count": null,
      "outputs": []
    },
    {
      "cell_type": "markdown",
      "metadata": {
        "id": "33uQ-2CbdONA"
      },
      "source": [
        "Cargamos el archivo en un DataFrame de *Pandas*:"
      ]
    },
    {
      "cell_type": "code",
      "metadata": {
        "id": "QzRSV-Pivu7S"
      },
      "source": [
        "df = pd.read_csv('2011_US_AGRI_Exports')\n",
        "df.head()"
      ],
      "execution_count": null,
      "outputs": []
    },
    {
      "cell_type": "markdown",
      "metadata": {
        "id": "1bZJSZrKB0J3"
      },
      "source": [
        "El *dataset* viene con un campo especial **`text`**, que almacena un resumen de los datos en formato de texto *html*, ideal para representarlo en nuestra visualización. Por ejemplo:"
      ]
    },
    {
      "cell_type": "code",
      "metadata": {
        "id": "ZqVMA1nLA_vg"
      },
      "source": [
        "from IPython.display import display_html, HTML     # Módulos de IPython para la visualización de código HTML.\n",
        "\n",
        "display_html(HTML(df.loc[0]['text']))              # Mostramos el contenido HTML de uno de los valores usados."
      ],
      "execution_count": null,
      "outputs": []
    },
    {
      "cell_type": "markdown",
      "metadata": {
        "id": "cxWZATS5vu7W"
      },
      "source": [
        "Ahora construimos el diccionario de datos con algunos argumentos adicionales para los marcadores:"
      ]
    },
    {
      "cell_type": "code",
      "metadata": {
        "id": "w_Trjqzqvu7W"
      },
      "source": [
        "usa_trace = go.Choropleth(locations = df['code'],            # Columna donde se encuentran los códigos de estados.\n",
        "                          locationmode = 'USA-states',       # Predefinido en Plotly para el scope de USA.\n",
        "                          text = df['text'],                 # Columna donde se encuentra el texto HTML a representar.\n",
        "                          z = df['total exports'],           # Columna donde tenemos el dato que vamos a representar en el mapa (total de exportaciones).\n",
        "                          marker = dict(                     # Argumento de configuración de los marcadores.\n",
        "                                    line = {\n",
        "                                            'color' : 'rgb(255,255,255)', # Marcadores de color blanco.\n",
        "                                            'width' : 1                   # Grosor del marcador.\n",
        "                                          }),\n",
        "                          colorbar = {                       # Argumento de configuración de la barra de colores.\n",
        "                                      'title':\"Millones USD\"              # Título de la barra de colores.\n",
        "                                    },\n",
        "                          colorscale = 'Bluered_r'           # Paleta/escala de colores.\n",
        "                          ) \n",
        "\n",
        "# Atributo data de la figura de Plotly.\n",
        "data = [usa_trace]"
      ],
      "execution_count": null,
      "outputs": []
    },
    {
      "cell_type": "markdown",
      "metadata": {
        "id": "lhwOOJKlvu7Y"
      },
      "source": [
        "Además, construimos el *layout* con más argumentos:"
      ]
    },
    {
      "cell_type": "code",
      "metadata": {
        "id": "bS0rrkakvu7Z"
      },
      "source": [
        "layout = dict(title = 'Exportaciones agrícolas de USA en 2011 por Estado',\n",
        "              geo = dict(scope='usa',                   # Alcance geográfico de Estados Unidos.\n",
        "                         showlakes = True,              # Permitimos la visualización de lagos en la geografía mostrada.\n",
        "                         lakecolor = 'rgb(85,173,240)') # Color de los lagos.  (Un tono de azul claro)\n",
        "             )"
      ],
      "execution_count": null,
      "outputs": []
    },
    {
      "cell_type": "markdown",
      "metadata": {
        "id": "NeHnJZEas3GJ"
      },
      "source": [
        "Creamos la figura:"
      ]
    },
    {
      "cell_type": "code",
      "metadata": {
        "id": "GTsmvroavu7b"
      },
      "source": [
        "mapa = go.Figure(data = data, layout = layout)\n",
        "mapa.show()"
      ],
      "execution_count": null,
      "outputs": []
    },
    {
      "cell_type": "markdown",
      "metadata": {
        "id": "Q9o-_1MKDEYk"
      },
      "source": [
        "Si pasa el mouse sobre algún estado, se muestra el texto con el resumen de los valores correspondientes a cada estado. Además, podemos ver cómo mediante una simple configuración se muestran en la parte superior izquierda los grandes lagos que limitan con Canadá."
      ]
    },
    {
      "cell_type": "markdown",
      "metadata": {
        "id": "Hpmt8NSpvu7g"
      },
      "source": [
        "**Mapa mundial**\n",
        "***\n",
        "\n",
        "Para este ejemplo, utilizaremos datos con el Producto Interno Bruto (**GDP** del inglés *Gross Domestic Product*) de las naciones del mundo en billones de dólares registrado en el año 2014.\n"
      ]
    },
    {
      "cell_type": "code",
      "metadata": {
        "id": "38l4cW1Qvu7h"
      },
      "source": [
        "# Cargamos el DataFrame con la información requerida. Verifique que el archivo esté cargado en el entorno.\n",
        "\n",
        "df = pd.read_csv('2014_World_GDP')\n",
        "df.head()"
      ],
      "execution_count": null,
      "outputs": []
    },
    {
      "cell_type": "code",
      "metadata": {
        "id": "5UHD5lPyvu7k"
      },
      "source": [
        "data = go.Choropleth(        \n",
        "        locations = df['CODE'],            # Códigos por país usados en la ubicación del scope mundial.\n",
        "        z = df['GDP (BILLIONS)'],          # Valor representado por la escala de color. Usamos el GDP nacional.\n",
        "        text = df['COUNTRY'],              # Texto mostrado al pasar el mouse. En este caso mostramos el nombre del país.\n",
        "        colorbar = {                       # Configuración (título) de la barra de colores.\n",
        "            'title' : 'GDP Billones USD'   \n",
        "            },\n",
        "        colorscale = 'ylgnbu'              # Paleta/escala de color usada.\n",
        "      ) "
      ],
      "execution_count": null,
      "outputs": []
    },
    {
      "cell_type": "markdown",
      "metadata": {
        "id": "W7oJ1bBTU7nm"
      },
      "source": [
        "En este caso definimos la [proyección cartográfica](https://es.wikipedia.org/wiki/Proyecci%C3%B3n_cartogr%C3%A1fica) del mapa, la cual determina la representación del globo. Puede tomar cualquiera de los siguientes valores: \n",
        "*  **`equirectangular`**\n",
        "*  **`mercator`**\n",
        "*  **`orthographic`**\n",
        "*  **`natural earth`**\n",
        "*  **`kavrayskiy7`**\n",
        "*  **`miller`**\n",
        "*  **`robinson`**\n",
        "*  **`eckert4`**\n",
        "*  **`azimuthal equal area`**\n",
        "*  **`azimuthal equidistant`**\n",
        "*  **`conic equal area`**\n",
        "*  **`conic conformal`**\n",
        "*  **`conic equidistant`**\n",
        "*  **`gnomonic`**\n",
        "*  **`stereographic`**\n",
        "*  **`mollweide`**\n",
        "*  **`hammer`**\n",
        "*  **`transverse mercator`**\n",
        "*  **`albers usa`**\n",
        "*  **`winkel tripel`**\n",
        "*  **`aitoff`**\n",
        "*  **`sinusoidal`** \n",
        "\n",
        "Lo invitamos a probar los distintos parámetros reemplazando el valor del argumento **`projection`** del diccionario **`layout`**. Para más información, consulte la [documentación](https://plotly.com/python/map-configuration/#map-projections)."
      ]
    },
    {
      "cell_type": "code",
      "metadata": {
        "id": "HEcZdQn1vu7m"
      },
      "source": [
        "layout = dict(\n",
        "    title = '2014 Global GDP',\n",
        "    geo = dict(\n",
        "        # No es necesario configurar el \"scope\". Por defecto scope='world\".\n",
        "        projection = {'type':'orthographic'},      # Pruebe otras opciones de la lista de arriba.\n",
        "        showocean = True,\n",
        "        oceancolor = 'rgb(85,173,240)'            # Color del océano.\n",
        "    ),\n",
        "    width = 800\n",
        ")"
      ],
      "execution_count": null,
      "outputs": []
    },
    {
      "cell_type": "code",
      "metadata": {
        "id": "Ku0p7urfvu7o"
      },
      "source": [
        "# Mostramos el mapa generado.\n",
        "mapa = go.Figure(data = data, layout = layout)\n",
        "mapa.show()"
      ],
      "execution_count": null,
      "outputs": []
    },
    {
      "cell_type": "markdown",
      "metadata": {
        "id": "jjhmzqRu0qGp"
      },
      "source": [
        "Pruebe arrastrar el mapa con el clic izquierdo presionado para ver la información de otros países."
      ]
    },
    {
      "cell_type": "markdown",
      "metadata": {
        "id": "DUnsc10I46em"
      },
      "source": [
        "## **1.3. Cargando un mapa nuevo**\n",
        "---\n",
        "A continuación, cargaremos el mapa de Colombia con la división política a nivel de departamentos. Para esto debemos cargar la información geográfica para realizar la representación específica de nuestra tarea.\n",
        "\n",
        "> **Nota**: El archivo **`colombia.zip`** se descargó desde la **Sección 0** de este taller."
      ]
    },
    {
      "cell_type": "markdown",
      "metadata": {
        "id": "_4H5EMFkxTV-"
      },
      "source": [
        "Ejecute la siguiente instrucción para descomprimir el archivo:\n",
        "\n"
      ]
    },
    {
      "cell_type": "code",
      "metadata": {
        "id": "s1nbAkQVxnWX"
      },
      "source": [
        "!unzip colombia.zip"
      ],
      "execution_count": null,
      "outputs": []
    },
    {
      "cell_type": "markdown",
      "metadata": {
        "id": "7F24rXU6xoJc"
      },
      "source": [
        "Cuando haya descomprimido el archivo, usaremos *GeoPandas* para crear el *GeoDataFrame* con la división política de los Departamentos en Colombia:"
      ]
    },
    {
      "cell_type": "code",
      "metadata": {
        "id": "o-XQ3aEBu7Rw"
      },
      "source": [
        "col_deps = gpd.read_file(r\"shapes/Limite Departamental.shp\") # Información geográfica de los departamentos de Colombia."
      ],
      "execution_count": null,
      "outputs": []
    },
    {
      "cell_type": "markdown",
      "metadata": {
        "id": "R7YpW7meXIkE"
      },
      "source": [
        "Este *dataset* contiene información geográfica muy detallada de las fronteras de cada departamento. Para evitar problemas de rendimiento en la gráfica generada, se recomienda simplificar la geometría de su objeto *GeoDataFrame*. Para esto, puede utilizar el método **`simplify`**, que recibe un valor de tolerancia sobre el cuál generar la nueva geometría simplificada."
      ]
    },
    {
      "cell_type": "code",
      "metadata": {
        "id": "ta1kbPE8WGHQ"
      },
      "source": [
        "col_deps['geometry'] = col_deps['geometry'].simplify(1e-2)"
      ],
      "execution_count": null,
      "outputs": []
    },
    {
      "cell_type": "markdown",
      "metadata": {
        "id": "U7i8-hSqzUl0"
      },
      "source": [
        "Mostramos la cabecera del *GeoDataFrame* que contiene:\n",
        "* **`COD_DEPART`**: código del Departamento.\n",
        "* **`COUNT`**: número de municipios en el Departamento.\n",
        "* **`Nombre`**: nombre del Departamento o Distrito.\n",
        "* **`geometry`**: geometría (polígono) del mapa"
      ]
    },
    {
      "cell_type": "code",
      "metadata": {
        "id": "k1HPODR8CcVh"
      },
      "source": [
        "col_deps.head()"
      ],
      "execution_count": null,
      "outputs": []
    },
    {
      "cell_type": "markdown",
      "metadata": {
        "id": "lDKBdIdqhQpK"
      },
      "source": [
        "Para usar este mapa desde *Plotly*, tenemos que convertirlo a formato **`geojson`** mediante la función **`to_json()`**. Luego, se cargan los datos mediante la librería **`json`** al objeto **`col_json`**. Este objeto será utilizado para informarle a *Plotly* cuáles son las formas que debe representar en el mapa posteriormente."
      ]
    },
    {
      "cell_type": "code",
      "metadata": {
        "id": "3IUmDSZ29k3r"
      },
      "source": [
        "# Usamos json.loads para almacenar un objeto en este formato a partir de un GeoDataFrame.\n",
        "\n",
        "col_json = json.loads(col_deps.to_json())"
      ],
      "execution_count": null,
      "outputs": []
    },
    {
      "cell_type": "markdown",
      "metadata": {
        "id": "ez2k3iuaiLC7"
      },
      "source": [
        "Para entender la nueva representación de los datos, mostraremos el primer elemento:"
      ]
    },
    {
      "cell_type": "code",
      "metadata": {
        "id": "sXaJtbTNiKR_"
      },
      "source": [
        "# Convertimos la información del GeoDataFrame al formato JSON.\n",
        "\n",
        "print(col_json['features'][0])"
      ],
      "execution_count": null,
      "outputs": []
    },
    {
      "cell_type": "markdown",
      "metadata": {
        "id": "dbwo1nPMilBP"
      },
      "source": [
        "Se trata de un diccionario que contiene entre otras cosas: una llave **`properties`**, donde están los datos de los departamentos; y una llave **`geometry`**, donde se almacena la geometría del mapa de ese departamento.\n",
        "\n",
        "A continuación, creamos y visualizamos el mapa coroplético con los **departamentos** de Colombia, mostrando el número de municipios de cada departamento. Para esto utilizamos la función de *Plotly Express* **`px.choropleth`**.\n",
        "\n",
        "> **Nota**: La ejecución puede tardar unos minutos antes de generar los resultados."
      ]
    },
    {
      "cell_type": "code",
      "metadata": {
        "id": "942-qFgn91-9"
      },
      "source": [
        "col = px.choropleth(col_deps,                           # El GeoDataFrame/DataFrame donde están los datos\n",
        "                    geojson = col_json,                 # GeoJSON obtenido a partir de la geometría del GeoDataFrame.\n",
        "                    color=\"COUNT\",                      # Nombre de la columna del dataframe que queremos representar en el mapa coroplético\n",
        "                    locations=\"Nombre\",                 # Nombre de la columna del dataframe que coincide con las localizaciones\n",
        "                    featureidkey=\"properties.Nombre\",   # Llave dentro del GeoJSON usada como referencia.  \n",
        "                    color_continuous_scale  = \"Agsunset\",\n",
        "                    projection=\"mercator\",\n",
        "                    labels={'COUNT':'Número de<br>Municipios'} # Como queremos que aparezca la información\n",
        ")\n",
        "col.update_geos(fitbounds=\"locations\", visible=False) # Para que aparezca centrado donde están los datos (en Colombia)\n",
        "col.update_layout(margin={\"r\":0,\"t\":0,\"l\":0,\"b\":0})\n",
        "col.show()"
      ],
      "execution_count": null,
      "outputs": []
    },
    {
      "cell_type": "markdown",
      "metadata": {
        "id": "wBSsmMX_M3C3"
      },
      "source": [
        "Finalmente, exportamos el mapa a HTML:"
      ]
    },
    {
      "cell_type": "code",
      "metadata": {
        "id": "7SzKBM5fM6nb"
      },
      "source": [
        "col.write_html(\"colombia.html\")"
      ],
      "execution_count": null,
      "outputs": []
    },
    {
      "cell_type": "markdown",
      "metadata": {
        "id": "6z1TvRislfkD"
      },
      "source": [
        "Descargue el mapa exportado y ábralo en el navegador web como cualquier página web tradicional."
      ]
    },
    {
      "cell_type": "markdown",
      "metadata": {
        "id": "cBV772A5fG6m"
      },
      "source": [
        "## **1.4. Usando *Mapbox***\n",
        "---\n",
        "\n",
        "En esta sección presentaremos los mapas de **_Mapbox_**, una de las funcionalidades avanzadas para la construcción de mapas de *Plotly*. \n",
        "\n",
        "Inicialmente, procedemos a crear la interacción con ***Mapbox***, un servicio en línea para el acceso a datos geográficos a partir de una consulta definida en el lado del cliente. Es posible utilizar diferentes capas para los mapas.\n",
        "\n",
        "1. Si desea puede crear una cuenta en [**mapbox**](https://www.mapbox.com/).\n",
        "2. En caso de crear su cuenta, *mapbox* generará un token de uso personal. En nuestro ejemplo usaremos un **token** de prueba, usado para la demostración.\n",
        "\n",
        "> **Nota:** El token de prueba podría quedar inactivo o ser deshabilitado. Si esto ocurre, se sugiere a cada estudiante crear su propio ***TOKEN DE ACCESO*** en [**mapbox**](https://www.mapbox.com/).\n",
        "\n",
        "![](http://c1.staticflickr.com/1/580/23252769485_032fe65b95_h.jpg)"
      ]
    },
    {
      "cell_type": "markdown",
      "metadata": {
        "id": "5jBb8RYrtBkq"
      },
      "source": [
        "**Colombia: población en algunas ciudades**\n",
        "***\n",
        "Para este ejemplo usaremos unos datos recopilados manualmente de varias ciudades de Colombia, en donde se tiene información de la posición geoespacial, el nombre, la población estimada y el área total en kilómetros cuadrados. Nótese que en este ejemplo no necesitamos tener disponibles las formas del mapa para poder trabajar, para eso usaremos *Mapbox*."
      ]
    },
    {
      "cell_type": "code",
      "metadata": {
        "id": "uFPpcaIR83IJ"
      },
      "source": [
        "# Lista de datos de algunas ciudades en Colombia\n",
        "\n",
        "data = [['Bogotá', 4.6097102, -74.081749, 8264029, 1587], \n",
        "        ['Cali', 3.4372201, -76.5224991, 2434110, 562], \n",
        "        ['Medellín', 6.2518401, -75.563591, 2522081, 380],\n",
        "        ['Barranquilla', 10.9685402, -74.7813187, 1232226, 166],\n",
        "        ['Cartagena de Indias', 10.3997202, -75.5144424, 1006323, 709], \n",
        "        ['Cúcuta', 7.8939099, -72.5078201, 652320, 1176],\n",
        "        ['Bucaramanga', 7.1253901, -73.1197968, 522439, 162],\n",
        "        ['Pereira', 4.8133302, -75.6961136, 406348, 702],\n",
        "        ['Santa Marta', 11.2407904, -74.1990433, 499219, 2448], \n",
        "        ['Ibagué', 4.43889, -75.2322235, 543564, 1439],\n",
        "        ['Pasto', 1.2136101, -77.2811127, 386598, 1131], \n",
        "        ['Manizales', 5.0688901, -75.5173798, 373862, 571],\n",
        "        ['Neiva', 2.9273, -75.2818909, 329462, 1553]]\n",
        "\n",
        "df_col = pd.DataFrame(data, columns = ['Ciudad', 'Lat', 'Lon', 'Población', 'Área_total_km2']) \n",
        "df_col"
      ],
      "execution_count": null,
      "outputs": []
    },
    {
      "cell_type": "markdown",
      "metadata": {
        "id": "-2qIEqRGfeRw"
      },
      "source": [
        "Construiremos un mapa de burbuja de Colombia donde el **tamaño** del marcador sea dado por la población.\n",
        "\n",
        "Para esto, crearemos una traza de tipo **`go.Scattermapbox`** de la siguiente forma:"
      ]
    },
    {
      "cell_type": "code",
      "metadata": {
        "id": "4hexNaL683G5"
      },
      "source": [
        "# Atributo data del mapa.\n",
        "\n",
        "scatter_mapbox = go.Scattermapbox(\n",
        "                    lon = df_col['Lon'],   # Longitud de los marcadores.\n",
        "                    lat = df_col['Lat'],   # Latitud de los marcadores.\n",
        "                    marker = dict(\n",
        "                        size = 20 + df_col['Población']/200000,              # Tamaño del marcador a partir del valor reescalado de la población.                                                               \n",
        "                    ),\n",
        "                    text=df_col['Ciudad']  # Texto mostrado al pasar el mouse. En este caso es simplemente el nombre de la ciudad.\n",
        "                )\n",
        "\n",
        "data = [scatter_mapbox]"
      ],
      "execution_count": null,
      "outputs": []
    },
    {
      "cell_type": "markdown",
      "metadata": {
        "id": "uE6FvJtFQ1vK"
      },
      "source": [
        "El siguiente es un token de prueba de *Mapbox*. Recuerde que puede obtener uno personal registrándose como se indicó arriba."
      ]
    },
    {
      "cell_type": "code",
      "metadata": {
        "id": "IuveBs6xQ1MI"
      },
      "source": [
        "#Token de prueba de Mapbox. Puede crear una cuenta y usar su propio token reemplazando este código.\n",
        "token='pk.eyJ1IjoiZmVyZXN0cmVwb2NhIiwiYSI6ImNqdHQ4Zzc4MTE5MDA0NG1zeXlwMHBmZjMifQ.gdi4f1MAJor5u5_YWGCzOw' "
      ],
      "execution_count": null,
      "outputs": []
    },
    {
      "cell_type": "markdown",
      "metadata": {
        "id": "i7HihU6IREVX"
      },
      "source": [
        "Ahora definimos el *layout* de la gráfica. En él se debe indicar el *token* de *Mapbox*."
      ]
    },
    {
      "cell_type": "code",
      "metadata": {
        "id": "3ZUDm9_ydB6l"
      },
      "source": [
        "# Detalles del layout.\n",
        "\n",
        "layout = go.Layout(\n",
        "        title = 'Ciudades de Colombia',\n",
        "        #Configuración interna de Mapbox\n",
        "        mapbox = dict( \n",
        "            accesstoken = token,              # Token de acceso de Mapbox\n",
        "            center= dict(lat=4.6, lon=-74.0), # Coordenada donde centrar el mapa inicialmente (Bogotá aprox.).\n",
        "            zoom=5.2,                         # Acercamiento inicial del mapa.\n",
        "        ),\n",
        "        width = 1000,\n",
        "        height = 1000\n",
        "    )"
      ],
      "execution_count": null,
      "outputs": []
    },
    {
      "cell_type": "code",
      "metadata": {
        "id": "OZwQhtzZdE7r"
      },
      "source": [
        "## Generación de la figura\n",
        "fig = go.Figure(data=data, layout=layout)\n",
        "fig.show()"
      ],
      "execution_count": null,
      "outputs": []
    },
    {
      "cell_type": "markdown",
      "metadata": {
        "id": "u3ehW-e1rW4b"
      },
      "source": [
        "Aunque este mapa es muy sencillo, en este ejemplo se puede apreciar algo muy interesante de trabajar con los mapas de *Mapbox*: intente hacer *zoom in* en cualquier ciudad de su interés y vea el nivel de detalle que se podría alcanzar al trabajar con un servicio en la nube."
      ]
    },
    {
      "cell_type": "markdown",
      "metadata": {
        "id": "53SmdGukY9yn"
      },
      "source": [
        "**Colombia: mapa de municipios**\n",
        "***\n",
        "Ahora generaremos un mapa coroplético con la función **`px.choroplethmapbox`**, análoga a la función **`px.choropleth`** discutida previamente, pero apoyada por la funcionalidad de *Mapbox*. Para esto, utilizaremos un *dataset* de la geometría de los municipios de Colombia para representar la división política de Antioquia, el departamento con más municipios del país.\n",
        "\n",
        "Para empezar, cargaremos el *GeoDataFrame*:"
      ]
    },
    {
      "cell_type": "code",
      "metadata": {
        "id": "A9FTRY6QY-oA"
      },
      "source": [
        "col_mun = gpd.read_file(r\"shapes/Limite Municipal.shp\") # Municipios\n",
        "\n",
        "col_mun.head()"
      ],
      "execution_count": null,
      "outputs": []
    },
    {
      "cell_type": "markdown",
      "metadata": {
        "id": "v8BMUdZecv9T"
      },
      "source": [
        "Realizaremos selección condicional para obtener únicamente los municipios del departamento de Antioquia."
      ]
    },
    {
      "cell_type": "code",
      "metadata": {
        "id": "V3OMDoGLasOp"
      },
      "source": [
        "col_mun = col_mun[col_mun['DEPARTAMEN']  == 'ANTIOQUIA']"
      ],
      "execution_count": null,
      "outputs": []
    },
    {
      "cell_type": "markdown",
      "metadata": {
        "id": "M-4zoCHJc3Oc"
      },
      "source": [
        "Al igual que antes, simplificaremos la geometría para mejorar el rendimiento."
      ]
    },
    {
      "cell_type": "code",
      "metadata": {
        "id": "NuDMVJu_Zibh"
      },
      "source": [
        "col_mun['geometry'] = col_mun['geometry'].simplify(1e-3)"
      ],
      "execution_count": null,
      "outputs": []
    },
    {
      "cell_type": "markdown",
      "metadata": {
        "id": "V4oiOmz7c_e_"
      },
      "source": [
        "Creamos el *GeoJSON* correspondiente:"
      ]
    },
    {
      "cell_type": "code",
      "metadata": {
        "id": "ACW5o0mJZibq"
      },
      "source": [
        "# Usamos json.loads para almacenar un objeto en este formato a partir de un GeoDataFrame.\n",
        "\n",
        "mun_json = json.loads(col_mun.to_json())"
      ],
      "execution_count": null,
      "outputs": []
    },
    {
      "cell_type": "markdown",
      "metadata": {
        "id": "H97bTUfTds3Z"
      },
      "source": [
        "Para indicarle a *Mapbox* el centro de nuestra visualización, generamos el centroide de la unión de todos los municipios:"
      ]
    },
    {
      "cell_type": "code",
      "metadata": {
        "id": "Rcwug_edbQ0L"
      },
      "source": [
        "center = col_mun.loc[:, 'geometry'].unary_union.centroid.coords[0]\n",
        "\n",
        "center"
      ],
      "execution_count": null,
      "outputs": []
    },
    {
      "cell_type": "markdown",
      "metadata": {
        "id": "ToAhpH31dalR"
      },
      "source": [
        "Vamos a codificar el área (en Km$^2$) con ayuda del color y generar la visualización centrada"
      ]
    },
    {
      "cell_type": "code",
      "metadata": {
        "id": "iQYwuZx8Zibq"
      },
      "source": [
        "col = px.choropleth_mapbox(col_mun,                          # El GeoDataFrame/DataFrame donde están los datos\n",
        "                    geojson = mun_json,                      # GeoJSON obtenido a partir de la geometría del GeoDataFrame.\n",
        "                    color=\"AREA_KM\",                         # Nombre de la columna del dataframe que queremos representar en el mapa coroplético, en este caso por área.\n",
        "                    locations=\"NOMBRE_ENT\",                  # Nombre de la columna del dataframe que coincide con las localizaciones\n",
        "                    featureidkey=\"properties.NOMBRE_ENT\",    # Llave dentro del GeoJSON usada como referencia.  \n",
        "                    opacity = 0.5,                           # Definimos un valor de opacidad para las áreas dibujadas.   \n",
        "                    color_continuous_scale  = \"Agsunset\",    # Paleta/escala de color usada.\n",
        "                    center={\"lon\": center[0],                # Centro definido con el centroide del departamento.\n",
        "                            \"lat\": center[1]},\n",
        "                    mapbox_style=\"carto-positron\")           # Estilo de visualización de mapbox.\n",
        "\n",
        "col.update_geos(fitbounds=\"locations\", visible=False) # Para que aparezca centrado donde están los datos (en Colombia)\n",
        "col.update_layout(margin={\"r\":0,\"t\":0,\"l\":0,\"b\":0}, height = 600)\n",
        "col.show()"
      ],
      "execution_count": null,
      "outputs": []
    },
    {
      "cell_type": "markdown",
      "metadata": {
        "id": "CXK3TI3PqmTe"
      },
      "source": [
        "# **2. Mapas coropléticos con Leaflet y Folium**\n",
        "---\n",
        "\n",
        "*Leaflet* es una librería de código abierto escrita en *JavaScript* y diseñada con el objetivo de producir mapas interactivos compatibles con dispositivos móviles. Por su parte, *Folium* es una librería de *Python* que sirve de *wrapper* de *Leaflet* para *Python*, es decir, sirve de puente entre *Python* y *Leaflet*."
      ]
    },
    {
      "cell_type": "markdown",
      "metadata": {
        "id": "1sDH-_U_kNO9"
      },
      "source": [
        "### **2.1. Importar y configurar *Folium***\n",
        "---\n",
        "Para empezar, instalamos *Folium* mediante **`pip`**."
      ]
    },
    {
      "cell_type": "code",
      "metadata": {
        "id": "Iam6Cg_SkYBZ"
      },
      "source": [
        "# Instalamos folium\n",
        "!pip install folium"
      ],
      "execution_count": null,
      "outputs": []
    },
    {
      "cell_type": "markdown",
      "metadata": {
        "id": "rx1bADBckr1D"
      },
      "source": [
        "Ahora importamos en nuestro entorno de ejecución las librerías necesarias:"
      ]
    },
    {
      "cell_type": "code",
      "metadata": {
        "id": "IEr1uwxSzFcL"
      },
      "source": [
        "# Importamos folium y algunos plug-ins adicionales que usaremos.\n",
        "import folium\n",
        "from folium.plugins import FastMarkerCluster\n",
        "from folium.plugins import MarkerCluster\n",
        "from folium.plugins import HeatMap"
      ],
      "execution_count": null,
      "outputs": []
    },
    {
      "cell_type": "markdown",
      "metadata": {
        "id": "nlI1iUG9uwBM"
      },
      "source": [
        "Este taller guiado fue desarrollado con la versión de **Folium: 0.8.3**."
      ]
    },
    {
      "cell_type": "code",
      "metadata": {
        "id": "rlCi_mQlCvyw"
      },
      "source": [
        "# Verificamos la versión de Folium a utilizar\n",
        "print(f'Folium: {folium.__version__}')"
      ],
      "execution_count": null,
      "outputs": []
    },
    {
      "cell_type": "markdown",
      "metadata": {
        "id": "8EC9n6X-obQp"
      },
      "source": [
        "### **2.2. Datos: Movilidad en Bogotá**\n",
        "---\n",
        "Para los ejemplos creados a continuación usaremos algunos datos de movilidad en la ciudad de Bogotá. Estos datos corresponden a la caracterización de la movilidad en Bogotá en el año 2015 realizada por la Secretaría Distrital de Movilidad y tomada de la página de Datos Abiertos Colombia disponible en el siguiente [enlace](https://www.datos.gov.co/Transporte/Encuesta-de-movilidad-de-Bogot-2015-Caracterizaci-/mvbb-bn7j).\n",
        "\n",
        "> **Nota:** El archivo correspondiente se cargó en las celdas de la sección 0 de esta guía.\n"
      ]
    },
    {
      "cell_type": "code",
      "metadata": {
        "id": "A7wcAS_Bzfpu"
      },
      "source": [
        "# Cargamos los datos con los que trabajaremos en un DataFrame de Pandas.\n",
        "data = pd.read_csv(\"Movilidad_bogota_2015.csv\")"
      ],
      "execution_count": null,
      "outputs": []
    },
    {
      "cell_type": "markdown",
      "metadata": {
        "id": "K8dj789h5-GG"
      },
      "source": [
        "Antes de iniciar, realizaremos una exploración inicial de los datos a nuestra disposición."
      ]
    },
    {
      "cell_type": "code",
      "metadata": {
        "id": "sGOaWbJ901_x"
      },
      "source": [
        "# Información acerca del DataFrame.\n",
        "data.info()"
      ],
      "execution_count": null,
      "outputs": []
    },
    {
      "cell_type": "code",
      "metadata": {
        "id": "nOVK0K-X0-bM"
      },
      "source": [
        "# Observamos las primeras filas.\n",
        "data.head()"
      ],
      "execution_count": null,
      "outputs": []
    },
    {
      "cell_type": "markdown",
      "metadata": {
        "id": "1S55tgciw1wb"
      },
      "source": [
        "#### **2.2.1 Entendimiento y preparación de los datos**\n",
        "---\n",
        "Antes de empezar, debemos corregir algunos detalles. Primero, eliminamos los registros con valores faltantes:"
      ]
    },
    {
      "cell_type": "code",
      "metadata": {
        "id": "WfzH-Zf2DOmy"
      },
      "source": [
        "# Eliminamos los valores faltantes.\n",
        "data.dropna(inplace=True, \n",
        "            how=\"any\",\n",
        "            subset=[\"LATITUD_ORIGEN\", \"LATITUD_DESTINO\", \"LONGITUD_ORIGEN\", \"LONGITUD_DESTINO\"],\n",
        "            axis=0)"
      ],
      "execution_count": null,
      "outputs": []
    },
    {
      "cell_type": "code",
      "metadata": {
        "id": "ck6n_SWWEKYQ"
      },
      "source": [
        "# Contamos el numero de filas resultante.\n",
        "data[\"LATITUD_DESTINO\"].count()"
      ],
      "execution_count": null,
      "outputs": []
    },
    {
      "cell_type": "markdown",
      "metadata": {
        "id": "T-44b6Q9tzx8"
      },
      "source": [
        "Ahora, haremos algunos leves ajustes y preparaciones para construir nuestra visualización. En primer lugar, definiremos una variable con la posición del centroide de la ciudad de Bogotá, que nos será de utilidad más adelante."
      ]
    },
    {
      "cell_type": "code",
      "metadata": {
        "id": "JHx7J1-j8Uak"
      },
      "source": [
        "# Las coordenadas geográficas centrales de Bogotá.\n",
        "\n",
        "Bog_lat_long = (4.624335, -74.063644)\n",
        "Bog_lat_long"
      ],
      "execution_count": null,
      "outputs": []
    },
    {
      "cell_type": "markdown",
      "metadata": {
        "id": "iZ2ukGAduCn-"
      },
      "source": [
        "Después, revisando los datos del *dataset* nos damos cuenta de una inconsistencia entre el formato almacenado y las latitudes y longitudes reales. Por ejemplo:"
      ]
    },
    {
      "cell_type": "code",
      "metadata": {
        "id": "9tYdbzWM8t8E"
      },
      "source": [
        "# Observamos algunos de los datos de latitud y longitud del dataset.\n",
        "data.loc[0, 'LATITUD_ORIGEN'], data.loc[0, 'LONGITUD_ORIGEN']"
      ],
      "execution_count": null,
      "outputs": []
    },
    {
      "cell_type": "markdown",
      "metadata": {
        "id": "mC2cCehPxD5I"
      },
      "source": [
        "Como vemos, los datos en el dataset no se encuentran correctamente formateados, así que los formateamos correctamente. Aplicando conocimiento del dominio en datos espaciales es posible identificar que algunos valores son incorrectos y corresponden a coordenadas fuera de Bogotá. Inicialmente, veremos estadísticas descriptivas de las coordenadas para ver algunos posibles valores atípicos."
      ]
    },
    {
      "cell_type": "code",
      "metadata": {
        "id": "m2djdWUXK22Z"
      },
      "source": [
        "data[[\"LATITUD_ORIGEN\", \"LATITUD_DESTINO\", \"LONGITUD_ORIGEN\", \"LONGITUD_DESTINO\"]].describe()"
      ],
      "execution_count": null,
      "outputs": []
    },
    {
      "cell_type": "markdown",
      "metadata": {
        "id": "Fii-cCg1SdwJ"
      },
      "source": [
        "Algunos valores parecen correctos, pero están en una escala incorrecta; mientras que otros, son claramente valores atípicos, como en el valor $0$ identificado en el mínimo de la variable de latitud del destino o en el máximo de la variable de longitud destino.\n",
        "\n",
        "Gracias al conocimiento del dominio, decidimos limitar las coordenadas de la siguiente forma, dando un poco de margen para el área metropolitana de la ciudad:\n",
        "\n",
        "* **Latitud:** Valores entre $4.4$ y $5.0$, dando un margen para viajes a municipios aledaños como Chipaque, Chia o Cajicá.\n",
        "* **Longitud:** Valores entre $-74.3$ y $-73.9$, dando un margen para viajes a municipios aledaños como Madrid, Mosquera, Choachí o La Calera.\n",
        "\n",
        "Ahora convertiremos y filtraremos los datos obtenidos para obtener los valores apropiados."
      ]
    },
    {
      "cell_type": "code",
      "metadata": {
        "id": "FrMTiLWGWohA"
      },
      "source": [
        "#Filtramos los valores fuera del área\n",
        "\n",
        "n_antes = len(data)\n",
        "\n",
        "data = data[data['LATITUD_ORIGEN'].astype('str').str[0].isin(['4', '5']) &\n",
        "            data['LATITUD_DESTINO'].astype('str').str[0].isin(['4', '5']) &\n",
        "            data['LONGITUD_ORIGEN'].astype('str').str[:3].isin(['-73', '-74']) &\n",
        "            data['LONGITUD_DESTINO'].astype('str').str[:3].isin(['-73', '-74'])]\n",
        "\n",
        "n_despues = len(data)\n",
        "\n",
        "print(f'{n_antes - n_despues} datos inconsistentes o fuera del área Metropolitana de Bogotá')"
      ],
      "execution_count": null,
      "outputs": []
    },
    {
      "cell_type": "markdown",
      "metadata": {
        "id": "vVAKrWQzf4vA"
      },
      "source": [
        "Ahora convertimos todos los valores a la misma escala que las coordenadas geográficas de Bogotá. Se multiplica cada valor por 10 elevado a la potencia de $n$, donde $n$ es el valor truncado del logaritmo base 10 de cada valor. \n",
        "\n",
        "Esta operación se realiza para asegurarnos de mantener el mismo número de dígitos enteros, evitando así inconsistencias entre valores en bases distintas."
      ]
    },
    {
      "cell_type": "code",
      "metadata": {
        "id": "DtzqCpxiZLx3"
      },
      "source": [
        "for variable in ['LATITUD_ORIGEN', 'LATITUD_DESTINO']:\n",
        "  data[variable] = data[variable] * 10 ** -np.trunc(np.log10(data[variable]))\n",
        "\n",
        "for variable in ['LONGITUD_ORIGEN', 'LONGITUD_DESTINO']:\n",
        "  data[variable] = data[variable] * 10 ** -np.trunc(np.log10(-data[variable]) - 1)"
      ],
      "execution_count": null,
      "outputs": []
    },
    {
      "cell_type": "markdown",
      "metadata": {
        "id": "uNgT7kSHgzE4"
      },
      "source": [
        "Ahora comprobamos los rangos de las variables corregidas:"
      ]
    },
    {
      "cell_type": "code",
      "metadata": {
        "id": "ey6vrsNtfnJx"
      },
      "source": [
        "data[['LATITUD_ORIGEN', 'LATITUD_DESTINO', 'LONGITUD_ORIGEN', 'LONGITUD_DESTINO']].agg([np.min, np.max]).T"
      ],
      "execution_count": null,
      "outputs": []
    },
    {
      "cell_type": "code",
      "metadata": {
        "id": "3yADPkFEU7zm"
      },
      "source": [
        "# Distribución de las latitudes.\n",
        "px.box(data, y = ['LATITUD_ORIGEN', 'LATITUD_DESTINO'])"
      ],
      "execution_count": null,
      "outputs": []
    },
    {
      "cell_type": "code",
      "metadata": {
        "id": "Lrs0Ar1vjGKX"
      },
      "source": [
        "# Distribución de las longitudes.\n",
        "px.box(data, y = ['LONGITUD_ORIGEN', 'LONGITUD_DESTINO'])"
      ],
      "execution_count": null,
      "outputs": []
    },
    {
      "cell_type": "markdown",
      "metadata": {
        "id": "GmZjWNppg8d_"
      },
      "source": [
        "Los datos obtenidos se encuentran ahora en rangos aceptables de valores. Podemos proceder y generar los mapas correspondientes usando estos valores geográficos."
      ]
    },
    {
      "cell_type": "markdown",
      "metadata": {
        "id": "CsZvzG-0jHvP"
      },
      "source": [
        "### **2.3. Mapas de *Folium***\n",
        "---\n",
        "Ya con nuestros datos previamente seleccionados y preparados, podemos empezar a generar los mapas con *Leaflet* por medio de *Folium*. Para esto, usaremos el método **`folium.Map`**. Primero, creemos un mapa centrado en la ciudad de Bogotá.\n",
        "\n"
      ]
    },
    {
      "cell_type": "code",
      "metadata": {
        "id": "VMEmmQRI4tUO"
      },
      "source": [
        "# Creamos nuestro primer Mapa con Folium con los datos de la primera encuesta.\n",
        "\n",
        "test_map = folium.Map(location=Bog_lat_long,   # Posición inicial del mapa.\n",
        "                      zoom_start=11)           # Zoom inicial del mapa. \n",
        "\n",
        "# Visualizamos el mapa de Bogotá\n",
        "test_map"
      ],
      "execution_count": null,
      "outputs": []
    },
    {
      "cell_type": "markdown",
      "metadata": {
        "id": "vDv8OC-o4mSZ"
      },
      "source": [
        "> **Nota**: Intente hacer zoom para conocer el nivel de detalle que puede alcanzar."
      ]
    },
    {
      "cell_type": "markdown",
      "metadata": {
        "id": "MQr-UOv_v2ZW"
      },
      "source": [
        "Con el método **`folium.Marker`** podemos crear marcadores que se mostrarán en nuestra visualización. Inicialmente, crearemos uno con el primer dato geográfico."
      ]
    },
    {
      "cell_type": "code",
      "metadata": {
        "id": "aJOvE0BPSNLO"
      },
      "source": [
        "# Los marcadores son de dos tipos principales. Los primeros son marcadores simples como el siguiente:\n",
        "\n",
        "folium.Marker(location= Bog_lat_long,       # Definimos la posición geográfica del marcador.\n",
        "              popup=\"Marcador simple.\",     # Añadimos un texto desplegado al hacer clic en el marcador.\n",
        "              tooltip=\"Haga clic!\"          # Añadimos un texto desplegado al pasar el mouse encima del marcador. Sirve como sugerencia.\n",
        "              ).add_to(test_map)            # Con la función .add_to podemos agregar el marcador a un mapa creado previamente.\n",
        "\n",
        "test_map"
      ],
      "execution_count": null,
      "outputs": []
    },
    {
      "cell_type": "markdown",
      "metadata": {
        "id": "skt0N2Bcwpgo"
      },
      "source": [
        " También podremos tener marcadores en forma de burbuja, generados con la función **`folium.vector_layers.CircleMarker`**. Estos pueden ser personalizados mediante aspectos como el color o el tamaño."
      ]
    },
    {
      "cell_type": "code",
      "metadata": {
        "id": "g1cbGuoTwheG"
      },
      "source": [
        "# Marcadores de tipo burbuja.\n",
        "\n",
        "folium.vector_layers.CircleMarker(location= (4.635, -74.084),          # Posición del marcador.\n",
        "                                  fill=True,                           # Se puede definir si se colorea o no el marcador.\n",
        "                                  fill_color=\"blue\",                   # Color del marcador (azul).\n",
        "                                  radius=20,                           # Radio del marcador.\n",
        "                                  popup=\"Marcador circular\",           # Texto desplegado al hacer clic en el marcador.\n",
        "                                  tooltip=\"Otro marcador\").add_to(test_map)\n",
        "\n",
        "test_map"
      ],
      "execution_count": null,
      "outputs": []
    },
    {
      "cell_type": "markdown",
      "metadata": {
        "id": "eaK4NpS_jOZ_"
      },
      "source": [
        "**Mapa de orígenes**\n",
        "***\n",
        "\n",
        "Crear los marcadores individualmente no es la decisión más apropiada para conjuntos muy grandes. Para hacer esto podemos optar por definir una función que realice esta tarea para cada punto dado."
      ]
    },
    {
      "cell_type": "code",
      "metadata": {
        "id": "lkhI8yO9hJwj"
      },
      "source": [
        "# Creamos un mapa nuevo.\n",
        "origen_map = folium.Map(location=Bog_lat_long, zoom_start = 12)"
      ],
      "execution_count": null,
      "outputs": []
    },
    {
      "cell_type": "markdown",
      "metadata": {
        "id": "u1JJnuGakbvx"
      },
      "source": [
        "Podemos definir una función que genere y añada el mapa un marcador para luego iterar sobre nuestra información."
      ]
    },
    {
      "cell_type": "code",
      "metadata": {
        "id": "amhCyoQGAGL8"
      },
      "source": [
        "# Visualizamos los orígenes-destino en el mapa.\n",
        "\n",
        "def setPoint(point, map, icon_color, **kwargs): # Esta notación permite obtener cualquier cantidad de argumentos y agruparlos en la variable 'kwargs'.\n",
        "\n",
        "  popup_text = \"\" # Vamos a crear un texto compuesto para despegarlo como pop-up.\n",
        "  \n",
        "  # Usamos los valores en cada argumento adicional para componer el texto del mensaje.\n",
        "  for k,v in kwargs.items():\n",
        "    popup_text += f\"{k}: {v}\\n\"\n",
        "    \n",
        "  # Definimos un marcador\n",
        "  folium.Marker(location=point,\n",
        "                popup=popup_text, \n",
        "                icon = folium.Icon(color=icon_color, icon='ok-sign')  # Podemos utilizar iconos de Leaflet para nuestros marcadores.\n",
        "                ).add_to(map) # Finalmente lo agregamos al mapa entregado como argumento."
      ],
      "execution_count": null,
      "outputs": []
    },
    {
      "cell_type": "code",
      "metadata": {
        "id": "_H-OcenNWQND"
      },
      "source": [
        "# Dibujar los puntos en el mapa con datos con información en el popup para visualizar mejor lo limitamos a 50 ejemplos\n",
        "\n",
        "for i in list(data.index)[:50]: # Iteramos el índice del DataFrame.\n",
        "  setPoint(point=(data.loc[i, \"LATITUD_ORIGEN\"], data.loc[i, \"LONGITUD_ORIGEN\"]), # Posición del marcador.\n",
        "           map=origen_map,                                                        # Mapa al que agregar el marcador.\n",
        "           icon_color=\"green\",                                                    # Color del marcador.\n",
        "           # Argumentos adicionales usados como texto:\n",
        "           motivo_viaje=data.loc[i, \"MOTIVOVIAJE\"], \n",
        "           hora_inicio=data.loc[i,\"HORA_INICIO\"], \n",
        "           hora_fin=data.loc[i, \"HORA_FIN\"], \n",
        "           medio=data.loc[i, \"MEDIO_PREDOMINANTE\"])\n",
        "  \n",
        "# Visualizamos el mapa\n",
        "origen_map"
      ],
      "execution_count": null,
      "outputs": []
    },
    {
      "cell_type": "markdown",
      "metadata": {
        "id": "YRBAE9i-02j9"
      },
      "source": [
        "Al igual que con *Plotly*, es posible generar un archivo *HTML* con las gráficas que generemos con *Folium*. Para esto se utiliza el método **`save`** en los mapas generados."
      ]
    },
    {
      "cell_type": "code",
      "metadata": {
        "id": "laqMem3BEc35"
      },
      "source": [
        "# Guardamos el mapa\n",
        "origen_map.save(\"Origen_map.html\")"
      ],
      "execution_count": null,
      "outputs": []
    },
    {
      "cell_type": "markdown",
      "metadata": {
        "id": "9B1WR6mkjZef"
      },
      "source": [
        "### **2.4. *ClusterMap***\n",
        "---\n",
        "Como pudimos observar en el gráfico superior, hay bastantes puntos de origen y destino por lo que visualizarlos resulta complicado y poco claro. En estos casos es apropiado agruparlos de acuerdo a sus coordenadas en *clusters* usando un ***Cluster map***. Esto es posible con la función **`FastMarkerCluster`**, que acepta como parámetro los datos completos y genera los *cluster* apropiados con respecto al acercamiento o *zoom* del mapa.\n",
        "\n",
        "Visualicemos los destinos de viaje por medio de *clusters*:"
      ]
    },
    {
      "cell_type": "code",
      "metadata": {
        "id": "YMOKnL3kTcdR"
      },
      "source": [
        "# Creamos un mapa nuevo\n",
        "cluster_destino = folium.Map(location = Bog_lat_long,\n",
        "                            zoom_start = 12,\n",
        "                            control_scale = True\n",
        "                            )\n",
        "\n",
        "# Creamos tuplas con los valores de coordenadas.\n",
        "destino_coords = data[['LATITUD_DESTINO', 'LONGITUD_DESTINO']].values\n",
        "\n",
        "# Utilizamos los datos de origen para generar clusters dispuestos por la ciudad\n",
        "FastMarkerCluster(name =\"Cluster de coordenadas\" ,\n",
        "                  data= destino_coords).add_to(cluster_destino)\n",
        "\n",
        "cluster_destino"
      ],
      "execution_count": null,
      "outputs": []
    },
    {
      "cell_type": "markdown",
      "metadata": {
        "id": "3sZnR4aw8kJR"
      },
      "source": [
        "Igual que antes, podemos exportar este mapa a *HTML*:"
      ]
    },
    {
      "cell_type": "code",
      "metadata": {
        "id": "nwSvhxbB8m3-"
      },
      "source": [
        "cluster_destino.save(\"mapa_con_cluster_destino.html\")"
      ],
      "execution_count": null,
      "outputs": []
    },
    {
      "cell_type": "markdown",
      "metadata": {
        "id": "5Xd9QWUdjfXP"
      },
      "source": [
        "### **2.5. Heatmap**\n",
        "---\n",
        "\n",
        "Además de los mapas de *clusters*, podemos crear **mapas de calor** o ***heatmaps*** para visualizar los orígenes en las horas pico de la mañana. Para esto, usaremos las funcionalidades de datos temporales de *pandas* para seleccionar los datos que correspondan con el momento deseado."
      ]
    },
    {
      "cell_type": "code",
      "metadata": {
        "id": "e40fmIdXj6KO"
      },
      "source": [
        "# Tiempo entre 6:00 am y 9:00 am\n",
        "\n",
        "inicio = pd.to_datetime(\"06:00\")  \n",
        "fin = pd.to_datetime(\"09:00\")"
      ],
      "execution_count": null,
      "outputs": []
    },
    {
      "cell_type": "code",
      "metadata": {
        "id": "C2Kzm2SnkWyJ"
      },
      "source": [
        "# Convertimos las horas de inicio y fin de cadenas de texto a valores temporales.\n",
        "\n",
        "data[\"HORA_INICIO\"] = pd.to_datetime(data[\"HORA_INICIO\"], errors='ignore')\n",
        "data[\"HORA_FIN\"] = pd.to_datetime(data[\"HORA_FIN\"], errors='ignore')"
      ],
      "execution_count": null,
      "outputs": []
    },
    {
      "cell_type": "code",
      "metadata": {
        "id": "VhNEU_WXiAev"
      },
      "source": [
        "# Generamos los valores entre las horas definidas previamente usando selección condicional.\n",
        "\n",
        "hora_pico_am = data[(data[\"HORA_INICIO\"]>inicio) & (data[\"HORA_INICIO\"]<fin)]"
      ],
      "execution_count": null,
      "outputs": []
    },
    {
      "cell_type": "markdown",
      "metadata": {
        "id": "406IyjqfmQ3_"
      },
      "source": [
        "Ahora, generamos los datos de entrada del mapa de calor: "
      ]
    },
    {
      "cell_type": "code",
      "metadata": {
        "id": "QyhQ2m_gjYrV"
      },
      "source": [
        "# Obtenemos las coordenadas que usaremos como entrada de la función HeatMap.\n",
        "heat_data = hora_pico_am[['LATITUD_ORIGEN',  'LONGITUD_ORIGEN']]\n",
        "\n",
        "heat_data.head(10)"
      ],
      "execution_count": null,
      "outputs": []
    },
    {
      "cell_type": "markdown",
      "metadata": {
        "id": "lrWV51aHkGXA"
      },
      "source": [
        "Una vez obtenemos los datos de las posiciones de los datos de origen, podemos utilizar la función **`HeatMap`** de *Folium* para generar un mapa de calor con los valores, representando en los lugares con colores más cálidos las concentraciones mayores de datos. Este mapa de calor se ajusta dinámicamente según navegamos, ofreciendo más información al acercarse o alejarse de un lugar en particular."
      ]
    },
    {
      "cell_type": "code",
      "metadata": {
        "id": "NLxbhdfUo43y"
      },
      "source": [
        "# Mapa de Folium. \n",
        "heatmap_bog = folium.Map(location=Bog_lat_long,\n",
        "                          zoom_start = 16) \n",
        "\n",
        "# Añadimos los datos al mapa de Calor\n",
        "HeatMap(heat_data.values).add_to(heatmap_bog)\n",
        "\n",
        "#Visualizamos el mapa\n",
        "heatmap_bog"
      ],
      "execution_count": null,
      "outputs": []
    },
    {
      "cell_type": "code",
      "metadata": {
        "id": "s1qlhk-r9rPV"
      },
      "source": [
        "# Podemos guardar el archivo en forma de archivo HTML.\n",
        "heatmap_bog.save(\"mapa_con_heat_map.html\")"
      ],
      "execution_count": null,
      "outputs": []
    },
    {
      "cell_type": "markdown",
      "metadata": {
        "id": "PjIcGJW5HhNW"
      },
      "source": [
        "### **2.6. Ideas adicionales**\n",
        "---\n",
        "\n",
        "Con estas librerías podemos realizar varias visualizaciones adicionales muy útiles como las planteadas a continuación:\n",
        "* Aplicar un filtro en el *dataset* de movilidad para seleccionar aquellos viajes realizados en transporte público y visualizarlos.\n",
        "* Utilizar los datos de los polígonos que conforman las localidades (disponibles en este [enlace](https://bogota-laburbano.opendatasoft.com/explore/dataset/poligonos-localidades/export/?flg=es&location=8,4.2841,-74.21816&basemap=jawg.streets)) y agrupar los viajes de acuerdo con la localidad de origen y la localidad de destino y así visualizar los viajes interlocalidades.\n",
        "* Filtrar los datos de acuerdo a la hora pico de la tarde o la mañana y agruparlos para determinar cuáles son los orígenes y destinos de estas horas. \n",
        "* Utilizar los datos geográficos de las localidades para realizar la visualización de un mapa coroplético de acuerdo al número de viajes, utilizando el siguiente [ejemplo](https://python-graph-gallery.com/292-choropleth-map-with-folium/) como guía.\n",
        "\n"
      ]
    },
    {
      "cell_type": "markdown",
      "metadata": {
        "id": "4r5hSQAz6d-g"
      },
      "source": [
        "# **Recursos adicionales**\n",
        "---\n",
        "* [Plotly - Python Open Source Graphing Library Maps](https://plotly.com/python/maps/)\n",
        "* [Plotly - Choropleth Maps in Python](https://plotly.com/python/choropleth-maps/)\n",
        "* [Medium (Dr. Dataman) - Create Beautiful Geomaps with Plotly](https://medium.com/analytics-vidhya/plotly-for-geomaps-bb75d1de189f)\n",
        "* [Saiteja Kura - *Data Visualisation using Pandas and Plotly* - Medium.com](https://medium.com/towards-artificial-intelligence/data-visualisation-using-pandas-and-plotly-970df88fba6f) \n",
        "* [Duncan Parkes - Folium Marker Clusters](https://deparkes.co.uk/2016/06/24/folium-marker-clusters/)\n",
        "* [Kaggle - How to: Folium for maps, heatmaps & time data](https://www.kaggle.com/daveianhickey/how-to-folium-for-maps-heatmaps-time-data)\n",
        "* [Folium - Quickstart / Getting Started](https://python-visualization.github.io/folium/quickstart.html#Getting-Started)\n",
        "* [Jose Luis García Grandes - Folium: utilizando Leaflet con Python](https://mappinggis.com/2018/10/folium-utilizando-leaflet-con-python/)\n",
        "* [Leaflet - Using GeoJSON with Leaflet](https://leafletjs.com/examples/geojson/)\n",
        "* [Duncan Parkes - Plot Lines in Folium](https://deparkes.co.uk/2016/06/03/plot-lines-in-folium/)\n",
        "* [Rob Story - Folium Circle Markers](http://bl.ocks.org/wrobstory/5609747)\n",
        "\n"
      ]
    },
    {
      "cell_type": "markdown",
      "metadata": {
        "id": "z4VavQ3wgMGo"
      },
      "source": [
        "# **Créditos**\n",
        "---\n",
        "\n",
        "* **Profesor:** [Felipe Restrepo Calle](https://dis.unal.edu.co/~ferestrepoca/)\n",
        "* **Asistente docente:** Alberto Nicolai Romero Martínez\n",
        "\n",
        "**Universidad Nacional de Colombia** - *Facultad de Ingeniería*"
      ]
    }
  ]
}