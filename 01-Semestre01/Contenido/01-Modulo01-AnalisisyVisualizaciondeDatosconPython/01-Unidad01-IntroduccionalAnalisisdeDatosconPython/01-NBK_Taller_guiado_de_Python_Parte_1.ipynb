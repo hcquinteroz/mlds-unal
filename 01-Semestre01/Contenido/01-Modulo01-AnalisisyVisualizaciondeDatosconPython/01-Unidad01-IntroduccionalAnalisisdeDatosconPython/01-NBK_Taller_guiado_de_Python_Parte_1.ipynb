{
  "nbformat": 4,
  "nbformat_minor": 0,
  "metadata": {
    "colab": {
      "provenance": [],
      "collapsed_sections": [],
      "toc_visible": true
    },
    "kernelspec": {
      "name": "python3",
      "display_name": "Python 3"
    }
  },
  "cells": [
    {
      "cell_type": "markdown",
      "metadata": {
        "id": "22zXjFMRkUkJ"
      },
      "source": [
        "<img src = \"https://drive.google.com/uc?export=view&id=1zD1_7Y4Ejud8OsuQb49rHGfl9qhihAh5\" alt = \"Encabezado MLDS\" width = \"100%\">  </img>"
      ]
    },
    {
      "cell_type": "markdown",
      "metadata": {
        "id": "kyyYqzShjxwL"
      },
      "source": [
        "# **Lenguaje de programación Python - Parte 1**\n",
        "---\n",
        "<img src = \"https://www.python.org/static/community_logos/python-logo-inkscape.svg\" alt = \"Python Logo\" width = \"70%\">  </img>\n",
        "\n",
        "\n",
        "\n",
        "*Python* es un lenguaje de programación diseñado para permitir escribir código rápido, legible y compatible con múltiples plataformas. A su alrededor existe una enorme comunidad científica, que lo apoya con diversas librerías y módulos especializados que lo hacen muy popular en el área de la ciencia de datos.\n",
        "\n",
        "En este recurso se presentarán las ideas básicas para aprender a escribir y ejecutar código *Python* desde las bases fundamentales. En las siguientes semanas se presentarán distintos módulos que expanden su funcionalidad, por lo que es importante que esté seguro de comprender y reforzar los conceptos antes de continuar.\n",
        "\n",
        "Este material no constituye un manual de referencia completo de *Python* o un curso de programación de computadores en general. Si usted no tiene experiencia programando en *Python*, se recomienda que revise primero otros materiales de los **recursos adicionales** listados al final de este documento.\n",
        "\n",
        "Es importante tener en cuenta la versión de *Python* utilizada en el desarrollo de estos recursos. En particular, este recurso está escrito y probado en la versión *Python* 3.6.9. Utilizar una versión distinta puede variar el resultado de la ejecución de algunos ejemplos."
      ]
    },
    {
      "cell_type": "code",
      "metadata": {
        "id": "YgdAm2Vsyg4m"
      },
      "source": [
        "!python --version"
      ],
      "execution_count": null,
      "outputs": []
    },
    {
      "cell_type": "markdown",
      "metadata": {
        "id": "eRKerH0JtAoP"
      },
      "source": [
        "## **1. Comentarios**\n",
        "---\n",
        "\n",
        "Al trabajar con un lenguaje de programación, un software (un intérprete o un compilador) analiza la sintaxis de un texto escrito por el programador para generar código que pueda ser ejecutado por la máquina. Si algo no corresponde con las reglas del lenguaje, se le indica al programador por medio de errores qué pudo salir mal.\n",
        "\n",
        "Un concepto muy útil y extremadamente común en los lenguajes de programación es la capacidad de usar comentarios dentro del código. Para esto, se usa una sintaxis especial que le indica al interprete que ignore secciones de texto específicas, que puede usar el programador para describir su código.\n",
        "\n",
        "En esta guía, se usarán estos comentarios para describir los conceptos presentados.\n",
        "\n",
        "> **Nota:** Técnicamente las expresiones con la notación con tres comillas `'''` no son comentarios validos de *Python*, pero en la mayoría de casos se comportan de manera similar y se pueden utilizar como tal.\n",
        "\n"
      ]
    },
    {
      "cell_type": "code",
      "metadata": {
        "id": "JfcxQ79Su4d7"
      },
      "source": [
        "# Este texto es ignorado por el intérprete.\n",
        "\n",
        "# No importa lo que se escriba después del símbolo \n",
        "# Todo es ignorado (/.-+?\\...), pero solo en la misma línea.\n",
        "\n",
        "'''\n",
        "Si se necesita, se pueden\n",
        "usar comentarios en múltiples líneas\n",
        "usando 3 comillas al principio\n",
        "y al final de la sección que se busca ignorar.\n",
        "\n",
        "Presione Shift + Enter para ejecutar la celda de código.\n",
        "'''\n",
        "print(\"¡Bienvenido al programa de formación MLDS!\")\n",
        "print(\"Este fragmento no es ignorado.\") # Este fragmento está en la misma línea y SI es ignorado."
      ],
      "execution_count": null,
      "outputs": []
    },
    {
      "cell_type": "markdown",
      "metadata": {
        "id": "ZrRRjQ1clfAN"
      },
      "source": [
        "## **2. Entrada y salida**\n",
        "---\n",
        "Los programas escritos en *Python* y los entornos de ejecución (como *Google Colab*) permiten al usuario interactuar de formas distintas. El usuario introduce información en forma de archivos, datos en la nube, o acciones de periféricos como el teclado y ratón, y los entornos de ejecución ejecutan el programa de *Python*. En consecuencia, le devuelven al usuario una respuesta en forma de texto, imagen o contenidos interactivos complejos.\n",
        "\n",
        "Antes de empezar, conocerá las acciones de entrada y salida más comunes. Estas son las funciones de **entrada y salida de texto**. Las más comunes y más útiles en los primeros pasos del aprendizaje del lenguaje son las funciones **`input`** y **`print`**. Las funciones en *Python* funcionan como las funciones matemáticas y se revisarán en detalle más adelante. Por ahora, es suficiente con saber que estas pueden recibir uno o más parámetros, ejecutan código y retornan un resultado. Las funciones **`input`** y **`print`** vienen por defecto con *Python*.\n",
        "\n",
        "Cuando se ejecuta **`input`** la consola de *Python* espera que se le entregue texto, que puede escribir con su teclado o pegar del portapapeles, y luego hacer algo con este, como almacenarlo para más adelante. Por otro lado, **`print`** escribirá en consola texto almacenado previamente, ya sea almacenado en una variable (más acerca de ellas en la sección 3) o escrito explícitamente dentro del código.\n",
        "\n",
        "En el ejemplo presentado a continuación se le pide al usuario su nombre, lo almacena en una variable y luego imprime en pantalla una bienvenida personalizada.\n",
        "\n",
        "**Nota:** Las **funciones**, **variables** y **cadenas de texto** se verán en detalle más adelante en este material. Recuerde verificar que se está usando el *kernel* de *Python 3* para obtener el resultado esperado."
      ]
    },
    {
      "cell_type": "code",
      "metadata": {
        "id": "6fUN6v1qlN05"
      },
      "source": [
        "nombre = input('Hola. ¿Cómo te llamas?\\n')"
      ],
      "execution_count": null,
      "outputs": []
    },
    {
      "cell_type": "code",
      "metadata": {
        "id": "-2pA49PgMTy2"
      },
      "source": [
        "print(f'¡Te damos la bienvenida a la Universidad Nacional de Colombia, {nombre}!')"
      ],
      "execution_count": null,
      "outputs": []
    },
    {
      "cell_type": "markdown",
      "metadata": {
        "id": "EdgyNP7OlfhE"
      },
      "source": [
        "## **3. Variables**\n",
        "---\n",
        "\n",
        "Una variable es un espacio de memoria en el que se pueden almacenar valores o datos para reutilizarlos o modificarlos en el código. A diferencia de otros lenguajes de programación, *Python* es **débilmente tipado**. Esto quiere decir que para almacenar un dato en una variable, no se requiere definir de antemano qué tipo de dato va a representar, simplificando la definición de variables para escribir código rápidamente.\n",
        "\n",
        "Las variables son declaradas con nombres definidos por el programador, y se le asignan valores con el símbolo **`=`**. Los nombres permitidos para variables en *Python* deben cumplir las siguientes condiciones.\n",
        "\n",
        "1.   Deben estar compuestos por números del 0-9, caracteres alfabéticos en mayúscula o minúscula (A-Z y a-z) y por el símbolo `_`. \n",
        "2.   Si tienen un número, no puede ser el primer carácter.\n",
        "\n",
        "Los nombres de variables distinguen entre mayúsculas y minúsculas. **`var`** y  **`VAR`** se interpretan como variables distintas.\n",
        "\n",
        "> **IMPORTANTE**: En la misma ejecución en un *notebook* se preserva entre celdas el valor asignado a una variable.\n",
        "\n",
        "\n",
        "En *Python* existen algunas convenciones consideradas buenas prácticas a la hora de escribir código en este lenguaje. Una de ellas es la forma de asignar nombres a variables y funciones. Se recomienda escribir palabras en minúscula separadas por una barra al piso `_`. \n",
        "\n",
        "> **Ejemplo: `calcular_intervalo`**\n",
        "\n"
      ]
    },
    {
      "cell_type": "code",
      "metadata": {
        "id": "ADkMhLke0GJE"
      },
      "source": [
        "a = 100\n",
        "print(a)"
      ],
      "execution_count": null,
      "outputs": []
    },
    {
      "cell_type": "code",
      "metadata": {
        "id": "AJI0ZxjqmToW"
      },
      "source": [
        "a = 'Python'\n",
        "print(a)"
      ],
      "execution_count": null,
      "outputs": []
    },
    {
      "cell_type": "code",
      "metadata": {
        "id": "-t_xbg7_1l5o"
      },
      "source": [
        "# Si no ha cambiado la instancia de ejecución (por ejemplo, al actualizar la página)\n",
        "# el valor de la variable a se preserva entre celdas.\n",
        "print(a)"
      ],
      "execution_count": null,
      "outputs": []
    },
    {
      "cell_type": "code",
      "metadata": {
        "id": "ksKSRt5fmVRn"
      },
      "source": [
        "print(nombre) # Esta variable había sido creada en el ejemplo anterior."
      ],
      "execution_count": null,
      "outputs": []
    },
    {
      "cell_type": "markdown",
      "metadata": {
        "id": "OHDM4iz0lfXZ"
      },
      "source": [
        "## **4. Tipos de dato y operadores**\n",
        "---\n",
        "\n",
        "El tipo de un dato es un atributo que determina qué operaciones se pueden realizar y qué valores puede tomar. Estos pueden ser números, listas, texto, entre otros. En *Python*, los tipos de dato no son definidos explícitamente, pero siempre están presentes en las variables que declaramos y es necesario tenerlos en cuenta. En particular, el tipo de dato define las operaciones válidas entre datos del mismo tipo. Estas operaciones están definidas con el uso de símbolos llamados **operadores**.\n",
        "\n",
        "Para conocer el tipo de dato de una variable, se usa la función **`type`**.\n"
      ]
    },
    {
      "cell_type": "markdown",
      "metadata": {
        "id": "0PWwqaTgsCQE"
      },
      "source": [
        "### **4.1. Cadenas de texto**\n",
        "---\n",
        "\n",
        "\n",
        "Un tipo de dato muy importante es el de las cadenas de texto. Estas cadenas permiten almacenar en un mismo dato texto con cualquier cantidad de caracteres. Las cadenas de texto en *Python 3* permiten el uso de caracteres de la codificación [Unicode](https://home.unicode.org/). Estas secuencias de caracteres se conocen como **strings** y pueden asignarse a variables como con valores numéricos. Para definir una cadena de texto, se rodea el texto con comillas simples `'` o comillas dobles `\"`."
      ]
    },
    {
      "cell_type": "code",
      "metadata": {
        "id": "ba40VjPWDch8"
      },
      "source": [
        "'cadena con comilla simple'"
      ],
      "execution_count": null,
      "outputs": []
    },
    {
      "cell_type": "code",
      "metadata": {
        "id": "rj9RBr35Dch-"
      },
      "source": [
        "\"cadena con comillas dobles\""
      ],
      "execution_count": null,
      "outputs": []
    },
    {
      "cell_type": "markdown",
      "metadata": {
        "id": "i_ThaZaOoerw"
      },
      "source": [
        "El caracter \\ sirve como caracter de escape para poder incluir caracteres especiales dentro de las cadenas. Por ejemplo:"
      ]
    },
    {
      "cell_type": "code",
      "metadata": {
        "id": "sZff3MzkDciB"
      },
      "source": [
        "'uso del caracter de escape para escribir el caracter de comilla simple \\' dentro de una cadena definida con comilla simple'"
      ],
      "execution_count": null,
      "outputs": []
    },
    {
      "cell_type": "code",
      "metadata": {
        "id": "EqSxTzCdVsYO"
      },
      "source": [
        "\"en este caso no es necesario usarlo ' porque estamos usando comilla doble\""
      ],
      "execution_count": null,
      "outputs": []
    },
    {
      "cell_type": "markdown",
      "metadata": {
        "id": "zIox8IHZoiaX"
      },
      "source": [
        "Las cadenas se pueden almacenar en variables, así:"
      ]
    },
    {
      "cell_type": "code",
      "metadata": {
        "id": "1fkMxqffsCQK"
      },
      "source": [
        "s = '   ¡La ciencia de datos es divertida!   '"
      ],
      "execution_count": null,
      "outputs": []
    },
    {
      "cell_type": "code",
      "metadata": {
        "id": "-3YDOqFto0eB"
      },
      "source": [
        "print(s)"
      ],
      "execution_count": null,
      "outputs": []
    },
    {
      "cell_type": "markdown",
      "metadata": {
        "id": "Pmm1bkhonudV"
      },
      "source": [
        "Algunos operadores de los usados para valores numéricos también sirven al operar con *strings* pero con utilidad distinta:\n",
        "\n",
        "\n",
        "*  Concatenación `+`. \n",
        "*  Repetición `*`. \n",
        "*  Formato `%`. "
      ]
    },
    {
      "cell_type": "code",
      "metadata": {
        "id": "y0C9RcTPo_B2"
      },
      "source": [
        "print(s + nombre)"
      ],
      "execution_count": null,
      "outputs": []
    },
    {
      "cell_type": "code",
      "metadata": {
        "id": "azj0zAg_pLsj"
      },
      "source": [
        "print(s*3)"
      ],
      "execution_count": null,
      "outputs": []
    },
    {
      "cell_type": "markdown",
      "metadata": {
        "id": "eFyf1NBfRr2F"
      },
      "source": [
        "Para utilizar variables dentro de cadenas de texto definidas se utilizan varios métodos. Estos son:\n",
        "\n",
        "1.   **Concatenación:** Se pueden componer cadenas de texto concatenando con el símbolo `+` varias subcadenas. Para variables numéricas que no son de tipo *string* por defecto se debe utilizar la función `str(variable)` para evitar errores de incompatibilidad de tipos. \n",
        " > **Ejemplo:** `\"Quedan \" + str(num) + \" minutos.\"`\n",
        "\n",
        "2.   **Operador `%` de formato:** En sus inicios, *Python* incluía formato de cadenas de texto al estilo del lenguaje de programación C. Para esto, se define el valor y su formato dentro de la cadena, y se utiliza el operador **`%`** para definir la variable a la que se da el formato. Si se da formato a varios valores se usan tuplas como la variable de entrada. Este método no es recomendado por inconsistencias en su operación, pero es posible que lo encuentre en materiales en la web. En la documentación de *Python* se recomienda utilizar la función **`format()`** o *f-strings*.\n",
        " >**Ejemplo:** `\"Quedan %d minutos.\" % num`\n",
        "\n",
        "3.   **Función `format()`:** Las cadenas de texto tienen el método **`.format()`**, que permite reemplazar fragmentos encerrados en llaves curvadas **`{}`** por variables de cualquier tipo pasadas como parámetros de la función. \n",
        " > **Ejemplo:** `\"Quedan {} minutos.\".format(num)`\n",
        "\n",
        "4.   **_f-strings_:** Desde la versión de *Python* $3.6$ en adelante, se puede usar el carácter **`f`** como prefijo de una cadena de texto para interpretar los fragmentos encerrados en llaves curvadas **`{}`** como fragmentos de código de forma directa.\n",
        " >**Ejemplo:** `f\"Quedan {num} minutos.\"`"
      ]
    },
    {
      "cell_type": "code",
      "metadata": {
        "id": "ZEMYAb7FqR87"
      },
      "source": [
        "# El .4f indica que la cadena utiliza solo 4 dígitos decimales.\n",
        "\n",
        "print('%.4f' % 3.141592653589793)"
      ],
      "execution_count": null,
      "outputs": []
    },
    {
      "cell_type": "code",
      "metadata": {
        "id": "4EipSamoRrTs"
      },
      "source": [
        "num = 100\n",
        "\n",
        "print(\"Quedan \" + str(num) + \" minutos.\")\n",
        "print(\"Quedan %d minutos.\" % num)\n",
        "print(\"Quedan {} minutos.\".format(num))\n",
        "print(f'Quedan {num} minutos.')"
      ],
      "execution_count": null,
      "outputs": []
    },
    {
      "cell_type": "code",
      "metadata": {
        "id": "i-UEm_LVqXIm"
      },
      "source": [
        "print('{:.4f}'.format(3.141592653589793))"
      ],
      "execution_count": null,
      "outputs": []
    },
    {
      "cell_type": "markdown",
      "metadata": {
        "id": "gYHvH706qqsN"
      },
      "source": [
        "Para conocer muchas otras formas de dar formato consulte el siguiente [enlace](https://pyformat.info/)."
      ]
    },
    {
      "cell_type": "markdown",
      "metadata": {
        "id": "ha9AeQtno_7W"
      },
      "source": [
        "Además de las operaciones por defecto, las cadenas de texto cuentan con la posibilidad de ejecutar funciones directamente. Por ejemplo, siendo **`s`** una variable con un **`string`**:\n",
        "\n",
        "*  **`s.lower()`** : Retorna la cadena con todos los caracteres alfabéticos en minúscula.\n",
        "*  **`s.upper()`** : Retorna la cadena con todos los caracteres alfabéticos en mayúscula.\n",
        "*  **`s.replace(a, b)`** : Reemplaza las subcadenas iguales a la cadena **`a`** con el valor de la cadena **`b`**.\n",
        "*  **`s.strip()`** : Retorna la cadena con todos los espacios en blanco al principio y al final removidos.\n",
        "*  **`s.islower()`** : Determina si la cadena está compuesta solo por caracteres en mayúscula.\n",
        "*  **`s.isupper()`** : Determina si la cadena está compuesta solo por caracteres en mayúscula.\n",
        "*  **`s.isdigit()`** : Determina si la cadena está compuesta solo por dígitos del 0 al 9.\n",
        "*  **`s.isalpha()`** : Determina si la cadena está compuesta solo por caracteres alfabéticos.\n",
        "\n",
        "\n",
        "Como estos, existen muchos [métodos](https://www.w3schools.com/python/python_ref_string.asp) que se pueden ejecutar en cadenas de texto con utilidades distintas."
      ]
    },
    {
      "cell_type": "code",
      "metadata": {
        "id": "nBNEAuD4rXQF"
      },
      "source": [
        "print(s)"
      ],
      "execution_count": null,
      "outputs": []
    },
    {
      "cell_type": "code",
      "metadata": {
        "id": "VkmxuwfIMoqH"
      },
      "source": [
        "print(s.lower())"
      ],
      "execution_count": null,
      "outputs": []
    },
    {
      "cell_type": "code",
      "metadata": {
        "id": "bzLx9XZdMpNY"
      },
      "source": [
        "print(s.upper())"
      ],
      "execution_count": null,
      "outputs": []
    },
    {
      "cell_type": "code",
      "metadata": {
        "id": "bdCOxBhCMsgA"
      },
      "source": [
        "print(s.replace('a', 'i'))"
      ],
      "execution_count": null,
      "outputs": []
    },
    {
      "cell_type": "code",
      "metadata": {
        "id": "PpdLaQdjMy27"
      },
      "source": [
        "print(s.strip())"
      ],
      "execution_count": null,
      "outputs": []
    },
    {
      "cell_type": "code",
      "metadata": {
        "id": "V-8J7XTVM80W"
      },
      "source": [
        "print(s.islower())\n",
        "print('a'.islower())"
      ],
      "execution_count": null,
      "outputs": []
    },
    {
      "cell_type": "code",
      "metadata": {
        "id": "xhjhAyxsNCGR"
      },
      "source": [
        "print(s.isupper())\n",
        "print('HOLA'.isupper())"
      ],
      "execution_count": null,
      "outputs": []
    },
    {
      "cell_type": "code",
      "metadata": {
        "id": "qKjSJCa3NJKQ"
      },
      "source": [
        "print(s.isdigit())\n",
        "print('123'.isdigit())"
      ],
      "execution_count": null,
      "outputs": []
    },
    {
      "cell_type": "code",
      "metadata": {
        "id": "te4M_YylNRFC"
      },
      "source": [
        "print(s.isalpha())\n",
        "print('Palabra'.isalpha())"
      ],
      "execution_count": null,
      "outputs": []
    },
    {
      "cell_type": "markdown",
      "metadata": {
        "id": "HuGVyfK4ppv9"
      },
      "source": [
        "### **4.2. Valores y operadores numéricos**\n",
        "---\n",
        "\n",
        "Es el tipo de dato más común, y seguramente el que más vamos a usar en este módulo. Corresponde a valores que representan valores numéricos. En *Python*, los valores numéricos pueden ser de tres formas:\n",
        "\n",
        "*   Números enteros. **(int)**\n",
        "*   Números decimales. **(float)**\n",
        "*   Números complejos. **(complex)**\n"
      ]
    },
    {
      "cell_type": "code",
      "metadata": {
        "id": "fkHmgvJAqmxt"
      },
      "source": [
        "a = 10     \t      #int\n",
        "print(a)\n",
        "print(type(a))"
      ],
      "execution_count": null,
      "outputs": []
    },
    {
      "cell_type": "code",
      "metadata": {
        "id": "JQ-H73qysxSq"
      },
      "source": [
        "a = -1089 \t      #int - Se pueden escribir números negativos con el símbolo ‘-’\n",
        "print(a)\n",
        "print(type(a))"
      ],
      "execution_count": null,
      "outputs": []
    },
    {
      "cell_type": "code",
      "metadata": {
        "id": "6VcSDf97NrWU"
      },
      "source": [
        "a = 10.2  \t      #float\n",
        "print(a)\n",
        "print(type(a))"
      ],
      "execution_count": null,
      "outputs": []
    },
    {
      "cell_type": "code",
      "metadata": {
        "id": "a28JSeyps02d"
      },
      "source": [
        "a = 1e100 \t      #float - Esta sintaxis representa notación científica.\n",
        "print(a)\n",
        "print(type(a))"
      ],
      "execution_count": null,
      "outputs": []
    },
    {
      "cell_type": "code",
      "metadata": {
        "id": "mchseYrKNssB"
      },
      "source": [
        "a = 1j            #complex\n",
        "print(a)\n",
        "print(type(a))"
      ],
      "execution_count": null,
      "outputs": []
    },
    {
      "cell_type": "code",
      "metadata": {
        "id": "wLJ7Wk-etC3s"
      },
      "source": [
        "a = 1 + 0.2j      #complex\n",
        "print(a)\n",
        "print(type(a))"
      ],
      "execution_count": null,
      "outputs": []
    },
    {
      "cell_type": "markdown",
      "metadata": {
        "id": "PM5y8EJOqBJj"
      },
      "source": [
        "\n",
        "Existen varios operadores matemáticos para estos valores numéricos. Estos son:\n",
        "\n",
        "*   Adición:  `+`\n",
        "*   Substracción: `-`\n",
        "*   Multiplicación: `*`\n",
        "*   División: `/`\n",
        "*   Módulo o residuo: `%`\n",
        "*   Exponenciación: `**`\n",
        "*   División y función piso: `//`\n",
        "\n",
        "Además, se pueden usar paréntesis para escribir operaciones compuestas y modificar la precedencia de los operadores.\n",
        "\n"
      ]
    },
    {
      "cell_type": "code",
      "metadata": {
        "id": "98YzMC5MrQN_"
      },
      "source": [
        "print(f'-10 + 4.0 = { -10 + 4.0 }')     # Adición"
      ],
      "execution_count": null,
      "outputs": []
    },
    {
      "cell_type": "code",
      "metadata": {
        "id": "x0LXjeK5N2PA"
      },
      "source": [
        "print(f'100j - 0.1j = {100j -  0.1j}')    # Substracción"
      ],
      "execution_count": null,
      "outputs": []
    },
    {
      "cell_type": "code",
      "metadata": {
        "id": "sq7_7mYoN3bS"
      },
      "source": [
        "print(f'1e-100 * 0.2 = {1e-100 *  0.2}')\t        # Multiplicación"
      ],
      "execution_count": null,
      "outputs": []
    },
    {
      "cell_type": "code",
      "metadata": {
        "id": "GP3bgMF6N4rq"
      },
      "source": [
        "print(f'0.001 / 2 = {0.001 / 2}')\t   # División"
      ],
      "execution_count": null,
      "outputs": []
    },
    {
      "cell_type": "code",
      "metadata": {
        "id": "KgIWhoSxN5vD"
      },
      "source": [
        "print(f'15 % 2 = {15 %  2}')\t     # Módulo - No es un operador válido para números complejos\n",
        "# El operador módulo indica el residuo de la división entera\n",
        "# En este caso, la división entera da como resultado 7 y su residuo es 1"
      ],
      "execution_count": null,
      "outputs": []
    },
    {
      "cell_type": "code",
      "metadata": {
        "id": "VwUCdPFTts0s"
      },
      "source": [
        "print(f'14 % 2 = {14 % 2}')\t     # Módulo\n",
        "# En este caso, la división entera da como resultado 7 y su residuo es 0"
      ],
      "execution_count": null,
      "outputs": []
    },
    {
      "cell_type": "code",
      "metadata": {
        "id": "Bo9ddDodN6__"
      },
      "source": [
        "print(f'2 ** 3 = {2   **  3}')\t   # Exponenciación"
      ],
      "execution_count": null,
      "outputs": []
    },
    {
      "cell_type": "code",
      "metadata": {
        "id": "l1EEbqR3N8WQ"
      },
      "source": [
        "print(f'15 // 2 = {15  //  2}')   # División y función piso - No es un operador válido para números complejos"
      ],
      "execution_count": null,
      "outputs": []
    },
    {
      "cell_type": "code",
      "metadata": {
        "id": "QiOPqsAHN9j4"
      },
      "source": [
        "#Las operaciones compuestas se definen con paréntesis.\n",
        "\n",
        "-500 + 100*(20 // 2 ** 3)"
      ],
      "execution_count": null,
      "outputs": []
    },
    {
      "cell_type": "markdown",
      "metadata": {
        "id": "MYexqQLZsCSr"
      },
      "source": [
        "### **4.3. Valores y operadores lógicos**\n",
        "---\n",
        "\n",
        "Otro tipo de dato importante es el **booleano**, que representa un valor lógico de verdad. Puede tomar únicamente estos dos valores:\n",
        "\n",
        "*  Verdadero: `True`\n",
        "*  Falso: `False`\n",
        "\n",
        "\n",
        "En *Python*, a diferencia de otros lenguajes de programación, las primitivas lógicas son escritas con la primera letra en mayúscula.\n",
        "\n",
        "Además de con el uso de las dos primitivas lógicas (**`True`** y **`False`**), se pueden obtener valores lógicos con la evaluación de expresiones con **operadores relacionales**. Estos son:\n",
        "\n",
        "*   Igual que. \t\t\t`==`\n",
        "*   Distinto que. \t\t`!=`\n",
        "*   Mayor que. \t\t`>`\n",
        "*   Menor que. \t\t `<`\n",
        "*   Mayor o igual que. `>=`\n",
        "*   Menor o igual que. `<=`"
      ]
    },
    {
      "cell_type": "code",
      "metadata": {
        "id": "XrxQOTAYsCSr"
      },
      "source": [
        "# Operadores de comparación de datos numéricos. \n",
        "print(-10  ==  4.0)  # Igual que. \t    "
      ],
      "execution_count": null,
      "outputs": []
    },
    {
      "cell_type": "code",
      "metadata": {
        "id": "n40Yw7qPOEPf"
      },
      "source": [
        "print(-10  !=  4.0) \t# Distinto que."
      ],
      "execution_count": null,
      "outputs": []
    },
    {
      "cell_type": "code",
      "metadata": {
        "id": "APBM-iP9OGsr"
      },
      "source": [
        "print(-10  >   4.0)  # Mayor que.   "
      ],
      "execution_count": null,
      "outputs": []
    },
    {
      "cell_type": "code",
      "metadata": {
        "id": "fEN1lR6GuwMd"
      },
      "source": [
        "# También sirven con datos que tienen orden, como el orden alfanumérico de las cadenas de texto.\n",
        "print('Hola' < 'Hola a todos')"
      ],
      "execution_count": null,
      "outputs": []
    },
    {
      "cell_type": "code",
      "metadata": {
        "id": "MujdFQx0OIex"
      },
      "source": [
        "print(-10  <   4.0)  # Menor que.    "
      ],
      "execution_count": null,
      "outputs": []
    },
    {
      "cell_type": "code",
      "metadata": {
        "id": "8anQbFFpOJtz"
      },
      "source": [
        "print(-10  >=  4.0)  # Mayor o igual que.   "
      ],
      "execution_count": null,
      "outputs": []
    },
    {
      "cell_type": "code",
      "metadata": {
        "id": "5nc0mVCPOLB0"
      },
      "source": [
        "print(-10  <=  4.0)  # Menor o igual que. "
      ],
      "execution_count": null,
      "outputs": []
    },
    {
      "cell_type": "markdown",
      "metadata": {
        "id": "xhz9PdUWVSIK"
      },
      "source": [
        "También existen operadores lógicos usados para expresiones booleanas compuestas. Estos son:\n",
        "\n",
        "*   AND lógico. \t\t**`and`**\n",
        "*   OR lógico. \t\t  **`or`**\n",
        "*   NOT. negación. \t**`not`**"
      ]
    },
    {
      "cell_type": "code",
      "metadata": {
        "id": "7IC0ivGzVIlY"
      },
      "source": [
        "# Operadores de datos lógicos:\n",
        "\n",
        "a = True\n",
        "b = False"
      ],
      "execution_count": null,
      "outputs": []
    },
    {
      "cell_type": "code",
      "metadata": {
        "id": "kwtnGqdrOSEK"
      },
      "source": [
        "print(a and b)   #AND lógico. \t\t\t"
      ],
      "execution_count": null,
      "outputs": []
    },
    {
      "cell_type": "code",
      "metadata": {
        "id": "UyDxOwTgOTPb"
      },
      "source": [
        "print(a or b)\t   #OR lógico. \t\t\t"
      ],
      "execution_count": null,
      "outputs": []
    },
    {
      "cell_type": "code",
      "metadata": {
        "id": "1_oHPqmlOU8V"
      },
      "source": [
        "print(not a)\t\t #Negación"
      ],
      "execution_count": null,
      "outputs": []
    },
    {
      "cell_type": "code",
      "metadata": {
        "id": "fwOjNLJAOWET"
      },
      "source": [
        "# Operaciones compuestas\n",
        "\n",
        "print( (a and b) or (not b) )"
      ],
      "execution_count": null,
      "outputs": []
    },
    {
      "cell_type": "markdown",
      "metadata": {
        "id": "OUGF43NNVPbN"
      },
      "source": [
        "Además de estos operadores, se puede usar el operador **`is`**, que valida la identidad de un objeto. Para entender esto, tenemos que por su parte el operador **`==`** valida la igualdad de contenido de un objeto, mientras que el operador **`is`** valida si dos objetos, además de ser iguales en contenido, contienen la misma referencia en memoria, es decir, valida si son el mismo objeto. Si los valores son primitivas numéricas o lógicas el operador **`is`** retornará **`True`**."
      ]
    },
    {
      "cell_type": "code",
      "metadata": {
        "id": "8GVApzneVK3s"
      },
      "source": [
        "# Operador is\n",
        "\n",
        "print('Operador is')\n",
        "a = 1.0\n",
        "b = 1\n",
        "\n",
        "print(a is b) # No tienen el mismo tipo de dato y por lo tanto son objetos distintos.\n",
        "print(a == b) # Contienen el mismo valor al verificar su igualdad."
      ],
      "execution_count": null,
      "outputs": []
    },
    {
      "cell_type": "markdown",
      "metadata": {
        "id": "_kCGfF1gMnPv"
      },
      "source": [
        "## **5. Colecciones**\n",
        "---\n",
        "\n",
        "Las colecciones son tipos de datos que permiten almacenar múltiples valores en una misma variable. Las distintas maneras en que se organizan estos datos para su lectura y escritura se conocen como **estructuras de datos**. *Python* tiene 3 estructuras definidas como primitivas por defecto del lenguaje, que pueden ser definidas con sintaxis especial. Para estructuras más complejas, se suele recurrir a la [librería estándar de Python](https://docs.python.org/3/library/) o librerías especializadas como [NumPy](https://numpy.org/) y [Pandas](https://pandas.pydata.org/) que estudiaremos posteriormente."
      ]
    },
    {
      "cell_type": "markdown",
      "metadata": {
        "id": "aJRRsXgnfail"
      },
      "source": [
        "### **5.1. Listas**\n",
        "---\n",
        "Las listas son el tipo de colección más común. Son estructuras de datos ordenadas con longitud variable. Esto quiere decir, que tras su declaración se pueden agregar o eliminar elementos específicos de su contenido. Además, estos elementos ocupan una posición definida secuencialmente, siendo el primer elemento el que ocupa la posición **`0`**.\n",
        "\n",
        "Existen dos formas de declarar listas en *Python*:\n",
        "*   Con llaves cuadradas. &nbsp;&nbsp; **Ejemplo:** `l = []`\n",
        "*   Con la función **`list`**. &nbsp;&nbsp;&nbsp;&nbsp; **Ejemplo:** `l = list()`\n",
        "\n",
        "En el momento de su definición, se pueden definir valores por defecto, separados por coma. \n"
      ]
    },
    {
      "cell_type": "code",
      "metadata": {
        "id": "YaHYPSE2xt4v"
      },
      "source": [
        "l = [1, 2, 3, 4, 5]\n",
        "print(l)\n",
        "type(l)"
      ],
      "execution_count": null,
      "outputs": []
    },
    {
      "cell_type": "markdown",
      "metadata": {
        "id": "0Rz6rP7xxuKd"
      },
      "source": [
        "El tipo de dato de sus elementos no tiene porqué ser el mismo. Por ejemplo:"
      ]
    },
    {
      "cell_type": "code",
      "metadata": {
        "id": "1TJj37-qip1r"
      },
      "source": [
        "l = [1, 'Hola', 4.5]\n",
        "print(l)\n",
        "type(l)"
      ],
      "execution_count": null,
      "outputs": []
    },
    {
      "cell_type": "markdown",
      "metadata": {
        "id": "R4czWBaByNvI"
      },
      "source": [
        "Incluso, una lista puede almacenar otras listas anidadas:"
      ]
    },
    {
      "cell_type": "code",
      "metadata": {
        "id": "R2TpEWJtyJ12"
      },
      "source": [
        "l = [1, 2.5, [4, 5, 6, 7], \"Fin\"]\n",
        "print(l)\n",
        "type(l)"
      ],
      "execution_count": null,
      "outputs": []
    },
    {
      "cell_type": "markdown",
      "metadata": {
        "id": "D6cuICD5KKFc"
      },
      "source": [
        "Se pueden realizar operaciones entre listas mediante algunos operadores. Es importante tener en cuenta los tipos de dato, pues símbolos como estos funcionan de manera distinta en relación al tipo de dato que manejan. Estos operadores básicos son:\n",
        "\n",
        "*   **Concatenación `+`**: Al aplicar este operador, se agregan los elementos de la segunda lista al final de la primera.\n",
        "*   **Repetición `*`**: Al aplicar este operador, se repiten los elementos la cantidad de veces expresada en el segundo operando."
      ]
    },
    {
      "cell_type": "code",
      "metadata": {
        "id": "JKv6AONIKL83"
      },
      "source": [
        "l_a = [1, 2, 3]\n",
        "l_b = ['a', 'b', 'c']"
      ],
      "execution_count": null,
      "outputs": []
    },
    {
      "cell_type": "code",
      "metadata": {
        "id": "V7ElnFxeOijb"
      },
      "source": [
        "# Concatenación\n",
        "print(l_a + l_b)"
      ],
      "execution_count": null,
      "outputs": []
    },
    {
      "cell_type": "code",
      "metadata": {
        "id": "7ifQZ2P7OmUj"
      },
      "source": [
        "# Repetición\n",
        "print(l_a * 3)"
      ],
      "execution_count": null,
      "outputs": []
    },
    {
      "cell_type": "markdown",
      "metadata": {
        "id": "iqjlReUQ7Hcu"
      },
      "source": [
        " Una vez se declara una lista, su contenido puede variar mediante métodos predeterminados. Estos son algunos de los métodos más comunes para ejecutar en listas:\n",
        "\n",
        " *  **`l.append(e)`** : Agrega el elemento **`e`** al final de la lista.\n",
        " *  **`l.remove(e)`** : Elimina la primera aparición del elemento **`e`** de la lista.\n",
        " *  **`l.insert(i, e)`** : Agrega el elemento **`e`** a la lista en la posición **`i`**.\n",
        " *  **`l.pop(i)`** : Elimina y retorna el elemento en la posición **`i`**.\n",
        " *  **`l.sort()`** : Ordena los elementos de menor a mayor. Con el argumento **`reverse = True`** se puede indicar el orden contrario.\n",
        "\n",
        "*  **`l.clear()`**: Vacía la lista.\n",
        "*  **`l.index(e)`**: Retorna la posición del elemento **`e`**.\n",
        "*  **`l.copy()`**: Crea y retorna una copia de la lista.\n"
      ]
    },
    {
      "cell_type": "code",
      "metadata": {
        "id": "RX2M51Ah7H9a"
      },
      "source": [
        "lista = ['c', 'a', 'b', 'x']"
      ],
      "execution_count": null,
      "outputs": []
    },
    {
      "cell_type": "code",
      "metadata": {
        "id": "9PL_EpN5MAbY"
      },
      "source": [
        "lista.append('d')\n",
        "print(lista)"
      ],
      "execution_count": null,
      "outputs": []
    },
    {
      "cell_type": "code",
      "metadata": {
        "id": "gsFI_IkRMDtN"
      },
      "source": [
        "lista.insert(0 , 'e')\n",
        "print(lista)"
      ],
      "execution_count": null,
      "outputs": []
    },
    {
      "cell_type": "code",
      "metadata": {
        "id": "AUunUCzdMGAu"
      },
      "source": [
        "lista.sort()\n",
        "print(lista)"
      ],
      "execution_count": null,
      "outputs": []
    },
    {
      "cell_type": "code",
      "metadata": {
        "id": "Gxz48MGqMIEx"
      },
      "source": [
        "lista.remove('d')\n",
        "print(lista)"
      ],
      "execution_count": null,
      "outputs": []
    },
    {
      "cell_type": "code",
      "metadata": {
        "id": "7-KHaiMd-8zS"
      },
      "source": [
        "# Otra forma de eliminar un elemento de la lista por su índice\n",
        "del lista[4]"
      ],
      "execution_count": null,
      "outputs": []
    },
    {
      "cell_type": "code",
      "metadata": {
        "id": "DqgAO-hwMJTA"
      },
      "source": [
        "eliminado = lista.pop(1) # Elimina un elemento por su índice y retorna su valor\n",
        "print(lista)\n",
        "print(eliminado)"
      ],
      "execution_count": null,
      "outputs": []
    },
    {
      "cell_type": "code",
      "metadata": {
        "id": "7lvxBWCKMKyT"
      },
      "source": [
        "print(lista.index('e')) # El primer elemento tiene el índice 0"
      ],
      "execution_count": null,
      "outputs": []
    },
    {
      "cell_type": "code",
      "metadata": {
        "id": "GzjAhHRHMMBp"
      },
      "source": [
        "copia = lista.copy()\n",
        "print(copia)"
      ],
      "execution_count": null,
      "outputs": []
    },
    {
      "cell_type": "code",
      "metadata": {
        "id": "F8AkKE1yzD9w"
      },
      "source": [
        "print(lista == copia) # True - contienen los mismos elementos\n",
        "print(lista is copia) # False - son objetos diferentes"
      ],
      "execution_count": null,
      "outputs": []
    },
    {
      "cell_type": "code",
      "metadata": {
        "id": "GnvLhBqdMNcF"
      },
      "source": [
        "lista.clear()\n",
        "print(lista)\n",
        "print(copia)"
      ],
      "execution_count": null,
      "outputs": []
    },
    {
      "cell_type": "markdown",
      "metadata": {
        "id": "CYgNz2br00v8"
      },
      "source": [
        "Para reasignar el valor de un elemento de la lista:"
      ]
    },
    {
      "cell_type": "code",
      "metadata": {
        "id": "pbZmN7wi0zxZ"
      },
      "source": [
        "copia[1] = 'Nuevo valor'\n",
        "print(copia)"
      ],
      "execution_count": null,
      "outputs": []
    },
    {
      "cell_type": "markdown",
      "metadata": {
        "id": "XqTSohuL1xYZ"
      },
      "source": [
        "El operador **`in`** es muy utilizado para saber si un elemento pertenece a una lista:"
      ]
    },
    {
      "cell_type": "code",
      "metadata": {
        "id": "MjHmRoEx14Z4"
      },
      "source": [
        "'x' in copia"
      ],
      "execution_count": null,
      "outputs": []
    },
    {
      "cell_type": "code",
      "metadata": {
        "id": "g8CESIMD2BKy"
      },
      "source": [
        "'e' in copia"
      ],
      "execution_count": null,
      "outputs": []
    },
    {
      "cell_type": "markdown",
      "metadata": {
        "id": "XElWfyFdoqmM"
      },
      "source": [
        "Además de con métodos, los elementos contenidos en una lista pueden ser accedidos por medio de su índice o posición en la lista. Para esto se usa la sintaxis de llaves cuadradas `[` y `]`. Dentro de las llaves se indica el índice o el rango de elementos que se desea retornar o modificar, siendo el primer elemento el del índice $0$. Las formas de usar estos índices es la siguiente:\n",
        "\n",
        "*   **`l[i]`**: Se retorna el elemento en la posición **`i`**.\n",
        "* **`l[-i]`**: Si se indican elementos negativos el conteo de la posición se hace desde el final de la lista.\n",
        "*   **`l[a:b]`**: Se retornan los elementos desde la posición **`a`** (incluida) hasta la posición **`b`** (excluida).\n",
        "*   **`l[a:b:n]`**: Se retornan los elementos desde la posición **`a`** (incluida) hasta la posición **`b`** (excluida), dando saltos cada **`n`** elementos.\n"
      ]
    },
    {
      "cell_type": "code",
      "metadata": {
        "id": "F6HYz6z-q0CT"
      },
      "source": [
        "lista = [1, 2, 3, 4, 5, 6, 7, 8]"
      ],
      "execution_count": null,
      "outputs": []
    },
    {
      "cell_type": "code",
      "metadata": {
        "id": "leMVoLSlOyi6"
      },
      "source": [
        "print(lista[0]) # El elemento en el índice 0 es el de la primera posición."
      ],
      "execution_count": null,
      "outputs": []
    },
    {
      "cell_type": "code",
      "metadata": {
        "id": "aZ3T8bAlO9db"
      },
      "source": [
        "print(lista[-1]) # El elemento en la posición -1 es el último de la lista."
      ],
      "execution_count": null,
      "outputs": []
    },
    {
      "cell_type": "code",
      "metadata": {
        "id": "RJd_tbmyPFd8"
      },
      "source": [
        "print(lista[0:3])"
      ],
      "execution_count": null,
      "outputs": []
    },
    {
      "cell_type": "code",
      "metadata": {
        "id": "oQyoTJVOPK1a"
      },
      "source": [
        "print(lista[0:7:2])"
      ],
      "execution_count": null,
      "outputs": []
    },
    {
      "cell_type": "code",
      "metadata": {
        "id": "YAR5Op1yPS21"
      },
      "source": [
        "print(lista[:3]) # Si no se agrega el inicio, Python lo interpreta como el inicio de la lista."
      ],
      "execution_count": null,
      "outputs": []
    },
    {
      "cell_type": "code",
      "metadata": {
        "id": "6Ntva4CvPcNh"
      },
      "source": [
        "print(lista[3:]) # Si no se agrega el final, Python lo interpreta como el final de la lista."
      ],
      "execution_count": null,
      "outputs": []
    },
    {
      "cell_type": "code",
      "metadata": {
        "id": "euPMR_7EPlxB"
      },
      "source": [
        "print(lista[::-1]) #Se pueden omitir ambos. Si el paso es negativo, se realiza la iteración desde el final."
      ],
      "execution_count": null,
      "outputs": []
    },
    {
      "cell_type": "markdown",
      "metadata": {
        "id": "pUXJK7YS2IHy"
      },
      "source": [
        "Esto mismo aplica cuando tenemos listas anidadas:"
      ]
    },
    {
      "cell_type": "code",
      "metadata": {
        "id": "voMB0byUDcja"
      },
      "source": [
        "anidada = [1, 2, [3, 4], 5]"
      ],
      "execution_count": null,
      "outputs": []
    },
    {
      "cell_type": "code",
      "metadata": {
        "id": "HX0Dye88Dcjc"
      },
      "source": [
        "anidada[2]"
      ],
      "execution_count": null,
      "outputs": []
    },
    {
      "cell_type": "code",
      "metadata": {
        "id": "e51T5pcDDcje"
      },
      "source": [
        "anidada[2][1]"
      ],
      "execution_count": null,
      "outputs": []
    },
    {
      "cell_type": "code",
      "metadata": {
        "id": "x8ZkhMKZDcjg"
      },
      "source": [
        "anidada = [1, 2, 3, [4, 5, ['objetivo']], 10]"
      ],
      "execution_count": null,
      "outputs": []
    },
    {
      "cell_type": "code",
      "metadata": {
        "id": "OHrC8y0SDcjh"
      },
      "source": [
        "anidada[3]"
      ],
      "execution_count": null,
      "outputs": []
    },
    {
      "cell_type": "code",
      "metadata": {
        "id": "ek3utVR1Dcji"
      },
      "source": [
        "anidada[3][2]"
      ],
      "execution_count": null,
      "outputs": []
    },
    {
      "cell_type": "code",
      "metadata": {
        "id": "IKxiqLhVDcjm"
      },
      "source": [
        "anidada[3][2][0]"
      ],
      "execution_count": null,
      "outputs": []
    },
    {
      "cell_type": "markdown",
      "metadata": {
        "id": "fbUr9oZjqOv6"
      },
      "source": [
        "Las cadenas de texto pueden interpretarse como listas de caracteres. Se pueden usar las operaciones con índices de las listas para trocear subcadenas de texto directamente."
      ]
    },
    {
      "cell_type": "code",
      "metadata": {
        "id": "SPZyXtDxDcic"
      },
      "source": [
        "s = \"Análisis y Visualización de Datos con Python - UNAL\""
      ],
      "execution_count": null,
      "outputs": []
    },
    {
      "cell_type": "code",
      "metadata": {
        "id": "mEis3UffDcih"
      },
      "source": [
        "s[0]"
      ],
      "execution_count": null,
      "outputs": []
    },
    {
      "cell_type": "code",
      "metadata": {
        "id": "Iun3pxXXDcik"
      },
      "source": [
        "s[3]"
      ],
      "execution_count": null,
      "outputs": []
    },
    {
      "cell_type": "code",
      "metadata": {
        "id": "5qgh87v-pM0T"
      },
      "source": [
        "s[38:44]"
      ],
      "execution_count": null,
      "outputs": []
    },
    {
      "cell_type": "code",
      "metadata": {
        "id": "8oeMFF4GDcin"
      },
      "source": [
        "s[38:]"
      ],
      "execution_count": null,
      "outputs": []
    },
    {
      "cell_type": "code",
      "metadata": {
        "id": "gJgq9Y8uDcir"
      },
      "source": [
        "s[:25]"
      ],
      "execution_count": null,
      "outputs": []
    },
    {
      "cell_type": "code",
      "metadata": {
        "id": "DpBKbq199zCc"
      },
      "source": [
        "s[-4:]"
      ],
      "execution_count": null,
      "outputs": []
    },
    {
      "cell_type": "code",
      "metadata": {
        "id": "2QYDlWjJDciw"
      },
      "source": [
        "s[:]"
      ],
      "execution_count": null,
      "outputs": []
    },
    {
      "cell_type": "code",
      "metadata": {
        "id": "mYVMMg8BDci1"
      },
      "source": [
        "s[::-1]"
      ],
      "execution_count": null,
      "outputs": []
    },
    {
      "cell_type": "code",
      "metadata": {
        "id": "0Ehc5eEUqy7b"
      },
      "source": [
        "s = 'Amo la pacífica paloma'\n",
        "print(s[::-1])"
      ],
      "execution_count": null,
      "outputs": []
    },
    {
      "cell_type": "code",
      "metadata": {
        "id": "fWFPl0_-QM5V"
      },
      "source": [
        "s = 'Exsxtxex xmxexnxsxaxjxex xexsxtxáx xoxcxuxlxtxox'\n",
        "s[0::2]"
      ],
      "execution_count": null,
      "outputs": []
    },
    {
      "cell_type": "markdown",
      "metadata": {
        "id": "wQJ3yhB8fe8E"
      },
      "source": [
        "### **5.2. Tuplas**\n",
        "---\n",
        "\n",
        "Las tuplas son casi idénticas a las listas. La única diferencia importante entre ambos tipos de dato es que las tuplas son **inmutables**. Esto quiere decir que una vez que son declaradas, no es posible modificar sus valores. Una variable con una tupla puede recibir valores distintos, pero los elementos particulares de la tupla son inalterables en toda la ejecución del programa.\n",
        "\n",
        "Las tuplas son declaradas con la sintaxis de paréntesis `(` y `)`, separando los elementos con comas `,`. Al igual que con las listas, los tipos de dato de los elementos de una tupla pueden ser distintos.\n"
      ]
    },
    {
      "cell_type": "code",
      "metadata": {
        "id": "BusRfoHxDcj-"
      },
      "source": [
        "tupla = (1, 2, 3)"
      ],
      "execution_count": null,
      "outputs": []
    },
    {
      "cell_type": "code",
      "metadata": {
        "id": "MX0ZtBqiDcj_"
      },
      "source": [
        "tupla"
      ],
      "execution_count": null,
      "outputs": []
    },
    {
      "cell_type": "code",
      "metadata": {
        "id": "mZJbo5IoDckA"
      },
      "source": [
        "tupla[0]"
      ],
      "execution_count": null,
      "outputs": []
    },
    {
      "cell_type": "code",
      "metadata": {
        "id": "QkWRmEIzDckA"
      },
      "source": [
        "#tupla[0] = 'Nuevo valor' # las tuplas son inmutables, no se puede reasignar. \n",
        "# ¡Cuidado! Obtendrá un error si se ejecuta"
      ],
      "execution_count": null,
      "outputs": []
    },
    {
      "cell_type": "code",
      "metadata": {
        "id": "RD3KrYv34U3j"
      },
      "source": [
        "tupla"
      ],
      "execution_count": null,
      "outputs": []
    },
    {
      "cell_type": "markdown",
      "metadata": {
        "id": "BvHS-VDa4nFy"
      },
      "source": [
        "Podrían contener varios tipos de dato:"
      ]
    },
    {
      "cell_type": "code",
      "metadata": {
        "id": "6I8ayyGpitXu"
      },
      "source": [
        "t = ( 0, [1,2,3], 'cadena')\n",
        "print(t)"
      ],
      "execution_count": null,
      "outputs": []
    },
    {
      "cell_type": "markdown",
      "metadata": {
        "id": "fqgZEeqjb__n"
      },
      "source": [
        "Las tuplas son particularmente útiles como valores de retorno de funciones. Gracias a ellas, se pueden definir valores de retorno separados por coma y luego, al llamar la función, desestructurar los valores en variables distintas. La definición de funciones se verá más adelante en el material."
      ]
    },
    {
      "cell_type": "markdown",
      "metadata": {
        "id": "ZyGEo5ZdffF0"
      },
      "source": [
        "### **5.3. Conjuntos**\n",
        "---\n",
        "\n",
        "*Python* permite la definición directa de conjuntos con la sintaxis de llaves curvadas `{`y `}`, con elementos separados por comas `,`. Los conjuntos son colecciones de datos sin orden. Las operaciones definidas en conjuntos corresponden en su mayoría a aquellas del concepto matemático de conjunto. Los elementos no se indexan, sino que se añaden o eliminan directamente. Después, se puede validar si un elemento pertenece o no a un conjunto. Si se desea declarar un conjunto vacío, se tiene que usar la función **`set()`**.\n"
      ]
    },
    {
      "cell_type": "code",
      "metadata": {
        "id": "hAmYOfqyDckD"
      },
      "source": [
        "{1, 2, 3}"
      ],
      "execution_count": null,
      "outputs": []
    },
    {
      "cell_type": "code",
      "metadata": {
        "id": "QSiK2W33DckE"
      },
      "source": [
        "{1, 2, 3, 1, 2, 1, 2, 3, 3, 3, 3, 2, 2, 2, 1, 1, 2}"
      ],
      "execution_count": null,
      "outputs": []
    },
    {
      "cell_type": "code",
      "metadata": {
        "id": "2YVVO2sLDckG"
      },
      "source": [
        "s = {1, 2, 3}\n",
        "print(s)"
      ],
      "execution_count": null,
      "outputs": []
    },
    {
      "cell_type": "code",
      "metadata": {
        "id": "CRpSMKK-DckF"
      },
      "source": [
        "# Conjunto construido a partir de una lista\n",
        "set([1, 1, 1, 2, 2, 6, 6, 2, 8, 1, 3])"
      ],
      "execution_count": null,
      "outputs": []
    },
    {
      "cell_type": "code",
      "metadata": {
        "id": "moY9MdUyiuBi"
      },
      "source": [
        "# Conjunto vacío.\n",
        "s = set()\n",
        "print(s)"
      ],
      "execution_count": null,
      "outputs": []
    },
    {
      "cell_type": "markdown",
      "metadata": {
        "id": "icS0imVZ4_1s"
      },
      "source": [
        "Algunas de las operaciones definidas en conjuntos son.\n",
        "\n",
        "*   **`s.add(e)`** : Añade el elemento **`e`** al conjunto **`s`**. Si ya existe un elemento igual no ocurre nada.\n",
        "*   **`s.remove(e)`** : Elimina el elemento **`e`** del conjunto **`s`**. Si no existe, arroja un error.\n",
        "*   **`s.discard(e)`** : Elimina el elemento **`e`** del conjunto **`s`**. Si no existe no ocurre nada.\n",
        "*   **`s.pop()`** : Elimina y retorna un elemento aleatorio del conjunto **`s`**.\n",
        "*   **`s.clear()`** : Vacía el conjunto.\n",
        "*   **`s.copy()`** : Retorna una copia del conjunto **`s`**.\n"
      ]
    },
    {
      "cell_type": "code",
      "metadata": {
        "id": "TAt8j_OQQx_F"
      },
      "source": [
        "s.add('a')\n",
        "s.add('b')\n",
        "s.add('a')\n",
        "s.add('c')\n",
        "print(s)"
      ],
      "execution_count": null,
      "outputs": []
    },
    {
      "cell_type": "code",
      "metadata": {
        "id": "V-ScalZURsK_"
      },
      "source": [
        "s.remove('c') # Si el elemento no está en el conjunto, arroja un error.\n",
        "print(s)"
      ],
      "execution_count": null,
      "outputs": []
    },
    {
      "cell_type": "code",
      "metadata": {
        "id": "ro1d2rK_Rn8i"
      },
      "source": [
        "s.discard('c') # Si el elemento no está en el conjunto, ignora la operación.\n",
        "print(s)"
      ],
      "execution_count": null,
      "outputs": []
    },
    {
      "cell_type": "code",
      "metadata": {
        "id": "zG1M-JgWR84_"
      },
      "source": [
        "print(s.pop())\n",
        "print(s)"
      ],
      "execution_count": null,
      "outputs": []
    },
    {
      "cell_type": "markdown",
      "metadata": {
        "id": "APZ4NSLARgnx"
      },
      "source": [
        "Además, se definen algunos métodos específicos para realizar operaciones entre conjuntos. Para dos conjuntos **`a`** y **`b`** se definen:\n",
        "\n",
        "*  **`a.difference(b)`** : Retorna un conjunto con los elementos que están en **`a`** pero no en **`b`**.\n",
        "*  **`a.intersection(b)`** : Retorna un conjunto con los elementos que están tanto en **`a`** como en **`b`**.\n",
        "*  **`a.union(b)`** : Retorna un conjunto con los elementos que están en **`a`** y los que están en **`b`**.\n",
        "*  **`a.symmetric_difference(b)`** : Retorna un conjunto con los elementos que están en **`a`** o en **`b`**, pero no en ambos.\n",
        "\n",
        "* **`a.issuperset(b)`** : Evalúa si el conjunto **`a`** contiene todos los elementos del conjunto **`b`**.\n",
        "*  **`a.issubset(b)`** : Evalúa si todos los elementos del conjunto **`a`** pertenecen al conjunto **`b`**.\n",
        "*  **`a.isdisjoint(b)`** : Evalúa si los conjuntos **`a`** y **`b`** son disyuntos. Es decir, si ninguno de sus elementos pertenece al otro conjunto."
      ]
    },
    {
      "cell_type": "code",
      "metadata": {
        "id": "s75VmzrISUVu"
      },
      "source": [
        "a = { 'a', 'b', 'c', 'd', 'e', 'f', 'g'}\n",
        "b = { 'a' ,'b', 'c', 'd', 'e', 'x'}"
      ],
      "execution_count": null,
      "outputs": []
    },
    {
      "cell_type": "code",
      "metadata": {
        "id": "a-upTR8jSe0W"
      },
      "source": [
        "a.difference(b)"
      ],
      "execution_count": null,
      "outputs": []
    },
    {
      "cell_type": "code",
      "metadata": {
        "id": "lNPHb6AzSk97"
      },
      "source": [
        "a.intersection(b)"
      ],
      "execution_count": null,
      "outputs": []
    },
    {
      "cell_type": "code",
      "metadata": {
        "id": "5kNCnbitSn95"
      },
      "source": [
        "a.union(b)"
      ],
      "execution_count": null,
      "outputs": []
    },
    {
      "cell_type": "code",
      "metadata": {
        "id": "cf9iRvV6Soch"
      },
      "source": [
        "a.symmetric_difference(b)"
      ],
      "execution_count": null,
      "outputs": []
    },
    {
      "cell_type": "code",
      "metadata": {
        "id": "rIj_qQr0So7J"
      },
      "source": [
        "a.issuperset(b)"
      ],
      "execution_count": null,
      "outputs": []
    },
    {
      "cell_type": "code",
      "metadata": {
        "id": "W2ePSjxaTArK"
      },
      "source": [
        "a.issubset(b)"
      ],
      "execution_count": null,
      "outputs": []
    },
    {
      "cell_type": "code",
      "metadata": {
        "id": "xTwmcdmcTC1-"
      },
      "source": [
        "a.isdisjoint(b)"
      ],
      "execution_count": null,
      "outputs": []
    },
    {
      "cell_type": "markdown",
      "metadata": {
        "id": "z-Qwu8J-Hv8C"
      },
      "source": [
        "### **5.4. Diccionarios**\n",
        "---\n",
        "Los diccionarios son una estructura de datos sin orden, como los conjuntos, de **pares clave-valor**. Las claves que se definen son únicas y permiten consultar los valores almacenados en el diccionario directamente usando la clave en vez de una posición. Al igual que con los conjuntos, se declaran con la notación de llaves curvadas `{` y `}` con parejas **`clave : valor`** separadas por coma."
      ]
    },
    {
      "cell_type": "code",
      "metadata": {
        "id": "UTbQHmc3jsGg"
      },
      "source": [
        "clave = 'clave' #Cualquier objeto inmutable, como cadenas, números o tuplas.\n",
        "valor = 'valor'\n",
        "diccionario = {\n",
        "                 clave : valor,\n",
        "                 clave + '1' : valor + '1'\n",
        "              }\n",
        "\n",
        "print(diccionario)"
      ],
      "execution_count": null,
      "outputs": []
    },
    {
      "cell_type": "markdown",
      "metadata": {
        "id": "Mg9KP2e8jsb9"
      },
      "source": [
        "Para acceder a los elementos de un diccionario se utiliza una sintaxis similar a la utilizada en listas y tuplas con llaves cuadradas `[` y `]`.  Dentro de las llaves se indica la clave asociada, que puede ser cualquier tipo de dato inmutable como valores numéricos, tuplas, o cadenas de texto. Las claves solo pueden estar asociadas a un elemento, por lo que al asignar valores a una clave previamente ocupada se sobreescribe el valor anterior."
      ]
    },
    {
      "cell_type": "code",
      "metadata": {
        "id": "AWvWee2HjuVZ"
      },
      "source": [
        "d = {}\n",
        "\n",
        "d['a'] = 'a'\n",
        "d[(0,1)] = 'tupla'\n",
        "\n",
        "print(d)"
      ],
      "execution_count": null,
      "outputs": []
    },
    {
      "cell_type": "code",
      "metadata": {
        "id": "Ye1_t3_9Dcjs"
      },
      "source": [
        "d = {100:'elemento 1',\n",
        "     'clave2':2000}\n",
        "     \n",
        "print(d)"
      ],
      "execution_count": null,
      "outputs": []
    },
    {
      "cell_type": "code",
      "metadata": {
        "id": "FejgOggYDcju"
      },
      "source": [
        "#d[0]\n",
        "#Saldrá un error. Por eso está comentado. \n",
        "#Los diccionarios no se indexan numéricamente, sino por sus claves y en este caso 0 no es una clave válida. "
      ],
      "execution_count": null,
      "outputs": []
    },
    {
      "cell_type": "code",
      "metadata": {
        "id": "GyRZdGnmDcjv"
      },
      "source": [
        "d[100]"
      ],
      "execution_count": null,
      "outputs": []
    },
    {
      "cell_type": "code",
      "metadata": {
        "id": "nZGA-fAYDcjv"
      },
      "source": [
        "d['clave2']"
      ],
      "execution_count": null,
      "outputs": []
    },
    {
      "cell_type": "code",
      "metadata": {
        "id": "oJGnlsKBDcjw"
      },
      "source": [
        "d"
      ],
      "execution_count": null,
      "outputs": []
    },
    {
      "cell_type": "code",
      "metadata": {
        "id": "JSwGGGjPDcjx"
      },
      "source": [
        "d = {'k1':[1, 2, 3, 4, 5], 'k2': 'Hola'}"
      ],
      "execution_count": null,
      "outputs": []
    },
    {
      "cell_type": "code",
      "metadata": {
        "id": "OReVtAxHDcjy"
      },
      "source": [
        "d['k1']"
      ],
      "execution_count": null,
      "outputs": []
    },
    {
      "cell_type": "code",
      "metadata": {
        "id": "svdAxtpcDcj0"
      },
      "source": [
        "lista = d['k1']"
      ],
      "execution_count": null,
      "outputs": []
    },
    {
      "cell_type": "code",
      "metadata": {
        "id": "Bvz2uDAODcj1"
      },
      "source": [
        "lista"
      ],
      "execution_count": null,
      "outputs": []
    },
    {
      "cell_type": "code",
      "metadata": {
        "id": "8I7Cj9iQDcj1"
      },
      "source": [
        "lista[3]"
      ],
      "execution_count": null,
      "outputs": []
    },
    {
      "cell_type": "code",
      "metadata": {
        "id": "sC0oVroSDcjz"
      },
      "source": [
        "d['k1'][3]"
      ],
      "execution_count": null,
      "outputs": []
    },
    {
      "cell_type": "code",
      "metadata": {
        "id": "6M_WiWTJDcj2"
      },
      "source": [
        "# un diccionario anidado dentro de otro diccionario\n",
        "d = {'k1':{\n",
        "          '1a' : [1, 2, 3, 10]\n",
        "           }\n",
        "     }"
      ],
      "execution_count": null,
      "outputs": []
    },
    {
      "cell_type": "code",
      "metadata": {
        "id": "PcmONy3sDcj4"
      },
      "source": [
        "d['k1']"
      ],
      "execution_count": null,
      "outputs": []
    },
    {
      "cell_type": "code",
      "metadata": {
        "id": "b4i2OprmDcj4"
      },
      "source": [
        "d['k1']['1a']"
      ],
      "execution_count": null,
      "outputs": []
    },
    {
      "cell_type": "code",
      "metadata": {
        "id": "ZqoRw9j9Dcj5"
      },
      "source": [
        "d['k1']['1a'][3]"
      ],
      "execution_count": null,
      "outputs": []
    },
    {
      "cell_type": "code",
      "metadata": {
        "id": "eY7CMHCZDclp"
      },
      "source": [
        "d = {'k1':10, 'k2':20, 'k3':1, 'k4': 'hola'}"
      ],
      "execution_count": null,
      "outputs": []
    },
    {
      "cell_type": "markdown",
      "metadata": {
        "id": "zaDIKxqo8s33"
      },
      "source": [
        "Los diccionarios también tienen funciones especiales muy utilizadas. Siendo **`d`** un diccionario:\n",
        "\n",
        "*  **`d.keys()`** : Retorna una lista con las claves.\n",
        "*  **`d.values()`** : Retorna una lista con los valores.\n",
        "*  **`d.items()`** : Retorna una lista de tuplas con los pares **`(clave, valor)`**.\n",
        "\n",
        ">**IMPORTANTE:** El orden en que se almacenan/retornan los elementos no siempre será el mismo.\n"
      ]
    },
    {
      "cell_type": "code",
      "metadata": {
        "id": "V1GKByMgDclp"
      },
      "source": [
        "d.keys()"
      ],
      "execution_count": null,
      "outputs": []
    },
    {
      "cell_type": "code",
      "metadata": {
        "id": "bs6YOACW9lbO"
      },
      "source": [
        "d.values()"
      ],
      "execution_count": null,
      "outputs": []
    },
    {
      "cell_type": "code",
      "metadata": {
        "id": "lcm40SSyDclq"
      },
      "source": [
        "d.items()"
      ],
      "execution_count": null,
      "outputs": []
    },
    {
      "cell_type": "markdown",
      "metadata": {
        "id": "UpO8ip0f_99-"
      },
      "source": [
        "En el siguiente [enlace](https://www.w3schools.com/python/python_dictionaries.asp) puede consultar muchas más funciones de utilidad al trabajar con diccionarios. "
      ]
    },
    {
      "cell_type": "markdown",
      "metadata": {
        "id": "4r5hSQAz6d-g"
      },
      "source": [
        "## **Recursos adicionales**\n",
        "---\n",
        "\n",
        "*  [*Python* 3: documentación oficial.](https://docs.python.org/3/)\n",
        "*  [How to Think Like a Computer Scientist: Interactive Edition.](https://runestone.academy/runestone/books/published/thinkcspy/index.html)\n",
        "*  [Profesor Fabio González - Programación de Computadores](https://sites.google.com/a/unal.edu.co/prog-comp-2019-2/)\n",
        "* [CodeCademy - Learn Python 3](https://www.codecademy.com/learn/learn-python-3)\n",
        "*  [Kaggle - Python](https://www.codecademy.com/learn/learn-python-3)\n",
        "*  [MIT (edX) - Introduction to Computer Science and Programming Using Python](https://www.edx.org/es/course/introduction-to-computer-science-and-programming-7)\n",
        "*  [Python for everyone](https://www.py4e.com/)"
      ]
    },
    {
      "cell_type": "markdown",
      "metadata": {
        "id": "z4VavQ3wgMGo"
      },
      "source": [
        "## **Créditos**\n",
        "---\n",
        "\n",
        "* **Profesor:** [Felipe Restrepo Calle](https://dis.unal.edu.co/~ferestrepoca/)\n",
        "* **Asistentes docentes:**\n",
        "  - Alberto Nicolai Romero Martínez\n",
        "  - Miguel Angel Ortiz Marín\n",
        "\n",
        "**Universidad Nacional de Colombia** - *Facultad de Ingeniería*"
      ]
    }
  ]
}