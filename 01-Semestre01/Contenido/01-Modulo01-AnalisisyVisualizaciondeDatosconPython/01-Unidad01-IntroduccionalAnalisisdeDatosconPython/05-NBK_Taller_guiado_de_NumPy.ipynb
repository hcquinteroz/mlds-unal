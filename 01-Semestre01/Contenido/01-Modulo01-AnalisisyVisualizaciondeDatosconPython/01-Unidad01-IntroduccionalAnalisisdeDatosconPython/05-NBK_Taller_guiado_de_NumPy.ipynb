{
  "nbformat": 4,
  "nbformat_minor": 0,
  "metadata": {
    "colab": {
      "provenance": []
    },
    "kernelspec": {
      "name": "python3",
      "display_name": "Python 3"
    }
  },
  "cells": [
    {
      "cell_type": "markdown",
      "metadata": {
        "id": "22zXjFMRkUkJ"
      },
      "source": [
        "<img src = \"https://drive.google.com/uc?export=view&id=1zD1_7Y4Ejud8OsuQb49rHGfl9qhihAh5\" alt = \"Encabezado MLDS\" width = \"100%\">  </img>"
      ]
    },
    {
      "cell_type": "markdown",
      "metadata": {
        "id": "d5cRhUl1o8SZ"
      },
      "source": [
        "# **Librería numérica de *Python*: *NumPy***\n",
        "---\n",
        "<img src = \"https://raw.githubusercontent.com/numpy/numpy/master/branding/logo/primary/numpylogo.png\" alt = \"NumPy logo\" width = \"70%\">  </img>\n",
        "\n",
        "\n",
        "*NumPy* (del inglés ***Numerical Python***) es la librería fundamental para la computación científica con *Python*. \n",
        "Contiene funcionalidades de:\n",
        "\n",
        "* Análisis Numérico.\n",
        "* Álgebra lineal y matricial.\n",
        "* Probabilidad y estadística.\n",
        "* Números aleatorios.\n",
        "* Otras herramientas matemáticas.\n",
        "\n",
        "Además de su uso científico, *NumPy* provee una estructura de datos adicional llamada **arreglo**. Un arreglo es un contenedor multidimensional eficiente para datos genéricos. Los arreglos son especialmente útiles en el manejo de grandes volúmenes de datos. Además, estos contenedores se pueden definir con tipos de datos arbitrarios, lo que permite a *NumPy* integrarse de manera rápida y sin problemas con una amplia variedad de bases de datos.\n",
        "\n",
        "*NumPy* también permite un alto rendimiento y mejor optimización de la memoria por sus rutinas implementadas en lenguaje C, que por su naturaleza compilada es más eficiente y cercano al sistema operativo, ideal para esta tarea.\n"
      ]
    },
    {
      "cell_type": "markdown",
      "metadata": {
        "id": "de0P9ZAFo8Sc"
      },
      "source": [
        "## **1. Importar *NumPy***\n",
        "---\n",
        "\n",
        "*NumPy* viene instalado por defecto en la mayoría de las distribuciones de *Python*, en especial en aquellas orientadas a la computación científica. Una vez *NumPy* esté instalado, se puede importar como una librería para su ejecución en código de *Python*. Esto se puede hacer de las siguientes maneras:\n"
      ]
    },
    {
      "cell_type": "markdown",
      "metadata": {
        "id": "83yY4Xppn7SD"
      },
      "source": [
        "\n",
        "**1.1. Importar *NumPy* con el alias `np`**: Es una práctica común en la comunidad de desarrolladores importar *NumPy* con el alias **`np`** en sus llamados en código, y es incluso utilizado de esta forma en su [documentación oficial](https://numpy.org/devdocs/user/quickstart.html). Esta va a ser la forma utilizada en el desarrollo de este tutorial y materiales futuros."
      ]
    },
    {
      "cell_type": "code",
      "metadata": {
        "id": "shLHBZRto8Sd"
      },
      "source": [
        "import numpy as np"
      ],
      "execution_count": 1,
      "outputs": []
    },
    {
      "cell_type": "code",
      "metadata": {
        "id": "M80Cc0GBKfcW",
        "colab": {
          "base_uri": "https://localhost:8080/"
        },
        "outputId": "2c2c6993-5c3b-416d-f455-fe68a7ffe934"
      },
      "source": [
        "np.array(None)"
      ],
      "execution_count": 2,
      "outputs": [
        {
          "output_type": "execute_result",
          "data": {
            "text/plain": [
              "array(None, dtype=object)"
            ]
          },
          "metadata": {},
          "execution_count": 2
        }
      ]
    },
    {
      "cell_type": "markdown",
      "metadata": {
        "id": "xBqhxWCOSlxT"
      },
      "source": [
        "**1.2. Importando *NumPy* sin alias:** Esta alternativa funciona de igual forma que la anterior, pero utilizando **`numpy`** en vez de **`np`** cuando se haga el llamado en código."
      ]
    },
    {
      "cell_type": "code",
      "metadata": {
        "id": "UAqneAPTTFt-"
      },
      "source": [
        "import numpy"
      ],
      "execution_count": 3,
      "outputs": []
    },
    {
      "cell_type": "code",
      "metadata": {
        "id": "jk2ohsosKa5i",
        "colab": {
          "base_uri": "https://localhost:8080/"
        },
        "outputId": "7c7b3b52-79ad-47b8-8b66-08eba5770e2c"
      },
      "source": [
        "numpy.array(None)"
      ],
      "execution_count": 4,
      "outputs": [
        {
          "output_type": "execute_result",
          "data": {
            "text/plain": [
              "array(None, dtype=object)"
            ]
          },
          "metadata": {},
          "execution_count": 4
        }
      ]
    },
    {
      "cell_type": "markdown",
      "metadata": {
        "id": "IKfWxT1qTJPT"
      },
      "source": [
        "**1.3. Importando los métodos de *NumPy*:** Si se hace de esta manera se puede llamar las funciones y atributos de *NumPy* de manera directa. Por ejemplo:"
      ]
    },
    {
      "cell_type": "code",
      "metadata": {
        "id": "2og4jUceTJPV"
      },
      "source": [
        "#El símbolo * indica a Python que importe todos los métodos y atributos de NumPy\n",
        "from numpy import *     "
      ],
      "execution_count": 5,
      "outputs": []
    },
    {
      "cell_type": "code",
      "metadata": {
        "id": "_5x6LoKiV6Mf"
      },
      "source": [
        "#Se pueden importar por separado los elementos con comas (,).\n",
        "from numpy import array, arange   "
      ],
      "execution_count": 6,
      "outputs": []
    },
    {
      "cell_type": "code",
      "metadata": {
        "id": "YalHRsHTTxjw",
        "colab": {
          "base_uri": "https://localhost:8080/"
        },
        "outputId": "c3a7874a-ac64-4f18-ee48-8d348cf86259"
      },
      "source": [
        "array(None)"
      ],
      "execution_count": 7,
      "outputs": [
        {
          "output_type": "execute_result",
          "data": {
            "text/plain": [
              "array(None, dtype=object)"
            ]
          },
          "metadata": {},
          "execution_count": 7
        }
      ]
    },
    {
      "cell_type": "markdown",
      "metadata": {
        "id": "dxNzX3sfq3gZ"
      },
      "source": [
        "Este material se realizó con las siguientes versiones:\n",
        "*  *Python*: 3.6.9\n",
        "*  *NumPy*:  1.19.5"
      ]
    },
    {
      "cell_type": "code",
      "metadata": {
        "id": "jUMP_2CPqwRY",
        "colab": {
          "base_uri": "https://localhost:8080/"
        },
        "outputId": "b23ea27e-472d-43f0-b605-639ec0122bf8"
      },
      "source": [
        "#Versión de Python y NumPy\n",
        "!python --version\n",
        "print('NumPy', np.__version__)"
      ],
      "execution_count": 8,
      "outputs": [
        {
          "output_type": "stream",
          "name": "stdout",
          "text": [
            "Python 3.7.15\n",
            "NumPy 1.21.6\n"
          ]
        }
      ]
    },
    {
      "cell_type": "markdown",
      "metadata": {
        "id": "tYCUoAvko8Si"
      },
      "source": [
        "## **2. `ndarray` - Arreglos de _NumPy_**\n",
        "---\n",
        "\n",
        "Los arreglos son el objeto principal de *NumPy* y en torno a ellos gira toda su funcionalidad. Un arreglo es una colección ordenada de elementos del mismo tipo, como las listas, pero con longitud inmutable. Esto quiere decir que los elementos de cada posición de un arreglo se pueden modificar, a diferencia de las tuplas, pero su longitud no se puede modificar sin crear un objeto nuevo.\n",
        "\n",
        "Los arreglos de *NumPy* pueden representar:\n",
        "  * **Vectores**. (Arreglos de 1 dimensión)\n",
        "  * **Matrices**. (Arreglos de 2 dimensiones) \n",
        "  * **Tensores**. (Arreglos de 3 dimensiones en adelante) \n"
      ]
    },
    {
      "cell_type": "markdown",
      "metadata": {
        "id": "bjMtt-ZIuV7G"
      },
      "source": [
        "Generalmente se recomienda usar arreglos de *NumPy* en vez de listas genéricas de Python. A pesar de ser conceptualmente similares, elegir entre listas y arreglos es una decisión de diseño importante al considerar el desempeño y uso de memoria de un programa. Para conocer más información acerca de por qué usar arreglos en lugar de listas, lo invitamos a consultar [este post de StackOverflow](http://stackoverflow.com/questions/993984/why-numpy-instead-of-python-lists)."
      ]
    },
    {
      "cell_type": "markdown",
      "metadata": {
        "id": "VM4BchnEXdmY"
      },
      "source": [
        "### **2.1. Creación de arreglos**\n",
        "---\n",
        "\n",
        "Existen múltiples formas para crear arreglos de *NumPy*. Para crear arreglos a partir de datos ordenados preexistentes, como tuplas o listas de *Python*, se utiliza la función **`np.array`** que recibe como parámetro el objeto original y genera un objeto **`numpy.ndarray`**. Este es el nombre del tipo de dato de los arreglos de *NumPy*."
      ]
    },
    {
      "cell_type": "code",
      "metadata": {
        "id": "RZqORKZwo8Sj",
        "colab": {
          "base_uri": "https://localhost:8080/"
        },
        "outputId": "1481987b-755b-42aa-d102-ee5d1fbf31b4"
      },
      "source": [
        "# Con listas\n",
        "lista = [1, 2, 3]\n",
        "np.array(lista)"
      ],
      "execution_count": 9,
      "outputs": [
        {
          "output_type": "execute_result",
          "data": {
            "text/plain": [
              "array([1, 2, 3])"
            ]
          },
          "metadata": {},
          "execution_count": 9
        }
      ]
    },
    {
      "cell_type": "code",
      "metadata": {
        "id": "lubnZb-3o8Sn",
        "colab": {
          "base_uri": "https://localhost:8080/"
        },
        "outputId": "b179a811-60ed-43b8-d075-5eaec52303f5"
      },
      "source": [
        "# Con tuplas\n",
        "tupla = (1, [1,2,3], 3)\n",
        "np.array(tupla)"
      ],
      "execution_count": 10,
      "outputs": [
        {
          "output_type": "stream",
          "name": "stderr",
          "text": [
            "/usr/local/lib/python3.7/dist-packages/ipykernel_launcher.py:3: VisibleDeprecationWarning: Creating an ndarray from ragged nested sequences (which is a list-or-tuple of lists-or-tuples-or ndarrays with different lengths or shapes) is deprecated. If you meant to do this, you must specify 'dtype=object' when creating the ndarray.\n",
            "  This is separate from the ipykernel package so we can avoid doing imports until\n"
          ]
        },
        {
          "output_type": "execute_result",
          "data": {
            "text/plain": [
              "array([1, list([1, 2, 3]), 3], dtype=object)"
            ]
          },
          "metadata": {},
          "execution_count": 10
        }
      ]
    },
    {
      "cell_type": "code",
      "metadata": {
        "id": "ftBDpcgao8Sx",
        "colab": {
          "base_uri": "https://localhost:8080/"
        },
        "outputId": "5064b3c7-35f6-48c4-b2e9-a89579926c34"
      },
      "source": [
        "# Con la combinación de tuplas y listas anidadas. Esto genera arreglos de 2 o más dimensiones.\n",
        "matriz = ([1, 2, 3], (4, 5, 6), [7, 8, 9])\n",
        "np.array(matriz)"
      ],
      "execution_count": 11,
      "outputs": [
        {
          "output_type": "execute_result",
          "data": {
            "text/plain": [
              "array([[1, 2, 3],\n",
              "       [4, 5, 6],\n",
              "       [7, 8, 9]])"
            ]
          },
          "metadata": {},
          "execution_count": 11
        }
      ]
    },
    {
      "cell_type": "markdown",
      "metadata": {
        "id": "X3JjoxAlbb_Z"
      },
      "source": [
        "Los elementos que contienen los arreglos deben ser uniformes y homogéneos con respecto a un tipo de dato único. Cuando no se especifica, *NumPy* infiere el tipo de dato apropiado para los datos de entrada. Los tipos de datos soportados por *NumPy* se denominan en su notación como **`dtype`** y se pueden pasar como argumento en la creación de arreglos en la mayoría de funciones. \n",
        "A continuación, se presentan algunos de los nombres usados para los tipos de datos genéricos, con su equivalente en *Python*:\n",
        "\n",
        "| *Numpy* dtype             | *Python* type |\n",
        "|---------------------------|---------------|\n",
        "| number, inexact, floating | float         |\n",
        "| complexfloating           | cfloat        |\n",
        "| integer, signedinteger    | int_          |\n",
        "| unsignedinteger           | uint          |\n",
        "| character                 | string        |\n",
        "| generic, flexible         | void          |\n",
        "\n",
        "\n",
        "Esta es una lista de algunos de los *dtype* numéricos soportados en *NumPy* con su equivalente en el lenguaje de programación C, más cercano a la máquina y en general más eficiente por su naturaleza.\n",
        "\n",
        "| *Numpy* dtype               | C type              |\n",
        "|-----------------------------|---------------------|\n",
        "| np.bool_                    | bool                |\n",
        "| np.byte                     | signed char         |\n",
        "| np.ubyte                    | unsigned char       |\n",
        "| np.short                    | short               |\n",
        "| np.ushort                   | unsigned short      |\n",
        "| np.intc                     | int                 |\n",
        "| np.uintc                    | unsigned int        |\n",
        "| np.int_                     | long                |\n",
        "| np.uint                     | unsigned long       |\n",
        "| np.longlong                 | long long           |\n",
        "| np.ulonglong                | unsigned long long  |\n",
        "| np.half / np.float16        | float               |\n",
        "| np.single                   | float               |\n",
        "| np.double                   | double              |\n",
        "| np.longdouble               | long double         |\n",
        "| np.csingle                  | float complex       |\n",
        "| np.cdouble                  | double complex      |\n",
        "| np.clongdouble              | long double complex |\n",
        "| np.int8                     | int8_t              |\n",
        "| np.int16                    | int16_t             |\n",
        "| np.int32                    | int32_t             |\n",
        "| np.int64                    | int64_t             |\n",
        "| np.uint8                    | uint8_t             |\n",
        "| np.uint16                   | uint16_t            |\n",
        "| np.uint32                   | uint32_t            |\n",
        "| np.uint64                   | uint64_t            |\n",
        "| np.intp                     | intptr_t            |\n",
        "| np.uintp                    | uintptr_t           |\n",
        "| np.float32                  | float               |\n",
        "| np.float64 / np.float_      | double              |\n",
        "| np.complex64                | float complex       |\n",
        "| np.complex128 / np.complex_ | double complex      |\n",
        "\n",
        "Además de estos tipos, se consideran otros tipos de dato no numéricos especiales:\n",
        "\n",
        "* **`np.nan`**: Sigla del inglés *not a number*. Este tipo de dato se le otorga a los elementos de un arreglo numérico que no pueden ser interpretados como un resultado numérico. Se usa por lo general para indicar la presencia de valores faltantes o que deberían ser ignorados. Para arreglos no numéricos esto se hace con el tipo **`None`** de *Python*.\n",
        "\n",
        "* **`np.object`**: *NumPy* admite el uso de los tipos de datos genéricos de *Python*. **`numpy.object`** es el tipo genérico para cualquier dato que no corresponda con estas primitivas. Esta regla aplica para listas, conjuntos, entre otros.\n",
        "\n",
        "\n",
        "\n",
        "Para más información, consulte la [entrada de la documentación oficial](https://numpy.org/devdocs/reference/arrays.dtypes.html) referente a los tipos de dato **`dtype`**."
      ]
    },
    {
      "cell_type": "code",
      "metadata": {
        "id": "oc9s7MTif_MV",
        "colab": {
          "base_uri": "https://localhost:8080/"
        },
        "outputId": "73dfc0fe-be15-452f-ac77-25735dc4b474"
      },
      "source": [
        "np.array(['051.2', '027.0', '233.7'], dtype = np.float_)"
      ],
      "execution_count": 12,
      "outputs": [
        {
          "output_type": "execute_result",
          "data": {
            "text/plain": [
              "array([ 51.2,  27. , 233.7])"
            ]
          },
          "metadata": {},
          "execution_count": 12
        }
      ]
    },
    {
      "cell_type": "code",
      "metadata": {
        "id": "rYoKF1Nmm_EU",
        "colab": {
          "base_uri": "https://localhost:8080/"
        },
        "outputId": "7f78aba8-a478-4701-a1f3-6ab5be94eb1a"
      },
      "source": [
        "# NumPy también admite la especificación de dtypes con cadenas de texto\n",
        "\n",
        "np.array(['001', '002', '003'], dtype = \"int\") "
      ],
      "execution_count": 13,
      "outputs": [
        {
          "output_type": "execute_result",
          "data": {
            "text/plain": [
              "array([1, 2, 3])"
            ]
          },
          "metadata": {},
          "execution_count": 13
        }
      ]
    },
    {
      "cell_type": "markdown",
      "metadata": {
        "id": "yj6kiI5Mo8S1"
      },
      "source": [
        "Además de la función **`np.array()`**, *NumPy* dispone de varias funciones para generar arreglos comunes. A continuación se presentan algunos de los más importantes:\n",
        "\n",
        "*  **`np.arange(inicio, final, paso, dtype)`**: Este método es el análogo de la función **`range`** de *Python* para la creación de arreglos. Admite un argumento *dtype* para definir el tipo de dato del arreglo generado."
      ]
    },
    {
      "cell_type": "code",
      "metadata": {
        "id": "K4BUFdYWlBoT",
        "colab": {
          "base_uri": "https://localhost:8080/"
        },
        "outputId": "e7193c3a-d804-4b79-a0de-157657151fad"
      },
      "source": [
        "np.arange(0, 50, 5, dtype = 'complex')"
      ],
      "execution_count": 14,
      "outputs": [
        {
          "output_type": "execute_result",
          "data": {
            "text/plain": [
              "array([ 0.+0.j,  5.+0.j, 10.+0.j, 15.+0.j, 20.+0.j, 25.+0.j, 30.+0.j,\n",
              "       35.+0.j, 40.+0.j, 45.+0.j])"
            ]
          },
          "metadata": {},
          "execution_count": 14
        }
      ]
    },
    {
      "cell_type": "markdown",
      "metadata": {
        "id": "Nz23ZkHhlUCp"
      },
      "source": [
        "*  **`np.empty(shape, dtype)`**: Este método permite generar arreglos \"vacíos\" con las dimensiones de **shape**. El argumento *shape* puede ser de varias dimensiones, definido como una tupla **(n, m)**, de tamaño **n** (filas) por **m** (columnas). Estos arreglos se consideran vacíos de forma conceptual, pero esto no es del todo correcto.\n",
        "\n",
        " Al realizar el llamado de la función, *NumPy* reserva el espacio de memoria para el arreglo, pero no inicializa sus casillas con un elemento específico. Es por esto que estos arreglos pueden tener elementos \"basura\" de ejecuciones pasadas."
      ]
    },
    {
      "cell_type": "code",
      "metadata": {
        "id": "cGWY-hdElpuC",
        "colab": {
          "base_uri": "https://localhost:8080/"
        },
        "outputId": "848e3832-8eb0-4d69-8935-32254891dd7b"
      },
      "source": [
        "np.empty((500,200))"
      ],
      "execution_count": 15,
      "outputs": [
        {
          "output_type": "execute_result",
          "data": {
            "text/plain": [
              "array([[0., 0., 0., ..., 0., 0., 0.],\n",
              "       [0., 0., 0., ..., 0., 0., 0.],\n",
              "       [0., 0., 0., ..., 0., 0., 0.],\n",
              "       ...,\n",
              "       [0., 0., 0., ..., 0., 0., 0.],\n",
              "       [0., 0., 0., ..., 0., 0., 0.],\n",
              "       [0., 0., 0., ..., 0., 0., 0.]])"
            ]
          },
          "metadata": {},
          "execution_count": 15
        }
      ]
    },
    {
      "cell_type": "code",
      "metadata": {
        "id": "A3TUpBD7nbjr",
        "colab": {
          "base_uri": "https://localhost:8080/"
        },
        "outputId": "509bdf7f-bdee-4d94-8819-74e172d38232"
      },
      "source": [
        "# Para arreglos de una dimensión:\n",
        "np.empty(5, dtype = 'int')"
      ],
      "execution_count": 16,
      "outputs": [
        {
          "output_type": "execute_result",
          "data": {
            "text/plain": [
              "array([                  0, 4598175219545276416, 4602678819172646912,\n",
              "       4604930618986332160, 4607182418800017408])"
            ]
          },
          "metadata": {},
          "execution_count": 16
        }
      ]
    },
    {
      "cell_type": "markdown",
      "metadata": {
        "id": "jW6XZ6UPmmvM"
      },
      "source": [
        "*  **`np.full(shape, a, dtype)`**: Este método permite crear un arreglo en el que todos los elementos tengan el valor inicial **`a`**."
      ]
    },
    {
      "cell_type": "code",
      "metadata": {
        "id": "OxtRZRnYm0VE",
        "colab": {
          "base_uri": "https://localhost:8080/"
        },
        "outputId": "e19ea304-d830-490f-b45d-c6fd1e12b377"
      },
      "source": [
        "np.full((10, 5), \"z\")"
      ],
      "execution_count": 17,
      "outputs": [
        {
          "output_type": "execute_result",
          "data": {
            "text/plain": [
              "array([['z', 'z', 'z', 'z', 'z'],\n",
              "       ['z', 'z', 'z', 'z', 'z'],\n",
              "       ['z', 'z', 'z', 'z', 'z'],\n",
              "       ['z', 'z', 'z', 'z', 'z'],\n",
              "       ['z', 'z', 'z', 'z', 'z'],\n",
              "       ['z', 'z', 'z', 'z', 'z'],\n",
              "       ['z', 'z', 'z', 'z', 'z'],\n",
              "       ['z', 'z', 'z', 'z', 'z'],\n",
              "       ['z', 'z', 'z', 'z', 'z'],\n",
              "       ['z', 'z', 'z', 'z', 'z']], dtype='<U1')"
            ]
          },
          "metadata": {},
          "execution_count": 17
        }
      ]
    },
    {
      "cell_type": "code",
      "metadata": {
        "id": "thWAPnF5niTi",
        "colab": {
          "base_uri": "https://localhost:8080/"
        },
        "outputId": "ced0f0e7-122b-43c7-f40b-b16636e90e03"
      },
      "source": [
        "# Para arreglos de una dimensión:\n",
        "np.full(10, 100)"
      ],
      "execution_count": 18,
      "outputs": [
        {
          "output_type": "execute_result",
          "data": {
            "text/plain": [
              "array([100, 100, 100, 100, 100, 100, 100, 100, 100, 100])"
            ]
          },
          "metadata": {},
          "execution_count": 18
        }
      ]
    },
    {
      "cell_type": "markdown",
      "metadata": {
        "id": "0XFaTdbSmrZH"
      },
      "source": [
        "*  **`np.ones((n, m))`**: Este método funciona de la misma manera que **`np.full`** con uno como valor inicial. "
      ]
    },
    {
      "cell_type": "code",
      "metadata": {
        "id": "q_RUCm8Gmyus",
        "colab": {
          "base_uri": "https://localhost:8080/"
        },
        "outputId": "f747bd00-67e0-4805-9161-4874652cf0c2"
      },
      "source": [
        "np.ones((3,5))"
      ],
      "execution_count": 19,
      "outputs": [
        {
          "output_type": "execute_result",
          "data": {
            "text/plain": [
              "array([[1., 1., 1., 1., 1.],\n",
              "       [1., 1., 1., 1., 1.],\n",
              "       [1., 1., 1., 1., 1.]])"
            ]
          },
          "metadata": {},
          "execution_count": 19
        }
      ]
    },
    {
      "cell_type": "code",
      "metadata": {
        "id": "XU-STeDGnkEu",
        "colab": {
          "base_uri": "https://localhost:8080/"
        },
        "outputId": "ae1bf0ac-1498-4a32-fbac-62e6c4857241"
      },
      "source": [
        "# Para arreglos de una dimensión:\n",
        "np.ones(10, dtype = 'int') # Puede ser necesario definir el tipo del arreglo durante su creación."
      ],
      "execution_count": 20,
      "outputs": [
        {
          "output_type": "execute_result",
          "data": {
            "text/plain": [
              "array([1, 1, 1, 1, 1, 1, 1, 1, 1, 1])"
            ]
          },
          "metadata": {},
          "execution_count": 20
        }
      ]
    },
    {
      "cell_type": "markdown",
      "metadata": {
        "id": "9qWV4OBWmtRw"
      },
      "source": [
        "*  **`np.zeros((n, m))`**: Este método funciona de la misma manera que **`np.full`** con cero como valor inicial."
      ]
    },
    {
      "cell_type": "code",
      "metadata": {
        "id": "xtRxuZSim2-H",
        "colab": {
          "base_uri": "https://localhost:8080/"
        },
        "outputId": "b4d64951-6439-4970-b48e-7d33bbdc7306"
      },
      "source": [
        "np.zeros((3,5))"
      ],
      "execution_count": 21,
      "outputs": [
        {
          "output_type": "execute_result",
          "data": {
            "text/plain": [
              "array([[0., 0., 0., 0., 0.],\n",
              "       [0., 0., 0., 0., 0.],\n",
              "       [0., 0., 0., 0., 0.]])"
            ]
          },
          "metadata": {},
          "execution_count": 21
        }
      ]
    },
    {
      "cell_type": "code",
      "metadata": {
        "id": "4nsyT7Kpnk9F",
        "colab": {
          "base_uri": "https://localhost:8080/"
        },
        "outputId": "535b8ed5-10b6-46e6-914a-28b8b719dce3"
      },
      "source": [
        "# Para arreglos de una dimensión:\n",
        "np.zeros(10)"
      ],
      "execution_count": 22,
      "outputs": [
        {
          "output_type": "execute_result",
          "data": {
            "text/plain": [
              "array([0., 0., 0., 0., 0., 0., 0., 0., 0., 0.])"
            ]
          },
          "metadata": {},
          "execution_count": 22
        }
      ]
    },
    {
      "cell_type": "markdown",
      "metadata": {
        "id": "uuWCgEzgoR2w"
      },
      "source": [
        "*  **`np.eye(n, m)`**: Este método genera una matriz o arreglo de 2 dimensiones en el que la diagonal principal está compuesta de unos y el resto de la matriz está compuesta de unos. Si el argumento **`m`** no es pasado se genera una matriz cuadrada de tamaño $n$ por $n$."
      ]
    },
    {
      "cell_type": "code",
      "metadata": {
        "id": "2TyUqDsgoR2y",
        "colab": {
          "base_uri": "https://localhost:8080/"
        },
        "outputId": "5239d828-9013-4eb7-eefb-fccf93e3d8ad"
      },
      "source": [
        "np.eye(10, dtype= 'int')"
      ],
      "execution_count": 23,
      "outputs": [
        {
          "output_type": "execute_result",
          "data": {
            "text/plain": [
              "array([[1, 0, 0, 0, 0, 0, 0, 0, 0, 0],\n",
              "       [0, 1, 0, 0, 0, 0, 0, 0, 0, 0],\n",
              "       [0, 0, 1, 0, 0, 0, 0, 0, 0, 0],\n",
              "       [0, 0, 0, 1, 0, 0, 0, 0, 0, 0],\n",
              "       [0, 0, 0, 0, 1, 0, 0, 0, 0, 0],\n",
              "       [0, 0, 0, 0, 0, 1, 0, 0, 0, 0],\n",
              "       [0, 0, 0, 0, 0, 0, 1, 0, 0, 0],\n",
              "       [0, 0, 0, 0, 0, 0, 0, 1, 0, 0],\n",
              "       [0, 0, 0, 0, 0, 0, 0, 0, 1, 0],\n",
              "       [0, 0, 0, 0, 0, 0, 0, 0, 0, 1]])"
            ]
          },
          "metadata": {},
          "execution_count": 23
        }
      ]
    },
    {
      "cell_type": "code",
      "metadata": {
        "id": "cXQwPivUoR23",
        "colab": {
          "base_uri": "https://localhost:8080/"
        },
        "outputId": "6302d8d6-c2f4-4077-f592-9136976a555c"
      },
      "source": [
        "np.eye(5,3)"
      ],
      "execution_count": 24,
      "outputs": [
        {
          "output_type": "execute_result",
          "data": {
            "text/plain": [
              "array([[1., 0., 0.],\n",
              "       [0., 1., 0.],\n",
              "       [0., 0., 1.],\n",
              "       [0., 0., 0.],\n",
              "       [0., 0., 0.]])"
            ]
          },
          "metadata": {},
          "execution_count": 24
        }
      ]
    },
    {
      "cell_type": "markdown",
      "metadata": {
        "id": "-cCb6113oKUK"
      },
      "source": [
        "*  **`np.linspace(inicio, final, tamaño, endpoint)`**: Este método permite generar **`tamaño`** elementos desde **`inicio`** hasta **`final`** separados uniformemente en una escala lineal. Puede producir el mismo resultado que cuando se usa **`np.arange`** y se desconoce el tamaño del paso necesario para producir la misma cantidad de elementos. Al contrario que con **`np.arange`** el final está contenido en el arreglo generado a menos que se indique lo contrario con el argumento booleano opcional **`endpoint`**."
      ]
    },
    {
      "cell_type": "code",
      "metadata": {
        "id": "dj5N-FEioKUR",
        "colab": {
          "base_uri": "https://localhost:8080/"
        },
        "outputId": "e6239f11-2032-47e4-8061-f06e7e7db82d"
      },
      "source": [
        "np.linspace(1, 10, 10)"
      ],
      "execution_count": 25,
      "outputs": [
        {
          "output_type": "execute_result",
          "data": {
            "text/plain": [
              "array([ 1.,  2.,  3.,  4.,  5.,  6.,  7.,  8.,  9., 10.])"
            ]
          },
          "metadata": {},
          "execution_count": 25
        }
      ]
    },
    {
      "cell_type": "code",
      "metadata": {
        "id": "7b_tDIzwoKUN",
        "colab": {
          "base_uri": "https://localhost:8080/"
        },
        "outputId": "40382d19-6b4b-4606-edc2-5120867073ec"
      },
      "source": [
        "# Equivalente a np.arange(0, 2, 0.2)\n",
        "np.linspace(0, 2, 10, endpoint = False)"
      ],
      "execution_count": 26,
      "outputs": [
        {
          "output_type": "execute_result",
          "data": {
            "text/plain": [
              "array([0. , 0.2, 0.4, 0.6, 0.8, 1. , 1.2, 1.4, 1.6, 1.8])"
            ]
          },
          "metadata": {},
          "execution_count": 26
        }
      ]
    },
    {
      "cell_type": "markdown",
      "metadata": {
        "id": "ZD-AFTxtoKxX"
      },
      "source": [
        "*  **`np.logspace(inicio, final, tamaño, endpoint, base)`**: Este método es equivalente al método **`np.linspace`** pero generando elementos separados en una escala logarítmica. Esto quiere decir que se generan elementos linealmente que corresponden al exponente de cada elemento del arreglo resultante. La base de esa potencia está definida por defecto en 10, pero puede cambiarse con el argumento **`base`** de la función."
      ]
    },
    {
      "cell_type": "code",
      "metadata": {
        "id": "C8rK51qnoKxY",
        "colab": {
          "base_uri": "https://localhost:8080/"
        },
        "outputId": "317a6da7-1db9-4918-93b9-9f31c0606869"
      },
      "source": [
        "np.logspace(0, 4, 5, dtype = float)"
      ],
      "execution_count": 27,
      "outputs": [
        {
          "output_type": "execute_result",
          "data": {
            "text/plain": [
              "array([1.e+00, 1.e+01, 1.e+02, 1.e+03, 1.e+04])"
            ]
          },
          "metadata": {},
          "execution_count": 27
        }
      ]
    },
    {
      "cell_type": "code",
      "metadata": {
        "id": "5T0goD09oKxa",
        "colab": {
          "base_uri": "https://localhost:8080/"
        },
        "outputId": "7fde3bae-28cf-44e1-e468-de6fe017e63d"
      },
      "source": [
        "np.logspace(0, 5, 6, base = 2, dtype = int)"
      ],
      "execution_count": 28,
      "outputs": [
        {
          "output_type": "execute_result",
          "data": {
            "text/plain": [
              "array([ 1,  2,  4,  8, 16, 32])"
            ]
          },
          "metadata": {},
          "execution_count": 28
        }
      ]
    },
    {
      "cell_type": "markdown",
      "metadata": {
        "id": "2-xS9fL26qc-"
      },
      "source": [
        "### **2.2 Atributos de arreglos**\n",
        "---\n",
        "\n",
        "Cada objeto de *NumPy* tiene algunos atributos que son de gran utilidad para su identificación y entendimiento. A continuación se presentan algunos de los más importantes."
      ]
    },
    {
      "cell_type": "markdown",
      "metadata": {
        "id": "dHAIWSu8-2yg"
      },
      "source": [
        "*  **`arr.dtype`**: Este atributo permite conocer el **`dtype`** que tiene el arreglo."
      ]
    },
    {
      "cell_type": "code",
      "metadata": {
        "id": "OJrihIkJ_Hra",
        "colab": {
          "base_uri": "https://localhost:8080/"
        },
        "outputId": "4bec4e7d-564e-42cc-b910-52729798868f"
      },
      "source": [
        "arr = np.array([1.5, 0, 3.2])\n",
        "arr.dtype"
      ],
      "execution_count": 29,
      "outputs": [
        {
          "output_type": "execute_result",
          "data": {
            "text/plain": [
              "dtype('float64')"
            ]
          },
          "metadata": {},
          "execution_count": 29
        }
      ]
    },
    {
      "cell_type": "code",
      "metadata": {
        "id": "kuL4Tnxi_bzY",
        "colab": {
          "base_uri": "https://localhost:8080/"
        },
        "outputId": "8227f241-9b3c-4986-9368-0cad1f2fec7b"
      },
      "source": [
        "arr = np.empty(15, dtype= np.bool_)\n",
        "arr.dtype"
      ],
      "execution_count": 30,
      "outputs": [
        {
          "output_type": "execute_result",
          "data": {
            "text/plain": [
              "dtype('bool')"
            ]
          },
          "metadata": {},
          "execution_count": 30
        }
      ]
    },
    {
      "cell_type": "markdown",
      "metadata": {
        "id": "QWTjZQ1XAL-8"
      },
      "source": [
        "\n",
        "*  **`arr.shape`**: Este atributo permite conocer las dimensiones de un arreglo. Estas dimensiones están contenidas en una tupla y por lo tanto se pueden desempaquetar en variables distintas."
      ]
    },
    {
      "cell_type": "code",
      "metadata": {
        "id": "m4xxeLjA9qhK",
        "colab": {
          "base_uri": "https://localhost:8080/"
        },
        "outputId": "eab86e25-01e4-4bed-f6a4-8a0eacac0bb0"
      },
      "source": [
        "arr = np.zeros((3,2,4)) # Arreglo de 3 dimensiones\n",
        "arr.shape"
      ],
      "execution_count": 31,
      "outputs": [
        {
          "output_type": "execute_result",
          "data": {
            "text/plain": [
              "(3, 2, 4)"
            ]
          },
          "metadata": {},
          "execution_count": 31
        }
      ]
    },
    {
      "cell_type": "code",
      "metadata": {
        "id": "5r-D2hEZ907n",
        "colab": {
          "base_uri": "https://localhost:8080/"
        },
        "outputId": "72a96464-22de-41fa-9161-6b3ffa248e2e"
      },
      "source": [
        "n, m, w = arr.shape\n",
        "print(n)\n",
        "print(m)\n",
        "print(w)"
      ],
      "execution_count": 32,
      "outputs": [
        {
          "output_type": "stream",
          "name": "stdout",
          "text": [
            "3\n",
            "2\n",
            "4\n"
          ]
        }
      ]
    },
    {
      "cell_type": "markdown",
      "metadata": {
        "id": "hXafg-d6-VhY"
      },
      "source": [
        "*  **`arr.ndim`**: Este atributo permite conocer el número de dimensiones de un arreglo. Esto es equivalente a verificar el tamaño de la tupla retornada por **`arr.shape`**."
      ]
    },
    {
      "cell_type": "code",
      "metadata": {
        "id": "CcSw_x_E-U8L",
        "colab": {
          "base_uri": "https://localhost:8080/"
        },
        "outputId": "93f0bd93-0fc1-4b9f-f53a-211ff855ee86"
      },
      "source": [
        "arr = np.ones((2,2,2,2,2))\n",
        "arr.ndim"
      ],
      "execution_count": 33,
      "outputs": [
        {
          "output_type": "execute_result",
          "data": {
            "text/plain": [
              "5"
            ]
          },
          "metadata": {},
          "execution_count": 33
        }
      ]
    },
    {
      "cell_type": "markdown",
      "metadata": {
        "id": "oXxbaVd4_xNH"
      },
      "source": [
        "\n",
        "*  **`arr.size`**: Este atributo permite conocer el número de elementos o casillas disponibles en un arreglo."
      ]
    },
    {
      "cell_type": "code",
      "metadata": {
        "id": "Zyrj_0DGAXoV",
        "colab": {
          "base_uri": "https://localhost:8080/"
        },
        "outputId": "7d7ef973-f3b9-48a9-abf1-ac5b92dd80a4"
      },
      "source": [
        "arr = np.empty((3,3))\n",
        "arr.size"
      ],
      "execution_count": 34,
      "outputs": [
        {
          "output_type": "execute_result",
          "data": {
            "text/plain": [
              "9"
            ]
          },
          "metadata": {},
          "execution_count": 34
        }
      ]
    },
    {
      "cell_type": "code",
      "metadata": {
        "id": "kPv0pivfAcgk",
        "colab": {
          "base_uri": "https://localhost:8080/"
        },
        "outputId": "3c82defe-fa3e-456a-de02-a739959a1d54"
      },
      "source": [
        "# El tamaño no se ve afectado si alguno de los elementos es NaN o None.\n",
        "arr = np.array([1, np.NaN, 2, np.NaN, None])\n",
        "arr.size"
      ],
      "execution_count": 35,
      "outputs": [
        {
          "output_type": "execute_result",
          "data": {
            "text/plain": [
              "5"
            ]
          },
          "metadata": {},
          "execution_count": 35
        }
      ]
    },
    {
      "cell_type": "markdown",
      "metadata": {
        "id": "SecNYaDOArjC"
      },
      "source": [
        "\n",
        "*  **`arr.itemsize`**: Este atributo permite conocer el tamaño en *bytes* que ocupa cada elemento de un arreglo. Como los elementos tienen que ser homogéneos este tamaño es el máximo de sus elementos contenidos."
      ]
    },
    {
      "cell_type": "code",
      "metadata": {
        "id": "wKw5PW_9BtcJ",
        "colab": {
          "base_uri": "https://localhost:8080/"
        },
        "outputId": "1dde9bda-255c-477e-9316-437f72365134"
      },
      "source": [
        "arr = np.eye(100)\n",
        "arr.itemsize"
      ],
      "execution_count": 36,
      "outputs": [
        {
          "output_type": "execute_result",
          "data": {
            "text/plain": [
              "8"
            ]
          },
          "metadata": {},
          "execution_count": 36
        }
      ]
    },
    {
      "cell_type": "code",
      "metadata": {
        "id": "O9IDXEbGB0NN",
        "colab": {
          "base_uri": "https://localhost:8080/"
        },
        "outputId": "b26a5692-c701-4ede-f149-b476fcbbc03c"
      },
      "source": [
        "# Podemos calcular la cantidad de bytes reservada para el arreglo completo en memoria\n",
        "arr.itemsize * arr.size"
      ],
      "execution_count": 37,
      "outputs": [
        {
          "output_type": "execute_result",
          "data": {
            "text/plain": [
              "80000"
            ]
          },
          "metadata": {},
          "execution_count": 37
        }
      ]
    },
    {
      "cell_type": "code",
      "metadata": {
        "id": "FBLHdGApA40J",
        "colab": {
          "base_uri": "https://localhost:8080/"
        },
        "outputId": "208cd137-8e8e-42a4-cc33-e3090939d1cf"
      },
      "source": [
        "lista = [1, True, 'Cadena de texto larga']\n",
        "\n",
        "arr = np.array(lista)\n",
        "arr.itemsize"
      ],
      "execution_count": 38,
      "outputs": [
        {
          "output_type": "execute_result",
          "data": {
            "text/plain": [
              "84"
            ]
          },
          "metadata": {},
          "execution_count": 38
        }
      ]
    },
    {
      "cell_type": "markdown",
      "metadata": {
        "id": "6MgZ-SafCEgS"
      },
      "source": [
        "\n",
        "*  **`arr.real` y `arr.imag`**: Estos atributos permiten conocer la parte real  e imaginaria de un objeto de números complejos. Estas partes son arreglos completos generados a partir del arreglo original con *dtype float*."
      ]
    },
    {
      "cell_type": "code",
      "metadata": {
        "id": "YIwMR_BSCaaj",
        "colab": {
          "base_uri": "https://localhost:8080/"
        },
        "outputId": "a9274c63-853a-48c5-c397-e238e978dc2c"
      },
      "source": [
        "arr = np.full((5,3), 5 + 10j)\n",
        "arr"
      ],
      "execution_count": 39,
      "outputs": [
        {
          "output_type": "execute_result",
          "data": {
            "text/plain": [
              "array([[5.+10.j, 5.+10.j, 5.+10.j],\n",
              "       [5.+10.j, 5.+10.j, 5.+10.j],\n",
              "       [5.+10.j, 5.+10.j, 5.+10.j],\n",
              "       [5.+10.j, 5.+10.j, 5.+10.j],\n",
              "       [5.+10.j, 5.+10.j, 5.+10.j]])"
            ]
          },
          "metadata": {},
          "execution_count": 39
        }
      ]
    },
    {
      "cell_type": "code",
      "metadata": {
        "id": "yM_cjohdryN6",
        "colab": {
          "base_uri": "https://localhost:8080/"
        },
        "outputId": "92276d30-00e3-4091-d006-1839f0c5aadb"
      },
      "source": [
        "arr.real"
      ],
      "execution_count": 40,
      "outputs": [
        {
          "output_type": "execute_result",
          "data": {
            "text/plain": [
              "array([[5., 5., 5.],\n",
              "       [5., 5., 5.],\n",
              "       [5., 5., 5.],\n",
              "       [5., 5., 5.],\n",
              "       [5., 5., 5.]])"
            ]
          },
          "metadata": {},
          "execution_count": 40
        }
      ]
    },
    {
      "cell_type": "code",
      "metadata": {
        "id": "dO7XOreGCrHw",
        "colab": {
          "base_uri": "https://localhost:8080/"
        },
        "outputId": "1bd389ca-f51d-4338-cdd1-653ab95c9651"
      },
      "source": [
        "arr.imag"
      ],
      "execution_count": 41,
      "outputs": [
        {
          "output_type": "execute_result",
          "data": {
            "text/plain": [
              "array([[10., 10., 10.],\n",
              "       [10., 10., 10.],\n",
              "       [10., 10., 10.],\n",
              "       [10., 10., 10.],\n",
              "       [10., 10., 10.]])"
            ]
          },
          "metadata": {},
          "execution_count": 41
        }
      ]
    },
    {
      "cell_type": "code",
      "metadata": {
        "id": "wqotsUtBDC9q",
        "colab": {
          "base_uri": "https://localhost:8080/"
        },
        "outputId": "465602b3-9cd8-443b-e617-f0efba3f36d4"
      },
      "source": [
        "# Los arreglos retornados pueden ser tratados como arreglos normales, con sus atributos y métodos.\n",
        "arr.imag.dtype"
      ],
      "execution_count": 42,
      "outputs": [
        {
          "output_type": "execute_result",
          "data": {
            "text/plain": [
              "dtype('float64')"
            ]
          },
          "metadata": {},
          "execution_count": 42
        }
      ]
    },
    {
      "cell_type": "markdown",
      "metadata": {
        "id": "LlsLs43QDLtF"
      },
      "source": [
        "\n",
        "*  **`arr.T`**: Esto atributo permite generar la matriz transpuesta de un arreglo. La transpuesta de una matriz es aquella cuyas filas corresponden a las columnas de la original."
      ]
    },
    {
      "cell_type": "code",
      "metadata": {
        "id": "1UjzpMuBD0yg",
        "colab": {
          "base_uri": "https://localhost:8080/"
        },
        "outputId": "5d881a1b-1deb-471f-ef43-4a23ee8c1a09"
      },
      "source": [
        "arr = np.eye(5,3)\n",
        "\n",
        "arr"
      ],
      "execution_count": 43,
      "outputs": [
        {
          "output_type": "execute_result",
          "data": {
            "text/plain": [
              "array([[1., 0., 0.],\n",
              "       [0., 1., 0.],\n",
              "       [0., 0., 1.],\n",
              "       [0., 0., 0.],\n",
              "       [0., 0., 0.]])"
            ]
          },
          "metadata": {},
          "execution_count": 43
        }
      ]
    },
    {
      "cell_type": "code",
      "metadata": {
        "id": "uAv4rk2Fr6Lb",
        "colab": {
          "base_uri": "https://localhost:8080/"
        },
        "outputId": "5b13f1e1-82e1-48e2-eb99-955161d4d0d5"
      },
      "source": [
        "arr.T"
      ],
      "execution_count": 44,
      "outputs": [
        {
          "output_type": "execute_result",
          "data": {
            "text/plain": [
              "array([[1., 0., 0., 0., 0.],\n",
              "       [0., 1., 0., 0., 0.],\n",
              "       [0., 0., 1., 0., 0.]])"
            ]
          },
          "metadata": {},
          "execution_count": 44
        }
      ]
    },
    {
      "cell_type": "code",
      "metadata": {
        "id": "41Mj_2VzD-Xl",
        "colab": {
          "base_uri": "https://localhost:8080/"
        },
        "outputId": "59692a83-87a7-458b-b33f-4308e8936fb2"
      },
      "source": [
        "arr = np.zeros((2,4))\n",
        "\n",
        "print(arr.shape)\n",
        "print(arr.T.shape)"
      ],
      "execution_count": 45,
      "outputs": [
        {
          "output_type": "stream",
          "name": "stdout",
          "text": [
            "(2, 4)\n",
            "(4, 2)\n"
          ]
        }
      ]
    },
    {
      "cell_type": "markdown",
      "metadata": {
        "id": "mn5SoNTCo8TT"
      },
      "source": [
        "## **3. np.random - Números aleatorios**\n",
        "---\n",
        "\n",
        "*NumPy* dispone del módulo **`numpy.random`** que cuenta con una gran variedad de funciones para la generación de números aleatorios a partir de distribuciones de probabilidad, que se verán en detalle en la unidad 3.\n",
        "\n",
        "El estudio de algoritmos para la generación de números aleatorios es un campo en sí mismo de las ciencias de la computación. En la práctica, los números aleatorios generados por computador son pseudo-aleatorios y dependen de una semilla inicial sobre la cual se realizan cálculos precisos en colecciones de números aparentemente aleatorios. \n",
        "\n",
        "*NumPy* permite definir esta semilla para garantizar la reproducibilidad de los experimentos aleatorios. Esto se consigue con la función **`np.random.seed(semilla)`** de la siguiente forma:"
      ]
    },
    {
      "cell_type": "code",
      "metadata": {
        "id": "WpIVXhH91ERj"
      },
      "source": [
        "np.random.seed(12345) # Semilla seleccionada arbitrariamente. Podría ser otro número entero."
      ],
      "execution_count": 46,
      "outputs": []
    },
    {
      "cell_type": "markdown",
      "metadata": {
        "id": "Yvavl_H4HZcJ"
      },
      "source": [
        "Con la semilla definida, las operaciones realizadas por el módulo **`random`** de *NumPy* van a generar el mismo resultado, con una distribución aleatoria. En este material no se profundizará en las virtudes de *NumPy* en la generación de números aleatorios, sino que se presentarán las funciones más comunes. Estas son:\n",
        "\n",
        "*  **`np.random.rand(shape)`**: Genera números aleatorios distribuidos uniformemente entre 0 y 1. El argumento **`shape`** permite definir las dimensiones del arreglo de números aleatorios independientes. Si este argumento no es pasado a la función, se genera un único número aleatorio. \n",
        "> **Nota:** *En una distribución uniforme todos los números reales entre 0 y 1 tienen la misma probabilidad de ocurrencia.*"
      ]
    },
    {
      "cell_type": "code",
      "metadata": {
        "id": "r4YCxxX5fLP-",
        "colab": {
          "base_uri": "https://localhost:8080/"
        },
        "outputId": "e2483fef-e6c0-4f19-b881-c682c59723c0"
      },
      "source": [
        "np.random.rand()  "
      ],
      "execution_count": 47,
      "outputs": [
        {
          "output_type": "execute_result",
          "data": {
            "text/plain": [
              "0.9296160928171479"
            ]
          },
          "metadata": {},
          "execution_count": 47
        }
      ]
    },
    {
      "cell_type": "code",
      "metadata": {
        "id": "V-_EcdmWL_5H",
        "colab": {
          "base_uri": "https://localhost:8080/"
        },
        "outputId": "5300fb23-f67c-489d-a252-5c8fa64ee1b8"
      },
      "source": [
        "# Si se ejecuta otra vez, retorna un número distinto\n",
        "np.random.rand()"
      ],
      "execution_count": 48,
      "outputs": [
        {
          "output_type": "execute_result",
          "data": {
            "text/plain": [
              "0.3163755545817859"
            ]
          },
          "metadata": {},
          "execution_count": 48
        }
      ]
    },
    {
      "cell_type": "code",
      "metadata": {
        "id": "rby3FlCYMFgb",
        "colab": {
          "base_uri": "https://localhost:8080/"
        },
        "outputId": "915d8e00-bf75-4ef3-982f-9feea9780df4"
      },
      "source": [
        "np.random.rand(5)"
      ],
      "execution_count": 49,
      "outputs": [
        {
          "output_type": "execute_result",
          "data": {
            "text/plain": [
              "array([0.18391881, 0.20456028, 0.56772503, 0.5955447 , 0.96451452])"
            ]
          },
          "metadata": {},
          "execution_count": 49
        }
      ]
    },
    {
      "cell_type": "code",
      "metadata": {
        "id": "oAZAvJPaMMbf",
        "colab": {
          "base_uri": "https://localhost:8080/"
        },
        "outputId": "90f7c6d5-3723-4e3e-da39-efc1b43f0827"
      },
      "source": [
        "np.random.rand(9,3)"
      ],
      "execution_count": 50,
      "outputs": [
        {
          "output_type": "execute_result",
          "data": {
            "text/plain": [
              "array([[0.6531771 , 0.74890664, 0.65356987],\n",
              "       [0.74771481, 0.96130674, 0.0083883 ],\n",
              "       [0.10644438, 0.29870371, 0.65641118],\n",
              "       [0.80981255, 0.87217591, 0.9646476 ],\n",
              "       [0.72368535, 0.64247533, 0.71745362],\n",
              "       [0.46759901, 0.32558468, 0.43964461],\n",
              "       [0.72968908, 0.99401459, 0.67687371],\n",
              "       [0.79082252, 0.17091426, 0.02684928],\n",
              "       [0.80037024, 0.90372254, 0.02467621]])"
            ]
          },
          "metadata": {},
          "execution_count": 50
        }
      ]
    },
    {
      "cell_type": "markdown",
      "metadata": {
        "id": "7cT2ibpOMUPJ"
      },
      "source": [
        "*  **`np.random.randn(shape)`**: Genera números aleatorios generados a partir de una distribución normal estándar, centrada en $0$ y con una desviación estándar de $1$. Las distribuciones de probabilidad se discutirán en las unidades **2** y **3**."
      ]
    },
    {
      "cell_type": "code",
      "metadata": {
        "id": "O2qEGVwFM1nw",
        "colab": {
          "base_uri": "https://localhost:8080/"
        },
        "outputId": "fa0d0b08-8745-48ba-9ca1-c57f0f14ca44"
      },
      "source": [
        "np.random.randn()"
      ],
      "execution_count": 51,
      "outputs": [
        {
          "output_type": "execute_result",
          "data": {
            "text/plain": [
              "3.248943919430755"
            ]
          },
          "metadata": {},
          "execution_count": 51
        }
      ]
    },
    {
      "cell_type": "code",
      "metadata": {
        "id": "QMeOAnPlNFPg",
        "colab": {
          "base_uri": "https://localhost:8080/"
        },
        "outputId": "91b6ff72-1e17-402d-dbfc-bc2a7fadc54c"
      },
      "source": [
        "np.random.randn(2,3)"
      ],
      "execution_count": 52,
      "outputs": [
        {
          "output_type": "execute_result",
          "data": {
            "text/plain": [
              "array([[-1.02122752e+00, -5.77087303e-01,  1.24121276e-01],\n",
              "       [ 3.02613562e-01,  5.23772068e-01,  9.40277775e-04]])"
            ]
          },
          "metadata": {},
          "execution_count": 52
        }
      ]
    },
    {
      "cell_type": "markdown",
      "metadata": {
        "id": "ccn-jzC_o8Tb"
      },
      "source": [
        "\n",
        "*  **`np.random.randint(inicio, final, shape)`**: \n",
        "Genera números enteros aleatorios desde el primer parámetro (incluido) hasta el segundo parámetro (excluido). Si se pasa un tercer argumento, éste será las dimensiones que tendrá el arreglo de enteros aleatorios retornado."
      ]
    },
    {
      "cell_type": "code",
      "metadata": {
        "id": "t8kD6r1Io8Tc",
        "colab": {
          "base_uri": "https://localhost:8080/"
        },
        "outputId": "b0d783b1-d203-4761-b171-c77d153967fa"
      },
      "source": [
        "np.random.randint(1,100) "
      ],
      "execution_count": 53,
      "outputs": [
        {
          "output_type": "execute_result",
          "data": {
            "text/plain": [
              "51"
            ]
          },
          "metadata": {},
          "execution_count": 53
        }
      ]
    },
    {
      "cell_type": "code",
      "metadata": {
        "id": "U1Fel4MVo8Tf",
        "colab": {
          "base_uri": "https://localhost:8080/"
        },
        "outputId": "0477ad46-deca-44c7-8164-ac820315dbf2"
      },
      "source": [
        "np.random.randint(90,100,(3,4))"
      ],
      "execution_count": 54,
      "outputs": [
        {
          "output_type": "execute_result",
          "data": {
            "text/plain": [
              "array([[92, 99, 97, 95],\n",
              "       [97, 91, 90, 99],\n",
              "       [93, 90, 93, 90]])"
            ]
          },
          "metadata": {},
          "execution_count": 54
        }
      ]
    },
    {
      "cell_type": "markdown",
      "metadata": {
        "id": "sum5GwX3is_i"
      },
      "source": [
        "## **4. Indexado de arreglos**\n",
        "\n",
        "Los elementos de los arreglos de NumPy se pueden consultar y modificar de la misma forma que las listas de *Python*, con la sintaxis de llaves cuadradas `[]`. Las reglas definidas para rangos, intervalos con paso definido y el uso de números negativos para el indexado desde el final también aplican en los arreglos de *NumPy*."
      ]
    },
    {
      "cell_type": "code",
      "metadata": {
        "id": "3MxjdWvOis_n"
      },
      "source": [
        "arr = np.arange(0, 100)"
      ],
      "execution_count": 55,
      "outputs": []
    },
    {
      "cell_type": "code",
      "metadata": {
        "id": "5EPtw2SxPii8",
        "colab": {
          "base_uri": "https://localhost:8080/"
        },
        "outputId": "bb87f427-5f97-4705-b827-b9cf3402dea1"
      },
      "source": [
        "arr[0]"
      ],
      "execution_count": 56,
      "outputs": [
        {
          "output_type": "execute_result",
          "data": {
            "text/plain": [
              "0"
            ]
          },
          "metadata": {},
          "execution_count": 56
        }
      ]
    },
    {
      "cell_type": "code",
      "metadata": {
        "id": "0ABLcWRnPj1T",
        "colab": {
          "base_uri": "https://localhost:8080/"
        },
        "outputId": "63d27a93-f08a-48f7-f4ce-1bc855045c8f"
      },
      "source": [
        "arr[0:10]"
      ],
      "execution_count": 57,
      "outputs": [
        {
          "output_type": "execute_result",
          "data": {
            "text/plain": [
              "array([0, 1, 2, 3, 4, 5, 6, 7, 8, 9])"
            ]
          },
          "metadata": {},
          "execution_count": 57
        }
      ]
    },
    {
      "cell_type": "code",
      "metadata": {
        "id": "HUuYXhFnPwX8",
        "colab": {
          "base_uri": "https://localhost:8080/"
        },
        "outputId": "6bc0d23a-baf4-49c1-a27a-7e7377696fc1"
      },
      "source": [
        "arr[0:15:2]"
      ],
      "execution_count": 58,
      "outputs": [
        {
          "output_type": "execute_result",
          "data": {
            "text/plain": [
              "array([ 0,  2,  4,  6,  8, 10, 12, 14])"
            ]
          },
          "metadata": {},
          "execution_count": 58
        }
      ]
    },
    {
      "cell_type": "code",
      "metadata": {
        "id": "0BdiAo3BPlQQ",
        "colab": {
          "base_uri": "https://localhost:8080/"
        },
        "outputId": "53524163-5130-46b8-b039-ceed2a18326a"
      },
      "source": [
        "arr[-1]"
      ],
      "execution_count": 59,
      "outputs": [
        {
          "output_type": "execute_result",
          "data": {
            "text/plain": [
              "99"
            ]
          },
          "metadata": {},
          "execution_count": 59
        }
      ]
    },
    {
      "cell_type": "code",
      "metadata": {
        "id": "G-neiUywY3Rz",
        "colab": {
          "base_uri": "https://localhost:8080/"
        },
        "outputId": "96a8c893-0658-411d-d9ab-974e2018c542"
      },
      "source": [
        "arr[-5:]"
      ],
      "execution_count": 60,
      "outputs": [
        {
          "output_type": "execute_result",
          "data": {
            "text/plain": [
              "array([95, 96, 97, 98, 99])"
            ]
          },
          "metadata": {},
          "execution_count": 60
        }
      ]
    },
    {
      "cell_type": "markdown",
      "metadata": {
        "id": "Q5kY5QTAP5J2"
      },
      "source": [
        "Para arreglos multidimensionales se define una forma especial de obtener los elementos de un arreglo, que difiere del método usado en las listas de *Python* de llaves consecutivas. Para indexar elementos multidimensionales en *NumPy* es suficiente con separar las expresiones de indexado de cada dimensión con comas. \n",
        "\n",
        "Si no se ingresan expresiones suficientes para indexar todas las dimensiones del arreglo se interpreta como indexado completo para las últimas dimensiones, retornando todos los elementos."
      ]
    },
    {
      "cell_type": "code",
      "metadata": {
        "id": "2U6NHk8MitAb",
        "colab": {
          "base_uri": "https://localhost:8080/"
        },
        "outputId": "983f114c-b404-4ab3-be30-852432b59655"
      },
      "source": [
        "arr = np.array([[1,3],[2,8]])\n",
        "arr"
      ],
      "execution_count": 61,
      "outputs": [
        {
          "output_type": "execute_result",
          "data": {
            "text/plain": [
              "array([[1, 3],\n",
              "       [2, 8]])"
            ]
          },
          "metadata": {},
          "execution_count": 61
        }
      ]
    },
    {
      "cell_type": "code",
      "metadata": {
        "id": "weqCHKbEitAf",
        "colab": {
          "base_uri": "https://localhost:8080/"
        },
        "outputId": "c806a855-0454-4b73-9876-59cc31b7d086"
      },
      "source": [
        "#Obtener el elemento de la primera fila y primera columna\n",
        "arr[0,0]"
      ],
      "execution_count": 62,
      "outputs": [
        {
          "output_type": "execute_result",
          "data": {
            "text/plain": [
              "1"
            ]
          },
          "metadata": {},
          "execution_count": 62
        }
      ]
    },
    {
      "cell_type": "code",
      "metadata": {
        "id": "RBYSOPJkitAi",
        "colab": {
          "base_uri": "https://localhost:8080/"
        },
        "outputId": "21ba9068-67e2-45b5-f922-cabbe4ebd8ec"
      },
      "source": [
        "#Obtener el elemento de la última fila y última columna\n",
        "arr[-1,-1]"
      ],
      "execution_count": 63,
      "outputs": [
        {
          "output_type": "execute_result",
          "data": {
            "text/plain": [
              "8"
            ]
          },
          "metadata": {},
          "execution_count": 63
        }
      ]
    },
    {
      "cell_type": "code",
      "metadata": {
        "id": "1xltvX5JitAo",
        "colab": {
          "base_uri": "https://localhost:8080/"
        },
        "outputId": "d5044f35-0def-46b2-b76f-a1a4704f2b9e"
      },
      "source": [
        "#Obtener todos los elementos de la primera fila\n",
        "arr[0,:]"
      ],
      "execution_count": 64,
      "outputs": [
        {
          "output_type": "execute_result",
          "data": {
            "text/plain": [
              "array([1, 3])"
            ]
          },
          "metadata": {},
          "execution_count": 64
        }
      ]
    },
    {
      "cell_type": "code",
      "metadata": {
        "id": "p5o3j5HMitAs",
        "colab": {
          "base_uri": "https://localhost:8080/"
        },
        "outputId": "6c3b1907-1966-4c02-aa97-daf1d49931c3"
      },
      "source": [
        "#Reasignar todos los elementos de la primera columna\n",
        "arr[:,0] = [-100, 25]\n",
        "arr"
      ],
      "execution_count": 65,
      "outputs": [
        {
          "output_type": "execute_result",
          "data": {
            "text/plain": [
              "array([[-100,    3],\n",
              "       [  25,    8]])"
            ]
          },
          "metadata": {},
          "execution_count": 65
        }
      ]
    },
    {
      "cell_type": "code",
      "metadata": {
        "id": "nVATzeKMitAY",
        "colab": {
          "base_uri": "https://localhost:8080/"
        },
        "outputId": "ecb3d8af-b7bf-48cc-9f52-519cea20147f"
      },
      "source": [
        "# Ejemplo de inicialización manual\n",
        "\n",
        "n = 5\n",
        "m = 5\n",
        "arr2d = np.zeros((n,m))\n",
        "for i in range(n):\n",
        "  for j in range(m):\n",
        "    arr2d[i, j] = (i + 1)* (j + 1)\n",
        "    \n",
        "arr2d"
      ],
      "execution_count": 66,
      "outputs": [
        {
          "output_type": "execute_result",
          "data": {
            "text/plain": [
              "array([[ 1.,  2.,  3.,  4.,  5.],\n",
              "       [ 2.,  4.,  6.,  8., 10.],\n",
              "       [ 3.,  6.,  9., 12., 15.],\n",
              "       [ 4.,  8., 12., 16., 20.],\n",
              "       [ 5., 10., 15., 20., 25.]])"
            ]
          },
          "metadata": {},
          "execution_count": 66
        }
      ]
    },
    {
      "cell_type": "code",
      "metadata": {
        "id": "g5CSNNL_itAv",
        "colab": {
          "base_uri": "https://localhost:8080/"
        },
        "outputId": "6b911ed0-008e-480e-80d5-e73d7a4462cb"
      },
      "source": [
        "# Seleccionar la matriz 2x2 de la esquina inferior derecha\n",
        "arr2d[3:,3:]"
      ],
      "execution_count": 67,
      "outputs": [
        {
          "output_type": "execute_result",
          "data": {
            "text/plain": [
              "array([[16., 20.],\n",
              "       [20., 25.]])"
            ]
          },
          "metadata": {},
          "execution_count": 67
        }
      ]
    },
    {
      "cell_type": "markdown",
      "metadata": {
        "id": "k_57GoKXitAx"
      },
      "source": [
        "Para arreglos de dimensiones superiores se permite el formato general **`arr_nd[d1][d2]...[dn]`** o **`arr_2d[d1,d2,...,dn]`**. \n",
        "\n",
        "Por claridad y debido al comportamiento del indexado, se recomienda usar siempre la notación con coma."
      ]
    },
    {
      "cell_type": "code",
      "metadata": {
        "id": "mrIF5fX3itAx",
        "colab": {
          "base_uri": "https://localhost:8080/"
        },
        "outputId": "ffa5ec76-1d26-4444-f9f5-7d6d973f38e2"
      },
      "source": [
        "# Creación de un arreglo de 3 dimensiones o tensor.\n",
        "# Se puede entender como un arreglo de matrices.\n",
        "arr_3d = np.array(([[[5, 10], [20, 25]], [[7, 21], [7, 28]]]))\n",
        "arr_3d"
      ],
      "execution_count": 68,
      "outputs": [
        {
          "output_type": "execute_result",
          "data": {
            "text/plain": [
              "array([[[ 5, 10],\n",
              "        [20, 25]],\n",
              "\n",
              "       [[ 7, 21],\n",
              "        [ 7, 28]]])"
            ]
          },
          "metadata": {},
          "execution_count": 68
        }
      ]
    },
    {
      "cell_type": "code",
      "metadata": {
        "id": "ZywveLiFitAz",
        "colab": {
          "base_uri": "https://localhost:8080/"
        },
        "outputId": "52233373-c33e-493d-f29b-657e913182e2"
      },
      "source": [
        "# Accediendo a un elemento particular\n",
        "arr_3d[0, 0, 0]"
      ],
      "execution_count": 69,
      "outputs": [
        {
          "output_type": "execute_result",
          "data": {
            "text/plain": [
              "5"
            ]
          },
          "metadata": {},
          "execution_count": 69
        }
      ]
    },
    {
      "cell_type": "code",
      "metadata": {
        "id": "4dlWAlVlitA0",
        "colab": {
          "base_uri": "https://localhost:8080/"
        },
        "outputId": "7a7f8ed2-7da8-42a4-dfef-a6cf990d8c2e"
      },
      "source": [
        "# Tomar el primer elemento de la primera dimensión \n",
        "# (Es decir, la primera matriz)\n",
        "arr_3d[0,:,:]\n"
      ],
      "execution_count": 70,
      "outputs": [
        {
          "output_type": "execute_result",
          "data": {
            "text/plain": [
              "array([[ 5, 10],\n",
              "       [20, 25]])"
            ]
          },
          "metadata": {},
          "execution_count": 70
        }
      ]
    },
    {
      "cell_type": "code",
      "metadata": {
        "id": "6Q2OgeEuitA4",
        "colab": {
          "base_uri": "https://localhost:8080/"
        },
        "outputId": "e86c2016-d93e-42fa-d279-35b88fdb50f4"
      },
      "source": [
        "# Traer la primera fila de las 2 submatrices\n",
        "arr_3d[:,0,:]"
      ],
      "execution_count": 71,
      "outputs": [
        {
          "output_type": "execute_result",
          "data": {
            "text/plain": [
              "array([[ 5, 10],\n",
              "       [ 7, 21]])"
            ]
          },
          "metadata": {},
          "execution_count": 71
        }
      ]
    },
    {
      "cell_type": "code",
      "metadata": {
        "id": "Go-FGQpvitA6",
        "colab": {
          "base_uri": "https://localhost:8080/"
        },
        "outputId": "875fb56a-0734-425a-fe50-d84f641ea328"
      },
      "source": [
        "# Traer la última fila de las 2 submatrices\n",
        "arr_3d[:,-1,:]"
      ],
      "execution_count": 72,
      "outputs": [
        {
          "output_type": "execute_result",
          "data": {
            "text/plain": [
              "array([[20, 25],\n",
              "       [ 7, 28]])"
            ]
          },
          "metadata": {},
          "execution_count": 72
        }
      ]
    },
    {
      "cell_type": "markdown",
      "metadata": {
        "id": "cy3vybcwiyiV"
      },
      "source": [
        "Además del indexado natural presentado hasta el momento, los arreglos de *NumPy* aceptan colecciones de enteros que representan las filas o columnas que se desean retornar por cada dimensión. Esto se conoce como *fancy indexing* o indexado elegante."
      ]
    },
    {
      "cell_type": "code",
      "metadata": {
        "id": "YTOg1XjNiyiV",
        "colab": {
          "base_uri": "https://localhost:8080/"
        },
        "outputId": "3920291f-eaeb-4625-e4a8-453f7011255b"
      },
      "source": [
        "arr = np.arange(100,121)\n",
        "arr"
      ],
      "execution_count": 73,
      "outputs": [
        {
          "output_type": "execute_result",
          "data": {
            "text/plain": [
              "array([100, 101, 102, 103, 104, 105, 106, 107, 108, 109, 110, 111, 112,\n",
              "       113, 114, 115, 116, 117, 118, 119, 120])"
            ]
          },
          "metadata": {},
          "execution_count": 73
        }
      ]
    },
    {
      "cell_type": "code",
      "metadata": {
        "id": "m3McxxrxiyiY",
        "colab": {
          "base_uri": "https://localhost:8080/"
        },
        "outputId": "daf32fca-1039-4591-a35c-866accad11ca"
      },
      "source": [
        "# Obtener elementos también en cualquier orden\n",
        "# Los elementos de la lista corresponden a los índices a los cuales se quiere acceder, en ese orden\n",
        "arr[[7, 3, 4, 2]] "
      ],
      "execution_count": 74,
      "outputs": [
        {
          "output_type": "execute_result",
          "data": {
            "text/plain": [
              "array([107, 103, 104, 102])"
            ]
          },
          "metadata": {},
          "execution_count": 74
        }
      ]
    },
    {
      "cell_type": "code",
      "metadata": {
        "id": "iyFR_nU-iyie",
        "colab": {
          "base_uri": "https://localhost:8080/"
        },
        "outputId": "68cbc636-03bf-4eba-ebdb-35a25f7147c4"
      },
      "source": [
        "# Inicialización de una matriz con comprensión de listas\n",
        "n = 8\n",
        "m = 8\n",
        "arr2d = np.array([[i]*n for i in range(m)])\n",
        "  \n",
        "arr2d"
      ],
      "execution_count": 75,
      "outputs": [
        {
          "output_type": "execute_result",
          "data": {
            "text/plain": [
              "array([[0, 0, 0, 0, 0, 0, 0, 0],\n",
              "       [1, 1, 1, 1, 1, 1, 1, 1],\n",
              "       [2, 2, 2, 2, 2, 2, 2, 2],\n",
              "       [3, 3, 3, 3, 3, 3, 3, 3],\n",
              "       [4, 4, 4, 4, 4, 4, 4, 4],\n",
              "       [5, 5, 5, 5, 5, 5, 5, 5],\n",
              "       [6, 6, 6, 6, 6, 6, 6, 6],\n",
              "       [7, 7, 7, 7, 7, 7, 7, 7]])"
            ]
          },
          "metadata": {},
          "execution_count": 75
        }
      ]
    },
    {
      "cell_type": "code",
      "metadata": {
        "id": "rVDmQAL4iyig",
        "colab": {
          "base_uri": "https://localhost:8080/"
        },
        "outputId": "45f053f9-9e88-4d3d-8b92-4ab862aebe37"
      },
      "source": [
        "# Obtener elementos de la matriz en cualquier orden\n",
        "arr2d[[6,4,2],:]"
      ],
      "execution_count": 76,
      "outputs": [
        {
          "output_type": "execute_result",
          "data": {
            "text/plain": [
              "array([[6, 6, 6, 6, 6, 6, 6, 6],\n",
              "       [4, 4, 4, 4, 4, 4, 4, 4],\n",
              "       [2, 2, 2, 2, 2, 2, 2, 2]])"
            ]
          },
          "metadata": {},
          "execution_count": 76
        }
      ]
    },
    {
      "cell_type": "code",
      "metadata": {
        "id": "xsa8SAET9mFk",
        "colab": {
          "base_uri": "https://localhost:8080/"
        },
        "outputId": "dbac6099-9c95-49d4-8094-5b864a94bf1f"
      },
      "source": [
        "arr2d = np.eye(8)\n",
        "\n",
        "arr2d[:,[1,4,2,7]]"
      ],
      "execution_count": 77,
      "outputs": [
        {
          "output_type": "execute_result",
          "data": {
            "text/plain": [
              "array([[0., 0., 0., 0.],\n",
              "       [1., 0., 0., 0.],\n",
              "       [0., 0., 1., 0.],\n",
              "       [0., 0., 0., 0.],\n",
              "       [0., 1., 0., 0.],\n",
              "       [0., 0., 0., 0.],\n",
              "       [0., 0., 0., 0.],\n",
              "       [0., 0., 0., 1.]])"
            ]
          },
          "metadata": {},
          "execution_count": 77
        }
      ]
    },
    {
      "cell_type": "code",
      "metadata": {
        "id": "TfFbRMob76Pu",
        "colab": {
          "base_uri": "https://localhost:8080/"
        },
        "outputId": "abd88b8c-629b-4f50-bb1f-5b4dad28592e"
      },
      "source": [
        "np.eye(4)[:, [0,2,1,3]] #Matriz identidad con dos columnas cambiadas."
      ],
      "execution_count": 78,
      "outputs": [
        {
          "output_type": "execute_result",
          "data": {
            "text/plain": [
              "array([[1., 0., 0., 0.],\n",
              "       [0., 0., 1., 0.],\n",
              "       [0., 1., 0., 0.],\n",
              "       [0., 0., 0., 1.]])"
            ]
          },
          "metadata": {},
          "execution_count": 78
        }
      ]
    },
    {
      "cell_type": "markdown",
      "metadata": {
        "id": "Ak2XQcC4iyih"
      },
      "source": [
        "Existe un método de indexado adicional que se realiza por medio de condiciones lógicas. Este es el método de selección condicional o *boolean masking* mediante el cual se aceptan arreglos de booleanos para definir los valores accedidos en la expresión.\n",
        "\n",
        "Esto ocurre en dos pasos:\n",
        "\n",
        "1. Se aplica un operador lógico en un arreglo y un valor escalar. Esta operación retorna un arreglo de booleanos.\n",
        "   > **Nota:** Las operaciones en arreglos se verán en detalle más adelante en este material.\n",
        "\n",
        "2. El arreglo producido en el paso anterior es ingresado como el índice del arreglo. De esta forma se accede a los elementos que cumplieran la condición lógica definida con el operador del primer paso.\n",
        "\n",
        "En la siguiente animación se presenta el proceso realizado en el arreglo con la selección condicional.\n"
      ]
    },
    {
      "cell_type": "code",
      "metadata": {
        "id": "bTlEyDXoVxVn",
        "colab": {
          "base_uri": "https://localhost:8080/",
          "height": 495
        },
        "outputId": "4bf9d619-1b38-4476-b0a3-687432f1b47e",
        "cellView": "form"
      },
      "source": [
        "#@title **Seleccion condicional (animación)**\n",
        "from IPython.display import HTML\n",
        "\n",
        "HTML('<iframe style=\"width:768px; height: 432px;\" src=\"https://drive.google.com/file/d/1XVtMyJcD4ZlinXAg7GvOc82o0WpvjuCA/preview\"></iframe>')\n",
        "\n"
      ],
      "execution_count": 79,
      "outputs": [
        {
          "output_type": "stream",
          "name": "stderr",
          "text": [
            "/usr/local/lib/python3.7/dist-packages/IPython/core/display.py:701: UserWarning: Consider using IPython.display.IFrame instead\n",
            "  warnings.warn(\"Consider using IPython.display.IFrame instead\")\n"
          ]
        },
        {
          "output_type": "execute_result",
          "data": {
            "text/plain": [
              "<IPython.core.display.HTML object>"
            ],
            "text/html": [
              "<iframe style=\"width:768px; height: 432px;\" src=\"https://drive.google.com/file/d/1XVtMyJcD4ZlinXAg7GvOc82o0WpvjuCA/preview\"></iframe>"
            ]
          },
          "metadata": {},
          "execution_count": 79
        }
      ]
    },
    {
      "cell_type": "markdown",
      "metadata": {
        "id": "TqfoCJTscsBK"
      },
      "source": [
        "Veamos el ejemplo en código, paso por paso:"
      ]
    },
    {
      "cell_type": "code",
      "metadata": {
        "id": "LD0BUByCUOyN",
        "colab": {
          "base_uri": "https://localhost:8080/"
        },
        "outputId": "4cad60db-ccd1-4be3-84a6-dcc0450ab0c7"
      },
      "source": [
        "A = np.array([[ 1, -4,  3, -3],\n",
        "              [-4, -2, -1,  1],\n",
        "              [ 0,  1,  2, -2],\n",
        "              [-5, -3, -4,  4]])\n",
        "\n",
        "A"
      ],
      "execution_count": 80,
      "outputs": [
        {
          "output_type": "execute_result",
          "data": {
            "text/plain": [
              "array([[ 1, -4,  3, -3],\n",
              "       [-4, -2, -1,  1],\n",
              "       [ 0,  1,  2, -2],\n",
              "       [-5, -3, -4,  4]])"
            ]
          },
          "metadata": {},
          "execution_count": 80
        }
      ]
    },
    {
      "cell_type": "code",
      "metadata": {
        "id": "HN4L0YRfiyij",
        "colab": {
          "base_uri": "https://localhost:8080/"
        },
        "outputId": "cf6187d1-b0c7-45a0-c758-6f23a19ad4b7"
      },
      "source": [
        "# Operador lógico\n",
        "# Esta expresión evalúa por cada elemento del arreglo\n",
        "# si este es menor que 0.\n",
        "\n",
        "A < 0"
      ],
      "execution_count": 81,
      "outputs": [
        {
          "output_type": "execute_result",
          "data": {
            "text/plain": [
              "array([[False,  True, False,  True],\n",
              "       [ True,  True,  True, False],\n",
              "       [False, False, False,  True],\n",
              "       [ True,  True,  True, False]])"
            ]
          },
          "metadata": {},
          "execution_count": 81
        }
      ]
    },
    {
      "cell_type": "code",
      "metadata": {
        "id": "-ZBrllFBXLGs",
        "colab": {
          "base_uri": "https://localhost:8080/"
        },
        "outputId": "219f46da-6b71-407e-d2f2-8873a541c706"
      },
      "source": [
        "# Se usa la expresión anterior directamente en el arreglo\n",
        "# Si las dimensiones no permiten crear una matriz, se retorna un arreglo plano.\n",
        "A[A < 0] "
      ],
      "execution_count": 82,
      "outputs": [
        {
          "output_type": "execute_result",
          "data": {
            "text/plain": [
              "array([-4, -3, -4, -2, -1, -2, -5, -3, -4])"
            ]
          },
          "metadata": {},
          "execution_count": 82
        }
      ]
    },
    {
      "cell_type": "code",
      "metadata": {
        "id": "YEUyQkTVXWW9",
        "colab": {
          "base_uri": "https://localhost:8080/"
        },
        "outputId": "85e8147d-1c1e-459f-a6e0-c2ed5f1bb8e5"
      },
      "source": [
        "# Se asigna el valor escalar 0 a cada elemento del arreglo original.\n",
        "A[A < 0] = 0\n",
        "\n",
        "A"
      ],
      "execution_count": 83,
      "outputs": [
        {
          "output_type": "execute_result",
          "data": {
            "text/plain": [
              "array([[1, 0, 3, 0],\n",
              "       [0, 0, 0, 1],\n",
              "       [0, 1, 2, 0],\n",
              "       [0, 0, 0, 4]])"
            ]
          },
          "metadata": {},
          "execution_count": 83
        }
      ]
    },
    {
      "cell_type": "markdown",
      "metadata": {
        "id": "JQPB6uWuc7yo"
      },
      "source": [
        "Usando condiciones compuestas:"
      ]
    },
    {
      "cell_type": "code",
      "metadata": {
        "id": "HEfoJ93Ciyip",
        "colab": {
          "base_uri": "https://localhost:8080/"
        },
        "outputId": "e629e14c-e278-4fd4-ed7c-bafdd316277c"
      },
      "source": [
        "#Usando condiciones más complejas\n",
        "A[(A>1) & (A<4)] = 50 \n",
        "\n",
        "A"
      ],
      "execution_count": 84,
      "outputs": [
        {
          "output_type": "execute_result",
          "data": {
            "text/plain": [
              "array([[ 1,  0, 50,  0],\n",
              "       [ 0,  0,  0,  1],\n",
              "       [ 0,  1, 50,  0],\n",
              "       [ 0,  0,  0,  4]])"
            ]
          },
          "metadata": {},
          "execution_count": 84
        }
      ]
    },
    {
      "cell_type": "markdown",
      "metadata": {
        "id": "hRyGYLhsdaAZ"
      },
      "source": [
        "Nótese que en este caso se utiliza el operador **`&`** (*bitwise and*) y no el operador lógico **`and`**. En el caso de una \"or\" lógica, el operador correcto en este caso sería **`|`** en lugar de **`or`**. Por último, la negación se obtiene con **`~`** en vez de **`not`**. Veamos algunos ejemplos:"
      ]
    },
    {
      "cell_type": "code",
      "metadata": {
        "id": "jT_eaHJxdvvM",
        "colab": {
          "base_uri": "https://localhost:8080/"
        },
        "outputId": "1548192e-bf63-41da-9bb8-14a9261afc2a"
      },
      "source": [
        "A[(A>=50) |(A==0)] = 2 \n",
        "A"
      ],
      "execution_count": 85,
      "outputs": [
        {
          "output_type": "execute_result",
          "data": {
            "text/plain": [
              "array([[1, 2, 2, 2],\n",
              "       [2, 2, 2, 1],\n",
              "       [2, 1, 2, 2],\n",
              "       [2, 2, 2, 4]])"
            ]
          },
          "metadata": {},
          "execution_count": 85
        }
      ]
    },
    {
      "cell_type": "code",
      "metadata": {
        "id": "S-sFXAE2dAcV",
        "colab": {
          "base_uri": "https://localhost:8080/"
        },
        "outputId": "755fa50e-9765-4d26-906d-20d203dd2aa5"
      },
      "source": [
        "A[~(A<3)] = 100 \n",
        "A"
      ],
      "execution_count": 86,
      "outputs": [
        {
          "output_type": "execute_result",
          "data": {
            "text/plain": [
              "array([[  1,   2,   2,   2],\n",
              "       [  2,   2,   2,   1],\n",
              "       [  2,   1,   2,   2],\n",
              "       [  2,   2,   2, 100]])"
            ]
          },
          "metadata": {},
          "execution_count": 86
        }
      ]
    },
    {
      "cell_type": "markdown",
      "metadata": {
        "id": "ds-q3j8_piW2"
      },
      "source": [
        "## **5. Operaciones en arreglos**\n",
        "---\n",
        "\n",
        "*NumPy* dispone de múltiples funciones y rutinas de uso general en la computación científica. Estas pueden ser invocadas como el método de un arreglo o con alto nivel tomando arreglos como parámetro. "
      ]
    },
    {
      "cell_type": "markdown",
      "metadata": {
        "id": "Gq3y0rtwMiGU"
      },
      "source": [
        "### **5.1. Operadores en arreglos**\n",
        "---\n",
        "\n",
        "Los mismos operadores utilizados entre variables de tipos de dato primitivos en *Python* pueden usarse entre arreglos, siempre y cuando los tipos de dato que contienen permitan o tengan una semántica propia para la operación.\n",
        "\n",
        " A continuación se listan algunas de las operaciones numéricas y lógicas que se pueden realizar entre arreglos."
      ]
    },
    {
      "cell_type": "markdown",
      "metadata": {
        "id": "CCm-N2YWNogA"
      },
      "source": [
        "* **Suma `+` | `np.add(a,b)`**: La suma entre arreglos está definida como la suma de matrices en álgebra lineal, dando como resultado la suma elemento a elemento de cada combinación de filas y columnas. Además, *NumPy* tiene una propiedad especial llamada *broadcasting*, que permite operar arreglos de tamaños distintos de forma dinámica, ampliando con su repetición al arreglo más pequeño para ajustarse a la capacidad necesaria para permitir la operación. Esto solo es posible si ambos operandos comparten el mismo tamaño de una dimensión."
      ]
    },
    {
      "cell_type": "code",
      "metadata": {
        "id": "HSMzFIkSPQb2"
      },
      "source": [
        "a = np.array([1, 2, 3])\n",
        "b = np.array([10, 20, 30])"
      ],
      "execution_count": 87,
      "outputs": []
    },
    {
      "cell_type": "code",
      "metadata": {
        "id": "yeQtM-hRvBk1",
        "colab": {
          "base_uri": "https://localhost:8080/"
        },
        "outputId": "af939635-5daf-4a55-b6a0-3ef1f68bb7ec"
      },
      "source": [
        "a"
      ],
      "execution_count": 88,
      "outputs": [
        {
          "output_type": "execute_result",
          "data": {
            "text/plain": [
              "array([1, 2, 3])"
            ]
          },
          "metadata": {},
          "execution_count": 88
        }
      ]
    },
    {
      "cell_type": "code",
      "metadata": {
        "id": "2H6cu94YvC8L",
        "colab": {
          "base_uri": "https://localhost:8080/"
        },
        "outputId": "8f6f54e7-7f85-4efa-a619-9008396107e6"
      },
      "source": [
        "b"
      ],
      "execution_count": 89,
      "outputs": [
        {
          "output_type": "execute_result",
          "data": {
            "text/plain": [
              "array([10, 20, 30])"
            ]
          },
          "metadata": {},
          "execution_count": 89
        }
      ]
    },
    {
      "cell_type": "code",
      "metadata": {
        "id": "c3o4HncAPYwk",
        "colab": {
          "base_uri": "https://localhost:8080/"
        },
        "outputId": "7ed8a0a1-6df4-4124-d4b1-008f5078408f"
      },
      "source": [
        "a + b"
      ],
      "execution_count": 90,
      "outputs": [
        {
          "output_type": "execute_result",
          "data": {
            "text/plain": [
              "array([11, 22, 33])"
            ]
          },
          "metadata": {},
          "execution_count": 90
        }
      ]
    },
    {
      "cell_type": "code",
      "metadata": {
        "id": "hLQTjsbUP9Sj",
        "colab": {
          "base_uri": "https://localhost:8080/"
        },
        "outputId": "dc8e366b-aff0-4b4d-ccf7-e556ce96509b"
      },
      "source": [
        "np.add(a,b)"
      ],
      "execution_count": 91,
      "outputs": [
        {
          "output_type": "execute_result",
          "data": {
            "text/plain": [
              "array([11, 22, 33])"
            ]
          },
          "metadata": {},
          "execution_count": 91
        }
      ]
    },
    {
      "cell_type": "code",
      "metadata": {
        "id": "HGv_oJvtPiwj",
        "colab": {
          "base_uri": "https://localhost:8080/"
        },
        "outputId": "a3fd61d0-9fd4-45e9-b860-5e0d091155ab"
      },
      "source": [
        "c = np.full((6, 3), 100)\n",
        "\n",
        "c"
      ],
      "execution_count": 92,
      "outputs": [
        {
          "output_type": "execute_result",
          "data": {
            "text/plain": [
              "array([[100, 100, 100],\n",
              "       [100, 100, 100],\n",
              "       [100, 100, 100],\n",
              "       [100, 100, 100],\n",
              "       [100, 100, 100],\n",
              "       [100, 100, 100]])"
            ]
          },
          "metadata": {},
          "execution_count": 92
        }
      ]
    },
    {
      "cell_type": "code",
      "metadata": {
        "id": "pLHrQSqrvGM9",
        "colab": {
          "base_uri": "https://localhost:8080/"
        },
        "outputId": "e53e8296-14ac-46a9-b677-6f27ef56efa3"
      },
      "source": [
        "#Los arreglos a y b se expanden repitiendo sus filas para la operación (broadcasting)\n",
        "c + a + b"
      ],
      "execution_count": 93,
      "outputs": [
        {
          "output_type": "execute_result",
          "data": {
            "text/plain": [
              "array([[111, 122, 133],\n",
              "       [111, 122, 133],\n",
              "       [111, 122, 133],\n",
              "       [111, 122, 133],\n",
              "       [111, 122, 133],\n",
              "       [111, 122, 133]])"
            ]
          },
          "metadata": {},
          "execution_count": 93
        }
      ]
    },
    {
      "cell_type": "markdown",
      "metadata": {
        "id": "HOl0bXimd-Hn"
      },
      "source": [
        "Este comportamiento se diferencia al de las listas de *Python*. Con las listas, este operador sirve para concatenar los elementos de dos listas. En *NumPy* se operan los elementos de ambos arreglos. Para concatenar arreglos de *NumPy*, consulte la sección $5.4$ de este material."
      ]
    },
    {
      "cell_type": "code",
      "metadata": {
        "id": "qRCReBU6eh6T",
        "colab": {
          "base_uri": "https://localhost:8080/"
        },
        "outputId": "5733ea49-0216-4682-cd3e-5659c58a2622"
      },
      "source": [
        "ls_a = [1, 2, 3]\n",
        "ls_b = [4, 5, 6]\n",
        "\n",
        "ls_a, ls_b"
      ],
      "execution_count": 94,
      "outputs": [
        {
          "output_type": "execute_result",
          "data": {
            "text/plain": [
              "([1, 2, 3], [4, 5, 6])"
            ]
          },
          "metadata": {},
          "execution_count": 94
        }
      ]
    },
    {
      "cell_type": "code",
      "metadata": {
        "id": "xXlvzLB8emV7",
        "colab": {
          "base_uri": "https://localhost:8080/"
        },
        "outputId": "7ca79b0e-c615-4ede-c178-2603fea56862"
      },
      "source": [
        "arr_a = np.array(ls_a)\n",
        "arr_b = np.array(ls_b)\n",
        "\n",
        "arr_a, arr_b"
      ],
      "execution_count": 95,
      "outputs": [
        {
          "output_type": "execute_result",
          "data": {
            "text/plain": [
              "(array([1, 2, 3]), array([4, 5, 6]))"
            ]
          },
          "metadata": {},
          "execution_count": 95
        }
      ]
    },
    {
      "cell_type": "code",
      "metadata": {
        "id": "OM_6hhBye5Yh",
        "colab": {
          "base_uri": "https://localhost:8080/"
        },
        "outputId": "b85cbbf3-a8e5-4d31-d812-b7dcaa4c06d7"
      },
      "source": [
        "# Operando listas (Concatenación)\n",
        "ls_a + ls_b"
      ],
      "execution_count": 96,
      "outputs": [
        {
          "output_type": "execute_result",
          "data": {
            "text/plain": [
              "[1, 2, 3, 4, 5, 6]"
            ]
          },
          "metadata": {},
          "execution_count": 96
        }
      ]
    },
    {
      "cell_type": "code",
      "metadata": {
        "id": "StJkrYpoe7mC",
        "colab": {
          "base_uri": "https://localhost:8080/"
        },
        "outputId": "c01567fa-4dca-4dcd-f78b-c0c895cc984f"
      },
      "source": [
        "# Operando arreglos (Suma elemento a elemento)\n",
        "arr_a + arr_b"
      ],
      "execution_count": 97,
      "outputs": [
        {
          "output_type": "execute_result",
          "data": {
            "text/plain": [
              "array([5, 7, 9])"
            ]
          },
          "metadata": {},
          "execution_count": 97
        }
      ]
    },
    {
      "cell_type": "code",
      "metadata": {
        "id": "gCiaFwxZfHyS",
        "colab": {
          "base_uri": "https://localhost:8080/"
        },
        "outputId": "3384f350-ae10-4722-9cd7-8f8feebb8ac8"
      },
      "source": [
        "# Si al menos uno de los elementos es un arreglo, NumPy se encarga de\n",
        "# realizar la conversión respectiva (cast).\n",
        "# Arreglo + lista\n",
        "arr_a + ls_b"
      ],
      "execution_count": 98,
      "outputs": [
        {
          "output_type": "execute_result",
          "data": {
            "text/plain": [
              "array([5, 7, 9])"
            ]
          },
          "metadata": {},
          "execution_count": 98
        }
      ]
    },
    {
      "cell_type": "markdown",
      "metadata": {
        "id": "we6rH8UfQ64D"
      },
      "source": [
        "* **Resta `-` | `np.subtract(a,b)`**: Al igual que la suma, la resta entre arreglos está definida como su operación homóloga en matrices, dando como resultado la resta elemento a elemento de cada combinación de filas y columnas."
      ]
    },
    {
      "cell_type": "code",
      "metadata": {
        "id": "2MOVFGqaS5gv",
        "colab": {
          "base_uri": "https://localhost:8080/"
        },
        "outputId": "9b374f9c-7c48-425c-f139-2fb1e7d47f89"
      },
      "source": [
        "a = np.ones((3,3))\n",
        "b = np.eye(3)\n",
        "\n",
        "a - b"
      ],
      "execution_count": 99,
      "outputs": [
        {
          "output_type": "execute_result",
          "data": {
            "text/plain": [
              "array([[0., 1., 1.],\n",
              "       [1., 0., 1.],\n",
              "       [1., 1., 0.]])"
            ]
          },
          "metadata": {},
          "execution_count": 99
        }
      ]
    },
    {
      "cell_type": "code",
      "metadata": {
        "id": "28Vxr7JiTS6X",
        "colab": {
          "base_uri": "https://localhost:8080/"
        },
        "outputId": "66f039fa-9360-4c8a-a771-42f2ada1716d"
      },
      "source": [
        "np.subtract(a, b)"
      ],
      "execution_count": 100,
      "outputs": [
        {
          "output_type": "execute_result",
          "data": {
            "text/plain": [
              "array([[0., 1., 1.],\n",
              "       [1., 0., 1.],\n",
              "       [1., 1., 0.]])"
            ]
          },
          "metadata": {},
          "execution_count": 100
        }
      ]
    },
    {
      "cell_type": "code",
      "metadata": {
        "id": "CPU4iAG_TdZB",
        "colab": {
          "base_uri": "https://localhost:8080/"
        },
        "outputId": "16527e5b-06bc-48c0-cdcd-ebe37be30d7e"
      },
      "source": [
        "c = np.full((7,3), 10)\n",
        "d = np.ones(3)\n",
        "\n",
        "c - d"
      ],
      "execution_count": 101,
      "outputs": [
        {
          "output_type": "execute_result",
          "data": {
            "text/plain": [
              "array([[9., 9., 9.],\n",
              "       [9., 9., 9.],\n",
              "       [9., 9., 9.],\n",
              "       [9., 9., 9.],\n",
              "       [9., 9., 9.],\n",
              "       [9., 9., 9.],\n",
              "       [9., 9., 9.]])"
            ]
          },
          "metadata": {},
          "execution_count": 101
        }
      ]
    },
    {
      "cell_type": "markdown",
      "metadata": {
        "id": "LWfinLojUD7Z"
      },
      "source": [
        "* **Multiplicación `*` | `np.multiply(a, b)`**: La multiplicación entre arreglos de *NumPy* con el operador **`*`** no corresponde a la definición de multiplicación de matrices de álgebra lineal. En su lugar, el resultado se comporta de la misma manera que la suma o la resta, multiplicando los elementos correspondientes por cada elemento de cada pareja de fila y columna. Gracias a esto es posible hacer *broadcasting* con la multiplicación. Otra propiedad del *broadcasting* es que se pueden operar arreglos con valores escalares, que sí actúan como la multiplicación por escalares definida en el álgebra matricial."
      ]
    },
    {
      "cell_type": "code",
      "metadata": {
        "id": "P1FSronnUlB-",
        "colab": {
          "base_uri": "https://localhost:8080/"
        },
        "outputId": "75c27171-9ec0-4ee8-ef84-45cb1c068a01"
      },
      "source": [
        "a = np.eye(3) * 5 # Multiplicación por escalar.\n",
        "a"
      ],
      "execution_count": 102,
      "outputs": [
        {
          "output_type": "execute_result",
          "data": {
            "text/plain": [
              "array([[5., 0., 0.],\n",
              "       [0., 5., 0.],\n",
              "       [0., 0., 5.]])"
            ]
          },
          "metadata": {},
          "execution_count": 102
        }
      ]
    },
    {
      "cell_type": "code",
      "metadata": {
        "id": "HV0idjXKVD0b",
        "colab": {
          "base_uri": "https://localhost:8080/"
        },
        "outputId": "b5cd8ac1-5c16-4ce4-eff9-91c6e1ce019d"
      },
      "source": [
        "b = np.random.randint(0, 10, (3,3))\n",
        "b"
      ],
      "execution_count": 103,
      "outputs": [
        {
          "output_type": "execute_result",
          "data": {
            "text/plain": [
              "array([[6, 2, 1],\n",
              "       [5, 8, 6],\n",
              "       [5, 1, 0]])"
            ]
          },
          "metadata": {},
          "execution_count": 103
        }
      ]
    },
    {
      "cell_type": "code",
      "metadata": {
        "id": "U1rCcQsDVRyg",
        "colab": {
          "base_uri": "https://localhost:8080/"
        },
        "outputId": "073957d0-b51d-42bc-88b5-e256df0376f8"
      },
      "source": [
        "a * b  # Multiplicación elemento a elemento"
      ],
      "execution_count": 104,
      "outputs": [
        {
          "output_type": "execute_result",
          "data": {
            "text/plain": [
              "array([[30.,  0.,  0.],\n",
              "       [ 0., 40.,  0.],\n",
              "       [ 0.,  0.,  0.]])"
            ]
          },
          "metadata": {},
          "execution_count": 104
        }
      ]
    },
    {
      "cell_type": "code",
      "metadata": {
        "id": "EuOyquFYVWsl",
        "colab": {
          "base_uri": "https://localhost:8080/"
        },
        "outputId": "e95f071f-840c-4000-b7a7-a63b4c57c778"
      },
      "source": [
        "np.multiply(a, b)"
      ],
      "execution_count": 105,
      "outputs": [
        {
          "output_type": "execute_result",
          "data": {
            "text/plain": [
              "array([[30.,  0.,  0.],\n",
              "       [ 0., 40.,  0.],\n",
              "       [ 0.,  0.,  0.]])"
            ]
          },
          "metadata": {},
          "execution_count": 105
        }
      ]
    },
    {
      "cell_type": "markdown",
      "metadata": {
        "id": "DQiSiQIAfgqi"
      },
      "source": [
        "Al igual que con el operador `+`, el comportamiento obtenido con el operador `*` se diferencia al de las listas de *Python*. Con las listas, ese operador sirve para repetir los elementos de una lista y requiere que uno de los operandos sea un entero. En *NumPy* se operan los elementos de ambos arreglos."
      ]
    },
    {
      "cell_type": "code",
      "metadata": {
        "id": "fFMdczE7fgqi",
        "colab": {
          "base_uri": "https://localhost:8080/"
        },
        "outputId": "81f4f394-eaf8-475e-d032-a07550ed447c"
      },
      "source": [
        "ls_a = [1, 2, 3]\n",
        "ls_b = [10, 20, 30]\n",
        "\n",
        "ls_a"
      ],
      "execution_count": 106,
      "outputs": [
        {
          "output_type": "execute_result",
          "data": {
            "text/plain": [
              "[1, 2, 3]"
            ]
          },
          "metadata": {},
          "execution_count": 106
        }
      ]
    },
    {
      "cell_type": "code",
      "metadata": {
        "id": "QSYZoNIKfgql",
        "colab": {
          "base_uri": "https://localhost:8080/"
        },
        "outputId": "af0cf002-f723-4996-d0a6-7b91aa27572c"
      },
      "source": [
        "arr_a = np.array(ls_a)\n",
        "arr_b = np.array(ls_b)\n",
        "\n",
        "arr_a, arr_b"
      ],
      "execution_count": 107,
      "outputs": [
        {
          "output_type": "execute_result",
          "data": {
            "text/plain": [
              "(array([1, 2, 3]), array([10, 20, 30]))"
            ]
          },
          "metadata": {},
          "execution_count": 107
        }
      ]
    },
    {
      "cell_type": "code",
      "metadata": {
        "id": "iQpPY3OsgeQG"
      },
      "source": [
        "# La multiplicación entre listas no está permitida.\n",
        "#ls_a * ls_b # Si se descomenta esta sentencia saldrá un error"
      ],
      "execution_count": 108,
      "outputs": []
    },
    {
      "cell_type": "code",
      "metadata": {
        "id": "IL6r1GY4fgqn",
        "colab": {
          "base_uri": "https://localhost:8080/"
        },
        "outputId": "c2ead19e-26bc-4bca-89ff-e36024744f5f"
      },
      "source": [
        "# Operando listas con un escalar (Repetición)\n",
        "ls_b * 3"
      ],
      "execution_count": 109,
      "outputs": [
        {
          "output_type": "execute_result",
          "data": {
            "text/plain": [
              "[10, 20, 30, 10, 20, 30, 10, 20, 30]"
            ]
          },
          "metadata": {},
          "execution_count": 109
        }
      ]
    },
    {
      "cell_type": "code",
      "metadata": {
        "id": "xzVpkNDUgnYC",
        "colab": {
          "base_uri": "https://localhost:8080/"
        },
        "outputId": "45b9764e-bc30-49f7-b27a-33994acce48c"
      },
      "source": [
        "# Operando arreglos con un escalar (Multiplicación escalar)\n",
        "arr_a * 3"
      ],
      "execution_count": 110,
      "outputs": [
        {
          "output_type": "execute_result",
          "data": {
            "text/plain": [
              "array([3, 6, 9])"
            ]
          },
          "metadata": {},
          "execution_count": 110
        }
      ]
    },
    {
      "cell_type": "code",
      "metadata": {
        "id": "z41zUNNTfgqo",
        "colab": {
          "base_uri": "https://localhost:8080/"
        },
        "outputId": "e30f4b36-f74c-47ee-987f-73316865c48e"
      },
      "source": [
        "# Sí se puede operar entre arreglos (Multiplicación elemento a elemento)\n",
        "arr_a * arr_b"
      ],
      "execution_count": 111,
      "outputs": [
        {
          "output_type": "execute_result",
          "data": {
            "text/plain": [
              "array([10, 40, 90])"
            ]
          },
          "metadata": {},
          "execution_count": 111
        }
      ]
    },
    {
      "cell_type": "code",
      "metadata": {
        "id": "1nBp5qV0fgqq",
        "colab": {
          "base_uri": "https://localhost:8080/"
        },
        "outputId": "d46625df-2251-47e6-df2b-ec575a83d646"
      },
      "source": [
        "# Si al menos uno de los elementos es un arreglo, NumPy se encarga de\n",
        "# realizar el casteo respectivo.\n",
        "\n",
        "arr_a * ls_b"
      ],
      "execution_count": 112,
      "outputs": [
        {
          "output_type": "execute_result",
          "data": {
            "text/plain": [
              "array([10, 40, 90])"
            ]
          },
          "metadata": {},
          "execution_count": 112
        }
      ]
    },
    {
      "cell_type": "markdown",
      "metadata": {
        "id": "J_WJ22bfVdub"
      },
      "source": [
        "* **División `/` | `np.divide(a, b)`**: La división entre arreglos de *NumPy* con el operador `/` funciona de igual forma que las operaciones anteriores, dividiendo los elementos correspondientes por cada pareja de fila y columna."
      ]
    },
    {
      "cell_type": "code",
      "metadata": {
        "id": "xZajrq3RVr6Q",
        "colab": {
          "base_uri": "https://localhost:8080/"
        },
        "outputId": "c2488df6-bf55-45f0-faac-61dfa4e0fb78"
      },
      "source": [
        "a = np.random.randint(0, 10, (3,3))\n",
        "a"
      ],
      "execution_count": 113,
      "outputs": [
        {
          "output_type": "execute_result",
          "data": {
            "text/plain": [
              "array([[5, 8, 2],\n",
              "       [9, 4, 7],\n",
              "       [9, 5, 2]])"
            ]
          },
          "metadata": {},
          "execution_count": 113
        }
      ]
    },
    {
      "cell_type": "code",
      "metadata": {
        "id": "7OVu7H3yVyzA",
        "colab": {
          "base_uri": "https://localhost:8080/"
        },
        "outputId": "4c807bc3-4115-4d85-bf78-29c082485586"
      },
      "source": [
        "b  = np.ones((3,3)) * 10\n",
        "b"
      ],
      "execution_count": 114,
      "outputs": [
        {
          "output_type": "execute_result",
          "data": {
            "text/plain": [
              "array([[10., 10., 10.],\n",
              "       [10., 10., 10.],\n",
              "       [10., 10., 10.]])"
            ]
          },
          "metadata": {},
          "execution_count": 114
        }
      ]
    },
    {
      "cell_type": "code",
      "metadata": {
        "id": "rMYOubQ3V6zb",
        "colab": {
          "base_uri": "https://localhost:8080/"
        },
        "outputId": "13e21315-dbe3-4409-f489-460382c7008c"
      },
      "source": [
        "a / b"
      ],
      "execution_count": 115,
      "outputs": [
        {
          "output_type": "execute_result",
          "data": {
            "text/plain": [
              "array([[0.5, 0.8, 0.2],\n",
              "       [0.9, 0.4, 0.7],\n",
              "       [0.9, 0.5, 0.2]])"
            ]
          },
          "metadata": {},
          "execution_count": 115
        }
      ]
    },
    {
      "cell_type": "code",
      "metadata": {
        "id": "o_PPKaXUWAe2",
        "colab": {
          "base_uri": "https://localhost:8080/"
        },
        "outputId": "cefa905d-b495-42a1-97aa-0e2c6ff91772"
      },
      "source": [
        "np.divide(a, b)"
      ],
      "execution_count": 116,
      "outputs": [
        {
          "output_type": "execute_result",
          "data": {
            "text/plain": [
              "array([[0.5, 0.8, 0.2],\n",
              "       [0.9, 0.4, 0.7],\n",
              "       [0.9, 0.5, 0.2]])"
            ]
          },
          "metadata": {},
          "execution_count": 116
        }
      ]
    },
    {
      "cell_type": "code",
      "metadata": {
        "id": "FvML-iFiV8Oq",
        "colab": {
          "base_uri": "https://localhost:8080/"
        },
        "outputId": "1ddccca1-2aef-49a6-eb9b-5ef90259345d"
      },
      "source": [
        "a / 10 # Operación equivalente con escalares"
      ],
      "execution_count": 117,
      "outputs": [
        {
          "output_type": "execute_result",
          "data": {
            "text/plain": [
              "array([[0.5, 0.8, 0.2],\n",
              "       [0.9, 0.4, 0.7],\n",
              "       [0.9, 0.5, 0.2]])"
            ]
          },
          "metadata": {},
          "execution_count": 117
        }
      ]
    },
    {
      "cell_type": "markdown",
      "metadata": {
        "id": "eAhfLCbvwBDD"
      },
      "source": [
        "Cuando se trata con divisiones que involucran un 0 en el denominador el resultado es:\n",
        "* **`NaN`** si ambos valores son $0$.\n",
        "* **`inf`** (infinito positivo) si el numerador es positivo.\n",
        "* **`-inf`** (infinito negativo) si el numerador es negativo."
      ]
    },
    {
      "cell_type": "code",
      "metadata": {
        "id": "_9RnYZ-YZt7r",
        "colab": {
          "base_uri": "https://localhost:8080/"
        },
        "outputId": "83aa9c59-6df1-46ed-ae20-45015c82c2d1"
      },
      "source": [
        "# Retorna un warning al detectar este tipo de operaciones\n",
        "\n",
        "a = np.array([1, 0, -1])\n",
        "a / np.zeros(3)"
      ],
      "execution_count": 118,
      "outputs": [
        {
          "output_type": "stream",
          "name": "stderr",
          "text": [
            "/usr/local/lib/python3.7/dist-packages/ipykernel_launcher.py:4: RuntimeWarning: divide by zero encountered in true_divide\n",
            "  after removing the cwd from sys.path.\n",
            "/usr/local/lib/python3.7/dist-packages/ipykernel_launcher.py:4: RuntimeWarning: invalid value encountered in true_divide\n",
            "  after removing the cwd from sys.path.\n"
          ]
        },
        {
          "output_type": "execute_result",
          "data": {
            "text/plain": [
              "array([ inf,  nan, -inf])"
            ]
          },
          "metadata": {},
          "execution_count": 118
        }
      ]
    },
    {
      "cell_type": "markdown",
      "metadata": {
        "id": "LBTzQwv1WEdL"
      },
      "source": [
        "* **Multiplicación matricial `@` | `np.matmul(a, b)`**: *NumPy* ofrece la posibilidad de ejecutar operaciones de álgebra lineal como la multiplicación de matrices. En este caso, se usa el operador **`@`**."
      ]
    },
    {
      "cell_type": "code",
      "metadata": {
        "id": "ySeEdjbzXmfU",
        "colab": {
          "base_uri": "https://localhost:8080/"
        },
        "outputId": "1f9653cf-e396-4d42-8cf1-3250fc7b6316"
      },
      "source": [
        "a = np.eye(4)\n",
        "b = np.random.rand(4,3)\n",
        "a @ b"
      ],
      "execution_count": 119,
      "outputs": [
        {
          "output_type": "execute_result",
          "data": {
            "text/plain": [
              "array([[0.97643712, 0.70588576, 0.95176468],\n",
              "       [0.92784753, 0.41003093, 0.33809497],\n",
              "       [0.76910838, 0.33464823, 0.08268666],\n",
              "       [0.89855822, 0.78733478, 0.71746555]])"
            ]
          },
          "metadata": {},
          "execution_count": 119
        }
      ]
    },
    {
      "cell_type": "code",
      "metadata": {
        "id": "7GXrENAJXwsw"
      },
      "source": [
        "# La ultima dimensión del primero deben coincidir o se produce un error\n",
        "#b @ a # Si se descomenta esta sentencia saldrá un error"
      ],
      "execution_count": 120,
      "outputs": []
    },
    {
      "cell_type": "code",
      "metadata": {
        "id": "zS_9m-qJXLGG",
        "colab": {
          "base_uri": "https://localhost:8080/"
        },
        "outputId": "040bc1c2-5ae3-43ea-c9dc-5938fe80ac3e"
      },
      "source": [
        "np.matmul(a, b)"
      ],
      "execution_count": 121,
      "outputs": [
        {
          "output_type": "execute_result",
          "data": {
            "text/plain": [
              "array([[0.97643712, 0.70588576, 0.95176468],\n",
              "       [0.92784753, 0.41003093, 0.33809497],\n",
              "       [0.76910838, 0.33464823, 0.08268666],\n",
              "       [0.89855822, 0.78733478, 0.71746555]])"
            ]
          },
          "metadata": {},
          "execution_count": 121
        }
      ]
    },
    {
      "cell_type": "markdown",
      "metadata": {
        "id": "4_jz5QP8YhiD"
      },
      "source": [
        "* **Producto punto `np.dot(a, b)`**: Producto punto entre dos arreglos:\n",
        "  * Si **`a`** y **`b`** son arreglos unidimensionales, se calcula el producto interno entre los vectores.\n",
        "  * Si **`a`** y **`b`** son arreglos de 2 dimensiones (matrices), se calcula la multiplicación matricial, es decir, es equivalente a usar **`np.matmul`** o  **`a @ b`**.\n",
        "  * Si alguno de los parámetros **`a`** o **`b`** es un escalar, se calcula la multiplicación entre un arreglo y un escalar como al usar **`multiply(a, b)`** o **`a * b`**."
      ]
    },
    {
      "cell_type": "code",
      "metadata": {
        "id": "XAMCdtN3Y88V",
        "colab": {
          "base_uri": "https://localhost:8080/"
        },
        "outputId": "7e7b8a7c-55d3-46de-c23b-c609978f2063"
      },
      "source": [
        "a = np.ones((2,5))\n",
        "a"
      ],
      "execution_count": 122,
      "outputs": [
        {
          "output_type": "execute_result",
          "data": {
            "text/plain": [
              "array([[1., 1., 1., 1., 1.],\n",
              "       [1., 1., 1., 1., 1.]])"
            ]
          },
          "metadata": {},
          "execution_count": 122
        }
      ]
    },
    {
      "cell_type": "code",
      "metadata": {
        "id": "VzgtCmqWZDT-",
        "colab": {
          "base_uri": "https://localhost:8080/"
        },
        "outputId": "3a16b5ff-f939-4c2d-e8eb-d08a863625af"
      },
      "source": [
        "b = np.random.randint(0, 5, 5)\n",
        "b"
      ],
      "execution_count": 123,
      "outputs": [
        {
          "output_type": "execute_result",
          "data": {
            "text/plain": [
              "array([2, 0, 4, 2, 0])"
            ]
          },
          "metadata": {},
          "execution_count": 123
        }
      ]
    },
    {
      "cell_type": "code",
      "metadata": {
        "id": "zaGvCLC6ZMFp",
        "colab": {
          "base_uri": "https://localhost:8080/"
        },
        "outputId": "85ac53fb-f40f-40af-d2b2-4f4c7a9456b4"
      },
      "source": [
        "np.dot(a, b)"
      ],
      "execution_count": 124,
      "outputs": [
        {
          "output_type": "execute_result",
          "data": {
            "text/plain": [
              "array([8., 8.])"
            ]
          },
          "metadata": {},
          "execution_count": 124
        }
      ]
    },
    {
      "cell_type": "markdown",
      "metadata": {
        "id": "3TAbIeWpNYFH"
      },
      "source": [
        "### **5.2. Cálculos sobre arreglos**\n",
        "---\n",
        "*NumPy* cuenta con un gran número de funciones de uso general usadas frecuentemente en áreas como la estadística o la geometría. Algunos de los cálculos directos posibles con funciones de *NumPy* son:"
      ]
    },
    {
      "cell_type": "markdown",
      "metadata": {
        "id": "Qylkm0nNJmF3"
      },
      "source": [
        "\n",
        "*  **`arr.max()`|`arr.min()`**: Para los arreglos con tipos de dato con un orden definido, como las cadenas de texto (orden alfanumérico) y los valores numéricos, *NumPy* permite ejecutar este método para calcular el valor mínimo o máximo del arreglo."
      ]
    },
    {
      "cell_type": "code",
      "metadata": {
        "id": "Uj5br-mwauBi",
        "colab": {
          "base_uri": "https://localhost:8080/"
        },
        "outputId": "c83d6dc0-784c-4014-8e38-20ca9638cfbe"
      },
      "source": [
        "arr = np.random.randint(-20, 20, 30)\n",
        "arr"
      ],
      "execution_count": 125,
      "outputs": [
        {
          "output_type": "execute_result",
          "data": {
            "text/plain": [
              "array([  2, -15,  -1,  -5,  14,   8, -13, -16,  19, -17,   2,  12,  -7,\n",
              "         0, -19,   5, -15, -18,  -1,   4,  15, -15,   4,  -6,  -1,   4,\n",
              "        10,  -8,  -9,  16])"
            ]
          },
          "metadata": {},
          "execution_count": 125
        }
      ]
    },
    {
      "cell_type": "code",
      "metadata": {
        "id": "_kpAMHo8azs8",
        "colab": {
          "base_uri": "https://localhost:8080/"
        },
        "outputId": "f220f2c1-b2c2-4a56-b7fa-9de51989be7c"
      },
      "source": [
        "arr.min()"
      ],
      "execution_count": 126,
      "outputs": [
        {
          "output_type": "execute_result",
          "data": {
            "text/plain": [
              "-19"
            ]
          },
          "metadata": {},
          "execution_count": 126
        }
      ]
    },
    {
      "cell_type": "code",
      "metadata": {
        "id": "sQYBOzt1a14b",
        "colab": {
          "base_uri": "https://localhost:8080/"
        },
        "outputId": "1e895a25-00f2-49bc-9a03-c83b73aea1b5"
      },
      "source": [
        "arr.max()"
      ],
      "execution_count": 127,
      "outputs": [
        {
          "output_type": "execute_result",
          "data": {
            "text/plain": [
              "19"
            ]
          },
          "metadata": {},
          "execution_count": 127
        }
      ]
    },
    {
      "cell_type": "code",
      "metadata": {
        "id": "nA_zQZ32bL2l",
        "colab": {
          "base_uri": "https://localhost:8080/"
        },
        "outputId": "19af2ccb-5ef1-419e-987d-dbbb9787b5c6"
      },
      "source": [
        "#Ambas funciones tienen un equivalente de alto nivel\n",
        "#que también sirve para otro tipo de objetos\n",
        "\n",
        "np.min(arr), np.max(arr)"
      ],
      "execution_count": 128,
      "outputs": [
        {
          "output_type": "execute_result",
          "data": {
            "text/plain": [
              "(-19, 19)"
            ]
          },
          "metadata": {},
          "execution_count": 128
        }
      ]
    },
    {
      "cell_type": "markdown",
      "metadata": {
        "id": "dhyWnAlybsl4"
      },
      "source": [
        "\n",
        "*  **`arr.argmax()`|`arr.argmin()`**: En ocasiones es necesario encontrar la **posición** del elemento que es el máximo o mínimo de un arreglo. Esto es posible con los métodos **`argmax`** y **`argmin`**, respectivamente."
      ]
    },
    {
      "cell_type": "code",
      "metadata": {
        "id": "sU1PxJ97cFYT"
      },
      "source": [
        "arr = np.array([0,1,2,3,4,5,6,7])"
      ],
      "execution_count": 129,
      "outputs": []
    },
    {
      "cell_type": "code",
      "metadata": {
        "id": "OYmnMQKnb-5l",
        "colab": {
          "base_uri": "https://localhost:8080/"
        },
        "outputId": "c02bf7b7-0197-46c4-91ea-397930fdce9c"
      },
      "source": [
        "(arr.argmin(), arr.argmax())"
      ],
      "execution_count": 130,
      "outputs": [
        {
          "output_type": "execute_result",
          "data": {
            "text/plain": [
              "(0, 7)"
            ]
          },
          "metadata": {},
          "execution_count": 130
        }
      ]
    },
    {
      "cell_type": "markdown",
      "metadata": {
        "id": "cO-bdY5BcnFH"
      },
      "source": [
        "*  **Operaciones de agregación `arr.sum()`|`arr.prod()`**: Las operaciones de agregación son aquellas en las que se realiza un cálculo que puede involucrar a todos los elementos del arreglo, como la suma o el producto de todos sus elementos. Estas dos últimas operaciones comunes son posibles con los métodos **`arr.sum()`** y **`arr.prod()`**."
      ]
    },
    {
      "cell_type": "code",
      "metadata": {
        "id": "fiBN4HeMdqKX",
        "colab": {
          "base_uri": "https://localhost:8080/"
        },
        "outputId": "82fbb7dd-7303-4e4d-b0d0-05824022595e"
      },
      "source": [
        "arr = np.arange(1, 10)\n",
        "arr"
      ],
      "execution_count": 131,
      "outputs": [
        {
          "output_type": "execute_result",
          "data": {
            "text/plain": [
              "array([1, 2, 3, 4, 5, 6, 7, 8, 9])"
            ]
          },
          "metadata": {},
          "execution_count": 131
        }
      ]
    },
    {
      "cell_type": "code",
      "metadata": {
        "id": "ByTZ_7hvdmXk",
        "colab": {
          "base_uri": "https://localhost:8080/"
        },
        "outputId": "ea213bb0-8e60-410f-8188-0b3641ec08d5"
      },
      "source": [
        "arr.sum()"
      ],
      "execution_count": 132,
      "outputs": [
        {
          "output_type": "execute_result",
          "data": {
            "text/plain": [
              "45"
            ]
          },
          "metadata": {},
          "execution_count": 132
        }
      ]
    },
    {
      "cell_type": "code",
      "metadata": {
        "id": "Rz00O0lrdxoZ",
        "colab": {
          "base_uri": "https://localhost:8080/"
        },
        "outputId": "1e9241e0-302e-4271-b971-ac74883cb32d"
      },
      "source": [
        "arr.prod()"
      ],
      "execution_count": 133,
      "outputs": [
        {
          "output_type": "execute_result",
          "data": {
            "text/plain": [
              "362880"
            ]
          },
          "metadata": {},
          "execution_count": 133
        }
      ]
    },
    {
      "cell_type": "code",
      "metadata": {
        "id": "Yp-R8Ly_eBvv",
        "colab": {
          "base_uri": "https://localhost:8080/"
        },
        "outputId": "aed94514-771a-450d-cc59-ffeac245e04e"
      },
      "source": [
        "#Equivalentes de alto nivel\n",
        "\n",
        "(np.sum(arr), np.prod(arr))"
      ],
      "execution_count": 134,
      "outputs": [
        {
          "output_type": "execute_result",
          "data": {
            "text/plain": [
              "(45, 362880)"
            ]
          },
          "metadata": {},
          "execution_count": 134
        }
      ]
    },
    {
      "cell_type": "markdown",
      "metadata": {
        "id": "DvqbH6oOc1Bw"
      },
      "source": [
        "*  **Operaciones acumuladas `arr.cumsum()`|`arr.cumprod()`**: Existen escenarios en los que se desea realizar una agregación, pero conservar los valores de cada punto o paso de la operación. \n",
        "\n",
        "  Para la suma y el producto, se consideran los métodos **`arr.cumsum()`** y **`arr.cumprod()`**."
      ]
    },
    {
      "cell_type": "code",
      "metadata": {
        "id": "N1WViITQekhD",
        "colab": {
          "base_uri": "https://localhost:8080/"
        },
        "outputId": "31900eee-1a91-4f16-9443-3a9ff314cef1"
      },
      "source": [
        "arr = np.arange(1, 8)\n",
        "arr"
      ],
      "execution_count": 135,
      "outputs": [
        {
          "output_type": "execute_result",
          "data": {
            "text/plain": [
              "array([1, 2, 3, 4, 5, 6, 7])"
            ]
          },
          "metadata": {},
          "execution_count": 135
        }
      ]
    },
    {
      "cell_type": "code",
      "metadata": {
        "id": "9bv13ZdZeKC_",
        "colab": {
          "base_uri": "https://localhost:8080/"
        },
        "outputId": "dfc0108e-499f-4a0b-dc76-d04cdbfcb998"
      },
      "source": [
        "arr.cumsum()"
      ],
      "execution_count": 136,
      "outputs": [
        {
          "output_type": "execute_result",
          "data": {
            "text/plain": [
              "array([ 1,  3,  6, 10, 15, 21, 28])"
            ]
          },
          "metadata": {},
          "execution_count": 136
        }
      ]
    },
    {
      "cell_type": "code",
      "metadata": {
        "id": "h7nunXQYeyhn",
        "colab": {
          "base_uri": "https://localhost:8080/"
        },
        "outputId": "5cfdb91f-701d-43f9-82ef-c11dd10fb18a"
      },
      "source": [
        "arr.cumprod()"
      ],
      "execution_count": 137,
      "outputs": [
        {
          "output_type": "execute_result",
          "data": {
            "text/plain": [
              "array([   1,    2,    6,   24,  120,  720, 5040])"
            ]
          },
          "metadata": {},
          "execution_count": 137
        }
      ]
    },
    {
      "cell_type": "code",
      "metadata": {
        "id": "_bcv1tt6fc-q",
        "colab": {
          "base_uri": "https://localhost:8080/"
        },
        "outputId": "555fd14d-473c-43bd-8373-7e65a703d16b"
      },
      "source": [
        "#Equivalentes de alto nivel\n",
        "np.array([np.cumsum(arr), np.cumprod(arr)])"
      ],
      "execution_count": 138,
      "outputs": [
        {
          "output_type": "execute_result",
          "data": {
            "text/plain": [
              "array([[   1,    3,    6,   10,   15,   21,   28],\n",
              "       [   1,    2,    6,   24,  120,  720, 5040]])"
            ]
          },
          "metadata": {},
          "execution_count": 138
        }
      ]
    },
    {
      "cell_type": "markdown",
      "metadata": {
        "id": "8zu_NUggbBTQ"
      },
      "source": [
        "*  **Funciones estadísticas `arr.mean()`|`arr.std()` | `arr.var()`**: *NumPy* permite realizar cálculos estadísticos básicos, como la media aritmética, la desviación estándar y la varianza. Estas estadísticas descriptivas y otras más se discutirán en la **Unidad 2** con la librería *pandas*. "
      ]
    },
    {
      "cell_type": "code",
      "metadata": {
        "id": "diRQC0OggM6s"
      },
      "source": [
        "arr = np.random.randn(500)"
      ],
      "execution_count": 139,
      "outputs": []
    },
    {
      "cell_type": "code",
      "metadata": {
        "id": "eeLDUePngTMK",
        "colab": {
          "base_uri": "https://localhost:8080/"
        },
        "outputId": "42217f06-cd1f-4cce-e869-828fb272d2fe"
      },
      "source": [
        "arr.mean()"
      ],
      "execution_count": 140,
      "outputs": [
        {
          "output_type": "execute_result",
          "data": {
            "text/plain": [
              "0.001698004099424594"
            ]
          },
          "metadata": {},
          "execution_count": 140
        }
      ]
    },
    {
      "cell_type": "code",
      "metadata": {
        "id": "Fm6cHumngVHo",
        "colab": {
          "base_uri": "https://localhost:8080/"
        },
        "outputId": "eac8f003-180c-458f-c655-8f688b6a5207"
      },
      "source": [
        "arr.std()"
      ],
      "execution_count": 141,
      "outputs": [
        {
          "output_type": "execute_result",
          "data": {
            "text/plain": [
              "1.0026295473796702"
            ]
          },
          "metadata": {},
          "execution_count": 141
        }
      ]
    },
    {
      "cell_type": "code",
      "metadata": {
        "id": "1fY2zSyWgn5l",
        "colab": {
          "base_uri": "https://localhost:8080/"
        },
        "outputId": "8bec2e94-f8a4-4a58-b3d5-1c6758abf540"
      },
      "source": [
        "arr.var()"
      ],
      "execution_count": 142,
      "outputs": [
        {
          "output_type": "execute_result",
          "data": {
            "text/plain": [
              "1.0052660092787626"
            ]
          },
          "metadata": {},
          "execution_count": 142
        }
      ]
    },
    {
      "cell_type": "code",
      "metadata": {
        "id": "rPaRhIm7gpXE",
        "colab": {
          "base_uri": "https://localhost:8080/"
        },
        "outputId": "dc82a0d9-5dd6-476a-b272-d3384931bac3"
      },
      "source": [
        "#Equivalentes de alto nivel\n",
        "(np.mean(arr), np.std(arr), np.var(arr))"
      ],
      "execution_count": 143,
      "outputs": [
        {
          "output_type": "execute_result",
          "data": {
            "text/plain": [
              "(0.001698004099424594, 1.0026295473796702, 1.0052660092787626)"
            ]
          },
          "metadata": {},
          "execution_count": 143
        }
      ]
    },
    {
      "cell_type": "markdown",
      "metadata": {
        "id": "B-h6LXe5iAI2"
      },
      "source": [
        "*  **Funciones universales**: Además de las operaciones discutidas, *NumPy* dispone de múltiples funciones comunes que pueden ser aplicadas directamente sobre arreglos de números. Estas no están disponibles como métodos de arreglos, y deben ser usadas con funciones de alto nivel. A continuación se presenta una lista de las funciones más importantes:\n",
        "\n",
        "* **Operaciones matemáticas**\n",
        "  * **`np.negative(x)`:** Negativo numérico.\n",
        "  * **`np.positive(x)`:** Positivo numérico.\n",
        "  * **`np.absolute(x)`:** Valor absoluto.\n",
        "  * **`np.sign(x)`:** Signo numérico (-1, 0 o 1).  \n",
        "  * **`np.exp(x)`:** Exponencial ($e^{x_i}$).\n",
        "  * **`np.exp2(x)`:** Exponencial base 2 ($2^{x_i}$).\n",
        "  * **`np.log(x)`:** Logaritmo natural ($\\ln {x_i}$).\n",
        "  * **`np.log2(x)`:** Logaritmo base 2 ($\\log_{2}{x_i}$).\n",
        "  * **`np.log10(x)`:** Logaritmo natural ($\\log_{10}{x_i}$).\n",
        "  * **`np.sqrt(x)`:** Raíz cuadrada ($\\sqrt{x_i}$).\n",
        "  * **`np.cbrt(x)`:** Raíz cúbica ($\\sqrt[3]{x_i}$).\n",
        "  * **`np.square(x)`:** Cuadrado del arreglo (${x_i}^2$).\n",
        "\n",
        "\n",
        "* **Otras operaciones entre arreglos numéricos**\n",
        "  * **`np.maximum(a,b)`:** Máximo entre elementos de dos arreglos. (elemento a elemento)\n",
        "  * **`np.minimum(a,b)`:** Mínimo entre elementos de dos arreglos. (elemento a elemento)\n",
        "  * **`np.power(a, b)`:** Potencia de arreglos ${a_i}^{b_i}$(elemento a elemento).\n",
        "  * **`np.remainder(a, b)`|`np.mod(a, b)`:** Residuo de la división (elemento a elemento).\n",
        "  * **`np.divmod(a, b)`:** Cociente y residuo (elemento a elemento).\n",
        "  * **`np.gcd(a, b)`:** Máximo común divisor (elemento a elemento).\n",
        "  * **`np.lcm(a, b)`:** Mínimo común múltiplo (elemento a elemento).\n",
        "\n",
        "* **Funciones trigonométricas**\n",
        "  * **`np.sin(x)`:** Seno trigonométrico.\n",
        "  * **`np.cos(x)`:** Coseno trigonométrico.\n",
        "  * **`np.tan(x)`:** Tangente trigonométrica.\n",
        "  * **`np.arcsin(x)`:** Seno inverso trigonométrico.\n",
        "  * **`np.arccos(x)`:** Coseno inverso trigonométrico.\n",
        "  * **`np.arctan(x)`:** Tangente inversa trigonométrica.\n",
        "  * **`np.sing(x)`:** Seno hiperbólico.\n",
        "  * **`np.cosh(x)`:** Coseno hiperbólico.\n",
        "  * **`np.tanh(x)`:** Tangente hiperbólica.\n",
        "  * **`np.deg2rad(x)` | `np.radians(x)`:** Conversión de grados a radianes.\n",
        "  * **`np.rad2deg(x)` | `np.degrees(x)`:** Conversión de radianes a grados.\n",
        "\n",
        "* **Operaciones en números decimales**\n",
        "  * **`np.isfinite(x)`**: Evaluación lógica de números finitos.\n",
        "  * **`np.isinf(x)`**: Evaluación lógica de números infinitos.\n",
        "  * **`np.isnan(x)`**: Evaluación lógica de valores NaN.\n",
        "  * **`np.floor(x)`**: Función *piso*.\n",
        "  * **`np.ceil(x)`**: Función *techo*.\n",
        "  * **`np.trunc(x)`**: Valores truncados.\n",
        "\n",
        "\n",
        "Puede consultar la lista completa en este [enlace](http://docs.scipy.org/doc/numpy/reference/ufuncs.html).\n",
        "\n"
      ]
    },
    {
      "cell_type": "markdown",
      "metadata": {
        "id": "A-OHRvGerJHK"
      },
      "source": [
        "### **5.3. Transformación de arreglos**\n",
        "---\n",
        "*NumPy* provee métodos especializados para la transformación del contenido de los arreglos. En la mayoría de los casos, se generan arreglos nuevos a partir del arreglo original. Algunos de los más importantes son:"
      ]
    },
    {
      "cell_type": "markdown",
      "metadata": {
        "id": "FRsqQ5GdtWbk"
      },
      "source": [
        "* **Añadir y eliminar elementos:** Dado que los arreglos en *NumPy* son inmutables en cuanto a tamaño, no existen rutinas que alteren sus dimensiones de forma directa. Por el contrario, funciones como **`append`**, **`insert`** y **`delete`** generan un arreglo nuevo con una copia de los elementos del arreglo original con la nueva dimensión. Estos son algunos de los métodos usados:"
      ]
    },
    {
      "cell_type": "code",
      "metadata": {
        "id": "HUZFt9yduHrW",
        "colab": {
          "base_uri": "https://localhost:8080/"
        },
        "outputId": "b128dd8b-4716-496f-8fbc-17f614047431"
      },
      "source": [
        "arr = np.arange(11)\n",
        "arr"
      ],
      "execution_count": 144,
      "outputs": [
        {
          "output_type": "execute_result",
          "data": {
            "text/plain": [
              "array([ 0,  1,  2,  3,  4,  5,  6,  7,  8,  9, 10])"
            ]
          },
          "metadata": {},
          "execution_count": 144
        }
      ]
    },
    {
      "cell_type": "code",
      "metadata": {
        "id": "t10jfvchuVLL",
        "colab": {
          "base_uri": "https://localhost:8080/"
        },
        "outputId": "a982713e-9b70-46ba-a74c-b87744b151f3"
      },
      "source": [
        "# Función universal para añadir elementos\n",
        "np.append(arr, 100)"
      ],
      "execution_count": 145,
      "outputs": [
        {
          "output_type": "execute_result",
          "data": {
            "text/plain": [
              "array([  0,   1,   2,   3,   4,   5,   6,   7,   8,   9,  10, 100])"
            ]
          },
          "metadata": {},
          "execution_count": 145
        }
      ]
    },
    {
      "cell_type": "code",
      "metadata": {
        "id": "wTubgYiduib8",
        "colab": {
          "base_uri": "https://localhost:8080/"
        },
        "outputId": "53746a60-3ecf-4291-88ce-6f6bceb641aa"
      },
      "source": [
        "# El arreglo original está intacto\n",
        "arr"
      ],
      "execution_count": 146,
      "outputs": [
        {
          "output_type": "execute_result",
          "data": {
            "text/plain": [
              "array([ 0,  1,  2,  3,  4,  5,  6,  7,  8,  9, 10])"
            ]
          },
          "metadata": {},
          "execution_count": 146
        }
      ]
    },
    {
      "cell_type": "code",
      "metadata": {
        "id": "DOtXh_M8ulez"
      },
      "source": [
        "#Si se desea, se puede reasignar la variable con el nuevo arreglo.\n",
        "arr = np.append(arr, 11) "
      ],
      "execution_count": 147,
      "outputs": []
    },
    {
      "cell_type": "code",
      "metadata": {
        "id": "hGGKkB-fusAw",
        "colab": {
          "base_uri": "https://localhost:8080/"
        },
        "outputId": "e2385287-3b1b-4ecc-8752-7fd323a606f3"
      },
      "source": [
        "# Eliminar elemento específico\n",
        "np.delete(arr, 5)"
      ],
      "execution_count": 148,
      "outputs": [
        {
          "output_type": "execute_result",
          "data": {
            "text/plain": [
              "array([ 0,  1,  2,  3,  4,  6,  7,  8,  9, 10, 11])"
            ]
          },
          "metadata": {},
          "execution_count": 148
        }
      ]
    },
    {
      "cell_type": "code",
      "metadata": {
        "id": "kBps9ygbu4HL",
        "colab": {
          "base_uri": "https://localhost:8080/"
        },
        "outputId": "4b26ec26-a68b-4863-cb25-3fad16cddfec"
      },
      "source": [
        "#Insertar elemento en posición específica\n",
        "np.insert(arr, 5, 100)"
      ],
      "execution_count": 149,
      "outputs": [
        {
          "output_type": "execute_result",
          "data": {
            "text/plain": [
              "array([  0,   1,   2,   3,   4, 100,   5,   6,   7,   8,   9,  10,  11])"
            ]
          },
          "metadata": {},
          "execution_count": 149
        }
      ]
    },
    {
      "cell_type": "code",
      "metadata": {
        "id": "9oDAJFqEvGpW",
        "colab": {
          "base_uri": "https://localhost:8080/"
        },
        "outputId": "0d9bf947-3451-4259-85c6-2ebec808c58f"
      },
      "source": [
        "#Crear un arreglo con un nuevo tamaño con el contenido del original\n",
        "np.resize(arr, (10,10))"
      ],
      "execution_count": 150,
      "outputs": [
        {
          "output_type": "execute_result",
          "data": {
            "text/plain": [
              "array([[ 0,  1,  2,  3,  4,  5,  6,  7,  8,  9],\n",
              "       [10, 11,  0,  1,  2,  3,  4,  5,  6,  7],\n",
              "       [ 8,  9, 10, 11,  0,  1,  2,  3,  4,  5],\n",
              "       [ 6,  7,  8,  9, 10, 11,  0,  1,  2,  3],\n",
              "       [ 4,  5,  6,  7,  8,  9, 10, 11,  0,  1],\n",
              "       [ 2,  3,  4,  5,  6,  7,  8,  9, 10, 11],\n",
              "       [ 0,  1,  2,  3,  4,  5,  6,  7,  8,  9],\n",
              "       [10, 11,  0,  1,  2,  3,  4,  5,  6,  7],\n",
              "       [ 8,  9, 10, 11,  0,  1,  2,  3,  4,  5],\n",
              "       [ 6,  7,  8,  9, 10, 11,  0,  1,  2,  3]])"
            ]
          },
          "metadata": {},
          "execution_count": 150
        }
      ]
    },
    {
      "cell_type": "markdown",
      "metadata": {
        "id": "a4C2WbgWvdNl"
      },
      "source": [
        "* **Funciones de ordenamiento:** Algunas funciones permiten modificar el orden del contenido del arreglo. Si no es necesario alterar sus dimensiones en el proceso, existen métodos que modifican directamente los elementos. Algunos ejemplos de ordenamiento son:\n",
        "  * **`np.sort(arr)` | `arr.sort()`**: *NumPy* ofrece las funciones *sort*, que permiten reordenar un arreglo con base a un orden específico, como el alfanumérico para cadenas de texto, o el numérico ascendente y descendente. La diferencia entre la versión de alto nivel y el método de los arreglos es que la función universal crea un nuevo arreglo sin alterar el objeto, y el método realiza el ordenamiento en el sitio, modificando el contenido original."
      ]
    },
    {
      "cell_type": "code",
      "metadata": {
        "id": "s2R3B7sZxEDw",
        "colab": {
          "base_uri": "https://localhost:8080/"
        },
        "outputId": "1a8e2a1a-eae9-4099-bcfb-ac6485746557"
      },
      "source": [
        "arr = np.random.randint(0,100,20)\n",
        "arr"
      ],
      "execution_count": 151,
      "outputs": [
        {
          "output_type": "execute_result",
          "data": {
            "text/plain": [
              "array([70,  7, 57,  4, 75, 66, 48, 56, 20, 63, 24,  9, 64, 95, 64, 90, 94,\n",
              "       26, 22, 95])"
            ]
          },
          "metadata": {},
          "execution_count": 151
        }
      ]
    },
    {
      "cell_type": "code",
      "metadata": {
        "id": "xaFa-_r-xJIT",
        "colab": {
          "base_uri": "https://localhost:8080/"
        },
        "outputId": "a40f14c5-1438-4a68-be88-539bf9552d79"
      },
      "source": [
        "np.sort(arr)"
      ],
      "execution_count": 152,
      "outputs": [
        {
          "output_type": "execute_result",
          "data": {
            "text/plain": [
              "array([ 4,  7,  9, 20, 22, 24, 26, 48, 56, 57, 63, 64, 64, 66, 70, 75, 90,\n",
              "       94, 95, 95])"
            ]
          },
          "metadata": {},
          "execution_count": 152
        }
      ]
    },
    {
      "cell_type": "code",
      "metadata": {
        "id": "u1ApeYBsxMcC",
        "colab": {
          "base_uri": "https://localhost:8080/"
        },
        "outputId": "36d43b26-b114-432a-d0c9-a28ada9fcda9"
      },
      "source": [
        "#el arreglo original se ve inalterado\n",
        "arr"
      ],
      "execution_count": 153,
      "outputs": [
        {
          "output_type": "execute_result",
          "data": {
            "text/plain": [
              "array([70,  7, 57,  4, 75, 66, 48, 56, 20, 63, 24,  9, 64, 95, 64, 90, 94,\n",
              "       26, 22, 95])"
            ]
          },
          "metadata": {},
          "execution_count": 153
        }
      ]
    },
    {
      "cell_type": "code",
      "metadata": {
        "id": "8X2Bxsu2xRSR",
        "colab": {
          "base_uri": "https://localhost:8080/"
        },
        "outputId": "807424e2-b6a7-4c49-ceae-8739cee217ce"
      },
      "source": [
        "# El método modifica el objeto original\n",
        "arr.sort()\n",
        "arr"
      ],
      "execution_count": 154,
      "outputs": [
        {
          "output_type": "execute_result",
          "data": {
            "text/plain": [
              "array([ 4,  7,  9, 20, 22, 24, 26, 48, 56, 57, 63, 64, 64, 66, 70, 75, 90,\n",
              "       94, 95, 95])"
            ]
          },
          "metadata": {},
          "execution_count": 154
        }
      ]
    },
    {
      "cell_type": "markdown",
      "metadata": {
        "id": "hrvofCud46bL"
      },
      "source": [
        "*  **Transformación de forma:** A veces, se quiere construir un arreglo de una forma específica, partiendo de datos previos o generados por funciones como **`np.arange`** o **`np.linspace`**. Algunos de estos son:"
      ]
    },
    {
      "cell_type": "markdown",
      "metadata": {
        "id": "-Rmjf91U5UkN"
      },
      "source": [
        "  * **`np.reshape(arr, shape)` | `arr.reshape(shape)`**: La función **`reshape`** permite modificar las dimensiones de un arreglo, conservando el contenido y el orden original."
      ]
    },
    {
      "cell_type": "code",
      "metadata": {
        "id": "vSwCIRoI5TnH",
        "colab": {
          "base_uri": "https://localhost:8080/"
        },
        "outputId": "1b909c3c-aa36-4fa1-c983-bf3ba6223f30"
      },
      "source": [
        "arr = np.arange(36, dtype = 'int')\n",
        "arr"
      ],
      "execution_count": 155,
      "outputs": [
        {
          "output_type": "execute_result",
          "data": {
            "text/plain": [
              "array([ 0,  1,  2,  3,  4,  5,  6,  7,  8,  9, 10, 11, 12, 13, 14, 15, 16,\n",
              "       17, 18, 19, 20, 21, 22, 23, 24, 25, 26, 27, 28, 29, 30, 31, 32, 33,\n",
              "       34, 35])"
            ]
          },
          "metadata": {},
          "execution_count": 155
        }
      ]
    },
    {
      "cell_type": "code",
      "metadata": {
        "id": "Rj1zA23F59VS",
        "colab": {
          "base_uri": "https://localhost:8080/"
        },
        "outputId": "f2fa53df-3325-4df0-c543-9a06d8aeb070"
      },
      "source": [
        "arr.reshape((6,6))"
      ],
      "execution_count": 156,
      "outputs": [
        {
          "output_type": "execute_result",
          "data": {
            "text/plain": [
              "array([[ 0,  1,  2,  3,  4,  5],\n",
              "       [ 6,  7,  8,  9, 10, 11],\n",
              "       [12, 13, 14, 15, 16, 17],\n",
              "       [18, 19, 20, 21, 22, 23],\n",
              "       [24, 25, 26, 27, 28, 29],\n",
              "       [30, 31, 32, 33, 34, 35]])"
            ]
          },
          "metadata": {},
          "execution_count": 156
        }
      ]
    },
    {
      "cell_type": "code",
      "metadata": {
        "id": "vxgN3Ly46EwC",
        "colab": {
          "base_uri": "https://localhost:8080/"
        },
        "outputId": "747901d3-4dfb-40e8-f029-96da77a41fd5"
      },
      "source": [
        "np.reshape(arr, (12,3))"
      ],
      "execution_count": 157,
      "outputs": [
        {
          "output_type": "execute_result",
          "data": {
            "text/plain": [
              "array([[ 0,  1,  2],\n",
              "       [ 3,  4,  5],\n",
              "       [ 6,  7,  8],\n",
              "       [ 9, 10, 11],\n",
              "       [12, 13, 14],\n",
              "       [15, 16, 17],\n",
              "       [18, 19, 20],\n",
              "       [21, 22, 23],\n",
              "       [24, 25, 26],\n",
              "       [27, 28, 29],\n",
              "       [30, 31, 32],\n",
              "       [33, 34, 35]])"
            ]
          },
          "metadata": {},
          "execution_count": 157
        }
      ]
    },
    {
      "cell_type": "code",
      "metadata": {
        "id": "8yk1so_y6qRA",
        "colab": {
          "base_uri": "https://localhost:8080/"
        },
        "outputId": "8ceedabb-272e-46ed-84c9-014c2fd1e99d"
      },
      "source": [
        "#Ninguno de los dos métodos altera el arreglo original.\n",
        "arr"
      ],
      "execution_count": 158,
      "outputs": [
        {
          "output_type": "execute_result",
          "data": {
            "text/plain": [
              "array([ 0,  1,  2,  3,  4,  5,  6,  7,  8,  9, 10, 11, 12, 13, 14, 15, 16,\n",
              "       17, 18, 19, 20, 21, 22, 23, 24, 25, 26, 27, 28, 29, 30, 31, 32, 33,\n",
              "       34, 35])"
            ]
          },
          "metadata": {},
          "execution_count": 158
        }
      ]
    },
    {
      "cell_type": "markdown",
      "metadata": {
        "id": "gxIs8W2x6zrh"
      },
      "source": [
        "  * **`np.ravel(arr)` | `arr.flatten()`**: La función **`np.ravel`** y su equivalente para arreglos **`arr.flatten`** genera un arreglo de $1$ dimensión con todo el contenido del arreglo original."
      ]
    },
    {
      "cell_type": "code",
      "metadata": {
        "id": "encCnxU77gKP",
        "colab": {
          "base_uri": "https://localhost:8080/"
        },
        "outputId": "25407721-6077-473f-e122-0d775007c91b"
      },
      "source": [
        "arr = np.random.randint(0, 4, (5,3))\n",
        "arr"
      ],
      "execution_count": 159,
      "outputs": [
        {
          "output_type": "execute_result",
          "data": {
            "text/plain": [
              "array([[2, 3, 0],\n",
              "       [3, 3, 3],\n",
              "       [2, 3, 2],\n",
              "       [2, 3, 0],\n",
              "       [3, 2, 0]])"
            ]
          },
          "metadata": {},
          "execution_count": 159
        }
      ]
    },
    {
      "cell_type": "code",
      "metadata": {
        "id": "n8P5UlV98Hb6",
        "colab": {
          "base_uri": "https://localhost:8080/"
        },
        "outputId": "49456699-2c88-4e8d-efd9-47cd4f574d96"
      },
      "source": [
        "np.ravel(arr)"
      ],
      "execution_count": 160,
      "outputs": [
        {
          "output_type": "execute_result",
          "data": {
            "text/plain": [
              "array([2, 3, 0, 3, 3, 3, 2, 3, 2, 2, 3, 0, 3, 2, 0])"
            ]
          },
          "metadata": {},
          "execution_count": 160
        }
      ]
    },
    {
      "cell_type": "code",
      "metadata": {
        "id": "Ka41VaFH8VYt",
        "colab": {
          "base_uri": "https://localhost:8080/"
        },
        "outputId": "9f3fb74b-7ba0-48e2-df19-33f22dde1cb9"
      },
      "source": [
        "arr.flatten()"
      ],
      "execution_count": 161,
      "outputs": [
        {
          "output_type": "execute_result",
          "data": {
            "text/plain": [
              "array([2, 3, 0, 3, 3, 3, 2, 3, 2, 2, 3, 0, 3, 2, 0])"
            ]
          },
          "metadata": {},
          "execution_count": 161
        }
      ]
    },
    {
      "cell_type": "code",
      "metadata": {
        "id": "HI8OhXwN8XO6",
        "colab": {
          "base_uri": "https://localhost:8080/"
        },
        "outputId": "b72d2a4e-e85a-4e9f-df8f-3a5bad976086"
      },
      "source": [
        "# Ninguno de los métodos altera el arreglo original\n",
        "arr"
      ],
      "execution_count": 162,
      "outputs": [
        {
          "output_type": "execute_result",
          "data": {
            "text/plain": [
              "array([[2, 3, 0],\n",
              "       [3, 3, 3],\n",
              "       [2, 3, 2],\n",
              "       [2, 3, 0],\n",
              "       [3, 2, 0]])"
            ]
          },
          "metadata": {},
          "execution_count": 162
        }
      ]
    },
    {
      "cell_type": "markdown",
      "metadata": {
        "id": "xjvxJg_JtZ6I"
      },
      "source": [
        "*  **`np.squeeze`**: Compacta las entradas del arreglo para generar un arreglo con menor dimensionalidad. Las dimensiones de tamaño $1$ desaparecen con esta transformación."
      ]
    },
    {
      "cell_type": "code",
      "metadata": {
        "id": "sYzHce5ctaqN",
        "colab": {
          "base_uri": "https://localhost:8080/"
        },
        "outputId": "ece3b92f-3b93-486a-d123-eacec50a05d9"
      },
      "source": [
        "arr = np.array([[[0], [1], [2]]])\n",
        "arr.shape"
      ],
      "execution_count": 163,
      "outputs": [
        {
          "output_type": "execute_result",
          "data": {
            "text/plain": [
              "(1, 3, 1)"
            ]
          },
          "metadata": {},
          "execution_count": 163
        }
      ]
    },
    {
      "cell_type": "code",
      "metadata": {
        "id": "m_A5rx7Plvuh",
        "colab": {
          "base_uri": "https://localhost:8080/"
        },
        "outputId": "23f2cebe-25ea-4cf9-ec14-6a75d5e77846"
      },
      "source": [
        "arr = np.squeeze(arr)\n",
        "arr"
      ],
      "execution_count": 164,
      "outputs": [
        {
          "output_type": "execute_result",
          "data": {
            "text/plain": [
              "array([0, 1, 2])"
            ]
          },
          "metadata": {},
          "execution_count": 164
        }
      ]
    },
    {
      "cell_type": "code",
      "metadata": {
        "id": "CN5ItSlbl0kR",
        "colab": {
          "base_uri": "https://localhost:8080/"
        },
        "outputId": "6381079a-c854-4604-8ecb-c6f8d5a9525b"
      },
      "source": [
        "arr.shape"
      ],
      "execution_count": 165,
      "outputs": [
        {
          "output_type": "execute_result",
          "data": {
            "text/plain": [
              "(3,)"
            ]
          },
          "metadata": {},
          "execution_count": 165
        }
      ]
    },
    {
      "cell_type": "markdown",
      "metadata": {
        "id": "e6eMn6hyGGYM"
      },
      "source": [
        "### **5.4. Combinación de arreglos**\n",
        "---\n",
        "\n",
        "Cuando se trabaja con múltiples arreglos y demás orígenes de datos, suele ser necesario integrarlos en una misma variable para su manejo. Para esto, *NumPy* dispone de algunos métodos para la unión de arreglos."
      ]
    },
    {
      "cell_type": "markdown",
      "metadata": {
        "id": "ggZkgInZ9Qzk"
      },
      "source": [
        "*  **``np.concatenate((a1,a2,...), axis)``**: Este método permite unir arreglos de manera secuencial en un eje común **`axis`** existente. Para arreglos multidimensionales, el tamaño en cada dimensión debe coincidir, a excepción únicamente del eje indicado para hacer la unión."
      ]
    },
    {
      "cell_type": "code",
      "metadata": {
        "id": "1QPa4fID-StW",
        "colab": {
          "base_uri": "https://localhost:8080/"
        },
        "outputId": "92d7a87b-af89-43b2-dd47-196e73089e0c"
      },
      "source": [
        "a = np.arange(10).reshape(2,5)\n",
        "a"
      ],
      "execution_count": 166,
      "outputs": [
        {
          "output_type": "execute_result",
          "data": {
            "text/plain": [
              "array([[0, 1, 2, 3, 4],\n",
              "       [5, 6, 7, 8, 9]])"
            ]
          },
          "metadata": {},
          "execution_count": 166
        }
      ]
    },
    {
      "cell_type": "code",
      "metadata": {
        "id": "RxcTnqH5-YdE",
        "colab": {
          "base_uri": "https://localhost:8080/"
        },
        "outputId": "fec52eef-01da-4fdf-9861-124ca4e98074"
      },
      "source": [
        "b = np.arange(10, 20).reshape(2,5)\n",
        "b"
      ],
      "execution_count": 167,
      "outputs": [
        {
          "output_type": "execute_result",
          "data": {
            "text/plain": [
              "array([[10, 11, 12, 13, 14],\n",
              "       [15, 16, 17, 18, 19]])"
            ]
          },
          "metadata": {},
          "execution_count": 167
        }
      ]
    },
    {
      "cell_type": "code",
      "metadata": {
        "id": "rCYXZNHB_F2z",
        "colab": {
          "base_uri": "https://localhost:8080/"
        },
        "outputId": "d7447a9b-8d2a-405a-df3d-71ffa80ea907"
      },
      "source": [
        "# En el eje 0 (filas)\n",
        "np.concatenate((a, b), axis = 0)"
      ],
      "execution_count": 168,
      "outputs": [
        {
          "output_type": "execute_result",
          "data": {
            "text/plain": [
              "array([[ 0,  1,  2,  3,  4],\n",
              "       [ 5,  6,  7,  8,  9],\n",
              "       [10, 11, 12, 13, 14],\n",
              "       [15, 16, 17, 18, 19]])"
            ]
          },
          "metadata": {},
          "execution_count": 168
        }
      ]
    },
    {
      "cell_type": "code",
      "metadata": {
        "id": "W-Y7KnLU-dJ2",
        "colab": {
          "base_uri": "https://localhost:8080/"
        },
        "outputId": "d52f45aa-9f8f-4fdb-a4a4-cf0ca4c3c17c"
      },
      "source": [
        "# En el eje 1 (columnas)\n",
        "np.concatenate((a, b), axis = 1)"
      ],
      "execution_count": 169,
      "outputs": [
        {
          "output_type": "execute_result",
          "data": {
            "text/plain": [
              "array([[ 0,  1,  2,  3,  4, 10, 11, 12, 13, 14],\n",
              "       [ 5,  6,  7,  8,  9, 15, 16, 17, 18, 19]])"
            ]
          },
          "metadata": {},
          "execution_count": 169
        }
      ]
    },
    {
      "cell_type": "code",
      "metadata": {
        "id": "paN2Satg_Jfl",
        "colab": {
          "base_uri": "https://localhost:8080/"
        },
        "outputId": "1fd9658b-c384-453c-f90d-6de26d16d2c6"
      },
      "source": [
        "# Usando multiples valores de entrada.\n",
        "np.concatenate((a, b, b, a), axis = 0)"
      ],
      "execution_count": 170,
      "outputs": [
        {
          "output_type": "execute_result",
          "data": {
            "text/plain": [
              "array([[ 0,  1,  2,  3,  4],\n",
              "       [ 5,  6,  7,  8,  9],\n",
              "       [10, 11, 12, 13, 14],\n",
              "       [15, 16, 17, 18, 19],\n",
              "       [10, 11, 12, 13, 14],\n",
              "       [15, 16, 17, 18, 19],\n",
              "       [ 0,  1,  2,  3,  4],\n",
              "       [ 5,  6,  7,  8,  9]])"
            ]
          },
          "metadata": {},
          "execution_count": 170
        }
      ]
    },
    {
      "cell_type": "markdown",
      "metadata": {
        "id": "Zs9YlTvA_gB_"
      },
      "source": [
        "*  **``np.stack((a1,a2,...), axis)``**: Este método, a diferencia de **`np.concatenate`** permite unir arreglos de manera secuencial en un eje nuevo. De esta manera, los vectores se \"apilan\" formado matrices, y las matrices formando tensores de $3$ dimensiones. Todos los arreglos pasados como parámetro deben tener la misma forma."
      ]
    },
    {
      "cell_type": "code",
      "metadata": {
        "id": "gvMkFj0PABCi",
        "colab": {
          "base_uri": "https://localhost:8080/"
        },
        "outputId": "2d8018d8-ce6a-4b6d-f650-0125b235390b"
      },
      "source": [
        "a = np.zeros(5)\n",
        "b = np.ones(5)\n",
        "\n",
        "(a.shape, b.shape)"
      ],
      "execution_count": 171,
      "outputs": [
        {
          "output_type": "execute_result",
          "data": {
            "text/plain": [
              "((5,), (5,))"
            ]
          },
          "metadata": {},
          "execution_count": 171
        }
      ]
    },
    {
      "cell_type": "code",
      "metadata": {
        "id": "SffFLgmiAalH",
        "colab": {
          "base_uri": "https://localhost:8080/"
        },
        "outputId": "045e404c-e31a-4173-a476-cc8c4da140ec"
      },
      "source": [
        "ab = np.stack([a, b, (1,2,3,4,5)]) #Se aceptan colecciones de otros tipos, como listas o tuplas\n",
        "ab"
      ],
      "execution_count": 172,
      "outputs": [
        {
          "output_type": "execute_result",
          "data": {
            "text/plain": [
              "array([[0., 0., 0., 0., 0.],\n",
              "       [1., 1., 1., 1., 1.],\n",
              "       [1., 2., 3., 4., 5.]])"
            ]
          },
          "metadata": {},
          "execution_count": 172
        }
      ]
    },
    {
      "cell_type": "code",
      "metadata": {
        "id": "VIBAaHoNAgd5",
        "colab": {
          "base_uri": "https://localhost:8080/"
        },
        "outputId": "d05a7daf-b482-499f-ba92-f5796ff27b5c"
      },
      "source": [
        "#Se crea un nuevo eje al principio al apilar los arreglos.\n",
        "ab.shape"
      ],
      "execution_count": 173,
      "outputs": [
        {
          "output_type": "execute_result",
          "data": {
            "text/plain": [
              "(3, 5)"
            ]
          },
          "metadata": {},
          "execution_count": 173
        }
      ]
    },
    {
      "cell_type": "code",
      "metadata": {
        "id": "_vdrZViMApFO",
        "colab": {
          "base_uri": "https://localhost:8080/"
        },
        "outputId": "34f03b9e-0825-49e9-eb0f-238e1c78d496"
      },
      "source": [
        "a2d = np.eye(3)\n",
        "b2d = np.zeros((3,3))\n",
        "\n",
        "{'a': a2d.shape, 'b': b2d.shape}"
      ],
      "execution_count": 174,
      "outputs": [
        {
          "output_type": "execute_result",
          "data": {
            "text/plain": [
              "{'a': (3, 3), 'b': (3, 3)}"
            ]
          },
          "metadata": {},
          "execution_count": 174
        }
      ]
    },
    {
      "cell_type": "code",
      "metadata": {
        "id": "gSj8J9ecAzFh",
        "colab": {
          "base_uri": "https://localhost:8080/"
        },
        "outputId": "0d2e24db-b6a6-4ff3-a78f-297773778484"
      },
      "source": [
        "#Se crea un arreglo de 3 dimensiones\n",
        "c3d = np.stack([a2d, b2d])\n",
        "c3d"
      ],
      "execution_count": 175,
      "outputs": [
        {
          "output_type": "execute_result",
          "data": {
            "text/plain": [
              "array([[[1., 0., 0.],\n",
              "        [0., 1., 0.],\n",
              "        [0., 0., 1.]],\n",
              "\n",
              "       [[0., 0., 0.],\n",
              "        [0., 0., 0.],\n",
              "        [0., 0., 0.]]])"
            ]
          },
          "metadata": {},
          "execution_count": 175
        }
      ]
    },
    {
      "cell_type": "code",
      "metadata": {
        "id": "ir3oR96CBDZJ",
        "colab": {
          "base_uri": "https://localhost:8080/"
        },
        "outputId": "7c4151c2-9fd0-4d63-99a5-d8b55d0a865f"
      },
      "source": [
        "c3d.shape"
      ],
      "execution_count": 176,
      "outputs": [
        {
          "output_type": "execute_result",
          "data": {
            "text/plain": [
              "(2, 3, 3)"
            ]
          },
          "metadata": {},
          "execution_count": 176
        }
      ]
    },
    {
      "cell_type": "markdown",
      "metadata": {
        "id": "BBYUHwrLBbPI"
      },
      "source": [
        "Existen también 3 funciones de conveniencia usadas para concatenar arreglos en los tres primeros ejes. Estas son:\n",
        "\n",
        "1. **`np.vstack((a1, a2, ...))`:** Apilar arreglos por el eje vertical (Por filas, axis = 0)\n",
        "2. **`np.hstack((a1, a2, ...))`:** Apilar arreglos por el eje horizontal (Por columnas, axis = 1)\n",
        "3. **`np.dstack((a1, a2, ...))`:** Apilar arreglos en orden de profundidad ( axis = 2 )"
      ]
    },
    {
      "cell_type": "code",
      "metadata": {
        "id": "ExSP72ydBakZ",
        "colab": {
          "base_uri": "https://localhost:8080/"
        },
        "outputId": "d2d8f2cf-74b4-4ec9-8cad-800146779d67"
      },
      "source": [
        "a = np.random.randint(0, 4, (2,2,2))\n",
        "a"
      ],
      "execution_count": 177,
      "outputs": [
        {
          "output_type": "execute_result",
          "data": {
            "text/plain": [
              "array([[[2, 2],\n",
              "        [1, 0]],\n",
              "\n",
              "       [[3, 3],\n",
              "        [2, 0]]])"
            ]
          },
          "metadata": {},
          "execution_count": 177
        }
      ]
    },
    {
      "cell_type": "code",
      "metadata": {
        "id": "qCwef8tFDINA",
        "colab": {
          "base_uri": "https://localhost:8080/"
        },
        "outputId": "054e855b-39f8-4368-f85a-bae0f6bbc2b1"
      },
      "source": [
        "b = np.random.randint(0, 4, (2,2,2))\n",
        "b"
      ],
      "execution_count": 178,
      "outputs": [
        {
          "output_type": "execute_result",
          "data": {
            "text/plain": [
              "array([[[3, 1],\n",
              "        [2, 1]],\n",
              "\n",
              "       [[0, 3],\n",
              "        [3, 3]]])"
            ]
          },
          "metadata": {},
          "execution_count": 178
        }
      ]
    },
    {
      "cell_type": "code",
      "metadata": {
        "id": "kmAeDl3iDJyq",
        "colab": {
          "base_uri": "https://localhost:8080/"
        },
        "outputId": "9eea3724-22c4-41ba-c656-bbf731d37872"
      },
      "source": [
        "# Equivalente a np.concatenate([a, b], 0)\n",
        "np.vstack([a, b])"
      ],
      "execution_count": 179,
      "outputs": [
        {
          "output_type": "execute_result",
          "data": {
            "text/plain": [
              "array([[[2, 2],\n",
              "        [1, 0]],\n",
              "\n",
              "       [[3, 3],\n",
              "        [2, 0]],\n",
              "\n",
              "       [[3, 1],\n",
              "        [2, 1]],\n",
              "\n",
              "       [[0, 3],\n",
              "        [3, 3]]])"
            ]
          },
          "metadata": {},
          "execution_count": 179
        }
      ]
    },
    {
      "cell_type": "code",
      "metadata": {
        "id": "Nn5hWxPM0Rlb",
        "colab": {
          "base_uri": "https://localhost:8080/"
        },
        "outputId": "2897ab6a-f68d-45c7-e3f3-d1b723dbc5dc"
      },
      "source": [
        "np.vstack([a, b]).shape"
      ],
      "execution_count": 180,
      "outputs": [
        {
          "output_type": "execute_result",
          "data": {
            "text/plain": [
              "(4, 2, 2)"
            ]
          },
          "metadata": {},
          "execution_count": 180
        }
      ]
    },
    {
      "cell_type": "code",
      "metadata": {
        "id": "R1QgBsgpDOIu",
        "colab": {
          "base_uri": "https://localhost:8080/"
        },
        "outputId": "553010a8-86bf-4cd9-ebf0-46f047d7fa7b"
      },
      "source": [
        "# Equivalente a np.concatenate([a, b], 1)\n",
        "np.hstack([a, b])"
      ],
      "execution_count": 181,
      "outputs": [
        {
          "output_type": "execute_result",
          "data": {
            "text/plain": [
              "array([[[2, 2],\n",
              "        [1, 0],\n",
              "        [3, 1],\n",
              "        [2, 1]],\n",
              "\n",
              "       [[3, 3],\n",
              "        [2, 0],\n",
              "        [0, 3],\n",
              "        [3, 3]]])"
            ]
          },
          "metadata": {},
          "execution_count": 181
        }
      ]
    },
    {
      "cell_type": "code",
      "metadata": {
        "id": "nFCjBa2M0M8E",
        "colab": {
          "base_uri": "https://localhost:8080/"
        },
        "outputId": "d5fefe33-11e5-4c0e-a4db-5a6a6e239664"
      },
      "source": [
        "np.hstack([a, b]).shape"
      ],
      "execution_count": 182,
      "outputs": [
        {
          "output_type": "execute_result",
          "data": {
            "text/plain": [
              "(2, 4, 2)"
            ]
          },
          "metadata": {},
          "execution_count": 182
        }
      ]
    },
    {
      "cell_type": "code",
      "metadata": {
        "id": "XqUmgr5lDQrf",
        "colab": {
          "base_uri": "https://localhost:8080/"
        },
        "outputId": "47c0ea02-e08b-4fbf-9ed1-0ec743446a2a"
      },
      "source": [
        "# Equivalente a np.concatenate([a, b], 2)\n",
        "np.dstack([a, b])"
      ],
      "execution_count": 183,
      "outputs": [
        {
          "output_type": "execute_result",
          "data": {
            "text/plain": [
              "array([[[2, 2, 3, 1],\n",
              "        [1, 0, 2, 1]],\n",
              "\n",
              "       [[3, 3, 0, 3],\n",
              "        [2, 0, 3, 3]]])"
            ]
          },
          "metadata": {},
          "execution_count": 183
        }
      ]
    },
    {
      "cell_type": "code",
      "metadata": {
        "id": "CU5vXAOY0PBr",
        "colab": {
          "base_uri": "https://localhost:8080/"
        },
        "outputId": "82903c05-e007-4241-9ef4-f9820446c416"
      },
      "source": [
        "np.dstack([a, b]).shape"
      ],
      "execution_count": 184,
      "outputs": [
        {
          "output_type": "execute_result",
          "data": {
            "text/plain": [
              "(2, 2, 4)"
            ]
          },
          "metadata": {},
          "execution_count": 184
        }
      ]
    },
    {
      "cell_type": "markdown",
      "metadata": {
        "id": "q63c8vVL41c8"
      },
      "source": [
        "### **5.5. Separación de arreglos**\n",
        "---\n",
        "\n",
        "Eventualmente, también es necesario separar el contenido de un arreglo en subarreglos. Tenga en cuenta que esta separación se puede realizar por medio del indexado de arreglos visto en la sección $4$. Sin embargo, esta alternativa es arriesgada por un problema bastante común.  Por ejemplo:"
      ]
    },
    {
      "cell_type": "code",
      "metadata": {
        "id": "tfRdrHSBE3Ns",
        "colab": {
          "base_uri": "https://localhost:8080/"
        },
        "outputId": "c01ec371-a162-4b1b-87a0-8cc2794296c7"
      },
      "source": [
        "arr = np.eye(4)\n",
        "arr"
      ],
      "execution_count": 185,
      "outputs": [
        {
          "output_type": "execute_result",
          "data": {
            "text/plain": [
              "array([[1., 0., 0., 0.],\n",
              "       [0., 1., 0., 0.],\n",
              "       [0., 0., 1., 0.],\n",
              "       [0., 0., 0., 1.]])"
            ]
          },
          "metadata": {},
          "execution_count": 185
        }
      ]
    },
    {
      "cell_type": "markdown",
      "metadata": {
        "id": "3Avqj4GXE9zc"
      },
      "source": [
        "Se quiere partir este arreglo a la mitad. Se puede asignar cada mitad a una variable distinta con *slicing*:"
      ]
    },
    {
      "cell_type": "code",
      "metadata": {
        "id": "SGhQNNg6E9OZ",
        "colab": {
          "base_uri": "https://localhost:8080/"
        },
        "outputId": "c2301a41-3dae-49cc-a5b4-4947b7323205"
      },
      "source": [
        "izq = arr[:, :2]\n",
        "izq"
      ],
      "execution_count": 186,
      "outputs": [
        {
          "output_type": "execute_result",
          "data": {
            "text/plain": [
              "array([[1., 0.],\n",
              "       [0., 1.],\n",
              "       [0., 0.],\n",
              "       [0., 0.]])"
            ]
          },
          "metadata": {},
          "execution_count": 186
        }
      ]
    },
    {
      "cell_type": "code",
      "metadata": {
        "id": "91lxlKjTFRBG",
        "colab": {
          "base_uri": "https://localhost:8080/"
        },
        "outputId": "011997e2-685b-44e6-a124-5772f2fb78ad"
      },
      "source": [
        "der = arr[:, 2:]\n",
        "der"
      ],
      "execution_count": 187,
      "outputs": [
        {
          "output_type": "execute_result",
          "data": {
            "text/plain": [
              "array([[0., 0.],\n",
              "       [0., 0.],\n",
              "       [1., 0.],\n",
              "       [0., 1.]])"
            ]
          },
          "metadata": {},
          "execution_count": 187
        }
      ]
    },
    {
      "cell_type": "markdown",
      "metadata": {
        "id": "mkgKSfM4FXN2"
      },
      "source": [
        "La separación se realizó efectivamente. Sin embargo, si se fuera a modificar el contenido de alguna de las mitades surge un efecto inesperado:"
      ]
    },
    {
      "cell_type": "code",
      "metadata": {
        "id": "Wvj2OJ4RFfOC",
        "colab": {
          "base_uri": "https://localhost:8080/"
        },
        "outputId": "62552997-4898-4a2a-97ae-8fa6e789bc2a"
      },
      "source": [
        "izq[0,1] = 120\n",
        "izq"
      ],
      "execution_count": 188,
      "outputs": [
        {
          "output_type": "execute_result",
          "data": {
            "text/plain": [
              "array([[  1., 120.],\n",
              "       [  0.,   1.],\n",
              "       [  0.,   0.],\n",
              "       [  0.,   0.]])"
            ]
          },
          "metadata": {},
          "execution_count": 188
        }
      ]
    },
    {
      "cell_type": "markdown",
      "metadata": {
        "id": "Z0O5kHrlFqiV"
      },
      "source": [
        "Si volvemos a acceder al arreglo original nos daremos cuenta de que su contenido se vio alterado también."
      ]
    },
    {
      "cell_type": "code",
      "metadata": {
        "id": "hkFB5RJsFmE0",
        "colab": {
          "base_uri": "https://localhost:8080/"
        },
        "outputId": "b82ae6d7-3aea-485a-aba9-e4efd6d579d2"
      },
      "source": [
        "# El arreglo original tiene el mismo cambio del cambio anterior.\n",
        "arr"
      ],
      "execution_count": 189,
      "outputs": [
        {
          "output_type": "execute_result",
          "data": {
            "text/plain": [
              "array([[  1., 120.,   0.,   0.],\n",
              "       [  0.,   1.,   0.,   0.],\n",
              "       [  0.,   0.,   1.,   0.],\n",
              "       [  0.,   0.,   0.,   1.]])"
            ]
          },
          "metadata": {},
          "execution_count": 189
        }
      ]
    },
    {
      "cell_type": "markdown",
      "metadata": {
        "id": "CubDRxyIF8C7"
      },
      "source": [
        "Este problema se podría solucionar empleando **copias** del arreglo original. Esto es posible con el método **`arr.copy()`**."
      ]
    },
    {
      "cell_type": "code",
      "metadata": {
        "id": "zFtPxpvlGGVn",
        "colab": {
          "base_uri": "https://localhost:8080/"
        },
        "outputId": "4d9246e6-6ea0-4300-d0cb-8fd28fb35787"
      },
      "source": [
        "arr = np.eye(4)\n",
        "arr"
      ],
      "execution_count": 190,
      "outputs": [
        {
          "output_type": "execute_result",
          "data": {
            "text/plain": [
              "array([[1., 0., 0., 0.],\n",
              "       [0., 1., 0., 0.],\n",
              "       [0., 0., 1., 0.],\n",
              "       [0., 0., 0., 1.]])"
            ]
          },
          "metadata": {},
          "execution_count": 190
        }
      ]
    },
    {
      "cell_type": "code",
      "metadata": {
        "id": "v5WWkazbGTl7",
        "colab": {
          "base_uri": "https://localhost:8080/"
        },
        "outputId": "bd5871a4-acbf-4943-e73e-fbc9e4f4628d"
      },
      "source": [
        "copia = arr.copy()\n",
        "copia[:2, :] = -1\n",
        "copia"
      ],
      "execution_count": 191,
      "outputs": [
        {
          "output_type": "execute_result",
          "data": {
            "text/plain": [
              "array([[-1., -1., -1., -1.],\n",
              "       [-1., -1., -1., -1.],\n",
              "       [ 0.,  0.,  1.,  0.],\n",
              "       [ 0.,  0.,  0.,  1.]])"
            ]
          },
          "metadata": {},
          "execution_count": 191
        }
      ]
    },
    {
      "cell_type": "code",
      "metadata": {
        "id": "8PE8PzarF7Xo",
        "colab": {
          "base_uri": "https://localhost:8080/"
        },
        "outputId": "42ead5f6-ca64-4891-9263-5e9f0c300848"
      },
      "source": [
        "#El arreglo no se altera\n",
        "arr"
      ],
      "execution_count": 192,
      "outputs": [
        {
          "output_type": "execute_result",
          "data": {
            "text/plain": [
              "array([[1., 0., 0., 0.],\n",
              "       [0., 1., 0., 0.],\n",
              "       [0., 0., 1., 0.],\n",
              "       [0., 0., 0., 1.]])"
            ]
          },
          "metadata": {},
          "execution_count": 192
        }
      ]
    },
    {
      "cell_type": "markdown",
      "metadata": {
        "id": "j3xTnRMZGcwE"
      },
      "source": [
        "Aún con esta solución, es un proceso bastante largo si se desea hacer una división del arreglo en muchos subarreglos. Para eso, *NumPy* dispone de la familia de métodos **split**. A continuación se discute uno por uno:"
      ]
    },
    {
      "cell_type": "markdown",
      "metadata": {
        "id": "BvZxt0q5IYTp"
      },
      "source": [
        "*  **`np.split(arr, índices, axis)`:** Este método divide el arreglo en múltiples fragmentos. El argumento **`índices`** puede ser interpretado de dos maneras. \n",
        "  * Si es un entero **`n`**, se divide el arreglo en **`n`** partes iguales. Si no se puede dividir el arreglo de esta forma se arroja un error.\n",
        "  * Si es una lista de enteros, se interpreta como los puntos de corte sobre los que se va a hacer el *slicing*."
      ]
    },
    {
      "cell_type": "code",
      "metadata": {
        "id": "QRp-UfBnJZEs",
        "colab": {
          "base_uri": "https://localhost:8080/"
        },
        "outputId": "6e6ca6d7-ab96-4d70-a9a7-5a717842ec76"
      },
      "source": [
        "arr = np.arange(64).reshape((8,8))\n",
        "arr"
      ],
      "execution_count": 193,
      "outputs": [
        {
          "output_type": "execute_result",
          "data": {
            "text/plain": [
              "array([[ 0,  1,  2,  3,  4,  5,  6,  7],\n",
              "       [ 8,  9, 10, 11, 12, 13, 14, 15],\n",
              "       [16, 17, 18, 19, 20, 21, 22, 23],\n",
              "       [24, 25, 26, 27, 28, 29, 30, 31],\n",
              "       [32, 33, 34, 35, 36, 37, 38, 39],\n",
              "       [40, 41, 42, 43, 44, 45, 46, 47],\n",
              "       [48, 49, 50, 51, 52, 53, 54, 55],\n",
              "       [56, 57, 58, 59, 60, 61, 62, 63]])"
            ]
          },
          "metadata": {},
          "execution_count": 193
        }
      ]
    },
    {
      "cell_type": "code",
      "metadata": {
        "id": "OGMjsKr_JpGg",
        "colab": {
          "base_uri": "https://localhost:8080/"
        },
        "outputId": "22564de7-1027-49f7-aca4-efd558e95c29"
      },
      "source": [
        "#Por defecto se divide el arreglo por el eje 0 (filas).\n",
        "np.split(arr, 2)"
      ],
      "execution_count": 194,
      "outputs": [
        {
          "output_type": "execute_result",
          "data": {
            "text/plain": [
              "[array([[ 0,  1,  2,  3,  4,  5,  6,  7],\n",
              "        [ 8,  9, 10, 11, 12, 13, 14, 15],\n",
              "        [16, 17, 18, 19, 20, 21, 22, 23],\n",
              "        [24, 25, 26, 27, 28, 29, 30, 31]]),\n",
              " array([[32, 33, 34, 35, 36, 37, 38, 39],\n",
              "        [40, 41, 42, 43, 44, 45, 46, 47],\n",
              "        [48, 49, 50, 51, 52, 53, 54, 55],\n",
              "        [56, 57, 58, 59, 60, 61, 62, 63]])]"
            ]
          },
          "metadata": {},
          "execution_count": 194
        }
      ]
    },
    {
      "cell_type": "code",
      "metadata": {
        "id": "KgpVx6f4JziD",
        "colab": {
          "base_uri": "https://localhost:8080/"
        },
        "outputId": "6e398b20-b8a7-447e-b94f-3ed457cd4921"
      },
      "source": [
        "# Los elementos del arreglo generado son equivalentes a hacer los siguientes slices.\n",
        "#   arr[:2]\n",
        "#   arr[2:3]\n",
        "#   arr[3:6]\n",
        "#   arr[6:]\n",
        "\n",
        "np.split(arr, [2, 3, 6])"
      ],
      "execution_count": 195,
      "outputs": [
        {
          "output_type": "execute_result",
          "data": {
            "text/plain": [
              "[array([[ 0,  1,  2,  3,  4,  5,  6,  7],\n",
              "        [ 8,  9, 10, 11, 12, 13, 14, 15]]),\n",
              " array([[16, 17, 18, 19, 20, 21, 22, 23]]),\n",
              " array([[24, 25, 26, 27, 28, 29, 30, 31],\n",
              "        [32, 33, 34, 35, 36, 37, 38, 39],\n",
              "        [40, 41, 42, 43, 44, 45, 46, 47]]),\n",
              " array([[48, 49, 50, 51, 52, 53, 54, 55],\n",
              "        [56, 57, 58, 59, 60, 61, 62, 63]])]"
            ]
          },
          "metadata": {},
          "execution_count": 195
        }
      ]
    },
    {
      "cell_type": "code",
      "metadata": {
        "id": "TiGFAuDZKH_3",
        "colab": {
          "base_uri": "https://localhost:8080/"
        },
        "outputId": "043698a0-c0a7-419f-9e5a-579618ff0ce0"
      },
      "source": [
        "np.split(arr, [2,3], axis = 1)"
      ],
      "execution_count": 196,
      "outputs": [
        {
          "output_type": "execute_result",
          "data": {
            "text/plain": [
              "[array([[ 0,  1],\n",
              "        [ 8,  9],\n",
              "        [16, 17],\n",
              "        [24, 25],\n",
              "        [32, 33],\n",
              "        [40, 41],\n",
              "        [48, 49],\n",
              "        [56, 57]]), array([[ 2],\n",
              "        [10],\n",
              "        [18],\n",
              "        [26],\n",
              "        [34],\n",
              "        [42],\n",
              "        [50],\n",
              "        [58]]), array([[ 3,  4,  5,  6,  7],\n",
              "        [11, 12, 13, 14, 15],\n",
              "        [19, 20, 21, 22, 23],\n",
              "        [27, 28, 29, 30, 31],\n",
              "        [35, 36, 37, 38, 39],\n",
              "        [43, 44, 45, 46, 47],\n",
              "        [51, 52, 53, 54, 55],\n",
              "        [59, 60, 61, 62, 63]])]"
            ]
          },
          "metadata": {},
          "execution_count": 196
        }
      ]
    },
    {
      "cell_type": "markdown",
      "metadata": {
        "id": "sQL3kTzWKVYF"
      },
      "source": [
        "*  **`np.array_split(arr, indices, axis)`:** El método **`np.array_split`** es casi idéntico al método **`np.split`**, pero sin retornar error al detectar una división no entera. Cuando esto ocurre, se distribuye de manera casi equivalente. Los primeros arreglos tendrán 1 elemento más, hasta que sea imposible dividir más."
      ]
    },
    {
      "cell_type": "code",
      "metadata": {
        "id": "Ds1LSYGqLQTH",
        "colab": {
          "base_uri": "https://localhost:8080/"
        },
        "outputId": "3d7d6389-d191-47e3-ed3a-822a850c549c"
      },
      "source": [
        "arr = np.arange(7)\n",
        "arr"
      ],
      "execution_count": 197,
      "outputs": [
        {
          "output_type": "execute_result",
          "data": {
            "text/plain": [
              "array([0, 1, 2, 3, 4, 5, 6])"
            ]
          },
          "metadata": {},
          "execution_count": 197
        }
      ]
    },
    {
      "cell_type": "code",
      "metadata": {
        "id": "sHHLh3KDLgBl",
        "colab": {
          "base_uri": "https://localhost:8080/"
        },
        "outputId": "a454cab8-1171-4286-8a3a-73e4b359f5e8"
      },
      "source": [
        "#Se crean 5 arreglos. Dado que solo hay 7 elementos, las primeras 2 filas tendrán 1 más.\n",
        "np.array_split(arr, 5)"
      ],
      "execution_count": 198,
      "outputs": [
        {
          "output_type": "execute_result",
          "data": {
            "text/plain": [
              "[array([0, 1]), array([2, 3]), array([4]), array([5]), array([6])]"
            ]
          },
          "metadata": {},
          "execution_count": 198
        }
      ]
    },
    {
      "cell_type": "markdown",
      "metadata": {
        "id": "kPXNLHc5L_k0"
      },
      "source": [
        "Al igual que con la familia de funciones **`stack`**, *NumPy* dispone de tres funciones de conveniencia para la división de arreglos en los 3 ejes más comunes. Estos son:\n",
        "\n",
        "1. **`np.vsplit(arr, índices)`:** Divide el arreglo por el eje vertical (Por filas, axis = 0)\n",
        "2. **`np.hsplit(arr, índices)`:** Divide el arreglo por el eje horizontal (Por columnas, axis = 1)\n",
        "3. **`np.dsplit(arr, índices)`:** Divide el arreglo en orden de profundidad ( axis = 2 )"
      ]
    },
    {
      "cell_type": "code",
      "metadata": {
        "id": "5dWElElMMwl2",
        "colab": {
          "base_uri": "https://localhost:8080/"
        },
        "outputId": "a99c5c8a-3855-452c-9584-0078c235d607"
      },
      "source": [
        "arr = np.random.randint(10,100,(2,2,2))\n",
        "arr"
      ],
      "execution_count": 199,
      "outputs": [
        {
          "output_type": "execute_result",
          "data": {
            "text/plain": [
              "array([[[21, 21],\n",
              "        [73, 20]],\n",
              "\n",
              "       [[66, 51],\n",
              "        [15, 79]]])"
            ]
          },
          "metadata": {},
          "execution_count": 199
        }
      ]
    },
    {
      "cell_type": "code",
      "metadata": {
        "id": "gvKyYluWNB5l",
        "colab": {
          "base_uri": "https://localhost:8080/"
        },
        "outputId": "da8a46c7-25ef-4c85-beac-66752d7bc4a5"
      },
      "source": [
        "vs = np.vsplit(arr, 2)\n",
        "vs"
      ],
      "execution_count": 200,
      "outputs": [
        {
          "output_type": "execute_result",
          "data": {
            "text/plain": [
              "[array([[[21, 21],\n",
              "         [73, 20]]]), array([[[66, 51],\n",
              "         [15, 79]]])]"
            ]
          },
          "metadata": {},
          "execution_count": 200
        }
      ]
    },
    {
      "cell_type": "code",
      "metadata": {
        "id": "zyZkAlC1NbDk",
        "colab": {
          "base_uri": "https://localhost:8080/"
        },
        "outputId": "c643d2bf-4626-4783-b80a-0069eaf98a02"
      },
      "source": [
        "print(vs[0])\n",
        "print(vs[1])\n",
        "vs[0].shape"
      ],
      "execution_count": 201,
      "outputs": [
        {
          "output_type": "stream",
          "name": "stdout",
          "text": [
            "[[[21 21]\n",
            "  [73 20]]]\n",
            "[[[66 51]\n",
            "  [15 79]]]\n"
          ]
        },
        {
          "output_type": "execute_result",
          "data": {
            "text/plain": [
              "(1, 2, 2)"
            ]
          },
          "metadata": {},
          "execution_count": 201
        }
      ]
    },
    {
      "cell_type": "code",
      "metadata": {
        "id": "tKwwj5DQNRrj",
        "colab": {
          "base_uri": "https://localhost:8080/"
        },
        "outputId": "3a520f1c-5641-4c41-9938-f1bd9ea556c6"
      },
      "source": [
        "hs = np.hsplit(arr, 2)\n",
        "hs"
      ],
      "execution_count": 202,
      "outputs": [
        {
          "output_type": "execute_result",
          "data": {
            "text/plain": [
              "[array([[[21, 21]],\n",
              " \n",
              "        [[66, 51]]]), array([[[73, 20]],\n",
              " \n",
              "        [[15, 79]]])]"
            ]
          },
          "metadata": {},
          "execution_count": 202
        }
      ]
    },
    {
      "cell_type": "code",
      "metadata": {
        "id": "frGJyPc-Nfpz",
        "colab": {
          "base_uri": "https://localhost:8080/"
        },
        "outputId": "7025943a-7603-4133-86ba-f5912e308256"
      },
      "source": [
        "print(hs[0])\n",
        "print(hs[1])\n",
        "hs[0].shape"
      ],
      "execution_count": 203,
      "outputs": [
        {
          "output_type": "stream",
          "name": "stdout",
          "text": [
            "[[[21 21]]\n",
            "\n",
            " [[66 51]]]\n",
            "[[[73 20]]\n",
            "\n",
            " [[15 79]]]\n"
          ]
        },
        {
          "output_type": "execute_result",
          "data": {
            "text/plain": [
              "(2, 1, 2)"
            ]
          },
          "metadata": {},
          "execution_count": 203
        }
      ]
    },
    {
      "cell_type": "code",
      "metadata": {
        "id": "xOKzXKT1NTgv"
      },
      "source": [
        "ds = np.dsplit(arr, 2)"
      ],
      "execution_count": 204,
      "outputs": []
    },
    {
      "cell_type": "code",
      "metadata": {
        "id": "EMYgB7GvNitc",
        "colab": {
          "base_uri": "https://localhost:8080/"
        },
        "outputId": "91cfea90-dd34-44eb-e0e3-34b0f08aa1c0"
      },
      "source": [
        "print(ds[0])\n",
        "print(ds[1])\n",
        "ds[0].shape"
      ],
      "execution_count": 205,
      "outputs": [
        {
          "output_type": "stream",
          "name": "stdout",
          "text": [
            "[[[21]\n",
            "  [73]]\n",
            "\n",
            " [[66]\n",
            "  [15]]]\n",
            "[[[21]\n",
            "  [20]]\n",
            "\n",
            " [[51]\n",
            "  [79]]]\n"
          ]
        },
        {
          "output_type": "execute_result",
          "data": {
            "text/plain": [
              "(2, 2, 1)"
            ]
          },
          "metadata": {},
          "execution_count": 205
        }
      ]
    },
    {
      "cell_type": "markdown",
      "metadata": {
        "id": "s10bfX5IpiXa"
      },
      "source": [
        "## **6. Iterando sobre arreglos**\n",
        "---\n",
        "\n",
        "No es recomendable iterar un arreglo de *NumPy* a menos de que sea estrictamente necesario. Utilidades como el *broadcasting* y la operación entre arreglos garantizan al usuario operaciones de alto nivel sobre todos los elementos de un arreglo sin la necesidad de iterar sobre ellos. \n",
        "\n",
        "Sin embargo, para aquellos casos en los que se requiere realizar una iteración sobre los objetos almacenados en un arreglo de *NumPy* existen algunas funciones que facilitan y optimizan esta tarea."
      ]
    },
    {
      "cell_type": "code",
      "metadata": {
        "id": "StsMzS2_piXb",
        "colab": {
          "base_uri": "https://localhost:8080/"
        },
        "outputId": "6749aac0-2f61-45e2-e8b0-4ca7069f5050"
      },
      "source": [
        "# Con arreglos de 1-D\n",
        "arr = np.arange(0,4)\n",
        "arr"
      ],
      "execution_count": 206,
      "outputs": [
        {
          "output_type": "execute_result",
          "data": {
            "text/plain": [
              "array([0, 1, 2, 3])"
            ]
          },
          "metadata": {},
          "execution_count": 206
        }
      ]
    },
    {
      "cell_type": "code",
      "metadata": {
        "id": "FDM3IUb3piXd",
        "colab": {
          "base_uri": "https://localhost:8080/"
        },
        "outputId": "dc9057fb-7ba6-45b8-9ca4-e414f4a4811c"
      },
      "source": [
        "# Iterando sobre un arreglo unidimensional\n",
        "# Esta iteración es trivial, idéntica a la de una lista tradicional\n",
        "for item in arr:\n",
        "    print(item)"
      ],
      "execution_count": 207,
      "outputs": [
        {
          "output_type": "stream",
          "name": "stdout",
          "text": [
            "0\n",
            "1\n",
            "2\n",
            "3\n"
          ]
        }
      ]
    },
    {
      "cell_type": "code",
      "metadata": {
        "id": "yI_GxyfDpiXg",
        "colab": {
          "base_uri": "https://localhost:8080/"
        },
        "outputId": "fb9e0d4b-d418-4cc9-8a8c-0b88524315c4"
      },
      "source": [
        "# Con arreglos de 2-D\n",
        "arr = np.arange(0,4).reshape(2,2)\n",
        "arr"
      ],
      "execution_count": 208,
      "outputs": [
        {
          "output_type": "execute_result",
          "data": {
            "text/plain": [
              "array([[0, 1],\n",
              "       [2, 3]])"
            ]
          },
          "metadata": {},
          "execution_count": 208
        }
      ]
    },
    {
      "cell_type": "code",
      "metadata": {
        "id": "Af06e2ekpiXi",
        "colab": {
          "base_uri": "https://localhost:8080/"
        },
        "outputId": "7eda6084-6ba5-4f08-ebc7-ca49204e6c6a"
      },
      "source": [
        "# Al iterar sobre el arreglo, se accede a cada fila.\n",
        "for fila in arr:\n",
        "    print(fila)"
      ],
      "execution_count": 209,
      "outputs": [
        {
          "output_type": "stream",
          "name": "stdout",
          "text": [
            "[0 1]\n",
            "[2 3]\n"
          ]
        }
      ]
    },
    {
      "cell_type": "code",
      "metadata": {
        "id": "Kp0z1Y_NpiXk",
        "colab": {
          "base_uri": "https://localhost:8080/"
        },
        "outputId": "17ade3e2-b3f7-4e14-d1c2-d494bb7ddc06"
      },
      "source": [
        "# Si se quiere hacer una operación sobre cada uno de los valores, se puede usar la propiedad \"flat\"\n",
        "# también se pueden usar los métodos ravel y flatten vistos anteriormente\n",
        "for item in arr.flat:\n",
        "    print(item)"
      ],
      "execution_count": 210,
      "outputs": [
        {
          "output_type": "stream",
          "name": "stdout",
          "text": [
            "0\n",
            "1\n",
            "2\n",
            "3\n"
          ]
        }
      ]
    },
    {
      "cell_type": "markdown",
      "metadata": {
        "id": "bvmt7BkIPDs8"
      },
      "source": [
        "Otra forma recomendada es con el método **`np.nditer(arr)`**:"
      ]
    },
    {
      "cell_type": "code",
      "metadata": {
        "id": "0ELwHnPYPNNZ",
        "colab": {
          "base_uri": "https://localhost:8080/"
        },
        "outputId": "e6a16034-1572-40fe-fadf-e6e24010c57a"
      },
      "source": [
        "for item in np.nditer(arr):\n",
        "    print(item)"
      ],
      "execution_count": 212,
      "outputs": [
        {
          "output_type": "stream",
          "name": "stdout",
          "text": [
            "0\n",
            "1\n",
            "2\n",
            "3\n"
          ]
        }
      ]
    },
    {
      "cell_type": "markdown",
      "metadata": {
        "id": "Iw98aVOIPoB1"
      },
      "source": [
        "Este método también permite iterar en cada pareja posible entre los elementos de múltiples arreglos utilizando el *broadcasting*."
      ]
    },
    {
      "cell_type": "code",
      "metadata": {
        "id": "_N54GMq9P2Xi",
        "colab": {
          "base_uri": "https://localhost:8080/"
        },
        "outputId": "9201acd4-33be-44d7-a272-d755f42600c2"
      },
      "source": [
        "arr = [np.arange(4), np.eye(4, dtype = int)]\n",
        "for i,j in np.nditer(arr):\n",
        "    print(f'{i},{j}')"
      ],
      "execution_count": 213,
      "outputs": [
        {
          "output_type": "stream",
          "name": "stdout",
          "text": [
            "0,1\n",
            "1,0\n",
            "2,0\n",
            "3,0\n",
            "0,0\n",
            "1,1\n",
            "2,0\n",
            "3,0\n",
            "0,0\n",
            "1,0\n",
            "2,1\n",
            "3,0\n",
            "0,0\n",
            "1,0\n",
            "2,0\n",
            "3,1\n"
          ]
        }
      ]
    },
    {
      "cell_type": "markdown",
      "metadata": {
        "id": "VYigNiMqO6uD"
      },
      "source": [
        "Otro método importante en la iteración de arreglos de *NumPy* es el método **`np.ndenumerate(arr)`** que, similar al método **`np.nditer(arr)`**, crea un iterador sobre los elementos del arreglo, pero adicionalmente itera sobre la posición de cada elemento en forma de tupla."
      ]
    },
    {
      "cell_type": "code",
      "metadata": {
        "id": "5zVVQi6mlIbi",
        "colab": {
          "base_uri": "https://localhost:8080/"
        },
        "outputId": "460336fe-977a-454b-e38d-9535a4262cd0"
      },
      "source": [
        "# Iterar sobre el par de coordenadas x,y\n",
        "arr = np.array([[1,2],[3,4],[5,6]])\n",
        "\n",
        "print(arr)"
      ],
      "execution_count": 215,
      "outputs": [
        {
          "output_type": "stream",
          "name": "stdout",
          "text": [
            "[[1 2]\n",
            " [3 4]\n",
            " [5 6]]\n"
          ]
        }
      ]
    },
    {
      "cell_type": "code",
      "metadata": {
        "id": "hYXEWEnD6gpV",
        "colab": {
          "base_uri": "https://localhost:8080/"
        },
        "outputId": "57a577d0-daf5-4960-9d05-183b1844b28f"
      },
      "source": [
        "for (i, j), value in np.ndenumerate(arr):\n",
        "  print('Fila:', i, 'Col:', j, 'Valor:', value)"
      ],
      "execution_count": 216,
      "outputs": [
        {
          "output_type": "stream",
          "name": "stdout",
          "text": [
            "Fila: 0 Col: 0 Valor: 1\n",
            "Fila: 0 Col: 1 Valor: 2\n",
            "Fila: 1 Col: 0 Valor: 3\n",
            "Fila: 1 Col: 1 Valor: 4\n",
            "Fila: 2 Col: 0 Valor: 5\n",
            "Fila: 2 Col: 1 Valor: 6\n"
          ]
        }
      ]
    },
    {
      "cell_type": "markdown",
      "metadata": {
        "id": "4r5hSQAz6d-g"
      },
      "source": [
        "## **Recursos adicionales**\n",
        "---\n",
        "\n",
        "En este material se consideran algunas de las funciones más comunes, pero quedan otras por fuera del alcance. Lo invitamos a que consulte la [documentación oficial](https://numpy.org/doc/stable/reference/index.html), o librerías similares del ámbito científico como [*SciPy*](https://docs.scipy.org/doc/scipy/reference/) en busca de funciones que se ajusten a las necesidades de su problema. De igual forma, a continuación se presenta una lista de recursos adicionales que le serán de utilidad:\n",
        "\n",
        "*  [NumPy Home page](https://numpy.org/)\n",
        "*  [NumPy Quickstart tutorial](https://docs.scipy.org/doc/numpy/user/quickstart.html)\n",
        "*  [NumPy: the absolute basics for beginners](https://numpy.org/devdocs/user/absolute_beginners.html)\n",
        "*  [tutorialspoint - NumPy Tutorial](https://www.tutorialspoint.com/numpy/index.htm)\n",
        "*  [Oliphant, T.E. (2006). Guide to NumPy](http://web.mit.edu/dvp/Public/numpybook.pdf)\n",
        "*  [StackOverflow - What are the advantages of NumPy over regular Python lists?](http://stackoverflow.com/questions/993984/why-numpy-instead-of-python-lists)\n",
        "*  [Standard Statistical Distributions (e.g. Normal, Poisson, Binomial) and their uses](https://www.healthknowledge.org.uk/public-health-textbook/research-methods/1b-statistical-methods/statistical-distributions)\n"
      ]
    },
    {
      "cell_type": "markdown",
      "metadata": {
        "id": "z4VavQ3wgMGo"
      },
      "source": [
        "## **Créditos**\n",
        "---\n",
        "\n",
        "* **Profesor:** [Felipe Restrepo Calle](https://dis.unal.edu.co/~ferestrepoca/)\n",
        "* **Asistentes docentes:**\n",
        "  - Alberto Nicolai Romero Martínez\n",
        "  - Miguel Angel Ortiz Marín\n",
        "\n",
        "**Universidad Nacional de Colombia** - *Facultad de Ingeniería*"
      ]
    }
  ]
}