{
  "cells": [
    {
      "cell_type": "markdown",
      "id": "f3c54b5f",
      "metadata": {
        "id": "f3c54b5f"
      },
      "source": [
        "<img src=\"https://drive.google.com/uc?export=view&id=1YjAWn06OMcVhlyixBZBDnY17rnn7Otg5\" width=\"100%\">"
      ]
    },
    {
      "cell_type": "markdown",
      "id": "9aaea1b5",
      "metadata": {
        "id": "9aaea1b5"
      },
      "source": [
        "# Arreglos de Dask\n",
        "\n",
        "En este notebook veremos una introducción práctica al procesamiento distribuido con la librería `dask`, primero lo instalaremos:"
      ]
    },
    {
      "cell_type": "code",
      "execution_count": 1,
      "id": "ab7492ba",
      "metadata": {
        "id": "ab7492ba",
        "colab": {
          "base_uri": "https://localhost:8080/"
        },
        "outputId": "7da0f624-103b-4518-9822-9c7a71fe9e90"
      },
      "outputs": [
        {
          "output_type": "stream",
          "name": "stdout",
          "text": [
            "Looking in indexes: https://pypi.org/simple, https://us-python.pkg.dev/colab-wheels/public/simple/\n",
            "Requirement already satisfied: dask[complete] in /usr/local/lib/python3.7/dist-packages (2022.2.0)\n",
            "Requirement already satisfied: h5py in /usr/local/lib/python3.7/dist-packages (3.1.0)\n",
            "Requirement already satisfied: numpy>=1.14.5 in /usr/local/lib/python3.7/dist-packages (from h5py) (1.21.6)\n",
            "Requirement already satisfied: cached-property in /usr/local/lib/python3.7/dist-packages (from h5py) (1.5.2)\n",
            "Requirement already satisfied: fsspec>=0.6.0 in /usr/local/lib/python3.7/dist-packages (from dask[complete]) (2022.10.0)\n",
            "Requirement already satisfied: packaging>=20.0 in /usr/local/lib/python3.7/dist-packages (from dask[complete]) (21.3)\n",
            "Requirement already satisfied: cloudpickle>=1.1.1 in /usr/local/lib/python3.7/dist-packages (from dask[complete]) (1.5.0)\n",
            "Requirement already satisfied: partd>=0.3.10 in /usr/local/lib/python3.7/dist-packages (from dask[complete]) (1.3.0)\n",
            "Requirement already satisfied: toolz>=0.8.2 in /usr/local/lib/python3.7/dist-packages (from dask[complete]) (0.12.0)\n",
            "Requirement already satisfied: pyyaml>=5.3.1 in /usr/local/lib/python3.7/dist-packages (from dask[complete]) (6.0)\n",
            "Requirement already satisfied: pandas>=1.0 in /usr/local/lib/python3.7/dist-packages (from dask[complete]) (1.3.5)\n",
            "Requirement already satisfied: distributed==2022.02.0 in /usr/local/lib/python3.7/dist-packages (from dask[complete]) (2022.2.0)\n",
            "Requirement already satisfied: bokeh>=2.1.1 in /usr/local/lib/python3.7/dist-packages (from dask[complete]) (2.3.3)\n",
            "Requirement already satisfied: jinja2 in /usr/local/lib/python3.7/dist-packages (from dask[complete]) (2.11.3)\n",
            "Requirement already satisfied: setuptools in /usr/local/lib/python3.7/dist-packages (from distributed==2022.02.0->dask[complete]) (57.4.0)\n",
            "Requirement already satisfied: psutil>=5.0 in /usr/local/lib/python3.7/dist-packages (from distributed==2022.02.0->dask[complete]) (5.4.8)\n",
            "Requirement already satisfied: zict>=0.1.3 in /usr/local/lib/python3.7/dist-packages (from distributed==2022.02.0->dask[complete]) (2.2.0)\n",
            "Requirement already satisfied: msgpack>=0.6.0 in /usr/local/lib/python3.7/dist-packages (from distributed==2022.02.0->dask[complete]) (1.0.4)\n",
            "Requirement already satisfied: tblib>=1.6.0 in /usr/local/lib/python3.7/dist-packages (from distributed==2022.02.0->dask[complete]) (1.7.0)\n",
            "Requirement already satisfied: tornado>=5 in /usr/local/lib/python3.7/dist-packages (from distributed==2022.02.0->dask[complete]) (6.0.4)\n",
            "Requirement already satisfied: click>=6.6 in /usr/local/lib/python3.7/dist-packages (from distributed==2022.02.0->dask[complete]) (7.1.2)\n",
            "Requirement already satisfied: sortedcontainers!=2.0.0,!=2.0.1 in /usr/local/lib/python3.7/dist-packages (from distributed==2022.02.0->dask[complete]) (2.4.0)\n",
            "Requirement already satisfied: python-dateutil>=2.1 in /usr/local/lib/python3.7/dist-packages (from bokeh>=2.1.1->dask[complete]) (2.8.2)\n",
            "Requirement already satisfied: typing-extensions>=3.7.4 in /usr/local/lib/python3.7/dist-packages (from bokeh>=2.1.1->dask[complete]) (4.1.1)\n",
            "Requirement already satisfied: pillow>=7.1.0 in /usr/local/lib/python3.7/dist-packages (from bokeh>=2.1.1->dask[complete]) (7.1.2)\n",
            "Requirement already satisfied: MarkupSafe>=0.23 in /usr/local/lib/python3.7/dist-packages (from jinja2->dask[complete]) (2.0.1)\n",
            "Requirement already satisfied: pyparsing!=3.0.5,>=2.0.2 in /usr/local/lib/python3.7/dist-packages (from packaging>=20.0->dask[complete]) (3.0.9)\n",
            "Requirement already satisfied: pytz>=2017.3 in /usr/local/lib/python3.7/dist-packages (from pandas>=1.0->dask[complete]) (2022.6)\n",
            "Requirement already satisfied: locket in /usr/local/lib/python3.7/dist-packages (from partd>=0.3.10->dask[complete]) (1.0.0)\n",
            "Requirement already satisfied: six>=1.5 in /usr/local/lib/python3.7/dist-packages (from python-dateutil>=2.1->bokeh>=2.1.1->dask[complete]) (1.15.0)\n",
            "Requirement already satisfied: heapdict in /usr/local/lib/python3.7/dist-packages (from zict>=0.1.3->distributed==2022.02.0->dask[complete]) (1.0.1)\n"
          ]
        }
      ],
      "source": [
        "!pip install dask[complete] h5py"
      ]
    },
    {
      "cell_type": "markdown",
      "id": "2fb90637",
      "metadata": {
        "id": "2fb90637"
      },
      "source": [
        "## **1. ¿Qué son los Arreglos de Dask?**\n",
        "---\n",
        "\n",
        "Los arreglos de `dask` son una forma de extender los arreglos de `numpy` para su manejo de forma distribuida y en grandes cantidades de datos. Básicamente es una forma de almacenar un arreglo multidimensional de gran tamaño de forma particionada como múltiples arreglos de `numpy` como se muestra a continuación:\n",
        "\n",
        "<img src=\"https://drive.google.com/uc?export=view&id=19tXqc4jTHwcwDUZgz8ARE_hq2uI2gkpT\" width=\"70%%\">\n",
        "\n",
        "Estos arreglos gestionan y coordinan múltiples arreglos de `numpy` (o arreglos bastante compatibles con `numpy`) que pueden existir en distintas máquinas o persistidos en disco.\n",
        "\n",
        "Desde `dask` tenemos algunas de las operaciones típicas que normalmente usamos con `numpy` como:\n",
        "\n",
        "* Operaciones aritméticas.\n",
        "* Operaciones de reducción sobre ejes específicos.\n",
        "* Reglas de broadcasting como en `numpy`.\n",
        "* Reordenamiento de ejes.\n",
        "* Slicing para selección de valores.\n",
        "* Algunas funciones típicas de álgebra lineal.\n",
        "\n",
        "No obstante, hay diversas operaciones de `numpy` que no son posibles en arreglos distribuidos dada su naturaleza (por ejemplo, ordenamientos, conversión a listas de _Python_, iteración con ciclos `for`, entre otras).\n",
        "\n",
        "Veamos las características generales de los arreglos de `dask`. Primero lo importamos:"
      ]
    },
    {
      "cell_type": "code",
      "execution_count": 2,
      "id": "dc37bed6",
      "metadata": {
        "id": "dc37bed6"
      },
      "outputs": [],
      "source": [
        "import dask.array as da\n",
        "import numpy as np"
      ]
    },
    {
      "cell_type": "markdown",
      "id": "14f4ee25",
      "metadata": {
        "id": "14f4ee25"
      },
      "source": [
        "## **2. Creación**\n",
        "---\n",
        "\n",
        "Existen distintas funciones para la creación de arreglos de `dask`, estas las podemos dividir en tres categorías: arreglos determinísticos nativos, arreglos aleatorios nativos y arreglos externos."
      ]
    },
    {
      "cell_type": "markdown",
      "id": "ff02489f",
      "metadata": {
        "id": "ff02489f"
      },
      "source": [
        "### **2.1. Arreglos Determinísticos Nativos**\n",
        "---\n",
        "\n",
        "Existen dintintas funciones para la creación de arreglos de `dask` que son similares a `numpy`, por ejemplo:\n",
        "\n",
        "* `zeros`: crea un arreglo lleno de ceros de un tamaño dado:"
      ]
    },
    {
      "cell_type": "code",
      "execution_count": 3,
      "id": "e29a0382",
      "metadata": {
        "id": "e29a0382",
        "colab": {
          "base_uri": "https://localhost:8080/"
        },
        "outputId": "e89b603c-13e9-4cc3-a01e-2fdc90514857"
      },
      "outputs": [
        {
          "output_type": "stream",
          "name": "stdout",
          "text": [
            "dask.array<zeros_like, shape=(10, 10), dtype=float32, chunksize=(10, 10), chunktype=numpy.ndarray>\n"
          ]
        }
      ],
      "source": [
        "X = da.zeros((10, 10), dtype=np.float32)\n",
        "print(X)"
      ]
    },
    {
      "cell_type": "markdown",
      "id": "ad181fef",
      "metadata": {
        "id": "ad181fef"
      },
      "source": [
        "* `ones`: crea un arreglo lleno de unos de un tamaño dado:"
      ]
    },
    {
      "cell_type": "code",
      "execution_count": 4,
      "id": "53bbbd45",
      "metadata": {
        "id": "53bbbd45",
        "colab": {
          "base_uri": "https://localhost:8080/"
        },
        "outputId": "1b492d6a-1aa8-45b7-9c08-8e7424cbc525"
      },
      "outputs": [
        {
          "output_type": "stream",
          "name": "stdout",
          "text": [
            "dask.array<ones_like, shape=(10, 10), dtype=float32, chunksize=(10, 10), chunktype=numpy.ndarray>\n"
          ]
        }
      ],
      "source": [
        "X = da.ones((10, 10), dtype=np.float32)\n",
        "print(X)"
      ]
    },
    {
      "cell_type": "markdown",
      "id": "a752a4e2",
      "metadata": {
        "id": "a752a4e2"
      },
      "source": [
        "* `eye`: crea un arreglo lleno de matrices identidad:"
      ]
    },
    {
      "cell_type": "code",
      "execution_count": 5,
      "id": "18ebf8c8",
      "metadata": {
        "id": "18ebf8c8",
        "colab": {
          "base_uri": "https://localhost:8080/"
        },
        "outputId": "acee1ea7-660b-4cde-b2b0-08cce1ba2222"
      },
      "outputs": [
        {
          "output_type": "stream",
          "name": "stdout",
          "text": [
            "dask.array<eye, shape=(5, 5), dtype=float32, chunksize=(5, 5), chunktype=numpy.ndarray>\n"
          ]
        }
      ],
      "source": [
        "X = da.eye(5, dtype=np.float32)\n",
        "print(X)"
      ]
    },
    {
      "cell_type": "markdown",
      "id": "34d2f863",
      "metadata": {
        "id": "34d2f863"
      },
      "source": [
        "* `arange`: crea un arreglo con los valores en un rango dado:"
      ]
    },
    {
      "cell_type": "code",
      "execution_count": 6,
      "id": "ae229377",
      "metadata": {
        "id": "ae229377",
        "colab": {
          "base_uri": "https://localhost:8080/"
        },
        "outputId": "43a3c98c-0c97-4a94-a600-48c4df0790ff"
      },
      "outputs": [
        {
          "output_type": "stream",
          "name": "stdout",
          "text": [
            "dask.array<arange, shape=(4,), dtype=int64, chunksize=(4,), chunktype=numpy.ndarray>\n"
          ]
        }
      ],
      "source": [
        "x = da.arange(1, 5)\n",
        "print(x)"
      ]
    },
    {
      "cell_type": "markdown",
      "id": "f1f6eb4b",
      "metadata": {
        "id": "f1f6eb4b"
      },
      "source": [
        "* `linspace`: crea un número dado de elementos entre dos valores:"
      ]
    },
    {
      "cell_type": "code",
      "execution_count": 7,
      "id": "271a258f",
      "metadata": {
        "id": "271a258f",
        "colab": {
          "base_uri": "https://localhost:8080/"
        },
        "outputId": "14d19629-c65b-407b-8a97-c2bcf35553fa"
      },
      "outputs": [
        {
          "output_type": "stream",
          "name": "stdout",
          "text": [
            "dask.array<linspace, shape=(100,), dtype=float64, chunksize=(100,), chunktype=numpy.ndarray>\n"
          ]
        }
      ],
      "source": [
        "x = da.linspace(-1, 1, 100)\n",
        "print(x)"
      ]
    },
    {
      "cell_type": "markdown",
      "id": "25832132",
      "metadata": {
        "id": "25832132"
      },
      "source": [
        "### **2.2. Arreglos Aleatorios Nativos**\n",
        "---\n",
        "\n",
        "Al igual que `numpy` tenemos un paquete `random` que nos permite generar arreglos de forma aleatoria, por ejemplo, la función `randint` genera un arreglo con valores enteros asignados de forma aleatoria entre dos números y con un tamaño dado:"
      ]
    },
    {
      "cell_type": "code",
      "execution_count": 8,
      "id": "fc156114",
      "metadata": {
        "id": "fc156114",
        "colab": {
          "base_uri": "https://localhost:8080/"
        },
        "outputId": "a7bdfcb6-3bf3-406e-c5e9-a621a3abe192"
      },
      "outputs": [
        {
          "output_type": "stream",
          "name": "stdout",
          "text": [
            "dask.array<randint, shape=(10, 10), dtype=int64, chunksize=(10, 10), chunktype=numpy.ndarray>\n"
          ]
        }
      ],
      "source": [
        "X = da.random.randint(1, 5, size=(10, 10))\n",
        "print(X)"
      ]
    },
    {
      "cell_type": "markdown",
      "id": "270e6433",
      "metadata": {
        "id": "270e6433"
      },
      "source": [
        "De la misma forma, podemos generar números con una distribución uniforme:"
      ]
    },
    {
      "cell_type": "code",
      "execution_count": 9,
      "id": "679cef04",
      "metadata": {
        "id": "679cef04",
        "colab": {
          "base_uri": "https://localhost:8080/"
        },
        "outputId": "4b803203-ba5b-4784-e846-38165f447d4d"
      },
      "outputs": [
        {
          "output_type": "stream",
          "name": "stdout",
          "text": [
            "dask.array<uniform, shape=(100, 100), dtype=float64, chunksize=(100, 100), chunktype=numpy.ndarray>\n"
          ]
        }
      ],
      "source": [
        "X = da.random.uniform(-1, 1, size=(100, 100))\n",
        "print(X)"
      ]
    },
    {
      "cell_type": "markdown",
      "id": "55482358",
      "metadata": {
        "id": "55482358"
      },
      "source": [
        "Incluso arreglos con distribución normal:"
      ]
    },
    {
      "cell_type": "code",
      "execution_count": 10,
      "id": "645751aa",
      "metadata": {
        "id": "645751aa",
        "colab": {
          "base_uri": "https://localhost:8080/"
        },
        "outputId": "1fe2b25c-cf0f-416a-dd5f-b2ed907d4076"
      },
      "outputs": [
        {
          "output_type": "stream",
          "name": "stdout",
          "text": [
            "dask.array<normal, shape=(100, 100), dtype=float64, chunksize=(100, 100), chunktype=numpy.ndarray>\n"
          ]
        }
      ],
      "source": [
        "X = da.random.normal(loc=0, scale=1, size=(100, 100))\n",
        "print(X)"
      ]
    },
    {
      "cell_type": "markdown",
      "id": "eadd94d7",
      "metadata": {
        "id": "eadd94d7"
      },
      "source": [
        "Puede usar otras distribuciones aleatorias de `dask` como: `binomial`, `pareto`, `geometric` y muchas más, recuerde que son exactamente las mismas que están en `numpy` y las puede consultar en [este enlace](https://numpy.org/doc/stable/reference/random/index.html)."
      ]
    },
    {
      "cell_type": "markdown",
      "id": "722ecae1",
      "metadata": {
        "id": "722ecae1"
      },
      "source": [
        "### **2.3. Arreglos Externos**\n",
        "---\n",
        "\n",
        "Podemos crear arreglos de `dask` desde distintas fuentes (como `numpy`), esto se consigue usando la función `from_array` de `dask`. Veamos un ejemplo:"
      ]
    },
    {
      "cell_type": "code",
      "execution_count": 11,
      "id": "2d735cfd",
      "metadata": {
        "id": "2d735cfd",
        "colab": {
          "base_uri": "https://localhost:8080/"
        },
        "outputId": "17a96c1e-1c1a-4b1d-d5a2-bc1a253fea09"
      },
      "outputs": [
        {
          "output_type": "stream",
          "name": "stdout",
          "text": [
            "dask.array<array, shape=(100, 10), dtype=float64, chunksize=(10, 10), chunktype=numpy.ndarray>\n"
          ]
        }
      ],
      "source": [
        "X = da.from_array(np.random.normal(size=(100, 10)), chunks=(10, 10))\n",
        "print(X)"
      ]
    },
    {
      "cell_type": "markdown",
      "id": "7097da21",
      "metadata": {
        "id": "7097da21"
      },
      "source": [
        "En este caso, usamos el parámetro `chunks` para especificar cómo serán internamente las particiones del arreglo. Recuerde que los arreglos de `dask` no están directamente en la memoria RAM hasta que no se especifique, de hecho, todos los arreglos que hemos creado hasta este momento son elementos conocidos como **promesas** (son valores que aún no se ejecutan pero esperamos que sigan determinados criterios como tipo, forma, tamaño, enter otras).\n",
        "\n",
        "Veamos cuál es el porcentaje de utilización de la memoria RAM antes de crear un arreglo de `dask` con la librería `psutil`:"
      ]
    },
    {
      "cell_type": "code",
      "execution_count": 12,
      "id": "ff992a84",
      "metadata": {
        "id": "ff992a84",
        "colab": {
          "base_uri": "https://localhost:8080/"
        },
        "outputId": "36afa24a-f971-4876-c415-4ae0d3e7307d"
      },
      "outputs": [
        {
          "output_type": "stream",
          "name": "stdout",
          "text": [
            "RAM: 7.4%\n"
          ]
        }
      ],
      "source": [
        "import psutil\n",
        "print(f\"RAM: {psutil.virtual_memory()[2]}%\")"
      ]
    },
    {
      "cell_type": "markdown",
      "id": "7ffe860b",
      "metadata": {
        "id": "7ffe860b"
      },
      "source": [
        "Ahora, creamos un arreglo de `dask` de un gran tamaño:"
      ]
    },
    {
      "cell_type": "code",
      "execution_count": 13,
      "id": "c0db62e0",
      "metadata": {
        "id": "c0db62e0",
        "colab": {
          "base_uri": "https://localhost:8080/"
        },
        "outputId": "1dbd0f96-d611-4120-f94b-951c30362a7b"
      },
      "outputs": [
        {
          "output_type": "stream",
          "name": "stdout",
          "text": [
            "dask.array<normal, shape=(1000000, 100), dtype=float64, chunksize=(1000, 100), chunktype=numpy.ndarray>\n"
          ]
        }
      ],
      "source": [
        "X = da.random.normal(size=(1_000_000, 100), chunks=(1000, 100))\n",
        "print(X)"
      ]
    },
    {
      "cell_type": "markdown",
      "id": "5a2bc08e",
      "metadata": {
        "id": "5a2bc08e"
      },
      "source": [
        "Veamos el porcentaje de utilización de la memoria RAM luego de crear el arreglo:"
      ]
    },
    {
      "cell_type": "code",
      "execution_count": 14,
      "id": "e3f0c2f6",
      "metadata": {
        "id": "e3f0c2f6",
        "colab": {
          "base_uri": "https://localhost:8080/"
        },
        "outputId": "665e2ed3-c9c9-4e8a-dc4e-e7e96ab79ce4"
      },
      "outputs": [
        {
          "output_type": "stream",
          "name": "stdout",
          "text": [
            "RAM: 7.4%\n"
          ]
        }
      ],
      "source": [
        "print(f\"RAM: {psutil.virtual_memory()[2]}%\")"
      ]
    },
    {
      "cell_type": "markdown",
      "id": "fd4b3e7f",
      "metadata": {
        "id": "fd4b3e7f"
      },
      "source": [
        "Como puede ver, el cambio en la memoria es mínimo (el arreglo no se ha calculado aún y tampoco existe en la memoria).\n",
        "\n",
        "Un ejemplo típico para el manejo de grandes cantidades de datos desde `dask` es con el formato `hdf5`. Se trata de un formato de archivo que es bastante compacto y que facilita la **lectura aleatoria** (no necesitamos cargar todo el archivo para extraer un valor, podemos hacerlo directamente). Podemos exportar el arreglo directamente al disco con el método `to_hdf5` sin la necesidad de que el archivo esté en la memoria:"
      ]
    },
    {
      "cell_type": "code",
      "execution_count": 15,
      "id": "d0dffd44",
      "metadata": {
        "id": "d0dffd44"
      },
      "outputs": [],
      "source": [
        "X.to_hdf5(\"array.h5\", \"/data\")"
      ]
    },
    {
      "cell_type": "markdown",
      "id": "6521611f",
      "metadata": {
        "id": "6521611f"
      },
      "source": [
        "Corroboremos la memoria RAM:"
      ]
    },
    {
      "cell_type": "code",
      "execution_count": 16,
      "id": "98f28aef",
      "metadata": {
        "id": "98f28aef",
        "colab": {
          "base_uri": "https://localhost:8080/"
        },
        "outputId": "96e4145b-b72f-431d-9181-4835bbef5f2a"
      },
      "outputs": [
        {
          "output_type": "stream",
          "name": "stdout",
          "text": [
            "RAM: 7.8%\n"
          ]
        }
      ],
      "source": [
        "print(f\"RAM: {psutil.virtual_memory()[2]}%\")"
      ]
    },
    {
      "cell_type": "markdown",
      "id": "06d87ca6",
      "metadata": {
        "id": "06d87ca6"
      },
      "source": [
        "En este caso, `dask` trabaja únicamente sobre _chunks_ y no sobre el arreglo completo, por ello, únicamente es necesario tener en memoria _chunks_ de tamaño `(1000, 100)` en lugar de un arreglo de tamaño `(1000000, 100)`.\n",
        "\n",
        "Veamos que se creó un archivo con los datos del arreglo masivo de `dask`:"
      ]
    },
    {
      "cell_type": "code",
      "execution_count": 17,
      "id": "f6fa64d3",
      "metadata": {
        "id": "f6fa64d3",
        "colab": {
          "base_uri": "https://localhost:8080/"
        },
        "outputId": "8e9229bc-b3a6-458b-cb24-51d96fc073b7"
      },
      "outputs": [
        {
          "output_type": "stream",
          "name": "stdout",
          "text": [
            "Tamaño del archivo 762.99MB\n"
          ]
        }
      ],
      "source": [
        "import os\n",
        "size = os.stat(\"array.h5\").st_size / (1024 ** 2)\n",
        "print(f\"Tamaño del archivo {size:.2f}MB\")"
      ]
    },
    {
      "cell_type": "markdown",
      "id": "a895fcae",
      "metadata": {
        "id": "a895fcae"
      },
      "source": [
        "De la misma forma, podemos cargar un arreglo masivo a partir de archivos `hdf5` desde `dask` con la librería `h5py`:"
      ]
    },
    {
      "cell_type": "code",
      "execution_count": 18,
      "id": "051395f3",
      "metadata": {
        "id": "051395f3",
        "colab": {
          "base_uri": "https://localhost:8080/"
        },
        "outputId": "2ef81d3d-91b9-4ed3-f0d6-35409be558ed"
      },
      "outputs": [
        {
          "output_type": "stream",
          "name": "stdout",
          "text": [
            "<HDF5 dataset \"data\": shape (1000000, 100), type \"<f8\">\n"
          ]
        }
      ],
      "source": [
        "import h5py\n",
        "file = h5py.File(\"array.h5\", \"r\")\n",
        "data = file[\"data\"]\n",
        "print(data)"
      ]
    },
    {
      "cell_type": "markdown",
      "id": "fb13101b",
      "metadata": {
        "id": "fb13101b"
      },
      "source": [
        "Lo cargamos con `dask`:"
      ]
    },
    {
      "cell_type": "code",
      "execution_count": 19,
      "id": "f97e617c",
      "metadata": {
        "id": "f97e617c",
        "colab": {
          "base_uri": "https://localhost:8080/"
        },
        "outputId": "93cd7e09-8850-499c-b190-fcdfbec79c25"
      },
      "outputs": [
        {
          "output_type": "stream",
          "name": "stdout",
          "text": [
            "dask.array<array, shape=(1000000, 100), dtype=float64, chunksize=(1000, 100), chunktype=numpy.ndarray>\n"
          ]
        }
      ],
      "source": [
        "X = da.from_array(data, chunks=(1000, 100))\n",
        "print(X)"
      ]
    },
    {
      "cell_type": "markdown",
      "id": "e6d896e4",
      "metadata": {
        "id": "e6d896e4"
      },
      "source": [
        "Finalmente, cerramos el archivo:"
      ]
    },
    {
      "cell_type": "code",
      "execution_count": 20,
      "id": "7fdf4c05",
      "metadata": {
        "id": "7fdf4c05"
      },
      "outputs": [],
      "source": [
        "file.close()"
      ]
    },
    {
      "cell_type": "markdown",
      "id": "1475eea4",
      "metadata": {
        "id": "1475eea4"
      },
      "source": [
        "## **3. Atributos**\n",
        "---\n",
        "\n",
        "Los arreglos de `dask` tienen atributos adicionales a los arreglos de `numpy`. Veamos los más útiles:\n",
        "\n",
        "El atributo `shape` nos permite extraer el tamaño del arreglo:"
      ]
    },
    {
      "cell_type": "code",
      "execution_count": 21,
      "id": "4eb42081",
      "metadata": {
        "id": "4eb42081",
        "colab": {
          "base_uri": "https://localhost:8080/"
        },
        "outputId": "92038b11-f722-4ecd-91d3-a1016b5207f8"
      },
      "outputs": [
        {
          "output_type": "stream",
          "name": "stdout",
          "text": [
            "(1000000, 100)\n"
          ]
        }
      ],
      "source": [
        "print(X.shape)"
      ]
    },
    {
      "cell_type": "markdown",
      "id": "c8c0855d",
      "metadata": {
        "id": "c8c0855d"
      },
      "source": [
        "El atributo `dtype` nos permite saber qué tipo de datos contiene el arreglo:"
      ]
    },
    {
      "cell_type": "code",
      "execution_count": 22,
      "id": "75e05b6c",
      "metadata": {
        "id": "75e05b6c",
        "colab": {
          "base_uri": "https://localhost:8080/"
        },
        "outputId": "ffe6ab38-4663-467d-9da7-c1f04c5d54e7"
      },
      "outputs": [
        {
          "output_type": "stream",
          "name": "stdout",
          "text": [
            "float64\n"
          ]
        }
      ],
      "source": [
        "print(X.dtype)"
      ]
    },
    {
      "cell_type": "markdown",
      "id": "24b41b61",
      "metadata": {
        "id": "24b41b61"
      },
      "source": [
        "El atributo `chunksize` permite extraer el tamaño de las particiones del arreglo:"
      ]
    },
    {
      "cell_type": "code",
      "execution_count": 23,
      "id": "074f0733",
      "metadata": {
        "id": "074f0733",
        "colab": {
          "base_uri": "https://localhost:8080/"
        },
        "outputId": "a050e4cc-4da5-4cf3-bae4-7631fba33b62"
      },
      "outputs": [
        {
          "output_type": "stream",
          "name": "stdout",
          "text": [
            "(1000, 100)\n"
          ]
        }
      ],
      "source": [
        "print(X.chunksize)"
      ]
    },
    {
      "cell_type": "markdown",
      "id": "76a14650",
      "metadata": {
        "id": "76a14650"
      },
      "source": [
        "También podemos extraer el número completo de elementos que hay en el arreglo con el atributo `size`:"
      ]
    },
    {
      "cell_type": "code",
      "execution_count": 24,
      "id": "00d8d34a",
      "metadata": {
        "id": "00d8d34a",
        "colab": {
          "base_uri": "https://localhost:8080/"
        },
        "outputId": "78264a5b-0548-4bda-a95f-7b875dcc548e"
      },
      "outputs": [
        {
          "output_type": "stream",
          "name": "stdout",
          "text": [
            "100000000\n"
          ]
        }
      ],
      "source": [
        "print(X.size)"
      ]
    },
    {
      "cell_type": "markdown",
      "id": "a5d76f04",
      "metadata": {
        "id": "a5d76f04"
      },
      "source": [
        "## **4. Métodos**\n",
        "---\n",
        "\n",
        "Los arreglos de `dask` usan métodos similares a los de un arreglo de `numpy` y algunos adicionales que nos van a permitir controlar el manejo de memoria. Veamos algunos ejemplos:\n",
        "\n",
        "* `compute`: este método permite evaluar el arreglo de `dask` y obtener el arreglo de `numpy` correspondiente, veamos un ejemplo:"
      ]
    },
    {
      "cell_type": "code",
      "execution_count": 25,
      "id": "aad1632a",
      "metadata": {
        "id": "aad1632a",
        "colab": {
          "base_uri": "https://localhost:8080/"
        },
        "outputId": "2e339c45-2e4b-48f4-87a2-b70d5baf3d6a"
      },
      "outputs": [
        {
          "output_type": "stream",
          "name": "stdout",
          "text": [
            "dask.array<uniform, shape=(100, 10), dtype=float64, chunksize=(10, 10), chunktype=numpy.ndarray>\n"
          ]
        }
      ],
      "source": [
        "X = da.random.uniform(size=(100, 10), chunks=(10, 10))\n",
        "print(X)"
      ]
    },
    {
      "cell_type": "markdown",
      "id": "bff847a5",
      "metadata": {
        "id": "bff847a5"
      },
      "source": [
        "Usamos el método `compute`:"
      ]
    },
    {
      "cell_type": "code",
      "execution_count": 26,
      "id": "0f2e9fa0",
      "metadata": {
        "id": "0f2e9fa0",
        "colab": {
          "base_uri": "https://localhost:8080/"
        },
        "outputId": "61f07c21-6d2d-451f-ec34-7cd7eff3a8f1"
      },
      "outputs": [
        {
          "output_type": "stream",
          "name": "stdout",
          "text": [
            "[[1.78103446e-01 6.54365365e-01 9.32228931e-01 3.21696852e-01\n",
            "  4.84315667e-02 6.53032014e-01 5.56364408e-01 3.00243492e-01\n",
            "  5.09839659e-01 8.40208002e-01]\n",
            " [9.82101962e-01 2.17570258e-01 7.29214224e-01 9.71354999e-01\n",
            "  4.54950357e-02 4.24393319e-01 4.65575042e-01 4.59320496e-01\n",
            "  2.05565736e-01 7.30483453e-01]\n",
            " [1.08194862e-01 1.08309860e-01 1.70253703e-01 2.05934058e-01\n",
            "  2.94290733e-01 2.96998171e-01 1.57332663e-01 1.18079843e-01\n",
            "  8.00289761e-01 5.56809694e-01]\n",
            " [8.33551176e-01 1.30866350e-01 7.13339007e-01 5.78400980e-01\n",
            "  1.17381448e-01 7.45068806e-01 7.01658660e-01 2.08702823e-01\n",
            "  9.80902305e-01 5.65736377e-01]\n",
            " [1.31759887e-01 3.88063448e-01 3.99986325e-01 1.54405809e-01\n",
            "  2.61950376e-01 8.19703153e-01 7.41050826e-02 9.84568140e-01\n",
            "  3.63071829e-01 5.48533603e-01]\n",
            " [8.30156704e-01 6.11579867e-01 5.60580815e-01 4.43253504e-01\n",
            "  8.27970658e-01 5.23234875e-01 8.20525537e-01 6.79650605e-01\n",
            "  9.90549238e-01 4.38306650e-01]\n",
            " [7.05861217e-01 1.29940778e-02 9.49698226e-01 7.08748293e-01\n",
            "  8.35968998e-01 9.34036096e-01 4.53107121e-01 1.40942973e-01\n",
            "  2.37625443e-01 5.94674034e-02]\n",
            " [8.01642220e-01 3.00841339e-02 4.67042349e-01 7.76787696e-01\n",
            "  7.93316901e-01 6.44537699e-01 3.35895332e-01 7.72090019e-01\n",
            "  6.58161825e-01 2.48188462e-01]\n",
            " [3.02176220e-01 6.27854878e-01 3.55754805e-01 5.10252814e-01\n",
            "  5.64799282e-01 6.12172237e-01 7.12544233e-01 4.39091809e-01\n",
            "  1.17434980e-01 8.19711365e-01]\n",
            " [1.15734155e-01 8.79125239e-01 2.15339673e-01 2.12854380e-01\n",
            "  7.61391741e-01 5.62771952e-01 9.39216904e-01 6.00792861e-01\n",
            "  2.87518053e-02 2.96155563e-01]\n",
            " [1.82659295e-01 4.11779258e-01 4.65417974e-01 1.04229294e-01\n",
            "  9.68013889e-01 8.84687749e-02 8.41753198e-01 8.67954738e-01\n",
            "  1.53577812e-01 3.85114030e-01]\n",
            " [2.69691801e-01 7.14253062e-01 9.06581809e-01 6.61685992e-01\n",
            "  4.74795624e-01 5.52127371e-01 7.45989051e-02 2.81768542e-01\n",
            "  8.84404966e-03 1.18048833e-01]\n",
            " [1.17132989e-01 9.94266908e-01 2.68324382e-01 1.18745185e-02\n",
            "  8.80003904e-01 4.79865956e-01 2.97939867e-01 9.01985901e-01\n",
            "  5.78276421e-01 5.33025090e-01]\n",
            " [5.94831409e-01 5.23528184e-01 3.25426868e-02 7.38387958e-01\n",
            "  8.58947505e-01 8.36675662e-01 6.39259455e-01 2.91632945e-01\n",
            "  1.36003835e-01 2.92572715e-01]\n",
            " [6.59884130e-01 9.92575303e-01 6.90123475e-01 9.47267696e-01\n",
            "  6.69677115e-01 2.57202411e-01 3.25501323e-01 7.73176823e-01\n",
            "  3.33815059e-01 3.20818165e-01]\n",
            " [1.38664017e-01 8.70555274e-01 7.22607849e-01 4.01074770e-01\n",
            "  5.17958184e-01 4.97673034e-01 1.15827073e-01 5.20410371e-01\n",
            "  8.93343474e-01 4.38081124e-01]\n",
            " [8.53338853e-02 7.24860250e-01 1.32173892e-01 1.55073485e-01\n",
            "  2.00574557e-01 7.81699666e-01 7.41290778e-01 5.24329153e-01\n",
            "  6.26369628e-01 1.38155315e-01]\n",
            " [3.88810502e-02 1.39591863e-01 2.20254818e-01 2.99969048e-01\n",
            "  7.93842265e-01 2.67372353e-01 2.99152153e-01 8.01667267e-01\n",
            "  8.39002755e-01 8.21325973e-01]\n",
            " [2.35544044e-01 4.39851409e-01 9.62532026e-01 1.09203082e-01\n",
            "  3.46420429e-01 5.34569797e-01 5.03058588e-01 6.57401621e-02\n",
            "  3.64970255e-01 1.27925476e-01]\n",
            " [9.10846473e-01 5.18418106e-01 6.94655263e-01 8.05021764e-01\n",
            "  6.40535102e-01 9.76273825e-01 7.01114611e-01 8.24003648e-01\n",
            "  2.61389020e-01 4.61489651e-01]\n",
            " [7.91163043e-01 9.62852067e-01 4.69933366e-01 2.30731925e-01\n",
            "  6.55542298e-01 9.53207573e-01 5.23413228e-01 6.45200933e-02\n",
            "  1.57595677e-01 6.37534348e-01]\n",
            " [9.45501616e-01 7.93522873e-01 8.15046782e-02 9.04810984e-01\n",
            "  4.07246404e-01 3.30275129e-01 1.60235094e-01 4.81876304e-01\n",
            "  9.36224610e-01 3.10979153e-01]\n",
            " [2.84682661e-01 1.21814382e-01 9.91585306e-01 4.59885487e-01\n",
            "  9.52291968e-01 7.30262424e-01 6.40864537e-01 9.16179236e-01\n",
            "  6.09649735e-01 1.42179908e-01]\n",
            " [6.55784410e-01 2.07524755e-01 2.58311322e-01 1.12513261e-01\n",
            "  4.47979831e-01 5.20395592e-01 1.72568527e-01 4.27458388e-01\n",
            "  9.34726571e-01 7.07540714e-01]\n",
            " [8.85970698e-01 3.40894560e-01 7.94654196e-01 3.98985879e-01\n",
            "  7.90990855e-01 9.77634294e-01 5.64584900e-01 6.75780090e-01\n",
            "  7.17299756e-01 2.56884157e-01]\n",
            " [8.81716996e-01 9.21187779e-01 3.53791983e-01 6.06773056e-01\n",
            "  9.02574917e-01 9.64908461e-01 5.36060459e-01 3.30869432e-01\n",
            "  5.19239137e-01 5.33060690e-01]\n",
            " [8.59562047e-01 7.46933338e-01 6.61513679e-01 9.73852142e-01\n",
            "  6.51914334e-02 9.48755540e-01 5.99243630e-01 5.52403371e-01\n",
            "  1.64876997e-01 2.60915733e-01]\n",
            " [8.19647250e-01 3.69481015e-01 7.81846981e-03 9.93120918e-01\n",
            "  5.22179222e-02 6.01648588e-01 6.45881324e-01 2.99624495e-01\n",
            "  9.54975409e-01 3.80146641e-01]\n",
            " [1.32042370e-01 4.78048155e-01 4.71354397e-01 6.18533698e-01\n",
            "  6.08849042e-01 5.67132045e-01 2.99155694e-01 1.69821407e-02\n",
            "  3.69535891e-01 9.04054010e-01]\n",
            " [8.72291989e-01 4.17238564e-01 8.28926716e-01 8.69527452e-02\n",
            "  1.17194202e-01 5.74715556e-01 6.96528118e-01 3.05430732e-01\n",
            "  1.60373656e-01 6.99083047e-01]\n",
            " [3.75699738e-01 4.15127160e-01 8.27207345e-02 2.53055678e-02\n",
            "  1.57733130e-01 7.89158239e-02 6.52166173e-01 9.00804640e-01\n",
            "  7.46758416e-01 6.85444665e-02]\n",
            " [3.59102830e-01 3.48910956e-01 4.23793579e-01 8.25632838e-01\n",
            "  7.58152949e-01 4.86247745e-01 3.07215747e-01 1.42714057e-01\n",
            "  8.45403760e-01 7.52440755e-01]\n",
            " [2.74455907e-02 5.82358149e-02 8.37498920e-01 6.69224021e-01\n",
            "  3.68114365e-02 1.50658112e-01 6.10071846e-01 1.41525716e-01\n",
            "  2.86437452e-01 2.64705270e-01]\n",
            " [7.29362845e-01 4.44284116e-01 1.60463687e-01 4.07824724e-01\n",
            "  6.94952742e-01 1.48364768e-01 5.40339355e-01 5.13780448e-01\n",
            "  9.58613353e-01 8.42983390e-01]\n",
            " [3.42073901e-01 6.20783552e-01 9.26878187e-01 4.49512665e-01\n",
            "  2.26945487e-01 9.03347347e-01 3.19256567e-01 8.56185917e-01\n",
            "  9.51486835e-02 5.81026336e-01]\n",
            " [9.31285202e-02 6.01701525e-01 7.40172221e-01 2.85162385e-01\n",
            "  8.73152764e-01 3.15038352e-01 9.01473116e-01 6.52677888e-01\n",
            "  2.96321289e-01 6.96112800e-01]\n",
            " [7.69039414e-01 3.91831799e-01 3.25859417e-01 6.50897336e-01\n",
            "  8.18037749e-01 3.55883814e-01 7.24094972e-01 5.64395323e-01\n",
            "  6.71573311e-01 5.69379118e-01]\n",
            " [7.18866514e-01 8.60773658e-01 5.65653301e-01 9.56659654e-01\n",
            "  6.00364475e-01 6.98605049e-01 6.64168996e-01 9.77312229e-01\n",
            "  8.86390101e-01 4.15708361e-01]\n",
            " [9.43231129e-02 3.83945305e-01 8.15684318e-01 8.59828943e-01\n",
            "  7.25387198e-01 5.07792972e-01 9.96684511e-01 3.35185321e-01\n",
            "  2.10082905e-01 1.73768566e-01]\n",
            " [7.29799441e-01 2.90500231e-01 4.58583357e-01 4.31125533e-01\n",
            "  1.59498020e-01 1.65710488e-01 4.06248497e-02 3.52543738e-01\n",
            "  2.10943648e-01 8.66583616e-01]\n",
            " [9.66566816e-01 2.93060201e-01 3.80838377e-01 5.90825605e-01\n",
            "  7.07167504e-01 9.69523064e-01 6.06611697e-01 3.98581663e-01\n",
            "  7.40450517e-01 2.87028135e-01]\n",
            " [9.00327726e-01 7.41894567e-01 7.14431292e-01 8.52048220e-01\n",
            "  3.02812702e-01 9.10089655e-01 4.51683432e-01 2.95988983e-01\n",
            "  6.10920034e-01 6.33899397e-01]\n",
            " [4.26435999e-01 5.34508739e-01 7.24732717e-01 5.67544427e-02\n",
            "  5.74282034e-01 1.08466276e-01 3.98315019e-02 4.09979658e-01\n",
            "  8.99891311e-01 3.65288394e-01]\n",
            " [8.51787616e-01 8.59995655e-02 3.62698464e-01 6.00535711e-01\n",
            "  3.86152052e-01 5.28167549e-01 8.11840350e-01 1.61141039e-01\n",
            "  5.40142834e-01 8.31145603e-01]\n",
            " [7.28957898e-01 3.20622584e-01 6.04096287e-01 6.00495130e-01\n",
            "  3.60339665e-01 3.44708004e-02 4.34905855e-01 6.27615364e-02\n",
            "  3.12225169e-01 6.65577121e-01]\n",
            " [2.41502385e-01 1.07563615e-02 9.77353613e-01 6.64840031e-01\n",
            "  6.79685889e-01 3.59471735e-01 7.13592357e-01 5.89264838e-02\n",
            "  9.63909440e-01 5.28200620e-01]\n",
            " [8.28621852e-02 5.22444462e-01 2.32615871e-01 2.05412478e-01\n",
            "  5.38692651e-02 8.97711257e-01 1.75874585e-01 1.53646111e-01\n",
            "  2.99247427e-02 4.69139765e-01]\n",
            " [8.65736289e-01 7.44007995e-01 2.37680696e-01 7.84021784e-03\n",
            "  9.12481407e-01 3.37597642e-01 1.43948104e-02 4.64437605e-01\n",
            "  4.58962286e-01 1.06767358e-01]\n",
            " [3.73883708e-01 1.48209850e-01 4.14495450e-01 7.56261243e-01\n",
            "  9.15289193e-01 9.98621122e-01 4.19977314e-01 7.46684769e-01\n",
            "  5.83080124e-01 7.53781955e-01]\n",
            " [9.24431685e-01 2.09697750e-01 3.64136982e-01 2.07188181e-01\n",
            "  4.26692673e-01 4.43918641e-01 4.36330146e-01 3.14190532e-05\n",
            "  9.90661748e-01 1.59204554e-01]\n",
            " [9.43950538e-01 4.65369891e-01 2.08388673e-01 4.70645935e-01\n",
            "  5.23860073e-01 2.65346810e-01 8.41345583e-01 1.28053186e-01\n",
            "  5.04438092e-01 3.62655864e-01]\n",
            " [9.22577183e-01 7.21534012e-01 3.94996320e-01 7.26626903e-01\n",
            "  6.82157705e-01 9.89107373e-02 1.70312236e-01 9.46325375e-01\n",
            "  9.06240828e-01 6.17494754e-01]\n",
            " [5.94101164e-01 8.09140910e-01 8.25637982e-01 2.33813324e-02\n",
            "  7.98298515e-01 7.53040285e-01 2.73806156e-01 5.66335818e-01\n",
            "  6.54889318e-01 1.52946590e-01]\n",
            " [3.75374974e-01 4.09916204e-02 2.69675683e-01 6.21494012e-01\n",
            "  8.98588808e-01 1.71350309e-01 6.29178003e-01 4.49118638e-01\n",
            "  8.69300216e-01 5.50507662e-01]\n",
            " [3.98167468e-01 9.58976184e-02 1.02456951e-01 7.76951897e-01\n",
            "  8.68364711e-06 3.46239115e-01 6.13365413e-01 2.83722730e-01\n",
            "  1.07527755e-01 8.38839039e-01]\n",
            " [6.11406662e-01 4.07390305e-01 4.82865006e-01 5.25552386e-01\n",
            "  5.82375773e-01 5.39378646e-01 8.24580957e-01 8.23508812e-02\n",
            "  6.87278490e-02 1.90637180e-01]\n",
            " [9.95368003e-01 8.14625969e-01 4.95781617e-02 8.25116359e-02\n",
            "  3.80847451e-01 6.28903083e-02 8.86899228e-01 3.40758765e-01\n",
            "  5.43347564e-01 1.22595556e-01]\n",
            " [2.39656661e-01 9.99745973e-01 1.35407620e-01 3.90297561e-01\n",
            "  7.36678206e-01 1.87498430e-01 7.81685513e-01 2.36576637e-01\n",
            "  9.50999948e-01 8.93142636e-01]\n",
            " [6.40828062e-01 4.81627038e-01 2.06195031e-01 9.49671390e-01\n",
            "  5.55336513e-01 2.00457196e-02 9.28009857e-01 4.73936133e-01\n",
            "  9.24982898e-01 9.84497796e-01]\n",
            " [6.73672798e-01 9.91522273e-01 7.20669617e-01 5.49871307e-01\n",
            "  5.23071946e-01 1.89706952e-01 4.72704214e-01 1.01654001e-02\n",
            "  9.36738859e-01 4.08594411e-01]\n",
            " [4.07908040e-01 6.52667467e-01 5.43925027e-03 1.50375808e-01\n",
            "  5.30929269e-01 9.82141722e-01 6.70250983e-01 8.87370011e-01\n",
            "  2.37527996e-01 7.53448624e-01]\n",
            " [1.95917731e-01 9.36390663e-01 9.48136650e-01 2.19269692e-01\n",
            "  9.76903034e-01 1.13269845e-01 6.27701488e-01 7.72774118e-01\n",
            "  9.53743854e-01 7.66145790e-01]\n",
            " [2.32940429e-01 5.06111741e-01 6.14645775e-01 2.32011420e-01\n",
            "  1.12915809e-01 5.55218870e-01 7.49997820e-01 5.84434349e-01\n",
            "  2.19370826e-01 1.88050762e-01]\n",
            " [7.67199547e-01 8.71070550e-01 7.72768096e-01 8.03389006e-01\n",
            "  4.93432705e-01 2.44559765e-01 2.86153204e-02 2.79037205e-01\n",
            "  3.80113140e-02 3.00666314e-01]\n",
            " [8.35770658e-01 7.26197085e-01 4.32110675e-01 4.27451909e-02\n",
            "  5.70138303e-01 8.21277199e-01 2.78084730e-02 9.71678189e-01\n",
            "  9.65815151e-01 2.45594542e-01]\n",
            " [1.13415112e-01 2.13550930e-01 5.24510659e-01 6.69034886e-01\n",
            "  5.02245160e-01 9.39492889e-01 4.61788506e-01 5.50295172e-01\n",
            "  4.47533567e-01 5.47401558e-01]\n",
            " [4.77487212e-02 7.90335206e-01 2.38087238e-01 5.03393654e-01\n",
            "  8.87148569e-01 6.12037617e-01 7.10081424e-01 1.33631746e-01\n",
            "  3.13725454e-01 4.02588948e-01]\n",
            " [2.92871834e-01 8.47707985e-01 7.33474815e-01 6.55756547e-01\n",
            "  3.31998528e-01 7.02797873e-01 1.04333147e-01 8.72070879e-01\n",
            "  1.53461570e-01 7.19440919e-01]\n",
            " [2.69016795e-01 7.90274775e-01 8.98078820e-01 6.04913487e-01\n",
            "  8.10792303e-01 5.99177727e-01 8.79985850e-01 9.38593008e-01\n",
            "  6.11241081e-01 3.17376555e-01]\n",
            " [8.17951774e-01 3.91149300e-01 3.79058679e-01 1.35025351e-01\n",
            "  4.62922946e-01 2.53471392e-01 6.53177267e-01 1.67235264e-01\n",
            "  4.32755030e-02 6.83126916e-01]\n",
            " [7.43084813e-01 3.68611397e-01 1.86049164e-01 6.25333497e-02\n",
            "  2.29000604e-01 3.28751910e-02 1.28692740e-01 3.85517363e-01\n",
            "  2.97177964e-01 2.68138289e-01]\n",
            " [2.61430726e-01 1.44805206e-02 9.22329919e-01 4.34819992e-01\n",
            "  1.48960406e-01 1.39827458e-01 8.38752168e-01 4.62873046e-01\n",
            "  4.87721024e-02 2.04281731e-01]\n",
            " [5.51037469e-02 2.10731885e-01 8.51893383e-01 4.32761299e-01\n",
            "  1.51506585e-01 9.77187650e-01 1.75723779e-01 3.83884835e-01\n",
            "  9.21572029e-01 2.86817489e-01]\n",
            " [1.87829611e-01 8.55291047e-01 2.80948326e-01 6.54585041e-01\n",
            "  9.28741941e-01 2.29194120e-01 4.63860881e-01 3.03882770e-01\n",
            "  6.05245252e-01 4.07798012e-01]\n",
            " [9.33761188e-01 6.82891369e-01 7.37749623e-01 7.71494027e-01\n",
            "  4.09886114e-01 2.50333165e-01 1.44198511e-01 8.65668811e-01\n",
            "  1.30038034e-02 3.31139173e-01]\n",
            " [2.74316808e-01 7.85923081e-01 8.02794167e-01 1.38576956e-01\n",
            "  8.69961013e-03 5.22235100e-01 6.20832655e-01 1.92322993e-01\n",
            "  1.16479465e-01 2.13850598e-01]\n",
            " [6.79474550e-01 6.16954139e-01 4.84823426e-01 3.25631469e-01\n",
            "  5.57762360e-01 9.39300690e-01 2.50461764e-01 3.89160445e-01\n",
            "  6.21835659e-01 7.30624769e-01]\n",
            " [5.91779845e-01 6.56311566e-01 3.12282533e-01 1.55259683e-01\n",
            "  6.64318832e-01 4.68628063e-02 1.23014865e-01 5.52268577e-01\n",
            "  2.38766838e-01 9.15287353e-01]\n",
            " [6.94781905e-01 3.41742787e-01 2.32345119e-01 4.53520465e-01\n",
            "  4.55978318e-01 2.47581887e-01 4.37962417e-01 8.27816366e-01\n",
            "  4.16595084e-01 7.80886475e-01]\n",
            " [4.68621078e-02 6.90036259e-01 1.69521453e-01 3.67889122e-01\n",
            "  3.72848367e-01 5.68383680e-01 2.85082714e-01 7.16452373e-02\n",
            "  3.23518815e-02 6.99261852e-01]\n",
            " [3.96635258e-02 3.70411325e-01 1.47933605e-01 6.26016837e-01\n",
            "  6.60074957e-01 4.25265461e-01 1.67928540e-01 2.49509438e-01\n",
            "  9.65576702e-01 5.31033294e-03]\n",
            " [8.63359613e-01 5.42246658e-01 6.88169331e-01 9.14265793e-01\n",
            "  1.51214475e-01 8.37704116e-01 8.87556221e-01 5.91572488e-01\n",
            "  3.77842563e-01 6.66524467e-01]\n",
            " [8.69710786e-01 1.17089473e-01 6.11979825e-01 3.50153033e-01\n",
            "  9.11256194e-01 3.30388198e-01 5.99395641e-01 4.62724754e-01\n",
            "  1.72296203e-01 7.73597195e-01]\n",
            " [5.46499121e-01 8.98929527e-01 1.03226158e-02 2.17325376e-01\n",
            "  9.70611391e-01 5.30054587e-01 1.19014496e-01 1.42784256e-01\n",
            "  3.83867848e-01 2.08465586e-01]\n",
            " [8.71424516e-01 6.53951500e-01 6.27952052e-01 5.02319049e-01\n",
            "  5.72092438e-01 7.41660251e-01 1.01410044e-01 4.40189917e-02\n",
            "  6.13667592e-01 9.68541653e-01]\n",
            " [6.24324752e-01 8.47755982e-01 3.05080590e-01 6.71471459e-01\n",
            "  1.08449011e-01 1.89937943e-01 9.47675278e-01 2.50882561e-02\n",
            "  1.17585345e-01 6.24886364e-01]\n",
            " [1.54358291e-01 5.85666795e-01 3.83861982e-01 8.16137088e-01\n",
            "  9.78655771e-01 8.66574680e-01 2.37000067e-01 7.27813091e-01\n",
            "  7.38274093e-01 2.92017911e-01]\n",
            " [2.36681436e-01 3.73665945e-01 7.73360028e-01 8.80279662e-01\n",
            "  5.58069655e-01 8.54255747e-01 7.85904288e-01 5.74194189e-02\n",
            "  8.80743414e-01 1.05124958e-01]\n",
            " [4.18292569e-01 3.17318944e-01 6.41776573e-03 4.02445907e-02\n",
            "  4.88740136e-01 4.39222672e-01 3.19301984e-01 6.28626073e-01\n",
            "  4.24452581e-01 6.69148797e-02]\n",
            " [6.57145407e-01 4.74731939e-01 4.67541804e-01 1.26852293e-01\n",
            "  8.64989347e-02 8.34074982e-01 6.35296417e-02 3.88567544e-01\n",
            "  5.40374045e-01 6.32794850e-01]\n",
            " [3.57484866e-01 9.04519847e-01 8.75805353e-01 1.37553232e-01\n",
            "  1.76846992e-01 3.91501422e-01 9.12177611e-01 9.61086057e-01\n",
            "  6.48485212e-01 8.63975351e-01]\n",
            " [5.38267315e-01 7.68506356e-01 6.94728892e-01 4.44999101e-01\n",
            "  6.21939934e-01 7.18119043e-01 9.11131870e-01 8.80736812e-01\n",
            "  3.25963002e-01 7.42904895e-02]\n",
            " [1.42551597e-01 3.79589481e-01 3.03211016e-01 7.78071229e-01\n",
            "  2.22563733e-01 1.74663826e-01 8.13735431e-01 5.35981511e-01\n",
            "  2.45108085e-01 7.90693577e-01]\n",
            " [8.56853111e-02 9.38234027e-01 8.55467867e-01 7.22727088e-01\n",
            "  6.88883907e-01 2.20066493e-01 7.26884790e-01 3.63391368e-01\n",
            "  4.96138686e-01 9.20538122e-01]\n",
            " [3.48201852e-01 3.59014299e-01 9.50781091e-01 6.52362777e-01\n",
            "  5.17875856e-01 3.75462674e-02 4.98028220e-01 7.51439069e-01\n",
            "  5.22814312e-01 8.14977330e-01]\n",
            " [6.28526647e-01 3.69106929e-01 3.76365024e-02 6.45782547e-01\n",
            "  1.67781182e-01 7.11736773e-01 6.09924298e-01 7.76510556e-01\n",
            "  3.88490658e-01 6.89780453e-01]\n",
            " [8.85502879e-01 9.33576871e-01 2.24280975e-03 5.13441343e-01\n",
            "  5.83430415e-01 1.31704660e-01 3.96596860e-01 7.72739345e-01\n",
            "  1.05444890e-01 9.33914098e-01]\n",
            " [9.11270910e-01 4.34098704e-01 3.36826218e-01 2.43242338e-02\n",
            "  5.91228426e-01 2.35119007e-01 5.28584971e-01 1.78195847e-01\n",
            "  3.42659805e-01 1.72885257e-01]\n",
            " [8.11430367e-01 6.72965928e-01 6.65894497e-02 5.64660869e-01\n",
            "  1.93083233e-02 4.48115193e-01 7.33800248e-01 9.30524299e-01\n",
            "  2.63607783e-01 2.04303002e-01]\n",
            " [4.65996194e-01 1.11765744e-02 5.48624086e-01 7.28732455e-01\n",
            "  7.57543415e-01 7.18705734e-01 3.46302463e-01 4.51148735e-01\n",
            "  4.72126772e-01 4.29762288e-01]]\n"
          ]
        }
      ],
      "source": [
        "X_np = X.compute()\n",
        "print(X_np)"
      ]
    },
    {
      "cell_type": "markdown",
      "id": "af80b78b",
      "metadata": {
        "id": "af80b78b"
      },
      "source": [
        "* `rechunk`: permite cambiar el tamaño de los _chunks_ de un arreglo, por ejemplo:"
      ]
    },
    {
      "cell_type": "code",
      "execution_count": 27,
      "id": "fea82d20",
      "metadata": {
        "id": "fea82d20",
        "colab": {
          "base_uri": "https://localhost:8080/"
        },
        "outputId": "1b03d9d6-b7a2-40b2-fe49-7838b48fe268"
      },
      "outputs": [
        {
          "output_type": "stream",
          "name": "stdout",
          "text": [
            "dask.array<rechunk-merge, shape=(100, 10), dtype=float64, chunksize=(50, 10), chunktype=numpy.ndarray>\n"
          ]
        }
      ],
      "source": [
        "X2 = X.rechunk(chunks=(50, 10))\n",
        "print(X2)"
      ]
    },
    {
      "cell_type": "markdown",
      "id": "22a2befd",
      "metadata": {
        "id": "22a2befd"
      },
      "source": [
        "* `persist`: permite guardar en disco los resultados de una operación:"
      ]
    },
    {
      "cell_type": "code",
      "execution_count": 28,
      "id": "9f9f6f09",
      "metadata": {
        "id": "9f9f6f09",
        "colab": {
          "base_uri": "https://localhost:8080/"
        },
        "outputId": "f3f6a6bc-8d3c-4ba1-bc19-0993badc45ef"
      },
      "outputs": [
        {
          "output_type": "stream",
          "name": "stdout",
          "text": [
            "dask.array<rechunk-merge, shape=(100, 10), dtype=float64, chunksize=(50, 10), chunktype=numpy.ndarray>\n"
          ]
        }
      ],
      "source": [
        "X3 = X2.persist()\n",
        "print(X3)"
      ]
    },
    {
      "cell_type": "markdown",
      "id": "92589431",
      "metadata": {
        "id": "92589431"
      },
      "source": [
        "Adicional a esto, tenemos métodos similares como los que manejan los arreglos de `numpy`. Veamos algunos:\n",
        "\n",
        "* `sum` permite sumar los elementos de un arreglo sobre un eje dado:"
      ]
    },
    {
      "cell_type": "code",
      "execution_count": 29,
      "id": "e2918771",
      "metadata": {
        "id": "e2918771",
        "colab": {
          "base_uri": "https://localhost:8080/"
        },
        "outputId": "c26598d8-bfcf-4c87-b46c-8c59cdd8642a"
      },
      "outputs": [
        {
          "output_type": "stream",
          "name": "stdout",
          "text": [
            "dask.array<sum-aggregate, shape=(100,), dtype=float64, chunksize=(50,), chunktype=numpy.ndarray>\n"
          ]
        }
      ],
      "source": [
        "sums = X3.sum(axis=1)\n",
        "print(sums)"
      ]
    },
    {
      "cell_type": "markdown",
      "id": "00e44ba1",
      "metadata": {
        "id": "00e44ba1"
      },
      "source": [
        "Evaluamos el resultado:"
      ]
    },
    {
      "cell_type": "code",
      "execution_count": 30,
      "id": "844cb29f",
      "metadata": {
        "id": "844cb29f",
        "colab": {
          "base_uri": "https://localhost:8080/"
        },
        "outputId": "1aaba475-ef58-4f90-dd6a-ef81ab9ce882"
      },
      "outputs": [
        {
          "output_type": "stream",
          "name": "stdout",
          "text": [
            "[4.99451374 5.23107452 2.81649335 5.57560793 4.12614765 6.72580845\n",
            " 5.03844985 5.52774664 5.06179262 4.61213427 4.46896826 4.06239599\n",
            " 5.06269594 4.94438235 5.9700415  5.11619517 4.10986061 4.52105955\n",
            " 3.68981527 6.79374746 5.44649362 5.35217685 5.84939564 4.44480337\n",
            " 6.40367939 6.55018291 5.83324791 5.12456203 4.46568744 4.75873532\n",
            " 3.50377585 5.24961521 3.08261418 5.44096943 5.32115864 5.45494086\n",
            " 5.84099225 7.34450234 5.10268315 3.70591292 5.94065358 6.41409601\n",
            " 4.14017107 5.15961078 4.12445205 5.19823892 2.82350072 4.14990631\n",
            " 6.11028473 4.16229378 4.71405464 6.18717605 5.45157807 4.87557992\n",
            " 3.56317667 4.31526564 4.27942264 5.55168918 6.16513044 5.47671778\n",
            " 5.27805917 6.51025286 3.9956978  4.59874982 5.63913547 4.96926844\n",
            " 4.63877858 5.4139141  6.7194504  3.98639439 2.70168088 3.47652807\n",
            " 4.44718268 4.917377   5.14012578 3.67603143 5.59602927 4.2561529\n",
            " 4.88921082 3.30388267 3.65769072 6.52045573 5.1985913  4.0278748\n",
            " 5.69703809 4.46225498 5.78035977 5.50550455 3.1495322  4.27211144\n",
            " 6.22943594 5.97868282 4.38616949 6.01801766 5.45304107 5.02527654\n",
            " 5.25859417 3.75519338 4.71530546 4.93011872]\n"
          ]
        }
      ],
      "source": [
        "print(sums.compute())"
      ]
    },
    {
      "cell_type": "markdown",
      "id": "e2cd754b",
      "metadata": {
        "id": "e2cd754b"
      },
      "source": [
        "* `mean` permite promediar los elementos de un arreglo sobre un eje dado:"
      ]
    },
    {
      "cell_type": "code",
      "execution_count": 31,
      "id": "7f75aeba",
      "metadata": {
        "id": "7f75aeba",
        "colab": {
          "base_uri": "https://localhost:8080/"
        },
        "outputId": "8f58cbc3-0b9b-4abd-8cea-f56c48f46d93"
      },
      "outputs": [
        {
          "output_type": "stream",
          "name": "stdout",
          "text": [
            "dask.array<mean_agg-aggregate, shape=(100,), dtype=float64, chunksize=(50,), chunktype=numpy.ndarray>\n"
          ]
        }
      ],
      "source": [
        "means = X3.mean(axis=1)\n",
        "print(means)"
      ]
    },
    {
      "cell_type": "markdown",
      "id": "c380cc05",
      "metadata": {
        "id": "c380cc05"
      },
      "source": [
        "Evaluamos el resultado:"
      ]
    },
    {
      "cell_type": "code",
      "execution_count": 32,
      "id": "4a8d1d15",
      "metadata": {
        "id": "4a8d1d15",
        "colab": {
          "base_uri": "https://localhost:8080/"
        },
        "outputId": "f2ef0ebf-b3f7-4d39-f258-348d10bba90c"
      },
      "outputs": [
        {
          "output_type": "stream",
          "name": "stdout",
          "text": [
            "[0.49945137 0.52310745 0.28164933 0.55756079 0.41261477 0.67258085\n",
            " 0.50384498 0.55277466 0.50617926 0.46121343 0.44689683 0.4062396\n",
            " 0.50626959 0.49443824 0.59700415 0.51161952 0.41098606 0.45210595\n",
            " 0.36898153 0.67937475 0.54464936 0.53521768 0.58493956 0.44448034\n",
            " 0.64036794 0.65501829 0.58332479 0.5124562  0.44656874 0.47587353\n",
            " 0.35037758 0.52496152 0.30826142 0.54409694 0.53211586 0.54549409\n",
            " 0.58409923 0.73445023 0.51026832 0.37059129 0.59406536 0.6414096\n",
            " 0.41401711 0.51596108 0.4124452  0.51982389 0.28235007 0.41499063\n",
            " 0.61102847 0.41622938 0.47140546 0.61871761 0.54515781 0.48755799\n",
            " 0.35631767 0.43152656 0.42794226 0.55516892 0.61651304 0.54767178\n",
            " 0.52780592 0.65102529 0.39956978 0.45987498 0.56391355 0.49692684\n",
            " 0.46387786 0.54139141 0.67194504 0.39863944 0.27016809 0.34765281\n",
            " 0.44471827 0.4917377  0.51401258 0.36760314 0.55960293 0.42561529\n",
            " 0.48892108 0.33038827 0.36576907 0.65204557 0.51985913 0.40278748\n",
            " 0.56970381 0.4462255  0.57803598 0.55055046 0.31495322 0.42721114\n",
            " 0.62294359 0.59786828 0.43861695 0.60180177 0.54530411 0.50252765\n",
            " 0.52585942 0.37551934 0.47153055 0.49301187]\n"
          ]
        }
      ],
      "source": [
        "print(means.compute())"
      ]
    },
    {
      "cell_type": "markdown",
      "id": "d455e5eb",
      "metadata": {
        "id": "d455e5eb"
      },
      "source": [
        "* `std` permite calcular la desviación estándar de los elementos de un arreglo sobre un eje dado:"
      ]
    },
    {
      "cell_type": "code",
      "execution_count": 33,
      "id": "8f76a63b",
      "metadata": {
        "id": "8f76a63b",
        "colab": {
          "base_uri": "https://localhost:8080/"
        },
        "outputId": "898f1582-b8fc-48e7-a348-fdb3c59005d8"
      },
      "outputs": [
        {
          "output_type": "stream",
          "name": "stdout",
          "text": [
            "dask.array<_sqrt, shape=(100,), dtype=float64, chunksize=(50,), chunktype=numpy.ndarray>\n"
          ]
        }
      ],
      "source": [
        "stds = X3.std(axis=1)\n",
        "print(stds)"
      ]
    },
    {
      "cell_type": "markdown",
      "id": "918d6135",
      "metadata": {
        "id": "918d6135"
      },
      "source": [
        "Evaluamos el resultado:"
      ]
    },
    {
      "cell_type": "code",
      "execution_count": 34,
      "id": "01be26c8",
      "metadata": {
        "id": "01be26c8",
        "colab": {
          "base_uri": "https://localhost:8080/"
        },
        "outputId": "c750853e-b300-477b-e1b9-8d04fdd9e80b"
      },
      "outputs": [
        {
          "output_type": "stream",
          "name": "stdout",
          "text": [
            "[0.27061184 0.30602438 0.21577325 0.28872272 0.28237956 0.17834305\n",
            " 0.34935696 0.25650895 0.19754717 0.31285786 0.31810485 0.28662723\n",
            " 0.32200638 0.27660541 0.25745496 0.25154554 0.27789746 0.30460322\n",
            " 0.2527053  0.20706052 0.30139998 0.31471161 0.30841514 0.25203208\n",
            " 0.2298882  0.2291621  0.3072389  0.33116601 0.24340841 0.28319852\n",
            " 0.30389851 0.23727083 0.27776686 0.2552415  0.2795073  0.26399216\n",
            " 0.16642848 0.17376342 0.30353251 0.24780797 0.24138559 0.21678812\n",
            " 0.27136301 0.25664292 0.22873286 0.32641985 0.25753003 0.31968394\n",
            " 0.2547591  0.30296402 0.24604663 0.28807753 0.27753352 0.26787597\n",
            " 0.2835618  0.23342439 0.34558013 0.33051858 0.31710905 0.28927591\n",
            " 0.30601796 0.32846303 0.2130807  0.30804618 0.34235041 0.21511124\n",
            " 0.27006868 0.27532248 0.22368334 0.24423655 0.19380056 0.30054936\n",
            " 0.32716376 0.24726117 0.30762153 0.27564691 0.19491204 0.27376995\n",
            " 0.19959359 0.24276673 0.29224309 0.23379347 0.26566337 0.31306604\n",
            " 0.28147635 0.31813715 0.27639261 0.31407988 0.19972758 0.24847959\n",
            " 0.30961418 0.24630776 0.25547026 0.28232609 0.25019047 0.23681532\n",
            " 0.3390418  0.24208368 0.30461697 0.20980456]\n"
          ]
        }
      ],
      "source": [
        "print(stds.compute())"
      ]
    },
    {
      "cell_type": "markdown",
      "id": "5790e7a9",
      "metadata": {
        "id": "5790e7a9"
      },
      "source": [
        "* `reshape` premite cambiar la forma de un arreglo:"
      ]
    },
    {
      "cell_type": "code",
      "execution_count": 35,
      "id": "40986a43",
      "metadata": {
        "id": "40986a43",
        "colab": {
          "base_uri": "https://localhost:8080/"
        },
        "outputId": "b725af2d-2cba-4e4a-a0b5-4a1a6f5af5b4"
      },
      "outputs": [
        {
          "output_type": "stream",
          "name": "stdout",
          "text": [
            "dask.array<reshape, shape=(10, 10, 10), dtype=float64, chunksize=(5, 10, 10), chunktype=numpy.ndarray>\n"
          ]
        }
      ],
      "source": [
        "X4 = X3.reshape((10, 10, 10))\n",
        "print(X4)"
      ]
    },
    {
      "cell_type": "markdown",
      "id": "4cc11368",
      "metadata": {
        "id": "4cc11368"
      },
      "source": [
        "Debe tener cuidado con la operación de `reshape` ya que esta únicamente permite dividir o combinar ejes.\n",
        "\n",
        "También podemos aplicar la operación `flatten` para cambiar la forma del arreglo"
      ]
    },
    {
      "cell_type": "code",
      "execution_count": 36,
      "id": "d568d4a3",
      "metadata": {
        "id": "d568d4a3",
        "colab": {
          "base_uri": "https://localhost:8080/"
        },
        "outputId": "a0f6405d-1e2c-4c11-a586-9dd072ac68a4"
      },
      "outputs": [
        {
          "output_type": "stream",
          "name": "stdout",
          "text": [
            "dask.array<reshape, shape=(1000,), dtype=float64, chunksize=(500,), chunktype=numpy.ndarray>\n"
          ]
        }
      ],
      "source": [
        "X5 = X4.flatten()\n",
        "print(X5)"
      ]
    },
    {
      "cell_type": "markdown",
      "id": "c0867239",
      "metadata": {
        "id": "c0867239"
      },
      "source": [
        "## **5. Operaciones con Arreglos**\n",
        "---\n",
        "\n",
        "Podemos realizar distintos tipos de operaciones aritméticas, geométricas y algebraicas sobre los arreglos de `dask`.\n",
        "\n",
        "Por ejemplo, podemos sumar dos arreglos. Comenzamos definiéndolos:"
      ]
    },
    {
      "cell_type": "code",
      "execution_count": 37,
      "id": "104c752f",
      "metadata": {
        "id": "104c752f",
        "colab": {
          "base_uri": "https://localhost:8080/"
        },
        "outputId": "2dad1f2a-82ae-4421-fa39-d0c774b7ac60"
      },
      "outputs": [
        {
          "output_type": "stream",
          "name": "stdout",
          "text": [
            "dask.array<normal, shape=(10, 10), dtype=float64, chunksize=(10, 10), chunktype=numpy.ndarray>\n"
          ]
        }
      ],
      "source": [
        "X1 = da.random.normal(loc=0, scale=1, size=(10, 10))\n",
        "print(X1)"
      ]
    },
    {
      "cell_type": "code",
      "execution_count": 38,
      "id": "bff89fb7",
      "metadata": {
        "id": "bff89fb7",
        "colab": {
          "base_uri": "https://localhost:8080/"
        },
        "outputId": "0fadf169-4990-4182-a26f-70c62eb07085"
      },
      "outputs": [
        {
          "output_type": "stream",
          "name": "stdout",
          "text": [
            "dask.array<normal, shape=(10, 10), dtype=float64, chunksize=(10, 10), chunktype=numpy.ndarray>\n"
          ]
        }
      ],
      "source": [
        "X2 = da.random.normal(loc=0, scale=1, size=(10, 10))\n",
        "print(X2)"
      ]
    },
    {
      "cell_type": "markdown",
      "id": "95f58b8e",
      "metadata": {
        "id": "95f58b8e"
      },
      "source": [
        "La suma se realiza elemento a elemento:"
      ]
    },
    {
      "cell_type": "code",
      "execution_count": 39,
      "id": "5d2e9478",
      "metadata": {
        "id": "5d2e9478",
        "colab": {
          "base_uri": "https://localhost:8080/"
        },
        "outputId": "3f3c7b55-dc79-425b-8a5f-9076e9a1e7f2"
      },
      "outputs": [
        {
          "output_type": "stream",
          "name": "stdout",
          "text": [
            "dask.array<add, shape=(10, 10), dtype=float64, chunksize=(10, 10), chunktype=numpy.ndarray>\n"
          ]
        }
      ],
      "source": [
        "X3 = X1 + X2\n",
        "print(X3)"
      ]
    },
    {
      "cell_type": "markdown",
      "id": "2a625752",
      "metadata": {
        "id": "2a625752"
      },
      "source": [
        "Veamos el resultado:"
      ]
    },
    {
      "cell_type": "code",
      "execution_count": 40,
      "id": "12eed0ef",
      "metadata": {
        "id": "12eed0ef",
        "colab": {
          "base_uri": "https://localhost:8080/"
        },
        "outputId": "926f1ce3-031a-4cf2-936e-ec20373fb4ab"
      },
      "outputs": [
        {
          "output_type": "stream",
          "name": "stdout",
          "text": [
            "[[ 0.68718028 -1.39898187 -1.40743384  0.53872001  0.49122893 -3.19766086\n",
            "   0.79711023 -0.99614257  0.26475617 -0.05668593]\n",
            " [ 3.43894017 -0.15804836 -0.72936324 -0.34507115 -1.78216387 -0.61389442\n",
            "  -0.9617481  -0.17431642  0.82636869  0.44727359]\n",
            " [-0.74499136 -2.63171997  1.83668791  2.80137419  0.32338089  0.31473082\n",
            "   1.80286088  0.27397515 -0.27281019 -0.86082465]\n",
            " [ 4.54034766 -1.64492501  0.89890019  2.76780081  0.3638191   0.21915001\n",
            "   0.39347445  0.11511686 -0.26452376 -0.20146428]\n",
            " [-1.13235385 -0.50649444 -1.91987436 -2.31249142 -0.86224844  1.56482571\n",
            "   0.31132986 -0.17470609 -0.4942202  -2.36558781]\n",
            " [-0.62501835  2.14520502 -0.81015614  2.90059623 -0.36973603  1.98439354\n",
            "   1.32031015  1.23128969  0.74993485  2.4097719 ]\n",
            " [ 0.93821586 -0.96562006  0.28699225  0.37467266  0.31579697 -2.11633466\n",
            "  -2.67881075 -1.0564935  -0.23443608 -0.44416669]\n",
            " [-0.64282865 -1.11695377  0.92106077 -2.51956045  1.01489303  1.75379821\n",
            "  -1.30201811 -2.9979954  -0.64262685  0.04830209]\n",
            " [ 1.30240541  0.61012681 -0.37396236  2.08361254 -1.13858143  1.82400546\n",
            "  -2.17235402  1.70930882  1.12589793  1.33550854]\n",
            " [-1.30089347 -0.79614984  0.85523297  4.01137918  1.38560273 -1.418778\n",
            "   2.5468651   0.57348798 -2.78857819 -0.5471485 ]]\n"
          ]
        }
      ],
      "source": [
        "print(X3.compute())"
      ]
    },
    {
      "cell_type": "markdown",
      "id": "03c25803",
      "metadata": {
        "id": "03c25803"
      },
      "source": [
        "Lo mismo aplica para operaciones como resta:"
      ]
    },
    {
      "cell_type": "code",
      "execution_count": 41,
      "id": "e2d88244",
      "metadata": {
        "id": "e2d88244",
        "colab": {
          "base_uri": "https://localhost:8080/"
        },
        "outputId": "0afeab65-25fe-4c86-ab61-c8856e8a2779"
      },
      "outputs": [
        {
          "output_type": "stream",
          "name": "stdout",
          "text": [
            "dask.array<sub, shape=(10, 10), dtype=float64, chunksize=(10, 10), chunktype=numpy.ndarray>\n"
          ]
        }
      ],
      "source": [
        "X3 = X1 - X2\n",
        "print(X3)"
      ]
    },
    {
      "cell_type": "markdown",
      "id": "479d7e0b",
      "metadata": {
        "id": "479d7e0b"
      },
      "source": [
        "La multiplicación elemento a elemento:"
      ]
    },
    {
      "cell_type": "code",
      "execution_count": 42,
      "id": "fd5058e6",
      "metadata": {
        "id": "fd5058e6",
        "colab": {
          "base_uri": "https://localhost:8080/"
        },
        "outputId": "0be1f6de-f738-44f2-e55a-47b018c1d130"
      },
      "outputs": [
        {
          "output_type": "stream",
          "name": "stdout",
          "text": [
            "dask.array<mul, shape=(10, 10), dtype=float64, chunksize=(10, 10), chunktype=numpy.ndarray>\n"
          ]
        }
      ],
      "source": [
        "X3 = X1 * X2\n",
        "print(X3)"
      ]
    },
    {
      "cell_type": "markdown",
      "id": "8e45e9b4",
      "metadata": {
        "id": "8e45e9b4"
      },
      "source": [
        "La división:"
      ]
    },
    {
      "cell_type": "code",
      "execution_count": 43,
      "id": "8b1c8f68",
      "metadata": {
        "id": "8b1c8f68",
        "colab": {
          "base_uri": "https://localhost:8080/"
        },
        "outputId": "f820c52a-7e96-4ee6-e3bb-f1adefdabb60"
      },
      "outputs": [
        {
          "output_type": "stream",
          "name": "stdout",
          "text": [
            "dask.array<truediv, shape=(10, 10), dtype=float64, chunksize=(10, 10), chunktype=numpy.ndarray>\n"
          ]
        }
      ],
      "source": [
        "X3 = X1 / X2\n",
        "print(X3)"
      ]
    },
    {
      "cell_type": "markdown",
      "id": "a622c446",
      "metadata": {
        "id": "a622c446"
      },
      "source": [
        "Podemos realizar un producto matricial con el operador `@`:"
      ]
    },
    {
      "cell_type": "code",
      "execution_count": 44,
      "id": "ab0d23b0",
      "metadata": {
        "id": "ab0d23b0",
        "colab": {
          "base_uri": "https://localhost:8080/"
        },
        "outputId": "e4e5678b-52db-4404-8c13-ffa5567d64aa"
      },
      "outputs": [
        {
          "output_type": "stream",
          "name": "stdout",
          "text": [
            "dask.array<getitem, shape=(10, 10), dtype=float64, chunksize=(10, 10), chunktype=numpy.ndarray>\n"
          ]
        }
      ],
      "source": [
        "X3 = X1 @ X2\n",
        "print(X3)"
      ]
    },
    {
      "cell_type": "markdown",
      "id": "dfd2df07",
      "metadata": {
        "id": "dfd2df07"
      },
      "source": [
        "También podemos aplicar las reglas de _broadcasting_ como se usan en `numpy`, por ejemplo, para convertir a ceros todas las columnas pares:"
      ]
    },
    {
      "cell_type": "code",
      "execution_count": 45,
      "id": "88f7caed",
      "metadata": {
        "id": "88f7caed",
        "colab": {
          "base_uri": "https://localhost:8080/"
        },
        "outputId": "fcd03917-7da9-496f-9419-bd9c6c94765a"
      },
      "outputs": [
        {
          "output_type": "stream",
          "name": "stdout",
          "text": [
            "dask.array<reshape, shape=(10, 1), dtype=int64, chunksize=(10, 1), chunktype=numpy.ndarray>\n"
          ]
        }
      ],
      "source": [
        "mask = (da.arange(10) % 2).reshape(-1, 1)\n",
        "print(mask)"
      ]
    },
    {
      "cell_type": "markdown",
      "id": "b7897155",
      "metadata": {
        "id": "b7897155"
      },
      "source": [
        "Aplicamos un producto elemento a elemento para enmascarar:"
      ]
    },
    {
      "cell_type": "code",
      "execution_count": 46,
      "id": "bf54abca",
      "metadata": {
        "id": "bf54abca",
        "colab": {
          "base_uri": "https://localhost:8080/"
        },
        "outputId": "89c068ed-cedf-4b9e-8724-a5cc73f9c8b2"
      },
      "outputs": [
        {
          "output_type": "stream",
          "name": "stdout",
          "text": [
            "dask.array<mul, shape=(10, 10), dtype=float64, chunksize=(10, 10), chunktype=numpy.ndarray>\n"
          ]
        }
      ],
      "source": [
        "res = X1 * mask\n",
        "print(res)"
      ]
    },
    {
      "cell_type": "markdown",
      "id": "ef631775",
      "metadata": {
        "id": "ef631775"
      },
      "source": [
        "Veamos el resultado:"
      ]
    },
    {
      "cell_type": "code",
      "execution_count": 47,
      "id": "2eaf908a",
      "metadata": {
        "id": "2eaf908a",
        "colab": {
          "base_uri": "https://localhost:8080/"
        },
        "outputId": "4a9e3184-591e-4cdf-89ca-fdd5b6eb57e8"
      },
      "outputs": [
        {
          "output_type": "stream",
          "name": "stdout",
          "text": [
            "[[ 0.         -0.         -0.         -0.          0.         -0.\n",
            "  -0.         -0.         -0.          0.        ]\n",
            " [ 2.52917949  0.49242633  0.55837729 -0.77447491 -2.06587901 -0.92985983\n",
            "  -0.91721007  0.28146183  0.41293422 -0.68930724]\n",
            " [ 0.         -0.          0.          0.         -0.          0.\n",
            "   0.          0.         -0.         -0.        ]\n",
            " [ 2.01070077 -1.07647519  0.31060821  0.83738643 -0.75693682 -1.35016543\n",
            "   0.46406931 -0.69810097  0.39867365 -1.02105712]\n",
            " [-0.         -0.         -0.         -0.         -0.          0.\n",
            "   0.          0.         -0.         -0.        ]\n",
            " [ 0.02156277  0.38978868 -0.69980801  2.29070931  0.10496618  0.05853258\n",
            "   0.21705232 -0.30659874 -0.14107982  1.09162419]\n",
            " [-0.         -0.         -0.          0.          0.         -0.\n",
            "  -0.          0.         -0.         -0.        ]\n",
            " [ 0.13357281 -1.87502072  0.17828243 -0.59993277 -0.03561433  0.24389048\n",
            "  -0.68582455 -2.54936814 -1.36137255  0.33429571]\n",
            " [ 0.          0.         -0.          0.         -0.         -0.\n",
            "  -0.         -0.          0.          0.        ]\n",
            " [-0.71821735 -0.29491985 -0.43679416  0.240325   -1.07002696  0.04085953\n",
            "   0.7983449   0.50475635 -2.04779305  0.66161639]]\n"
          ]
        }
      ],
      "source": [
        "print(res.compute())"
      ]
    },
    {
      "cell_type": "markdown",
      "id": "c8f98233",
      "metadata": {
        "id": "c8f98233"
      },
      "source": [
        "También podemos aplicar distintas funciones de forma distribuida de `dask`, por ejemplo la raíz cuadrada:"
      ]
    },
    {
      "cell_type": "code",
      "execution_count": 48,
      "id": "34086062",
      "metadata": {
        "id": "34086062",
        "colab": {
          "base_uri": "https://localhost:8080/"
        },
        "outputId": "7f43f55a-3ea4-4a59-c920-6864bc14c79b"
      },
      "outputs": [
        {
          "output_type": "stream",
          "name": "stdout",
          "text": [
            "dask.array<sqrt, shape=(10, 10), dtype=float64, chunksize=(10, 10), chunktype=numpy.ndarray>\n"
          ]
        }
      ],
      "source": [
        "X3 = da.sqrt(X1)\n",
        "print(X3)"
      ]
    },
    {
      "cell_type": "markdown",
      "id": "c4997f7b",
      "metadata": {
        "id": "c4997f7b"
      },
      "source": [
        "El exponente:"
      ]
    },
    {
      "cell_type": "code",
      "execution_count": 49,
      "id": "043c57b4",
      "metadata": {
        "id": "043c57b4",
        "colab": {
          "base_uri": "https://localhost:8080/"
        },
        "outputId": "0d11794e-fe9d-43ff-e025-100b3a24bf0f"
      },
      "outputs": [
        {
          "output_type": "stream",
          "name": "stdout",
          "text": [
            "dask.array<exp, shape=(10, 10), dtype=float64, chunksize=(10, 10), chunktype=numpy.ndarray>\n"
          ]
        }
      ],
      "source": [
        "X3 = da.exp(X1)\n",
        "print(X3)"
      ]
    },
    {
      "cell_type": "markdown",
      "id": "cf7f14dc",
      "metadata": {
        "id": "cf7f14dc"
      },
      "source": [
        "El logaritmo:"
      ]
    },
    {
      "cell_type": "code",
      "execution_count": 50,
      "id": "aaad9185",
      "metadata": {
        "id": "aaad9185",
        "colab": {
          "base_uri": "https://localhost:8080/"
        },
        "outputId": "0e8c9bcc-faf5-48dd-de62-6f105d6dfe6c"
      },
      "outputs": [
        {
          "output_type": "stream",
          "name": "stdout",
          "text": [
            "dask.array<log, shape=(10, 10), dtype=float64, chunksize=(10, 10), chunktype=numpy.ndarray>\n"
          ]
        }
      ],
      "source": [
        "X3 = da.log(X1)\n",
        "print(X3)"
      ]
    },
    {
      "cell_type": "markdown",
      "id": "8da586c8",
      "metadata": {
        "id": "8da586c8"
      },
      "source": [
        "El módulo `linalg` de `dask` nos permite realizar algunas operaciones algebraicas que pueden ser distribuidas facilmente, entre ellas tenemos:\n",
        "\n",
        "* Inverso de una matriz con `inv`.\n",
        "* Métodos de descomposición matricial como `cholesky`, `svd`, `lu`, `qr`, entre otras.\n",
        "* Normas de vectores `norm`.\n",
        "\n",
        "Veamos un ejemplo donde calculamos una matriz al cuadrado, calculamos el inversode la matriz y calculamos la norma de sus vectores con respecto a su primer eje:"
      ]
    },
    {
      "cell_type": "code",
      "execution_count": 51,
      "id": "15aa0e30",
      "metadata": {
        "id": "15aa0e30",
        "colab": {
          "base_uri": "https://localhost:8080/"
        },
        "outputId": "1f4f1db5-61a5-4043-8bfd-a0b544176957"
      },
      "outputs": [
        {
          "output_type": "stream",
          "name": "stdout",
          "text": [
            "[2.53897696e+15 3.24310615e+15 4.29218455e+15 1.06144790e+16\n",
            " 1.00388782e+16 2.26119173e+15 1.37883204e+15 1.08216317e+15\n",
            " 3.41190469e+15 8.88569489e+15]\n"
          ]
        }
      ],
      "source": [
        "X = da.random.normal(size=(10, 5))\n",
        "X2 = X @ X.T # .T nos permite transponer la matriz.\n",
        "X3 = da.linalg.inv(X2)\n",
        "X4 = da.linalg.norm(X3, axis=0)\n",
        "print(X4.compute())"
      ]
    },
    {
      "cell_type": "markdown",
      "id": "7fed624a",
      "metadata": {
        "id": "7fed624a"
      },
      "source": [
        "Podemos concatenar arreglos de la misma forma que en un arreglo de `numpy` con la función `concatenate`, veamos un ejemplo con los siguientes arreglos:"
      ]
    },
    {
      "cell_type": "code",
      "execution_count": 52,
      "id": "0a158c0a",
      "metadata": {
        "id": "0a158c0a",
        "colab": {
          "base_uri": "https://localhost:8080/"
        },
        "outputId": "d481343b-fee4-46fb-8a1a-68a81581c43b"
      },
      "outputs": [
        {
          "output_type": "stream",
          "name": "stdout",
          "text": [
            "dask.array<normal, shape=(20, 10), dtype=float64, chunksize=(10, 10), chunktype=numpy.ndarray>\n"
          ]
        }
      ],
      "source": [
        "X1 = da.random.normal(size=(20, 10), chunks=(10, 10))\n",
        "print(X1)"
      ]
    },
    {
      "cell_type": "code",
      "execution_count": 53,
      "id": "bf71c4cc",
      "metadata": {
        "id": "bf71c4cc",
        "colab": {
          "base_uri": "https://localhost:8080/"
        },
        "outputId": "3fb4d2a0-a0e9-4e79-f4f0-c97e33b2c878"
      },
      "outputs": [
        {
          "output_type": "stream",
          "name": "stdout",
          "text": [
            "dask.array<normal, shape=(20, 20), dtype=float64, chunksize=(10, 20), chunktype=numpy.ndarray>\n"
          ]
        }
      ],
      "source": [
        "X2 = da.random.normal(size=(20, 20), chunks=(10, 20))\n",
        "print(X2)"
      ]
    },
    {
      "cell_type": "markdown",
      "id": "b034bcd4",
      "metadata": {
        "id": "b034bcd4"
      },
      "source": [
        "Veamos la concatenación:"
      ]
    },
    {
      "cell_type": "code",
      "execution_count": 54,
      "id": "29c8dd2c",
      "metadata": {
        "id": "29c8dd2c",
        "colab": {
          "base_uri": "https://localhost:8080/"
        },
        "outputId": "b2e0f376-65a1-40cc-a301-b9728aac2181"
      },
      "outputs": [
        {
          "output_type": "stream",
          "name": "stdout",
          "text": [
            "dask.array<concatenate, shape=(20, 30), dtype=float64, chunksize=(10, 20), chunktype=numpy.ndarray>\n"
          ]
        }
      ],
      "source": [
        "X3 = da.concatenate([X1, X2], axis=1)\n",
        "print(X3)"
      ]
    },
    {
      "cell_type": "markdown",
      "id": "92d16dc6",
      "metadata": {
        "id": "92d16dc6"
      },
      "source": [
        "## **6. Indexación**\n",
        "---\n",
        "\n",
        "Podemos indexar los arreglos de `dask` siguiendo la misma notación que usamos en los arreglos de `numpy`, veamos un ejemplo sobre el siguiente arreglo:"
      ]
    },
    {
      "cell_type": "code",
      "execution_count": 55,
      "id": "404357c5",
      "metadata": {
        "id": "404357c5",
        "colab": {
          "base_uri": "https://localhost:8080/"
        },
        "outputId": "05962f0f-7ba2-450f-b1a8-fa3127e04a72"
      },
      "outputs": [
        {
          "output_type": "stream",
          "name": "stdout",
          "text": [
            "dask.array<normal, shape=(100, 10), dtype=float64, chunksize=(10, 10), chunktype=numpy.ndarray>\n"
          ]
        }
      ],
      "source": [
        "X = da.random.normal(size=(100, 10), chunks=(10, 10))\n",
        "print(X)"
      ]
    },
    {
      "cell_type": "markdown",
      "id": "60fe5863",
      "metadata": {
        "id": "60fe5863"
      },
      "source": [
        "Podemos seleccionar la primer fila:"
      ]
    },
    {
      "cell_type": "code",
      "execution_count": 56,
      "id": "3cd15383",
      "metadata": {
        "id": "3cd15383",
        "colab": {
          "base_uri": "https://localhost:8080/"
        },
        "outputId": "d5b78b77-6007-4106-957e-bc80f2b1da14"
      },
      "outputs": [
        {
          "output_type": "stream",
          "name": "stdout",
          "text": [
            "dask.array<getitem, shape=(10,), dtype=float64, chunksize=(10,), chunktype=numpy.ndarray>\n"
          ]
        }
      ],
      "source": [
        "x_0 = X[0]\n",
        "print(x_0)"
      ]
    },
    {
      "cell_type": "markdown",
      "id": "bdb446e3",
      "metadata": {
        "id": "bdb446e3"
      },
      "source": [
        "Con `:` podemos seleccionar la primer columna:"
      ]
    },
    {
      "cell_type": "code",
      "execution_count": 57,
      "id": "aa5d8013",
      "metadata": {
        "id": "aa5d8013",
        "colab": {
          "base_uri": "https://localhost:8080/"
        },
        "outputId": "88103f7b-e916-472d-9bc3-164dd896e0e0"
      },
      "outputs": [
        {
          "output_type": "stream",
          "name": "stdout",
          "text": [
            "dask.array<getitem, shape=(100,), dtype=float64, chunksize=(10,), chunktype=numpy.ndarray>\n"
          ]
        }
      ],
      "source": [
        "x_0 = X[:, 0]\n",
        "print(x_0)"
      ]
    },
    {
      "cell_type": "markdown",
      "id": "74510c5a",
      "metadata": {
        "id": "74510c5a"
      },
      "source": [
        "También podemos seleccionar rangos valores específicos, por ejemplo, las dos primeras filas y las dos primeras columnas:"
      ]
    },
    {
      "cell_type": "code",
      "execution_count": 58,
      "id": "5b2ed7d1",
      "metadata": {
        "id": "5b2ed7d1",
        "colab": {
          "base_uri": "https://localhost:8080/"
        },
        "outputId": "1acac040-7e4f-4327-db7b-361ed774a582"
      },
      "outputs": [
        {
          "output_type": "stream",
          "name": "stdout",
          "text": [
            "dask.array<getitem, shape=(2, 2), dtype=float64, chunksize=(2, 2), chunktype=numpy.ndarray>\n"
          ]
        }
      ],
      "source": [
        "X2 = X[:2, :2]\n",
        "print(X2)"
      ]
    },
    {
      "cell_type": "markdown",
      "id": "d68b810b",
      "metadata": {
        "id": "d68b810b"
      },
      "source": [
        "De igual forma, podemos seleccionar valores específicos dando una lista de valores, por ejemplo, seleccionamos las filas 0, 3 y 5:"
      ]
    },
    {
      "cell_type": "code",
      "execution_count": 59,
      "id": "6da12583",
      "metadata": {
        "id": "6da12583",
        "colab": {
          "base_uri": "https://localhost:8080/"
        },
        "outputId": "d8f7d1cb-44be-49f2-a737-ee37c63148d7"
      },
      "outputs": [
        {
          "output_type": "stream",
          "name": "stdout",
          "text": [
            "dask.array<getitem, shape=(3, 10), dtype=float64, chunksize=(3, 10), chunktype=numpy.ndarray>\n"
          ]
        }
      ],
      "source": [
        "X2 = X[[0, 3, 5]]\n",
        "print(X2)"
      ]
    },
    {
      "cell_type": "markdown",
      "id": "e48e013f",
      "metadata": {
        "id": "e48e013f"
      },
      "source": [
        "También podemos aplicar selección condicional:"
      ]
    },
    {
      "cell_type": "code",
      "execution_count": 60,
      "id": "017badf6",
      "metadata": {
        "id": "017badf6",
        "colab": {
          "base_uri": "https://localhost:8080/"
        },
        "outputId": "66fd1dd5-98d0-4b47-9b10-bf72a4cde959"
      },
      "outputs": [
        {
          "output_type": "stream",
          "name": "stdout",
          "text": [
            "dask.array<getitem, shape=(nan,), dtype=float64, chunksize=(nan,), chunktype=numpy.ndarray>\n"
          ]
        }
      ],
      "source": [
        "X2 = X[X > 0]\n",
        "print(X2)"
      ]
    },
    {
      "cell_type": "markdown",
      "id": "8541b1d4",
      "metadata": {
        "id": "8541b1d4"
      },
      "source": [
        "Evaluemos el resultado:"
      ]
    },
    {
      "cell_type": "code",
      "execution_count": 61,
      "id": "1360b8d4",
      "metadata": {
        "id": "1360b8d4",
        "colab": {
          "base_uri": "https://localhost:8080/"
        },
        "outputId": "6447d29e-22e4-483f-bf3d-6df6e8b4abca"
      },
      "outputs": [
        {
          "output_type": "stream",
          "name": "stdout",
          "text": [
            "[8.27897574e-01 4.59375002e-01 6.53593108e-01 6.06529449e-01\n",
            " 8.85215768e-01 1.58955368e-01 9.23577241e-01 3.82364144e-01\n",
            " 1.70869044e+00 3.92238116e-01 1.14270021e+00 6.92450891e-01\n",
            " 1.75088683e+00 1.77755031e+00 1.26611000e+00 3.52882038e-01\n",
            " 1.90295508e-02 1.86454120e+00 1.02777146e-01 6.26954935e-01\n",
            " 1.05801868e+00 4.50862525e-01 8.91626198e-01 1.02083512e-01\n",
            " 2.28867564e+00 2.64505322e+00 1.65167908e+00 2.07946024e+00\n",
            " 2.30293137e-01 1.26860883e+00 7.29012060e-01 3.05736853e-01\n",
            " 6.17890042e-01 2.75712374e-01 1.46474413e+00 9.58341712e-01\n",
            " 2.01488923e-01 1.28926319e+00 3.32372883e-01 7.57982451e-01\n",
            " 8.51627570e-01 4.44994095e-01 1.09683472e-01 8.20535054e-01\n",
            " 5.44228405e-01 1.14757467e+00 2.29952747e-01 8.99396582e-01\n",
            " 8.01394975e-02 1.50949129e+00 1.07816775e+00 1.69651392e-01\n",
            " 6.30205547e-01 1.07104684e+00 1.16069669e+00 3.81233265e-01\n",
            " 1.59113641e+00 1.10172750e+00 1.29314765e+00 2.85604324e-01\n",
            " 2.48559556e+00 1.02986004e+00 2.00645704e-01 1.49490780e+00\n",
            " 5.70440661e-01 1.18539995e+00 1.80840733e+00 3.31956148e-01\n",
            " 1.84538719e-01 5.36842816e-02 1.07157354e+00 6.98492839e-01\n",
            " 7.79049848e-01 5.27867914e-01 2.33824466e-01 5.10484166e-01\n",
            " 1.12802432e-01 9.06934722e-01 4.84613698e-01 1.07078929e+00\n",
            " 1.47039772e+00 2.53204709e-01 1.23758288e+00 2.14460225e-01\n",
            " 1.43360532e+00 3.51983950e-01 8.85815370e-01 7.30275225e-01\n",
            " 9.80132945e-01 1.63657032e+00 9.11079619e-01 9.25358633e-01\n",
            " 1.74368359e+00 5.86100080e-01 7.25160328e-01 7.68911865e-01\n",
            " 1.33922573e+00 1.59624610e-01 8.97778744e-02 1.40778934e-01\n",
            " 1.15533216e+00 5.56137823e-01 4.38372351e-01 4.81709898e-01\n",
            " 8.90177426e-02 4.58510997e-01 3.35620307e-02 5.98121031e-01\n",
            " 1.02619735e+00 3.90290828e-01 3.98465373e-01 5.54961171e-01\n",
            " 1.94943502e+00 2.27109500e-01 9.69357805e-01 3.61283196e+00\n",
            " 2.29518490e+00 1.44728960e+00 6.10272861e-01 1.87275280e-01\n",
            " 2.10654119e-01 4.57205806e-01 8.19036053e-01 1.61936737e+00\n",
            " 1.44005860e+00 1.69924943e-01 1.69477845e+00 3.69755760e-01\n",
            " 6.16356068e-01 4.37083601e-01 1.94031164e+00 1.74172097e+00\n",
            " 9.74371991e-01 9.91150831e-01 6.69634924e-03 1.44153662e+00\n",
            " 1.36442736e-02 1.36160758e-02 9.36415458e-02 5.79029808e-01\n",
            " 2.54115439e-01 3.73250419e-01 6.96225721e-01 1.01233792e-01\n",
            " 3.56373344e-01 1.34462211e+00 5.35452453e-01 1.37476977e+00\n",
            " 2.54495696e-01 1.50773816e+00 6.96719022e-01 3.44247866e-03\n",
            " 1.84992191e-01 4.52413803e-01 3.70677407e-01 1.17750943e+00\n",
            " 7.52166336e-02 8.49915492e-01 5.82104833e-01 2.12059617e+00\n",
            " 4.44288014e-01 9.03255059e-01 1.06264388e+00 4.33160086e-01\n",
            " 6.05923960e-01 3.69715465e-01 2.95295415e-01 1.27496701e+00\n",
            " 1.93302764e+00 3.45202475e-01 1.80368042e-02 3.37108101e-01\n",
            " 6.88578169e-01 8.25707703e-01 1.09023656e+00 8.58293241e-01\n",
            " 1.72028412e-01 2.70667171e-02 7.87249875e-02 3.66519380e-01\n",
            " 1.06134101e-01 9.04722322e-01 1.71152666e+00 8.28918848e-01\n",
            " 3.82426654e-01 1.07629531e+00 1.98515443e-01 1.48779190e+00\n",
            " 5.55487220e-01 1.06340690e+00 1.15281353e+00 5.71120894e-01\n",
            " 1.40945406e+00 1.32662454e-01 7.68880284e-03 2.78137001e+00\n",
            " 3.01911650e-01 1.99958075e+00 1.69937675e+00 1.44826892e+00\n",
            " 4.42056846e-01 3.22544261e-01 1.01857675e+00 2.38282011e-01\n",
            " 3.71589165e-01 8.27364222e-01 4.76542846e-01 2.63955558e+00\n",
            " 2.99284938e-01 1.83012055e+00 5.68454440e-02 5.49121003e-01\n",
            " 4.62824887e-01 2.92975337e-01 6.03216353e-01 1.28603980e+00\n",
            " 3.63359968e-01 7.89665428e-01 1.34016882e+00 3.52051148e-01\n",
            " 1.10639213e+00 5.35621829e-01 2.20457967e-01 3.32235351e-01\n",
            " 9.77847387e-01 3.60459145e-01 2.55453880e-01 4.01400323e-01\n",
            " 1.21703060e+00 1.10996536e+00 1.26901360e+00 2.45892620e-02\n",
            " 3.08747814e-01 6.73265525e-01 2.36968062e-01 3.46276803e-01\n",
            " 5.19726042e-01 3.51353386e-01 4.53258981e-01 1.18896104e+00\n",
            " 8.69619193e-01 1.02763479e-01 5.45905290e-01 2.41147846e-01\n",
            " 5.90930433e-02 3.95004158e-01 4.28231955e-01 1.03297778e+00\n",
            " 1.51759096e+00 1.36561586e+00 4.11487298e-01 2.96535403e-01\n",
            " 7.69613418e-01 1.60778870e+00 1.52054779e+00 7.23549027e-01\n",
            " 1.34063494e+00 2.78123716e-01 1.16060460e+00 2.07349299e+00\n",
            " 2.67690101e+00 1.02202437e+00 1.12144574e+00 9.72047826e-01\n",
            " 9.03074134e-01 2.72112283e+00 6.92531311e-01 2.94560395e-01\n",
            " 1.69445644e+00 1.16552500e+00 9.70436644e-01 8.20351039e-01\n",
            " 5.54686623e-01 1.45586264e+00 3.31247661e-01 3.19013501e-01\n",
            " 5.57299290e-01 9.32962565e-01 1.17905587e+00 4.48354703e-01\n",
            " 2.09954173e+00 4.68833858e-01 7.62147179e-01 1.12348666e-01\n",
            " 1.29349090e+00 8.38313801e-01 7.48955730e-01 1.07354563e+00\n",
            " 1.38380932e+00 7.86848471e-01 2.45273602e-01 8.25859973e-01\n",
            " 1.64469444e+00 2.30054543e+00 2.70190625e+00 1.82044127e+00\n",
            " 2.20972531e-01 1.80113414e+00 2.02274619e+00 9.12973592e-01\n",
            " 8.49323421e-01 3.30700101e-02 2.37248820e-01 1.58598472e+00\n",
            " 1.87398673e+00 1.10335442e-01 2.90967744e-01 1.65207309e+00\n",
            " 4.75207289e-01 1.64741188e-01 7.96888393e-01 3.23986480e-01\n",
            " 1.09712368e+00 1.45719334e+00 1.24498207e-02 1.16454259e+00\n",
            " 6.38566179e-02 1.69067702e+00 1.23702878e+00 8.76124020e-04\n",
            " 1.42995075e+00 5.65747600e-01 5.93118889e-02 2.81302300e-01\n",
            " 6.61582117e-01 9.68158121e-01 2.46042359e-01 2.51063605e-01\n",
            " 1.47135245e+00 2.97964646e-01 9.18122590e-01 9.47568768e-01\n",
            " 1.21813801e+00 1.58877587e+00 1.28209099e-01 6.90633547e-01\n",
            " 4.55796030e-01 3.33496317e+00 7.79326042e-01 4.48491647e-02\n",
            " 5.81923403e-01 1.67909590e+00 2.74422057e-01 1.43159467e+00\n",
            " 7.52910274e-01 1.31572372e+00 2.55775526e-01 1.30008516e+00\n",
            " 1.02260835e+00 2.11208490e+00 4.59161843e-02 1.32117836e+00\n",
            " 1.28850854e+00 1.43216257e+00 2.03902941e-01 1.26992179e+00\n",
            " 2.07116937e-01 4.71190187e-01 2.71423653e-01 4.37092872e-01\n",
            " 1.12359348e+00 1.37441327e+00 8.62747035e-01 1.12268676e+00\n",
            " 1.77933017e+00 8.78984473e-01 1.13903682e+00 3.69114857e-01\n",
            " 1.68221198e-04 6.60481769e-01 2.31440830e+00 1.13753516e+00\n",
            " 1.20187428e+00 4.96879727e-01 1.82946456e-01 2.61236292e-01\n",
            " 7.65025637e-01 2.03247352e+00 2.04488235e-01 6.83870549e-01\n",
            " 4.15628469e-01 3.16607485e-01 2.32675303e-01 1.46140534e+00\n",
            " 8.46584475e-03 6.26132986e-01 2.46243384e+00 8.09569860e-01\n",
            " 1.85899991e-01 1.02542033e+00 2.17910275e+00 9.07918838e-01\n",
            " 4.65373266e-01 1.36828788e-01 4.63424700e-02 6.82891229e-01\n",
            " 4.58246582e-01 4.17128776e-01 2.67708835e-01 3.59087037e-01\n",
            " 1.11404817e+00 9.68859929e-01 1.53950289e+00 1.66840036e+00\n",
            " 1.09419859e+00 7.67152683e-02 1.33346140e+00 9.28779695e-01\n",
            " 1.96892196e-01 4.88235441e-02 1.09466305e+00 5.07904836e-01\n",
            " 8.69713298e-01 3.55843611e-01 9.62516734e-01 1.74585642e+00\n",
            " 7.03112693e-01 1.40403667e+00 1.45887434e-01 1.32155143e+00\n",
            " 1.14627159e+00 8.60546882e-01 6.28134267e-01 1.16826597e+00\n",
            " 1.56146435e+00 3.54387568e-01 7.84662700e-01 1.66362717e+00\n",
            " 1.60146985e+00 2.87953094e-01 9.45606378e-01 9.19594431e-01\n",
            " 9.44462291e-01 2.47044184e-01 9.06777225e-01 6.39140398e-01\n",
            " 3.88394667e-01 8.90956302e-01 1.22481250e+00 1.76213277e+00\n",
            " 1.26882335e+00 4.37355493e-01 6.79058811e-01 4.13881936e-01\n",
            " 2.74297224e-01 8.13003906e-01 4.19856090e-01 2.11750910e+00\n",
            " 8.45980220e-01 1.27051024e+00 9.54813308e-01 8.58162550e-01\n",
            " 5.84941899e-01 1.20895768e-01 1.57300766e+00 7.98197181e-03\n",
            " 1.36130127e+00 2.98810720e-01 4.28699153e-01 4.72815226e-01\n",
            " 3.98387487e-01 2.21814534e-01 1.27965297e+00 1.82273460e-01\n",
            " 2.24830312e-01 9.43592006e-01 7.11830279e-01 9.12618582e-01\n",
            " 1.65906973e+00 1.70461779e+00 4.30649632e-01 7.05205919e-01\n",
            " 5.69510648e-01 1.59416146e+00 7.81693708e-01 1.59626904e-01\n",
            " 1.49113729e-01 4.34683339e-01 1.98591872e+00 1.41252424e-01\n",
            " 8.73426136e-01 5.19217425e-01 1.44908305e-01 6.81625563e-01\n",
            " 1.06514150e+00 3.50551709e-01 1.32138695e-01 3.80105334e-01\n",
            " 2.36652846e+00 1.89914201e-01 8.45001676e-01 2.87929692e-01\n",
            " 6.25882724e-01 4.98751308e-01 7.25097172e-01 6.17967040e-01\n",
            " 1.49016009e-01 3.03269864e-01 1.95182388e+00 4.29886932e-01\n",
            " 4.11085721e-01 1.30880114e+00 1.29232416e+00 4.80811309e-01\n",
            " 1.16879441e-01 1.02830267e+00 3.16912710e-01 2.90733752e-01\n",
            " 4.92356550e-01 6.49022326e-01 3.76649330e-02]\n"
          ]
        }
      ],
      "source": [
        "print(X2.compute())"
      ]
    },
    {
      "cell_type": "markdown",
      "id": "b50a5691",
      "metadata": {
        "id": "b50a5691"
      },
      "source": [
        "Como puede ver, los arreglos de `dask` son una herramienta poderosa que nos permite escalar los arreglos de `numpy` a grandes cantidades de datos y su ejecución de forma distribuida. No obstante, si estamos manejando un conjunto de datos pequeño no es muy recomendable usar `dask`, veamos una comparativa entre las operaciones con `dask` y con `numpy` con una matriz pequeña de `(1000, 1000)` usando la librería `time`:"
      ]
    },
    {
      "cell_type": "code",
      "execution_count": 62,
      "id": "024e7b03",
      "metadata": {
        "id": "024e7b03"
      },
      "outputs": [],
      "source": [
        "import time"
      ]
    },
    {
      "cell_type": "markdown",
      "id": "f827ec62",
      "metadata": {
        "id": "f827ec62"
      },
      "source": [
        "Vamos a implementar un producto matricial desde `numpy` primero y a evaluar el tiempo:"
      ]
    },
    {
      "cell_type": "code",
      "execution_count": 63,
      "id": "04f87546",
      "metadata": {
        "id": "04f87546",
        "colab": {
          "base_uri": "https://localhost:8080/"
        },
        "outputId": "ee1f090e-9362-4f40-fb0f-4dab887d779a"
      },
      "outputs": [
        {
          "output_type": "stream",
          "name": "stdout",
          "text": [
            "0.09443092346191406\n"
          ]
        }
      ],
      "source": [
        "t0 = time.time()\n",
        "X = np.random.uniform(size=(1000, 1000))\n",
        "Y = X @ X\n",
        "delta_t = time.time() - t0\n",
        "print(delta_t)"
      ]
    },
    {
      "cell_type": "markdown",
      "id": "b286654f",
      "metadata": {
        "id": "b286654f"
      },
      "source": [
        "Ahora veamos la misma operación con `dask`:"
      ]
    },
    {
      "cell_type": "code",
      "execution_count": 64,
      "id": "bef87e02",
      "metadata": {
        "id": "bef87e02",
        "colab": {
          "base_uri": "https://localhost:8080/"
        },
        "outputId": "7addb857-7234-4c91-ba0e-aa6fc4af6f75"
      },
      "outputs": [
        {
          "output_type": "stream",
          "name": "stderr",
          "text": [
            "/usr/local/lib/python3.7/dist-packages/dask/array/routines.py:435: PerformanceWarning: Increasing number of chunks by factor of 10\n",
            "  concatenate=False,\n"
          ]
        },
        {
          "output_type": "stream",
          "name": "stdout",
          "text": [
            "0.7282745838165283\n"
          ]
        }
      ],
      "source": [
        "t0 = time.time()\n",
        "X = da.random.uniform(size=(1000, 1000), chunks=(100, 100))\n",
        "Y = (X @ X).compute()\n",
        "delta_t = time.time() - t0\n",
        "print(delta_t)"
      ]
    },
    {
      "cell_type": "markdown",
      "id": "f560d9d4",
      "metadata": {
        "id": "f560d9d4"
      },
      "source": [
        "Como puede ver, la operación con `dask` puede tomar más tiempo. Esto se debe a que `dask` tiene que coordinar y manipular las operaciones entre varios arreglos y luego unir los resultados. Esto tiene beneficios con grandes cantidades de datos pero genera un cuello de botella con datasets pequeños."
      ]
    },
    {
      "cell_type": "markdown",
      "id": "2b97238f",
      "metadata": {
        "id": "2b97238f"
      },
      "source": [
        "## **7. Recursos Adicionales**\n",
        "---\n",
        "\n",
        "* [Arreglos de Dask](https://docs.dask.org/en/stable/array.html).\n",
        "* [Dask - Talks & tutorials](https://docs.dask.org/en/stable/presentations.html)."
      ]
    },
    {
      "cell_type": "markdown",
      "id": "fd2356ac",
      "metadata": {
        "id": "fd2356ac"
      },
      "source": [
        "## **8. Créditos**\n",
        "---\n",
        "\n",
        "**Profesor**\n",
        "\n",
        "- [Jorge E. Camargo, PhD](https://dis.unal.edu.co/~jecamargom/)\n",
        "\n",
        "**Diseño, desarrollo del notebook y material audiovisual**\n",
        "\n",
        "- [Juan S. Lara MSc](https://www.linkedin.com/in/juan-sebastian-lara-ramirez-43570a214/)\n",
        "\n",
        "**Universidad Nacional de Colombia** - *Facultad de Ingeniería*"
      ]
    }
  ],
  "metadata": {
    "jupytext": {
      "cell_metadata_filter": "-all",
      "main_language": "python",
      "notebook_metadata_filter": "-all"
    },
    "colab": {
      "provenance": []
    },
    "language_info": {
      "name": "python"
    },
    "kernelspec": {
      "name": "python3",
      "display_name": "Python 3"
    },
    "gpuClass": "standard"
  },
  "nbformat": 4,
  "nbformat_minor": 5
}