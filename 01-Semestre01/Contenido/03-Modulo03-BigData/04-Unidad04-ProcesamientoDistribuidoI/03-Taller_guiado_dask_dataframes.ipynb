{
  "cells": [
    {
      "cell_type": "markdown",
      "id": "cdfbfeb7",
      "metadata": {
        "id": "cdfbfeb7"
      },
      "source": [
        "<img src=\"https://drive.google.com/uc?export=view&id=1YjAWn06OMcVhlyixBZBDnY17rnn7Otg5\" width=\"100%\">"
      ]
    },
    {
      "cell_type": "markdown",
      "id": "c22ed3f4",
      "metadata": {
        "id": "c22ed3f4"
      },
      "source": [
        "# Dataframes de Dask\n",
        "\n",
        "En este notebook veremos una introducción práctica al procesamiento distribuido con la librería `dask`, primero lo instalaremos:"
      ]
    },
    {
      "cell_type": "code",
      "execution_count": 1,
      "id": "002045e0",
      "metadata": {
        "id": "002045e0",
        "colab": {
          "base_uri": "https://localhost:8080/"
        },
        "outputId": "551f698a-8cc2-4483-a382-7ff4f8998d39"
      },
      "outputs": [
        {
          "output_type": "stream",
          "name": "stdout",
          "text": [
            "Looking in indexes: https://pypi.org/simple, https://us-python.pkg.dev/colab-wheels/public/simple/\n",
            "Requirement already satisfied: dask[complete] in /usr/local/lib/python3.7/dist-packages (2022.2.0)\n",
            "Requirement already satisfied: h5py in /usr/local/lib/python3.7/dist-packages (3.1.0)\n",
            "Requirement already satisfied: numpy>=1.14.5 in /usr/local/lib/python3.7/dist-packages (from h5py) (1.21.6)\n",
            "Requirement already satisfied: cached-property in /usr/local/lib/python3.7/dist-packages (from h5py) (1.5.2)\n",
            "Requirement already satisfied: cloudpickle>=1.1.1 in /usr/local/lib/python3.7/dist-packages (from dask[complete]) (1.5.0)\n",
            "Requirement already satisfied: pyyaml>=5.3.1 in /usr/local/lib/python3.7/dist-packages (from dask[complete]) (6.0)\n",
            "Requirement already satisfied: partd>=0.3.10 in /usr/local/lib/python3.7/dist-packages (from dask[complete]) (1.3.0)\n",
            "Requirement already satisfied: toolz>=0.8.2 in /usr/local/lib/python3.7/dist-packages (from dask[complete]) (0.12.0)\n",
            "Requirement already satisfied: fsspec>=0.6.0 in /usr/local/lib/python3.7/dist-packages (from dask[complete]) (2022.11.0)\n",
            "Requirement already satisfied: packaging>=20.0 in /usr/local/lib/python3.7/dist-packages (from dask[complete]) (21.3)\n",
            "Requirement already satisfied: bokeh>=2.1.1 in /usr/local/lib/python3.7/dist-packages (from dask[complete]) (2.3.3)\n",
            "Requirement already satisfied: distributed==2022.02.0 in /usr/local/lib/python3.7/dist-packages (from dask[complete]) (2022.2.0)\n",
            "Requirement already satisfied: jinja2 in /usr/local/lib/python3.7/dist-packages (from dask[complete]) (2.11.3)\n",
            "Requirement already satisfied: pandas>=1.0 in /usr/local/lib/python3.7/dist-packages (from dask[complete]) (1.3.5)\n",
            "Requirement already satisfied: click>=6.6 in /usr/local/lib/python3.7/dist-packages (from distributed==2022.02.0->dask[complete]) (7.1.2)\n",
            "Requirement already satisfied: tornado>=5 in /usr/local/lib/python3.7/dist-packages (from distributed==2022.02.0->dask[complete]) (6.0.4)\n",
            "Requirement already satisfied: psutil>=5.0 in /usr/local/lib/python3.7/dist-packages (from distributed==2022.02.0->dask[complete]) (5.4.8)\n",
            "Requirement already satisfied: msgpack>=0.6.0 in /usr/local/lib/python3.7/dist-packages (from distributed==2022.02.0->dask[complete]) (1.0.4)\n",
            "Requirement already satisfied: sortedcontainers!=2.0.0,!=2.0.1 in /usr/local/lib/python3.7/dist-packages (from distributed==2022.02.0->dask[complete]) (2.4.0)\n",
            "Requirement already satisfied: tblib>=1.6.0 in /usr/local/lib/python3.7/dist-packages (from distributed==2022.02.0->dask[complete]) (1.7.0)\n",
            "Requirement already satisfied: zict>=0.1.3 in /usr/local/lib/python3.7/dist-packages (from distributed==2022.02.0->dask[complete]) (2.2.0)\n",
            "Requirement already satisfied: setuptools in /usr/local/lib/python3.7/dist-packages (from distributed==2022.02.0->dask[complete]) (57.4.0)\n",
            "Requirement already satisfied: pillow>=7.1.0 in /usr/local/lib/python3.7/dist-packages (from bokeh>=2.1.1->dask[complete]) (7.1.2)\n",
            "Requirement already satisfied: typing-extensions>=3.7.4 in /usr/local/lib/python3.7/dist-packages (from bokeh>=2.1.1->dask[complete]) (4.1.1)\n",
            "Requirement already satisfied: python-dateutil>=2.1 in /usr/local/lib/python3.7/dist-packages (from bokeh>=2.1.1->dask[complete]) (2.8.2)\n",
            "Requirement already satisfied: MarkupSafe>=0.23 in /usr/local/lib/python3.7/dist-packages (from jinja2->dask[complete]) (2.0.1)\n",
            "Requirement already satisfied: pyparsing!=3.0.5,>=2.0.2 in /usr/local/lib/python3.7/dist-packages (from packaging>=20.0->dask[complete]) (3.0.9)\n",
            "Requirement already satisfied: pytz>=2017.3 in /usr/local/lib/python3.7/dist-packages (from pandas>=1.0->dask[complete]) (2022.6)\n",
            "Requirement already satisfied: locket in /usr/local/lib/python3.7/dist-packages (from partd>=0.3.10->dask[complete]) (1.0.0)\n",
            "Requirement already satisfied: six>=1.5 in /usr/local/lib/python3.7/dist-packages (from python-dateutil>=2.1->bokeh>=2.1.1->dask[complete]) (1.15.0)\n",
            "Requirement already satisfied: heapdict in /usr/local/lib/python3.7/dist-packages (from zict>=0.1.3->distributed==2022.02.0->dask[complete]) (1.0.1)\n"
          ]
        }
      ],
      "source": [
        "!pip install dask[complete] h5py"
      ]
    },
    {
      "cell_type": "markdown",
      "id": "8b9fd64c",
      "metadata": {
        "id": "8b9fd64c"
      },
      "source": [
        "## **1. ¿Qué son los DataFrames de Dask?**\n",
        "---\n",
        "\n",
        "Los DataFrames de `dask` son una estructura de datos tabular que está compuesta de múltiples DataFrames de `pandas`:\n",
        "\n",
        "<img src=\"https://drive.google.com/uc?export=view&id=1UCpyAI0-9KfNyNfWTq84ltSTEU59862N\" width=\"70%\">\n",
        "\n",
        "Este tipo de estructura de datos permite coordinar, paralelizar y distribuir series y dataframes de `pandas`, dándonos una forma de uso muy similar a los `pd.DataFrame`.\n",
        "\n",
        "Generalmente usamos los `DataFrame` de `dask` cuando:\n",
        "\n",
        "* Tenemos conjuntos de datos grandes que no caben en la memoria RAM.\n",
        "* Queremos acelerar operaciones sobre datasets usando varios núcleos de un computador o varios nodos.\n",
        "\n",
        "Veamos los detalles de este tipo de estructuras. Primero importamos el módulo para usar DataFrames:"
      ]
    },
    {
      "cell_type": "code",
      "execution_count": 2,
      "id": "9e5b9e92",
      "metadata": {
        "id": "9e5b9e92"
      },
      "outputs": [],
      "source": [
        "import numpy as np\n",
        "import pandas as pd\n",
        "import dask.dataframe as dd"
      ]
    },
    {
      "cell_type": "markdown",
      "id": "636613c8",
      "metadata": {
        "id": "636613c8"
      },
      "source": [
        "## **2. Creación**\n",
        "---\n",
        "\n",
        "Existen diversas funciones para crear `DataFrames` en `dask`, veamos algunos casos:\n",
        "\n",
        "* `from_pandas`: podemos crear un `DataFrame` de `dask` desde un `pd.DataFrame`:"
      ]
    },
    {
      "cell_type": "code",
      "execution_count": 3,
      "id": "8d9306bd",
      "metadata": {
        "id": "8d9306bd",
        "colab": {
          "base_uri": "https://localhost:8080/"
        },
        "outputId": "34fd4865-43b7-4492-ef00-4a539cfa50b6"
      },
      "outputs": [
        {
          "output_type": "stream",
          "name": "stdout",
          "text": [
            "           A  B\n",
            "0   0.788902  3\n",
            "1  -0.881308  1\n",
            "2  -0.081425  1\n",
            "3   0.188149  1\n",
            "4   0.324244  2\n",
            "..       ... ..\n",
            "95 -0.537219  1\n",
            "96 -0.553918  4\n",
            "97  0.797362  4\n",
            "98 -0.043168  2\n",
            "99 -0.129599  1\n",
            "\n",
            "[100 rows x 2 columns]\n"
          ]
        }
      ],
      "source": [
        "df = pd.DataFrame(\n",
        "        {\n",
        "            \"A\": np.random.uniform(-1, 1, 100),\n",
        "            \"B\": np.random.randint(1, 5, 100)\n",
        "            },\n",
        "        )\n",
        "print(df)"
      ]
    },
    {
      "cell_type": "markdown",
      "id": "168d3981",
      "metadata": {
        "id": "168d3981"
      },
      "source": [
        "Creamos la tabla en `dask`:"
      ]
    },
    {
      "cell_type": "code",
      "execution_count": 4,
      "id": "ba5fef44",
      "metadata": {
        "id": "ba5fef44",
        "colab": {
          "base_uri": "https://localhost:8080/"
        },
        "outputId": "f1411150-d89e-4dac-8bf8-7683159fdde7"
      },
      "outputs": [
        {
          "output_type": "stream",
          "name": "stdout",
          "text": [
            "Dask DataFrame Structure:\n",
            "                     A      B\n",
            "npartitions=2                \n",
            "0              float64  int64\n",
            "50                 ...    ...\n",
            "99                 ...    ...\n",
            "Dask Name: from_pandas, 2 tasks\n"
          ]
        }
      ],
      "source": [
        "df_dask = dd.from_pandas(df, npartitions=2)\n",
        "print(df_dask)"
      ]
    },
    {
      "cell_type": "markdown",
      "id": "8c537854",
      "metadata": {
        "id": "8c537854"
      },
      "source": [
        "El parámetro `n_partitions` nos permite especificar en cuántos chunks se divide el `DataFrame`, también puede usar el parámetro `chunks` de forma equivalente a los arreglos de `dask`:"
      ]
    },
    {
      "cell_type": "code",
      "execution_count": 5,
      "id": "27c5c4a7",
      "metadata": {
        "id": "27c5c4a7",
        "colab": {
          "base_uri": "https://localhost:8080/"
        },
        "outputId": "7ce977cc-3de9-4d1b-a0ef-085f2eb92f02"
      },
      "outputs": [
        {
          "output_type": "stream",
          "name": "stdout",
          "text": [
            "Dask DataFrame Structure:\n",
            "                      A      B\n",
            "npartitions=10                \n",
            "0               float64  int64\n",
            "10                  ...    ...\n",
            "...                 ...    ...\n",
            "90                  ...    ...\n",
            "99                  ...    ...\n",
            "Dask Name: from_pandas, 10 tasks\n"
          ]
        }
      ],
      "source": [
        "df_dask = dd.from_pandas(df, chunksize=10)\n",
        "print(df_dask)"
      ]
    },
    {
      "cell_type": "markdown",
      "id": "e603c9e9",
      "metadata": {
        "id": "e603c9e9"
      },
      "source": [
        "* `from_array`: permite crear un `DataFrame` a partir de un arreglo de `numpy`:"
      ]
    },
    {
      "cell_type": "code",
      "execution_count": 6,
      "id": "dfb91258",
      "metadata": {
        "id": "dfb91258",
        "colab": {
          "base_uri": "https://localhost:8080/"
        },
        "outputId": "4d722edd-65df-4b24-b724-62303ff28e99"
      },
      "outputs": [
        {
          "output_type": "stream",
          "name": "stdout",
          "text": [
            "Dask DataFrame Structure:\n",
            "                 grade    value\n",
            "npartitions=1                  \n",
            "0              float64  float64\n",
            "9                  ...      ...\n",
            "Dask Name: from_array, 1 tasks\n"
          ]
        }
      ],
      "source": [
        "df = dd.from_array(\n",
        "        np.random.uniform(0, 1, size=(10, 2)),\n",
        "        columns=[\"grade\", \"value\"],\n",
        "        )\n",
        "print(df)"
      ]
    },
    {
      "cell_type": "markdown",
      "id": "c2375500",
      "metadata": {
        "id": "c2375500"
      },
      "source": [
        "* `from_dict`: permite crear un `DataFrame` a partir de un diccionario de _Python_:"
      ]
    },
    {
      "cell_type": "code",
      "execution_count": 7,
      "id": "fa2bd2b0",
      "metadata": {
        "id": "fa2bd2b0",
        "colab": {
          "base_uri": "https://localhost:8080/",
          "height": 226
        },
        "outputId": "1cd20c5b-6cc7-4284-85c8-65b6ef518303"
      },
      "outputs": [
        {
          "output_type": "error",
          "ename": "AttributeError",
          "evalue": "ignored",
          "traceback": [
            "\u001b[0;31m---------------------------------------------------------------------------\u001b[0m",
            "\u001b[0;31mAttributeError\u001b[0m                            Traceback (most recent call last)",
            "\u001b[0;32m<ipython-input-7-2fa7e5864038>\u001b[0m in \u001b[0;36m<module>\u001b[0;34m\u001b[0m\n\u001b[1;32m      3\u001b[0m         \u001b[0;34m\"id\"\u001b[0m\u001b[0;34m:\u001b[0m \u001b[0mnp\u001b[0m\u001b[0;34m.\u001b[0m\u001b[0mrandom\u001b[0m\u001b[0;34m.\u001b[0m\u001b[0mrandint\u001b[0m\u001b[0;34m(\u001b[0m\u001b[0;36m100\u001b[0m\u001b[0;34m,\u001b[0m \u001b[0msize\u001b[0m\u001b[0;34m=\u001b[0m\u001b[0;34m(\u001b[0m\u001b[0;36m100\u001b[0m\u001b[0;34m,\u001b[0m\u001b[0;34m)\u001b[0m\u001b[0;34m)\u001b[0m\u001b[0;34m\u001b[0m\u001b[0;34m\u001b[0m\u001b[0m\n\u001b[1;32m      4\u001b[0m         }\n\u001b[0;32m----> 5\u001b[0;31m \u001b[0mdf\u001b[0m \u001b[0;34m=\u001b[0m \u001b[0mdd\u001b[0m\u001b[0;34m.\u001b[0m\u001b[0mfrom_dict\u001b[0m\u001b[0;34m(\u001b[0m\u001b[0mdata\u001b[0m\u001b[0;34m,\u001b[0m \u001b[0mnpartitions\u001b[0m\u001b[0;34m=\u001b[0m\u001b[0;36m2\u001b[0m\u001b[0;34m)\u001b[0m\u001b[0;34m\u001b[0m\u001b[0;34m\u001b[0m\u001b[0m\n\u001b[0m\u001b[1;32m      6\u001b[0m \u001b[0mprint\u001b[0m\u001b[0;34m(\u001b[0m\u001b[0mdf\u001b[0m\u001b[0;34m)\u001b[0m\u001b[0;34m\u001b[0m\u001b[0;34m\u001b[0m\u001b[0m\n",
            "\u001b[0;31mAttributeError\u001b[0m: module 'dask.dataframe' has no attribute 'from_dict'"
          ]
        }
      ],
      "source": [
        "data = {\n",
        "        \"grades\": np.random.uniform(0, 5, 100),\n",
        "        \"id\": np.random.randint(100, size=(100,))\n",
        "        }\n",
        "df = dd.from_dict(data, npartitions=2)\n",
        "print(df)"
      ]
    },
    {
      "cell_type": "markdown",
      "id": "b221e819",
      "metadata": {
        "id": "b221e819"
      },
      "source": [
        "Como vimos, es posible crear `DataFrames` de `dask` desde multiples estructuras de datos clásicas de _Python_, no obstante, estos enfoques requieren que los datos estén en la memoria RAM (lo cual es imposible con grandes cantidades de datos). Por ello, normalmente estaremos creando `DataFrames` de `dask` por medio de funciones de lectura para distintos tipos de formatos de datos tabulares, algunos ejemplos comunes son:\n",
        "\n",
        "* `dd.read_csv`: funciona igual que la función de `pandas` (tiene los mismos parámetros), no obstante, agrega el parámetro `blocksize` (tamaño de las particiones en bytes) para controlar las particiones.\n",
        "* `dd.read_json`: funciona igual que la función de `pandas` y también agrega el parámetro `blocksize`.\n",
        "* `dd.read_sql_query`: funciona igual que la función `pd.read_sql` pero agrega el parámetro `npartitions` para controlar el número de particiones.\n",
        "* `dd.read_parquet`: permite cargar archivos en formato `parquet`, el cual es un tipo de formato que ya viene particionado y resulta ser muy compatible con `dask` como lo veremos más adelante.\n",
        "\n",
        "Veamos un ejemplo donde cargamos un conjunto de datos desde `dask`. Usaremos el conjunto de datos [Netflix Data: Cleaning, Analysis and Visualization](https://www.kaggle.com/datasets/ariyoomotade/netflix-data-cleaning-analysis-and-visualization), el cual incluye información acerca del contenido añadido a la plataforma de streaming *Netflix* entre el $2008$ y el $2021$. Está conformado por 10 columnas, las cuales son:\n",
        "\n",
        "* `show_id`: corresponde a la llave primaria de la tabla. Tiene un formato establecido el cual corresponde a una <i>s</i> seguida de un número en secuencia, por ejemplo: s34.\n",
        "* `type`: indica el tipo de show ofrecido (Película o Serie).\n",
        "* `title`: señala el nombre de la serie o la película.\n",
        "* `director`: indica el nombre de quién dirigió la película o serie.\n",
        "* `country`: indica el lugar de producción del show.\n",
        "* `date_added`: muestra la fecha de publicación de la serie o película en la plataforma con el formato <i>MMMMMM DD, AAAA</i>.\n",
        "* `release_year`: muestra el año de publicación original de la película o serie.\n",
        "* `rating`: muestra las calificaciones o el nivel de conveniencia de la película según su contenido, por ejemplo: PG-13, TV-PG, etc.\n",
        "* `duration`: corresponde a la duración en minutos en el caso de las películas y la cantidad de temporadas en el caso de las series.\n",
        "* `listed_in`: indica el género o categoría donde se clasifica la serie o película dentro de la plataforma.\n",
        "\n",
        "Primero, descargamos el conjunto de datos:"
      ]
    },
    {
      "cell_type": "code",
      "execution_count": 8,
      "id": "dd9c6be6",
      "metadata": {
        "id": "dd9c6be6",
        "colab": {
          "base_uri": "https://localhost:8080/"
        },
        "outputId": "0ed68607-1d70-4de2-fceb-d08f851dad04"
      },
      "outputs": [
        {
          "output_type": "stream",
          "name": "stdout",
          "text": [
            "--2022-11-21 21:37:16--  https://drive.google.com/uc?export=view&id=1sgr_sNm1UPjVTV0PbjcVAgLduO9yt15g\n",
            "Resolving drive.google.com (drive.google.com)... 142.251.2.139, 142.251.2.113, 142.251.2.100, ...\n",
            "Connecting to drive.google.com (drive.google.com)|142.251.2.139|:443... connected.\n",
            "HTTP request sent, awaiting response... 303 See Other\n",
            "Location: https://doc-14-4g-docs.googleusercontent.com/docs/securesc/ha0ro937gcuc7l7deffksulhg5h7mbp1/nkj8341jruea1ocbaq8s1mb76t182mld/1669066575000/16848862265445619282/*/1sgr_sNm1UPjVTV0PbjcVAgLduO9yt15g?e=view&uuid=8370f003-2bea-4112-a7fd-76148f2c8abc [following]\n",
            "Warning: wildcards not supported in HTTP.\n",
            "--2022-11-21 21:37:17--  https://doc-14-4g-docs.googleusercontent.com/docs/securesc/ha0ro937gcuc7l7deffksulhg5h7mbp1/nkj8341jruea1ocbaq8s1mb76t182mld/1669066575000/16848862265445619282/*/1sgr_sNm1UPjVTV0PbjcVAgLduO9yt15g?e=view&uuid=8370f003-2bea-4112-a7fd-76148f2c8abc\n",
            "Resolving doc-14-4g-docs.googleusercontent.com (doc-14-4g-docs.googleusercontent.com)... 142.251.2.132, 2607:f8b0:4023:c0d::84\n",
            "Connecting to doc-14-4g-docs.googleusercontent.com (doc-14-4g-docs.googleusercontent.com)|142.251.2.132|:443... connected.\n",
            "HTTP request sent, awaiting response... 200 OK\n",
            "Length: 377528 (369K) [application/zip]\n",
            "Saving to: ‘netflix2.zip’\n",
            "\n",
            "netflix2.zip        100%[===================>] 368.68K  --.-KB/s    in 0.004s  \n",
            "\n",
            "2022-11-21 21:37:17 (89.9 MB/s) - ‘netflix2.zip’ saved [377528/377528]\n",
            "\n"
          ]
        }
      ],
      "source": [
        "!wget 'https://drive.google.com/uc?export=view&id=1sgr_sNm1UPjVTV0PbjcVAgLduO9yt15g' -O 'netflix2.zip'"
      ]
    },
    {
      "cell_type": "markdown",
      "id": "f4321fab",
      "metadata": {
        "id": "f4321fab"
      },
      "source": [
        "Ahora, lo descomprimimos:"
      ]
    },
    {
      "cell_type": "code",
      "execution_count": 9,
      "id": "d0c0f650",
      "metadata": {
        "id": "d0c0f650",
        "colab": {
          "base_uri": "https://localhost:8080/"
        },
        "outputId": "cbfa5fe2-48bd-46a7-946f-2fc08a50a300"
      },
      "outputs": [
        {
          "output_type": "stream",
          "name": "stdout",
          "text": [
            "Archive:  netflix2.zip\n",
            "   creating: netflix2.parquet/\n",
            "  inflating: netflix2.parquet/part.14.parquet  \n",
            "  inflating: netflix2.parquet/part.9.parquet  \n",
            "  inflating: netflix2.parquet/part.16.parquet  \n",
            "  inflating: netflix2.parquet/part.1.parquet  \n",
            "  inflating: netflix2.parquet/part.0.parquet  \n",
            "  inflating: netflix2.parquet/part.3.parquet  \n",
            "  inflating: netflix2.parquet/part.10.parquet  \n",
            "  inflating: netflix2.parquet/part.19.parquet  \n",
            "  inflating: netflix2.parquet/part.2.parquet  \n",
            "  inflating: netflix2.parquet/part.15.parquet  \n",
            "  inflating: netflix2.parquet/part.8.parquet  \n",
            "  inflating: netflix2.parquet/part.18.parquet  \n",
            "  inflating: netflix2.parquet/part.4.parquet  \n",
            "  inflating: netflix2.parquet/part.13.parquet  \n",
            "  inflating: netflix2.parquet/part.7.parquet  \n",
            "  inflating: netflix2.parquet/part.6.parquet  \n",
            "  inflating: netflix2.parquet/part.12.parquet  \n",
            "  inflating: netflix2.parquet/part.17.parquet  \n",
            "  inflating: netflix2.parquet/part.11.parquet  \n",
            "  inflating: netflix2.parquet/part.5.parquet  \n"
          ]
        }
      ],
      "source": [
        "![[ -d 'netflix2.parquet' ]] && rm -rf 'netflix2.parquet'\n",
        "!unzip 'netflix2.zip'"
      ]
    },
    {
      "cell_type": "markdown",
      "id": "37486152",
      "metadata": {
        "id": "37486152"
      },
      "source": [
        "## **3. Apache Parquet**\n",
        "---\n",
        "\n",
        "En este caso, el conjunto de datos se encuentra en formato `parquet`, se trata de un formato de código abierto, orientado a columnas (como _Cassandra_) que está pensado para un almacenamiento eficiente y de rápida lectura:\n",
        "\n",
        "<img src=\"https://drive.google.com/uc?export=view&id=1eVa_GVCe0HYiWmzONc-zx3YFSin_aopx\" width=\"40%\">\n",
        "\n",
        "Este formato tiene tres componentes:\n",
        "\n",
        "* **Header**: guarda información general del archivo (por ejemplo, el id de la partición que estamos manejando).\n",
        "* **Data block**: almacena la información como chunks columnares de los datos.\n",
        "* **Footer**: almacena metadatos del archivo (por ejemplo, fecha de creación, versión del formato, esquema de columnas, tipos, entre otros).\n",
        "\n",
        "Este formato es muy popular hoy en día para almacenar conjuntos de datos por los siguientes motivos:\n",
        "\n",
        "* Almacena los tipos de cada columna.\n",
        "* Es particionado, lo cual facilita la tranferencia de datos.\n",
        "* Se lee bastante rápido, lo cual hace que sea preferido sobre formatos clásicos como `csv` o `excel`.\n",
        "\n",
        "El formato `parquet` es normalmente usado para crear _Data Lakes_. Veamos cómo cargar este conjunto de datos con `dask`:"
      ]
    },
    {
      "cell_type": "code",
      "execution_count": 10,
      "id": "02b947fe",
      "metadata": {
        "id": "02b947fe",
        "colab": {
          "base_uri": "https://localhost:8080/"
        },
        "outputId": "1a8d84a0-0679-4cd3-8e71-ecae1ab45e40"
      },
      "outputs": [
        {
          "output_type": "stream",
          "name": "stdout",
          "text": [
            "Dask DataFrame Structure:\n",
            "               show_id    type   title director country date_added release_year  rating duration listed_in\n",
            "npartitions=20                                                                                            \n",
            "                object  object  object   object  object     object        int64  object   object    object\n",
            "                   ...     ...     ...      ...     ...        ...          ...     ...      ...       ...\n",
            "...                ...     ...     ...      ...     ...        ...          ...     ...      ...       ...\n",
            "                   ...     ...     ...      ...     ...        ...          ...     ...      ...       ...\n",
            "                   ...     ...     ...      ...     ...        ...          ...     ...      ...       ...\n",
            "Dask Name: read-parquet, 20 tasks\n"
          ]
        }
      ],
      "source": [
        "df = dd.read_parquet(\"netflix2.parquet\")\n",
        "print(df)"
      ]
    },
    {
      "cell_type": "markdown",
      "id": "60001c8d",
      "metadata": {
        "id": "60001c8d"
      },
      "source": [
        "Como se puede ver, el archivo ya trae `20` particiones (nativas del formato `parquet`). Veamos algunos detalles de los `DataFrames` de `dask` con este conjunto de datos."
      ]
    },
    {
      "cell_type": "markdown",
      "id": "be01b794",
      "metadata": {
        "id": "be01b794"
      },
      "source": [
        "## **4. Atributos y Propiedades**\n",
        "---\n",
        "\n",
        "Los `DataFrame` de `dask` tienen una forma de uso muy parecida a los de `pandas`, sin embargo, en `dask` no tenemos los resultados cargados directamente en la memoria RAM. Funcionan de una forma muy equivalente a los arreglos de `dask` y terminan siendo promesas de `DataFrame` de `pandas`. Veamos los atributos más comunes que se usan en `dask`:\n",
        "\n",
        "* `columns`: permite obtener el nombre de las columnas del `DataFrame`:"
      ]
    },
    {
      "cell_type": "code",
      "execution_count": 11,
      "id": "11a5f1a3",
      "metadata": {
        "id": "11a5f1a3",
        "colab": {
          "base_uri": "https://localhost:8080/"
        },
        "outputId": "2fe562bb-0756-48fb-ab42-904287f3b974"
      },
      "outputs": [
        {
          "output_type": "stream",
          "name": "stdout",
          "text": [
            "Index(['show_id', 'type', 'title', 'director', 'country', 'date_added',\n",
            "       'release_year', 'rating', 'duration', 'listed_in'],\n",
            "      dtype='object')\n"
          ]
        }
      ],
      "source": [
        "print(df.columns)"
      ]
    },
    {
      "cell_type": "markdown",
      "id": "c2178515",
      "metadata": {
        "id": "c2178515"
      },
      "source": [
        "* `dtypes`: permite extraer los tipos que tiene cada columna del `DataFrame`:"
      ]
    },
    {
      "cell_type": "code",
      "execution_count": 12,
      "id": "168e62d7",
      "metadata": {
        "id": "168e62d7",
        "colab": {
          "base_uri": "https://localhost:8080/"
        },
        "outputId": "13a02cbd-a50c-4cca-995e-a95068c1656c"
      },
      "outputs": [
        {
          "output_type": "stream",
          "name": "stdout",
          "text": [
            "show_id         object\n",
            "type            object\n",
            "title           object\n",
            "director        object\n",
            "country         object\n",
            "date_added      object\n",
            "release_year     int64\n",
            "rating          object\n",
            "duration        object\n",
            "listed_in       object\n",
            "dtype: object\n"
          ]
        }
      ],
      "source": [
        "print(df.dtypes)"
      ]
    },
    {
      "cell_type": "markdown",
      "id": "e0103f72",
      "metadata": {
        "id": "e0103f72"
      },
      "source": [
        "* `shape`: permite extraer el tamaño del `DataFrame`:"
      ]
    },
    {
      "cell_type": "code",
      "execution_count": 13,
      "id": "e8a33d60",
      "metadata": {
        "id": "e8a33d60",
        "colab": {
          "base_uri": "https://localhost:8080/"
        },
        "outputId": "6ea86fc6-0200-4636-e882-2f6ab4596821"
      },
      "outputs": [
        {
          "output_type": "stream",
          "name": "stdout",
          "text": [
            "(Delayed('int-f05d3e22-a67c-49f8-9beb-12bfaeecb9db'), 10)\n"
          ]
        }
      ],
      "source": [
        "print(df.shape)"
      ]
    },
    {
      "cell_type": "markdown",
      "id": "8f2ebd54",
      "metadata": {
        "id": "8f2ebd54"
      },
      "source": [
        "Note que el resultado tiene un tipo `Delayed` que no es directamente un número, esto se debe a que `dask` no conoce qué tamaño va a tener el arreglo en memoria (no ha sido cargado). Podemos calcular el tamaño con el método `compute`:"
      ]
    },
    {
      "cell_type": "code",
      "execution_count": 14,
      "id": "d8713d6b",
      "metadata": {
        "id": "d8713d6b",
        "colab": {
          "base_uri": "https://localhost:8080/"
        },
        "outputId": "c13e2068-7a4b-4de5-8928-e2e90416045c"
      },
      "outputs": [
        {
          "output_type": "stream",
          "name": "stdout",
          "text": [
            "8790\n"
          ]
        }
      ],
      "source": [
        "print(df.shape[0].compute())"
      ]
    },
    {
      "cell_type": "markdown",
      "id": "3d6092a2",
      "metadata": {
        "id": "3d6092a2"
      },
      "source": [
        "* `npartitions`: permite obtener el número de particiones del `DataFrame`:"
      ]
    },
    {
      "cell_type": "code",
      "execution_count": 15,
      "id": "5cceccc2",
      "metadata": {
        "id": "5cceccc2",
        "colab": {
          "base_uri": "https://localhost:8080/"
        },
        "outputId": "fc23a88c-ad6f-4683-ed24-fa286129e2a2"
      },
      "outputs": [
        {
          "output_type": "stream",
          "name": "stdout",
          "text": [
            "20\n"
          ]
        }
      ],
      "source": [
        "print(df.npartitions)"
      ]
    },
    {
      "cell_type": "markdown",
      "id": "17249587",
      "metadata": {
        "id": "17249587"
      },
      "source": [
        "* También podemos acceder a una columna específica por medio de la notación punto, por ejemplo, podemos obtener una serie de `Dask` al acceder a la propiedad `title` (nombre de columna) del `DataFrame`:"
      ]
    },
    {
      "cell_type": "code",
      "execution_count": 16,
      "id": "353ef94a",
      "metadata": {
        "id": "353ef94a",
        "colab": {
          "base_uri": "https://localhost:8080/"
        },
        "outputId": "c48aa36b-ad4e-490c-c8f0-194dd109e585"
      },
      "outputs": [
        {
          "output_type": "stream",
          "name": "stdout",
          "text": [
            "Dask Series Structure:\n",
            "npartitions=20\n",
            "    object\n",
            "       ...\n",
            "     ...  \n",
            "       ...\n",
            "       ...\n",
            "Name: title, dtype: object\n",
            "Dask Name: getitem, 40 tasks\n"
          ]
        }
      ],
      "source": [
        "col = df.title\n",
        "print(col)"
      ]
    },
    {
      "cell_type": "markdown",
      "id": "778e0d99",
      "metadata": {
        "id": "778e0d99"
      },
      "source": [
        "## **5. Métodos**\n",
        "---\n",
        "\n",
        "Los métodos de los `DataFrames` en `dask` tratan de ser lo más cercanos posibles a los métodos en `pandas`.\n",
        "\n",
        "Al igual que con los arreglos de `dask`, hay un método clave que nos permite evaluar los resultados directamente en memoria. Por ejemplo, el siguiente código extrae los primeros `5` registros usando el método `head`:"
      ]
    },
    {
      "cell_type": "code",
      "execution_count": 17,
      "id": "271cd12e",
      "metadata": {
        "id": "271cd12e",
        "colab": {
          "base_uri": "https://localhost:8080/"
        },
        "outputId": "f17fb5cb-982f-4c71-d723-16baf025eb10"
      },
      "outputs": [
        {
          "output_type": "stream",
          "name": "stdout",
          "text": [
            "  show_id     type                             title         director  \\\n",
            "0      s1    movie              dick johnson is dead  kirsten johnson   \n",
            "1      s3  tv show                         ganglands  julien leclercq   \n",
            "2      s6  tv show                     midnight mass    mike flanagan   \n",
            "3     s14    movie  confessions of an invisible girl    bruno garotti   \n",
            "4      s8    movie                           sankofa     haile gerima   \n",
            "\n",
            "         country date_added  release_year rating duration  \\\n",
            "0  united states  9/25/2021          2020     pg      min   \n",
            "1         france  9/24/2021          2021   tvma   season   \n",
            "2  united states  9/24/2021          2021   tvma   season   \n",
            "3         brazil  9/22/2021          2021   tvpg      min   \n",
            "4  united states  9/24/2021          1993   tvma      min   \n",
            "\n",
            "                                           listed_in  \n",
            "0                                      documentaries  \n",
            "1  crime tv shows international tv shows tv actio...  \n",
            "2                   tv dramas tv horror tv mysteries  \n",
            "3                   children  family movies comedies  \n",
            "4     dramas independent movies international movies  \n"
          ]
        }
      ],
      "source": [
        "res = df.head(5)\n",
        "print(res)"
      ]
    },
    {
      "cell_type": "markdown",
      "id": "a6a7e814",
      "metadata": {
        "id": "a6a7e814"
      },
      "source": [
        "El resultado obtenido es un `DataFrame` de `pandas`:"
      ]
    },
    {
      "cell_type": "code",
      "execution_count": 18,
      "id": "c44b3808",
      "metadata": {
        "id": "c44b3808",
        "colab": {
          "base_uri": "https://localhost:8080/"
        },
        "outputId": "d8d64694-f15b-47c0-a6ec-69f378b566bc"
      },
      "outputs": [
        {
          "output_type": "stream",
          "name": "stdout",
          "text": [
            "<class 'pandas.core.frame.DataFrame'>\n"
          ]
        }
      ],
      "source": [
        "print(type(res))"
      ]
    },
    {
      "cell_type": "markdown",
      "id": "0d205156",
      "metadata": {
        "id": "0d205156"
      },
      "source": [
        "Otro método específico en `dask` es `repartition`, el cual permite cambiar el número de particiones de un `DataFrame`:"
      ]
    },
    {
      "cell_type": "code",
      "execution_count": 19,
      "id": "12fdb08c",
      "metadata": {
        "id": "12fdb08c",
        "colab": {
          "base_uri": "https://localhost:8080/"
        },
        "outputId": "38d4e9ca-cc86-4d6e-e60b-c0396af9e243"
      },
      "outputs": [
        {
          "output_type": "stream",
          "name": "stdout",
          "text": [
            "Dask DataFrame Structure:\n",
            "               show_id    type   title director country date_added release_year  rating duration listed_in\n",
            "npartitions=40                                                                                            \n",
            "                object  object  object   object  object     object        int64  object   object    object\n",
            "                   ...     ...     ...      ...     ...        ...          ...     ...      ...       ...\n",
            "...                ...     ...     ...      ...     ...        ...          ...     ...      ...       ...\n",
            "                   ...     ...     ...      ...     ...        ...          ...     ...      ...       ...\n",
            "                   ...     ...     ...      ...     ...        ...          ...     ...      ...       ...\n",
            "Dask Name: repartition, 80 tasks\n"
          ]
        }
      ],
      "source": [
        "df2 = df.repartition(npartitions=40)\n",
        "print(df2)"
      ]
    },
    {
      "cell_type": "markdown",
      "id": "488742ae",
      "metadata": {
        "id": "488742ae"
      },
      "source": [
        "Veamos algunos de los métodos más comunes que se usan con los `DataFrames` de `dask`:\n",
        "\n",
        "* `info`: permite obtener una descripción muy general del `DataFrame` (mucho más compacta que la de `pandas` ya que no hemos cargado el conjunto de datos completo):"
      ]
    },
    {
      "cell_type": "code",
      "execution_count": 20,
      "id": "f2371c5f",
      "metadata": {
        "id": "f2371c5f",
        "colab": {
          "base_uri": "https://localhost:8080/"
        },
        "outputId": "1b731357-9a9e-43b2-90ea-754dc5382da0"
      },
      "outputs": [
        {
          "output_type": "stream",
          "name": "stdout",
          "text": [
            "<class 'dask.dataframe.core.DataFrame'>\n",
            "Columns: 10 entries, show_id to listed_in\n",
            "dtypes: object(9), int64(1)None\n"
          ]
        }
      ],
      "source": [
        "print(df.info())"
      ]
    },
    {
      "cell_type": "markdown",
      "id": "e508937e",
      "metadata": {
        "id": "e508937e"
      },
      "source": [
        "* `describe`: permite obtener estadísticas generales del conjunto de datos. Recuerde que el parámetro `include` funciona como en `pandas` y permite seleccionar los tipos de columnas a describir."
      ]
    },
    {
      "cell_type": "code",
      "execution_count": 21,
      "id": "842cff61",
      "metadata": {
        "id": "842cff61",
        "colab": {
          "base_uri": "https://localhost:8080/"
        },
        "outputId": "be1c97ad-e233-456c-82a8-fba8cb09d1ff"
      },
      "outputs": [
        {
          "output_type": "stream",
          "name": "stdout",
          "text": [
            "Dask DataFrame Structure:\n",
            "              show_id    type   title director country date_added release_year  rating duration listed_in\n",
            "npartitions=1                                                                                            \n",
            "               object  object  object   object  object     object      float64  object   object    object\n",
            "                  ...     ...     ...      ...     ...        ...          ...     ...      ...       ...\n",
            "Dask Name: describe, 830 tasks\n"
          ]
        }
      ],
      "source": [
        "desc = df.describe(include=\"all\")\n",
        "print(desc)"
      ]
    },
    {
      "cell_type": "markdown",
      "id": "b94e7c6d",
      "metadata": {
        "id": "b94e7c6d"
      },
      "source": [
        "Debemos evaluarlo para ver el resultado:"
      ]
    },
    {
      "cell_type": "code",
      "execution_count": 22,
      "id": "0a2d0dc9",
      "metadata": {
        "id": "0a2d0dc9",
        "colab": {
          "base_uri": "https://localhost:8080/"
        },
        "outputId": "30326055-c8a2-4025-8bdb-bf962d0469dc"
      },
      "outputs": [
        {
          "output_type": "stream",
          "name": "stdout",
          "text": [
            "       show_id   type title   director        country date_added  \\\n",
            "unique    8790      2  8716       4526             86       1713   \n",
            "count     8790   8790  8790       8790           8790       8790   \n",
            "top         s1  movie        not given  united states   1/1/2020   \n",
            "freq         1   6126    26       2588           3240        110   \n",
            "mean       NaN    NaN   NaN        NaN            NaN        NaN   \n",
            "std        NaN    NaN   NaN        NaN            NaN        NaN   \n",
            "min        NaN    NaN   NaN        NaN            NaN        NaN   \n",
            "25%        NaN    NaN   NaN        NaN            NaN        NaN   \n",
            "50%        NaN    NaN   NaN        NaN            NaN        NaN   \n",
            "75%        NaN    NaN   NaN        NaN            NaN        NaN   \n",
            "max        NaN    NaN   NaN        NaN            NaN        NaN   \n",
            "\n",
            "        release_year rating duration                    listed_in  \n",
            "unique           NaN     12        3                          513  \n",
            "count    8790.000000   8790     8790                         8790  \n",
            "top              NaN   tvma      min  dramas international movies  \n",
            "freq             NaN   3205     6126                          362  \n",
            "mean     2014.183163    NaN      NaN                          NaN  \n",
            "std         8.825466    NaN      NaN                          NaN  \n",
            "min      1925.000000    NaN      NaN                          NaN  \n",
            "25%      2015.000000    NaN      NaN                          NaN  \n",
            "50%      2018.000000    NaN      NaN                          NaN  \n",
            "75%      2020.000000    NaN      NaN                          NaN  \n",
            "max      2021.000000    NaN      NaN                          NaN  \n"
          ]
        }
      ],
      "source": [
        "print(desc.compute())"
      ]
    },
    {
      "cell_type": "markdown",
      "id": "3db5d17b",
      "metadata": {
        "id": "3db5d17b"
      },
      "source": [
        "* `mean`: permite obtener el promedio por columnas del `DataFrame`:"
      ]
    },
    {
      "cell_type": "code",
      "execution_count": 23,
      "id": "b8330688",
      "metadata": {
        "id": "b8330688",
        "colab": {
          "base_uri": "https://localhost:8080/"
        },
        "outputId": "3e2f0ab4-db24-4442-fca3-1929f4560a1b"
      },
      "outputs": [
        {
          "output_type": "stream",
          "name": "stdout",
          "text": [
            "Dask Series Structure:\n",
            "npartitions=1\n",
            "country    float64\n",
            "type           ...\n",
            "dtype: float64\n",
            "Dask Name: dataframe-mean, 83 tasks\n"
          ]
        },
        {
          "output_type": "stream",
          "name": "stderr",
          "text": [
            "/usr/local/lib/python3.7/dist-packages/dask/dataframe/core.py:1994: FutureWarning: Dropping of nuisance columns in DataFrame reductions (with 'numeric_only=None') is deprecated; in a future version this will raise TypeError.  Select only valid columns before calling the reduction.\n",
            "  meta = self._meta_nonempty.mean(axis=axis, skipna=skipna)\n"
          ]
        }
      ],
      "source": [
        "mean = df.mean()\n",
        "print(mean)"
      ]
    },
    {
      "cell_type": "markdown",
      "id": "9678f800",
      "metadata": {
        "id": "9678f800"
      },
      "source": [
        "Debemos evaluarlo para ver el resultado (únicamente aplica sobre las columnas numéricas):"
      ]
    },
    {
      "cell_type": "code",
      "execution_count": 25,
      "id": "e8c80961",
      "metadata": {
        "id": "e8c80961",
        "colab": {
          "base_uri": "https://localhost:8080/"
        },
        "outputId": "1e5c6be6-02cb-4301-926a-40f14103c13c"
      },
      "outputs": [
        {
          "output_type": "stream",
          "name": "stdout",
          "text": [
            "release_year    2014.183163\n",
            "dtype: float64\n"
          ]
        }
      ],
      "source": [
        "print(mean.compute())"
      ]
    },
    {
      "cell_type": "markdown",
      "id": "68081356",
      "metadata": {
        "id": "68081356"
      },
      "source": [
        "* `std`: permite obtener la desviación estándar por columnas del `DataFrame`:"
      ]
    },
    {
      "cell_type": "code",
      "execution_count": 26,
      "id": "2c17d314",
      "metadata": {
        "id": "2c17d314",
        "colab": {
          "base_uri": "https://localhost:8080/"
        },
        "outputId": "4d6bac69-a75a-4e57-d57b-3bfbed903359"
      },
      "outputs": [
        {
          "output_type": "stream",
          "name": "stdout",
          "text": [
            "Dask Series Structure:\n",
            "npartitions=1\n",
            "country    float64\n",
            "type           ...\n",
            "dtype: float64\n",
            "Dask Name: dataframe-std, 90 tasks\n"
          ]
        },
        {
          "output_type": "stream",
          "name": "stderr",
          "text": [
            "/usr/local/lib/python3.7/dist-packages/dask/dataframe/core.py:2183: FutureWarning: Dropping of nuisance columns in DataFrame reductions (with 'numeric_only=None') is deprecated; in a future version this will raise TypeError.  Select only valid columns before calling the reduction.\n",
            "  meta = self._meta_nonempty.std(axis=axis, skipna=skipna)\n",
            "/usr/local/lib/python3.7/dist-packages/dask/dataframe/core.py:2038: FutureWarning: Dropping of nuisance columns in DataFrame reductions (with 'numeric_only=None') is deprecated; in a future version this will raise TypeError.  Select only valid columns before calling the reduction.\n",
            "  meta = self._meta_nonempty.var(axis=axis, skipna=skipna)\n"
          ]
        }
      ],
      "source": [
        "std = df.std()\n",
        "print(std)"
      ]
    },
    {
      "cell_type": "markdown",
      "id": "79c5e053",
      "metadata": {
        "id": "79c5e053"
      },
      "source": [
        "Debemos evaluarlo para ver el resultado (únicamente aplica sobre las columnas numéricas):"
      ]
    },
    {
      "cell_type": "code",
      "execution_count": 27,
      "id": "b41f8cc6",
      "metadata": {
        "id": "b41f8cc6",
        "colab": {
          "base_uri": "https://localhost:8080/"
        },
        "outputId": "1e61c4bf-62da-4d12-c60a-c5954a28309c"
      },
      "outputs": [
        {
          "output_type": "stream",
          "name": "stdout",
          "text": [
            "release_year    8.825466\n",
            "dtype: float64\n"
          ]
        }
      ],
      "source": [
        "print(std.compute())"
      ]
    },
    {
      "cell_type": "markdown",
      "id": "544dba5b",
      "metadata": {
        "id": "544dba5b"
      },
      "source": [
        "* `value_counts`: permite obtener un recuento de valores en una columna dada:"
      ]
    },
    {
      "cell_type": "code",
      "execution_count": 28,
      "id": "78db7a1f",
      "metadata": {
        "id": "78db7a1f",
        "colab": {
          "base_uri": "https://localhost:8080/"
        },
        "outputId": "49273145-1954-4b7a-c36e-daa0ffb9f390"
      },
      "outputs": [
        {
          "output_type": "stream",
          "name": "stdout",
          "text": [
            "Dask Series Structure:\n",
            "npartitions=1\n",
            "    int64\n",
            "      ...\n",
            "Name: type, dtype: int64\n",
            "Dask Name: value-counts-agg, 64 tasks\n"
          ]
        }
      ],
      "source": [
        "type_counts = df.type.value_counts()\n",
        "print(type_counts)"
      ]
    },
    {
      "cell_type": "markdown",
      "id": "297017b2",
      "metadata": {
        "id": "297017b2"
      },
      "source": [
        "Debemos evaluarlo para ver el resultado:"
      ]
    },
    {
      "cell_type": "code",
      "execution_count": 29,
      "id": "4ddf38a4",
      "metadata": {
        "id": "4ddf38a4",
        "colab": {
          "base_uri": "https://localhost:8080/"
        },
        "outputId": "668932f5-919b-41a8-bb0b-445fe8dd0a3b"
      },
      "outputs": [
        {
          "output_type": "stream",
          "name": "stdout",
          "text": [
            "movie      6126\n",
            "tv show    2664\n",
            "Name: type, dtype: int64\n"
          ]
        }
      ],
      "source": [
        "print(type_counts.compute())"
      ]
    },
    {
      "cell_type": "markdown",
      "id": "27aa8d99",
      "metadata": {
        "id": "27aa8d99"
      },
      "source": [
        "* `rename`: permite cambiar el esquema del `DataFrame`:"
      ]
    },
    {
      "cell_type": "code",
      "execution_count": 30,
      "id": "598dc82a",
      "metadata": {
        "id": "598dc82a",
        "colab": {
          "base_uri": "https://localhost:8080/"
        },
        "outputId": "d8c6cc1b-7565-4d6e-9034-1dd46ecd4d07"
      },
      "outputs": [
        {
          "output_type": "stream",
          "name": "stdout",
          "text": [
            "Index(['show_id', 'type', 'titulo', 'director', 'country', 'date_added',\n",
            "       'release_year', 'rating', 'duration', 'listed_in'],\n",
            "      dtype='object')\n"
          ]
        }
      ],
      "source": [
        "df2 = df.rename(columns={\"title\": \"titulo\"})\n",
        "print(df2.columns)"
      ]
    },
    {
      "cell_type": "markdown",
      "id": "3881bbbe",
      "metadata": {
        "id": "3881bbbe"
      },
      "source": [
        "* `astype`: permite cambiar los tipos:"
      ]
    },
    {
      "cell_type": "code",
      "execution_count": 31,
      "id": "ca036923",
      "metadata": {
        "id": "ca036923",
        "colab": {
          "base_uri": "https://localhost:8080/"
        },
        "outputId": "80399d16-03cc-44e0-93f8-1635941e24d0"
      },
      "outputs": [
        {
          "output_type": "stream",
          "name": "stdout",
          "text": [
            "Dask Series Structure:\n",
            "npartitions=20\n",
            "    string\n",
            "       ...\n",
            "     ...  \n",
            "       ...\n",
            "       ...\n",
            "Name: release_year, dtype: string\n",
            "Dask Name: astype, 60 tasks\n"
          ]
        }
      ],
      "source": [
        "new_col = df.release_year.astype(\"string\")\n",
        "print(new_col)"
      ]
    },
    {
      "cell_type": "markdown",
      "id": "d76e0c89",
      "metadata": {
        "id": "d76e0c89"
      },
      "source": [
        "También funciona sobre varias columnas de un `DataFrame`:"
      ]
    },
    {
      "cell_type": "code",
      "execution_count": 32,
      "id": "f6a5af51",
      "metadata": {
        "id": "f6a5af51",
        "colab": {
          "base_uri": "https://localhost:8080/"
        },
        "outputId": "8b5235b4-c499-4f81-d296-e032279f2c64"
      },
      "outputs": [
        {
          "output_type": "stream",
          "name": "stdout",
          "text": [
            "show_id         object\n",
            "type            object\n",
            "title           string\n",
            "director        object\n",
            "country         object\n",
            "date_added      object\n",
            "release_year    string\n",
            "rating          object\n",
            "duration        object\n",
            "listed_in       object\n",
            "dtype: object\n"
          ]
        }
      ],
      "source": [
        "df2 = df.astype({\"release_year\": \"string\", \"title\": \"string\"})\n",
        "print(df2.dtypes)"
      ]
    },
    {
      "cell_type": "markdown",
      "id": "14573805",
      "metadata": {
        "id": "14573805"
      },
      "source": [
        "* `isna`: permite detectar valores faltantes, por ejemplo, la siguiente celda calcula el número de valores faltantes por columna:"
      ]
    },
    {
      "cell_type": "code",
      "execution_count": 33,
      "id": "1773d5d1",
      "metadata": {
        "id": "1773d5d1",
        "colab": {
          "base_uri": "https://localhost:8080/"
        },
        "outputId": "8e91efbd-46fd-49fb-e033-66625251583d"
      },
      "outputs": [
        {
          "output_type": "stream",
          "name": "stdout",
          "text": [
            "Dask Series Structure:\n",
            "npartitions=1\n",
            "country    int64\n",
            "type         ...\n",
            "dtype: int64\n",
            "Dask Name: dataframe-sum-agg, 61 tasks\n"
          ]
        }
      ],
      "source": [
        "nas = df.isna().sum()\n",
        "print(nas)"
      ]
    },
    {
      "cell_type": "markdown",
      "id": "e98c0678",
      "metadata": {
        "id": "e98c0678"
      },
      "source": [
        "Evaluamos el resultado:"
      ]
    },
    {
      "cell_type": "code",
      "execution_count": 34,
      "id": "d0228f1b",
      "metadata": {
        "id": "d0228f1b",
        "colab": {
          "base_uri": "https://localhost:8080/"
        },
        "outputId": "938d635a-8938-4de6-e388-7e2405632854"
      },
      "outputs": [
        {
          "output_type": "stream",
          "name": "stdout",
          "text": [
            "show_id         0\n",
            "type            0\n",
            "title           0\n",
            "director        0\n",
            "country         0\n",
            "date_added      0\n",
            "release_year    0\n",
            "rating          0\n",
            "duration        0\n",
            "listed_in       0\n",
            "dtype: int64\n"
          ]
        }
      ],
      "source": [
        "print(nas.compute())"
      ]
    },
    {
      "cell_type": "markdown",
      "id": "d5e18d99",
      "metadata": {
        "id": "d5e18d99"
      },
      "source": [
        "* `dropna`: permite eliminar valores faltantes, funciona exactamente como lo hace la función de `pandas`:"
      ]
    },
    {
      "cell_type": "code",
      "execution_count": 35,
      "id": "e584b8e2",
      "metadata": {
        "id": "e584b8e2",
        "colab": {
          "base_uri": "https://localhost:8080/"
        },
        "outputId": "4de4c0ee-a386-4fa8-ceb8-2b11c3c531ca"
      },
      "outputs": [
        {
          "output_type": "stream",
          "name": "stdout",
          "text": [
            "Dask DataFrame Structure:\n",
            "               show_id    type   title director country date_added release_year  rating duration listed_in\n",
            "npartitions=20                                                                                            \n",
            "                object  object  object   object  object     object        int64  object   object    object\n",
            "                   ...     ...     ...      ...     ...        ...          ...     ...      ...       ...\n",
            "...                ...     ...     ...      ...     ...        ...          ...     ...      ...       ...\n",
            "                   ...     ...     ...      ...     ...        ...          ...     ...      ...       ...\n",
            "                   ...     ...     ...      ...     ...        ...          ...     ...      ...       ...\n",
            "Dask Name: dropna, 40 tasks\n"
          ]
        }
      ],
      "source": [
        "res = df.dropna()\n",
        "print(res)"
      ]
    },
    {
      "cell_type": "markdown",
      "id": "a9912801",
      "metadata": {
        "id": "a9912801"
      },
      "source": [
        "* `fillna`: permite reemplazar valores faltante, funciona exactamente como lo hace la función de `pandas`:"
      ]
    },
    {
      "cell_type": "code",
      "execution_count": 36,
      "id": "c2689246",
      "metadata": {
        "lines_to_next_cell": 1,
        "id": "c2689246",
        "colab": {
          "base_uri": "https://localhost:8080/"
        },
        "outputId": "6d08a0eb-5ee4-4900-b58b-28bb9949cc86"
      },
      "outputs": [
        {
          "output_type": "stream",
          "name": "stdout",
          "text": [
            "Dask DataFrame Structure:\n",
            "               show_id    type   title director country date_added release_year  rating duration listed_in\n",
            "npartitions=20                                                                                            \n",
            "                object  object  object   object  object     object        int64  object   object    object\n",
            "                   ...     ...     ...      ...     ...        ...          ...     ...      ...       ...\n",
            "...                ...     ...     ...      ...     ...        ...          ...     ...      ...       ...\n",
            "                   ...     ...     ...      ...     ...        ...          ...     ...      ...       ...\n",
            "                   ...     ...     ...      ...     ...        ...          ...     ...      ...       ...\n",
            "Dask Name: fillna, 40 tasks\n"
          ]
        }
      ],
      "source": [
        "res = df.fillna(0)\n",
        "print(res)"
      ]
    },
    {
      "cell_type": "markdown",
      "id": "11efd941",
      "metadata": {
        "id": "11efd941"
      },
      "source": [
        "* `apply`: esta función tiene la misma utilidad que en `pandas`, no obstante, resulta ser bastante importante en `dask` ya que nos permite ejecutar una función de _Python_ de forma distribuida y paralelizada sobre un `DataFrame`, por ejemplo, la siguiente función calcula los dos últimos dígitos del año de publicación de un show:"
      ]
    },
    {
      "cell_type": "code",
      "execution_count": 37,
      "id": "685598cd",
      "metadata": {
        "lines_to_next_cell": 1,
        "id": "685598cd"
      },
      "outputs": [],
      "source": [
        "def get_digits(year):\n",
        "    return year % 100"
      ]
    },
    {
      "cell_type": "markdown",
      "id": "a6f6c3e6",
      "metadata": {
        "id": "a6f6c3e6"
      },
      "source": [
        "Veamos algunos ejemplos:"
      ]
    },
    {
      "cell_type": "code",
      "execution_count": 38,
      "id": "2d723f3a",
      "metadata": {
        "id": "2d723f3a",
        "colab": {
          "base_uri": "https://localhost:8080/"
        },
        "outputId": "899837fe-2c67-4aa6-9495-131b51caf921"
      },
      "outputs": [
        {
          "output_type": "stream",
          "name": "stdout",
          "text": [
            "9\n"
          ]
        }
      ],
      "source": [
        "print(get_digits(2009))"
      ]
    },
    {
      "cell_type": "code",
      "execution_count": 39,
      "id": "8e6891b8",
      "metadata": {
        "id": "8e6891b8",
        "colab": {
          "base_uri": "https://localhost:8080/"
        },
        "outputId": "b2edf981-96d5-4177-ee6a-ff5003d3f9bd"
      },
      "outputs": [
        {
          "output_type": "stream",
          "name": "stdout",
          "text": [
            "96\n"
          ]
        }
      ],
      "source": [
        "print(get_digits(1996))"
      ]
    },
    {
      "cell_type": "code",
      "execution_count": 40,
      "id": "31a6c32d",
      "metadata": {
        "id": "31a6c32d",
        "colab": {
          "base_uri": "https://localhost:8080/"
        },
        "outputId": "40332d88-761e-4551-c8ab-6265a8acf6b0"
      },
      "outputs": [
        {
          "output_type": "stream",
          "name": "stdout",
          "text": [
            "22\n"
          ]
        }
      ],
      "source": [
        "print(get_digits(2022))"
      ]
    },
    {
      "cell_type": "markdown",
      "id": "edc9a8e0",
      "metadata": {
        "id": "edc9a8e0"
      },
      "source": [
        "Podemos aplicarla sobre la columna `release_year` con `dask`."
      ]
    },
    {
      "cell_type": "code",
      "execution_count": 41,
      "id": "5967e513",
      "metadata": {
        "id": "5967e513",
        "colab": {
          "base_uri": "https://localhost:8080/"
        },
        "outputId": "e00c6072-a48e-49c6-a8e8-7939bb543144"
      },
      "outputs": [
        {
          "output_type": "stream",
          "name": "stdout",
          "text": [
            "0       20\n",
            "1       21\n",
            "2       21\n",
            "3       21\n",
            "4       93\n",
            "        ..\n",
            "8785    16\n",
            "8786    16\n",
            "8787    12\n",
            "8788    16\n",
            "8789    16\n",
            "Name: release_year, Length: 8790, dtype: int64\n"
          ]
        }
      ],
      "source": [
        "digits = (\n",
        "        df\n",
        "        .release_year\n",
        "        .apply(get_digits, meta=(\"release_year\", \"int64\"))\n",
        "        .compute()\n",
        "        )\n",
        "print(digits)"
      ]
    },
    {
      "cell_type": "markdown",
      "id": "b5f96802",
      "metadata": {
        "id": "b5f96802"
      },
      "source": [
        "En este caso, agregamos el parámetro `meta` para dar más información a `dask` sobre el tipo de columna que es `release_year`. Ya que `dask` por defecto trabaja sobre unos tipos inferidos de la carga de datos que pueden ser erróneos."
      ]
    },
    {
      "cell_type": "markdown",
      "id": "173f550a",
      "metadata": {
        "id": "173f550a"
      },
      "source": [
        "* `map`: permite mapear una tabla de referencia a una columna:"
      ]
    },
    {
      "cell_type": "code",
      "execution_count": 42,
      "id": "7cdc8ba9",
      "metadata": {
        "id": "7cdc8ba9",
        "colab": {
          "base_uri": "https://localhost:8080/"
        },
        "outputId": "aaa6dcdd-2007-48be-dc78-326750ff3b1e"
      },
      "outputs": [
        {
          "output_type": "stream",
          "name": "stdout",
          "text": [
            "Dask Series Structure:\n",
            "npartitions=20\n",
            "    object\n",
            "       ...\n",
            "     ...  \n",
            "       ...\n",
            "       ...\n",
            "Name: type, dtype: object\n",
            "Dask Name: map, 60 tasks\n"
          ]
        }
      ],
      "source": [
        "maps = {\"movie\": \"pelicula\", \"tv show\": \"television\"}\n",
        "new_types = df.type.map(maps)\n",
        "print(new_types)"
      ]
    },
    {
      "cell_type": "markdown",
      "id": "c05ef5d4",
      "metadata": {
        "id": "c05ef5d4"
      },
      "source": [
        "Veamos el resultado evaluado:"
      ]
    },
    {
      "cell_type": "code",
      "execution_count": 43,
      "id": "32ed5474",
      "metadata": {
        "id": "32ed5474",
        "colab": {
          "base_uri": "https://localhost:8080/"
        },
        "outputId": "c86885e3-9b3c-4a54-9554-560cd2c02f08"
      },
      "outputs": [
        {
          "output_type": "stream",
          "name": "stdout",
          "text": [
            "0         pelicula\n",
            "1       television\n",
            "2       television\n",
            "3         pelicula\n",
            "4         pelicula\n",
            "           ...    \n",
            "8785    television\n",
            "8786    television\n",
            "8787    television\n",
            "8788    television\n",
            "8789    television\n",
            "Name: type, Length: 8790, dtype: object\n"
          ]
        }
      ],
      "source": [
        "print(new_types.compute())"
      ]
    },
    {
      "cell_type": "markdown",
      "id": "06d50c15",
      "metadata": {
        "id": "06d50c15"
      },
      "source": [
        "* `assign`: permite crear nuevas columnas:"
      ]
    },
    {
      "cell_type": "code",
      "execution_count": 44,
      "id": "a1877a2e",
      "metadata": {
        "id": "a1877a2e",
        "colab": {
          "base_uri": "https://localhost:8080/"
        },
        "outputId": "678d4ed8-63cb-4e0a-b11a-8d5336104297"
      },
      "outputs": [
        {
          "output_type": "stream",
          "name": "stdout",
          "text": [
            "Dask DataFrame Structure:\n",
            "               show_id    type   title director country date_added release_year  rating duration listed_in new_col types_spa\n",
            "npartitions=20                                                                                                              \n",
            "                object  object  object   object  object     object        int64  object   object    object   int64    object\n",
            "                   ...     ...     ...      ...     ...        ...          ...     ...      ...       ...     ...       ...\n",
            "...                ...     ...     ...      ...     ...        ...          ...     ...      ...       ...     ...       ...\n",
            "                   ...     ...     ...      ...     ...        ...          ...     ...      ...       ...     ...       ...\n",
            "                   ...     ...     ...      ...     ...        ...          ...     ...      ...       ...     ...       ...\n",
            "Dask Name: assign, 100 tasks\n"
          ]
        }
      ],
      "source": [
        "df2 = df.assign(\n",
        "        new_col = 1,\n",
        "        types_spa = df.type.map(maps)\n",
        "        )\n",
        "print(df2)"
      ]
    },
    {
      "cell_type": "markdown",
      "id": "2e7565e4",
      "metadata": {
        "id": "2e7565e4"
      },
      "source": [
        "Veamos los primeros 5 registros:"
      ]
    },
    {
      "cell_type": "code",
      "execution_count": 45,
      "id": "4ede2680",
      "metadata": {
        "id": "4ede2680",
        "colab": {
          "base_uri": "https://localhost:8080/"
        },
        "outputId": "bf53b46f-31c8-41db-de85-0782e170f80a"
      },
      "outputs": [
        {
          "output_type": "stream",
          "name": "stdout",
          "text": [
            "  show_id     type                             title         director  \\\n",
            "0      s1    movie              dick johnson is dead  kirsten johnson   \n",
            "1      s3  tv show                         ganglands  julien leclercq   \n",
            "2      s6  tv show                     midnight mass    mike flanagan   \n",
            "3     s14    movie  confessions of an invisible girl    bruno garotti   \n",
            "4      s8    movie                           sankofa     haile gerima   \n",
            "\n",
            "         country date_added  release_year rating duration  \\\n",
            "0  united states  9/25/2021          2020     pg      min   \n",
            "1         france  9/24/2021          2021   tvma   season   \n",
            "2  united states  9/24/2021          2021   tvma   season   \n",
            "3         brazil  9/22/2021          2021   tvpg      min   \n",
            "4  united states  9/24/2021          1993   tvma      min   \n",
            "\n",
            "                                           listed_in  new_col   types_spa  \n",
            "0                                      documentaries        1    pelicula  \n",
            "1  crime tv shows international tv shows tv actio...        1  television  \n",
            "2                   tv dramas tv horror tv mysteries        1  television  \n",
            "3                   children  family movies comedies        1    pelicula  \n",
            "4     dramas independent movies international movies        1    pelicula  \n"
          ]
        }
      ],
      "source": [
        "print(df2.head(5))"
      ]
    },
    {
      "cell_type": "markdown",
      "id": "1ba2eaf9",
      "metadata": {
        "id": "1ba2eaf9"
      },
      "source": [
        "* `groupby`: funciona igual que su análogo en `pandas` pero este se ejecuta de forma distribuida:"
      ]
    },
    {
      "cell_type": "code",
      "execution_count": 46,
      "id": "6a0baa65",
      "metadata": {
        "id": "6a0baa65",
        "colab": {
          "base_uri": "https://localhost:8080/"
        },
        "outputId": "fcb69095-84bc-4ad3-e8ac-d75aa4d08392"
      },
      "outputs": [
        {
          "output_type": "stream",
          "name": "stdout",
          "text": [
            "Dask DataFrame Structure:\n",
            "               title\n",
            "npartitions=1       \n",
            "               int64\n",
            "                 ...\n",
            "Dask Name: aggregate-agg, 44 tasks\n"
          ]
        }
      ],
      "source": [
        "res = df.groupby(\"type\").agg({\"title\": \"count\"})\n",
        "print(res)"
      ]
    },
    {
      "cell_type": "markdown",
      "id": "9ad7c734",
      "metadata": {
        "id": "9ad7c734"
      },
      "source": [
        "Veamos el resultado:"
      ]
    },
    {
      "cell_type": "code",
      "execution_count": 47,
      "id": "ea92d4ba",
      "metadata": {
        "id": "ea92d4ba",
        "colab": {
          "base_uri": "https://localhost:8080/"
        },
        "outputId": "e96edb6a-8239-4e98-fd54-044572754d01"
      },
      "outputs": [
        {
          "output_type": "stream",
          "name": "stdout",
          "text": [
            "         title\n",
            "type          \n",
            "movie     6126\n",
            "tv show   2664\n"
          ]
        }
      ],
      "source": [
        "print(res.compute())"
      ]
    },
    {
      "cell_type": "markdown",
      "id": "6d095592",
      "metadata": {
        "id": "6d095592"
      },
      "source": [
        "* `merge`: al igual que en `pandas`, podemos unir dos o más `DataFrames` por medio de las operaciones `merge` y `join` (recuerde que `dask` lo hace de forma distribuida, lo cual es muy útil para cruzar tablas muy grandes). Veamos un ejemplo donde definimos dos `DataFrames`:"
      ]
    },
    {
      "cell_type": "code",
      "execution_count": 48,
      "id": "f3f308df",
      "metadata": {
        "id": "f3f308df",
        "colab": {
          "base_uri": "https://localhost:8080/",
          "height": 226
        },
        "outputId": "9d461c03-221b-431c-9583-29ce733e3d49"
      },
      "outputs": [
        {
          "output_type": "error",
          "ename": "AttributeError",
          "evalue": "ignored",
          "traceback": [
            "\u001b[0;31m---------------------------------------------------------------------------\u001b[0m",
            "\u001b[0;31mAttributeError\u001b[0m                            Traceback (most recent call last)",
            "\u001b[0;32m<ipython-input-48-f3673bc71842>\u001b[0m in \u001b[0;36m<module>\u001b[0;34m\u001b[0m\n\u001b[1;32m      3\u001b[0m         \u001b[0;34m\"col2\"\u001b[0m\u001b[0;34m:\u001b[0m \u001b[0;34m[\u001b[0m\u001b[0;34m\"a\"\u001b[0m\u001b[0;34m,\u001b[0m \u001b[0;34m\"b\"\u001b[0m\u001b[0;34m,\u001b[0m \u001b[0;34m\"c\"\u001b[0m\u001b[0;34m,\u001b[0m \u001b[0;34m\"d\"\u001b[0m\u001b[0;34m,\u001b[0m \u001b[0;34m\"e\"\u001b[0m\u001b[0;34m]\u001b[0m\u001b[0;34m\u001b[0m\u001b[0;34m\u001b[0m\u001b[0m\n\u001b[1;32m      4\u001b[0m         }\n\u001b[0;32m----> 5\u001b[0;31m \u001b[0mdf1\u001b[0m \u001b[0;34m=\u001b[0m \u001b[0mdd\u001b[0m\u001b[0;34m.\u001b[0m\u001b[0mfrom_dict\u001b[0m\u001b[0;34m(\u001b[0m\u001b[0mdata\u001b[0m\u001b[0;34m,\u001b[0m \u001b[0mnpartitions\u001b[0m\u001b[0;34m=\u001b[0m\u001b[0;36m1\u001b[0m\u001b[0;34m)\u001b[0m\u001b[0;34m\u001b[0m\u001b[0;34m\u001b[0m\u001b[0m\n\u001b[0m\u001b[1;32m      6\u001b[0m \u001b[0mprint\u001b[0m\u001b[0;34m(\u001b[0m\u001b[0mdf1\u001b[0m\u001b[0;34m)\u001b[0m\u001b[0;34m\u001b[0m\u001b[0;34m\u001b[0m\u001b[0m\n",
            "\u001b[0;31mAttributeError\u001b[0m: module 'dask.dataframe' has no attribute 'from_dict'"
          ]
        }
      ],
      "source": [
        "data = {\n",
        "        \"col1\": [1, 2, 3, 4, 5],\n",
        "        \"col2\": [\"a\", \"b\", \"c\", \"d\", \"e\"]\n",
        "        }\n",
        "df1 = dd.from_dict(data, npartitions=1)\n",
        "print(df1)"
      ]
    },
    {
      "cell_type": "code",
      "execution_count": 49,
      "id": "6ff9be45",
      "metadata": {
        "id": "6ff9be45",
        "colab": {
          "base_uri": "https://localhost:8080/",
          "height": 226
        },
        "outputId": "933fa19b-605b-460f-846d-92972a333c25"
      },
      "outputs": [
        {
          "output_type": "error",
          "ename": "AttributeError",
          "evalue": "ignored",
          "traceback": [
            "\u001b[0;31m---------------------------------------------------------------------------\u001b[0m",
            "\u001b[0;31mAttributeError\u001b[0m                            Traceback (most recent call last)",
            "\u001b[0;32m<ipython-input-49-ba8d59f71cd7>\u001b[0m in \u001b[0;36m<module>\u001b[0;34m\u001b[0m\n\u001b[1;32m      3\u001b[0m         \u001b[0;34m\"col3\"\u001b[0m\u001b[0;34m:\u001b[0m \u001b[0;34m[\u001b[0m\u001b[0;34m\"perro\"\u001b[0m\u001b[0;34m,\u001b[0m \u001b[0;34m\"gato\"\u001b[0m\u001b[0;34m,\u001b[0m \u001b[0;34m\"pajaro\"\u001b[0m\u001b[0;34m,\u001b[0m \u001b[0;34m\"pez\"\u001b[0m\u001b[0;34m]\u001b[0m\u001b[0;34m\u001b[0m\u001b[0;34m\u001b[0m\u001b[0m\n\u001b[1;32m      4\u001b[0m         }\n\u001b[0;32m----> 5\u001b[0;31m \u001b[0mdf2\u001b[0m \u001b[0;34m=\u001b[0m \u001b[0mdd\u001b[0m\u001b[0;34m.\u001b[0m\u001b[0mfrom_dict\u001b[0m\u001b[0;34m(\u001b[0m\u001b[0mdata\u001b[0m\u001b[0;34m,\u001b[0m \u001b[0mnpartitions\u001b[0m\u001b[0;34m=\u001b[0m\u001b[0;36m1\u001b[0m\u001b[0;34m)\u001b[0m\u001b[0;34m\u001b[0m\u001b[0;34m\u001b[0m\u001b[0m\n\u001b[0m\u001b[1;32m      6\u001b[0m \u001b[0mprint\u001b[0m\u001b[0;34m(\u001b[0m\u001b[0mdf2\u001b[0m\u001b[0;34m)\u001b[0m\u001b[0;34m\u001b[0m\u001b[0;34m\u001b[0m\u001b[0m\n",
            "\u001b[0;31mAttributeError\u001b[0m: module 'dask.dataframe' has no attribute 'from_dict'"
          ]
        }
      ],
      "source": [
        "data = {\n",
        "        \"col1\": [1, 2, 3, 4],\n",
        "        \"col3\": [\"perro\", \"gato\", \"pajaro\", \"pez\"]\n",
        "        }\n",
        "df2 = dd.from_dict(data, npartitions=1)\n",
        "print(df2)"
      ]
    },
    {
      "cell_type": "markdown",
      "id": "ff79c734",
      "metadata": {
        "id": "ff79c734"
      },
      "source": [
        "Vamos a unir los dos `DataFrame` con la operación `merge`:"
      ]
    },
    {
      "cell_type": "code",
      "execution_count": 50,
      "id": "01b4e611",
      "metadata": {
        "id": "01b4e611",
        "colab": {
          "base_uri": "https://localhost:8080/",
          "height": 189
        },
        "outputId": "f0fbcd17-8c50-4742-dcea-3f5f58644c4f"
      },
      "outputs": [
        {
          "output_type": "error",
          "ename": "NameError",
          "evalue": "ignored",
          "traceback": [
            "\u001b[0;31m---------------------------------------------------------------------------\u001b[0m",
            "\u001b[0;31mNameError\u001b[0m                                 Traceback (most recent call last)",
            "\u001b[0;32m<ipython-input-50-7024d06eccf3>\u001b[0m in \u001b[0;36m<module>\u001b[0;34m\u001b[0m\n\u001b[0;32m----> 1\u001b[0;31m \u001b[0mres\u001b[0m \u001b[0;34m=\u001b[0m \u001b[0mdf1\u001b[0m\u001b[0;34m.\u001b[0m\u001b[0mmerge\u001b[0m\u001b[0;34m(\u001b[0m\u001b[0mdf2\u001b[0m\u001b[0;34m,\u001b[0m \u001b[0mon\u001b[0m\u001b[0;34m=\u001b[0m\u001b[0;34m\"col1\"\u001b[0m\u001b[0;34m)\u001b[0m\u001b[0;34m\u001b[0m\u001b[0;34m\u001b[0m\u001b[0m\n\u001b[0m\u001b[1;32m      2\u001b[0m \u001b[0mprint\u001b[0m\u001b[0;34m(\u001b[0m\u001b[0mres\u001b[0m\u001b[0;34m)\u001b[0m\u001b[0;34m\u001b[0m\u001b[0;34m\u001b[0m\u001b[0m\n",
            "\u001b[0;31mNameError\u001b[0m: name 'df1' is not defined"
          ]
        }
      ],
      "source": [
        "res = df1.merge(df2, on=\"col1\")\n",
        "print(res)"
      ]
    },
    {
      "cell_type": "markdown",
      "id": "cd8b5627",
      "metadata": {
        "id": "cd8b5627"
      },
      "source": [
        "Veamos el resultado:"
      ]
    },
    {
      "cell_type": "code",
      "execution_count": 51,
      "id": "567e0c78",
      "metadata": {
        "id": "567e0c78",
        "colab": {
          "base_uri": "https://localhost:8080/"
        },
        "outputId": "dc103d9d-e725-4a75-9403-231851aaff40"
      },
      "outputs": [
        {
          "output_type": "stream",
          "name": "stdout",
          "text": [
            "         title\n",
            "type          \n",
            "movie     6126\n",
            "tv show   2664\n"
          ]
        }
      ],
      "source": [
        "print(res.compute())"
      ]
    },
    {
      "cell_type": "markdown",
      "id": "ffd40722",
      "metadata": {
        "id": "ffd40722"
      },
      "source": [
        "## **6. Filtrado**\n",
        "---\n",
        "\n",
        "La sintaxis para la selección de valores en `DataFrame` de `dask` es muy parecida a `pandas`, no obstante, hay algunas consideraciones en cuanto a que no se recomienda el indexado posicional, en especial porque tenemos datos distribuidos de los que no conocemos directamente su tamaño. Veamos algunos ejemplos:\n",
        "\n",
        "* Para seleccionar columnas, podemos indexar el `DataFrame` como si fuera un diccionario, por ejemplo:"
      ]
    },
    {
      "cell_type": "code",
      "execution_count": 52,
      "id": "63cfa886",
      "metadata": {
        "id": "63cfa886",
        "colab": {
          "base_uri": "https://localhost:8080/"
        },
        "outputId": "2e3e4a64-1ac0-4a80-f748-19e73c87a74c"
      },
      "outputs": [
        {
          "output_type": "stream",
          "name": "stdout",
          "text": [
            "Index(['type', 'show_id'], dtype='object')\n"
          ]
        }
      ],
      "source": [
        "df2 = df[[\"type\", \"show_id\"]]\n",
        "print(df2.columns)"
      ]
    },
    {
      "cell_type": "markdown",
      "id": "4819000d",
      "metadata": {
        "id": "4819000d"
      },
      "source": [
        "* Podemos usar el método `loc` para extraer datos con respecto a su índice:"
      ]
    },
    {
      "cell_type": "code",
      "execution_count": 53,
      "id": "91e8b5e8",
      "metadata": {
        "id": "91e8b5e8",
        "colab": {
          "base_uri": "https://localhost:8080/"
        },
        "outputId": "c30e2e81-26ee-45cf-dc1a-5dc975304ef0"
      },
      "outputs": [
        {
          "output_type": "stream",
          "name": "stdout",
          "text": [
            "Dask DataFrame Structure:\n",
            "               show_id    type   title director country date_added release_year  rating duration listed_in\n",
            "npartitions=20                                                                                            \n",
            "                object  object  object   object  object     object        int64  object   object    object\n",
            "                   ...     ...     ...      ...     ...        ...          ...     ...      ...       ...\n",
            "...                ...     ...     ...      ...     ...        ...          ...     ...      ...       ...\n",
            "                   ...     ...     ...      ...     ...        ...          ...     ...      ...       ...\n",
            "                   ...     ...     ...      ...     ...        ...          ...     ...      ...       ...\n",
            "Dask Name: try_loc, 40 tasks\n"
          ]
        }
      ],
      "source": [
        "df2 = df.loc[20:30]\n",
        "print(df2)"
      ]
    },
    {
      "cell_type": "markdown",
      "id": "4da37070",
      "metadata": {
        "id": "4da37070"
      },
      "source": [
        "No obstante, el método `iloc` (indexado posicional) no funciona correctamente:"
      ]
    },
    {
      "cell_type": "code",
      "execution_count": 54,
      "id": "e2af9ef3",
      "metadata": {
        "id": "e2af9ef3",
        "colab": {
          "base_uri": "https://localhost:8080/"
        },
        "outputId": "53bd7cd1-2250-4ea6-efa7-b5a043ad2337"
      },
      "outputs": [
        {
          "output_type": "stream",
          "name": "stdout",
          "text": [
            "'DataFrame.iloc' only supports selecting columns. It must be used like 'df.iloc[:, column_indexer]'.\n"
          ]
        }
      ],
      "source": [
        "try:\n",
        "    df2 = df.iloc[:10]\n",
        "except Exception as e:\n",
        "    print(e)"
      ]
    },
    {
      "cell_type": "markdown",
      "id": "63356b10",
      "metadata": {
        "id": "63356b10"
      },
      "source": [
        "* Podemos hacer selecciones condicionales de la misma forma que en `pandas`, por ejemplo, seleccionamos todos los registros correspondientes al tipo `movie`:"
      ]
    },
    {
      "cell_type": "code",
      "execution_count": 55,
      "id": "2c1eb1f6",
      "metadata": {
        "id": "2c1eb1f6",
        "colab": {
          "base_uri": "https://localhost:8080/"
        },
        "outputId": "a5d66315-4db8-4104-fb58-46f143348655"
      },
      "outputs": [
        {
          "output_type": "stream",
          "name": "stdout",
          "text": [
            "Dask DataFrame Structure:\n",
            "               show_id    type   title director country date_added release_year  rating duration listed_in\n",
            "npartitions=20                                                                                            \n",
            "                object  object  object   object  object     object        int64  object   object    object\n",
            "                   ...     ...     ...      ...     ...        ...          ...     ...      ...       ...\n",
            "...                ...     ...     ...      ...     ...        ...          ...     ...      ...       ...\n",
            "                   ...     ...     ...      ...     ...        ...          ...     ...      ...       ...\n",
            "                   ...     ...     ...      ...     ...        ...          ...     ...      ...       ...\n",
            "Dask Name: getitem, 80 tasks\n"
          ]
        }
      ],
      "source": [
        "df2 = df[df.type == \"movie\"]\n",
        "print(df2)"
      ]
    },
    {
      "cell_type": "markdown",
      "id": "6a9cb5f7",
      "metadata": {
        "id": "6a9cb5f7"
      },
      "source": [
        "Calculamos el resultado:"
      ]
    },
    {
      "cell_type": "code",
      "execution_count": 56,
      "id": "431be3c9",
      "metadata": {
        "id": "431be3c9",
        "colab": {
          "base_uri": "https://localhost:8080/"
        },
        "outputId": "da93e073-5118-4838-f3a2-5f5c3a47ceaa"
      },
      "outputs": [
        {
          "output_type": "stream",
          "name": "stdout",
          "text": [
            "     show_id   type                             title         director  \\\n",
            "0         s1  movie              dick johnson is dead  kirsten johnson   \n",
            "3        s14  movie  confessions of an invisible girl    bruno garotti   \n",
            "4         s8  movie                           sankofa     haile gerima   \n",
            "6        s10  movie                      the starling   theodore melfi   \n",
            "7       s939  movie   motu patlu in the game of zones      suhas kadav   \n",
            "...      ...    ...                               ...              ...   \n",
            "8702   s8232  movie                          the bund        not given   \n",
            "8707   s8269  movie                  the darkest dawn        not given   \n",
            "8716   s8331  movie                  the great battle        not given   \n",
            "8763   s8648  movie        twisted trunk big fat body        not given   \n",
            "8783   s8785  movie              yoko and his friends        not given   \n",
            "\n",
            "             country date_added  release_year rating duration  \\\n",
            "0      united states  9/25/2021          2020     pg      min   \n",
            "3             brazil  9/22/2021          2021   tvpg      min   \n",
            "4      united states  9/24/2021          1993   tvma      min   \n",
            "6      united states  9/24/2021          2021     pg      min   \n",
            "7              india   5/1/2021          2019    tvy      min   \n",
            "...              ...        ...           ...    ...      ...   \n",
            "8702       hong kong  9/20/2018          1983     tv      min   \n",
            "8707  united kingdom  6/23/2018          2016   tvma      min   \n",
            "8716     south korea   4/8/2019          2018   tvma      min   \n",
            "8763           india  1/15/2017          2015     tv      min   \n",
            "8783          russia  6/23/2018          2015    tvy      min   \n",
            "\n",
            "                                              listed_in  \n",
            "0                                         documentaries  \n",
            "3                      children  family movies comedies  \n",
            "4        dramas independent movies international movies  \n",
            "6                                       comedies dramas  \n",
            "7      children  family movies comedies music  musicals  \n",
            "...                                                 ...  \n",
            "8702      action  adventure dramas international movies  \n",
            "8707  action  adventure independent movies internati...  \n",
            "8716      action  adventure dramas international movies  \n",
            "8763                        dramas international movies  \n",
            "8783                            children  family movies  \n",
            "\n",
            "[6126 rows x 10 columns]\n"
          ]
        }
      ],
      "source": [
        "print(df2.compute())"
      ]
    },
    {
      "cell_type": "markdown",
      "id": "0e9e2d8c",
      "metadata": {
        "id": "0e9e2d8c"
      },
      "source": [
        "* También podemos usar el método `query` para seleccionar valores de acuerdo a un criterio, tal y como funciona en `pandas`:"
      ]
    },
    {
      "cell_type": "code",
      "execution_count": 57,
      "id": "9e881776",
      "metadata": {
        "id": "9e881776",
        "colab": {
          "base_uri": "https://localhost:8080/"
        },
        "outputId": "c6b8e47b-b4ba-4a6c-ecba-c9eece0bdb60"
      },
      "outputs": [
        {
          "output_type": "stream",
          "name": "stdout",
          "text": [
            "Dask DataFrame Structure:\n",
            "               show_id    type   title director country date_added release_year  rating duration listed_in\n",
            "npartitions=20                                                                                            \n",
            "                object  object  object   object  object     object        int64  object   object    object\n",
            "                   ...     ...     ...      ...     ...        ...          ...     ...      ...       ...\n",
            "...                ...     ...     ...      ...     ...        ...          ...     ...      ...       ...\n",
            "                   ...     ...     ...      ...     ...        ...          ...     ...      ...       ...\n",
            "                   ...     ...     ...      ...     ...        ...          ...     ...      ...       ...\n",
            "Dask Name: query, 40 tasks\n"
          ]
        }
      ],
      "source": [
        "df2 = df.query(\"type == 'movie'\")\n",
        "print(df2)"
      ]
    },
    {
      "cell_type": "markdown",
      "id": "ed88e527",
      "metadata": {
        "id": "ed88e527"
      },
      "source": [
        "Calculamos el resultado:"
      ]
    },
    {
      "cell_type": "code",
      "execution_count": 58,
      "id": "c6ad3114",
      "metadata": {
        "id": "c6ad3114",
        "colab": {
          "base_uri": "https://localhost:8080/"
        },
        "outputId": "b62e2904-abfe-4662-e20d-e59de2d95795"
      },
      "outputs": [
        {
          "output_type": "stream",
          "name": "stdout",
          "text": [
            "     show_id   type                             title         director  \\\n",
            "0         s1  movie              dick johnson is dead  kirsten johnson   \n",
            "3        s14  movie  confessions of an invisible girl    bruno garotti   \n",
            "4         s8  movie                           sankofa     haile gerima   \n",
            "6        s10  movie                      the starling   theodore melfi   \n",
            "7       s939  movie   motu patlu in the game of zones      suhas kadav   \n",
            "...      ...    ...                               ...              ...   \n",
            "8702   s8232  movie                          the bund        not given   \n",
            "8707   s8269  movie                  the darkest dawn        not given   \n",
            "8716   s8331  movie                  the great battle        not given   \n",
            "8763   s8648  movie        twisted trunk big fat body        not given   \n",
            "8783   s8785  movie              yoko and his friends        not given   \n",
            "\n",
            "             country date_added  release_year rating duration  \\\n",
            "0      united states  9/25/2021          2020     pg      min   \n",
            "3             brazil  9/22/2021          2021   tvpg      min   \n",
            "4      united states  9/24/2021          1993   tvma      min   \n",
            "6      united states  9/24/2021          2021     pg      min   \n",
            "7              india   5/1/2021          2019    tvy      min   \n",
            "...              ...        ...           ...    ...      ...   \n",
            "8702       hong kong  9/20/2018          1983     tv      min   \n",
            "8707  united kingdom  6/23/2018          2016   tvma      min   \n",
            "8716     south korea   4/8/2019          2018   tvma      min   \n",
            "8763           india  1/15/2017          2015     tv      min   \n",
            "8783          russia  6/23/2018          2015    tvy      min   \n",
            "\n",
            "                                              listed_in  \n",
            "0                                         documentaries  \n",
            "3                      children  family movies comedies  \n",
            "4        dramas independent movies international movies  \n",
            "6                                       comedies dramas  \n",
            "7      children  family movies comedies music  musicals  \n",
            "...                                                 ...  \n",
            "8702      action  adventure dramas international movies  \n",
            "8707  action  adventure independent movies internati...  \n",
            "8716      action  adventure dramas international movies  \n",
            "8763                        dramas international movies  \n",
            "8783                            children  family movies  \n",
            "\n",
            "[6126 rows x 10 columns]\n"
          ]
        }
      ],
      "source": [
        "print(df2.compute())"
      ]
    },
    {
      "cell_type": "markdown",
      "id": "7fb7c2a4",
      "metadata": {
        "id": "7fb7c2a4"
      },
      "source": [
        "## **7. Comparativa con Pandas**\n",
        "---\n",
        "\n",
        "Veamos una comparativa en tiempo y memoria con respecto a los `DataFrame` de `pandas`; para ello, usaremos las librerías `psutil` y `time`:"
      ]
    },
    {
      "cell_type": "code",
      "execution_count": 59,
      "id": "0c92ff92",
      "metadata": {
        "id": "0c92ff92"
      },
      "outputs": [],
      "source": [
        "import psutil, time"
      ]
    },
    {
      "cell_type": "markdown",
      "id": "87dbe29d",
      "metadata": {
        "id": "87dbe29d"
      },
      "source": [
        "Veamos la diferencia en memoria entre la carga del `DataFrame` desde `pandas` y desde `dask`:\n",
        "\n",
        "* `pandas`:"
      ]
    },
    {
      "cell_type": "code",
      "execution_count": 60,
      "id": "0e4fa937",
      "metadata": {
        "id": "0e4fa937",
        "colab": {
          "base_uri": "https://localhost:8080/"
        },
        "outputId": "6503e189-0861-4834-88ea-c1d7ee9d302d"
      },
      "outputs": [
        {
          "output_type": "stream",
          "name": "stdout",
          "text": [
            "RAM inicial: 9.10%\n"
          ]
        }
      ],
      "source": [
        "memory = psutil.virtual_memory()[2]\n",
        "print(f\"RAM inicial: {memory:.2f}%\")"
      ]
    },
    {
      "cell_type": "markdown",
      "id": "aab99737",
      "metadata": {
        "id": "aab99737"
      },
      "source": [
        "Cargamos el conjunto de datos con `pandas`:"
      ]
    },
    {
      "cell_type": "code",
      "execution_count": 61,
      "id": "d43661ba",
      "metadata": {
        "id": "d43661ba"
      },
      "outputs": [],
      "source": [
        "df_pandas = pd.read_parquet(\"netflix2.parquet\")"
      ]
    },
    {
      "cell_type": "markdown",
      "id": "e43fe2ec",
      "metadata": {
        "id": "e43fe2ec"
      },
      "source": [
        "Veamos qué tanto subió la memoria RAM:"
      ]
    },
    {
      "cell_type": "code",
      "execution_count": 62,
      "id": "244a0b44",
      "metadata": {
        "id": "244a0b44",
        "colab": {
          "base_uri": "https://localhost:8080/"
        },
        "outputId": "5e044237-ac2f-4e98-b010-9fae63c3cfaf"
      },
      "outputs": [
        {
          "output_type": "stream",
          "name": "stdout",
          "text": [
            "RAM final: 9.10%\n"
          ]
        }
      ],
      "source": [
        "memory = psutil.virtual_memory()[2]\n",
        "print(f\"RAM final: {memory:.2f}%\")"
      ]
    },
    {
      "cell_type": "markdown",
      "id": "d6b7c133",
      "metadata": {
        "id": "d6b7c133"
      },
      "source": [
        "* `dask`:"
      ]
    },
    {
      "cell_type": "code",
      "execution_count": 63,
      "id": "eadf8c25",
      "metadata": {
        "id": "eadf8c25",
        "colab": {
          "base_uri": "https://localhost:8080/"
        },
        "outputId": "b2416d8e-7598-4b85-9019-f4f2b2a253a5"
      },
      "outputs": [
        {
          "output_type": "stream",
          "name": "stdout",
          "text": [
            "RAM inicial: 9.10%\n"
          ]
        }
      ],
      "source": [
        "memory = psutil.virtual_memory()[2]\n",
        "print(f\"RAM inicial: {memory:.2f}%\")"
      ]
    },
    {
      "cell_type": "markdown",
      "id": "07a699aa",
      "metadata": {
        "id": "07a699aa"
      },
      "source": [
        "Cargamos el conjunto de datos con `dask`:"
      ]
    },
    {
      "cell_type": "code",
      "execution_count": 64,
      "id": "ed1e3a94",
      "metadata": {
        "id": "ed1e3a94"
      },
      "outputs": [],
      "source": [
        "df_dask = dd.read_parquet(\"netflix2.parquet\")"
      ]
    },
    {
      "cell_type": "markdown",
      "id": "eaaabbf8",
      "metadata": {
        "id": "eaaabbf8"
      },
      "source": [
        "Veamos qué tanto subió la memoria RAM:"
      ]
    },
    {
      "cell_type": "code",
      "execution_count": 65,
      "id": "a6590db3",
      "metadata": {
        "id": "a6590db3",
        "colab": {
          "base_uri": "https://localhost:8080/"
        },
        "outputId": "720427e5-8b71-4fa7-f487-4973694c2e43"
      },
      "outputs": [
        {
          "output_type": "stream",
          "name": "stdout",
          "text": [
            "RAM final: 9.10%\n"
          ]
        }
      ],
      "source": [
        "memory = psutil.virtual_memory()[2]\n",
        "print(f\"RAM final: {memory:.2f}%\")"
      ]
    },
    {
      "cell_type": "markdown",
      "id": "99c4b8ad",
      "metadata": {
        "id": "99c4b8ad"
      },
      "source": [
        "Como puede ver `dask` no carga directamente el conjunto de datos en memoria. Ahora veamos una comparativa en tiempo en operaciones de agregación (se ven beneficiadas de paralelismo).\n",
        "\n",
        "* `pandas`:"
      ]
    },
    {
      "cell_type": "code",
      "execution_count": 66,
      "id": "1ac827b4",
      "metadata": {
        "id": "1ac827b4",
        "colab": {
          "base_uri": "https://localhost:8080/"
        },
        "outputId": "c37008ff-cec1-477e-fadb-096471ff0598"
      },
      "outputs": [
        {
          "output_type": "stream",
          "name": "stdout",
          "text": [
            "Segundos: 0.01\n"
          ]
        }
      ],
      "source": [
        "t0 = time.time()\n",
        "res = df_pandas.groupby([\"type\", \"country\"]).agg({\"release_year\": \"mean\"})\n",
        "delta_t = time.time() - t0\n",
        "print(f\"Segundos: {delta_t:.2f}\")"
      ]
    },
    {
      "cell_type": "markdown",
      "id": "03642fff",
      "metadata": {
        "id": "03642fff"
      },
      "source": [
        "* `dask`:"
      ]
    },
    {
      "cell_type": "code",
      "execution_count": 67,
      "id": "8e6ac5e0",
      "metadata": {
        "id": "8e6ac5e0",
        "colab": {
          "base_uri": "https://localhost:8080/"
        },
        "outputId": "7d5c94b8-9823-455c-992a-8c43eba2a424"
      },
      "outputs": [
        {
          "output_type": "stream",
          "name": "stdout",
          "text": [
            "Segundos: 0.27\n"
          ]
        }
      ],
      "source": [
        "t0 = time.time()\n",
        "res = (\n",
        "        df_dask\n",
        "        .groupby([\"type\", \"country\"])\n",
        "        .agg({\"release_year\": \"mean\"})\n",
        "        .compute()\n",
        "        )\n",
        "delta_t = time.time() - t0\n",
        "print(f\"Segundos: {delta_t:.2f}\")"
      ]
    },
    {
      "cell_type": "markdown",
      "id": "c815acdc",
      "metadata": {
        "id": "c815acdc"
      },
      "source": [
        "Como podemos ver, el resultado demora más en `dask`. Recuerde que esta herramienta debe coordinar y gestionar multiples `DataFrames` que están contenidos en varias particiones, esto permite trabajar con grandes cantidades de datos. No obstante, si el conjunto de datos es pequeño `pandas` sigue siendo la mejor opción."
      ]
    },
    {
      "cell_type": "markdown",
      "id": "00855bce",
      "metadata": {
        "id": "00855bce"
      },
      "source": [
        "## **8. Recursos Adicionales**\n",
        "---\n",
        "\n",
        "* [DataFrames de Dask](https://docs.dask.org/en/stable/dataframe.html).\n",
        "* [Dask - Talks & tutorials](https://docs.dask.org/en/stable/presentations.html)."
      ]
    },
    {
      "cell_type": "markdown",
      "id": "77196c4a",
      "metadata": {
        "id": "77196c4a"
      },
      "source": [
        "## **9. Créditos**\n",
        "---\n",
        "\n",
        "**Profesor**\n",
        "\n",
        "- [Jorge E. Camargo, PhD](https://dis.unal.edu.co/~jecamargom/)\n",
        "\n",
        "**Diseño, desarrollo del notebook y material audiovisual**\n",
        "\n",
        "- [Juan S. Lara MSc](https://www.linkedin.com/in/juan-sebastian-lara-ramirez-43570a214/)\n",
        "\n",
        "**Universidad Nacional de Colombia** - *Facultad de Ingeniería*"
      ]
    }
  ],
  "metadata": {
    "jupytext": {
      "cell_metadata_filter": "-all",
      "main_language": "python",
      "notebook_metadata_filter": "-all"
    },
    "colab": {
      "provenance": []
    },
    "language_info": {
      "name": "python"
    },
    "kernelspec": {
      "name": "python3",
      "display_name": "Python 3"
    },
    "gpuClass": "standard"
  },
  "nbformat": 4,
  "nbformat_minor": 5
}