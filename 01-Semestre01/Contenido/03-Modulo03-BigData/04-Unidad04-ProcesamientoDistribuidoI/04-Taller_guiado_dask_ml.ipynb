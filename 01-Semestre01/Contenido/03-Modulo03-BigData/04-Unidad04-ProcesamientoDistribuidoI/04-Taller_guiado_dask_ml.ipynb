{
  "cells": [
    {
      "cell_type": "markdown",
      "id": "92b679d6",
      "metadata": {
        "id": "92b679d6"
      },
      "source": [
        "<img src=\"https://drive.google.com/uc?export=view&id=1YjAWn06OMcVhlyixBZBDnY17rnn7Otg5\" width=\"100%\">"
      ]
    },
    {
      "cell_type": "markdown",
      "id": "3859ea5e",
      "metadata": {
        "id": "3859ea5e"
      },
      "source": [
        "# Machine Learning con Dask\n",
        "\n",
        "En este notebook veremos una introducción práctica al procesamiento distribuido con la librería `dask`, primero lo instalaremos:"
      ]
    },
    {
      "cell_type": "code",
      "execution_count": 1,
      "id": "0ebdb2e5",
      "metadata": {
        "id": "0ebdb2e5",
        "colab": {
          "base_uri": "https://localhost:8080/"
        },
        "outputId": "1bd7c31c-2e9e-4ce2-de17-aa2f53ed6ed8"
      },
      "outputs": [
        {
          "output_type": "stream",
          "name": "stdout",
          "text": [
            "Looking in indexes: https://pypi.org/simple, https://us-python.pkg.dev/colab-wheels/public/simple/\n",
            "Requirement already satisfied: dask[complete] in /usr/local/lib/python3.7/dist-packages (2022.2.0)\n",
            "Requirement already satisfied: h5py in /usr/local/lib/python3.7/dist-packages (3.1.0)\n",
            "Collecting dask-ml\n",
            "  Downloading dask_ml-2022.5.27-py3-none-any.whl (148 kB)\n",
            "\u001b[K     |████████████████████████████████| 148 kB 5.2 MB/s \n",
            "\u001b[?25hRequirement already satisfied: cached-property in /usr/local/lib/python3.7/dist-packages (from h5py) (1.5.2)\n",
            "Requirement already satisfied: numpy>=1.14.5 in /usr/local/lib/python3.7/dist-packages (from h5py) (1.21.6)\n",
            "Requirement already satisfied: pandas>=0.24.2 in /usr/local/lib/python3.7/dist-packages (from dask-ml) (1.3.5)\n",
            "Requirement already satisfied: numba>=0.51.0 in /usr/local/lib/python3.7/dist-packages (from dask-ml) (0.56.4)\n",
            "Requirement already satisfied: scikit-learn>=1.0.0 in /usr/local/lib/python3.7/dist-packages (from dask-ml) (1.0.2)\n",
            "Requirement already satisfied: distributed>=2.4.0 in /usr/local/lib/python3.7/dist-packages (from dask-ml) (2022.2.0)\n",
            "Requirement already satisfied: scipy in /usr/local/lib/python3.7/dist-packages (from dask-ml) (1.7.3)\n",
            "Requirement already satisfied: packaging in /usr/local/lib/python3.7/dist-packages (from dask-ml) (21.3)\n",
            "Requirement already satisfied: multipledispatch>=0.4.9 in /usr/local/lib/python3.7/dist-packages (from dask-ml) (0.6.0)\n",
            "Collecting dask-glm>=0.2.0\n",
            "  Downloading dask_glm-0.2.0-py2.py3-none-any.whl (12 kB)\n",
            "Requirement already satisfied: cloudpickle>=0.2.2 in /usr/local/lib/python3.7/dist-packages (from dask-glm>=0.2.0->dask-ml) (1.5.0)\n",
            "Requirement already satisfied: fsspec>=0.6.0 in /usr/local/lib/python3.7/dist-packages (from dask[complete]) (2022.11.0)\n",
            "Requirement already satisfied: pyyaml>=5.3.1 in /usr/local/lib/python3.7/dist-packages (from dask[complete]) (6.0)\n",
            "Requirement already satisfied: toolz>=0.8.2 in /usr/local/lib/python3.7/dist-packages (from dask[complete]) (0.12.0)\n",
            "Requirement already satisfied: partd>=0.3.10 in /usr/local/lib/python3.7/dist-packages (from dask[complete]) (1.3.0)\n",
            "Requirement already satisfied: tornado>=5 in /usr/local/lib/python3.7/dist-packages (from distributed>=2.4.0->dask-ml) (6.0.4)\n",
            "Requirement already satisfied: sortedcontainers!=2.0.0,!=2.0.1 in /usr/local/lib/python3.7/dist-packages (from distributed>=2.4.0->dask-ml) (2.4.0)\n",
            "Requirement already satisfied: psutil>=5.0 in /usr/local/lib/python3.7/dist-packages (from distributed>=2.4.0->dask-ml) (5.4.8)\n",
            "Requirement already satisfied: tblib>=1.6.0 in /usr/local/lib/python3.7/dist-packages (from distributed>=2.4.0->dask-ml) (1.7.0)\n",
            "Requirement already satisfied: jinja2 in /usr/local/lib/python3.7/dist-packages (from distributed>=2.4.0->dask-ml) (2.11.3)\n",
            "Requirement already satisfied: click>=6.6 in /usr/local/lib/python3.7/dist-packages (from distributed>=2.4.0->dask-ml) (7.1.2)\n",
            "Requirement already satisfied: zict>=0.1.3 in /usr/local/lib/python3.7/dist-packages (from distributed>=2.4.0->dask-ml) (2.2.0)\n",
            "Requirement already satisfied: setuptools in /usr/local/lib/python3.7/dist-packages (from distributed>=2.4.0->dask-ml) (57.4.0)\n",
            "Requirement already satisfied: msgpack>=0.6.0 in /usr/local/lib/python3.7/dist-packages (from distributed>=2.4.0->dask-ml) (1.0.4)\n",
            "Requirement already satisfied: six in /usr/local/lib/python3.7/dist-packages (from multipledispatch>=0.4.9->dask-ml) (1.15.0)\n",
            "Requirement already satisfied: llvmlite<0.40,>=0.39.0dev0 in /usr/local/lib/python3.7/dist-packages (from numba>=0.51.0->dask-ml) (0.39.1)\n",
            "Requirement already satisfied: importlib-metadata in /usr/local/lib/python3.7/dist-packages (from numba>=0.51.0->dask-ml) (4.13.0)\n",
            "Requirement already satisfied: pyparsing!=3.0.5,>=2.0.2 in /usr/local/lib/python3.7/dist-packages (from packaging->dask-ml) (3.0.9)\n",
            "Requirement already satisfied: pytz>=2017.3 in /usr/local/lib/python3.7/dist-packages (from pandas>=0.24.2->dask-ml) (2022.6)\n",
            "Requirement already satisfied: python-dateutil>=2.7.3 in /usr/local/lib/python3.7/dist-packages (from pandas>=0.24.2->dask-ml) (2.8.2)\n",
            "Requirement already satisfied: locket in /usr/local/lib/python3.7/dist-packages (from partd>=0.3.10->dask[complete]) (1.0.0)\n",
            "Requirement already satisfied: joblib>=0.11 in /usr/local/lib/python3.7/dist-packages (from scikit-learn>=1.0.0->dask-ml) (1.2.0)\n",
            "Requirement already satisfied: threadpoolctl>=2.0.0 in /usr/local/lib/python3.7/dist-packages (from scikit-learn>=1.0.0->dask-ml) (3.1.0)\n",
            "Requirement already satisfied: heapdict in /usr/local/lib/python3.7/dist-packages (from zict>=0.1.3->distributed>=2.4.0->dask-ml) (1.0.1)\n",
            "Requirement already satisfied: bokeh>=2.1.1 in /usr/local/lib/python3.7/dist-packages (from dask[complete]) (2.3.3)\n",
            "Requirement already satisfied: typing-extensions>=3.7.4 in /usr/local/lib/python3.7/dist-packages (from bokeh>=2.1.1->dask[complete]) (4.1.1)\n",
            "Requirement already satisfied: pillow>=7.1.0 in /usr/local/lib/python3.7/dist-packages (from bokeh>=2.1.1->dask[complete]) (7.1.2)\n",
            "Requirement already satisfied: MarkupSafe>=0.23 in /usr/local/lib/python3.7/dist-packages (from jinja2->distributed>=2.4.0->dask-ml) (2.0.1)\n",
            "Requirement already satisfied: zipp>=0.5 in /usr/local/lib/python3.7/dist-packages (from importlib-metadata->numba>=0.51.0->dask-ml) (3.10.0)\n",
            "Installing collected packages: dask-glm, dask-ml\n",
            "Successfully installed dask-glm-0.2.0 dask-ml-2022.5.27\n"
          ]
        }
      ],
      "source": [
        "!pip install dask[complete] h5py dask-ml"
      ]
    },
    {
      "cell_type": "markdown",
      "id": "9c7a9662",
      "metadata": {
        "id": "9c7a9662"
      },
      "source": [
        "## **1. Introducción**\n",
        "---\n",
        "\n",
        "La librería `dask_ml` nos permite entrenar modelos de machine learning e integrar librerías como `sklearn` para trabajar con grandes cantidades de datos sobre los arreglos y dataframes de `dask`.\n",
        "\n",
        "Primero, vamos a importar las librerías necesarias:"
      ]
    },
    {
      "cell_type": "code",
      "execution_count": 2,
      "id": "b18d2f13",
      "metadata": {
        "id": "b18d2f13"
      },
      "outputs": [],
      "source": [
        "import dask.array as da\n",
        "import matplotlib.pyplot as plt"
      ]
    },
    {
      "cell_type": "markdown",
      "id": "735b317a",
      "metadata": {
        "id": "735b317a"
      },
      "source": [
        "## **2. Carga de Datos**\n",
        "---\n",
        "\n",
        "El proceso de carga de datos se puede realizar con la manipulación de arreglos o dataframes de `dask` como lo pudo ver en los notebooks anteriores.\n",
        "\n",
        "En este caso, usaremos el modulo `datasets` de `dask_ml` para cargar arreglos de `dask` directamente:"
      ]
    },
    {
      "cell_type": "code",
      "execution_count": 3,
      "id": "f126eee7",
      "metadata": {
        "id": "f126eee7"
      },
      "outputs": [],
      "source": [
        "from dask_ml.datasets import make_blobs\n",
        "X, y = make_blobs(n_samples=1000, centers=3, random_state=42, chunks=100)"
      ]
    },
    {
      "cell_type": "markdown",
      "id": "99b56751",
      "metadata": {
        "id": "99b56751"
      },
      "source": [
        "Como se puede observar, es equivalente a la función `make_blobs` de `sklearn`, con la diferencia que acá se requiere especificar el parámetro `chunks` y que los datos creados son arreglos de `dask`:"
      ]
    },
    {
      "cell_type": "code",
      "execution_count": 4,
      "id": "1c32cb91",
      "metadata": {
        "id": "1c32cb91",
        "colab": {
          "base_uri": "https://localhost:8080/"
        },
        "outputId": "81804ac6-6b9e-4837-ffb7-7184b01d5a2f"
      },
      "outputs": [
        {
          "output_type": "stream",
          "name": "stdout",
          "text": [
            "dask.array<concatenate, shape=(1000, 2), dtype=float64, chunksize=(100, 2), chunktype=numpy.ndarray>\n"
          ]
        }
      ],
      "source": [
        "print(X)"
      ]
    },
    {
      "cell_type": "markdown",
      "id": "51efdae5",
      "metadata": {
        "id": "51efdae5"
      },
      "source": [
        "Ya que el conjunto de datos no es muy grande, podemos generar una visualización con `numpy` y `matplotlib`:"
      ]
    },
    {
      "cell_type": "code",
      "execution_count": 5,
      "id": "cde93cb4",
      "metadata": {
        "id": "cde93cb4",
        "colab": {
          "base_uri": "https://localhost:8080/",
          "height": 299
        },
        "outputId": "84efbe90-995d-4893-8213-59d82752d4fa"
      },
      "outputs": [
        {
          "output_type": "execute_result",
          "data": {
            "text/plain": [
              "Text(0, 0.5, '$x_2$')"
            ]
          },
          "metadata": {},
          "execution_count": 5
        },
        {
          "output_type": "display_data",
          "data": {
            "text/plain": [
              "<Figure size 432x288 with 1 Axes>"
            ],
            "image/png": "[encoded data removed]"
          },
          "metadata": {
            "needs_background": "light"
          }
        }
      ],
      "source": [
        "X_np, y_np = X.compute(), y.compute()\n",
        "fig, ax = plt.subplots()\n",
        "ax.scatter(X_np[:, 0], X_np[:, 1], c=y_np, alpha=0.1)\n",
        "ax.set_xlabel(\"$x_1$\")\n",
        "ax.set_ylabel(\"$x_2$\")"
      ]
    },
    {
      "cell_type": "markdown",
      "id": "d3f041b6",
      "metadata": {
        "id": "d3f041b6"
      },
      "source": [
        "## **3. Preprocesamiento**\n",
        "---\n",
        "\n",
        "`dask_ml` tiene un módulo de `preprocesamiento` bastante similar a `sklearn`, por ejemplo, podemos usar un `StandardScaler`:"
      ]
    },
    {
      "cell_type": "code",
      "execution_count": 6,
      "id": "6e761862",
      "metadata": {
        "id": "6e761862",
        "colab": {
          "base_uri": "https://localhost:8080/"
        },
        "outputId": "eb845896-518b-494f-9cf3-1adf62421c1b"
      },
      "outputs": [
        {
          "output_type": "stream",
          "name": "stdout",
          "text": [
            "StandardScaler()\n"
          ]
        }
      ],
      "source": [
        "from dask_ml.preprocessing import StandardScaler\n",
        "norm = StandardScaler().fit(X)\n",
        "print(norm)"
      ]
    },
    {
      "cell_type": "markdown",
      "id": "7b22d92f",
      "metadata": {
        "id": "7b22d92f"
      },
      "source": [
        "Podemos transformar los datos:"
      ]
    },
    {
      "cell_type": "code",
      "execution_count": 7,
      "id": "1a2e9b70",
      "metadata": {
        "id": "1a2e9b70",
        "colab": {
          "base_uri": "https://localhost:8080/"
        },
        "outputId": "688171da-7e8f-40e6-86f5-f558473e2411"
      },
      "outputs": [
        {
          "output_type": "stream",
          "name": "stdout",
          "text": [
            "dask.array<truediv, shape=(1000, 2), dtype=float64, chunksize=(100, 2), chunktype=numpy.ndarray>\n"
          ]
        }
      ],
      "source": [
        "X_t = norm.transform(X)\n",
        "print(X_t)"
      ]
    },
    {
      "cell_type": "markdown",
      "id": "0cfb22f2",
      "metadata": {
        "id": "0cfb22f2"
      },
      "source": [
        "## **4. Validación Cruzada**\n",
        "---\n",
        "\n",
        "El módulo `model_selection` de `dask_ml` es bastante similar al de `sklearn`, por ejemplo la función `train_test_split`:"
      ]
    },
    {
      "cell_type": "code",
      "execution_count": 8,
      "id": "2ea88afe",
      "metadata": {
        "id": "2ea88afe"
      },
      "outputs": [],
      "source": [
        "from dask_ml.model_selection import train_test_split\n",
        "X_train, X_test, y_train, y_test = train_test_split(\n",
        "        X_t, y, test_size=0.3\n",
        "        )"
      ]
    },
    {
      "cell_type": "markdown",
      "id": "da2785ce",
      "metadata": {
        "id": "da2785ce"
      },
      "source": [
        "Nuevamente, todos los resultados son arreglos de `dask`:"
      ]
    },
    {
      "cell_type": "code",
      "execution_count": 9,
      "id": "65119f5e",
      "metadata": {
        "id": "65119f5e",
        "colab": {
          "base_uri": "https://localhost:8080/"
        },
        "outputId": "f43c7dea-996d-4f51-fb6c-556699b059a3"
      },
      "outputs": [
        {
          "output_type": "stream",
          "name": "stdout",
          "text": [
            "dask.array<concatenate, shape=(700, 2), dtype=float64, chunksize=(70, 2), chunktype=numpy.ndarray>\n"
          ]
        }
      ],
      "source": [
        "print(X_train)"
      ]
    },
    {
      "cell_type": "markdown",
      "id": "0718796f",
      "metadata": {
        "id": "0718796f"
      },
      "source": [
        "## **5. Modelamiento**\n",
        "---\n",
        "\n",
        "Tenemos distintas formas de usar modelos de forma distribuida en `dask_ml`, por un lado, los modelos internos:"
      ]
    },
    {
      "cell_type": "code",
      "execution_count": 10,
      "id": "3060a05f",
      "metadata": {
        "id": "3060a05f",
        "colab": {
          "base_uri": "https://localhost:8080/"
        },
        "outputId": "2782ea8c-45c4-429c-89f9-570f57c7ef51"
      },
      "outputs": [
        {
          "output_type": "stream",
          "name": "stdout",
          "text": [
            "LogisticRegression()\n"
          ]
        }
      ],
      "source": [
        "from dask_ml.linear_model import LogisticRegression\n",
        "model = LogisticRegression().fit(X_train, y_train)\n",
        "print(model)"
      ]
    },
    {
      "cell_type": "markdown",
      "id": "adfbe550",
      "metadata": {
        "id": "adfbe550"
      },
      "source": [
        "Como puede ver, el módulo `linear_model` es equivalente a `sklearn`, no obstante, podemos usar cualquier modelo de `sklearn` siempre que este tenga el método `partial_fit`, es decir, modelos que no requieren ver el conjunto de datos completo para su entrenamiento (únicamente algunas partes). En [este enlace](https://scikit-learn.org/0.15/modules/scaling_strategies.html) encuentra una descripción de qué modelos se pueden usar. Cualquiera de estos modelos se puede escalar con `dask_ml`. Veamos un ejemplo:"
      ]
    },
    {
      "cell_type": "code",
      "execution_count": 11,
      "id": "7e6a4f1b",
      "metadata": {
        "id": "7e6a4f1b",
        "colab": {
          "base_uri": "https://localhost:8080/"
        },
        "outputId": "d6383a91-a313-4138-8f9c-be3c247302f0"
      },
      "outputs": [
        {
          "output_type": "stream",
          "name": "stdout",
          "text": [
            "Incremental(estimator=SGDClassifier(max_iter=100, random_state=0))\n"
          ]
        }
      ],
      "source": [
        "from sklearn.linear_model import SGDClassifier # Modelo a escalar\n",
        "from dask_ml.wrappers import Incremental # Clase para escalar modelo\n",
        "model = Incremental(SGDClassifier(random_state=0, max_iter=100))\n",
        "print(model)"
      ]
    },
    {
      "cell_type": "markdown",
      "id": "10bc112a",
      "metadata": {
        "id": "10bc112a"
      },
      "source": [
        "En este caso, tenemos un nuevo modelo de `dask` que podemos usar como el modelo anterior, es decir, lo podemos entrenar con arreglos de `dask`, en este caso usamos `classes` para especificar los valores únicos que tienen las etiquetas (recuerde que el modelo no ve el conjunto de datos completo, entonces no lo puede saber de antemano)."
      ]
    },
    {
      "cell_type": "code",
      "execution_count": 12,
      "id": "ef89cad7",
      "metadata": {
        "id": "ef89cad7",
        "colab": {
          "base_uri": "https://localhost:8080/"
        },
        "outputId": "202953f8-f05d-4fe4-9b30-74c4263681f7"
      },
      "outputs": [
        {
          "output_type": "execute_result",
          "data": {
            "text/plain": [
              "Incremental(estimator=SGDClassifier(max_iter=100, random_state=0))"
            ]
          },
          "metadata": {},
          "execution_count": 12
        }
      ],
      "source": [
        "model.fit(X_train, y_train, classes=[0, 1, 2])"
      ]
    },
    {
      "cell_type": "markdown",
      "id": "78c8e328",
      "metadata": {
        "id": "78c8e328"
      },
      "source": [
        "## **6. Evaluación**\n",
        "---\n",
        "\n",
        "`dask_ml` también tiene su paquete de métricas que permiten evaluarse sobre elementos de `dask` (algunas métricas no se pueden evaluar fácilmente, entonces es necesario hacerlo desde `sklearn`), primero, calculamos las predicciones:"
      ]
    },
    {
      "cell_type": "code",
      "execution_count": 13,
      "id": "742fbf00",
      "metadata": {
        "id": "742fbf00",
        "colab": {
          "base_uri": "https://localhost:8080/"
        },
        "outputId": "305493d3-f354-40b4-ec8a-17833a8d7347"
      },
      "outputs": [
        {
          "output_type": "stream",
          "name": "stdout",
          "text": [
            "dask.array<_predict, shape=(300,), dtype=int64, chunksize=(30,), chunktype=numpy.ndarray>\n"
          ]
        }
      ],
      "source": [
        "y_pred = model.predict(X_test)\n",
        "print(y_pred)"
      ]
    },
    {
      "cell_type": "markdown",
      "id": "3a87d027",
      "metadata": {
        "id": "3a87d027"
      },
      "source": [
        "Ahora, evaluamos el accuracy:"
      ]
    },
    {
      "cell_type": "code",
      "execution_count": 14,
      "id": "cddaef09",
      "metadata": {
        "id": "cddaef09",
        "colab": {
          "base_uri": "https://localhost:8080/"
        },
        "outputId": "6a4a783e-eead-4a88-d7d9-f008f10989e3"
      },
      "outputs": [
        {
          "output_type": "stream",
          "name": "stdout",
          "text": [
            "1.0\n"
          ]
        }
      ],
      "source": [
        "from dask_ml.metrics import accuracy_score\n",
        "print(accuracy_score(y_test, y_pred))"
      ]
    },
    {
      "cell_type": "markdown",
      "id": "e34d6751",
      "metadata": {
        "id": "e34d6751"
      },
      "source": [
        "Como pudimos ver, `dask_ml` es una alternativa bastante interesante para poder entrenar modelos con grandes cantidades de datos, también resulta ser bastante útil por su alta compatibilidad con `sklearn`."
      ]
    },
    {
      "cell_type": "markdown",
      "id": "bd68718b",
      "metadata": {
        "id": "bd68718b"
      },
      "source": [
        "## **7. Recursos Adicionales**\n",
        "---\n",
        "\n",
        "* [DaskML](https://ml.dask.org/).\n",
        "* [Dask - Talks & tutorials](https://docs.dask.org/en/stable/presentations.html)."
      ]
    },
    {
      "cell_type": "markdown",
      "id": "0f0b9681",
      "metadata": {
        "id": "0f0b9681"
      },
      "source": [
        "## **8. Créditos**\n",
        "---\n",
        "\n",
        "**Profesor**\n",
        "\n",
        "- [Jorge E. Camargo, PhD](https://dis.unal.edu.co/~jecamargom/)\n",
        "\n",
        "**Diseño, desarrollo del notebook y material audiovisual**\n",
        "\n",
        "- [Juan S. Lara MSc](https://www.linkedin.com/in/juan-sebastian-lara-ramirez-43570a214/)\n",
        "\n",
        "**Universidad Nacional de Colombia** - *Facultad de Ingeniería*"
      ]
    }
  ],
  "metadata": {
    "jupytext": {
      "cell_metadata_filter": "-all",
      "main_language": "python",
      "notebook_metadata_filter": "-all"
    },
    "colab": {
      "provenance": []
    },
    "language_info": {
      "name": "python"
    },
    "kernelspec": {
      "name": "python3",
      "display_name": "Python 3"
    },
    "gpuClass": "standard"
  },
  "nbformat": 4,
  "nbformat_minor": 5
}