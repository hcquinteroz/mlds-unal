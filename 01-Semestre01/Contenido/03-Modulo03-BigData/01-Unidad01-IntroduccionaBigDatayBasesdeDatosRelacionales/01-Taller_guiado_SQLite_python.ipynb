{
  "cells": [
    {
      "cell_type": "markdown",
      "id": "0583e75a",
      "metadata": {
        "id": "0583e75a"
      },
      "source": [
        "<img src=\"https://drive.google.com/uc?export=view&id=1249lwqHObZj1y3PK_XM8ak5p7UinVV5D\" width=\"100%\"></img>"
      ]
    },
    {
      "cell_type": "markdown",
      "id": "743b8bb9",
      "metadata": {
        "id": "743b8bb9"
      },
      "source": [
        "# **SQLite en Python**\n",
        "---\n",
        "\n",
        "En este notebook se da una introducción práctica a los drivers para la integración y comunicación entre el motor de bases relacionales _SQLite_ y el lenguaje de programación _Python_."
      ]
    },
    {
      "cell_type": "markdown",
      "id": "62c33e56",
      "metadata": {
        "id": "62c33e56"
      },
      "source": [
        "## **1. ¿Qué es SQLite?**\n",
        "---\n",
        "\n",
        "<img src=\"https://drive.google.com/uc?export=view&id=1w_3ATgX2eL5PU_L5YNTxsHsQZ3V-46aj\" width=\"40%\"></img>\n",
        "\n",
        "* Se trata de un motor de bases de datos tipo SQL creado por D. Richard Hipp en el 2000.\n",
        "* Se trata de un sistema de gestión contenido en una librería pequeña (~275KB) escrita en el lenguaje de programación C.\n",
        "* Permite manipular información tabular y relacional en ficheros archivos como `.dat` o en memoria (similar a como funciona `pandas`).\n",
        "\n",
        "SQLite es un motor de base de datos ligero que opera con el sistema de archivos local sin necesidad de un servidor con una integración sencilla con _Python_, basado en el lenguaje de dominio general SQL (del inglés _Structured Query Language_), usado ampliamente en una amplia variedad gestores de bases de datos relacionales, y siendo uno de los pilares fundamentales del almacenamiento tradicional.\n",
        "\n",
        "Por defecto, _Python_ trae una librería estándar: **`sqlite3`** que permite interactuar con esta base de datos:"
      ]
    },
    {
      "cell_type": "code",
      "execution_count": 1,
      "id": "51a86440",
      "metadata": {
        "id": "51a86440"
      },
      "outputs": [],
      "source": [
        "import sqlite3"
      ]
    },
    {
      "cell_type": "markdown",
      "id": "6be81af4",
      "metadata": {
        "id": "6be81af4"
      },
      "source": [
        "## **2. Creación y Conexión a la Base de Datos**\n",
        "---\n",
        "\n",
        "Hay dos modos de uso de `sqlite`:\n",
        "\n",
        "* Persistente.\n",
        "* Basado en memoria."
      ]
    },
    {
      "cell_type": "markdown",
      "id": "2a95a051",
      "metadata": {
        "id": "2a95a051"
      },
      "source": [
        "### **2.1. Persistente**\n",
        "---\n",
        "\n",
        "En este modo se crea un fichero binario donde se almacenan los datos en el disco duro.\n",
        "\n",
        "Veamos un ejemplo de esto en _Python_:"
      ]
    },
    {
      "cell_type": "code",
      "execution_count": 2,
      "id": "9d9430d9",
      "metadata": {
        "id": "9d9430d9",
        "colab": {
          "base_uri": "https://localhost:8080/"
        },
        "outputId": "d4179c74-a93f-4e08-b4b3-445aa6dc0ca8"
      },
      "outputs": [
        {
          "output_type": "stream",
          "name": "stdout",
          "text": [
            "<sqlite3.Connection object at 0x7f94fe6ca570>\n",
            "<class 'sqlite3.Connection'>\n"
          ]
        }
      ],
      "source": [
        "connection = sqlite3.connect(\"database.db\")\n",
        "print(connection)\n",
        "print(type(connection))\n",
        "connection.close()"
      ]
    },
    {
      "cell_type": "markdown",
      "id": "852d0ee9",
      "metadata": {
        "id": "852d0ee9"
      },
      "source": [
        "Esta función recibe como argumento `database`, el cual puede ser interpretado de varias maneras. En este caso, se genera un archivo en el disco con el contenido de la base de datos. Procedemos a ver el archivo generado:"
      ]
    },
    {
      "cell_type": "code",
      "execution_count": 3,
      "id": "00aad436",
      "metadata": {
        "id": "00aad436",
        "colab": {
          "base_uri": "https://localhost:8080/"
        },
        "outputId": "9e93bea7-70d5-43f8-9faa-42dee6c736d4"
      },
      "outputs": [
        {
          "output_type": "stream",
          "name": "stdout",
          "text": [
            "-rw-r--r-- 1 root root 0 Oct 31 17:14 database.db\n"
          ]
        }
      ],
      "source": [
        "!ls -l database.db # con este comando podemos listar archivos y sus tamaños"
      ]
    },
    {
      "cell_type": "markdown",
      "id": "e4187c9f",
      "metadata": {
        "id": "e4187c9f"
      },
      "source": [
        "### **2.2. Basado en Memoria**\n",
        "---\n",
        "\n",
        "En este modo, `sqlite` crea la base de datos directamente en la memoria RAM (del mismo modo en el que funciona `pandas`).\n",
        "\n",
        "Cuando trabajamos en memoria tenemos las siguientes consideraciones:\n",
        "\n",
        "* Las operaciones sobre la memoria RAM suele ser más rápida en comparación con el disco.\n",
        "* Generalmente el tamaño de la memoria RAM es menor en comparación con el tamaño de almacenamiento en disco, lo cual impone una restricción sobre el número de datos que se pueden manipular.\n",
        "\n",
        "Veamos un ejemplo en _Python_:"
      ]
    },
    {
      "cell_type": "code",
      "execution_count": 5,
      "id": "7e82070e",
      "metadata": {
        "id": "7e82070e",
        "colab": {
          "base_uri": "https://localhost:8080/"
        },
        "outputId": "a75659dd-2874-47d3-e329-80ff83406905"
      },
      "outputs": [
        {
          "output_type": "stream",
          "name": "stdout",
          "text": [
            "<sqlite3.Connection object at 0x7f94fe6ca570>\n",
            "<class 'sqlite3.Connection'>\n"
          ]
        }
      ],
      "source": [
        "connection = sqlite3.connect(\":memory:\")\n",
        "print(connection)\n",
        "print(type(connection))\n",
        "connection.close()"
      ]
    },
    {
      "cell_type": "markdown",
      "id": "3bf56a79",
      "metadata": {
        "id": "3bf56a79"
      },
      "source": [
        "Para el siguiente ejemplo, crearemos una base de datos persistida:"
      ]
    },
    {
      "cell_type": "code",
      "execution_count": 6,
      "id": "2d35225b",
      "metadata": {
        "id": "2d35225b"
      },
      "outputs": [],
      "source": [
        "connection = sqlite3.connect(\"database.db\")"
      ]
    },
    {
      "cell_type": "markdown",
      "id": "a06c0bf7",
      "metadata": {
        "id": "a06c0bf7"
      },
      "source": [
        "## **3. Creación del Cursor**\n",
        "---\n",
        "\n",
        "Generalmente los drivers para conexión a distintas bases de datos definen un objeto de tipo [cursor](https://es.wikipedia.org/wiki/Cursor_(base_de_datos)) con el cual controlamos la ejecución de comandos o consultas (query)."
      ]
    },
    {
      "cell_type": "code",
      "execution_count": 7,
      "id": "b9e3a874",
      "metadata": {
        "id": "b9e3a874"
      },
      "outputs": [],
      "source": [
        "cursor = connection.cursor()"
      ]
    },
    {
      "cell_type": "markdown",
      "id": "a31ebaba",
      "metadata": {
        "id": "a31ebaba"
      },
      "source": [
        "## **4. Ejecución de Consulta**\n",
        "---\n",
        "\n",
        "Veamos cómo ejecutar una consulta SQL con el cursor (en el notebook `3_conceptos_sql.ipynb` encontrará más información de la sintaxis SQL estándar."
      ]
    },
    {
      "cell_type": "code",
      "execution_count": 8,
      "id": "7f3b97e9",
      "metadata": {
        "id": "7f3b97e9",
        "colab": {
          "base_uri": "https://localhost:8080/"
        },
        "outputId": "4f436d33-14da-4b8b-8627-56c2930373b4"
      },
      "outputs": [
        {
          "output_type": "execute_result",
          "data": {
            "text/plain": [
              "<sqlite3.Cursor at 0x7f94fe565c00>"
            ]
          },
          "metadata": {},
          "execution_count": 8
        }
      ],
      "source": [
        "query = \"\"\"\n",
        "CREATE TABLE test (\n",
        "    id INTEGER PRIMARY KEY,\n",
        "    age INTEGER,\n",
        "    name VARCHAR(255)\n",
        "    ) \n",
        ";\n",
        "\"\"\"\n",
        "cursor.execute(query)"
      ]
    },
    {
      "cell_type": "markdown",
      "id": "099bd920",
      "metadata": {
        "id": "099bd920"
      },
      "source": [
        "El método `commit` da persistencia de las operaciones que estamos realizando, se suele usar cuando insertamos/creamos/actualizamos datos."
      ]
    },
    {
      "cell_type": "code",
      "execution_count": 9,
      "id": "c32ea805",
      "metadata": {
        "id": "c32ea805"
      },
      "outputs": [],
      "source": [
        "connection.commit()"
      ]
    },
    {
      "cell_type": "markdown",
      "id": "47204f48",
      "metadata": {
        "id": "47204f48"
      },
      "source": [
        "## **5. Validación**\n",
        "---\n",
        "\n",
        "Podemos revisar el tamaño del fichero creado para evidenciar que se ha guardado la información"
      ]
    },
    {
      "cell_type": "code",
      "execution_count": 10,
      "id": "88bd45c2",
      "metadata": {
        "id": "88bd45c2",
        "colab": {
          "base_uri": "https://localhost:8080/"
        },
        "outputId": "b83dc04b-2aed-47e4-d2f7-e85e297de739"
      },
      "outputs": [
        {
          "output_type": "stream",
          "name": "stdout",
          "text": [
            "-rw-r--r-- 1 root root 8192 Oct 31 17:17 database.db\n"
          ]
        }
      ],
      "source": [
        "!ls -l database.db"
      ]
    },
    {
      "cell_type": "markdown",
      "id": "a6f96205",
      "metadata": {
        "id": "a6f96205"
      },
      "source": [
        "Finalmente cerramos la conexión:"
      ]
    },
    {
      "cell_type": "code",
      "execution_count": 11,
      "id": "aee39c54",
      "metadata": {
        "id": "aee39c54"
      },
      "outputs": [],
      "source": [
        "connection.close()"
      ]
    },
    {
      "cell_type": "markdown",
      "id": "d8e8567e",
      "metadata": {
        "id": "d8e8567e"
      },
      "source": [
        "## **6. Recursos Adicionales**\n",
        "---\n",
        "\n",
        "* [SQLite Documentation](https://www.sqlite.org/docs.html)\n",
        "* [sqlite3 — DB-API 2.0 interface for SQLite databases](https://docs.python.org/3/library/sqlite3.html)"
      ]
    },
    {
      "cell_type": "markdown",
      "id": "26ce75dd",
      "metadata": {
        "id": "26ce75dd"
      },
      "source": [
        "## **7. Créditos**\n",
        "---\n",
        "\n",
        "**Profesor**\n",
        "\n",
        "- [Jorge E. Camargo, PhD](https://dis.unal.edu.co/~jecamargom/)\n",
        "\n",
        "**Diseño, desarrollo del notebook y material audiovisual**\n",
        "\n",
        "- [Juan S. Lara MSc](https://www.linkedin.com/in/juan-sebastian-lara-ramirez-43570a214/)\n",
        "\n",
        "**Universidad Nacional de Colombia** - *Facultad de Ingeniería*"
      ]
    }
  ],
  "metadata": {
    "jupytext": {
      "cell_metadata_filter": "-all",
      "main_language": "python",
      "notebook_metadata_filter": "-all"
    },
    "colab": {
      "provenance": [],
      "collapsed_sections": []
    },
    "language_info": {
      "name": "python"
    },
    "kernelspec": {
      "name": "python3",
      "display_name": "Python 3"
    },
    "gpuClass": "standard"
  },
  "nbformat": 4,
  "nbformat_minor": 5
}