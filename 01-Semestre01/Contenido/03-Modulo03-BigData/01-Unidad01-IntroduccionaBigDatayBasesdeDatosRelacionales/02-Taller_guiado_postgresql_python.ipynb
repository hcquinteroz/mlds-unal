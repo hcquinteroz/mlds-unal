{
  "cells": [
    {
      "cell_type": "markdown",
      "id": "dffb3cd3",
      "metadata": {
        "id": "dffb3cd3"
      },
      "source": [
        "<img src=\"https://drive.google.com/uc?export=view&id=1249lwqHObZj1y3PK_XM8ak5p7UinVV5D\" width=\"100%\"></img>"
      ]
    },
    {
      "cell_type": "markdown",
      "id": "c82c75b6",
      "metadata": {
        "id": "c82c75b6"
      },
      "source": [
        "# PostgreSQL en Python\n",
        "---\n",
        "\n",
        "En este notebook se da una introducción práctica a los drivers para la integración y comunicación entre el motor de bases relacionales _PostgreSQL_ y el lenguaje de programación _Python_."
      ]
    },
    {
      "cell_type": "markdown",
      "id": "240f37fd",
      "metadata": {
        "id": "240f37fd"
      },
      "source": [
        "## **1. ¿Qué es PostgreSQL?**\n",
        "\n",
        "<img src=\"https://drive.google.com/uc?export=view&id=1zos8fgbafUloIVZIVIIOcJlIY5EzoMQI\" width=\"60%\"></img>\n",
        "\n",
        "* Se trata de un motor de bases de datos tipo SQL creado por Michael Stonebreaker en 1996.\n",
        "* Fue programado en el lenguaje de programación C, lo cual hace que sea una base de datos bastante rápida.\n",
        "* Tiene actualizaciones constantes y en la actualidad es una de las bases de datos relacionales más usadas."
      ]
    },
    {
      "cell_type": "markdown",
      "id": "50596dab",
      "metadata": {
        "id": "50596dab"
      },
      "source": [
        "## **2. Creación de la Base de Datos**\n",
        "---\n",
        "\n",
        "Para esta práctica debe crear una cuenta gratuita en [bit.io](https://bit.io/register):\n",
        "\n",
        "<img src=\"https://drive.google.com/uc?export=view&id=1PspHXjVZjdfO0WUSIqDSVA_MFLRYviWi\" width=\"100%\"></img>\n",
        "\n",
        "También debe darle un nombre a su base de datos:\n",
        "\n",
        "<img src=\"https://drive.google.com/uc?export=view&id=1pEFb91FbjLJbBip2apJp-9z1mMRnM7av\" width=\"100%\"></img>\n",
        "\n",
        "[bit.io](https://bit.io/register) es un servicio gratuito en la nube que nos permite crear un servidor _PostgreSQL_ con un tamaño máximo de 3GB.\n",
        "\n",
        "Para conectarnos, debemos instalar el driver de _PostgreSQL_ para _Python_: `psycopg2`."
      ]
    },
    {
      "cell_type": "code",
      "execution_count": 1,
      "id": "e9a459dc",
      "metadata": {
        "id": "e9a459dc",
        "colab": {
          "base_uri": "https://localhost:8080/"
        },
        "outputId": "fbb9a82f-1562-42f9-c486-53867b79b2a1"
      },
      "outputs": [
        {
          "output_type": "stream",
          "name": "stdout",
          "text": [
            "Looking in indexes: https://pypi.org/simple, https://us-python.pkg.dev/colab-wheels/public/simple/\n",
            "Requirement already satisfied: psycopg2 in /usr/local/lib/python3.7/dist-packages (2.9.5)\n"
          ]
        }
      ],
      "source": [
        "!pip install psycopg2"
      ]
    },
    {
      "cell_type": "code",
      "execution_count": 2,
      "id": "ea66289e",
      "metadata": {
        "id": "ea66289e"
      },
      "outputs": [],
      "source": [
        "import psycopg2"
      ]
    },
    {
      "cell_type": "markdown",
      "id": "06c4021e",
      "metadata": {
        "id": "06c4021e"
      },
      "source": [
        "## **3. Conexión a la Base de Datos**\n",
        "---\n",
        "\n",
        "De forma similar al manejo de `sqlite`, debemos crear un objeto de conexión. Para la conexión con bases de datos por lo general se requiere usar los siguientes datos de autenticación:\n",
        "\n",
        "* `host`: dominio del servidor de base de datos o dirección IP.\n",
        "* `user`: usuario dentro del servidor.\n",
        "* `password`: contraseña del usuario.\n",
        "* `port`: puerto de conexión del servidor.\n",
        "* `database`: nombre de la base de datos para la conexión.\n",
        "\n",
        "Una vez creada la base de datos, le aparecerán los campos en la pestaña de conexión:\n",
        "\n",
        "<img src=\"https://drive.google.com/uc?export=view&id=1b3yZQqmwZWcNiXldKATv33RsZH46Ioiz\" width=\"100%\"></img>\n",
        "\n",
        "Veamos cómo realizar la conexión:"
      ]
    },
    {
      "cell_type": "code",
      "execution_count": 3,
      "id": "20b5a309",
      "metadata": {
        "id": "20b5a309",
        "colab": {
          "base_uri": "https://localhost:8080/"
        },
        "outputId": "bc18c112-961c-4cce-c43b-e2ad2546f1e7"
      },
      "outputs": [
        {
          "output_type": "stream",
          "name": "stdout",
          "text": [
            "<connection object at 0x7fc9bd819c20; dsn: 'user=hcquinteroz password=xxx dbname=hcquinteroz/mlds3 host=db.bit.io port=5432', closed: 0>\n",
            "<class 'psycopg2.extensions.connection'>\n"
          ]
        }
      ],
      "source": [
        "# debe reemplazar los parámetros de conexión:\n",
        "connection = psycopg2.connect(\n",
        "        host=\"db.bit.io\",\n",
        "        database=\"hcquinteroz/mlds3\",\n",
        "        user=\"hcquinteroz\",\n",
        "        password=\"v2_3vDhQ_QfuNbfreCFXPNjFj6tZuCkG\",\n",
        "        port=\"5432\",\n",
        "        )\n",
        "print(connection)\n",
        "print(type(connection))"
      ]
    },
    {
      "cell_type": "markdown",
      "id": "b7708c1d",
      "metadata": {
        "id": "b7708c1d"
      },
      "source": [
        "## **4. Creación del Cursor**\n",
        "---\n",
        "\n",
        "Generalmente los drivers para conexión a distintas bases de datos definen un objeto de tipo [cursor](https://es.wikipedia.org/wiki/Cursor_(base_de_datos)) con el cual controlamos la ejecución de comandos o consultas (query)."
      ]
    },
    {
      "cell_type": "code",
      "execution_count": 4,
      "id": "1c1e670e",
      "metadata": {
        "id": "1c1e670e"
      },
      "outputs": [],
      "source": [
        "cursor = connection.cursor()"
      ]
    },
    {
      "cell_type": "markdown",
      "id": "a49d9dea",
      "metadata": {
        "id": "a49d9dea"
      },
      "source": [
        "## **5. Ejecución de Consulta**\n",
        "---\n",
        "\n",
        "Veamos cómo ejecutar una consulta SQL con el cursor (en el notebook `3_conceptos_sql.ipynb` encontrará más información de la sintaxis SQL estándar."
      ]
    },
    {
      "cell_type": "code",
      "execution_count": 5,
      "id": "21ede4a4",
      "metadata": {
        "id": "21ede4a4"
      },
      "outputs": [],
      "source": [
        "query = \"\"\"\n",
        "CREATE TABLE test (\n",
        "    id INTEGER PRIMARY KEY,\n",
        "    age INTEGER,\n",
        "    name VARCHAR(255)\n",
        "    ) \n",
        ";\n",
        "\"\"\"\n",
        "cursor.execute(query)"
      ]
    },
    {
      "cell_type": "markdown",
      "id": "3ec8ec23",
      "metadata": {
        "id": "3ec8ec23"
      },
      "source": [
        "El método `commit` da persistencia de las operaciones que estamos realizando, se suele usar cuando insertamos/creamos/actualizamos datos."
      ]
    },
    {
      "cell_type": "code",
      "execution_count": 6,
      "id": "de942896",
      "metadata": {
        "id": "de942896"
      },
      "outputs": [],
      "source": [
        "connection.commit()"
      ]
    },
    {
      "cell_type": "markdown",
      "id": "969e4f57",
      "metadata": {
        "id": "969e4f57"
      },
      "source": [
        "## **6. Validación**\n",
        "---\n",
        "\n",
        "Desde [bit.io](https://bit.io/register) puede validar si realizó bien el procedimiento si consigue ver la tabla `test` correctamente creada:\n",
        "\n",
        "<img src=\"https://drive.google.com/uc?export=view&id=1snArlT9cG20O76zX-K5kOPYrL9AvXRQD\" width=\"40%\"></img>\n",
        "\n",
        "Finalmente, puede correr el siguiente comando para limpiar la base de datos y cerrar la conexión:"
      ]
    },
    {
      "cell_type": "code",
      "execution_count": 7,
      "id": "fa1019eb",
      "metadata": {
        "id": "fa1019eb"
      },
      "outputs": [],
      "source": [
        "query = \"\"\"\n",
        "DROP TABLE test;\n",
        "\"\"\"\n",
        "cursor.execute(query)\n",
        "connection.commit()\n",
        "connection.close()"
      ]
    },
    {
      "cell_type": "markdown",
      "id": "66ff47e0",
      "metadata": {
        "id": "66ff47e0"
      },
      "source": [
        "## **7. Recursos Adicionales**\n",
        "---\n",
        "\n",
        "* [PostgreSQL documentation](https://www.postgresql.org/docs/).\n",
        "* [PostgreSQL driver for Python](https://www.psycopg.org/)."
      ]
    },
    {
      "cell_type": "markdown",
      "id": "84c58715",
      "metadata": {
        "id": "84c58715"
      },
      "source": [
        "## **8. Créditos**\n",
        "---\n",
        "\n",
        "**Profesor**\n",
        "\n",
        "- [Jorge E. Camargo, PhD](https://dis.unal.edu.co/~jecamargom/)\n",
        "\n",
        "**Diseño, desarrollo del notebook y material audiovisual**\n",
        "\n",
        "- [Juan S. Lara MSc](https://www.linkedin.com/in/juan-sebastian-lara-ramirez-43570a214/)\n",
        "\n",
        "**Universidad Nacional de Colombia** - *Facultad de Ingeniería*"
      ]
    }
  ],
  "metadata": {
    "jupytext": {
      "cell_metadata_filter": "-all",
      "main_language": "python",
      "notebook_metadata_filter": "-all"
    },
    "colab": {
      "provenance": [],
      "collapsed_sections": []
    },
    "language_info": {
      "name": "python"
    },
    "kernelspec": {
      "name": "python3",
      "display_name": "Python 3"
    },
    "gpuClass": "standard"
  },
  "nbformat": 4,
  "nbformat_minor": 5
}