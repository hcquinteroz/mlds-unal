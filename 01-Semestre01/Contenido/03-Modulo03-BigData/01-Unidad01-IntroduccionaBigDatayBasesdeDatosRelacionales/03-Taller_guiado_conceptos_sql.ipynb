{
  "cells": [
    {
      "cell_type": "markdown",
      "id": "d1ca9ae2",
      "metadata": {
        "id": "d1ca9ae2"
      },
      "source": [
        "<img src=\"https://drive.google.com/uc?export=view&id=1249lwqHObZj1y3PK_XM8ak5p7UinVV5D\" width=\"100%\"></img>"
      ]
    },
    {
      "cell_type": "markdown",
      "id": "064309c3",
      "metadata": {
        "id": "064309c3"
      },
      "source": [
        "# **Conceptos de SQL Desde Python**\n",
        "---\n",
        "\n",
        "En este notebook se da una introducción práctica al lenguaje de consulta SQL desde Python.\n",
        "\n",
        "Para este taller guiado, debe conectarse a su base de datos `PostgreSQL` como se indica en el notebook `2_postgresql_python.ipynb`."
      ]
    },
    {
      "cell_type": "code",
      "execution_count": 1,
      "id": "a5177428",
      "metadata": {
        "id": "a5177428",
        "colab": {
          "base_uri": "https://localhost:8080/"
        },
        "outputId": "829213dd-84dc-4d54-9a51-a4c88b5e675e"
      },
      "outputs": [
        {
          "output_type": "stream",
          "name": "stdout",
          "text": [
            "Looking in indexes: https://pypi.org/simple, https://us-python.pkg.dev/colab-wheels/public/simple/\n",
            "Requirement already satisfied: psycopg2 in /usr/local/lib/python3.7/dist-packages (2.9.5)\n"
          ]
        }
      ],
      "source": [
        "!pip install psycopg2"
      ]
    },
    {
      "cell_type": "code",
      "execution_count": 3,
      "id": "66f539b8",
      "metadata": {
        "id": "66f539b8"
      },
      "outputs": [],
      "source": [
        "import psycopg2"
      ]
    },
    {
      "cell_type": "code",
      "execution_count": 4,
      "id": "c6562d4c",
      "metadata": {
        "id": "c6562d4c"
      },
      "outputs": [],
      "source": [
        "# Reemplazar parámetros de conexión con los valores de su base de datos:\n",
        "\n",
        "HOST = \"db.bit.io\"\n",
        "DB = \"hcquinteroz/mlds3\"\n",
        "USER = \"hcquinteroz\"\n",
        "PASSWORD = \"v2_3vDhb_Awd5y3bW7eXQHCppgDpJVjp\"\n",
        "PORT = \"5432\""
      ]
    },
    {
      "cell_type": "markdown",
      "id": "fb872d52",
      "metadata": {
        "id": "fb872d52"
      },
      "source": [
        "En este caso, vamos a ver cómo realizar distintas operaciones CRUD desde SQL:\n",
        "\n",
        "- **Create**: operaciones de creación de datos (tablas y registros).\n",
        "- **Read**: operaciones de lectura de datos (consultas).\n",
        "- **Update**: operaciones de actualización de datos.\n",
        "- **Delete**: operaciones para eliminar datos (tablas y registros).\n",
        "\n",
        "Veamos algunas de ellas:"
      ]
    },
    {
      "cell_type": "markdown",
      "id": "4e9d5d2f",
      "metadata": {
        "id": "4e9d5d2f"
      },
      "source": [
        "## **1. Creación**\n",
        "---\n",
        "\n",
        "* Dentro de una base de datos `sql` por lo general creamos datos en forma tabular (filas y columnas).\n",
        "* Por organización cada tabla tiene un número definido de campos (columnas) con determinados tipos. SQL estándar define los siguientes tipos de datos:\n",
        "\n",
        "<img src=\"https://drive.google.com/uc?export=view&id=1sSM54NkjqSiqVFweM3urGDOgjoAMYehH\" width=\"100%\"></img>"
      ]
    },
    {
      "cell_type": "markdown",
      "id": "b502aa80",
      "metadata": {
        "id": "b502aa80"
      },
      "source": [
        "### 1.1. Creación de Tablas\n",
        "---\n",
        "\n",
        "Veamos la sintaxis general para la creación de una tabla:\n",
        "\n",
        "```sql\n",
        "CREATE TABLE <nombre_tabla> (\n",
        "    <nombre_columna1> <TIPO_COLUMNA> <RESTICCION_COLUMNA>,\n",
        "    <nombre_columna2> <TIPO_COLUMNA> <RESTICCION_COLUMNA>,\n",
        "    <nombre_columna3> <TIPO_COLUMNA> <RESTICCION_COLUMNA>,\n",
        "    PRIMARY KEY <llave_primaria>,\n",
        "    FOREIGN KEY <llave_foranea> REFERENCES <nombre_otra_tabla> (<columna_otra_tabla>)\n",
        ");\n",
        "```\n",
        "\n",
        "* Cada tabla debe tener una columna que actúe como llave primaria (identificador único).\n",
        "* Una tabla puede opcionalmente tener llaves foráneas (columnas que se relacionan con columnas de otras tablas).\n",
        "\n",
        "Veamos cómo crear el siguiente modelo de datos:\n",
        "\n",
        "<img src=\"https://drive.google.com/uc?export=view&id=1JUh-yrRlFOrmUbOCccwjxOMNYUJFjs6N\" width=\"20%\"></img>\n",
        "\n",
        "* La instrucción `IF NOT EXISTS` se usa para crear una tabla si esta no ha sido creada antes.\n",
        "* `SERIAL` es un tipo de datos específico de _PostgreSQL_ que define un número entero que autoincrementa.\n",
        "* `NOT NULL` es una restricción que evita que existan valores nulos en la columna especificada.\n",
        "\n",
        "Veamos cómo crear la tabla `estudiantes`:"
      ]
    },
    {
      "cell_type": "code",
      "execution_count": 5,
      "id": "fa29dff6",
      "metadata": {
        "id": "fa29dff6"
      },
      "outputs": [],
      "source": [
        "students_query = \"\"\"\n",
        "CREATE TABLE IF NOT EXISTS estudiantes (\n",
        "    id SERIAL PRIMARY KEY,\n",
        "    nombre TEXT NOT NULL,\n",
        "    edad INT,\n",
        "    genero TEXT,\n",
        "    nota FLOAT\n",
        "    )\n",
        ";\n",
        "\"\"\""
      ]
    },
    {
      "cell_type": "markdown",
      "id": "b5ae015b",
      "metadata": {
        "id": "b5ae015b"
      },
      "source": [
        "Creamos un cursor y ejecutamos la instrucción.\n",
        "\n",
        "> En éste caso usamos la conexión bajo un contexto `with`, con el fin de cerrar automáticamente la conexión una vez la consulta se ejecuta y evitar problemas de conexión, así mismo, no es necesario ejecutar `conn.close()`."
      ]
    },
    {
      "cell_type": "code",
      "execution_count": 6,
      "id": "4d818510",
      "metadata": {
        "id": "4d818510"
      },
      "outputs": [],
      "source": [
        "with psycopg2.connect(\n",
        "        host=HOST,\n",
        "        database=DB,\n",
        "        user=USER,\n",
        "        password=PASSWORD,\n",
        "        port=PORT\n",
        "        ) as conn:\n",
        "    cursor = conn.cursor()\n",
        "    cursor.execute(students_query)\n",
        "    conn.commit()"
      ]
    },
    {
      "cell_type": "markdown",
      "id": "3b3fdc06",
      "metadata": {
        "id": "3b3fdc06"
      },
      "source": [
        "Ahora, la tabla `acudientes`:"
      ]
    },
    {
      "cell_type": "code",
      "execution_count": 7,
      "id": "4e6ebccc",
      "metadata": {
        "id": "4e6ebccc"
      },
      "outputs": [],
      "source": [
        "parents_query = \"\"\"\n",
        "CREATE TABLE IF NOT EXISTS acudientes (\n",
        "    id SERIAL PRIMARY KEY,\n",
        "    nombre TEXT NOT NULL,\n",
        "    edad INT,\n",
        "    genero TEXT,\n",
        "    id_estudiante INT NOT NULL\n",
        "    )\n",
        ";\n",
        "\"\"\""
      ]
    },
    {
      "cell_type": "markdown",
      "id": "dfec0361",
      "metadata": {
        "id": "dfec0361"
      },
      "source": [
        "Ejecutamos la instrucción:"
      ]
    },
    {
      "cell_type": "code",
      "execution_count": 8,
      "id": "40d318f8",
      "metadata": {
        "id": "40d318f8"
      },
      "outputs": [],
      "source": [
        "with psycopg2.connect(\n",
        "        host=HOST,\n",
        "        database=DB,\n",
        "        user=USER,\n",
        "        password=PASSWORD,\n",
        "        port=PORT\n",
        "        ) as conn:\n",
        "    cursor = conn.cursor()\n",
        "    cursor.execute(parents_query)\n",
        "    conn.commit()"
      ]
    },
    {
      "cell_type": "markdown",
      "id": "49d101cc",
      "metadata": {
        "id": "49d101cc"
      },
      "source": [
        "Puede validar en [bit.io](https://bit.io) que las tablas estén creadas."
      ]
    },
    {
      "cell_type": "markdown",
      "id": "a9f4b703",
      "metadata": {
        "id": "a9f4b703"
      },
      "source": [
        "### 1.2. Creación de registros (inserción)\n",
        "---\n",
        "\n",
        "La sintaxis para crear registros dentro de tablas es la siguiente:\n",
        "\n",
        "```sql\n",
        "INSERT INTO\n",
        "    <nombre_tabla> (<nombre_columna1>, <nombre_columna2>, <nombre_columna3>)\n",
        "VALUES\n",
        "    (<valor1>, <valor2>, <valor3>),\n",
        "    (<valor1>, <valor2>, <valor3>)\n",
        ";\n",
        "```\n",
        "\n",
        "Veamos cómo insertar valores en la tabla `estudiantes`:"
      ]
    },
    {
      "cell_type": "code",
      "execution_count": 9,
      "id": "78e7d05d",
      "metadata": {
        "id": "78e7d05d"
      },
      "outputs": [],
      "source": [
        "data_students = \"\"\"\n",
        "INSERT INTO\n",
        "    estudiantes (nombre, edad, genero, nota)\n",
        "VALUES\n",
        "    ('Bart Simpson', 10, 'masculino', 3.0),\n",
        "    ('Lisa Simpson', 8, 'femenino', 4.9),\n",
        "    ('Milhouse Van Houten', 11, 'masculino', 2.8),\n",
        "    ('Ralph Wiggum', 8, 'masculino', 1.0)\n",
        "    ;\n",
        "\"\"\""
      ]
    },
    {
      "cell_type": "markdown",
      "id": "658b6b06",
      "metadata": {
        "id": "658b6b06"
      },
      "source": [
        "Ejecutamos la instrucción:"
      ]
    },
    {
      "cell_type": "code",
      "execution_count": 10,
      "id": "97b05898",
      "metadata": {
        "id": "97b05898"
      },
      "outputs": [],
      "source": [
        "with psycopg2.connect(\n",
        "        host=HOST,\n",
        "        database=DB,\n",
        "        user=USER,\n",
        "        password=PASSWORD,\n",
        "        port=PORT\n",
        "        ) as conn:\n",
        "    cursor = conn.cursor()\n",
        "    cursor.execute(data_students)\n",
        "    conn.commit()"
      ]
    },
    {
      "cell_type": "markdown",
      "id": "337c6915",
      "metadata": {
        "id": "337c6915"
      },
      "source": [
        "Ahora, vamos a agregar valores a la tabla `acudientes`:"
      ]
    },
    {
      "cell_type": "code",
      "execution_count": 11,
      "id": "05190cfe",
      "metadata": {
        "id": "05190cfe"
      },
      "outputs": [],
      "source": [
        "data_parents = \"\"\"\n",
        "INSERT INTO\n",
        "    acudientes (nombre, edad, genero, id_estudiante)\n",
        "VALUES\n",
        "    ('Homero Simpson', 39, 'masculino', 1),\n",
        "    ('Marge Simpson', 33, 'femenino', 1),\n",
        "    ('Homero Simpson', 39, 'masculino', 2),\n",
        "    ('Marge Simpson', 33, 'femenino', 2),\n",
        "    ('Kirk Van Houten', 40, 'masculino', 3),\n",
        "    ('Luann Van Houten', 32, 'femenino', 3),\n",
        "    ('Ned Flanders', 59, 'masculino', 5)\n",
        "    ;\n",
        "\"\"\""
      ]
    },
    {
      "cell_type": "markdown",
      "id": "692caeb4",
      "metadata": {
        "id": "692caeb4"
      },
      "source": [
        "Ejecutamos la instrucción:"
      ]
    },
    {
      "cell_type": "code",
      "execution_count": 12,
      "id": "15bd1b45",
      "metadata": {
        "id": "15bd1b45"
      },
      "outputs": [],
      "source": [
        "with psycopg2.connect(\n",
        "        host=HOST,\n",
        "        database=DB,\n",
        "        user=USER,\n",
        "        password=PASSWORD,\n",
        "        port=PORT\n",
        "        ) as conn:\n",
        "    cursor = conn.cursor()\n",
        "    cursor.execute(data_parents)\n",
        "    conn.commit()"
      ]
    },
    {
      "cell_type": "markdown",
      "id": "b2701d3a",
      "metadata": {
        "id": "b2701d3a"
      },
      "source": [
        "## **2. Lectura**\n",
        "---\n",
        "\n",
        "Ahora, veamos cómo es la sintaxis SQL para la lectura de datos:\n",
        "\n",
        "```sql\n",
        "SELECT\n",
        "    <nombre_columna1> AS <alias1>,\n",
        "    <OPERACION>(nombre_columna2) AS <alias2>\n",
        "FROM\n",
        "    <nombre_tabla> AS <alias_tabla>\n",
        "JOIN\n",
        "    <nombre_tabla2> AS <alias_tabla2>\n",
        "ON\n",
        "    <alias_tabla>.<alias1> = <alias_tabla2>.<alias1>\n",
        "WHERE\n",
        "    <condicion>\n",
        "GROUP BY\n",
        "    <nombre_columna1>\n",
        "HAVING\n",
        "    <condicion_grupos>\n",
        "ORDER BY\n",
        "    <nombre_columna1>\n",
        "```\n",
        "\n",
        "Cada una de las palabras reservadas de la consulta tienen la siguiente utilidad:\n",
        "\n",
        "* `SELECT`: permite especificar qué columnas de la tabla se extraerán.\n",
        "* `FROM`: indica de qué tabla se extraen los datos.\n",
        "* `JOIN`: permite cruzar datos de otra tabla, **opcional**.\n",
        "* `ON`: específica sobre qué columnas se realiza el cruce de tablas, **opcional**.\n",
        "* `WHERE`: permite filtrar registros de acuerdo a una condición, **opcional**.\n",
        "* `GROUP BY`: permite agrupar registros de acuerdo a alguna categoría, **opcional**.\n",
        "* `HAVING`: filtra valores con una condición sobre los grupos, **opcional**.\n",
        "* `ORDER BY`: ordena los registros según los valores de una columna, **opcional**.\n",
        "\n",
        "Veamos algunos ejemplos de consultas:"
      ]
    },
    {
      "cell_type": "markdown",
      "id": "fad96dec",
      "metadata": {
        "id": "fad96dec"
      },
      "source": [
        "### **2.1. Consultas y Filtros**\n",
        "---\n",
        "\n",
        "Veamos cómo extraer todos los registros de una tabla, para ello usamos el operador `*` (indica que vamos a extraer todas las columnas de una tabla):"
      ]
    },
    {
      "cell_type": "code",
      "execution_count": 13,
      "id": "7bc6c680",
      "metadata": {
        "id": "7bc6c680"
      },
      "outputs": [],
      "source": [
        "query = \"\"\"\n",
        "SELECT\n",
        "    *\n",
        "FROM\n",
        "    acudientes\n",
        ";\n",
        "\"\"\""
      ]
    },
    {
      "cell_type": "code",
      "execution_count": 14,
      "id": "b9e527f0",
      "metadata": {
        "id": "b9e527f0",
        "colab": {
          "base_uri": "https://localhost:8080/"
        },
        "outputId": "416e157b-9b20-4e5c-f7fb-02adde625597"
      },
      "outputs": [
        {
          "output_type": "stream",
          "name": "stdout",
          "text": [
            "[(1, 'Homero Simpson', 39, 'masculino', 1), (2, 'Marge Simpson', 33, 'femenino', 1), (3, 'Homero Simpson', 39, 'masculino', 2), (4, 'Marge Simpson', 33, 'femenino', 2), (5, 'Kirk Van Houten', 40, 'masculino', 3), (6, 'Luann Van Houten', 32, 'femenino', 3), (7, 'Ned Flanders', 59, 'masculino', 5)]\n"
          ]
        }
      ],
      "source": [
        "with psycopg2.connect(\n",
        "        host=HOST,\n",
        "        database=DB,\n",
        "        user=USER,\n",
        "        password=PASSWORD,\n",
        "        port=PORT\n",
        "        ) as conn:\n",
        "    cursor = conn.cursor()\n",
        "    cursor.execute(query)\n",
        "    data = cursor.fetchall()\n",
        "print(data)"
      ]
    },
    {
      "cell_type": "markdown",
      "id": "76c9c990",
      "metadata": {
        "id": "76c9c990"
      },
      "source": [
        "El método `fetchall` permite extraer los resultados de una consulta.\n",
        "\n",
        "Adicionalmente, el resultado obtenido es una lista de tuplas donde cada elemento tiene los tipos de datos que generalmente se manejan en _Python_ (`int`, `str`, `float`, entre otros)."
      ]
    },
    {
      "cell_type": "code",
      "execution_count": 15,
      "id": "f4689851",
      "metadata": {
        "id": "f4689851",
        "colab": {
          "base_uri": "https://localhost:8080/"
        },
        "outputId": "0b7c777d-9ce7-4f49-b711-b10750e81364"
      },
      "outputs": [
        {
          "output_type": "stream",
          "name": "stdout",
          "text": [
            "<class 'list'>\n"
          ]
        }
      ],
      "source": [
        "print(type(data))"
      ]
    },
    {
      "cell_type": "code",
      "execution_count": 16,
      "id": "5adb580f",
      "metadata": {
        "id": "5adb580f",
        "colab": {
          "base_uri": "https://localhost:8080/"
        },
        "outputId": "c3f583f8-b132-4ce1-a17e-a480a1986045"
      },
      "outputs": [
        {
          "output_type": "stream",
          "name": "stdout",
          "text": [
            "<class 'tuple'>\n"
          ]
        }
      ],
      "source": [
        "print(type(data[0]))"
      ]
    },
    {
      "cell_type": "code",
      "execution_count": 17,
      "id": "4f0aef2e",
      "metadata": {
        "id": "4f0aef2e",
        "colab": {
          "base_uri": "https://localhost:8080/"
        },
        "outputId": "c7a6dd3d-b296-4c7c-b83a-fa204a0bf56f"
      },
      "outputs": [
        {
          "output_type": "stream",
          "name": "stdout",
          "text": [
            "<class 'int'>\n"
          ]
        }
      ],
      "source": [
        "print(type(data[0][0]))"
      ]
    },
    {
      "cell_type": "markdown",
      "id": "56269995",
      "metadata": {
        "id": "56269995"
      },
      "source": [
        "Ahora, veamos un ejemplo de selección condicional. Vamos a extraer los nombres y las edades de los acudientes que son de género masculino:"
      ]
    },
    {
      "cell_type": "code",
      "execution_count": 20,
      "id": "ad28b651",
      "metadata": {
        "id": "ad28b651"
      },
      "outputs": [],
      "source": [
        "query = \"\"\"\n",
        "SELECT\n",
        "    nombre, edad\n",
        "FROM\n",
        "    acudientes\n",
        "WHERE\n",
        "    genero = 'masculino'\n",
        ";\n",
        "\"\"\""
      ]
    },
    {
      "cell_type": "code",
      "execution_count": 21,
      "id": "76d2829e",
      "metadata": {
        "id": "76d2829e",
        "colab": {
          "base_uri": "https://localhost:8080/"
        },
        "outputId": "af6118f7-3b75-4171-b386-24a2dcf31899"
      },
      "outputs": [
        {
          "output_type": "stream",
          "name": "stdout",
          "text": [
            "[('Homero Simpson', 39), ('Homero Simpson', 39), ('Kirk Van Houten', 40), ('Ned Flanders', 59)]\n"
          ]
        }
      ],
      "source": [
        "with psycopg2.connect(\n",
        "        host=HOST,\n",
        "        database=DB,\n",
        "        user=USER,\n",
        "        password=PASSWORD,\n",
        "        port=PORT\n",
        "        ) as conn:\n",
        "    cursor = conn.cursor()\n",
        "    cursor.execute(query)\n",
        "    data = cursor.fetchall()\n",
        "print(data)"
      ]
    },
    {
      "cell_type": "markdown",
      "id": "6c6c7963",
      "metadata": {
        "id": "6c6c7963"
      },
      "source": [
        "También podemos anidar condiciones usando operadores lógicos, por ejemplo, para seleccionar todos los acudientes de género masculino y con menos de 50 años de edad:"
      ]
    },
    {
      "cell_type": "code",
      "execution_count": 24,
      "id": "bd209210",
      "metadata": {
        "id": "bd209210"
      },
      "outputs": [],
      "source": [
        "query = \"\"\"\n",
        "SELECT\n",
        "    nombre, edad\n",
        "FROM\n",
        "    acudientes\n",
        "WHERE\n",
        "    genero = 'masculino' AND\n",
        "    edad < 50\n",
        "\"\"\""
      ]
    },
    {
      "cell_type": "code",
      "execution_count": 25,
      "id": "ec423ac7",
      "metadata": {
        "id": "ec423ac7",
        "colab": {
          "base_uri": "https://localhost:8080/"
        },
        "outputId": "bf0578d8-62a6-4613-bc35-a28d37c43c93"
      },
      "outputs": [
        {
          "output_type": "stream",
          "name": "stdout",
          "text": [
            "[('Homero Simpson', 39), ('Homero Simpson', 39), ('Kirk Van Houten', 40)]\n"
          ]
        }
      ],
      "source": [
        "with psycopg2.connect(\n",
        "        host=HOST,\n",
        "        database=DB,\n",
        "        user=USER,\n",
        "        password=PASSWORD,\n",
        "        port=PORT\n",
        "        ) as conn:\n",
        "    cursor = conn.cursor()\n",
        "    cursor.execute(query)\n",
        "    data = cursor.fetchall()\n",
        "print(data)"
      ]
    },
    {
      "cell_type": "markdown",
      "source": [
        "Estos son los operadores en SQL estandar:\n",
        "\n",
        "#### **2.1.1. Aritméticos**\n",
        "\n",
        "| Operador | Descripción | Ejemplo |\n",
        "| --- | --- | --- |\n",
        "| `+` | Suma valores | `columna1 + columna2` |\n",
        "| `-` | Resta valores | `columna1 - columna2` |\n",
        "| `*` | Multiplica valores | `columna1 * 2` |\n",
        "| `/` | Divide valores | `columna1 / columna2` |\n",
        "| `%` | Módulo de dos valores | `columna1 % 2` |"
      ],
      "metadata": {
        "id": "HTC2oyqwcYyI"
      },
      "id": "HTC2oyqwcYyI"
    },
    {
      "cell_type": "markdown",
      "id": "60261f50",
      "metadata": {
        "id": "60261f50"
      },
      "source": [
        "\n",
        "#### **2.1.2. Comparación**\n",
        "\n",
        "| Operador | Descripción | Ejemplo |\n",
        "| --- | --- | --- |\n",
        "| `=` | Igualdad | `columna1 = 'caso'` |\n",
        "| `>` | Mayor que | `columna1 > columna2` |\n",
        "| `<` | Menor que | `columna1 < columna2` |\n",
        "| `>=` | Mayor o igual que | `columna1 >= columna2` |\n",
        "| `<=` | Menor o igual que | `columna1 <= columna2` |\n",
        "| `<>` | Diferente | `columna1 <> 7` |\n"
      ]
    },
    {
      "cell_type": "markdown",
      "source": [
        "#### **2.1.3. Operadores Lógicos**\n",
        "\n",
        "| Operador | Descripción | Ejemplo |\n",
        "| --- | --- | --- |\n",
        "| `AND` | Operación and | `columna1 AND columna2` |\n",
        "| `OR` | Operación or | `columna1 OR columna2` |\n",
        "| `NOT` | Negación | `NOT columna1` |\n",
        "| `ALL` | Verdadero si todos los valores cumplen | `ALL columna1` |\n",
        "| `ANY` | Verdadero si al menos un valor cumple | `ANY columna1` |\n",
        "| `BETWEEN` | Rango de valores | `columna1 BETWEEN 1 AND 2` |\n",
        "| `EXISTS` | Verdadero si al menos hay un valor no nulo | `EXISTS columna1` |\n",
        "| `IN` | Pertenencia | `columna1 IN ('caso1', 'caso2')` |\n",
        "| `LIKE` | Verdadero si hay coincidencia con un patrón | `column1 LIKE 'Marc%'` |\n"
      ],
      "metadata": {
        "id": "BQl52gPHcNF9"
      },
      "id": "BQl52gPHcNF9"
    },
    {
      "cell_type": "markdown",
      "source": [
        "#### **2.1.4. Ejemplo de consulta**\n",
        "Por ejemplo, podemos seleccionar el doble de la edad de los acudientes que comiencen por `Homero`:"
      ],
      "metadata": {
        "id": "tx4y-AWjcS17"
      },
      "id": "tx4y-AWjcS17"
    },
    {
      "cell_type": "code",
      "execution_count": 26,
      "id": "b95e9b0c",
      "metadata": {
        "id": "b95e9b0c"
      },
      "outputs": [],
      "source": [
        "query = \"\"\"\n",
        "SELECT\n",
        "    nombre,\n",
        "    edad * 2 AS doble_edad\n",
        "FROM\n",
        "    acudientes\n",
        "WHERE\n",
        "    nombre LIKE 'Homero%'\n",
        ";\n",
        "\"\"\""
      ]
    },
    {
      "cell_type": "code",
      "execution_count": 27,
      "id": "6aae4612",
      "metadata": {
        "id": "6aae4612",
        "colab": {
          "base_uri": "https://localhost:8080/"
        },
        "outputId": "32190e7a-7c0e-4e05-c767-66a7ea1c4e16"
      },
      "outputs": [
        {
          "output_type": "stream",
          "name": "stdout",
          "text": [
            "[('Homero Simpson', 78), ('Homero Simpson', 78)]\n"
          ]
        }
      ],
      "source": [
        "with psycopg2.connect(\n",
        "        host=HOST,\n",
        "        database=DB,\n",
        "        user=USER,\n",
        "        password=PASSWORD,\n",
        "        port=PORT\n",
        "        ) as conn:\n",
        "    cursor = conn.cursor()\n",
        "    cursor.execute(query)\n",
        "    data = cursor.fetchall()\n",
        "print(data)"
      ]
    },
    {
      "cell_type": "markdown",
      "id": "8ee4c214",
      "metadata": {
        "id": "8ee4c214"
      },
      "source": [
        "> Puede ver más información sobre los patrones `LIKE` en el siguiente enlace[Patrones LIKE](https://www.w3schools.com/sql/sql_like.asp)."
      ]
    },
    {
      "cell_type": "markdown",
      "id": "f520815e",
      "metadata": {
        "id": "f520815e"
      },
      "source": [
        "### **2.2. Cruce de Tablas**\n",
        "---\n",
        "\n",
        "En SQL existen diversas formas de cruzar dos tablas, más precisamente, se suelen manejar los siguientes tipos de `JOIN`:\n",
        "\n",
        "<img src=\"https://drive.google.com/uc?export=view&id=1iJQyu75yJEqFG0a5iHDK4UaBKukgZKOD\" width=\"60%\"></img>\n",
        "\n",
        "* `INNER JOIN`: selecciona unicamente los registros que se encuentran en ambas tablas (intersección).\n",
        "* `OUTER JOIN`: selecciona todos los registros de ambas tablas (unión).\n",
        "* `LEFT JOIN`: selecciona los todos los registros de la primer tabla (así no se encunetren en la segunda).\n",
        "* `RIGHT JOIN`: selecciona los todos los registros de la segunda tabla (así no se encunetren en la primera).\n",
        "\n",
        "Veamos estos join con los datos de estudiantes:\n",
        "\n",
        "Primero, el `INNER JOIN` debe seleccionar unicamente los estudiantes y acudientes que corresponden según la columna `id_estudiante`."
      ]
    },
    {
      "cell_type": "code",
      "execution_count": 28,
      "id": "e2d27e9b",
      "metadata": {
        "id": "e2d27e9b"
      },
      "outputs": [],
      "source": [
        "query = \"\"\"\n",
        "SELECT\n",
        "    l.nombre AS nombre_estudiante,\n",
        "    r.nombre AS nombre_acudiente\n",
        "FROM\n",
        "    estudiantes AS l\n",
        "INNER JOIN\n",
        "    acudientes AS r\n",
        "ON\n",
        "    l.id = r.id_estudiante\n",
        ";\n",
        "\"\"\""
      ]
    },
    {
      "cell_type": "code",
      "execution_count": 29,
      "id": "d5df0049",
      "metadata": {
        "id": "d5df0049",
        "colab": {
          "base_uri": "https://localhost:8080/"
        },
        "outputId": "5abe8564-b70d-4476-a6fe-ec07cc0e7dc8"
      },
      "outputs": [
        {
          "output_type": "stream",
          "name": "stdout",
          "text": [
            "[('Bart Simpson', 'Homero Simpson'), ('Bart Simpson', 'Marge Simpson'), ('Lisa Simpson', 'Homero Simpson'), ('Lisa Simpson', 'Marge Simpson'), ('Milhouse Van Houten', 'Kirk Van Houten'), ('Milhouse Van Houten', 'Luann Van Houten')]\n"
          ]
        }
      ],
      "source": [
        "with psycopg2.connect(\n",
        "        host=HOST,\n",
        "        database=DB,\n",
        "        user=USER,\n",
        "        password=PASSWORD,\n",
        "        port=PORT\n",
        "        ) as conn:\n",
        "    cursor = conn.cursor()\n",
        "    cursor.execute(query)\n",
        "    data = cursor.fetchall()\n",
        "print(data)"
      ]
    },
    {
      "cell_type": "markdown",
      "id": "70a9b408",
      "metadata": {
        "id": "70a9b408"
      },
      "source": [
        "Segundo, el `FULL OUTER JOIN` debe seleccionar todos los estudiantes y acudientes sin importar si no están relacionados:"
      ]
    },
    {
      "cell_type": "code",
      "execution_count": 30,
      "id": "63fd37be",
      "metadata": {
        "id": "63fd37be"
      },
      "outputs": [],
      "source": [
        "query = \"\"\"\n",
        "SELECT\n",
        "    l.nombre AS nombre_estudiante,\n",
        "    r.nombre AS nombre_acudiente\n",
        "FROM\n",
        "    estudiantes AS l\n",
        "FULL OUTER JOIN\n",
        "    acudientes AS r\n",
        "ON\n",
        "    l.id = r.id_estudiante\n",
        ";\n",
        "\"\"\""
      ]
    },
    {
      "cell_type": "code",
      "execution_count": 31,
      "id": "6e2bf5d0",
      "metadata": {
        "id": "6e2bf5d0",
        "colab": {
          "base_uri": "https://localhost:8080/"
        },
        "outputId": "53efe80b-1a79-46b8-dcc2-2a094a06c661"
      },
      "outputs": [
        {
          "output_type": "stream",
          "name": "stdout",
          "text": [
            "[('Bart Simpson', 'Homero Simpson'), ('Bart Simpson', 'Marge Simpson'), ('Lisa Simpson', 'Homero Simpson'), ('Lisa Simpson', 'Marge Simpson'), ('Milhouse Van Houten', 'Kirk Van Houten'), ('Milhouse Van Houten', 'Luann Van Houten'), (None, 'Ned Flanders'), ('Ralph Wiggum', None)]\n"
          ]
        }
      ],
      "source": [
        "with psycopg2.connect(\n",
        "        host=HOST,\n",
        "        database=DB,\n",
        "        user=USER,\n",
        "        password=PASSWORD,\n",
        "        port=PORT\n",
        "        ) as conn:\n",
        "    cursor = conn.cursor()\n",
        "    cursor.execute(query)\n",
        "    data = cursor.fetchall()\n",
        "print(data)"
      ]
    },
    {
      "cell_type": "markdown",
      "id": "67e0eb54",
      "metadata": {
        "id": "67e0eb54"
      },
      "source": [
        "Tercero, el `LEFT JOIN` debe seleccionar todos los estudiantes, los acudientes solo se recuperan si están relacionados a un estudiante:"
      ]
    },
    {
      "cell_type": "code",
      "execution_count": 32,
      "id": "bcbf09c5",
      "metadata": {
        "id": "bcbf09c5"
      },
      "outputs": [],
      "source": [
        "query = \"\"\"\n",
        "SELECT\n",
        "    l.nombre AS nombre_estudiante,\n",
        "    r.nombre AS nombre_acudiente\n",
        "FROM\n",
        "    estudiantes AS l\n",
        "LEFT JOIN\n",
        "    acudientes AS r\n",
        "ON\n",
        "    l.id = r.id_estudiante\n",
        ";\n",
        "\"\"\""
      ]
    },
    {
      "cell_type": "code",
      "execution_count": 33,
      "id": "86c1daa7",
      "metadata": {
        "id": "86c1daa7",
        "colab": {
          "base_uri": "https://localhost:8080/"
        },
        "outputId": "18d48cbe-504a-46fb-812d-d02f92795cff"
      },
      "outputs": [
        {
          "output_type": "stream",
          "name": "stdout",
          "text": [
            "[('Bart Simpson', 'Homero Simpson'), ('Bart Simpson', 'Marge Simpson'), ('Lisa Simpson', 'Homero Simpson'), ('Lisa Simpson', 'Marge Simpson'), ('Milhouse Van Houten', 'Kirk Van Houten'), ('Milhouse Van Houten', 'Luann Van Houten'), ('Ralph Wiggum', None)]\n"
          ]
        }
      ],
      "source": [
        "with psycopg2.connect(\n",
        "        host=HOST,\n",
        "        database=DB,\n",
        "        user=USER,\n",
        "        password=PASSWORD,\n",
        "        port=PORT\n",
        "        ) as conn:\n",
        "    cursor = conn.cursor()\n",
        "    cursor.execute(query)\n",
        "    data = cursor.fetchall()\n",
        "print(data)"
      ]
    },
    {
      "cell_type": "markdown",
      "id": "99fe19ed",
      "metadata": {
        "id": "99fe19ed"
      },
      "source": [
        "Por último, el `RIGHT JOIN` debe seleccionar todos los acudientes, los estudiantes solo se recuperan si están relacionados a un acudiente:"
      ]
    },
    {
      "cell_type": "code",
      "execution_count": 34,
      "id": "29e1630e",
      "metadata": {
        "id": "29e1630e"
      },
      "outputs": [],
      "source": [
        "query = \"\"\"\n",
        "SELECT\n",
        "    l.nombre AS nombre_estudiante,\n",
        "    r.nombre AS nombre_acudiente\n",
        "FROM\n",
        "    estudiantes AS l\n",
        "RIGHT JOIN\n",
        "    acudientes AS r\n",
        "ON\n",
        "    l.id = r.id_estudiante\n",
        ";\n",
        "\"\"\""
      ]
    },
    {
      "cell_type": "code",
      "execution_count": 35,
      "id": "f51c84db",
      "metadata": {
        "id": "f51c84db",
        "colab": {
          "base_uri": "https://localhost:8080/"
        },
        "outputId": "c4a39739-8876-4075-cb73-33b0c7529d52"
      },
      "outputs": [
        {
          "output_type": "stream",
          "name": "stdout",
          "text": [
            "[('Bart Simpson', 'Homero Simpson'), ('Bart Simpson', 'Marge Simpson'), ('Lisa Simpson', 'Homero Simpson'), ('Lisa Simpson', 'Marge Simpson'), ('Milhouse Van Houten', 'Kirk Van Houten'), ('Milhouse Van Houten', 'Luann Van Houten'), (None, 'Ned Flanders')]\n"
          ]
        }
      ],
      "source": [
        "with psycopg2.connect(\n",
        "        host=HOST,\n",
        "        database=DB,\n",
        "        user=USER,\n",
        "        password=PASSWORD,\n",
        "        port=PORT\n",
        "        ) as conn:\n",
        "    cursor = conn.cursor()\n",
        "    cursor.execute(query)\n",
        "    data = cursor.fetchall()\n",
        "print(data)"
      ]
    },
    {
      "cell_type": "markdown",
      "id": "39b42361",
      "metadata": {
        "id": "39b42361"
      },
      "source": [
        "Adicional a lo anterior, se puede realizar cualquier operación de `JOIN` sobre varias columnas al tiempo, anidándolas con el operador `AND`:\n",
        "\n",
        "```sql\n",
        "...\n",
        "INNER JOIN\n",
        "    l.columna1 = r.columna2 AND\n",
        "    l.columna2 = r.columna2\n",
        "...\n",
        "```"
      ]
    },
    {
      "cell_type": "markdown",
      "id": "46961b32",
      "metadata": {
        "id": "46961b32"
      },
      "source": [
        "### **2.3. Agrupamiento y Agregación**\n",
        "---\n",
        "\n",
        "Las operaciones de agrupamiento y agregación consisten en el uso de `GROUP BY` en conjunto con operaciones de agregación como:\n",
        "\n",
        "| Operación | Descripción |\n",
        "| --- | --- |\n",
        "| `SUM` | suma |\n",
        "| `COUNT` | recuento |\n",
        "| `AVG` | promedio |\n",
        "| `MIN` | mínimo |\n",
        "| `MAX` | máximo |\n",
        "\n",
        "De forma general, las operaciones de agrupamiento y agregación buscan hacer dos cosas:\n",
        "\n",
        "1. Agrupar registros de acuerdo a una o varias columnas categóricas.\n",
        "2. Reducir columnas de cada grupo usando una función de agregación.\n",
        "\n",
        "Veamos un ejemplo gráfico:\n",
        "\n",
        "<img src=\"https://drive.google.com/uc?export=view&id=1_j8hNDzAJ69JxyuJCIXP4fwWWO9UT62Z\"></img>\n",
        "\n",
        "Desde SQL:"
      ]
    },
    {
      "cell_type": "code",
      "execution_count": 36,
      "id": "a6869e37",
      "metadata": {
        "id": "a6869e37"
      },
      "outputs": [],
      "source": [
        "query = \"\"\"\n",
        "SELECT\n",
        "    genero,\n",
        "    AVG(nota) AS nota_promedio\n",
        "FROM\n",
        "    estudiantes\n",
        "GROUP BY\n",
        "    genero\n",
        ";\n",
        "\"\"\""
      ]
    },
    {
      "cell_type": "code",
      "execution_count": 37,
      "id": "91c84321",
      "metadata": {
        "id": "91c84321",
        "colab": {
          "base_uri": "https://localhost:8080/"
        },
        "outputId": "9d985524-7090-4b5e-fa40-378e601c9caa"
      },
      "outputs": [
        {
          "output_type": "stream",
          "name": "stdout",
          "text": [
            "[('masculino', 2.2666666666666666), ('femenino', 4.9)]\n"
          ]
        }
      ],
      "source": [
        "with psycopg2.connect(\n",
        "        host=HOST,\n",
        "        database=DB,\n",
        "        user=USER,\n",
        "        password=PASSWORD,\n",
        "        port=PORT\n",
        "        ) as conn:\n",
        "    cursor = conn.cursor()\n",
        "    cursor.execute(query)\n",
        "    data = cursor.fetchall()\n",
        "print(data)"
      ]
    },
    {
      "cell_type": "markdown",
      "id": "fa935a37",
      "metadata": {
        "id": "fa935a37"
      },
      "source": [
        "También podemos crear categorías a partir de variables numéricas .\n",
        "\n",
        "Con `CASE` puede crear nuevas variables de acuerdo a distintas condiciones acotadas por `WHEN`."
      ]
    },
    {
      "cell_type": "code",
      "execution_count": 38,
      "id": "687e8665",
      "metadata": {
        "id": "687e8665"
      },
      "outputs": [],
      "source": [
        "query = \"\"\"\n",
        "SELECT\n",
        "    nombre,\n",
        "    CASE\n",
        "        WHEN edad < 10 THEN 'menor'\n",
        "        WHEN edad >= 10 THEN 'mayor'\n",
        "    END AS menor_mayor\n",
        "FROM\n",
        "    estudiantes\n",
        ";\n",
        "\"\"\""
      ]
    },
    {
      "cell_type": "code",
      "execution_count": 39,
      "id": "fcdc698c",
      "metadata": {
        "id": "fcdc698c",
        "colab": {
          "base_uri": "https://localhost:8080/"
        },
        "outputId": "3bd1fff1-7a3e-444c-93a5-0f927cf82c08"
      },
      "outputs": [
        {
          "output_type": "stream",
          "name": "stdout",
          "text": [
            "[('Bart Simpson', 'mayor'), ('Lisa Simpson', 'menor'), ('Milhouse Van Houten', 'mayor'), ('Ralph Wiggum', 'menor')]\n"
          ]
        }
      ],
      "source": [
        "with psycopg2.connect(\n",
        "        host=HOST,\n",
        "        database=DB,\n",
        "        user=USER,\n",
        "        password=PASSWORD,\n",
        "        port=PORT\n",
        "        ) as conn:\n",
        "    cursor = conn.cursor()\n",
        "    cursor.execute(query)\n",
        "    data = cursor.fetchall()\n",
        "print(data)"
      ]
    },
    {
      "cell_type": "markdown",
      "id": "52bbe6eb",
      "metadata": {
        "id": "52bbe6eb"
      },
      "source": [
        "Veamos el uso con `GROUP BY`, para calcular el promedio de notas por genero y por rango de edad:"
      ]
    },
    {
      "cell_type": "code",
      "execution_count": 40,
      "id": "0de6dc6f",
      "metadata": {
        "id": "0de6dc6f"
      },
      "outputs": [],
      "source": [
        "query = \"\"\"\n",
        "SELECT\n",
        "    genero,\n",
        "    CASE\n",
        "        WHEN edad < 10 THEN 'menor'\n",
        "        WHEN edad >= 10 THEN 'mayor'\n",
        "    END AS menor_mayor,\n",
        "    AVG(nota)\n",
        "FROM\n",
        "    estudiantes\n",
        "GROUP BY\n",
        "    genero, menor_mayor\n",
        ";\n",
        "\"\"\""
      ]
    },
    {
      "cell_type": "code",
      "execution_count": 41,
      "id": "f7ea8cde",
      "metadata": {
        "id": "f7ea8cde",
        "colab": {
          "base_uri": "https://localhost:8080/"
        },
        "outputId": "eaf6b83b-1ae6-47fa-91c2-ec6e491401c7"
      },
      "outputs": [
        {
          "output_type": "stream",
          "name": "stdout",
          "text": [
            "[('masculino', 'mayor', 2.9), ('masculino', 'menor', 1.0), ('femenino', 'menor', 4.9)]\n"
          ]
        }
      ],
      "source": [
        "with psycopg2.connect(\n",
        "        host=HOST,\n",
        "        database=DB,\n",
        "        user=USER,\n",
        "        password=PASSWORD,\n",
        "        port=PORT\n",
        "        ) as conn:\n",
        "    cursor = conn.cursor()\n",
        "    cursor.execute(query)\n",
        "    data = cursor.fetchall()\n",
        "print(data)"
      ]
    },
    {
      "cell_type": "markdown",
      "id": "f51b25d9",
      "metadata": {
        "id": "f51b25d9"
      },
      "source": [
        "##  **3. Actualización**\n",
        "---\n",
        "\n",
        "Para actualizar valores dentro de una tabla debemos usar la instrucción `UPDATE`, la cual tiene la siguiente sintaxis:\n",
        "\n",
        "```sql\n",
        "UPDATE\n",
        "    <nombre_tabla>\n",
        "SET\n",
        "    <nombre_columna1> = <valor1>,\n",
        "    <nombre_columna2> = <valor2>\n",
        "WHERE\n",
        "    <condicion>\n",
        ";\n",
        "```\n",
        "\n",
        "Veamos un ejemplo de actualización"
      ]
    },
    {
      "cell_type": "code",
      "execution_count": 42,
      "id": "b1033b11",
      "metadata": {
        "id": "b1033b11"
      },
      "outputs": [],
      "source": [
        "update_query = \"\"\"\n",
        "UPDATE\n",
        "    acudientes\n",
        "SET\n",
        "    edad = 40\n",
        "WHERE\n",
        "    nombre LIKE 'Homero%'\n",
        ";\n",
        "\"\"\""
      ]
    },
    {
      "cell_type": "code",
      "execution_count": 43,
      "id": "bc19a438",
      "metadata": {
        "id": "bc19a438"
      },
      "outputs": [],
      "source": [
        "with psycopg2.connect(\n",
        "        host=HOST,\n",
        "        database=DB,\n",
        "        user=USER,\n",
        "        password=PASSWORD,\n",
        "        port=PORT\n",
        "        ) as conn:\n",
        "    cursor = conn.cursor()\n",
        "    cursor.execute(update_query)\n",
        "    conn.commit()"
      ]
    },
    {
      "cell_type": "markdown",
      "id": "cbd96b9a",
      "metadata": {
        "id": "cbd96b9a"
      },
      "source": [
        "Podemos validar el resultado:"
      ]
    },
    {
      "cell_type": "code",
      "execution_count": 44,
      "id": "c2d7071c",
      "metadata": {
        "id": "c2d7071c"
      },
      "outputs": [],
      "source": [
        "validation_query = \"\"\"\n",
        "SELECT\n",
        "    edad\n",
        "FROM\n",
        "    acudientes\n",
        "WHERE\n",
        "    nombre LIKE 'Homero%'\n",
        ";\n",
        "\"\"\""
      ]
    },
    {
      "cell_type": "code",
      "execution_count": 45,
      "id": "89d522f5",
      "metadata": {
        "id": "89d522f5",
        "colab": {
          "base_uri": "https://localhost:8080/"
        },
        "outputId": "0feffa2c-3030-4b8c-e6cc-dad085db3612"
      },
      "outputs": [
        {
          "output_type": "stream",
          "name": "stdout",
          "text": [
            "[(40,), (40,)]\n"
          ]
        }
      ],
      "source": [
        "with psycopg2.connect(\n",
        "        host=HOST,\n",
        "        database=DB,\n",
        "        user=USER,\n",
        "        password=PASSWORD,\n",
        "        port=PORT\n",
        "        ) as conn:\n",
        "    cursor = conn.cursor()\n",
        "    cursor.execute(validation_query)\n",
        "    data = cursor.fetchall()\n",
        "print(data)"
      ]
    },
    {
      "cell_type": "markdown",
      "id": "55b676e9",
      "metadata": {
        "id": "55b676e9"
      },
      "source": [
        "Dentro de los métodos de actualización, también tenemos comandos `ALTER`, los cuales permiten modificar columnas de una tabla existente, la sintaxis es la siguiente:\n",
        "\n",
        "```sql\n",
        "ALTER TABLE\n",
        "    <nombre_tabla>\n",
        "<OPERACION>\n",
        "    <nombre_columna> <TIPO_COLUMNA>\n",
        ";\n",
        "```\n",
        "\n",
        "Veamos como crear una columna en la tabla de estudiantes."
      ]
    },
    {
      "cell_type": "code",
      "execution_count": 46,
      "id": "09bd0812",
      "metadata": {
        "id": "09bd0812"
      },
      "outputs": [],
      "source": [
        "update_query = \"\"\"\n",
        "ALTER TABLE\n",
        "    estudiantes\n",
        "ADD\n",
        "    bonos FLOAT\n",
        ";\n",
        "\"\"\""
      ]
    },
    {
      "cell_type": "code",
      "execution_count": 47,
      "id": "3a88b2b5",
      "metadata": {
        "id": "3a88b2b5"
      },
      "outputs": [],
      "source": [
        "with psycopg2.connect(\n",
        "        host=HOST,\n",
        "        database=DB,\n",
        "        user=USER,\n",
        "        password=PASSWORD,\n",
        "        port=PORT\n",
        "        ) as conn:\n",
        "    cursor = conn.cursor()\n",
        "    cursor.execute(update_query)\n",
        "    conn.commit()"
      ]
    },
    {
      "cell_type": "markdown",
      "id": "6ca025a8",
      "metadata": {
        "id": "6ca025a8"
      },
      "source": [
        "Puede usar la siguiente consulta para ver el esquema de la tabla `estudiantes`:"
      ]
    },
    {
      "cell_type": "code",
      "execution_count": 48,
      "id": "9c8de621",
      "metadata": {
        "id": "9c8de621"
      },
      "outputs": [],
      "source": [
        "schema_query = \"\"\"\n",
        "SELECT \n",
        "   table_name, \n",
        "   column_name, \n",
        "   data_type \n",
        "FROM \n",
        "   information_schema.columns\n",
        "WHERE \n",
        "   table_name = 'estudiantes'\n",
        ";\n",
        "\"\"\""
      ]
    },
    {
      "cell_type": "code",
      "execution_count": 49,
      "id": "7f33c774",
      "metadata": {
        "id": "7f33c774",
        "colab": {
          "base_uri": "https://localhost:8080/"
        },
        "outputId": "c482ed6c-7ce0-4894-bb3d-3796cfd479ca"
      },
      "outputs": [
        {
          "output_type": "stream",
          "name": "stdout",
          "text": [
            "[('estudiantes', 'id', 'integer'), ('estudiantes', 'edad', 'integer'), ('estudiantes', 'nota', 'double precision'), ('estudiantes', 'bonos', 'double precision'), ('estudiantes', 'nombre', 'text'), ('estudiantes', 'genero', 'text')]\n"
          ]
        }
      ],
      "source": [
        "with psycopg2.connect(\n",
        "        host=HOST,\n",
        "        database=DB,\n",
        "        user=USER,\n",
        "        password=PASSWORD,\n",
        "        port=PORT\n",
        "        ) as conn:\n",
        "    cursor = conn.cursor()\n",
        "    cursor.execute(schema_query)\n",
        "    data = cursor.fetchall()\n",
        "print(data)"
      ]
    },
    {
      "cell_type": "markdown",
      "id": "dc5056f2",
      "metadata": {
        "id": "dc5056f2"
      },
      "source": [
        "También podemos modificar tipos en columnas ya existentes:"
      ]
    },
    {
      "cell_type": "code",
      "execution_count": 50,
      "id": "2f957616",
      "metadata": {
        "id": "2f957616"
      },
      "outputs": [],
      "source": [
        "update_query = \"\"\"\n",
        "ALTER TABLE\n",
        "    estudiantes\n",
        "ALTER COLUMN\n",
        "    bonos\n",
        "TYPE\n",
        "    INT\n",
        ";\n",
        "\"\"\""
      ]
    },
    {
      "cell_type": "code",
      "execution_count": 51,
      "id": "541d8d46",
      "metadata": {
        "id": "541d8d46"
      },
      "outputs": [],
      "source": [
        "with psycopg2.connect(\n",
        "        host=HOST,\n",
        "        database=DB,\n",
        "        user=USER,\n",
        "        password=PASSWORD,\n",
        "        port=PORT\n",
        "        ) as conn:\n",
        "    cursor = conn.cursor()\n",
        "    cursor.execute(update_query)\n",
        "    conn.commit()"
      ]
    },
    {
      "cell_type": "markdown",
      "id": "60a67c8d",
      "metadata": {
        "id": "60a67c8d"
      },
      "source": [
        "Validemos el esquema de la tabla:"
      ]
    },
    {
      "cell_type": "code",
      "execution_count": 52,
      "id": "10f8dc94",
      "metadata": {
        "id": "10f8dc94"
      },
      "outputs": [],
      "source": [
        "schema_query = \"\"\"\n",
        "SELECT \n",
        "   table_name, \n",
        "   column_name, \n",
        "   data_type \n",
        "FROM \n",
        "   information_schema.columns\n",
        "WHERE \n",
        "   table_name = 'estudiantes'\n",
        ";\n",
        "\"\"\""
      ]
    },
    {
      "cell_type": "code",
      "execution_count": 53,
      "id": "c3b20e71",
      "metadata": {
        "id": "c3b20e71",
        "colab": {
          "base_uri": "https://localhost:8080/"
        },
        "outputId": "c06e875b-6d8a-4fdb-9197-2417033bbbb0"
      },
      "outputs": [
        {
          "output_type": "stream",
          "name": "stdout",
          "text": [
            "[('estudiantes', 'id', 'integer'), ('estudiantes', 'edad', 'integer'), ('estudiantes', 'nota', 'double precision'), ('estudiantes', 'bonos', 'integer'), ('estudiantes', 'nombre', 'text'), ('estudiantes', 'genero', 'text')]\n"
          ]
        }
      ],
      "source": [
        "with psycopg2.connect(\n",
        "        host=HOST,\n",
        "        database=DB,\n",
        "        user=USER,\n",
        "        password=PASSWORD,\n",
        "        port=PORT\n",
        "        ) as conn:\n",
        "    cursor = conn.cursor()\n",
        "    cursor.execute(schema_query)\n",
        "    data = cursor.fetchall()\n",
        "print(data)"
      ]
    },
    {
      "cell_type": "markdown",
      "id": "64bbab3a",
      "metadata": {
        "id": "64bbab3a"
      },
      "source": [
        "## **4. Borrado**\n",
        "---\n",
        "\n",
        "Para eliminar registros debemos usar la sintaxis de `DELETE`:\n",
        "\n",
        "```sql\n",
        "DELETE FROM\n",
        "    <nombre_tabla>\n",
        "WHERE\n",
        "    <condicion>\n",
        ";\n",
        "```\n",
        "\n",
        "Veamos un ejemplo"
      ]
    },
    {
      "cell_type": "code",
      "execution_count": 54,
      "id": "95163c28",
      "metadata": {
        "id": "95163c28"
      },
      "outputs": [],
      "source": [
        "delete_query = \"\"\"\n",
        "DELETE FROM\n",
        "    acudientes\n",
        "WHERE\n",
        "    nombre LIKE 'Homero%'\n",
        ";\n",
        "\"\"\""
      ]
    },
    {
      "cell_type": "code",
      "execution_count": 55,
      "id": "46ad96e9",
      "metadata": {
        "id": "46ad96e9"
      },
      "outputs": [],
      "source": [
        "with psycopg2.connect(\n",
        "        host=HOST,\n",
        "        database=DB,\n",
        "        user=USER,\n",
        "        password=PASSWORD,\n",
        "        port=PORT\n",
        "        ) as conn:\n",
        "    cursor = conn.cursor()\n",
        "    cursor.execute(delete_query)\n",
        "    conn.commit()"
      ]
    },
    {
      "cell_type": "markdown",
      "id": "eef30e24",
      "metadata": {
        "id": "eef30e24"
      },
      "source": [
        "Ahora, podemos validar la tabla:"
      ]
    },
    {
      "cell_type": "code",
      "execution_count": 56,
      "id": "b3aa414d",
      "metadata": {
        "id": "b3aa414d"
      },
      "outputs": [],
      "source": [
        "query = \"\"\"\n",
        "SELECT\n",
        "    *\n",
        "FROM\n",
        "    acudientes\n",
        ";\n",
        "\"\"\""
      ]
    },
    {
      "cell_type": "code",
      "execution_count": 57,
      "id": "34a7b3e7",
      "metadata": {
        "id": "34a7b3e7",
        "colab": {
          "base_uri": "https://localhost:8080/"
        },
        "outputId": "06c122f9-3eb0-4eaa-c8ca-61634922f5ef"
      },
      "outputs": [
        {
          "output_type": "stream",
          "name": "stdout",
          "text": [
            "[(2, 'Marge Simpson', 33, 'femenino', 1), (4, 'Marge Simpson', 33, 'femenino', 2), (5, 'Kirk Van Houten', 40, 'masculino', 3), (6, 'Luann Van Houten', 32, 'femenino', 3), (7, 'Ned Flanders', 59, 'masculino', 5)]\n"
          ]
        }
      ],
      "source": [
        "with psycopg2.connect(\n",
        "        host=HOST,\n",
        "        database=DB,\n",
        "        user=USER,\n",
        "        password=PASSWORD,\n",
        "        port=PORT\n",
        "        ) as conn:\n",
        "    cursor = conn.cursor()\n",
        "    cursor.execute(query)\n",
        "    data = cursor.fetchall()\n",
        "print(data)"
      ]
    },
    {
      "cell_type": "markdown",
      "id": "79e58aba",
      "metadata": {
        "id": "79e58aba"
      },
      "source": [
        "También podemos eliminar columnas con comandos `ALTER`"
      ]
    },
    {
      "cell_type": "code",
      "execution_count": 58,
      "id": "2fbc90b3",
      "metadata": {
        "id": "2fbc90b3"
      },
      "outputs": [],
      "source": [
        "alter_query = \"\"\"\n",
        "ALTER TABLE\n",
        "    acudientes\n",
        "DROP\n",
        "    genero\n",
        ";\n",
        "\"\"\""
      ]
    },
    {
      "cell_type": "code",
      "execution_count": 59,
      "id": "b7b4c514",
      "metadata": {
        "id": "b7b4c514"
      },
      "outputs": [],
      "source": [
        "with psycopg2.connect(\n",
        "        host=HOST,\n",
        "        database=DB,\n",
        "        user=USER,\n",
        "        password=PASSWORD,\n",
        "        port=PORT\n",
        "        ) as conn:\n",
        "    cursor = conn.cursor()\n",
        "    cursor.execute(alter_query)\n",
        "    conn.commit()"
      ]
    },
    {
      "cell_type": "markdown",
      "id": "a1e64399",
      "metadata": {
        "id": "a1e64399"
      },
      "source": [
        "Veamos el esquema:"
      ]
    },
    {
      "cell_type": "code",
      "execution_count": 60,
      "id": "1c3f026d",
      "metadata": {
        "id": "1c3f026d"
      },
      "outputs": [],
      "source": [
        "schema_query = \"\"\"\n",
        "SELECT \n",
        "   table_name, \n",
        "   column_name, \n",
        "   data_type \n",
        "FROM \n",
        "   information_schema.columns\n",
        "WHERE \n",
        "   table_name = 'acudientes'\n",
        ";\n",
        "\"\"\""
      ]
    },
    {
      "cell_type": "code",
      "execution_count": 61,
      "id": "92b10c33",
      "metadata": {
        "id": "92b10c33",
        "colab": {
          "base_uri": "https://localhost:8080/"
        },
        "outputId": "844797ad-204d-4094-a86d-5e02730ab8a4"
      },
      "outputs": [
        {
          "output_type": "stream",
          "name": "stdout",
          "text": [
            "[('acudientes', 'id', 'integer'), ('acudientes', 'edad', 'integer'), ('acudientes', 'id_estudiante', 'integer'), ('acudientes', 'nombre', 'text')]\n"
          ]
        }
      ],
      "source": [
        "with psycopg2.connect(\n",
        "        host=HOST,\n",
        "        database=DB,\n",
        "        user=USER,\n",
        "        password=PASSWORD,\n",
        "        port=PORT\n",
        "        ) as conn:\n",
        "    cursor = conn.cursor()\n",
        "    cursor.execute(schema_query)\n",
        "    data = cursor.fetchall()\n",
        "print(data)"
      ]
    },
    {
      "cell_type": "markdown",
      "id": "7f667672",
      "metadata": {
        "id": "7f667672"
      },
      "source": [
        "Finalmente, si deseamos eliminar tablas debemos usar sentencias `DROP`. Con la siguiente sintaxis:\n",
        "\n",
        "```sql\n",
        "DROP TABLE\n",
        "    <nombre_tabla>\n",
        ";\n",
        "```\n",
        "\n",
        "Veamos un ejemplo:"
      ]
    },
    {
      "cell_type": "code",
      "execution_count": 62,
      "id": "4f3dc2a4",
      "metadata": {
        "id": "4f3dc2a4"
      },
      "outputs": [],
      "source": [
        "drop_query = \"\"\"\n",
        "DROP TABLE estudiantes;\n",
        "DROP TABLE acudientes;\n",
        "\"\"\""
      ]
    },
    {
      "cell_type": "code",
      "execution_count": 63,
      "id": "4abbebd3",
      "metadata": {
        "id": "4abbebd3"
      },
      "outputs": [],
      "source": [
        "with psycopg2.connect(\n",
        "        host=HOST,\n",
        "        database=DB,\n",
        "        user=USER,\n",
        "        password=PASSWORD,\n",
        "        port=PORT\n",
        "        ) as conn:\n",
        "    cursor = conn.cursor()\n",
        "    cursor.execute(drop_query)\n",
        "    conn.commit()"
      ]
    },
    {
      "cell_type": "markdown",
      "id": "c3a900a9",
      "metadata": {
        "id": "c3a900a9"
      },
      "source": [
        "Puede validar en [bit.io](https://bit.io) que ya no existe ninguna tabla."
      ]
    },
    {
      "cell_type": "markdown",
      "id": "d89ec5fd",
      "metadata": {
        "id": "d89ec5fd"
      },
      "source": [
        "## **5. Recursos Adicionales**\n",
        "---\n",
        "\n",
        "* [Khan Academy - Introducción a SQL: consulta y gestión de datos](https://es.khanacademy.org/computing/computer-programming/sql)\n",
        "* [Kaggle - Intro to SQL](https://www.kaggle.com/learn/intro-to-sql)\n",
        "* [Kaggle - Advanced SQL](https://www.kaggle.com/learn/advanced-sql)\n",
        "* [Coursera - Introduction to Structured Query Language (SQL) - University of Michigan](https://www.coursera.org/learn/intro-sql)\n",
        "* [Udacity - Learn SQL Nanodegree Program](https://www.udacity.com/course/learn-sql--nd072)"
      ]
    },
    {
      "cell_type": "markdown",
      "id": "e2ec5036",
      "metadata": {
        "id": "e2ec5036"
      },
      "source": [
        "## **6. Créditos**\n",
        "---\n",
        "\n",
        "**Profesor**\n",
        "\n",
        "- [Jorge E. Camargo, PhD](https://dis.unal.edu.co/~jecamargom/)\n",
        "\n",
        "**Diseño, desarrollo del notebook y material audiovisual**\n",
        "\n",
        "- [Juan S. Lara MSc](https://www.linkedin.com/in/juan-sebastian-lara-ramirez-43570a214/)\n",
        "\n",
        "**Universidad Nacional de Colombia** - *Facultad de Ingeniería*"
      ]
    }
  ],
  "metadata": {
    "jupytext": {
      "cell_metadata_filter": "-all",
      "main_language": "python",
      "notebook_metadata_filter": "-all"
    },
    "colab": {
      "provenance": [],
      "collapsed_sections": []
    },
    "language_info": {
      "name": "python"
    },
    "kernelspec": {
      "name": "python3",
      "display_name": "Python 3"
    },
    "gpuClass": "standard"
  },
  "nbformat": 4,
  "nbformat_minor": 5
}