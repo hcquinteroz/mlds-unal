{
  "cells": [
    {
      "cell_type": "markdown",
      "id": "752aa985",
      "metadata": {
        "id": "752aa985"
      },
      "source": [
        "# Taller 5: Apache Spark con Databricks"
      ]
    },
    {
      "cell_type": "markdown",
      "metadata": {
        "id": "190403c6"
      },
      "source": [
        "## Definición de la entrega"
      ],
      "id": "190403c6"
    },
    {
      "cell_type": "markdown",
      "metadata": {
        "id": "cd3cbfa5"
      },
      "source": [
        "Siga la siguiente guía. Al finalizar, deberá realizar un informe de formato libre donde se evidencie la ejecución de los pasos definidos en esta guía (Captura de pantalla), para las partes de *SparkSQL*: Manipulación de datos con *DataFrame*, Manipulación de datos con *RDD* y la exportación de resultados."
      ],
      "id": "cd3cbfa5"
    },
    {
      "cell_type": "markdown",
      "source": [
        "## Registro"
      ],
      "metadata": {
        "id": "ckqPz2XX4W_r"
      },
      "id": "ckqPz2XX4W_r"
    },
    {
      "cell_type": "markdown",
      "id": "c401aab1",
      "metadata": {
        "id": "c401aab1"
      },
      "source": [
        "Ingrese a [Databricks](https://www.databricks.com/try-databricks) y regístrese, en caso de obtener error al registrarse con un correo institucional, vuelva a intentar con un correo personal:"
      ]
    },
    {
      "cell_type": "markdown",
      "id": "7e2a0cbd",
      "metadata": {
        "id": "7e2a0cbd"
      },
      "source": [
        "<img src=\"https://drive.google.com/uc?export=view&id=1qAtqFvX5vYjINV3Kpslc-9OXYzco8-7K\" width=\"80%\">"
      ]
    },
    {
      "cell_type": "markdown",
      "id": "9280ac87",
      "metadata": {
        "id": "9280ac87"
      },
      "source": [
        "Seleccione *Get started with Community Edition*:"
      ]
    },
    {
      "cell_type": "markdown",
      "id": "a0252426",
      "metadata": {
        "id": "a0252426"
      },
      "source": [
        "<img src=\"https://drive.google.com/uc?export=view&id=10YQ-JPtXqX7oLee6_0Uh34_9hP-Qap2x\" width=\"80%\">"
      ]
    },
    {
      "cell_type": "markdown",
      "id": "43dec366",
      "metadata": {
        "id": "43dec366"
      },
      "source": [
        "Recibirá un email enviado por *Databricks* para confirmar su dirección de correo. De click al link correspondiente recibido en el email para la *confirmación* y asigne una contraseña a su cuenta. Después de estos dos pasos, será redireccionado automáticamente a una vista como la siguiente: "
      ]
    },
    {
      "cell_type": "markdown",
      "id": "84ed450c",
      "metadata": {
        "id": "84ed450c"
      },
      "source": [
        "<img src=\"https://drive.google.com/uc?export=view&id=17iegUuvHoSRHUhXTuJPbvV7BRgkD0Wno\" width=\"80%\">"
      ]
    },
    {
      "cell_type": "markdown",
      "id": "a1f2f652",
      "metadata": {
        "id": "a1f2f652"
      },
      "source": [
        "Cree un nuevo *Cluster* mediante **Create -> Cluster**:"
      ]
    },
    {
      "cell_type": "markdown",
      "id": "7a97d8d6",
      "metadata": {
        "id": "7a97d8d6"
      },
      "source": [
        "<img src=\"https://drive.google.com/uc?export=view&id=1gkpphdWaEOAkFJ-bb3fuCwpH6_ud_xTA\" width=\"80%\">"
      ]
    },
    {
      "cell_type": "markdown",
      "id": "0d694514",
      "metadata": {
        "id": "0d694514"
      },
      "source": [
        "Asígnele el nombre de **MLDS-test**:"
      ]
    },
    {
      "cell_type": "markdown",
      "id": "d5ac142c",
      "metadata": {
        "id": "d5ac142c"
      },
      "source": [
        "<img src=\"https://drive.google.com/uc?export=view&id=1OpsXRtAw-RNFGn-fmmrMDlIL7neGz4lF\" width=\"80%\">"
      ]
    },
    {
      "cell_type": "markdown",
      "id": "7de94867",
      "metadata": {
        "id": "7de94867"
      },
      "source": [
        "Su vista en *Databricks* será:"
      ]
    },
    {
      "cell_type": "markdown",
      "id": "c96d128e",
      "metadata": {
        "id": "c96d128e"
      },
      "source": [
        "<img src=\"https://drive.google.com/uc?export=view&id=1iuLGZmtlueXACaPXev040cBIPPnvuDCf\" width=\"80%\">"
      ]
    },
    {
      "cell_type": "markdown",
      "id": "c3a73ce0",
      "metadata": {
        "id": "c3a73ce0"
      },
      "source": [
        "Ahora cree un Notebook mediante **Create -> Notebook**:"
      ]
    },
    {
      "cell_type": "markdown",
      "id": "d1f7f650",
      "metadata": {
        "id": "d1f7f650"
      },
      "source": [
        "<img src=\"https://drive.google.com/uc?export=view&id=1d3cGOl90wCU7xOOoehdLqOEoO3jwmJTn\" width=\"80%\">"
      ]
    },
    {
      "cell_type": "markdown",
      "id": "9aa0392a",
      "metadata": {
        "id": "9aa0392a"
      },
      "source": [
        "Asígnele el nombre de **Taller 5: Spark**:"
      ]
    },
    {
      "cell_type": "markdown",
      "id": "95c14898",
      "metadata": {
        "id": "95c14898"
      },
      "source": [
        "<img src=\"https://drive.google.com/uc?export=view&id=1ky2qQ7lNiUUp6IkwnEkIO2NtzvPugqRF\" width=\"80%\">"
      ]
    },
    {
      "cell_type": "markdown",
      "id": "4c960d1f",
      "metadata": {
        "id": "4c960d1f"
      },
      "source": [
        "Usted obtendrá una vista parecida a los notebooks de *Google Colaboratory*, por ejemplo, a continuación se puede notar una celda donde se ejecuta la función `print`:"
      ]
    },
    {
      "cell_type": "markdown",
      "id": "163fa951",
      "metadata": {
        "id": "163fa951"
      },
      "source": [
        "<img src=\"https://drive.google.com/uc?export=view&id=1SyJqVAKT2D-3_YS2SCg9Zbv5HeDbQ3SO\" width=\"80%\">"
      ]
    },
    {
      "cell_type": "markdown",
      "id": "0c77e0f7",
      "metadata": {
        "id": "0c77e0f7"
      },
      "source": [
        "## Spark SQL: Manipulación de datos con DataFrame"
      ]
    },
    {
      "cell_type": "markdown",
      "id": "e9bf56b3",
      "metadata": {
        "id": "e9bf56b3"
      },
      "source": [
        "Este entorno cuenta con un archivo CSV de ejemplo, que podemos leer como un **DataFrame** de *Spark*:"
      ]
    },
    {
      "cell_type": "markdown",
      "id": "ce845f28",
      "metadata": {
        "id": "ce845f28"
      },
      "source": [
        "```python\n",
        "diamonds = sqlContext.read.format('com.databricks.spark.csv') \\\n",
        "             .options(header = 'true', inferSchema='true') \\\n",
        "             .load('/databricks-datasets/Rdatasets/data-001/csv/ggplot2/diamonds.csv')\n",
        "```"
      ]
    },
    {
      "cell_type": "markdown",
      "id": "32e6b861",
      "metadata": {
        "id": "32e6b861"
      },
      "source": [
        "Al ser escrito en el lenguaje de programación *Python*, puede realizar operaciones como la consulta del tipo de dato. Note que este objeto no es el mismo que un *DataFrame* de la librería *Pandas*:"
      ]
    },
    {
      "cell_type": "markdown",
      "id": "f23b3213",
      "metadata": {
        "id": "f23b3213"
      },
      "source": [
        "```python\n",
        "type(diamonds)\n",
        "\n",
        "Out[2]: pyspark.sql.dataframe.DataFrame\n",
        "```"
      ]
    },
    {
      "cell_type": "markdown",
      "id": "e83dace1",
      "metadata": {
        "id": "e83dace1"
      },
      "source": [
        "Agregue una nueva celda y visualice el contenido del archivo CSV:"
      ]
    },
    {
      "cell_type": "markdown",
      "id": "3f6f702a",
      "metadata": {
        "id": "3f6f702a"
      },
      "source": [
        "```python\n",
        "display(diamonds)\n",
        "```"
      ]
    },
    {
      "cell_type": "markdown",
      "id": "833a1223",
      "metadata": {
        "id": "833a1223"
      },
      "source": [
        "<img src=\"https://drive.google.com/uc?export=view&id=1Db6TeDpAL1A2-sG08LT_jzSg57CaSVKH\" width=\"100%\">"
      ]
    },
    {
      "cell_type": "markdown",
      "id": "25a6bdff",
      "metadata": {
        "id": "25a6bdff"
      },
      "source": [
        "Podemos mostrar el esquema del **DataFrame**. Esto equivale a realizar una descripción de la tabla, con los nombres de las variables y sus tipos de datos."
      ]
    },
    {
      "cell_type": "markdown",
      "id": "e8faa055",
      "metadata": {
        "id": "e8faa055"
      },
      "source": [
        "```python\n",
        "diamonds.printSchema()\n",
        "```"
      ]
    },
    {
      "cell_type": "markdown",
      "id": "abe998b8",
      "metadata": {
        "id": "abe998b8"
      },
      "source": [
        "<img src=\"https://drive.google.com/uc?export=view&id=1UHytK9cBXmPpowwaHAWS2T_uIs_Ge6mk\" width=\"30%\">"
      ]
    },
    {
      "cell_type": "markdown",
      "id": "049a6d0f",
      "metadata": {
        "id": "049a6d0f"
      },
      "source": [
        "Puede contar el número de filas en el conjunto de datos con el método **`count`**:"
      ]
    },
    {
      "cell_type": "markdown",
      "id": "1660c571",
      "metadata": {
        "id": "1660c571"
      },
      "source": [
        "```python\n",
        "print(diamonds.count())\n",
        "```"
      ]
    },
    {
      "cell_type": "markdown",
      "id": "a0a7b845",
      "metadata": {
        "id": "a0a7b845"
      },
      "source": [
        "Puede obtener los valores únicos de una columna con el método **`distinct`**. En este caso para ver los distintos colores de diamantes en el conjunto de datos:"
      ]
    },
    {
      "cell_type": "markdown",
      "id": "3a21d58c",
      "metadata": {
        "id": "3a21d58c"
      },
      "source": [
        "```python\n",
        "display(diamonds.select('color').distinct().collect())\n",
        "```"
      ]
    },
    {
      "cell_type": "markdown",
      "id": "8535fa56",
      "metadata": {
        "id": "8535fa56"
      },
      "source": [
        "Puede crear un nuevo **DataFrame** con la columna **`price`** de tipo **Double**. En este caso se realiza un cambio de tipo para una de las columnas y se guarda dentro de otro **DataFrame**:"
      ]
    },
    {
      "cell_type": "markdown",
      "id": "f0997048",
      "metadata": {
        "id": "f0997048"
      },
      "source": [
        "```python\n",
        "from pyspark.sql.types import DoubleType\n",
        "\n",
        "diamondsCast = diamonds.withColumn(\"price\", diamonds[\"price\"].cast(DoubleType()))\n",
        "```"
      ]
    },
    {
      "cell_type": "markdown",
      "id": "d0cdea29",
      "metadata": {
        "id": "d0cdea29"
      },
      "source": [
        "Podemos realizar operaciones de agrupación y agregación, como el cálculo del precio promedio por valor **`carat`**, cambiando el nombre de la columna del resultado y ordenando por precio:"
      ]
    },
    {
      "cell_type": "markdown",
      "id": "b97e1e43",
      "metadata": {
        "id": "b97e1e43"
      },
      "source": [
        "```python\n",
        "from pyspark.sql.functions import *\n",
        "carat_avgPrice = (diamondsCast\n",
        "                .groupBy(\"carat\")\n",
        "                .avg(\"price\")\n",
        "                .withColumnRenamed(\"avg(price)\", \"avgPrice\")\n",
        "                .orderBy(desc(\"avgPrice\")))\n",
        "```"
      ]
    },
    {
      "cell_type": "markdown",
      "id": "3f1fa147",
      "metadata": {
        "id": "3f1fa147"
      },
      "source": [
        "Finalmente, podemos consultar el DataFrame obtenido y ver el top-10 de los precios promedio más altos para el valor **`carat`**."
      ]
    },
    {
      "cell_type": "markdown",
      "id": "6d85a199",
      "metadata": {
        "id": "6d85a199"
      },
      "source": [
        "```python\n",
        "carat_avgPrice.show(10)\n",
        "```"
      ]
    },
    {
      "cell_type": "markdown",
      "id": "4b696610",
      "metadata": {
        "id": "4b696610"
      },
      "source": [
        "<img src=\"https://drive.google.com/uc?export=view&id=1cpko1n3P-_numARRRRk9BVeJ421I9fi_\" width=\"20%\">"
      ]
    },
    {
      "cell_type": "markdown",
      "id": "3f67570d",
      "metadata": {
        "id": "3f67570d"
      },
      "source": [
        "Para realizar visualizaciones rápidas sobre los datos, puede utilizar las opciones proporcionadas por el notebook, para ello utilice el botón que está en la parte superior de la tabla que es igual al símbolo aritmético de suma **+** después de ejecutar la siguiente sentencia:"
      ]
    },
    {
      "cell_type": "markdown",
      "id": "3410d6c8",
      "metadata": {
        "id": "3410d6c8"
      },
      "source": [
        "```python\n",
        "display(diamonds)\n",
        "```"
      ]
    },
    {
      "cell_type": "markdown",
      "id": "f10b586c",
      "metadata": {
        "id": "f10b586c"
      },
      "source": [
        "A continuación el símbolo:"
      ]
    },
    {
      "cell_type": "markdown",
      "id": "53ed2073",
      "metadata": {
        "id": "53ed2073"
      },
      "source": [
        "<img src=\"https://drive.google.com/uc?export=view&id=1DxU3WLz_J1jztH1PXIQjQ3sunkILWHYf\" width=\"80%\">"
      ]
    },
    {
      "cell_type": "markdown",
      "id": "5849fc9e",
      "metadata": {
        "id": "5849fc9e"
      },
      "source": [
        "Luego de dar click a una de las visualizaciones, por ejemplo, en *Legacy Visualización*:"
      ]
    },
    {
      "cell_type": "markdown",
      "id": "9c1f8184",
      "metadata": {
        "id": "9c1f8184"
      },
      "source": [
        "<img src=\"https://drive.google.com/uc?export=view&id=1C-x9gr9QaioWBh4SUH9zmMvcXyT1oUHL\" width=\"50%\">"
      ]
    },
    {
      "cell_type": "markdown",
      "id": "1f134548",
      "metadata": {
        "id": "1f134548"
      },
      "source": [
        "Luego de aplicar las configuraciones deseadas se obtiene:"
      ]
    },
    {
      "cell_type": "markdown",
      "id": "834e1cbb",
      "metadata": {
        "id": "834e1cbb"
      },
      "source": [
        "<img src=\"https://drive.google.com/uc?export=view&id=1_E2kUVNUX8v0TLzFsEaP-KIKA4iV1ete\" width=\"80%\">"
      ]
    },
    {
      "cell_type": "markdown",
      "id": "267cc9fd",
      "metadata": {
        "id": "267cc9fd"
      },
      "source": [
        "## Manipulación de datos con RDD"
      ]
    },
    {
      "cell_type": "markdown",
      "id": "5f796fc1",
      "metadata": {
        "id": "5f796fc1"
      },
      "source": [
        "1. Se puede obtener un **RDD** directamente del **DataFrame**. "
      ]
    },
    {
      "cell_type": "markdown",
      "id": "3304179b",
      "metadata": {
        "id": "3304179b"
      },
      "source": [
        "```python\n",
        "diamonds_rdd = diamonds.rdd\n",
        "```"
      ]
    },
    {
      "cell_type": "markdown",
      "id": "904b261a",
      "metadata": {
        "id": "904b261a"
      },
      "source": [
        "2. Ahora, podemos realizar operaciones sobre este objeto, como las siguientes:"
      ]
    },
    {
      "cell_type": "markdown",
      "id": "699d9a37",
      "metadata": {
        "id": "699d9a37"
      },
      "source": [
        "> 2.1 Obtener los primeros tres elementos del **RDD**:"
      ]
    },
    {
      "cell_type": "markdown",
      "id": "c64ee3ab",
      "metadata": {
        "id": "c64ee3ab"
      },
      "source": [
        "```python\n",
        "diamonds_rdd.take(3)\n",
        "```"
      ]
    },
    {
      "cell_type": "markdown",
      "id": "b04f6fb2",
      "metadata": {
        "id": "b04f6fb2"
      },
      "source": [
        "> 2.2 Contar diamantes por tipo de corte **`cut`** con las funciones **`map`** y **`reduceByKey`**:"
      ]
    },
    {
      "cell_type": "markdown",
      "id": "ca529396",
      "metadata": {
        "id": "ca529396"
      },
      "source": [
        "```python\n",
        "countByGroup = diamonds_rdd.map(lambda x: (x.cut, 1)).reduceByKey(lambda x,y:x+y)\n",
        "display(countByGroup.collect())\n",
        "```"
      ]
    },
    {
      "cell_type": "markdown",
      "id": "fba4c454",
      "metadata": {
        "id": "fba4c454"
      },
      "source": [
        "> 2.3 Seleccionar los distintos tipos de **`clarity`** para los diamantes en el conjunto de datos:"
      ]
    },
    {
      "cell_type": "markdown",
      "id": "8d0cc01f",
      "metadata": {
        "id": "8d0cc01f"
      },
      "source": [
        "```python\n",
        "distinctClarity = diamonds_rdd.map(lambda x: x.clarity).distinct()\n",
        "distinctClarity.collect()\n",
        "```"
      ]
    },
    {
      "cell_type": "markdown",
      "id": "f247e714",
      "metadata": {
        "id": "f247e714"
      },
      "source": [
        "> 2.4 Calcular el precio promedio de los diamantes por **`cut`**. Note que esta operación es equivalente a una agregación usando funciones `Map`, `Reduce` y `Finalize` (con la función **`mapValues`**)."
      ]
    },
    {
      "cell_type": "markdown",
      "id": "2631786e",
      "metadata": {
        "id": "2631786e"
      },
      "source": [
        "```python\n",
        "avgPrice = diamonds_rdd.map(lambda x: (x.cut, \n",
        "                                    {'price': float(x.price), 'count': 1})). \\\n",
        "                reduceByKey(lambda x, y: {'price': x['price'] + y['price'], \n",
        "                                          'count': x['count'] + y['count']}). \\\n",
        "                mapValues(lambda x: x['price']/x['count'])\n",
        "\n",
        "display(avgPrice.collect())\n",
        "```"
      ]
    },
    {
      "cell_type": "markdown",
      "id": "797dde00",
      "metadata": {
        "id": "797dde00"
      },
      "source": [
        "## Exportar los resultados a CSV"
      ]
    },
    {
      "cell_type": "markdown",
      "id": "280f37a8",
      "metadata": {
        "id": "280f37a8"
      },
      "source": [
        "Tras realizar las operaciones y modificaciones correspondientes, podemos generar y descargar un archivo con el contenido. Para esto, seguiremos los siguientes pasos:"
      ]
    },
    {
      "cell_type": "markdown",
      "id": "13bf2dad",
      "metadata": {
        "id": "13bf2dad"
      },
      "source": [
        "1. Eliminar el archivo si ya existe, pues se produce un error si un archivo con el mismo nombre ya existe:"
      ]
    },
    {
      "cell_type": "markdown",
      "id": "95f46959",
      "metadata": {
        "id": "95f46959"
      },
      "source": [
        "```python\n",
        "%fs rm -r /FileStore/carat_avgPrice\n",
        "```"
      ]
    },
    {
      "cell_type": "markdown",
      "id": "b8facc86",
      "metadata": {
        "id": "b8facc86"
      },
      "source": [
        "2. Guardar la consulta al archivo CSV en la ruta **FileStore**. Cada partición será guardada en un archivo individual. Usando **`repartition(1)`** se creará un único archivo de salida:"
      ]
    },
    {
      "cell_type": "markdown",
      "id": "d8609ca1",
      "metadata": {
        "id": "d8609ca1"
      },
      "source": [
        "```python\n",
        "(carat_avgPrice.repartition(1)\n",
        " .write\n",
        " .format('com.databricks.spark.csv')\n",
        " .options(header='true')\n",
        " .save('/FileStore/carat_avgPrice'))\n",
        "```"
      ]
    },
    {
      "cell_type": "markdown",
      "id": "63844c64",
      "metadata": {
        "id": "63844c64"
      },
      "source": [
        "3. También podemos seleccionar unas columnas específicas y almacenar solo los resultados relevantes. En este caso, retornaremos los campos **`cut`** y **`price`** del dataset original:"
      ]
    },
    {
      "cell_type": "markdown",
      "id": "c6e96460",
      "metadata": {
        "id": "c6e96460"
      },
      "source": [
        "```python\n",
        "%fs rm -r /FileStore/cutPrice\n",
        "```"
      ]
    },
    {
      "cell_type": "markdown",
      "id": "358ec668",
      "metadata": {
        "id": "358ec668"
      },
      "source": [
        "```python\n",
        "(diamonds.repartition(1)\n",
        ".select('cut', 'price')\n",
        ".write\n",
        ".format('com.databricks.spark.csv')\n",
        ".options(header='true'\n",
        ").save('/FileStore/cutPrice'))\n",
        "```"
      ]
    },
    {
      "cell_type": "markdown",
      "id": "6ba58c4f",
      "metadata": {
        "id": "6ba58c4f"
      },
      "source": [
        "4. Finalmente, podemos acceder a los archivos en las siguientes rutas:\n",
        "> * `/FileStore/carat_avgPrice`\n",
        "> * `/FileStore/cutPrice`"
      ]
    },
    {
      "cell_type": "markdown",
      "id": "9c664088",
      "metadata": {
        "id": "9c664088"
      },
      "source": [
        "5. Desde PySpark podemos también leer y mostrar el CSV guardado anteriormente. Los puede descargar dando clic en el ícono:"
      ]
    },
    {
      "cell_type": "markdown",
      "id": "dad4cc7d",
      "metadata": {
        "id": "dad4cc7d"
      },
      "source": [
        "<img src=\"https://drive.google.com/uc?export=view&id=10gEVnH1cEoC0HWxk2bs_eouqjG3Y2dyW\" width=\"20%\">"
      ]
    },
    {
      "cell_type": "markdown",
      "id": "c4718719",
      "metadata": {
        "id": "c4718719"
      },
      "source": [
        "```python\n",
        "cutPrice = sqlContext.read.format('com.databricks.spark.csv').options(header='true',\n",
        "                                inferSchema='true').load('/FileStore/cutPrice')\n",
        "display(cutPrice)\n",
        "\n",
        "```"
      ]
    },
    {
      "cell_type": "markdown",
      "id": "a78296a0",
      "metadata": {
        "id": "a78296a0"
      },
      "source": [
        "<img src=\"https://drive.google.com/uc?export=view&id=10KxLr3D9yvSLuRcRInWcO0lXzDiHa4r2\" width=\"100%\">"
      ]
    },
    {
      "cell_type": "markdown",
      "id": "7513bf5d",
      "metadata": {
        "id": "7513bf5d"
      },
      "source": [
        "6. Puede también usar sintaxis *SQL* para consultar las tablas creadas:"
      ]
    },
    {
      "cell_type": "markdown",
      "id": "810ca7b5",
      "metadata": {
        "id": "810ca7b5"
      },
      "source": [
        "```python\n",
        "diamondsCast.registerTempTable(\"diamonds\")\n",
        "color_agg = sqlContext.sql(\"\"\"\n",
        "SELECT color, avg(price) AS price\n",
        "FROM diamonds\n",
        "GROUP BY color\n",
        "ORDER BY color\n",
        "\"\"\")\n",
        "display(color_agg)\n",
        "```"
      ]
    },
    {
      "cell_type": "markdown",
      "id": "0cb0d5f4",
      "metadata": {
        "id": "0cb0d5f4"
      },
      "source": [
        "    Además, podemos realizar una consulta con una celda especial (creada con la etiqueta %sql), consultando directamente la tabla creada:"
      ]
    },
    {
      "cell_type": "markdown",
      "id": "60c8ce09",
      "metadata": {
        "id": "60c8ce09"
      },
      "source": [
        "```python\n",
        "%sql\n",
        "SELECT color, avg(price) AS price FROM diamonds GROUP BY color ORDER BY color\n",
        "```"
      ]
    },
    {
      "cell_type": "markdown",
      "id": "9521e2f5",
      "metadata": {
        "id": "9521e2f5"
      },
      "source": [
        "## **Créditos**\n",
        "---\n",
        "\n",
        "**Profesor**\n",
        "\n",
        "- [Jorge E. Camargo, PhD](https://dis.unal.edu.co/~jecamargom/)\n",
        "\n",
        "**Diseño, desarrollo del notebook y material audiovisual**\n",
        "\n",
        "- [Juan S. Lara MSc](https://www.linkedin.com/in/juan-sebastian-lara-ramirez-43570a214/)\n",
        "\n",
        "**Universidad Nacional de Colombia** - *Facultad de Ingeniería*"
      ]
    }
  ],
  "metadata": {
    "jupytext": {
      "cell_metadata_filter": "-all",
      "main_language": "python",
      "notebook_metadata_filter": "-all"
    },
    "colab": {
      "provenance": []
    }
  },
  "nbformat": 4,
  "nbformat_minor": 5
}