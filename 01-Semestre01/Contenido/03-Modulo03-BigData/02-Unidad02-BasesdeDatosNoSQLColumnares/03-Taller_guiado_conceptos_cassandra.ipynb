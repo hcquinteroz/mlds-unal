{
  "cells": [
    {
      "cell_type": "markdown",
      "id": "80097e96",
      "metadata": {
        "id": "80097e96"
      },
      "source": [
        "<img src=\"https://drive.google.com/uc?export=view&id=10rLzZzH5ctQ4bPRDZTbZk5tQMc9sDO0W\" width=\"100%\"></img>"
      ]
    },
    {
      "cell_type": "markdown",
      "id": "513e0005",
      "metadata": {
        "id": "513e0005"
      },
      "source": [
        "# Conceptos de Cassandra\n",
        "---\n",
        "\n",
        "En este notebook mostraremos algunas generalidades y formas de uso de la base de datos _Cassandra_ y su lenguaje de consulta CQL.\n",
        "\n",
        "Primero instalaremos e importaremos las librerías Necesarias:"
      ]
    },
    {
      "cell_type": "code",
      "execution_count": 1,
      "id": "01db72f1",
      "metadata": {
        "id": "01db72f1",
        "colab": {
          "base_uri": "https://localhost:8080/"
        },
        "outputId": "0b546974-f492-4acd-964c-96c2fc58a9f8"
      },
      "outputs": [
        {
          "output_type": "stream",
          "name": "stdout",
          "text": [
            "Looking in indexes: https://pypi.org/simple, https://us-python.pkg.dev/colab-wheels/public/simple/\n",
            "Collecting cassandra-driver\n",
            "  Downloading cassandra_driver-3.25.0-cp37-cp37m-manylinux1_x86_64.whl (3.8 MB)\n",
            "\u001b[K     |████████████████████████████████| 3.8 MB 31.4 MB/s \n",
            "\u001b[?25hRequirement already satisfied: six>=1.9 in /usr/local/lib/python3.7/dist-packages (from cassandra-driver) (1.15.0)\n",
            "Collecting geomet<0.3,>=0.1\n",
            "  Downloading geomet-0.2.1.post1-py3-none-any.whl (18 kB)\n",
            "Requirement already satisfied: click in /usr/local/lib/python3.7/dist-packages (from geomet<0.3,>=0.1->cassandra-driver) (7.1.2)\n",
            "Installing collected packages: geomet, cassandra-driver\n",
            "Successfully installed cassandra-driver-3.25.0 geomet-0.2.1.post1\n"
          ]
        }
      ],
      "source": [
        "!pip install cassandra-driver"
      ]
    },
    {
      "cell_type": "code",
      "execution_count": 2,
      "id": "a2c49dec",
      "metadata": {
        "id": "a2c49dec"
      },
      "outputs": [],
      "source": [
        "from cassandra.cluster import Cluster\n",
        "from cassandra.auth import PlainTextAuthProvider\n",
        "import pandas as pd"
      ]
    },
    {
      "cell_type": "markdown",
      "id": "4d8f9e6c",
      "metadata": {
        "id": "4d8f9e6c"
      },
      "source": [
        "Ahora, realizaremos la conexión a la base de datos de [astra](https://astra.datastax.com/) tal y cómo se mostró en el notebook `1_cassandra_python.ipynb`:\n",
        "\n",
        "> **Nota**: recuerde subir los archivos `bundle.zip` y `token.csv`."
      ]
    },
    {
      "cell_type": "code",
      "execution_count": 3,
      "id": "4a5b83e4",
      "metadata": {
        "id": "4a5b83e4"
      },
      "outputs": [],
      "source": [
        "cloud_config= {\n",
        "        \"secure_connect_bundle\": \"bundle.zip\" # nombre de su archivo de bundle\n",
        "}\n",
        "\n",
        "token = pd.read_csv(\"token.csv\")"
      ]
    },
    {
      "cell_type": "code",
      "execution_count": 4,
      "id": "53b6d279",
      "metadata": {
        "id": "53b6d279",
        "colab": {
          "base_uri": "https://localhost:8080/"
        },
        "outputId": "b78af714-aa16-4b84-dafc-3ee6c4d38af4"
      },
      "outputs": [
        {
          "output_type": "stream",
          "name": "stderr",
          "text": [
            "WARNING:cassandra.cluster:Downgrading core protocol version from 66 to 65 for 789432d4-2a70-4a5b-842a-0a7bed508af1-us-east1.db.astra.datastax.com:29042:475c4b73-d944-4e5c-8824-4adff0141231. To avoid this, it is best practice to explicitly set Cluster(protocol_version) to the version supported by your cluster. http://datastax.github.io/python-driver/api/cassandra/cluster.html#cassandra.cluster.Cluster.protocol_version\n",
            "WARNING:cassandra.cluster:Downgrading core protocol version from 65 to 5 for 789432d4-2a70-4a5b-842a-0a7bed508af1-us-east1.db.astra.datastax.com:29042:475c4b73-d944-4e5c-8824-4adff0141231. To avoid this, it is best practice to explicitly set Cluster(protocol_version) to the version supported by your cluster. http://datastax.github.io/python-driver/api/cassandra/cluster.html#cassandra.cluster.Cluster.protocol_version\n",
            "ERROR:cassandra.connection:Closing connection <LibevConnection(140202177674256) 789432d4-2a70-4a5b-842a-0a7bed508af1-us-east1.db.astra.datastax.com:29042:475c4b73-d944-4e5c-8824-4adff0141231> due to protocol error: Error from server: code=000a [Protocol error] message=\"Beta version of the protocol used (5/v5-beta), but USE_BETA flag is unset\"\n",
            "WARNING:cassandra.cluster:Downgrading core protocol version from 5 to 4 for 789432d4-2a70-4a5b-842a-0a7bed508af1-us-east1.db.astra.datastax.com:29042:475c4b73-d944-4e5c-8824-4adff0141231. To avoid this, it is best practice to explicitly set Cluster(protocol_version) to the version supported by your cluster. http://datastax.github.io/python-driver/api/cassandra/cluster.html#cassandra.cluster.Cluster.protocol_version\n"
          ]
        }
      ],
      "source": [
        "auth_provider = PlainTextAuthProvider(\n",
        "        token[\"Client Id\"].iloc[0],\n",
        "        token[\"Client Secret\"].iloc[0]\n",
        "        )\n",
        "cluster = Cluster(\n",
        "        cloud=cloud_config,\n",
        "        auth_provider=auth_provider\n",
        "        )\n",
        "session = cluster.connect()"
      ]
    },
    {
      "cell_type": "markdown",
      "id": "199312f5",
      "metadata": {
        "id": "199312f5"
      },
      "source": [
        "Cassandra maneja un lenguaje de consulta llamado **Cassandra Query Languaje** (CQL), el cual se caracteriza por ser muy cercano a SQL, en especial a _MySQL_. La jerarquía de organización de datos tiene la siguiente analogía:\n",
        "\n",
        "| SQL | Cassandra |\n",
        "| --- | --- |\n",
        "| DATABASE | KEYSPACE |\n",
        "| TABLE | TABLE |\n",
        "\n",
        "Aunque _CQL_ resulta ser muy cercano a _SQL_, el enfoque es totalmente diferente y hay varios conceptos que hay que considerar para el diseño del modelo de datos y las tablas. En especial _Cassandra_ y varias bases de datos NoSQL siguen un enfoque de **Query First Design**.\n",
        "\n",
        "En este caso comenzaremos mostrando la forma en la que debemos diseñar tablas en _Cassandra_ y algunas particularidades de esta base de datos:"
      ]
    },
    {
      "cell_type": "markdown",
      "id": "d445e619",
      "metadata": {
        "id": "d445e619"
      },
      "source": [
        "## **1. Query First Design**\n",
        "---\n",
        "\n",
        "A diferencia de otros modelos para la estructuración de tablas y bases de datos, _Cassandra_ sigue un enfoque de diseño enfocado a la consulta, es decir, debemos construir nuestras tablas de una forma tal que la consulta sea bastante simple.\n",
        "\n",
        "Esto involucra las siguientes consideraciones:\n",
        "\n",
        "* La tabla debe estar construida para que los filtros sean simples, es decir, como máximo filtramos usando operadores de igualdad sobre un campo y unimos condiciones sólo con `AND`.\n",
        "* Es mejor tener los resultados pre-calculados aunque sean redundantes. Esto se hace notorio ante la falta de la operación `JOIN` en _Cassandra_, ya que, es mejor tener una tabla con el resultado del cruce de datos y no tener que cruzar estos datos cuando se ejecute la consulta.\n",
        "* El motor de _Cassandra_, al estar enfocado en la consulta, también está pensado para que las operaciones de consulta sean rápidas. _Cassandra_ permite ejecutar consultas de forma distribuida y eficiente.\n",
        "\n",
        "Veamos un ejemplo de un modelo de datos clásico en SQL para datos de estudiantes de un colegio y sus acudientes:\n",
        "\n",
        "* **students**\n",
        "\n",
        "| id | name | age | gender | grade |\n",
        "|---|---|---|---|---|\n",
        "| 1 | Bart Simpson | 10 | male | 3.0 |\n",
        "| 2 | Lisa Simpson | 8 | female | 4.9 |\n",
        "| 3 | Milhouse Van Houten | 11 | male | 2.8 |\n",
        "\n",
        "* **parents**\n",
        "\n",
        "| id | name | age | gender | student_id |\n",
        "|---|---|---|---|---|\n",
        "| 1 | Homero Simpson | 39 | male | 1 |\n",
        "| 2 | Marge Simpson | 33 | female | 1 |\n",
        "| 3 | Homero Simpson | 50 | male | 2 |\n",
        "| 4 | Marge Simpson | 50 | female | 2 |\n",
        "| 5 | Kirk Van Houten | 40 | male | 3 |\n",
        "| 6 | Luann Van Houten |  32 | female | 3 |\n",
        "\n",
        "Si quisieramos encontrar la lista de estudiantes y sus acudientes desde _SQL_, probablemente construiríamos una consulta de la siguiente forma:\n",
        "\n",
        "```sql\n",
        "SELECT\n",
        "    students.name AS student_name,\n",
        "    parents.name AS parent_name\n",
        "FROM\n",
        "    students\n",
        "INNER JOIN\n",
        "    parents\n",
        "ON\n",
        "    students.id = parents.id\n",
        ";\n",
        "```\n",
        "\n",
        "Este comportamiento no es posible en Cassandra, para ello tendríamos que tener una tabla con el inner join, definida desde un inicio:\n",
        "\n",
        "* **students_parents**\n",
        "\n",
        "| student_name | parent_name |\n",
        "| --- | --- |\n",
        "| Bart Simpson | Homero Simpson |\n",
        "| Bart Simpson | Marge Simpson |\n",
        "| Lisa Simpson | Homero Simpson |\n",
        "| Lisa Simpson | Marge Simpson |\n",
        "| Milhouse Van Houten | Kirk Van Houten |\n",
        "| Milhouse Van Houten | Luann Van Houten |\n",
        "\n",
        "Así, en _Cassandra_ se extraería la información de la siguiente forma:\n",
        "\n",
        "```sql\n",
        "SELECT\n",
        "    *\n",
        "FROM\n",
        "    students_parents\n",
        ";\n",
        "```\n",
        "\n",
        "Note la simplicidad en la consulta, lo que es el objetivo final en _Cassandra_.\n",
        "\n",
        "Veamos algunos métodos para la manipulación de datos en _Cassandra_:"
      ]
    },
    {
      "cell_type": "markdown",
      "id": "827f0ffe",
      "metadata": {
        "id": "827f0ffe"
      },
      "source": [
        "## **2. Creación**\n",
        "---\n",
        "\n",
        "La sintaxis para la creación de tablas en _Cassandra_ es la siguiente:\n",
        "\n",
        "```sql\n",
        "CREATE TABLE [IF NOT EXISTS] <nombre_keyspace>.<nombre_tabla> (\n",
        "    nombre_columna1 TIPO1,\n",
        "    nombre_columna2 TIPO2,\n",
        "    nombre_columna3 TIPO3\n",
        "    PRIMARY KEY(nombre_columna1, nombre_columna2)\n",
        "    )\n",
        ";\n",
        "```\n",
        "\n",
        "Veamos un ejemplo:"
      ]
    },
    {
      "cell_type": "code",
      "execution_count": 5,
      "id": "21125116",
      "metadata": {
        "id": "21125116",
        "colab": {
          "base_uri": "https://localhost:8080/"
        },
        "outputId": "d0592e33-eaa2-43a3-9ec0-af447120e611"
      },
      "outputs": [
        {
          "output_type": "execute_result",
          "data": {
            "text/plain": [
              "<cassandra.cluster.ResultSet at 0x7f835cfc29d0>"
            ]
          },
          "metadata": {},
          "execution_count": 5
        }
      ],
      "source": [
        "query = \"\"\"\n",
        "CREATE TABLE IF NOT EXISTS test.students (\n",
        "        id INT PRIMARY KEY,\n",
        "        name TEXT,\n",
        "        age INT,\n",
        "        gender TEXT,\n",
        "        grade FLOAT\n",
        "        )\n",
        ";\n",
        "\"\"\"\n",
        "session.execute(query)"
      ]
    },
    {
      "cell_type": "markdown",
      "id": "8339270a",
      "metadata": {
        "id": "8339270a"
      },
      "source": [
        "Puede ver información de las tablas accediendo al objeto `cluster`:"
      ]
    },
    {
      "cell_type": "code",
      "execution_count": 6,
      "id": "befdc0ba",
      "metadata": {
        "id": "befdc0ba",
        "colab": {
          "base_uri": "https://localhost:8080/"
        },
        "outputId": "1e1f5afe-b466-42bf-d44a-84a6c408442a"
      },
      "outputs": [
        {
          "output_type": "execute_result",
          "data": {
            "text/plain": [
              "{'test': <cassandra.metadata.KeyspaceMetadata at 0x7f835cfbd290>,\n",
              " 'system_auth': <cassandra.metadata.KeyspaceMetadata at 0x7f835cfbd410>,\n",
              " 'data_endpoint_auth': <cassandra.metadata.KeyspaceMetadata at 0x7f835bb027d0>,\n",
              " 'system_schema': <cassandra.metadata.KeyspaceMetadata at 0x7f835bb02f10>,\n",
              " 'datastax_sla': <cassandra.metadata.KeyspaceMetadata at 0x7f835cfa4d50>,\n",
              " 'system': <cassandra.metadata.KeyspaceMetadata at 0x7f835cfa4e90>,\n",
              " 'system_traces': <cassandra.metadata.KeyspaceMetadata at 0x7f835cfa4f50>,\n",
              " 'system_virtual_schema': <cassandra.metadata.KeyspaceMetadata at 0x7f835baa4890>,\n",
              " 'system_views': <cassandra.metadata.KeyspaceMetadata at 0x7f835baa4dd0>}"
            ]
          },
          "metadata": {},
          "execution_count": 6
        }
      ],
      "source": [
        "cluster.metadata.keyspaces"
      ]
    },
    {
      "cell_type": "code",
      "execution_count": 7,
      "id": "7d10fed9",
      "metadata": {
        "id": "7d10fed9",
        "colab": {
          "base_uri": "https://localhost:8080/"
        },
        "outputId": "d010378b-d278-4ef3-af83-36359b42f3bb"
      },
      "outputs": [
        {
          "output_type": "execute_result",
          "data": {
            "text/plain": [
              "{'students': <cassandra.metadata.TableMetadataV3 at 0x7f835db45950>}"
            ]
          },
          "metadata": {},
          "execution_count": 7
        }
      ],
      "source": [
        "cluster.metadata.keyspaces[\"test\"].tables"
      ]
    },
    {
      "cell_type": "code",
      "execution_count": 8,
      "id": "269f3f4e",
      "metadata": {
        "id": "269f3f4e",
        "colab": {
          "base_uri": "https://localhost:8080/"
        },
        "outputId": "b327935c-e6a8-41bb-c25e-fe2801bc4a18"
      },
      "outputs": [
        {
          "output_type": "execute_result",
          "data": {
            "text/plain": [
              "OrderedDict([('id', <cassandra.metadata.ColumnMetadata at 0x7f835bafa790>),\n",
              "             ('age', <cassandra.metadata.ColumnMetadata at 0x7f835bafa7d0>),\n",
              "             ('gender', <cassandra.metadata.ColumnMetadata at 0x7f835bafaa50>),\n",
              "             ('grade', <cassandra.metadata.ColumnMetadata at 0x7f835bafa150>),\n",
              "             ('name', <cassandra.metadata.ColumnMetadata at 0x7f835cfc02d0>)])"
            ]
          },
          "metadata": {},
          "execution_count": 8
        }
      ],
      "source": [
        "cluster.metadata.keyspaces[\"test\"].tables[\"students\"].columns"
      ]
    },
    {
      "cell_type": "markdown",
      "id": "61e34086",
      "metadata": {
        "id": "61e34086"
      },
      "source": [
        "Ahora, veamos un ejemplo de inserción de datos. La sintaxis es la siguiente:\n",
        "\n",
        "```sql\n",
        "INSERT INTO <nombre_keyspace>.<nombre_tabla> (\n",
        "    nombre_columna1, nombre_columna2\n",
        "    )\n",
        "VALUES\n",
        "    (<valor1>, <valor2>)\n",
        ";\n",
        "```\n",
        "\n",
        "Veamos un ejemplo"
      ]
    },
    {
      "cell_type": "code",
      "execution_count": 9,
      "id": "cb50cca4",
      "metadata": {
        "id": "cb50cca4",
        "colab": {
          "base_uri": "https://localhost:8080/"
        },
        "outputId": "e1a91438-8343-4e33-9bad-df26e5c3b351"
      },
      "outputs": [
        {
          "output_type": "execute_result",
          "data": {
            "text/plain": [
              "<cassandra.cluster.ResultSet at 0x7f835bb00610>"
            ]
          },
          "metadata": {},
          "execution_count": 9
        }
      ],
      "source": [
        "query = \"\"\"\n",
        "INSERT INTO test.students (\n",
        "        id, name, age, gender, grade\n",
        "        )\n",
        "VALUES\n",
        "    (1, 'Bart Simpson', 10, 'male', 3.0)\n",
        ";\n",
        "\"\"\"\n",
        "session.execute(query)"
      ]
    },
    {
      "cell_type": "markdown",
      "id": "af46623e",
      "metadata": {
        "id": "af46623e"
      },
      "source": [
        "También es posible insertar multiples valores al tiempo (batch), de la siguiente forma:"
      ]
    },
    {
      "cell_type": "code",
      "execution_count": 10,
      "id": "7d35b6ac",
      "metadata": {
        "id": "7d35b6ac",
        "colab": {
          "base_uri": "https://localhost:8080/"
        },
        "outputId": "3e46df00-b656-4569-b28f-b681e11e7dfd"
      },
      "outputs": [
        {
          "output_type": "execute_result",
          "data": {
            "text/plain": [
              "<cassandra.cluster.ResultSet at 0x7f835bafe4d0>"
            ]
          },
          "metadata": {},
          "execution_count": 10
        }
      ],
      "source": [
        "query = \"\"\"\n",
        "BEGIN BATCH\n",
        "    INSERT INTO test.students (id, name, age) VALUES (2, 'Lisa Simpson', 8);\n",
        "    INSERT INTO test.students (id, name, gender) VALUES (3, 'Milhouse Van Houten', 'male');\n",
        "APPLY BATCH\n",
        ";\n",
        "\"\"\"\n",
        "session.execute(query)"
      ]
    },
    {
      "cell_type": "markdown",
      "id": "b52ee94a",
      "metadata": {
        "id": "b52ee94a"
      },
      "source": [
        "En _Cassandra_ hay un concepto crucial que hay que considerar para la creación de las tablas. Se trata de los tres tipos de llaves que tiene:\n",
        "\n",
        "* **Llaves compuestas**: se trata de llaves que se conforman por varias columnas, en especial una llave primaria es una llave compuesta por llaves de partición y llaves de agrupamiento.\n",
        "* **Llaves de partición**: son llaves que _Cassandra_ utiliza para la indexación, y como su nombre lo indica son usadas para determinar en qué partición física (nodo de almacenamiento o token) se ubicarán los datos.\n",
        "* **Llaves de agrupamiento**: son llaves que _Cassandra_ utiliza para permitir filtros rápidos por grupos y operaciones de agregación `GROUP BY`. Internamente, _Cassandra_ utiliza estas llaves para determinar el orden en el que se depositan los datos dentro de la partición.\n",
        "\n",
        "Generalmente, estas llaves se definen de la siguiente forma dentro de la operación de creación de tablas:\n",
        "\n",
        "```sql\n",
        "PRIMARY KEY( (columna1, columna2), columna3, columna4 )\n",
        "```\n",
        "\n",
        "En este caso, `columna1` y `columna2` son llaves de partición y `columna3` y `columna4` son llaves de agrupamiento.\n",
        "\n",
        "> **Nota**: puede usar multiples llaves de partición o de agrupamiento.\n",
        "\n",
        "Veamos la creación de una tabla con llaves de partición y de agrupamiento:"
      ]
    },
    {
      "cell_type": "code",
      "execution_count": 11,
      "id": "6d73acbc",
      "metadata": {
        "id": "6d73acbc",
        "colab": {
          "base_uri": "https://localhost:8080/"
        },
        "outputId": "ab999a18-d970-40c4-cdf0-e24b4107e924"
      },
      "outputs": [
        {
          "output_type": "execute_result",
          "data": {
            "text/plain": [
              "<cassandra.cluster.ResultSet at 0x7f835bada050>"
            ]
          },
          "metadata": {},
          "execution_count": 11
        }
      ],
      "source": [
        "query = \"\"\"\n",
        "CREATE TABLE test.students2 (\n",
        "        id UUID,\n",
        "        name TEXT,\n",
        "        age INT,\n",
        "        gender TEXT,\n",
        "        grade FLOAT,\n",
        "        PRIMARY KEY ((id, name), gender)\n",
        "        )\n",
        ";\n",
        "\"\"\"\n",
        "session.execute(query)"
      ]
    },
    {
      "cell_type": "markdown",
      "id": "ea491d14",
      "metadata": {
        "id": "ea491d14"
      },
      "source": [
        "En este caso, `id` y `name` son llaves de partición y `gender` es una llave de agrupamiento.\n",
        "\n",
        "El tipo `UUID` es comunmente usado en lugar de valores autoincrementales como en _SQL_, esto se hace principalmente porque _Cassandra_ tiene datos particionados (en distintas ubicaciones) y tener un orden no tiene mucho sentido."
      ]
    },
    {
      "cell_type": "markdown",
      "id": "7dc639e3",
      "metadata": {
        "id": "7dc639e3"
      },
      "source": [
        "## **3. Consulta**\n",
        "---\n",
        "\n",
        "En _Cassandra_ las operaciones de consulta suelen ser más simples, el éxito de una implementación de una base de datos en _Cassandra_ depende fundamentalmente de un buen diseño de tablas (query first) y una buena selección de llaves primarias y de partición.\n",
        "\n",
        "Veamos algunos ejemplos de consultas y qué operaciones se pueden hacer sobre distintos tipos de llaves, primero vamos a crear una tabla y a llenarla con algunos datos"
      ]
    },
    {
      "cell_type": "code",
      "execution_count": 12,
      "id": "4d831522",
      "metadata": {
        "id": "4d831522",
        "colab": {
          "base_uri": "https://localhost:8080/"
        },
        "outputId": "13ab73ec-9060-4637-9c3b-304c02b42739"
      },
      "outputs": [
        {
          "output_type": "execute_result",
          "data": {
            "text/plain": [
              "<cassandra.cluster.ResultSet at 0x7f835badac90>"
            ]
          },
          "metadata": {},
          "execution_count": 12
        }
      ],
      "source": [
        "query = \"\"\"\n",
        "CREATE TABLE test.only_partition (\n",
        "        id INT PRIMARY KEY,\n",
        "        category TEXT,\n",
        "        )\n",
        ";\n",
        "\"\"\"\n",
        "session.execute(query)"
      ]
    },
    {
      "cell_type": "code",
      "execution_count": 13,
      "id": "1374f1d4",
      "metadata": {
        "id": "1374f1d4",
        "colab": {
          "base_uri": "https://localhost:8080/"
        },
        "outputId": "ead9ca2d-7f3e-4e17-af95-87e416e6a7d3"
      },
      "outputs": [
        {
          "output_type": "execute_result",
          "data": {
            "text/plain": [
              "<cassandra.cluster.ResultSet at 0x7f835cfc0210>"
            ]
          },
          "metadata": {},
          "execution_count": 13
        }
      ],
      "source": [
        "query = \"\"\"\n",
        "BEGIN BATCH\n",
        "INSERT INTO test.only_partition (id, category) VALUES (1, 'A');\n",
        "INSERT INTO test.only_partition (id, category) VALUES (2, 'B');\n",
        "INSERT INTO test.only_partition (id, category) VALUES (3, 'B');\n",
        "APPLY BATCH;\n",
        "\"\"\"\n",
        "session.execute(query)"
      ]
    },
    {
      "cell_type": "markdown",
      "id": "0a4359ab",
      "metadata": {
        "id": "0a4359ab"
      },
      "source": [
        "Comenzamos con una selección completa de los datos de la tabla, usamos el método `all()` para extraer el resultado:"
      ]
    },
    {
      "cell_type": "code",
      "execution_count": 14,
      "id": "d53504ca",
      "metadata": {
        "id": "d53504ca",
        "colab": {
          "base_uri": "https://localhost:8080/"
        },
        "outputId": "cc329605-89e4-4a1a-fb41-98763235fbdf"
      },
      "outputs": [
        {
          "output_type": "execute_result",
          "data": {
            "text/plain": [
              "[Row(id=1, category='A'), Row(id=2, category='B'), Row(id=3, category='B')]"
            ]
          },
          "metadata": {},
          "execution_count": 14
        }
      ],
      "source": [
        "query = \"\"\"\n",
        "SELECT * FROM test.only_partition;\n",
        "\"\"\"\n",
        "session.execute(query).all()"
      ]
    },
    {
      "cell_type": "markdown",
      "id": "68522c7c",
      "metadata": {
        "id": "68522c7c"
      },
      "source": [
        "Ahora, vamos a intentar filtrar por el campo `id`:"
      ]
    },
    {
      "cell_type": "code",
      "execution_count": 18,
      "id": "8f91df8c",
      "metadata": {
        "id": "8f91df8c",
        "colab": {
          "base_uri": "https://localhost:8080/"
        },
        "outputId": "a8a24f59-2747-4a46-f2ad-b4db3d2c90ce"
      },
      "outputs": [
        {
          "output_type": "stream",
          "name": "stdout",
          "text": [
            "[Row(id=1, category='A')]\n"
          ]
        }
      ],
      "source": [
        "query = \"\"\"\n",
        "SELECT\n",
        "    *\n",
        "FROM\n",
        "    test.only_partition\n",
        "WHERE\n",
        "    id = 1\n",
        ";\n",
        "\"\"\"\n",
        "try:\n",
        "    print(session.execute(query).all())\n",
        "except Exception as e:\n",
        "    print(e)"
      ]
    },
    {
      "cell_type": "markdown",
      "id": "9ad77c56",
      "metadata": {
        "id": "9ad77c56"
      },
      "source": [
        "Ahora, vamos a intentar filtros con desigualdades:"
      ]
    },
    {
      "cell_type": "code",
      "execution_count": 19,
      "id": "25c80f1d",
      "metadata": {
        "id": "25c80f1d",
        "colab": {
          "base_uri": "https://localhost:8080/"
        },
        "outputId": "aa7f1eb3-e4f3-404a-ecf9-2b71183a49a2"
      },
      "outputs": [
        {
          "output_type": "stream",
          "name": "stdout",
          "text": [
            "Error from server: code=2200 [Invalid query] message=\"Cannot execute this query as it might involve data filtering and thus may have unpredictable performance. If you want to execute this query despite the performance unpredictability, use ALLOW FILTERING\"\n"
          ]
        }
      ],
      "source": [
        "query = \"\"\"\n",
        "SELECT\n",
        "    *\n",
        "FROM\n",
        "    test.only_partition\n",
        "WHERE\n",
        "    id > 1\n",
        ";\n",
        "\"\"\"\n",
        "try:\n",
        "    print(session.execute(query).all())\n",
        "except Exception as e:\n",
        "    print(e)"
      ]
    },
    {
      "cell_type": "markdown",
      "id": "d43b0cf0",
      "metadata": {
        "id": "d43b0cf0"
      },
      "source": [
        "Note que esta consulta genera error, esto se debe a que las desigualdades por lo general requieren la comparación de múltiples valores y esto resulta ser muy costoso con tablas muy grandes.\n",
        "\n",
        "Ahora, vamos a filtrar con respecto al otro campo:"
      ]
    },
    {
      "cell_type": "code",
      "execution_count": 20,
      "id": "8c4cf757",
      "metadata": {
        "id": "8c4cf757",
        "colab": {
          "base_uri": "https://localhost:8080/"
        },
        "outputId": "3642ea2f-bd44-4670-f951-9044d3cd85b2"
      },
      "outputs": [
        {
          "output_type": "stream",
          "name": "stdout",
          "text": [
            "Error from server: code=2200 [Invalid query] message=\"Cannot execute this query as it might involve data filtering and thus may have unpredictable performance. If you want to execute this query despite the performance unpredictability, use ALLOW FILTERING\"\n"
          ]
        }
      ],
      "source": [
        "query = \"\"\"\n",
        "SELECT\n",
        "    *\n",
        "FROM\n",
        "    test.only_partition\n",
        "WHERE\n",
        "    category = 'A'\n",
        ";\n",
        "\"\"\"\n",
        "try:\n",
        "    print(session.execute(query).all())\n",
        "except Exception as e:\n",
        "    print(e)"
      ]
    },
    {
      "cell_type": "markdown",
      "id": "7dae5088",
      "metadata": {
        "id": "7dae5088"
      },
      "source": [
        "Esta consulta también genera error, y esto se debe a que estamos tratando de filtrar con un campo no indexable. En _Cassandra_ se recomienda filtrar unicamente sobre las llaves de partición y las llaves de agrupamiento por motivos de velocidad en la consulta.\n",
        "\n",
        "Veamos un ejemplo con una tabla de múltiples llaves de partición y de agrupamiento:"
      ]
    },
    {
      "cell_type": "code",
      "execution_count": 21,
      "id": "ef090f60",
      "metadata": {
        "id": "ef090f60",
        "colab": {
          "base_uri": "https://localhost:8080/"
        },
        "outputId": "35f42683-6202-4534-bb1e-ff45642657ba"
      },
      "outputs": [
        {
          "output_type": "execute_result",
          "data": {
            "text/plain": [
              "<cassandra.cluster.ResultSet at 0x7f835ba86150>"
            ]
          },
          "metadata": {},
          "execution_count": 21
        }
      ],
      "source": [
        "query = \"\"\"\n",
        "CREATE TABLE\n",
        "    test.multiple_keys (\n",
        "        name TEXT,\n",
        "        last_name TEXT,\n",
        "        category TEXT,\n",
        "        sub_category TEXT,\n",
        "        age INT,\n",
        "        PRIMARY KEY ((name, last_name), category, sub_category)\n",
        "        )\n",
        ";\n",
        "\"\"\"\n",
        "session.execute(query)"
      ]
    },
    {
      "cell_type": "markdown",
      "id": "db7c044c",
      "metadata": {
        "id": "db7c044c"
      },
      "source": [
        "En este caso tenemos `name` y `last_name` como llaves primarias, `category` y `sub_category` son llaves de agrupamiento.\n",
        "\n",
        "Vamos a insertar algunos valores:"
      ]
    },
    {
      "cell_type": "code",
      "execution_count": 22,
      "id": "2fd09ec9",
      "metadata": {
        "id": "2fd09ec9",
        "colab": {
          "base_uri": "https://localhost:8080/"
        },
        "outputId": "2229e90f-0e9d-44da-de53-60bbda9137f2"
      },
      "outputs": [
        {
          "output_type": "execute_result",
          "data": {
            "text/plain": [
              "<cassandra.cluster.ResultSet at 0x7f835bafd3d0>"
            ]
          },
          "metadata": {},
          "execution_count": 22
        }
      ],
      "source": [
        "query = \"\"\"\n",
        "BEGIN BATCH\n",
        "    INSERT INTO\n",
        "        test.multiple_keys (\n",
        "            name, last_name, category, sub_category, age\n",
        "            )\n",
        "    VALUES\n",
        "        ('Pedro', 'Picapiedra', 'A', 'casado', 50)\n",
        "    ;\n",
        "    INSERT INTO\n",
        "        test.multiple_keys (\n",
        "            name, last_name, category, sub_category, age\n",
        "            )\n",
        "    VALUES\n",
        "        ('Pedro', 'Montenegro', 'A', 'soltero', 49)\n",
        "    ;\n",
        "    INSERT INTO\n",
        "        test.multiple_keys (\n",
        "            name, last_name, category, sub_category, age\n",
        "            )\n",
        "    VALUES\n",
        "        ('Homero', 'Simpson', 'B', 'casado', 45)\n",
        "    ;\n",
        "    INSERT INTO\n",
        "        test.multiple_keys (\n",
        "            name, last_name, category, sub_category, age\n",
        "            )\n",
        "    VALUES\n",
        "        ('Anapolo', 'Rocondo', 'B', 'soltero', 45)\n",
        "    ;\n",
        "APPLY BATCH;\n",
        "\"\"\"\n",
        "session.execute(query)"
      ]
    },
    {
      "cell_type": "markdown",
      "id": "19e3813d",
      "metadata": {
        "id": "19e3813d"
      },
      "source": [
        "Veamos una consulta donde filtramos por el campo `name`:"
      ]
    },
    {
      "cell_type": "code",
      "execution_count": 23,
      "id": "36d9cd50",
      "metadata": {
        "id": "36d9cd50",
        "colab": {
          "base_uri": "https://localhost:8080/"
        },
        "outputId": "f8056a15-d88b-451c-d2bb-68e34f326df9"
      },
      "outputs": [
        {
          "output_type": "stream",
          "name": "stdout",
          "text": [
            "Error from server: code=2200 [Invalid query] message=\"Cannot execute this query as it might involve data filtering and thus may have unpredictable performance. If you want to execute this query despite the performance unpredictability, use ALLOW FILTERING\"\n"
          ]
        }
      ],
      "source": [
        "query = \"\"\"\n",
        "SELECT\n",
        "    *\n",
        "FROM\n",
        "    test.multiple_keys\n",
        "WHERE\n",
        "    name = 'Anapolo'\n",
        ";\n",
        "\"\"\"\n",
        "try:\n",
        "    print(session.execute(query).all())\n",
        "except Exception as e:\n",
        "    print(e)"
      ]
    },
    {
      "cell_type": "markdown",
      "id": "65075b87",
      "metadata": {
        "id": "65075b87"
      },
      "source": [
        "Note que esta consulta genera error a pesar de que `name` es una llave de partición. Esto se debe a que las consultas en _Cassandra_ están pensadas para realizarse sobre todas las llaves de partición al tiempo y de forma obligatoria:"
      ]
    },
    {
      "cell_type": "code",
      "execution_count": 24,
      "id": "60ad2a11",
      "metadata": {
        "id": "60ad2a11",
        "colab": {
          "base_uri": "https://localhost:8080/"
        },
        "outputId": "c7d1c9e4-0c55-485e-c6a0-25a5d90aa7fc"
      },
      "outputs": [
        {
          "output_type": "stream",
          "name": "stdout",
          "text": [
            "[Row(name='Anapolo', last_name='Rocondo', category='B', sub_category='soltero', age=45)]\n"
          ]
        }
      ],
      "source": [
        "query = \"\"\"\n",
        "SELECT\n",
        "    *\n",
        "FROM\n",
        "    test.multiple_keys\n",
        "WHERE\n",
        "    name = 'Anapolo' AND last_name = 'Rocondo'\n",
        ";\n",
        "\"\"\"\n",
        "try:\n",
        "    print(session.execute(query).all())\n",
        "except Exception as e:\n",
        "    print(e)"
      ]
    },
    {
      "cell_type": "markdown",
      "id": "5fb27f15",
      "metadata": {
        "id": "5fb27f15"
      },
      "source": [
        "Los filtros sobre las llaves de agrupamiento son opcionales, veamos un ejemplo, con una nueva tabla:"
      ]
    },
    {
      "cell_type": "code",
      "execution_count": 25,
      "id": "032f00c0",
      "metadata": {
        "id": "032f00c0",
        "colab": {
          "base_uri": "https://localhost:8080/"
        },
        "outputId": "0897df96-7661-41c5-84f9-8d5d4be403e2"
      },
      "outputs": [
        {
          "output_type": "execute_result",
          "data": {
            "text/plain": [
              "<cassandra.cluster.ResultSet at 0x7f835bad8e50>"
            ]
          },
          "metadata": {},
          "execution_count": 25
        }
      ],
      "source": [
        "query = \"\"\"\n",
        "CREATE TABLE\n",
        "    test.clustering_keys (\n",
        "        name TEXT,\n",
        "        category TEXT,\n",
        "        sub_category TEXT,\n",
        "        age INT,\n",
        "        PRIMARY KEY (name, category, sub_category)\n",
        "        )\n",
        ";\n",
        "\"\"\"\n",
        "session.execute(query)"
      ]
    },
    {
      "cell_type": "markdown",
      "id": "0b22ec41",
      "metadata": {
        "id": "0b22ec41"
      },
      "source": [
        "Insertamos algunos valores:"
      ]
    },
    {
      "cell_type": "code",
      "execution_count": 26,
      "id": "46cff839",
      "metadata": {
        "id": "46cff839",
        "colab": {
          "base_uri": "https://localhost:8080/"
        },
        "outputId": "bb0d62a4-e701-418c-b7ff-c4d2cd945662"
      },
      "outputs": [
        {
          "output_type": "execute_result",
          "data": {
            "text/plain": [
              "<cassandra.cluster.ResultSet at 0x7f835bafc8d0>"
            ]
          },
          "metadata": {},
          "execution_count": 26
        }
      ],
      "source": [
        "query = \"\"\"\n",
        "BEGIN BATCH\n",
        "    INSERT INTO\n",
        "        test.clustering_keys (\n",
        "            name, category, sub_category, age\n",
        "            )\n",
        "    VALUES\n",
        "        ('Pedro', 'A', 'casado', 50)\n",
        "    ;\n",
        "    INSERT INTO\n",
        "        test.clustering_keys (\n",
        "            name, category, sub_category, age\n",
        "            )\n",
        "    VALUES\n",
        "        ('Pedro', 'A', 'soltero', 49)\n",
        "    ;\n",
        "    INSERT INTO\n",
        "        test.clustering_keys (\n",
        "            name, category, sub_category, age\n",
        "            )\n",
        "    VALUES\n",
        "        ('Homero', 'B', 'casado', 45)\n",
        "    ;\n",
        "    INSERT INTO\n",
        "        test.clustering_keys (\n",
        "            name, category, sub_category, age\n",
        "            )\n",
        "    VALUES\n",
        "        ('Homero', 'B', 'soltero', 45)\n",
        "    ;\n",
        "APPLY BATCH;\n",
        "\"\"\"\n",
        "session.execute(query)"
      ]
    },
    {
      "cell_type": "markdown",
      "id": "525863b6",
      "metadata": {
        "id": "525863b6"
      },
      "source": [
        "Veamos filtros sobre columnas de agrupamiento:"
      ]
    },
    {
      "cell_type": "code",
      "execution_count": 27,
      "id": "3958ea03",
      "metadata": {
        "id": "3958ea03",
        "colab": {
          "base_uri": "https://localhost:8080/"
        },
        "outputId": "249b959f-5e32-48de-f085-ef5c1bd0a5f4"
      },
      "outputs": [
        {
          "output_type": "stream",
          "name": "stdout",
          "text": [
            "[Row(name='Pedro', category='A', sub_category='casado', age=50), Row(name='Pedro', category='A', sub_category='soltero', age=49)]\n"
          ]
        }
      ],
      "source": [
        "query = \"\"\"\n",
        "SELECT\n",
        "    *\n",
        "FROM\n",
        "    test.clustering_keys\n",
        "WHERE\n",
        "    name = 'Pedro'\n",
        ";\n",
        "\"\"\"\n",
        "try:\n",
        "    print(session.execute(query).all())\n",
        "except Exception as e:\n",
        "    print(e)"
      ]
    },
    {
      "cell_type": "code",
      "execution_count": 28,
      "id": "ea1afd93",
      "metadata": {
        "id": "ea1afd93",
        "colab": {
          "base_uri": "https://localhost:8080/"
        },
        "outputId": "03558c15-8b71-42f6-c534-b26f0f876dec"
      },
      "outputs": [
        {
          "output_type": "stream",
          "name": "stdout",
          "text": [
            "[Row(name='Pedro', category='A', sub_category='casado', age=50), Row(name='Pedro', category='A', sub_category='soltero', age=49)]\n"
          ]
        }
      ],
      "source": [
        "query = \"\"\"\n",
        "SELECT\n",
        "    *\n",
        "FROM\n",
        "    test.clustering_keys\n",
        "WHERE\n",
        "    name = 'Pedro' AND\n",
        "    category = 'A'\n",
        ";\n",
        "\"\"\"\n",
        "try:\n",
        "    print(session.execute(query).all())\n",
        "except Exception as e:\n",
        "    print(e)"
      ]
    },
    {
      "cell_type": "markdown",
      "id": "48f54195",
      "metadata": {
        "id": "48f54195"
      },
      "source": [
        "Como puede ver, las llaves de agrupamiento son opcionales, aunque son útiles para agrupar:"
      ]
    },
    {
      "cell_type": "code",
      "execution_count": 29,
      "id": "b24308bd",
      "metadata": {
        "id": "b24308bd",
        "colab": {
          "base_uri": "https://localhost:8080/"
        },
        "outputId": "844cac94-0052-4c3d-ed7d-597d84e7d52e"
      },
      "outputs": [
        {
          "output_type": "stream",
          "name": "stderr",
          "text": [
            "WARNING:cassandra.protocol:Server warning: Aggregation query used without partition key\n"
          ]
        },
        {
          "output_type": "stream",
          "name": "stdout",
          "text": [
            "[Row(category='B', age_avg=45), Row(category='A', age_avg=49)]\n"
          ]
        }
      ],
      "source": [
        "query = \"\"\"\n",
        "SELECT\n",
        "    category,\n",
        "    AVG(age) AS age_avg\n",
        "FROM\n",
        "    test.clustering_keys\n",
        "GROUP BY\n",
        "    name, category\n",
        ";\n",
        "\"\"\"\n",
        "try:\n",
        "    print(session.execute(query).all())\n",
        "except Exception as e:\n",
        "    print(e)"
      ]
    },
    {
      "cell_type": "markdown",
      "id": "05d9924d",
      "metadata": {
        "id": "05d9924d"
      },
      "source": [
        "## **4. Actualización**\n",
        "---\n",
        "\n",
        "Las operaciones de actualización son similares a las de `SQL`, por ejemplo para modificar columnas usamos comandos `ALTER`, por ejemplo:"
      ]
    },
    {
      "cell_type": "code",
      "execution_count": 30,
      "id": "dd3fb5ef",
      "metadata": {
        "id": "dd3fb5ef",
        "colab": {
          "base_uri": "https://localhost:8080/"
        },
        "outputId": "83c1b846-c977-4bff-c49c-90751616993c"
      },
      "outputs": [
        {
          "output_type": "execute_result",
          "data": {
            "text/plain": [
              "<cassandra.cluster.ResultSet at 0x7f835bafcad0>"
            ]
          },
          "metadata": {},
          "execution_count": 30
        }
      ],
      "source": [
        "query = \"\"\"\n",
        "ALTER TABLE\n",
        "    test.clustering_keys\n",
        "ADD\n",
        "    nueva_columna INT\n",
        ";\n",
        "\"\"\"\n",
        "session.execute(query)"
      ]
    },
    {
      "cell_type": "code",
      "execution_count": 31,
      "id": "392fd4b5",
      "metadata": {
        "id": "392fd4b5",
        "colab": {
          "base_uri": "https://localhost:8080/"
        },
        "outputId": "9d90afe9-665b-4399-f164-dcdd8c9072d6"
      },
      "outputs": [
        {
          "output_type": "execute_result",
          "data": {
            "text/plain": [
              "OrderedDict([('name', <cassandra.metadata.ColumnMetadata at 0x7f835bad5890>),\n",
              "             ('category',\n",
              "              <cassandra.metadata.ColumnMetadata at 0x7f835d005cd0>),\n",
              "             ('sub_category',\n",
              "              <cassandra.metadata.ColumnMetadata at 0x7f835db45d90>),\n",
              "             ('age', <cassandra.metadata.ColumnMetadata at 0x7f835d005110>),\n",
              "             ('nueva_columna',\n",
              "              <cassandra.metadata.ColumnMetadata at 0x7f835db459d0>)])"
            ]
          },
          "metadata": {},
          "execution_count": 31
        }
      ],
      "source": [
        "cluster.metadata.keyspaces[\"test\"].tables[\"clustering_keys\"].columns"
      ]
    },
    {
      "cell_type": "markdown",
      "id": "4a938179",
      "metadata": {
        "id": "4a938179"
      },
      "source": [
        "Para modificar valores podemos usar el comando `UPDATE` como en _SQL_, aunque es necesario especificar todas las llaves de partición y de agrupamiento para la operación:"
      ]
    },
    {
      "cell_type": "code",
      "execution_count": 32,
      "id": "86dbc3c0",
      "metadata": {
        "id": "86dbc3c0",
        "colab": {
          "base_uri": "https://localhost:8080/"
        },
        "outputId": "c3d63b1d-cb69-4e83-b235-033a6581b18a"
      },
      "outputs": [
        {
          "output_type": "execute_result",
          "data": {
            "text/plain": [
              "<cassandra.cluster.ResultSet at 0x7f835bac9d10>"
            ]
          },
          "metadata": {},
          "execution_count": 32
        }
      ],
      "source": [
        "query = \"\"\"\n",
        "UPDATE\n",
        "    test.clustering_keys\n",
        "SET\n",
        "    age = -1\n",
        "WHERE\n",
        "    name = 'Homero' AND category = 'B' and sub_category = 'soltero'\n",
        ";\n",
        "\"\"\"\n",
        "session.execute(query)"
      ]
    },
    {
      "cell_type": "markdown",
      "id": "796cf36f",
      "metadata": {
        "id": "796cf36f"
      },
      "source": [
        "Veamos cómo queda la tabla:"
      ]
    },
    {
      "cell_type": "code",
      "execution_count": 33,
      "id": "7c6b36af",
      "metadata": {
        "id": "7c6b36af",
        "colab": {
          "base_uri": "https://localhost:8080/"
        },
        "outputId": "84c13e69-83aa-402a-b5cb-ea2a24b0b952"
      },
      "outputs": [
        {
          "output_type": "execute_result",
          "data": {
            "text/plain": [
              "[Row(name='Homero', category='B', sub_category='casado', age=45, nueva_columna=None),\n",
              " Row(name='Homero', category='B', sub_category='soltero', age=-1, nueva_columna=None),\n",
              " Row(name='Pedro', category='A', sub_category='casado', age=50, nueva_columna=None),\n",
              " Row(name='Pedro', category='A', sub_category='soltero', age=49, nueva_columna=None)]"
            ]
          },
          "metadata": {},
          "execution_count": 33
        }
      ],
      "source": [
        "query = \"SELECT * FROM test.clustering_keys;\"\n",
        "session.execute(query).all()"
      ]
    },
    {
      "cell_type": "markdown",
      "id": "835f7bf6",
      "metadata": {
        "id": "835f7bf6"
      },
      "source": [
        "## **5. Borrado**\n",
        "---\n",
        "\n",
        "Para eliminar registros debemos usar la sintaxis `DELETE` como en _SQL_:"
      ]
    },
    {
      "cell_type": "code",
      "execution_count": 34,
      "id": "30fd8ad0",
      "metadata": {
        "id": "30fd8ad0",
        "colab": {
          "base_uri": "https://localhost:8080/"
        },
        "outputId": "df536b48-9e8e-44dc-bacc-9b05cdc4d201"
      },
      "outputs": [
        {
          "output_type": "execute_result",
          "data": {
            "text/plain": [
              "<cassandra.cluster.ResultSet at 0x7f835bacd8d0>"
            ]
          },
          "metadata": {},
          "execution_count": 34
        }
      ],
      "source": [
        "query = \"\"\"\n",
        "DELETE FROM\n",
        "    test.clustering_keys\n",
        "WHERE\n",
        "    name = 'Pedro' \n",
        ";\n",
        "\"\"\"\n",
        "session.execute(query)"
      ]
    },
    {
      "cell_type": "markdown",
      "id": "e9130bfa",
      "metadata": {
        "id": "e9130bfa"
      },
      "source": [
        "Veamos cómo queda la tabla:"
      ]
    },
    {
      "cell_type": "code",
      "execution_count": 35,
      "id": "4e8d632e",
      "metadata": {
        "id": "4e8d632e",
        "colab": {
          "base_uri": "https://localhost:8080/"
        },
        "outputId": "42da2baa-a06e-42ee-f79c-c8ac91d757ab"
      },
      "outputs": [
        {
          "output_type": "execute_result",
          "data": {
            "text/plain": [
              "[Row(name='Homero', category='B', sub_category='casado', age=45, nueva_columna=None),\n",
              " Row(name='Homero', category='B', sub_category='soltero', age=-1, nueva_columna=None)]"
            ]
          },
          "metadata": {},
          "execution_count": 35
        }
      ],
      "source": [
        "query = \"SELECT * FROM test.clustering_keys;\"\n",
        "session.execute(query).all()"
      ]
    },
    {
      "cell_type": "markdown",
      "id": "1e89f1e1",
      "metadata": {
        "id": "1e89f1e1"
      },
      "source": [
        "También podemos eliminar columnas, siempre y cuando no sean llaves de agrupamiento ni de partición."
      ]
    },
    {
      "cell_type": "code",
      "execution_count": 36,
      "id": "cd49e472",
      "metadata": {
        "id": "cd49e472",
        "colab": {
          "base_uri": "https://localhost:8080/"
        },
        "outputId": "57ced0e6-54c7-4ae6-ff5e-106564b0eed9"
      },
      "outputs": [
        {
          "output_type": "execute_result",
          "data": {
            "text/plain": [
              "<cassandra.cluster.ResultSet at 0x7f835bac7c50>"
            ]
          },
          "metadata": {},
          "execution_count": 36
        }
      ],
      "source": [
        "query = \"\"\"\n",
        "ALTER TABLE\n",
        "    test.clustering_keys\n",
        "DROP\n",
        "    age\n",
        ";\n",
        "\"\"\"\n",
        "session.execute(query)"
      ]
    },
    {
      "cell_type": "code",
      "execution_count": 37,
      "id": "a6e5f8a9",
      "metadata": {
        "id": "a6e5f8a9",
        "colab": {
          "base_uri": "https://localhost:8080/"
        },
        "outputId": "865a4bcc-dab5-4a90-e19e-73cb98c210d3"
      },
      "outputs": [
        {
          "output_type": "execute_result",
          "data": {
            "text/plain": [
              "OrderedDict([('name', <cassandra.metadata.ColumnMetadata at 0x7f835bafc050>),\n",
              "             ('category',\n",
              "              <cassandra.metadata.ColumnMetadata at 0x7f835bafc750>),\n",
              "             ('sub_category',\n",
              "              <cassandra.metadata.ColumnMetadata at 0x7f835bac8250>),\n",
              "             ('nueva_columna',\n",
              "              <cassandra.metadata.ColumnMetadata at 0x7f835bac8450>)])"
            ]
          },
          "metadata": {},
          "execution_count": 37
        }
      ],
      "source": [
        "cluster.metadata.keyspaces[\"test\"].tables[\"clustering_keys\"].columns"
      ]
    },
    {
      "cell_type": "markdown",
      "id": "56d16647",
      "metadata": {
        "id": "56d16647"
      },
      "source": [
        "Finalmente, para eliminar tablas, usamos el comando `DROP` como en _SQL_:"
      ]
    },
    {
      "cell_type": "code",
      "execution_count": 38,
      "id": "f19726d6",
      "metadata": {
        "id": "f19726d6",
        "colab": {
          "base_uri": "https://localhost:8080/"
        },
        "outputId": "f17f2737-b92c-4e76-a327-a77188e6ef64"
      },
      "outputs": [
        {
          "output_type": "execute_result",
          "data": {
            "text/plain": [
              "<cassandra.cluster.ResultSet at 0x7f835bad5f50>"
            ]
          },
          "metadata": {},
          "execution_count": 38
        }
      ],
      "source": [
        "query = \"\"\"\n",
        "DROP TABLE test.students;\n",
        "\"\"\"\n",
        "session.execute(query, timeout=None)"
      ]
    },
    {
      "cell_type": "code",
      "execution_count": 39,
      "id": "c640f1ce",
      "metadata": {
        "id": "c640f1ce",
        "colab": {
          "base_uri": "https://localhost:8080/"
        },
        "outputId": "d4e4137f-ced5-48ee-a520-7ccf88ea0d3e"
      },
      "outputs": [
        {
          "output_type": "execute_result",
          "data": {
            "text/plain": [
              "<cassandra.cluster.ResultSet at 0x7f835d7e00d0>"
            ]
          },
          "metadata": {},
          "execution_count": 39
        }
      ],
      "source": [
        "query = \"\"\"\n",
        "DROP TABLE test.students2;\n",
        "\"\"\"\n",
        "session.execute(query, timeout=None)"
      ]
    },
    {
      "cell_type": "code",
      "execution_count": 40,
      "id": "6633efda",
      "metadata": {
        "id": "6633efda",
        "colab": {
          "base_uri": "https://localhost:8080/"
        },
        "outputId": "df6515a3-d760-40b7-847f-028562e82d34"
      },
      "outputs": [
        {
          "output_type": "execute_result",
          "data": {
            "text/plain": [
              "<cassandra.cluster.ResultSet at 0x7f835e0607d0>"
            ]
          },
          "metadata": {},
          "execution_count": 40
        }
      ],
      "source": [
        "query = \"\"\"\n",
        "DROP TABLE test.only_partition;\n",
        "\"\"\"\n",
        "session.execute(query, timeout=None)"
      ]
    },
    {
      "cell_type": "code",
      "execution_count": 41,
      "id": "9047024a",
      "metadata": {
        "id": "9047024a",
        "colab": {
          "base_uri": "https://localhost:8080/"
        },
        "outputId": "97766e7c-c1da-491f-bbb6-d1d2f88b5dfb"
      },
      "outputs": [
        {
          "output_type": "execute_result",
          "data": {
            "text/plain": [
              "<cassandra.cluster.ResultSet at 0x7f835bad6c90>"
            ]
          },
          "metadata": {},
          "execution_count": 41
        }
      ],
      "source": [
        "query = \"\"\"\n",
        "DROP TABLE test.multiple_keys;\n",
        "\"\"\"\n",
        "session.execute(query, timeout=None)"
      ]
    },
    {
      "cell_type": "code",
      "execution_count": 42,
      "id": "af9dc4d3",
      "metadata": {
        "id": "af9dc4d3",
        "colab": {
          "base_uri": "https://localhost:8080/"
        },
        "outputId": "7816a985-12ee-4a4c-e655-5465ab461baf"
      },
      "outputs": [
        {
          "output_type": "execute_result",
          "data": {
            "text/plain": [
              "<cassandra.cluster.ResultSet at 0x7f83630f79d0>"
            ]
          },
          "metadata": {},
          "execution_count": 42
        }
      ],
      "source": [
        "query = \"\"\"\n",
        "DROP TABLE test.clustering_keys;\n",
        "\"\"\"\n",
        "session.execute(query, timeout=None)"
      ]
    },
    {
      "cell_type": "markdown",
      "id": "d0d26dbd",
      "metadata": {
        "id": "d0d26dbd"
      },
      "source": [
        "## **6. Recursos Adicionales**\n",
        "---\n",
        "\n",
        "* [Apache Cassandra](https://cassandra.apache.org/_/index.html).\n",
        "* [CQL reference](https://docs.datastax.com/en/cql-oss/3.3/cql/cql_reference/cqlReferenceTOC.html)\n",
        "* [Begginers guide to learn cassandra](https://medium.com/@aymannaitcherif/beginners-guide-to-learn-cassandra-part-2-4e8511a4838f)"
      ]
    },
    {
      "cell_type": "markdown",
      "id": "af6ef9ab",
      "metadata": {
        "id": "af6ef9ab"
      },
      "source": [
        "## **7. Créditos**\n",
        "---\n",
        "\n",
        "**Profesor**\n",
        "\n",
        "- [Jorge E. Camargo, PhD](https://dis.unal.edu.co/~jecamargom/)\n",
        "\n",
        "**Diseño, desarrollo del notebook y material audiovisual**\n",
        "\n",
        "- [Juan S. Lara MSc](https://www.linkedin.com/in/juan-sebastian-lara-ramirez-43570a214/)\n",
        "\n",
        "**Universidad Nacional de Colombia** - *Facultad de Ingeniería*"
      ]
    }
  ],
  "metadata": {
    "jupytext": {
      "cell_metadata_filter": "-all",
      "main_language": "python",
      "notebook_metadata_filter": "-all"
    },
    "colab": {
      "provenance": []
    },
    "language_info": {
      "name": "python"
    },
    "kernelspec": {
      "name": "python3",
      "display_name": "Python 3"
    },
    "gpuClass": "standard"
  },
  "nbformat": 4,
  "nbformat_minor": 5
}