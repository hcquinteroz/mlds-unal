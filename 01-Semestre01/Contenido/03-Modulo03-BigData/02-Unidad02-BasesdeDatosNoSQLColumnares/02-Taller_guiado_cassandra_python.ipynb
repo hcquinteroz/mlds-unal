{
  "cells": [
    {
      "cell_type": "markdown",
      "id": "1a2b820e",
      "metadata": {
        "id": "1a2b820e"
      },
      "source": [
        "<img src=\"https://drive.google.com/uc?export=view&id=10rLzZzH5ctQ4bPRDZTbZk5tQMc9sDO0W\" width=\"100%\"></img>"
      ]
    },
    {
      "cell_type": "markdown",
      "id": "3893fd9b",
      "metadata": {
        "id": "3893fd9b"
      },
      "source": [
        "# **Cassandra y Python**\n",
        "---\n",
        "\n",
        "En este notebook mostraremos cómo realizar una conexión a una base de datos en _Cassandra_ desde _Python_"
      ]
    },
    {
      "cell_type": "markdown",
      "id": "0ffe7b46",
      "metadata": {
        "id": "0ffe7b46"
      },
      "source": [
        "## **1. ¿Qué es Cassandra?**\n",
        "---\n",
        "\n",
        "<img src=\"https://drive.google.com/uc?export=view&id=18UJ2ETGf0hZRvJnjpICVOR0fc6HUysR-\" width=\"50%\"></img>\n",
        "\n",
        "* Es una base de datos columnar NoSQL distribuida y basada en modelos de almacenamiento tabulares.\n",
        "* Fue escrita en _Java_ lo cual permite el manejo de grandes cantidades de datos de forma segura.\n",
        "* Fue desarrollada en _Facebook_ y lanzada en el 2008, aunque en el 2009 se volvió proyecto de código abierto de tipo Apache."
      ]
    },
    {
      "cell_type": "markdown",
      "id": "02e1a6bd",
      "metadata": {
        "id": "02e1a6bd"
      },
      "source": [
        "## **2. Creación de la Base de Datos**\n",
        "---\n",
        "\n",
        "Para esta práctica debe crear una cuenta gratuita en [Astra](https://astra.datastax.com/register), puede registrarse con una cuenta de _gmail_, o una cuenta de _GitHub_ o usando su correo personal.\n",
        "\n",
        "Una vez creada la cuenta debe ingresar la siguiente información sobre el uso de astra:\n",
        "\n",
        "<img src=\"https://drive.google.com/uc?export=view&id=1ALOEVX75BSa6QHWesv2uL2WSMOn5RGvS\" width=\"50%\">\n",
        "\n",
        "Con esto, llegará al panel de control general de Astra donde deberá crear una base de datos:\n",
        "\n",
        "<img src=\"https://drive.google.com/uc?export=view&id=1hu-GqGgR1ql4OME7zi7yzcrri83WVdil\" width=\"80%\">\n",
        "\n",
        "Debe poner las siguientes configuraciones en la creación de la base de datos:\n",
        "\n",
        "* **Database name**: `mlds3`\n",
        "* **Keyspace name**: `test`\n",
        "* **Provider and region**: puede usar cualquiera de las disponibles, se recomienda usar los valores de la siguiente imagen.\n",
        "\n",
        "<img src=\"https://drive.google.com/uc?export=view&id=1ZwlHhc2LhxaeM_jXuTUfdrnoJZ-zdfn1\" width=\"80%\">\n",
        "\n",
        "Luego de crear la base de datos, Astra le proveerá un token con la configuración por defecto, no es necesario que lo descargue, pues más adelante configuraremos más permisos para el acceso a la base de datos. Es decir, puede dar click en **Go to database**.\n",
        "\n",
        "Ahora, vamos a crear el token de acceso para poder acceder a la base de datos, para ello debe irse a la configuración de organizaciones:\n",
        "\n",
        "<img src=\"https://drive.google.com/uc?export=view&id=1rE6-1WHVguK2VWbKrVPgxFaADeTts4xX\" width=\"50%\">\n",
        "\n",
        "Debe irse a la pestaña de administración de tokens donde puede seleccionar distintos tipos de permisos sobre la base de datos. Se recomienda usar el rol autogenerado por astra para los ejercicios de esta unidad como se indica en la siguiente figura. Entre los permisos de este rol encuentra los permisos de creación, lectura, escritura y borrado de tablas que necesitaremos para los ejercicios sobre _Cassandra_.\n",
        "\n",
        "<img src=\"https://drive.google.com/uc?export=view&id=1Y3N-yTqJthw6YpIY54-d2iVwF6ahFkIl\" width=\"60%\">\n",
        "\n",
        "Con esto, deberá tener el token que usaremos más adelante para conectarnos a la base de datos, deberá descargar el archivo csv para luego crear la conexión, cambie el nombre de este archivo a `token.csv`.\n",
        "\n",
        "<img src=\"https://drive.google.com/uc?export=view&id=19HqbTAqDZdbIvc_9NbWWNVzcUy65le8r\" width=\"60%\">\n",
        "\n",
        "Finalmente, necesitamos un archivo con información del servidor de la base de datos. Para ello, debe volver al inicio de [astra](https://astra.datastax.com/) y hacer click sobre la base de datos que ya tenemos creada:\n",
        "\n",
        "<img src=\"https://drive.google.com/uc?export=view&id=1SbZJaO8lhbgPy-f7RtvUPrzmVOMRc1Lm\" width=\"30%\">\n",
        "\n",
        "Ahora, debe hacer click sobre el botón **Connect**:\n",
        "\n",
        "<img src=\"https://drive.google.com/uc?export=view&id=1qaV94B4BP-ffCum5w-gQMNfMPGNJAiII\" width=\"100%\">\n",
        "\n",
        "Debe seleccionar el tipo de conexión por **driver** de tipo **legacy** con el lenguaje de programación _Python_. Esto le permitirá descargar un archivo en formato zip para la conexión con la base de datos:\n",
        "\n",
        "<img src=\"https://drive.google.com/uc?export=view&id=1BEJ9mbaw7-jyMO0cFbKeNstktQHQHAhO\" width=\"100%\">\n",
        "\n",
        "Debe cambiar el nombre del archivo a `bundle.zip`.\n",
        "\n",
        "Por último debe subir los archivos `token.csv` y `bundle.zip` a google colaboratory o dejarlos en el espacio de trabajo donde está corriendo el notebook."
      ]
    },
    {
      "cell_type": "markdown",
      "id": "37ff5d5a",
      "metadata": {
        "id": "37ff5d5a"
      },
      "source": [
        "## **3. Conexión a la Base de Datos**\n",
        "---\n",
        "\n",
        "La conexión a la base de datos se da por medio de la librería `cassandra-driver`, la puede instalar con el siguiente comando:"
      ]
    },
    {
      "cell_type": "code",
      "execution_count": 1,
      "id": "21189b0c",
      "metadata": {
        "id": "21189b0c",
        "colab": {
          "base_uri": "https://localhost:8080/"
        },
        "outputId": "fae0b712-b4dd-4e50-d908-5f07626ded44"
      },
      "outputs": [
        {
          "output_type": "stream",
          "name": "stdout",
          "text": [
            "Looking in indexes: https://pypi.org/simple, https://us-python.pkg.dev/colab-wheels/public/simple/\n",
            "Collecting cassandra-driver\n",
            "  Downloading cassandra_driver-3.25.0-cp37-cp37m-manylinux1_x86_64.whl (3.8 MB)\n",
            "\u001b[K     |████████████████████████████████| 3.8 MB 5.2 MB/s \n",
            "\u001b[?25hCollecting geomet<0.3,>=0.1\n",
            "  Downloading geomet-0.2.1.post1-py3-none-any.whl (18 kB)\n",
            "Requirement already satisfied: six>=1.9 in /usr/local/lib/python3.7/dist-packages (from cassandra-driver) (1.15.0)\n",
            "Requirement already satisfied: click in /usr/local/lib/python3.7/dist-packages (from geomet<0.3,>=0.1->cassandra-driver) (7.1.2)\n",
            "Installing collected packages: geomet, cassandra-driver\n",
            "Successfully installed cassandra-driver-3.25.0 geomet-0.2.1.post1\n"
          ]
        }
      ],
      "source": [
        "!pip install cassandra-driver"
      ]
    },
    {
      "cell_type": "code",
      "source": [
        "!python -c 'import cassandra; print (cassandra.__version__)'"
      ],
      "metadata": {
        "colab": {
          "base_uri": "https://localhost:8080/"
        },
        "id": "wCeCJX4aBeAL",
        "outputId": "7d81cf81-8d86-452e-e301-a1bccb4ec4cf"
      },
      "id": "wCeCJX4aBeAL",
      "execution_count": 2,
      "outputs": [
        {
          "output_type": "stream",
          "name": "stdout",
          "text": [
            "3.25.0\n"
          ]
        }
      ]
    },
    {
      "cell_type": "markdown",
      "id": "20a15f6c",
      "metadata": {
        "id": "20a15f6c"
      },
      "source": [
        "Finalmente, importamos las librerías necesarias para la conexión:"
      ]
    },
    {
      "cell_type": "code",
      "execution_count": 3,
      "id": "188a5069",
      "metadata": {
        "id": "188a5069"
      },
      "outputs": [],
      "source": [
        "from cassandra.cluster import Cluster\n",
        "from cassandra.auth import PlainTextAuthProvider\n",
        "import pandas as pd"
      ]
    },
    {
      "cell_type": "markdown",
      "id": "8c3729e5",
      "metadata": {
        "id": "8c3729e5"
      },
      "source": [
        "Para conectarse debe descargar el *bundle* y el token de acceso en formato `csv` que obtuvo al momento de crear la base de datos. Estos archivos los debe subir a google colaboratory.\n",
        "\n",
        "Veamos cómo crear la conexión:\n",
        "\n",
        "> **Nota**: debe cambiar el nombre del bundle (formato zip) y del token (formato csv) al nombre que tengan estos archivos en su base de datos."
      ]
    },
    {
      "cell_type": "code",
      "execution_count": 4,
      "id": "6267113b",
      "metadata": {
        "id": "6267113b"
      },
      "outputs": [],
      "source": [
        "cloud_config= {\n",
        "        \"secure_connect_bundle\": \"bundle.zip\" # nombre de su archivo de bundle\n",
        "}\n",
        "\n",
        "token = pd.read_csv(\"token.csv\")"
      ]
    },
    {
      "cell_type": "markdown",
      "id": "c5493a1e",
      "metadata": {
        "id": "c5493a1e"
      },
      "source": [
        "Ahora, vamos a crear los objetos de conexión y autenticación, creamos los siguientes tres objetos:\n",
        "\n",
        "* `auth_provider`: objeto de autenticación creado con las credenciales de acceso a [astra](https://astra.datastax.com/).\n",
        "* `cluster`: objeto de identificación del servidor (cluster) maestro de la base de datos.\n",
        "* `session`: sesión de conexión sobre la que se ejecutarán los distintos comandos (es equivalente al objeto cursor en bases SQL).\n",
        "\n",
        "> **Nota**: las bases de datos gratuitas en [astra](https://astra.datastax.com/) se pausan luego de 48h sin uso, debe revisar desde el panel de control de astra que se encuentre activa o en caso contrario resumirla."
      ]
    },
    {
      "cell_type": "code",
      "execution_count": 5,
      "id": "69ce097c",
      "metadata": {
        "id": "69ce097c",
        "colab": {
          "base_uri": "https://localhost:8080/"
        },
        "outputId": "5fe4d813-7948-40cc-8b1a-f880173f4ef8"
      },
      "outputs": [
        {
          "output_type": "stream",
          "name": "stderr",
          "text": [
            "WARNING:cassandra.cluster:Downgrading core protocol version from 66 to 65 for 789432d4-2a70-4a5b-842a-0a7bed508af1-us-east1.db.astra.datastax.com:29042:4e3f943d-8c53-46c6-801e-6dabca21a2e0. To avoid this, it is best practice to explicitly set Cluster(protocol_version) to the version supported by your cluster. http://datastax.github.io/python-driver/api/cassandra/cluster.html#cassandra.cluster.Cluster.protocol_version\n",
            "WARNING:cassandra.cluster:Downgrading core protocol version from 65 to 5 for 789432d4-2a70-4a5b-842a-0a7bed508af1-us-east1.db.astra.datastax.com:29042:4e3f943d-8c53-46c6-801e-6dabca21a2e0. To avoid this, it is best practice to explicitly set Cluster(protocol_version) to the version supported by your cluster. http://datastax.github.io/python-driver/api/cassandra/cluster.html#cassandra.cluster.Cluster.protocol_version\n",
            "ERROR:cassandra.connection:Closing connection <LibevConnection(139933188226512) 789432d4-2a70-4a5b-842a-0a7bed508af1-us-east1.db.astra.datastax.com:29042:4e3f943d-8c53-46c6-801e-6dabca21a2e0> due to protocol error: Error from server: code=000a [Protocol error] message=\"Beta version of the protocol used (5/v5-beta), but USE_BETA flag is unset\"\n",
            "WARNING:cassandra.cluster:Downgrading core protocol version from 5 to 4 for 789432d4-2a70-4a5b-842a-0a7bed508af1-us-east1.db.astra.datastax.com:29042:4e3f943d-8c53-46c6-801e-6dabca21a2e0. To avoid this, it is best practice to explicitly set Cluster(protocol_version) to the version supported by your cluster. http://datastax.github.io/python-driver/api/cassandra/cluster.html#cassandra.cluster.Cluster.protocol_version\n"
          ]
        }
      ],
      "source": [
        "auth_provider = PlainTextAuthProvider(\n",
        "        token[\"Client Id\"].iloc[0],\n",
        "        token[\"Client Secret\"].iloc[0]\n",
        "        )\n",
        "cluster = Cluster(\n",
        "        cloud=cloud_config,\n",
        "        auth_provider=auth_provider\n",
        "        )\n",
        "session = cluster.connect()"
      ]
    },
    {
      "cell_type": "markdown",
      "id": "fcad3242",
      "metadata": {
        "id": "fcad3242"
      },
      "source": [
        "## **4. Ejecución de la Consulta**\n",
        "---\n",
        "\n",
        "Veamos cómo ejecutar un comando en la base de datos:"
      ]
    },
    {
      "cell_type": "code",
      "execution_count": 6,
      "id": "fd59bdf5",
      "metadata": {
        "id": "fd59bdf5",
        "colab": {
          "base_uri": "https://localhost:8080/"
        },
        "outputId": "752a98d1-8d58-481b-f329-30c9a3122ad8"
      },
      "outputs": [
        {
          "output_type": "stream",
          "name": "stdout",
          "text": [
            "4.0.0.6816\n"
          ]
        }
      ],
      "source": [
        "query = \"\"\"\n",
        "SELECT\n",
        "    release_version\n",
        "FROM\n",
        "    system.local\n",
        ";\n",
        "\"\"\"\n",
        "row = session.execute(query).one()\n",
        "print(row[0])"
      ]
    },
    {
      "cell_type": "markdown",
      "id": "34c24ebb",
      "metadata": {
        "id": "34c24ebb"
      },
      "source": [
        "Este resultado muestra la versión del servidor de Cassandra. Debe obtener un número parecido (no necesariamente igual) al siguiente:\n",
        "\n",
        "```\n",
        "4.0.0.6816\n",
        "```"
      ]
    },
    {
      "cell_type": "markdown",
      "id": "fec26d1a",
      "metadata": {
        "id": "fec26d1a"
      },
      "source": [
        "## **5. Recursos Adicionales**\n",
        "---\n",
        "\n",
        "* [AstraDB DataStax](https://www.datastax.com/products/datastax-astra).\n",
        "* [Python driver for Apache Cassandra](https://docs.datastax.com/en/developer/python-driver/3.25/)."
      ]
    },
    {
      "cell_type": "markdown",
      "id": "81e5f55c",
      "metadata": {
        "id": "81e5f55c"
      },
      "source": [
        "## **6. Créditos**\n",
        "---\n",
        "\n",
        "**Profesor**\n",
        "\n",
        "- [Jorge E. Camargo, PhD](https://dis.unal.edu.co/~jecamargom/)\n",
        "\n",
        "**Diseño, desarrollo del notebook y material audiovisual**\n",
        "\n",
        "- [Juan S. Lara MSc](https://www.linkedin.com/in/juan-sebastian-lara-ramirez-43570a214/)\n",
        "\n",
        "**Universidad Nacional de Colombia** - *Facultad de Ingeniería*"
      ]
    }
  ],
  "metadata": {
    "jupytext": {
      "cell_metadata_filter": "-all",
      "main_language": "python",
      "notebook_metadata_filter": "-all"
    },
    "colab": {
      "provenance": []
    },
    "language_info": {
      "name": "python"
    },
    "kernelspec": {
      "name": "python3",
      "display_name": "Python 3"
    },
    "gpuClass": "standard"
  },
  "nbformat": 4,
  "nbformat_minor": 5
}