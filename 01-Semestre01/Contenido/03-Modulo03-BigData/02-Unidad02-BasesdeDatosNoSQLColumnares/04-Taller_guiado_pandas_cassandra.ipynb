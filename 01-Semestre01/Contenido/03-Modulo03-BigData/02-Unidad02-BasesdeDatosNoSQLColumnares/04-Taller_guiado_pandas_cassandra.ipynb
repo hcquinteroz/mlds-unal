{
  "cells": [
    {
      "cell_type": "markdown",
      "id": "6b6f9393",
      "metadata": {
        "id": "6b6f9393"
      },
      "source": [
        "<img src=\"https://drive.google.com/uc?export=view&id=10rLzZzH5ctQ4bPRDZTbZk5tQMc9sDO0W\" width=\"100%\"></img>"
      ]
    },
    {
      "cell_type": "markdown",
      "id": "980627f6",
      "metadata": {
        "id": "980627f6"
      },
      "source": [
        "# Cassandra y Pandas\n",
        "---\n",
        "\n",
        "En este notebook mostraremos cómo leer y escribir datos en _Cassandra_ desde `pandas`.\n",
        "\n",
        "Primero instalaremos e importaremos las librerías Necesarias:"
      ]
    },
    {
      "cell_type": "code",
      "execution_count": 1,
      "id": "dd25a45f",
      "metadata": {
        "id": "dd25a45f",
        "colab": {
          "base_uri": "https://localhost:8080/"
        },
        "outputId": "c69927bb-9aa1-43e1-82dd-8f26f5a504ac"
      },
      "outputs": [
        {
          "output_type": "stream",
          "name": "stdout",
          "text": [
            "Looking in indexes: https://pypi.org/simple, https://us-python.pkg.dev/colab-wheels/public/simple/\n",
            "Collecting cassandra-driver\n",
            "  Downloading cassandra_driver-3.25.0-cp37-cp37m-manylinux1_x86_64.whl (3.8 MB)\n",
            "\u001b[K     |████████████████████████████████| 3.8 MB 3.9 MB/s \n",
            "\u001b[?25hRequirement already satisfied: six>=1.9 in /usr/local/lib/python3.7/dist-packages (from cassandra-driver) (1.15.0)\n",
            "Collecting geomet<0.3,>=0.1\n",
            "  Downloading geomet-0.2.1.post1-py3-none-any.whl (18 kB)\n",
            "Requirement already satisfied: click in /usr/local/lib/python3.7/dist-packages (from geomet<0.3,>=0.1->cassandra-driver) (7.1.2)\n",
            "Installing collected packages: geomet, cassandra-driver\n",
            "Successfully installed cassandra-driver-3.25.0 geomet-0.2.1.post1\n"
          ]
        }
      ],
      "source": [
        "!pip install cassandra-driver"
      ]
    },
    {
      "cell_type": "code",
      "execution_count": 2,
      "id": "feb11576",
      "metadata": {
        "id": "feb11576"
      },
      "outputs": [],
      "source": [
        "import pandas as pd\n",
        "import numpy as np\n",
        "from cassandra.cluster import Cluster\n",
        "from cassandra.auth import PlainTextAuthProvider"
      ]
    },
    {
      "cell_type": "markdown",
      "id": "097df4d8",
      "metadata": {
        "id": "097df4d8"
      },
      "source": [
        "Ahora, realizaremos la conexión a la base de datos de [astra](https://astra.datastax.com/) tal y cómo se mostró en el notebook `1_cassandra_python.ipynb`:\n",
        "\n",
        "> **Nota**: recuerde subir los archivos `bundle.zip` y `token.csv`."
      ]
    },
    {
      "cell_type": "code",
      "execution_count": 3,
      "id": "c01c110b",
      "metadata": {
        "id": "c01c110b"
      },
      "outputs": [],
      "source": [
        "cloud_config= {\n",
        "        \"secure_connect_bundle\": \"bundle.zip\" # nombre de su archivo de bundle\n",
        "}\n",
        "token = pd.read_csv(\"token.csv\")"
      ]
    },
    {
      "cell_type": "code",
      "execution_count": 4,
      "id": "d0cbe24d",
      "metadata": {
        "id": "d0cbe24d",
        "colab": {
          "base_uri": "https://localhost:8080/"
        },
        "outputId": "f1c3cd4b-d28a-43a2-f2a2-d2f9b4247085"
      },
      "outputs": [
        {
          "output_type": "stream",
          "name": "stderr",
          "text": [
            "WARNING:cassandra.cluster:Downgrading core protocol version from 66 to 65 for 789432d4-2a70-4a5b-842a-0a7bed508af1-us-east1.db.astra.datastax.com:29042:475c4b73-d944-4e5c-8824-4adff0141231. To avoid this, it is best practice to explicitly set Cluster(protocol_version) to the version supported by your cluster. http://datastax.github.io/python-driver/api/cassandra/cluster.html#cassandra.cluster.Cluster.protocol_version\n",
            "WARNING:cassandra.cluster:Downgrading core protocol version from 65 to 5 for 789432d4-2a70-4a5b-842a-0a7bed508af1-us-east1.db.astra.datastax.com:29042:475c4b73-d944-4e5c-8824-4adff0141231. To avoid this, it is best practice to explicitly set Cluster(protocol_version) to the version supported by your cluster. http://datastax.github.io/python-driver/api/cassandra/cluster.html#cassandra.cluster.Cluster.protocol_version\n",
            "ERROR:cassandra.connection:Closing connection <LibevConnection(140297155448336) 789432d4-2a70-4a5b-842a-0a7bed508af1-us-east1.db.astra.datastax.com:29042:475c4b73-d944-4e5c-8824-4adff0141231> due to protocol error: Error from server: code=000a [Protocol error] message=\"Beta version of the protocol used (5/v5-beta), but USE_BETA flag is unset\"\n",
            "WARNING:cassandra.cluster:Downgrading core protocol version from 5 to 4 for 789432d4-2a70-4a5b-842a-0a7bed508af1-us-east1.db.astra.datastax.com:29042:475c4b73-d944-4e5c-8824-4adff0141231. To avoid this, it is best practice to explicitly set Cluster(protocol_version) to the version supported by your cluster. http://datastax.github.io/python-driver/api/cassandra/cluster.html#cassandra.cluster.Cluster.protocol_version\n"
          ]
        }
      ],
      "source": [
        "auth_provider = PlainTextAuthProvider(\n",
        "        token[\"Client Id\"].iloc[0],\n",
        "        token[\"Client Secret\"].iloc[0]\n",
        "        )\n",
        "cluster = Cluster(\n",
        "        cloud=cloud_config,\n",
        "        auth_provider=auth_provider\n",
        "        )\n",
        "session = cluster.connect()"
      ]
    },
    {
      "cell_type": "markdown",
      "id": "a82b32a2",
      "metadata": {
        "id": "a82b32a2"
      },
      "source": [
        "## **1. Escritura**\n",
        "---\n",
        "\n",
        "Primero, vamos a crear un conjunto de datos sintético en `pandas`"
      ]
    },
    {
      "cell_type": "code",
      "execution_count": 5,
      "id": "a6fda025",
      "metadata": {
        "id": "a6fda025"
      },
      "outputs": [],
      "source": [
        "df = pd.DataFrame(\n",
        "        data=np.random.uniform(size=(500, 4)),\n",
        "        columns=[f\"columna{i}\" for i in range(1, 5)]\n",
        "        ).reset_index().rename(columns={\"index\": \"id\"})"
      ]
    },
    {
      "cell_type": "code",
      "execution_count": 6,
      "id": "ec89615e",
      "metadata": {
        "id": "ec89615e",
        "colab": {
          "base_uri": "https://localhost:8080/",
          "height": 206
        },
        "outputId": "d43b29c3-c5c5-420e-8c99-1877f68c9404"
      },
      "outputs": [
        {
          "output_type": "execute_result",
          "data": {
            "text/plain": [
              "   id  columna1  columna2  columna3  columna4\n",
              "0   0  0.547520  0.748064  0.611651  0.718892\n",
              "1   1  0.388229  0.919191  0.911576  0.266947\n",
              "2   2  0.933285  0.704215  0.326310  0.899866\n",
              "3   3  0.962829  0.692830  0.384948  0.912019\n",
              "4   4  0.643189  0.112101  0.553849  0.789617"
            ],
            "text/html": [
              "\n",
              "  <div id=\"df-3a029c7c-8db4-417e-b35f-b3f4a36efe61\">\n",
              "    <div class=\"colab-df-container\">\n",
              "      <div>\n",
              "<style scoped>\n",
              "    .dataframe tbody tr th:only-of-type {\n",
              "        vertical-align: middle;\n",
              "    }\n",
              "\n",
              "    .dataframe tbody tr th {\n",
              "        vertical-align: top;\n",
              "    }\n",
              "\n",
              "    .dataframe thead th {\n",
              "        text-align: right;\n",
              "    }\n",
              "</style>\n",
              "<table border=\"1\" class=\"dataframe\">\n",
              "  <thead>\n",
              "    <tr style=\"text-align: right;\">\n",
              "      <th></th>\n",
              "      <th>id</th>\n",
              "      <th>columna1</th>\n",
              "      <th>columna2</th>\n",
              "      <th>columna3</th>\n",
              "      <th>columna4</th>\n",
              "    </tr>\n",
              "  </thead>\n",
              "  <tbody>\n",
              "    <tr>\n",
              "      <th>0</th>\n",
              "      <td>0</td>\n",
              "      <td>0.547520</td>\n",
              "      <td>0.748064</td>\n",
              "      <td>0.611651</td>\n",
              "      <td>0.718892</td>\n",
              "    </tr>\n",
              "    <tr>\n",
              "      <th>1</th>\n",
              "      <td>1</td>\n",
              "      <td>0.388229</td>\n",
              "      <td>0.919191</td>\n",
              "      <td>0.911576</td>\n",
              "      <td>0.266947</td>\n",
              "    </tr>\n",
              "    <tr>\n",
              "      <th>2</th>\n",
              "      <td>2</td>\n",
              "      <td>0.933285</td>\n",
              "      <td>0.704215</td>\n",
              "      <td>0.326310</td>\n",
              "      <td>0.899866</td>\n",
              "    </tr>\n",
              "    <tr>\n",
              "      <th>3</th>\n",
              "      <td>3</td>\n",
              "      <td>0.962829</td>\n",
              "      <td>0.692830</td>\n",
              "      <td>0.384948</td>\n",
              "      <td>0.912019</td>\n",
              "    </tr>\n",
              "    <tr>\n",
              "      <th>4</th>\n",
              "      <td>4</td>\n",
              "      <td>0.643189</td>\n",
              "      <td>0.112101</td>\n",
              "      <td>0.553849</td>\n",
              "      <td>0.789617</td>\n",
              "    </tr>\n",
              "  </tbody>\n",
              "</table>\n",
              "</div>\n",
              "      <button class=\"colab-df-convert\" onclick=\"convertToInteractive('df-3a029c7c-8db4-417e-b35f-b3f4a36efe61')\"\n",
              "              title=\"Convert this dataframe to an interactive table.\"\n",
              "              style=\"display:none;\">\n",
              "        \n",
              "  <svg xmlns=\"http://www.w3.org/2000/svg\" height=\"24px\"viewBox=\"0 0 24 24\"\n",
              "       width=\"24px\">\n",
              "    <path d=\"M0 0h24v24H0V0z\" fill=\"none\"/>\n",
              "    <path d=\"M18.56 5.44l.94 2.06.94-2.06 2.06-.94-2.06-.94-.94-2.06-.94 2.06-2.06.94zm-11 1L8.5 8.5l.94-2.06 2.06-.94-2.06-.94L8.5 2.5l-.94 2.06-2.06.94zm10 10l.94 2.06.94-2.06 2.06-.94-2.06-.94-.94-2.06-.94 2.06-2.06.94z\"/><path d=\"M17.41 7.96l-1.37-1.37c-.4-.4-.92-.59-1.43-.59-.52 0-1.04.2-1.43.59L10.3 9.45l-7.72 7.72c-.78.78-.78 2.05 0 2.83L4 21.41c.39.39.9.59 1.41.59.51 0 1.02-.2 1.41-.59l7.78-7.78 2.81-2.81c.8-.78.8-2.07 0-2.86zM5.41 20L4 18.59l7.72-7.72 1.47 1.35L5.41 20z\"/>\n",
              "  </svg>\n",
              "      </button>\n",
              "      \n",
              "  <style>\n",
              "    .colab-df-container {\n",
              "      display:flex;\n",
              "      flex-wrap:wrap;\n",
              "      gap: 12px;\n",
              "    }\n",
              "\n",
              "    .colab-df-convert {\n",
              "      background-color: #E8F0FE;\n",
              "      border: none;\n",
              "      border-radius: 50%;\n",
              "      cursor: pointer;\n",
              "      display: none;\n",
              "      fill: #1967D2;\n",
              "      height: 32px;\n",
              "      padding: 0 0 0 0;\n",
              "      width: 32px;\n",
              "    }\n",
              "\n",
              "    .colab-df-convert:hover {\n",
              "      background-color: #E2EBFA;\n",
              "      box-shadow: 0px 1px 2px rgba(60, 64, 67, 0.3), 0px 1px 3px 1px rgba(60, 64, 67, 0.15);\n",
              "      fill: #174EA6;\n",
              "    }\n",
              "\n",
              "    [theme=dark] .colab-df-convert {\n",
              "      background-color: #3B4455;\n",
              "      fill: #D2E3FC;\n",
              "    }\n",
              "\n",
              "    [theme=dark] .colab-df-convert:hover {\n",
              "      background-color: #434B5C;\n",
              "      box-shadow: 0px 1px 3px 1px rgba(0, 0, 0, 0.15);\n",
              "      filter: drop-shadow(0px 1px 2px rgba(0, 0, 0, 0.3));\n",
              "      fill: #FFFFFF;\n",
              "    }\n",
              "  </style>\n",
              "\n",
              "      <script>\n",
              "        const buttonEl =\n",
              "          document.querySelector('#df-3a029c7c-8db4-417e-b35f-b3f4a36efe61 button.colab-df-convert');\n",
              "        buttonEl.style.display =\n",
              "          google.colab.kernel.accessAllowed ? 'block' : 'none';\n",
              "\n",
              "        async function convertToInteractive(key) {\n",
              "          const element = document.querySelector('#df-3a029c7c-8db4-417e-b35f-b3f4a36efe61');\n",
              "          const dataTable =\n",
              "            await google.colab.kernel.invokeFunction('convertToInteractive',\n",
              "                                                     [key], {});\n",
              "          if (!dataTable) return;\n",
              "\n",
              "          const docLinkHtml = 'Like what you see? Visit the ' +\n",
              "            '<a target=\"_blank\" href=https://colab.research.google.com/notebooks/data_table.ipynb>data table notebook</a>'\n",
              "            + ' to learn more about interactive tables.';\n",
              "          element.innerHTML = '';\n",
              "          dataTable['output_type'] = 'display_data';\n",
              "          await google.colab.output.renderOutput(dataTable, element);\n",
              "          const docLink = document.createElement('div');\n",
              "          docLink.innerHTML = docLinkHtml;\n",
              "          element.appendChild(docLink);\n",
              "        }\n",
              "      </script>\n",
              "    </div>\n",
              "  </div>\n",
              "  "
            ]
          },
          "metadata": {},
          "execution_count": 6
        }
      ],
      "source": [
        "df.head()"
      ]
    },
    {
      "cell_type": "code",
      "execution_count": 7,
      "id": "b1267351",
      "metadata": {
        "id": "b1267351",
        "colab": {
          "base_uri": "https://localhost:8080/"
        },
        "outputId": "dcf2c6dc-48c9-4b1a-b9a0-537fcdff55e4"
      },
      "outputs": [
        {
          "output_type": "stream",
          "name": "stdout",
          "text": [
            "<class 'pandas.core.frame.DataFrame'>\n",
            "RangeIndex: 500 entries, 0 to 499\n",
            "Data columns (total 5 columns):\n",
            " #   Column    Non-Null Count  Dtype  \n",
            "---  ------    --------------  -----  \n",
            " 0   id        500 non-null    int64  \n",
            " 1   columna1  500 non-null    float64\n",
            " 2   columna2  500 non-null    float64\n",
            " 3   columna3  500 non-null    float64\n",
            " 4   columna4  500 non-null    float64\n",
            "dtypes: float64(4), int64(1)\n",
            "memory usage: 19.7 KB\n"
          ]
        }
      ],
      "source": [
        "df.info()"
      ]
    },
    {
      "cell_type": "markdown",
      "id": "2ccaa9a7",
      "metadata": {
        "id": "2ccaa9a7"
      },
      "source": [
        "Ahora, veamos cómo escribir esta tabla dentro de _Cassandra_, primero creamos la tabla, debe reemplazar `<nombre_keyspace>` por el nombre de su KEYSPACE."
      ]
    },
    {
      "cell_type": "code",
      "execution_count": 8,
      "id": "e4619320",
      "metadata": {
        "id": "e4619320",
        "colab": {
          "base_uri": "https://localhost:8080/"
        },
        "outputId": "efc73bfa-9e4e-424f-d0e1-1e768ee73af6"
      },
      "outputs": [
        {
          "output_type": "execute_result",
          "data": {
            "text/plain": [
              "<cassandra.cluster.ResultSet at 0x7f9969e30110>"
            ]
          },
          "metadata": {},
          "execution_count": 8
        }
      ],
      "source": [
        "query = \"\"\"\n",
        "CREATE TABLE\n",
        "    test.tabla_pandas (\n",
        "        id INT PRIMARY KEY,\n",
        "        columna1 FLOAT,\n",
        "        columna2 FLOAT,\n",
        "        columna3 FLOAT,\n",
        "        columna4 FLOAT\n",
        "        )\n",
        ";\n",
        "\"\"\"\n",
        "session.execute(query)"
      ]
    },
    {
      "cell_type": "markdown",
      "id": "09201b70",
      "metadata": {
        "id": "09201b70"
      },
      "source": [
        "Ahora insertamos los valores desde `pandas`. Primero, preparamos los campos de la tabla que serán insertados:"
      ]
    },
    {
      "cell_type": "code",
      "execution_count": 9,
      "id": "d678b3c3",
      "metadata": {
        "id": "d678b3c3"
      },
      "outputs": [],
      "source": [
        "query = \"\"\"\n",
        "INSERT INTO\n",
        "    test.tabla_pandas (\n",
        "            id, columna1, columna2,\n",
        "            columna3, columna4\n",
        "            )\n",
        "VALUES\n",
        "    (?, ?, ?, ?, ?)\n",
        ";\n",
        "\"\"\"\n",
        "prepared = session.prepare(query)"
      ]
    },
    {
      "cell_type": "markdown",
      "id": "0bd19f13",
      "metadata": {
        "id": "0bd19f13"
      },
      "source": [
        "Con esto, podemos insertar los valores desde `pandas`:"
      ]
    },
    {
      "cell_type": "code",
      "execution_count": 10,
      "id": "ea17426b",
      "metadata": {
        "id": "ea17426b"
      },
      "outputs": [],
      "source": [
        "for row in df.itertuples():\n",
        "    session.execute(\n",
        "            prepared,\n",
        "            (\n",
        "                row.id, row.columna1, row.columna2,\n",
        "                row.columna3, row.columna4\n",
        "                )\n",
        "            )"
      ]
    },
    {
      "cell_type": "markdown",
      "id": "aaa75997",
      "metadata": {
        "id": "aaa75997"
      },
      "source": [
        "## **2. Lectura**\n",
        "---\n",
        "\n",
        "Ahora, veamos cómo podemos extraer una tabla de _Cassandra_ como un dataframe de `pandas`. Para ello usaremos la siguiente consulta:"
      ]
    },
    {
      "cell_type": "code",
      "execution_count": 11,
      "id": "ec4b71b0",
      "metadata": {
        "id": "ec4b71b0"
      },
      "outputs": [],
      "source": [
        "query = \"\"\"\n",
        "SELECT\n",
        "    id,\n",
        "    columna1 + columna2 AS columna5,\n",
        "    columna3 + columna4 AS columna6\n",
        "FROM\n",
        "    test.tabla_pandas\n",
        ";\n",
        "\"\"\""
      ]
    },
    {
      "cell_type": "code",
      "execution_count": 12,
      "id": "e9993d3f",
      "metadata": {
        "id": "e9993d3f",
        "colab": {
          "base_uri": "https://localhost:8080/",
          "height": 206
        },
        "outputId": "b4c0fa1f-da5c-4b8a-9e40-78e36374ba13"
      },
      "outputs": [
        {
          "output_type": "execute_result",
          "data": {
            "text/plain": [
              "    id  columna5  columna6\n",
              "0   23  0.327734  0.817405\n",
              "1  114  1.066705  0.557381\n",
              "2   53  0.833028  0.441245\n",
              "3  110  1.471545  1.435076\n",
              "4   91  0.546575  1.387706"
            ],
            "text/html": [
              "\n",
              "  <div id=\"df-1b422e09-e40a-4521-9e14-cabd2356d548\">\n",
              "    <div class=\"colab-df-container\">\n",
              "      <div>\n",
              "<style scoped>\n",
              "    .dataframe tbody tr th:only-of-type {\n",
              "        vertical-align: middle;\n",
              "    }\n",
              "\n",
              "    .dataframe tbody tr th {\n",
              "        vertical-align: top;\n",
              "    }\n",
              "\n",
              "    .dataframe thead th {\n",
              "        text-align: right;\n",
              "    }\n",
              "</style>\n",
              "<table border=\"1\" class=\"dataframe\">\n",
              "  <thead>\n",
              "    <tr style=\"text-align: right;\">\n",
              "      <th></th>\n",
              "      <th>id</th>\n",
              "      <th>columna5</th>\n",
              "      <th>columna6</th>\n",
              "    </tr>\n",
              "  </thead>\n",
              "  <tbody>\n",
              "    <tr>\n",
              "      <th>0</th>\n",
              "      <td>23</td>\n",
              "      <td>0.327734</td>\n",
              "      <td>0.817405</td>\n",
              "    </tr>\n",
              "    <tr>\n",
              "      <th>1</th>\n",
              "      <td>114</td>\n",
              "      <td>1.066705</td>\n",
              "      <td>0.557381</td>\n",
              "    </tr>\n",
              "    <tr>\n",
              "      <th>2</th>\n",
              "      <td>53</td>\n",
              "      <td>0.833028</td>\n",
              "      <td>0.441245</td>\n",
              "    </tr>\n",
              "    <tr>\n",
              "      <th>3</th>\n",
              "      <td>110</td>\n",
              "      <td>1.471545</td>\n",
              "      <td>1.435076</td>\n",
              "    </tr>\n",
              "    <tr>\n",
              "      <th>4</th>\n",
              "      <td>91</td>\n",
              "      <td>0.546575</td>\n",
              "      <td>1.387706</td>\n",
              "    </tr>\n",
              "  </tbody>\n",
              "</table>\n",
              "</div>\n",
              "      <button class=\"colab-df-convert\" onclick=\"convertToInteractive('df-1b422e09-e40a-4521-9e14-cabd2356d548')\"\n",
              "              title=\"Convert this dataframe to an interactive table.\"\n",
              "              style=\"display:none;\">\n",
              "        \n",
              "  <svg xmlns=\"http://www.w3.org/2000/svg\" height=\"24px\"viewBox=\"0 0 24 24\"\n",
              "       width=\"24px\">\n",
              "    <path d=\"M0 0h24v24H0V0z\" fill=\"none\"/>\n",
              "    <path d=\"M18.56 5.44l.94 2.06.94-2.06 2.06-.94-2.06-.94-.94-2.06-.94 2.06-2.06.94zm-11 1L8.5 8.5l.94-2.06 2.06-.94-2.06-.94L8.5 2.5l-.94 2.06-2.06.94zm10 10l.94 2.06.94-2.06 2.06-.94-2.06-.94-.94-2.06-.94 2.06-2.06.94z\"/><path d=\"M17.41 7.96l-1.37-1.37c-.4-.4-.92-.59-1.43-.59-.52 0-1.04.2-1.43.59L10.3 9.45l-7.72 7.72c-.78.78-.78 2.05 0 2.83L4 21.41c.39.39.9.59 1.41.59.51 0 1.02-.2 1.41-.59l7.78-7.78 2.81-2.81c.8-.78.8-2.07 0-2.86zM5.41 20L4 18.59l7.72-7.72 1.47 1.35L5.41 20z\"/>\n",
              "  </svg>\n",
              "      </button>\n",
              "      \n",
              "  <style>\n",
              "    .colab-df-container {\n",
              "      display:flex;\n",
              "      flex-wrap:wrap;\n",
              "      gap: 12px;\n",
              "    }\n",
              "\n",
              "    .colab-df-convert {\n",
              "      background-color: #E8F0FE;\n",
              "      border: none;\n",
              "      border-radius: 50%;\n",
              "      cursor: pointer;\n",
              "      display: none;\n",
              "      fill: #1967D2;\n",
              "      height: 32px;\n",
              "      padding: 0 0 0 0;\n",
              "      width: 32px;\n",
              "    }\n",
              "\n",
              "    .colab-df-convert:hover {\n",
              "      background-color: #E2EBFA;\n",
              "      box-shadow: 0px 1px 2px rgba(60, 64, 67, 0.3), 0px 1px 3px 1px rgba(60, 64, 67, 0.15);\n",
              "      fill: #174EA6;\n",
              "    }\n",
              "\n",
              "    [theme=dark] .colab-df-convert {\n",
              "      background-color: #3B4455;\n",
              "      fill: #D2E3FC;\n",
              "    }\n",
              "\n",
              "    [theme=dark] .colab-df-convert:hover {\n",
              "      background-color: #434B5C;\n",
              "      box-shadow: 0px 1px 3px 1px rgba(0, 0, 0, 0.15);\n",
              "      filter: drop-shadow(0px 1px 2px rgba(0, 0, 0, 0.3));\n",
              "      fill: #FFFFFF;\n",
              "    }\n",
              "  </style>\n",
              "\n",
              "      <script>\n",
              "        const buttonEl =\n",
              "          document.querySelector('#df-1b422e09-e40a-4521-9e14-cabd2356d548 button.colab-df-convert');\n",
              "        buttonEl.style.display =\n",
              "          google.colab.kernel.accessAllowed ? 'block' : 'none';\n",
              "\n",
              "        async function convertToInteractive(key) {\n",
              "          const element = document.querySelector('#df-1b422e09-e40a-4521-9e14-cabd2356d548');\n",
              "          const dataTable =\n",
              "            await google.colab.kernel.invokeFunction('convertToInteractive',\n",
              "                                                     [key], {});\n",
              "          if (!dataTable) return;\n",
              "\n",
              "          const docLinkHtml = 'Like what you see? Visit the ' +\n",
              "            '<a target=\"_blank\" href=https://colab.research.google.com/notebooks/data_table.ipynb>data table notebook</a>'\n",
              "            + ' to learn more about interactive tables.';\n",
              "          element.innerHTML = '';\n",
              "          dataTable['output_type'] = 'display_data';\n",
              "          await google.colab.output.renderOutput(dataTable, element);\n",
              "          const docLink = document.createElement('div');\n",
              "          docLink.innerHTML = docLinkHtml;\n",
              "          element.appendChild(docLink);\n",
              "        }\n",
              "      </script>\n",
              "    </div>\n",
              "  </div>\n",
              "  "
            ]
          },
          "metadata": {},
          "execution_count": 12
        }
      ],
      "source": [
        "df = pd.DataFrame(session.execute(query).all())\n",
        "df.head()"
      ]
    },
    {
      "cell_type": "markdown",
      "id": "a8878b8a",
      "metadata": {
        "id": "a8878b8a"
      },
      "source": [
        "Finalmente, eliminamos la tabla creada para este ejercicio:"
      ]
    },
    {
      "cell_type": "code",
      "execution_count": 13,
      "id": "2a505d95",
      "metadata": {
        "id": "2a505d95",
        "colab": {
          "base_uri": "https://localhost:8080/"
        },
        "outputId": "c0ca6d7a-9374-43e5-b033-902f7122dd73"
      },
      "outputs": [
        {
          "output_type": "execute_result",
          "data": {
            "text/plain": [
              "<cassandra.cluster.ResultSet at 0x7f997a934b10>"
            ]
          },
          "metadata": {},
          "execution_count": 13
        }
      ],
      "source": [
        "query = \"\"\"\n",
        "DROP TABLE test.tabla_pandas;\n",
        "\"\"\"\n",
        "session.execute(query, timeout=None)"
      ]
    },
    {
      "cell_type": "markdown",
      "id": "c1719f04",
      "metadata": {
        "id": "c1719f04"
      },
      "source": [
        "## **3. Recursos Adicionales**\n",
        "---\n",
        "\n",
        "* [Python read cassandra data into pandas](https://stackoverflow.com/questions/41247345/python-read-cassandra-data-into-pandas).\n",
        "* [How to insert pandas dataframe into cassandra(https://stackoverflow.com/questions/49108809/how-to-insert-pandas-dataframe-into-cassandra)."
      ]
    },
    {
      "cell_type": "markdown",
      "id": "89af4cc4",
      "metadata": {
        "id": "89af4cc4"
      },
      "source": [
        "## **4. Créditos**\n",
        "---\n",
        "\n",
        "**Profesor**\n",
        "\n",
        "- [Jorge E. Camargo, PhD](https://dis.unal.edu.co/~jecamargom/)\n",
        "\n",
        "**Diseño, desarrollo del notebook y material audiovisual**\n",
        "\n",
        "- [Juan S. Lara MSc](https://www.linkedin.com/in/juan-sebastian-lara-ramirez-43570a214/)\n",
        "\n",
        "**Universidad Nacional de Colombia** - *Facultad de Ingeniería*"
      ]
    }
  ],
  "metadata": {
    "jupytext": {
      "cell_metadata_filter": "-all",
      "main_language": "python",
      "notebook_metadata_filter": "-all"
    },
    "colab": {
      "provenance": []
    },
    "language_info": {
      "name": "python"
    },
    "kernelspec": {
      "name": "python3",
      "display_name": "Python 3"
    },
    "gpuClass": "standard"
  },
  "nbformat": 4,
  "nbformat_minor": 5
}